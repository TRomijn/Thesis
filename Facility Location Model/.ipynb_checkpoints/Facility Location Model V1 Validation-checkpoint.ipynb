{
 "cells": [
  {
   "cell_type": "code",
   "execution_count": 1,
   "metadata": {},
   "outputs": [],
   "source": [
    "# Imports\n",
    "import random\n",
    "import numpy as np\n",
    "import pandas as pd\n",
    "import matplotlib.pyplot as plt"
   ]
  },
  {
   "cell_type": "code",
   "execution_count": null,
   "metadata": {},
   "outputs": [],
   "source": []
  },
  {
   "cell_type": "code",
   "execution_count": 78,
   "metadata": {
    "code_folding": []
   },
   "outputs": [],
   "source": [
    "# Classes\n",
    "class demand_class:\n",
    "    \"\"\"Demand points such as affected cities or villages\"\"\"\n",
    "\n",
    "    def __init__(self, name):\n",
    "        self.name = name\n",
    "        self.type = \"demand\"\n",
    "        self.x = random.randint(0, size_area)\n",
    "        self.y = random.randint(0, size_area)\n",
    "        self.location = (self.x, self.y)\n",
    "\n",
    "        # create random demand (random impacted area)\n",
    "        self.demand = random.random() * 1000\n",
    "\n",
    "\n",
    "class supply_class:\n",
    "    \"\"\"Supply points such as airports or seaports\"\"\"\n",
    "\n",
    "    def __init__(self, name):\n",
    "        self.name = name\n",
    "        self.type = \"supply\"\n",
    "        self.x = random.randint(0, size_area)\n",
    "        self.y = random.randint(0, size_area)\n",
    "        self.location = (self.x, self.y)\n",
    "        self.supply = random.random() * 1000\n",
    "\n",
    "\n",
    "class facility_class:\n",
    "    \"\"\"(Temporary) Distribution centers to distribute supply to demand\"\"\"\n",
    "\n",
    "    def __init__(self, name):\n",
    "        self.name = name\n",
    "        self.type = \"facility\"\n",
    "        self.x = random.randint(0, size_area)\n",
    "        self.y = random.randint(0, size_area)\n",
    "        self.location = (self.x, self.y)\n",
    "        self.operational = 0\n",
    "    \n",
    "#     @property\n",
    "#     def location2(self):\n",
    "#         return (self.x,self.y)\n",
    "\n",
    "\n",
    "# Class is unneccessary\n",
    "# class country:\n",
    "#     \"\"\"The combination of all demand and supply points and facility locations\"\"\"\n",
    "\n",
    "#     def __init__(self, name):\n",
    "#         self.name = name"
   ]
  },
  {
   "cell_type": "code",
   "execution_count": 53,
   "metadata": {},
   "outputs": [],
   "source": [
    "# Globals\n",
    "size_area = 10\n",
    "nr_demand_points = 2\n",
    "nr_supply_points = 1\n",
    "optional_FL = 2\n",
    "max_nr_FL = 1\n",
    "\n",
    "unit_transport_cost = 1"
   ]
  },
  {
   "cell_type": "code",
   "execution_count": 4,
   "metadata": {},
   "outputs": [],
   "source": [
    "# Uncertain variables"
   ]
  },
  {
   "cell_type": "code",
   "execution_count": 4,
   "metadata": {},
   "outputs": [],
   "source": [
    "# Policy levers or decisions variables\n",
    "\n",
    "# pick operational locations\n",
    "operational_location = [3]"
   ]
  },
  {
   "cell_type": "code",
   "execution_count": 5,
   "metadata": {},
   "outputs": [
    {
     "ename": "NameError",
     "evalue": "name 'transportation_costs' is not defined",
     "output_type": "error",
     "traceback": [
      "\u001b[1;31m---------------------------------------------------------------------------\u001b[0m",
      "\u001b[1;31mNameError\u001b[0m                                 Traceback (most recent call last)",
      "\u001b[1;32m<ipython-input-5-2ffba78a85c0>\u001b[0m in \u001b[0;36m<module>\u001b[1;34m()\u001b[0m\n\u001b[0;32m      4\u001b[0m \u001b[1;33m\u001b[0m\u001b[0m\n\u001b[0;32m      5\u001b[0m \u001b[1;31m# objective 1\u001b[0m\u001b[1;33m\u001b[0m\u001b[1;33m\u001b[0m\u001b[0m\n\u001b[1;32m----> 6\u001b[1;33m \u001b[0mtransportation_costs\u001b[0m\u001b[1;33m\u001b[0m\u001b[0m\n\u001b[0m",
      "\u001b[1;31mNameError\u001b[0m: name 'transportation_costs' is not defined"
     ]
    }
   ],
   "source": [
    "# Objective functions\n",
    "# opening costs: objective from gutjahr & Dzubur 2016\n",
    "# costs = construction_costs + transportation_costs\n",
    "\n",
    "# objective 1\n",
    "transportation_costs"
   ]
  },
  {
   "cell_type": "code",
   "execution_count": 45,
   "metadata": {},
   "outputs": [],
   "source": [
    "# Instantiate model\n",
    "\n",
    "# Create airport as a supply point\n",
    "supply_points = []\n",
    "for i in range(nr_supply_points):\n",
    "    supply_points.append(supply_class(name=i))\n",
    "\n",
    "# Create demand points\n",
    "demand_points = []\n",
    "for i in range(nr_demand_points):\n",
    "    demand_points.append(demand_class(name=i))\n",
    "\n",
    "# Create possible facility locations\n",
    "facility_locations = []\n",
    "for i in range(optional_FL):\n",
    "    facility_locations.append(facility_class(name=i))"
   ]
  },
  {
   "cell_type": "code",
   "execution_count": 54,
   "metadata": {},
   "outputs": [],
   "source": [
    "all_nodes = supply_points + facility_locations + demand_points\n",
    "nr_nodes = len(all_nodes)"
   ]
  },
  {
   "cell_type": "code",
   "execution_count": 91,
   "metadata": {},
   "outputs": [],
   "source": [
    "# distance matrix\n",
    "distances = np.zeros([nr_nodes, nr_nodes])"
   ]
  },
  {
   "cell_type": "code",
   "execution_count": 56,
   "metadata": {},
   "outputs": [],
   "source": [
    "def calculate_distance(x1, y1, x2, y2):\n",
    "    dx = x1 - x2\n",
    "    dy = y1 - y2\n",
    "    return (dx**2 + dy**2)**0.5\n",
    "\n",
    "\n"
   ]
  },
  {
   "cell_type": "code",
   "execution_count": 57,
   "metadata": {
    "code_folding": [
     0
    ]
   },
   "outputs": [],
   "source": [
    "# # validated: calculate_distance function\n",
    "# calculate_distance (-1,-1,2,3)\n",
    "# #returns 5.0. # dx = 3, dy = 4 --> distance = 5\n"
   ]
  },
  {
   "cell_type": "code",
   "execution_count": 92,
   "metadata": {
    "code_folding": []
   },
   "outputs": [],
   "source": [
    "# calculate distance matrix\n",
    "for i in range(len(all_nodes)):\n",
    "    # Give all nodes in model an identifier corresponding to position in matrix\n",
    "    all_nodes[i].id = i\n",
    "    for j in range(len(all_nodes)):\n",
    "        dist_ij = calculate_distance(all_nodes[i].x, all_nodes[i].y,\n",
    "                                     all_nodes[j].x, all_nodes[j].y)\n",
    "        distances[i, j] = dist_ij\n",
    "\n"
   ]
  },
  {
   "cell_type": "code",
   "execution_count": 12,
   "metadata": {
    "code_folding": [
     0
    ]
   },
   "outputs": [],
   "source": [
    "# # validated: Check whether distance matrix has been well-calculated\n",
    "# print(distances) # By visually inspecting, we can see that the matrix has been calculated\n",
    "# print([distances[i,i] for i in range(len(all_nodes))])  # Should return only zeros\n",
    "\n",
    "# for i in range(len(distances)): # check for diagonal symmetry\n",
    "#     for j in range(len(distances)):\n",
    "#         print(distances[i,j]==distances[j,i])"
   ]
  },
  {
   "cell_type": "code",
   "execution_count": 13,
   "metadata": {
    "code_folding": [
     0
    ],
    "scrolled": true
   },
   "outputs": [],
   "source": [
    "# # validated: if changes in list A object B also change in list C object B  \n",
    "# # check whether these objects are the same\n",
    "# print(all_nodes[4].__dict__)\n",
    "# print(facility_locations[3].__dict__)\n",
    "\n",
    "# # Start at 1\n",
    "# facility_locations[3].operational = 1\n",
    "# print(facility_locations[3].operational)\n",
    "# print(all_nodes[4].operational)\n",
    "\n",
    "# # Change in FL list to 0\n",
    "# facility_locations[3].operational = 0\n",
    "# print(facility_locations[3].operational)\n",
    "# print(all_nodes[4].operational)\n",
    "\n",
    "# # Change in Full list to 1, \n",
    "# all_nodes[4].operational = 1\n",
    "# print(facility_locations[3].operational)\n",
    "# print(all_nodes[4].operational)\n"
   ]
  },
  {
   "cell_type": "markdown",
   "metadata": {},
   "source": [
    "transportation costs\n",
    "\n",
    "$$Transportation\\_costs=\\sum_{i=0}^{FL}\\sum_{i=0}^{SP\\&DP} distance_{FL,SP|DP} * costs$$\n",
    "\n",
    "Calculates the costs of transportation between all facility locations to all supply and demand points "
   ]
  },
  {
   "cell_type": "code",
   "execution_count": 134,
   "metadata": {
    "code_folding": [
     0
    ]
   },
   "outputs": [],
   "source": [
    "# # OLD calculate transportation costs\n",
    "# def calc_transportation_costs(supply_points, demand_points, facility_locations,\n",
    "#                               distances):\n",
    "#     supply_to_DC = 0\n",
    "#     for a in supply_points + demand_points:\n",
    "#         #     print (a.__dict__)\n",
    "#         for fl in facility_locations:\n",
    "#             #         print(fl.__dict__)\n",
    "#             if fl.operational == 1:\n",
    "#                 #print(fl.id)\n",
    "#                 #print(distances[a.id, fl.id] * unit_transport_cost)\n",
    "#                 supply_to_DC = supply_to_DC + distances[a.id, fl.\n",
    "#                                                         id] * unit_transport_cost\n",
    "\n",
    "#     DC_to_demand = 0\n",
    "\n",
    "#     transportation_costs = supply_to_DC + DC_to_demand\n",
    "#     return transportation_costs"
   ]
  },
  {
   "cell_type": "code",
   "execution_count": 59,
   "metadata": {},
   "outputs": [],
   "source": [
    "# calculate transportation costs\n",
    "def calc_transportation_costs(supply_points, demand_points, facility_locations,\n",
    "                              distances):\n",
    "    transport_costs = 0\n",
    "\n",
    "    for fl in facility_locations:  # For each facility location\n",
    "        #         print(fl.__dict__)\n",
    "        if fl.operational == 1:\n",
    "\n",
    "            for a in supply_points + demand_points:  #for each supply and demand point\n",
    "                #     print (a.__dict__)\n",
    "\n",
    "#                 print(fl.id)\n",
    "                #print(distances[a.id, fl.id] * unit_transport_cost)\n",
    "                transport_costs = transport_costs + distances[a.id, fl.\n",
    "                                                              id] * unit_transport_cost  #add costs of transportation\n",
    "\n",
    "    return transport_costs\n",
    "\n",
    "\n",
    "# requires validation"
   ]
  },
  {
   "cell_type": "code",
   "execution_count": null,
   "metadata": {},
   "outputs": [],
   "source": [
    "# VALIDATED: calculation transportation costs\n",
    "Manually calculated to see the same outcome "
   ]
  },
  {
   "cell_type": "code",
   "execution_count": 81,
   "metadata": {
    "scrolled": true
   },
   "outputs": [
    {
     "name": "stdout",
     "output_type": "stream",
     "text": [
      "supply (3, 3)\n",
      "facility (6, 3)\n",
      "facility (3, 6)\n",
      "demand (6, 10)\n",
      "demand (3, 3)\n"
     ]
    }
   ],
   "source": [
    "for x in all_nodes:\n",
    "    print(x.type, x.location)"
   ]
  },
  {
   "cell_type": "code",
   "execution_count": 90,
   "metadata": {},
   "outputs": [],
   "source": [
    "facility_locations[1].x = 3\n",
    "facility_locations[1].y = 10\n",
    "facility_locations[1].location = (3,10)"
   ]
  },
  {
   "cell_type": "code",
   "execution_count": 79,
   "metadata": {},
   "outputs": [
    {
     "ename": "AttributeError",
     "evalue": "'facility_class' object has no attribute 'location2'",
     "output_type": "error",
     "traceback": [
      "\u001b[1;31m---------------------------------------------------------------------------\u001b[0m",
      "\u001b[1;31mAttributeError\u001b[0m                            Traceback (most recent call last)",
      "\u001b[1;32m<ipython-input-79-8f8b571d589b>\u001b[0m in \u001b[0;36m<module>\u001b[1;34m()\u001b[0m\n\u001b[1;32m----> 1\u001b[1;33m \u001b[0mfacility_locations\u001b[0m\u001b[1;33m[\u001b[0m\u001b[1;36m0\u001b[0m\u001b[1;33m]\u001b[0m\u001b[1;33m.\u001b[0m\u001b[0mlocation2\u001b[0m\u001b[1;33m(\u001b[0m\u001b[1;33m)\u001b[0m\u001b[1;33m\u001b[0m\u001b[0m\n\u001b[0m",
      "\u001b[1;31mAttributeError\u001b[0m: 'facility_class' object has no attribute 'location2'"
     ]
    }
   ],
   "source": []
  },
  {
   "cell_type": "code",
   "execution_count": 63,
   "metadata": {
    "scrolled": true
   },
   "outputs": [
    {
     "data": {
      "text/plain": [
       "0"
      ]
     },
     "execution_count": 63,
     "metadata": {},
     "output_type": "execute_result"
    }
   ],
   "source": [
    "calc_transportation_costs(supply_points,demand_points,facility_locations,distances)"
   ]
  },
  {
   "cell_type": "code",
   "execution_count": 93,
   "metadata": {
    "scrolled": true
   },
   "outputs": [
    {
     "name": "stdout",
     "output_type": "stream",
     "text": [
      "1 13.0\n",
      "2 17.0\n"
     ]
    }
   ],
   "source": [
    "for i in facility_locations:\n",
    "    i.operational = 1\n",
    "\n",
    "    print(i.id,\n",
    "          calc_transportation_costs(supply_points, demand_points,\n",
    "                                    facility_locations, distances))\n",
    "\n",
    "    i.operational = 0"
   ]
  },
  {
   "cell_type": "markdown",
   "metadata": {},
   "source": [
    "# graphical representation of case"
   ]
  },
  {
   "cell_type": "code",
   "execution_count": 94,
   "metadata": {
    "scrolled": true
   },
   "outputs": [
    {
     "data": {
      "image/png": "[encoded data removed]",
      "text/plain": [
       "<Figure size 432x288 with 1 Axes>"
      ]
     },
     "metadata": {},
     "output_type": "display_data"
    }
   ],
   "source": [
    "plt.axis([-0.5,10.5,-0.5,10.5])\n",
    "\n",
    "for x in demand_points:\n",
    "    plt.scatter(x.x, x.y,c=\"green\",marker=\"<\")\n",
    "for x in facility_locations:\n",
    "    plt.scatter(x.x, x.y,c=\"red\", marker=\"x\")\n",
    "for x in supply_points:\n",
    "    plt.scatter(x.x, x.y,c=\"blue\", marker=\">\")\n"
   ]
  }
 ],
 "metadata": {
  "kernelspec": {
   "display_name": "Python 3",
   "language": "python",
   "name": "python3"
  },
  "language_info": {
   "codemirror_mode": {
    "name": "ipython",
    "version": 3
   },
   "file_extension": ".py",
   "mimetype": "text/x-python",
   "name": "python",
   "nbconvert_exporter": "python",
   "pygments_lexer": "ipython3",
   "version": "3.6.4"
  }
 },
 "nbformat": 4,
 "nbformat_minor": 2
}
