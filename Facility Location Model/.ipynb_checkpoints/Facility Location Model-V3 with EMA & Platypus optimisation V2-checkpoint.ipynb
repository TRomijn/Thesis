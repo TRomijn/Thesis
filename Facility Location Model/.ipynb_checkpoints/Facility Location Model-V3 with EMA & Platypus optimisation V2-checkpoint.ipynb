{
 "cells": [
  {
   "cell_type": "markdown",
   "metadata": {},
   "source": [
    "## Versions\n",
    "Facility Location Model Versions:\n",
    "* V1: Includes objective: transport costs\n",
    "* V2: Includes allocation of locations to supply hubs\n",
    "* V3: Includes objective: opening costs\n",
    "\n",
    "EMA & Platypus optimisation Versions:\n",
    "* V1: includes optimisation via Platypus\n",
    "* V2: in progress.."
   ]
  },
  {
   "cell_type": "markdown",
   "metadata": {
    "heading_collapsed": true
   },
   "source": [
    "# Model XLRM\n",
    "\n",
    "* External factors\n",
    "* Levers\n",
    "* Relations\n",
    "* Metrics of performance"
   ]
  },
  {
   "cell_type": "markdown",
   "metadata": {
    "hidden": true
   },
   "source": [
    "## System:"
   ]
  },
  {
   "cell_type": "code",
   "execution_count": null,
   "metadata": {
    "hidden": true
   },
   "outputs": [],
   "source": []
  },
  {
   "cell_type": "code",
   "execution_count": null,
   "metadata": {
    "hidden": true
   },
   "outputs": [],
   "source": []
  },
  {
   "cell_type": "markdown",
   "metadata": {
    "hidden": true
   },
   "source": [
    "## External Factors: Define model"
   ]
  },
  {
   "cell_type": "code",
   "execution_count": 4,
   "metadata": {
    "code_folding": [],
    "hidden": true
   },
   "outputs": [],
   "source": [
    "# Impact landscape --> Demand"
   ]
  },
  {
   "cell_type": "markdown",
   "metadata": {
    "hidden": true
   },
   "source": [
    "## Levers "
   ]
  },
  {
   "cell_type": "code",
   "execution_count": 5,
   "metadata": {
    "hidden": true
   },
   "outputs": [],
   "source": [
    "# operational_facilities = [fl1,fl2,fl3,fl4]\n",
    "\n",
    "# constraints:\n",
    "# fl1,fl2,fl3,fl4: (0,1) # 0: not operational, 1: operational"
   ]
  },
  {
   "cell_type": "markdown",
   "metadata": {
    "hidden": true
   },
   "source": [
    "## Relations "
   ]
  },
  {
   "cell_type": "code",
   "execution_count": null,
   "metadata": {
    "hidden": true
   },
   "outputs": [],
   "source": []
  },
  {
   "cell_type": "markdown",
   "metadata": {
    "hidden": true
   },
   "source": [
    "## Metrics of performance"
   ]
  },
  {
   "cell_type": "markdown",
   "metadata": {
    "hidden": true
   },
   "source": [
    "#### transportation costs\n",
    "\n",
    "$$Transportation\\_costs=\\sum_{i=0}^{FL}\\sum_{i=0}^{SP\\&DP} distance_{FL,SP|DP} * costs$$\n",
    "\n",
    "Calculates the costs of transportation between all facility locations to all supply and demand points "
   ]
  },
  {
   "cell_type": "markdown",
   "metadata": {
    "hidden": true
   },
   "source": [
    "## Model"
   ]
  },
  {
   "cell_type": "markdown",
   "metadata": {
    "hidden": true
   },
   "source": [
    "Pseudocode\n",
    "    \n",
    "    Model:\n",
    "        FL Options: FL1,FL2,FL3, ..., FLn\n",
    "\n",
    "        For option in options:\n",
    "            allocate \n",
    "            calculate costs\n",
    "            calculate times\n",
    "            calculate coverage\n",
    "            calculate xx\n",
    "            \n",
    "    Sequence of analysis:\n",
    "        Initialise case (input1,input2,input3) #demand_landscape, \n",
    "        Optimise (obj1,obj2,obj3)\n",
    "        Check Robustness (unc1,unc2,unc3)\n",
    "        Implement best option\n",
    "\n",
    "        Change uncertainties based on new information due to new FL\n",
    "            Do this by reducing uncertainty the most for demand points closer to their preferred DC"
   ]
  },
  {
   "cell_type": "code",
   "execution_count": null,
   "metadata": {
    "hidden": true
   },
   "outputs": [],
   "source": []
  },
  {
   "cell_type": "markdown",
   "metadata": {},
   "source": [
    "# Model Python"
   ]
  },
  {
   "cell_type": "markdown",
   "metadata": {},
   "source": [
    "## Model structure"
   ]
  },
  {
   "cell_type": "code",
   "execution_count": 1,
   "metadata": {},
   "outputs": [],
   "source": [
    "# Imports\n",
    "import random\n",
    "import numpy as np\n",
    "import pandas as pd\n",
    "import matplotlib.pyplot as plt\n",
    "# import helper_functions as hf # helpful?"
   ]
  },
  {
   "cell_type": "code",
   "execution_count": 24,
   "metadata": {
    "code_folding": []
   },
   "outputs": [],
   "source": [
    "# Globals\n",
    "size_area = 10\n",
    "nr_demand_points = 10\n",
    "nr_supply_points = 1\n",
    "optional_FL = 10\n",
    "max_nr_FL = 2\n",
    "\n",
    "\n",
    "#parameters costs\n",
    "unit_transport_cost = 1\n",
    "unit_opening_costs = 100\n"
   ]
  },
  {
   "cell_type": "code",
   "execution_count": 2,
   "metadata": {
    "code_folding": []
   },
   "outputs": [],
   "source": [
    "# Classes\n",
    "class demand_class:\n",
    "    \"\"\"Demand points such as affected cities or villages\"\"\"\n",
    "\n",
    "    def __init__(self, name):\n",
    "        self.name = \"DP{}\".format(name)\n",
    "        self.type = \"demand\"\n",
    "        self.x = random.uniform(0, size_area)\n",
    "        self.y = random.uniform(0, size_area)\n",
    "        self.location = (self.x, self.y)\n",
    "\n",
    "        # create random demand (random impacted area)\n",
    "        self.demand = random.random() * 1000\n",
    "\n",
    "\n",
    "class supply_class:\n",
    "    \"\"\"Supply points such as airports or seaports\"\"\"\n",
    "\n",
    "    def __init__(self, name):\n",
    "        self.name = \"SP{}\".format(name)\n",
    "        self.type = \"supply\"\n",
    "        self.x = random.uniform(0, size_area)\n",
    "        self.y = random.uniform(0, size_area)\n",
    "        self.location = (self.x, self.y)\n",
    "        self.supply = random.random() * 1000\n",
    "        self.operational = 1\n",
    "\n",
    "\n",
    "class facility_class:\n",
    "    \"\"\"(Temporary) Distribution centers to distribute supply to demand\"\"\"\n",
    "\n",
    "    def __init__(self, name):\n",
    "        self.name = \"FL{}\".format(name)\n",
    "        self.type = \"facility\"\n",
    "        self.x = random.uniform(0, size_area)\n",
    "        self.y = random.uniform(0, size_area)\n",
    "        self.location = (self.x, self.y)\n",
    "        self.operational = 0\n",
    "    \n",
    "    @property #test?\n",
    "    def location2(self):\n",
    "        return (self.x,self.y)\n",
    "\n",
    "\n",
    "# Class is unneccessary\n",
    "# class country:\n",
    "#     \"\"\"The combination of all demand and supply points and facility locations\"\"\"\n",
    "\n",
    "#     def __init__(self, name):\n",
    "#         self.name = name"
   ]
  },
  {
   "cell_type": "markdown",
   "metadata": {},
   "source": [
    "### Instantiate model"
   ]
  },
  {
   "cell_type": "code",
   "execution_count": 6,
   "metadata": {
    "code_folding": []
   },
   "outputs": [],
   "source": [
    "# Instantiate model\n",
    "\n",
    "# Create airport as a supply point\n",
    "supply_points = []\n",
    "for i in range(nr_supply_points):\n",
    "    supply_points.append(supply_class(name=i))\n",
    "\n",
    "# Create demand points\n",
    "demand_points = []\n",
    "for i in range(nr_demand_points):\n",
    "    demand_points.append(demand_class(name=i))\n",
    "\n",
    "# Create possible facility locations\n",
    "facility_locations = []\n",
    "for i in range(optional_FL):\n",
    "    facility_locations.append(facility_class(name=i))"
   ]
  },
  {
   "cell_type": "markdown",
   "metadata": {},
   "source": [
    "$Allocation\\_matrix:  A$\n",
    "\n",
    "$Distance\\_matrix:  D$"
   ]
  },
  {
   "cell_type": "code",
   "execution_count": 7,
   "metadata": {
    "code_folding": []
   },
   "outputs": [],
   "source": [
    "# Organise all nodes and create distance matrix\n",
    "all_nodes = supply_points + facility_locations + demand_points\n",
    "nr_nodes = len(all_nodes)\n",
    "\n",
    "# distance matrix\n",
    "distances = np.zeros([nr_nodes, nr_nodes])\n",
    "\n",
    "def calculate_distance(x1, y1, x2, y2):\n",
    "    dx = x1 - x2\n",
    "    dy = y1 - y2\n",
    "    return (dx**2 + dy**2)**0.5\n",
    "\n",
    "\n",
    "\n",
    "\n",
    "# # validated: calculate_distance function\n",
    "# calculate_distance (-1,-1,2,3)\n",
    "# #returns 5.0. # dx = 3, dy = 4 --> distance = 5\n",
    "\n",
    "\n",
    "# calculate distance matrix\n",
    "for i in range(len(all_nodes)):\n",
    "    # Give all nodes in model an identifier corresponding to position in matrix\n",
    "    all_nodes[i].id = i\n",
    "    for j in range(len(all_nodes)):\n",
    "        dist_ij = calculate_distance(all_nodes[i].x, all_nodes[i].y,\n",
    "                                     all_nodes[j].x, all_nodes[j].y)\n",
    "        distances[i, j] = dist_ij\n",
    "\n",
    "# set distance to self to big distance\n",
    "max_dist = distances.max()\n",
    "for i in range(len(distances)):\n",
    "    distances[i,i] = max_dist * 100"
   ]
  },
  {
   "cell_type": "code",
   "execution_count": 45,
   "metadata": {},
   "outputs": [
    {
     "name": "stdout",
     "output_type": "stream",
     "text": [
      "These hubs are operational: [0, 8]\n"
     ]
    }
   ],
   "source": [
    "# Set one of the FLs on operational to test\n",
    "facility_locations[7].operational = 1\n",
    "print(\"These hubs are operational:\", [a.id for a in supply_points + facility_locations if a.operational is 1])"
   ]
  },
  {
   "cell_type": "code",
   "execution_count": 10,
   "metadata": {
    "code_folding": [
     1
    ]
   },
   "outputs": [],
   "source": [
    "# allocate each demand point to either a supply point or a facility location\n",
    "def allocate(supply_points, demand_points, facility_locations, distances):\n",
    "    \"\"\"\n",
    "    Returns an allocation matrix for [n,h]\n",
    "    if [n,h] is 1: node n is allocated to supply hub h\n",
    "    The full size of the matrix is n*n\n",
    "    indexes are based on node.id\n",
    "    \n",
    "    Assumptions:\n",
    "    All allocations are made based on the minimum distance\n",
    "    Supply points are not allocated to other nodes, since they are supplied by upstream logistics, which is out of scope    \n",
    "    \"\"\"\n",
    "\n",
    "    # list of all IDs for operational supply points and facility locations\n",
    "    operational_hubs_id = [\n",
    "        a.id for a in supply_points + facility_locations if a.operational is 1\n",
    "    ]\n",
    "\n",
    "    #allocation matrix of all_nodes x all_nodes\n",
    "    allocation_matrix = np.zeros([len(all_nodes), len(all_nodes)])\n",
    "\n",
    "    # for each operational facility location:\n",
    "    # we skip supply points, because we don't consider upstream logistics\n",
    "    for fl in [fl for fl in facility_locations if fl.operational is 1]:\n",
    "        # choose one of other operational hubs that is closest (distance to iself is made very large while creating distance matrix)\n",
    "        closest_i = np.argmin(\n",
    "            [distances[hub_id, fl.id] for hub_id in operational_hubs_id])\n",
    "        # allocate me to that hub\n",
    "        allocation_matrix[fl.id, operational_hubs_id[closest_i]] = 1\n",
    "\n",
    "    # For each demand point\n",
    "    for dp in demand_points:\n",
    "        # Assumption: Each demand point gets 1 location allocated. If 2 locations have same distance, choose first\n",
    "        # check which supply point or facility location is closest\n",
    "        # closest = the index of the minimum distance of the list of distances between this demand point and all supply points\n",
    "        closest_i = np.argmin(\n",
    "            [distances[hub_id, dp.id] for hub_id in operational_hubs_id])\n",
    "\n",
    "        # Set allocation 1 if j is closest to this demand point (or i)\n",
    "        #i: demand point index, j: supply point index\n",
    "        allocation_matrix[dp.id, operational_hubs_id[closest_i]] = 1\n",
    "\n",
    "    return allocation_matrix"
   ]
  },
  {
   "cell_type": "code",
   "execution_count": 12,
   "metadata": {
    "scrolled": true
   },
   "outputs": [],
   "source": [
    "allocation_matrix = allocate(supply_points,demand_points,facility_locations,distances)"
   ]
  },
  {
   "cell_type": "code",
   "execution_count": 14,
   "metadata": {
    "code_folding": []
   },
   "outputs": [],
   "source": [
    "# OLD function calculate transportation costs\n",
    "def calc_transportation_costs_old(supply_points, demand_points,\n",
    "                               facility_locations, distances):\n",
    "    \"\"\"\n",
    "    TODO: write description\n",
    "    This old function calculates costs assuming 1 operational location\n",
    "    It also assumes that the supply point only delivers to the FL\n",
    "    \"\"\"\n",
    "    # create variable representing costs\n",
    "    transport_costs = 0\n",
    "    # For each facility location\n",
    "    for fl in facility_locations:\n",
    "        # for each operational facility location\n",
    "        if fl.operational == 1:\n",
    "            #for each supply and demand point\n",
    "            for a in supply_points + demand_points:\n",
    "                #add costs of transportation\n",
    "                transport_costs = transport_costs + distances[a.id, fl.\n",
    "                                                              id] * unit_transport_cost\n",
    "\n",
    "    return transport_costs\n",
    "\n",
    "\n",
    "# requires validation"
   ]
  },
  {
   "cell_type": "code",
   "execution_count": 40,
   "metadata": {},
   "outputs": [],
   "source": [
    "def calc_costs():\n",
    "\n",
    "    # calc opening costs of facilities\n",
    "    # assumption: supply point, i.e. airport, is already opened\n",
    "    opened_fl = sum([fl.operational for fl in facility_locations])\n",
    "    total_opening_costs = opened_fl * unit_opening_costs\n",
    "\n",
    "    # Calc transportation costs\n",
    "    total_distance = (allocation_matrix * distances).sum()\n",
    "    transportation_costs = total_distance * unit_transport_cost\n",
    "\n",
    "    \n",
    "    # Calc social costs\n",
    "    # TODO\n",
    "    # Now social logistics costs is included in transportation cost\n",
    "\n",
    "    return total_opening_costs + transportation_costs"
   ]
  },
  {
   "cell_type": "code",
   "execution_count": 42,
   "metadata": {},
   "outputs": [
    {
     "data": {
      "text/plain": [
       "145.21196945843616"
      ]
     },
     "execution_count": 42,
     "metadata": {},
     "output_type": "execute_result"
    }
   ],
   "source": [
    "calc_costs()"
   ]
  },
  {
   "cell_type": "code",
   "execution_count": 18,
   "metadata": {},
   "outputs": [],
   "source": [
    "# # Objective functions\n",
    "# # opening costs: objective from gutjahr & Dzubur 2016\n",
    "# # costs = construction_costs + transportation_costs\n",
    "\n",
    "# # objective 1\n",
    "\n",
    "# construction_costs = 0\n",
    "# transportation_costs = calc_transportation_costs\n",
    "# costs = transportation_costs + construction_costs\n",
    "# minimise(costs)"
   ]
  },
  {
   "cell_type": "markdown",
   "metadata": {},
   "source": [
    "# Case results "
   ]
  },
  {
   "cell_type": "code",
   "execution_count": 29,
   "metadata": {
    "code_folding": [
     0
    ],
    "scrolled": true
   },
   "outputs": [],
   "source": [
    "# # test to check optimisation\n",
    "# for i in facility_locations:\n",
    "#     i.operational = 1\n",
    "\n",
    "#     print(i.name,i.id,\n",
    "#           calc_transportation_costs(supply_points, demand_points,\n",
    "#                                     facility_locations, distances))\n",
    "\n",
    "#     i.operational = 0"
   ]
  },
  {
   "cell_type": "markdown",
   "metadata": {},
   "source": [
    "## Graphical representation of case"
   ]
  },
  {
   "cell_type": "markdown",
   "metadata": {},
   "source": [
    "### Creating allocation lines"
   ]
  },
  {
   "cell_type": "code",
   "execution_count": 33,
   "metadata": {},
   "outputs": [],
   "source": [
    "allocation_lines = np.zeros([len(all_nodes), 4])\n",
    "# creates matrix x1,y1,x2,y2\n",
    "for i, line in enumerate(zip(allocation_matrix)):\n",
    "    if allocation_matrix[i].sum() == 0:\n",
    "        continue\n",
    "    allocation_lines[i, 0:2] = list(all_nodes[i].location)\n",
    "    # Assumption: Only 1 location allocated # if changing: loop over list comprehension: [more than 0 allocated]\n",
    "    allocation_lines[i, 2:4] = list(\n",
    "        (all_nodes)[np.argmax(line)].location)"
   ]
  },
  {
   "cell_type": "code",
   "execution_count": 34,
   "metadata": {
    "scrolled": false
   },
   "outputs": [
    {
     "data": {
      "text/plain": [
       "array([[0.        , 0.        , 0.        , 0.        ],\n",
       "       [0.        , 0.        , 0.        , 0.        ],\n",
       "       [0.        , 0.        , 0.        , 0.        ],\n",
       "       [0.        , 0.        , 0.        , 0.        ],\n",
       "       [0.        , 0.        , 0.        , 0.        ],\n",
       "       [0.        , 0.        , 0.        , 0.        ],\n",
       "       [0.        , 0.        , 0.        , 0.        ],\n",
       "       [0.        , 0.        , 0.        , 0.        ],\n",
       "       [1.86105512, 0.66703163, 0.83677107, 3.9570269 ],\n",
       "       [0.        , 0.        , 0.        , 0.        ],\n",
       "       [0.        , 0.        , 0.        , 0.        ],\n",
       "       [1.96063773, 3.66246539, 0.83677107, 3.9570269 ],\n",
       "       [6.76720687, 1.9222047 , 1.86105512, 0.66703163],\n",
       "       [7.63748162, 9.11832568, 0.83677107, 3.9570269 ],\n",
       "       [3.14217672, 1.99387299, 1.86105512, 0.66703163],\n",
       "       [5.81605197, 6.88285141, 0.83677107, 3.9570269 ],\n",
       "       [8.74987993, 6.20117727, 0.83677107, 3.9570269 ],\n",
       "       [0.78799731, 1.59283441, 1.86105512, 0.66703163],\n",
       "       [4.8549508 , 5.27608265, 0.83677107, 3.9570269 ],\n",
       "       [0.63651151, 0.28635434, 1.86105512, 0.66703163],\n",
       "       [3.95207129, 1.08437324, 1.86105512, 0.66703163]])"
      ]
     },
     "execution_count": 34,
     "metadata": {},
     "output_type": "execute_result"
    }
   ],
   "source": [
    "allocation_lines"
   ]
  },
  {
   "cell_type": "markdown",
   "metadata": {},
   "source": [
    "### Plotting Locations and allocations"
   ]
  },
  {
   "cell_type": "code",
   "execution_count": 36,
   "metadata": {
    "scrolled": true
   },
   "outputs": [
    {
     "name": "stdout",
     "output_type": "stream",
     "text": [
      "yes\n"
     ]
    },
    {
     "data": {
      "image/png": "[encoded data removed]",
      "text/plain": [
       "<Figure size 432x288 with 1 Axes>"
      ]
     },
     "metadata": {},
     "output_type": "display_data"
    }
   ],
   "source": [
    "plt.axis([-0.5,10.5,-0.5,10.5])\n",
    "\n",
    "for x in demand_points:\n",
    "    plt.scatter(x.x, x.y,c=\"green\",marker=\"<\")\n",
    "for x in facility_locations:\n",
    "    if x.operational == 0:\n",
    "        plt.scatter(x.x, x.y,c=\"red\", marker=\"x\",s=10)\n",
    "    if x.operational == 1:\n",
    "        print(\"yes\")\n",
    "        plt.scatter(x.x, x.y,c=\"blue\", marker=\"x\",s=50)\n",
    "for x in supply_points:\n",
    "    plt.scatter(x.x, x.y,c=\"blue\", marker=\">\")\n",
    "\n",
    "# plot allocation lines\n",
    "\n",
    "for line in allocation_lines:\n",
    "    plt.plot(line[[0,2]], line[[1,3]], c=\"green\")\n",
    "\n",
    "# plt.plot([0,4], [8,9])\n"
   ]
  },
  {
   "cell_type": "code",
   "execution_count": 39,
   "metadata": {},
   "outputs": [
    {
     "data": {
      "image/png": "[encoded data removed]",
      "text/plain": [
       "<Figure size 432x288 with 1 Axes>"
      ]
     },
     "metadata": {},
     "output_type": "display_data"
    }
   ],
   "source": [
    "plt.axis([-0.5,10.5,-0.5,10.5])\n",
    "\n",
    "for x in demand_points:\n",
    "    plt.scatter(x.x, x.y,c=\"green\",marker=\"<\")\n",
    "for x in facility_locations:\n",
    "#     if x.operational == 1:\n",
    "    plt.scatter(x.x, x.y,c=\"red\", marker=\"x\")\n",
    "for x in supply_points:\n",
    "    plt.scatter(x.x, x.y,c=\"blue\", marker=\">\")\n"
   ]
  },
  {
   "cell_type": "markdown",
   "metadata": {},
   "source": [
    "# EMA model evaluator\n",
    "\n"
   ]
  },
  {
   "cell_type": "code",
   "execution_count": 1,
   "metadata": {},
   "outputs": [],
   "source": [
    "import ema_workbench as em\n",
    "from ema_workbench import (Model, RealParameter, ScalarOutcome, ema_logging,\n",
    "                           perform_experiments)"
   ]
  },
  {
   "cell_type": "code",
   "execution_count": 3,
   "metadata": {},
   "outputs": [
    {
     "data": {
      "text/plain": [
       "<Logger EMA (DEBUG)>"
      ]
     },
     "execution_count": 3,
     "metadata": {},
     "output_type": "execute_result"
    }
   ],
   "source": [
    "ema_logging.log_to_stderr(ema_logging.INFO)"
   ]
  },
  {
   "cell_type": "code",
   "execution_count": 11,
   "metadata": {},
   "outputs": [],
   "source": [
    "#Instantiate EMA model\n",
    "FL_model = Model('flmodel', function=FL_model)\n",
    "\n",
    "#Specify uncertainties\n",
    "\n",
    "FL_model.uncertainties = [\n",
    "    RealParameter('x', 0, 1),\n",
    "    RealParameter('x', 0, 1),\n",
    "    RealParameter('x', 0, 1)\n",
    "]\n",
    "#Specify constants\n",
    "FL_model.constants = [\n",
    "    Constant('x', 0.41),\n",
    "    Constant('x', 100),\n",
    "    Constant('x', 100)\n",
    "]\n",
    "#Specify levers\n",
    "FL_model.levers = [\n",
    "    RealParameter(\"x\", -2, 2),\n",
    "    RealParameter(\"x\", -2, 2),\n",
    "    RealParameter(\"x\", -2, 2),\n",
    "    RealParameter(\"x\", -2, 2)\n",
    "]\n",
    "#Specify outcomes\n",
    "FL_model.outcomes = [\n",
    "    ScalarOutcome('x'),\n",
    "    ScalarOutcome('x'),\n",
    "    ScalarOutcome('x'),\n",
    "    ScalarOutcome('x')\n",
    "]"
   ]
  },
  {
   "cell_type": "code",
   "execution_count": null,
   "metadata": {},
   "outputs": [],
   "source": []
  },
  {
   "cell_type": "code",
   "execution_count": null,
   "metadata": {},
   "outputs": [],
   "source": []
  },
  {
   "cell_type": "markdown",
   "metadata": {},
   "source": [
    "# Platypus optimisation"
   ]
  },
  {
   "cell_type": "code",
   "execution_count": 14,
   "metadata": {},
   "outputs": [],
   "source": [
    "# imports\n",
    "from platypus import NSGAII, Problem, Binary, Real, Integer"
   ]
  },
  {
   "cell_type": "code",
   "execution_count": 10,
   "metadata": {},
   "outputs": [],
   "source": [
    "def FL_model(d_vars=None): # None to make compatible with EMA\n",
    "\n",
    "    # set global operational FL\n",
    "    for i in range(len(d_vars)):\n",
    "        facility_locations[i].operational = d_vars[i]\n",
    "\n",
    "    trans_costs = calc_transportation_costs(supply_points, demand_points,\n",
    "                                      facility_locations, distances)\n",
    "\n",
    "    costs = trans_costs #+ other costs\n",
    "    \n",
    "    objectives = [\n",
    "        costs,\n",
    "    ]\n",
    "    constraints = [sum(d_vars),]\n",
    "\n",
    "    return objectives, constraints"
   ]
  },
  {
   "cell_type": "code",
   "execution_count": 54,
   "metadata": {},
   "outputs": [],
   "source": [
    "# nr of decision variables, number of objectives, number of constraints\n",
    "problem = Problem(optional_FL, 1, 1)\n",
    "\n",
    "# Decision variables for possible facility locations\n",
    "problem.types[:] = [Integer(0,1) for a in range(optional_FL)]\n",
    "\n",
    "# constraint: number of total operation FL\n",
    "problem.constraints[:] = \"=={}\".format(max_nr_FL)\n",
    "problem.function = FL_model\n",
    "\n",
    "algorithm = NSGAII(problem)\n",
    "algorithm.run(10000)"
   ]
  },
  {
   "cell_type": "code",
   "execution_count": 50,
   "metadata": {},
   "outputs": [
    {
     "data": {
      "text/plain": [
       "'==2'"
      ]
     },
     "execution_count": 50,
     "metadata": {},
     "output_type": "execute_result"
    }
   ],
   "source": []
  },
  {
   "cell_type": "code",
   "execution_count": 17,
   "metadata": {},
   "outputs": [],
   "source": [
    "from platypus import nondominated"
   ]
  },
  {
   "cell_type": "code",
   "execution_count": null,
   "metadata": {},
   "outputs": [],
   "source": []
  },
  {
   "cell_type": "code",
   "execution_count": 55,
   "metadata": {
    "scrolled": true
   },
   "outputs": [],
   "source": [
    "a = nondominated (algorithm.result)"
   ]
  },
  {
   "cell_type": "code",
   "execution_count": 57,
   "metadata": {},
   "outputs": [
    {
     "data": {
      "text/plain": [
       "[Solution[[False],[True],[False],[False],[False],[False],[False],[False],[True],[False]|68.98869101013045|0.0],\n",
       " Solution[[False],[True],[False],[False],[False],[False],[False],[False],[True],[False]|68.98869101013045|0.0],\n",
       " Solution[[False],[True],[False],[False],[False],[False],[False],[False],[True],[False]|68.98869101013045|0.0],\n",
       " Solution[[False],[True],[False],[False],[False],[False],[False],[False],[True],[False]|68.98869101013045|0.0],\n",
       " Solution[[False],[True],[False],[False],[False],[False],[False],[False],[True],[False]|68.98869101013045|0.0],\n",
       " Solution[[False],[True],[False],[False],[False],[False],[False],[False],[True],[False]|68.98869101013045|0.0],\n",
       " Solution[[False],[True],[False],[False],[False],[False],[False],[False],[True],[False]|68.98869101013045|0.0],\n",
       " Solution[[False],[True],[False],[False],[False],[False],[False],[False],[True],[False]|68.98869101013045|0.0],\n",
       " Solution[[False],[True],[False],[False],[False],[False],[False],[False],[True],[False]|68.98869101013045|0.0],\n",
       " Solution[[False],[True],[False],[False],[False],[False],[False],[False],[True],[False]|68.98869101013045|0.0],\n",
       " Solution[[False],[True],[False],[False],[False],[False],[False],[False],[True],[False]|68.98869101013045|0.0],\n",
       " Solution[[False],[True],[False],[False],[False],[False],[False],[False],[True],[False]|68.98869101013045|0.0],\n",
       " Solution[[False],[True],[False],[False],[False],[False],[False],[False],[True],[False]|68.98869101013045|0.0],\n",
       " Solution[[False],[True],[False],[False],[False],[False],[False],[False],[True],[False]|68.98869101013045|0.0],\n",
       " Solution[[False],[True],[False],[False],[False],[False],[False],[False],[True],[False]|68.98869101013045|0.0],\n",
       " Solution[[False],[True],[False],[False],[False],[False],[False],[False],[True],[False]|68.98869101013045|0.0],\n",
       " Solution[[False],[True],[False],[False],[False],[False],[False],[False],[True],[False]|68.98869101013045|0.0],\n",
       " Solution[[False],[True],[False],[False],[False],[False],[False],[False],[True],[False]|68.98869101013045|0.0],\n",
       " Solution[[False],[True],[False],[False],[False],[False],[False],[False],[True],[False]|68.98869101013045|0.0],\n",
       " Solution[[False],[True],[False],[False],[False],[False],[False],[False],[True],[False]|68.98869101013045|0.0],\n",
       " Solution[[False],[True],[False],[False],[False],[False],[False],[False],[True],[False]|68.98869101013045|0.0],\n",
       " Solution[[False],[True],[False],[False],[False],[False],[False],[False],[True],[False]|68.98869101013045|0.0],\n",
       " Solution[[False],[True],[False],[False],[False],[False],[False],[False],[True],[False]|68.98869101013045|0.0],\n",
       " Solution[[False],[True],[False],[False],[False],[False],[False],[False],[True],[False]|68.98869101013045|0.0],\n",
       " Solution[[False],[True],[False],[False],[False],[False],[False],[False],[True],[False]|68.98869101013045|0.0],\n",
       " Solution[[False],[True],[False],[False],[False],[False],[False],[False],[True],[False]|68.98869101013045|0.0],\n",
       " Solution[[False],[True],[False],[False],[False],[False],[False],[False],[True],[False]|68.98869101013045|0.0],\n",
       " Solution[[False],[True],[False],[False],[False],[False],[False],[False],[True],[False]|68.98869101013045|0.0],\n",
       " Solution[[False],[True],[False],[False],[False],[False],[False],[False],[True],[False]|68.98869101013045|0.0],\n",
       " Solution[[False],[True],[False],[False],[False],[False],[False],[False],[True],[False]|68.98869101013045|0.0],\n",
       " Solution[[False],[True],[False],[False],[False],[False],[False],[False],[True],[False]|68.98869101013045|0.0],\n",
       " Solution[[False],[True],[False],[False],[False],[False],[False],[False],[True],[False]|68.98869101013045|0.0],\n",
       " Solution[[False],[True],[False],[False],[False],[False],[False],[False],[True],[False]|68.98869101013045|0.0],\n",
       " Solution[[False],[True],[False],[False],[False],[False],[False],[False],[True],[False]|68.98869101013045|0.0],\n",
       " Solution[[False],[True],[False],[False],[False],[False],[False],[False],[True],[False]|68.98869101013045|0.0],\n",
       " Solution[[False],[True],[False],[False],[False],[False],[False],[False],[True],[False]|68.98869101013045|0.0],\n",
       " Solution[[False],[True],[False],[False],[False],[False],[False],[False],[True],[False]|68.98869101013045|0.0],\n",
       " Solution[[False],[True],[False],[False],[False],[False],[False],[False],[True],[False]|68.98869101013045|0.0],\n",
       " Solution[[False],[True],[False],[False],[False],[False],[False],[False],[True],[False]|68.98869101013045|0.0],\n",
       " Solution[[False],[True],[False],[False],[False],[False],[False],[False],[True],[False]|68.98869101013045|0.0],\n",
       " Solution[[False],[True],[False],[False],[False],[False],[False],[False],[True],[False]|68.98869101013045|0.0],\n",
       " Solution[[False],[True],[False],[False],[False],[False],[False],[False],[True],[False]|68.98869101013045|0.0],\n",
       " Solution[[False],[True],[False],[False],[False],[False],[False],[False],[True],[False]|68.98869101013045|0.0],\n",
       " Solution[[False],[True],[False],[False],[False],[False],[False],[False],[True],[False]|68.98869101013045|0.0],\n",
       " Solution[[False],[True],[False],[False],[False],[False],[False],[False],[True],[False]|68.98869101013045|0.0],\n",
       " Solution[[False],[True],[False],[False],[False],[False],[False],[False],[True],[False]|68.98869101013045|0.0],\n",
       " Solution[[False],[True],[False],[False],[False],[False],[False],[False],[True],[False]|68.98869101013045|0.0],\n",
       " Solution[[False],[True],[False],[False],[False],[False],[False],[False],[True],[False]|68.98869101013045|0.0],\n",
       " Solution[[False],[True],[False],[False],[False],[False],[False],[False],[True],[False]|68.98869101013045|0.0],\n",
       " Solution[[False],[True],[False],[False],[False],[False],[False],[False],[True],[False]|68.98869101013045|0.0],\n",
       " Solution[[False],[True],[False],[False],[False],[False],[False],[False],[True],[False]|68.98869101013045|0.0],\n",
       " Solution[[False],[True],[False],[False],[False],[False],[False],[False],[True],[False]|68.98869101013045|0.0],\n",
       " Solution[[False],[True],[False],[False],[False],[False],[False],[False],[True],[False]|68.98869101013045|0.0],\n",
       " Solution[[False],[True],[False],[False],[False],[False],[False],[False],[True],[False]|68.98869101013045|0.0],\n",
       " Solution[[False],[True],[False],[False],[False],[False],[False],[False],[True],[False]|68.98869101013045|0.0],\n",
       " Solution[[False],[True],[False],[False],[False],[False],[False],[False],[True],[False]|68.98869101013045|0.0],\n",
       " Solution[[False],[True],[False],[False],[False],[False],[False],[False],[True],[False]|68.98869101013045|0.0],\n",
       " Solution[[False],[True],[False],[False],[False],[False],[False],[False],[True],[False]|68.98869101013045|0.0],\n",
       " Solution[[False],[True],[False],[False],[False],[False],[False],[False],[True],[False]|68.98869101013045|0.0],\n",
       " Solution[[False],[True],[False],[False],[False],[False],[False],[False],[True],[False]|68.98869101013045|0.0],\n",
       " Solution[[False],[True],[False],[False],[False],[False],[False],[False],[True],[False]|68.98869101013045|0.0],\n",
       " Solution[[False],[True],[False],[False],[False],[False],[False],[False],[True],[False]|68.98869101013045|0.0],\n",
       " Solution[[False],[True],[False],[False],[False],[False],[False],[False],[True],[False]|68.98869101013045|0.0],\n",
       " Solution[[False],[True],[False],[False],[False],[False],[False],[False],[True],[False]|68.98869101013045|0.0],\n",
       " Solution[[False],[True],[False],[False],[False],[False],[False],[False],[True],[False]|68.98869101013045|0.0],\n",
       " Solution[[False],[True],[False],[False],[False],[False],[False],[False],[True],[False]|68.98869101013045|0.0],\n",
       " Solution[[False],[True],[False],[False],[False],[False],[False],[False],[True],[False]|68.98869101013045|0.0],\n",
       " Solution[[False],[True],[False],[False],[False],[False],[False],[False],[True],[False]|68.98869101013045|0.0],\n",
       " Solution[[False],[True],[False],[False],[False],[False],[False],[False],[True],[False]|68.98869101013045|0.0],\n",
       " Solution[[False],[True],[False],[False],[False],[False],[False],[False],[True],[False]|68.98869101013045|0.0],\n",
       " Solution[[False],[True],[False],[False],[False],[False],[False],[False],[True],[False]|68.98869101013045|0.0],\n",
       " Solution[[False],[True],[False],[False],[False],[False],[False],[False],[True],[False]|68.98869101013045|0.0],\n",
       " Solution[[False],[True],[False],[False],[False],[False],[False],[False],[True],[False]|68.98869101013045|0.0],\n",
       " Solution[[False],[True],[False],[False],[False],[False],[False],[False],[True],[False]|68.98869101013045|0.0],\n",
       " Solution[[False],[True],[False],[False],[False],[False],[False],[False],[True],[False]|68.98869101013045|0.0],\n",
       " Solution[[False],[True],[False],[False],[False],[False],[False],[False],[True],[False]|68.98869101013045|0.0],\n",
       " Solution[[False],[True],[False],[False],[False],[False],[False],[False],[True],[False]|68.98869101013045|0.0],\n",
       " Solution[[False],[True],[False],[False],[False],[False],[False],[False],[True],[False]|68.98869101013045|0.0],\n",
       " Solution[[False],[True],[False],[False],[False],[False],[False],[False],[True],[False]|68.98869101013045|0.0],\n",
       " Solution[[False],[True],[False],[False],[False],[False],[False],[False],[True],[False]|68.98869101013045|0.0],\n",
       " Solution[[False],[True],[False],[False],[False],[False],[False],[False],[True],[False]|68.98869101013045|0.0],\n",
       " Solution[[False],[True],[False],[False],[False],[False],[False],[False],[True],[False]|68.98869101013045|0.0],\n",
       " Solution[[False],[True],[False],[False],[False],[False],[False],[False],[True],[False]|68.98869101013045|0.0],\n",
       " Solution[[False],[True],[False],[False],[False],[False],[False],[False],[True],[False]|68.98869101013045|0.0],\n",
       " Solution[[False],[True],[False],[False],[False],[False],[False],[False],[True],[False]|68.98869101013045|0.0],\n",
       " Solution[[False],[True],[False],[False],[False],[False],[False],[False],[True],[False]|68.98869101013045|0.0],\n",
       " Solution[[False],[True],[False],[False],[False],[False],[False],[False],[True],[False]|68.98869101013045|0.0],\n",
       " Solution[[False],[True],[False],[False],[False],[False],[False],[False],[True],[False]|68.98869101013045|0.0],\n",
       " Solution[[False],[True],[False],[False],[False],[False],[False],[False],[True],[False]|68.98869101013045|0.0],\n",
       " Solution[[False],[True],[False],[False],[False],[False],[False],[False],[True],[False]|68.98869101013045|0.0],\n",
       " Solution[[False],[True],[False],[False],[False],[False],[False],[False],[True],[False]|68.98869101013045|0.0],\n",
       " Solution[[False],[True],[False],[False],[False],[False],[False],[False],[True],[False]|68.98869101013045|0.0],\n",
       " Solution[[False],[True],[False],[False],[False],[False],[False],[False],[True],[False]|68.98869101013045|0.0],\n",
       " Solution[[False],[True],[False],[False],[False],[False],[False],[False],[True],[False]|68.98869101013045|0.0],\n",
       " Solution[[False],[True],[False],[False],[False],[False],[False],[False],[True],[False]|68.98869101013045|0.0],\n",
       " Solution[[False],[True],[False],[False],[False],[False],[False],[False],[True],[False]|68.98869101013045|0.0],\n",
       " Solution[[False],[True],[False],[False],[False],[False],[False],[False],[True],[False]|68.98869101013045|0.0],\n",
       " Solution[[False],[True],[False],[False],[False],[False],[False],[False],[True],[False]|68.98869101013045|0.0],\n",
       " Solution[[False],[True],[False],[False],[False],[False],[False],[False],[True],[False]|68.98869101013045|0.0],\n",
       " Solution[[False],[True],[False],[False],[False],[False],[False],[False],[True],[False]|68.98869101013045|0.0]]"
      ]
     },
     "execution_count": 57,
     "metadata": {},
     "output_type": "execute_result"
    }
   ],
   "source": [
    "a"
   ]
  },
  {
   "cell_type": "code",
   "execution_count": 56,
   "metadata": {},
   "outputs": [
    {
     "name": "stdout",
     "output_type": "stream",
     "text": [
      "68.98869101013045\n"
     ]
    }
   ],
   "source": [
    "for i in a[0].objectives:\n",
    "    print(i)"
   ]
  },
  {
   "cell_type": "code",
   "execution_count": 44,
   "metadata": {},
   "outputs": [
    {
     "data": {
      "text/plain": [
       "33.50099827255527"
      ]
     },
     "execution_count": 44,
     "metadata": {},
     "output_type": "execute_result"
    }
   ],
   "source": [
    "a[0].objectives[0]"
   ]
  },
  {
   "cell_type": "code",
   "execution_count": 46,
   "metadata": {
    "scrolled": true
   },
   "outputs": [
    {
     "data": {
      "text/plain": [
       "{33.50099827255527}"
      ]
     },
     "execution_count": 46,
     "metadata": {},
     "output_type": "execute_result"
    }
   ],
   "source": [
    "set([i.objectives[0] for i in a])"
   ]
  },
  {
   "cell_type": "markdown",
   "metadata": {},
   "source": [
    "# Next steps"
   ]
  },
  {
   "cell_type": "markdown",
   "metadata": {},
   "source": [
    "Choices:\n",
    "- Capacitated vs uncapacitated?\n",
    "- Endogenous vs exogenous number of facilities each optimisation step (exogenous: 1 each time)\n",
    "\n",
    "Do:\n",
    "- Assign demand points to closest facilities (:allocation)\n",
    "- optimise with only distance to linked demand points\n",
    "- set up with EMA\n",
    "- Coverage\n",
    "- social costs\n",
    "- equity\n",
    "\n",
    "How:\n",
    "- create for each demand class a \"allocated facility\"\n",
    "- Only add costs for distances between \"linked\" demand-facility points\n",
    "- look at paper guthjahr? user equilibrium?"
   ]
  }
 ],
 "metadata": {
  "kernelspec": {
   "display_name": "Python 3",
   "language": "python",
   "name": "python3"
  },
  "language_info": {
   "codemirror_mode": {
    "name": "ipython",
    "version": 3
   },
   "file_extension": ".py",
   "mimetype": "text/x-python",
   "name": "python",
   "nbconvert_exporter": "python",
   "pygments_lexer": "ipython3",
   "version": "3.6.4"
  },
  "notify_time": "5",
  "toc": {
   "nav_menu": {
    "height": "416px",
    "width": "437px"
   },
   "number_sections": true,
   "sideBar": true,
   "skip_h1_title": false,
   "title_cell": "Table of Contents",
   "title_sidebar": "Contents",
   "toc_cell": false,
   "toc_position": {
    "height": "255px",
    "left": "588px",
    "top": "110.5px",
    "width": "165px"
   },
   "toc_section_display": true,
   "toc_window_display": true
  }
 },
 "nbformat": 4,
 "nbformat_minor": 2
}
