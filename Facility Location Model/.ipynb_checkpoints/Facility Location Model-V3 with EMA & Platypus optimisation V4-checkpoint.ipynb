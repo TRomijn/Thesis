{
 "cells": [
  {
   "cell_type": "markdown",
   "metadata": {},
   "source": [
    "## Versions\n",
    "Facility Location Model Versions:\n",
    "* V1: Includes objective: transport costs\n",
    "* V2: Includes allocation of locations to supply hubs\n",
    "* V3: Includes objective: opening costs\n",
    "\n",
    "EMA & Platypus optimisation Versions:\n",
    "* V1: includes optimisation via Platypus\n",
    "* V2: included model completely in ema_workbench environment\n",
    "* V3: Working single run EMA\n",
    "* V4: Implemented use of kwargs: Levers and case instantiation. Case is now instantiated outside model, by ema uncertainties and ema constant "
   ]
  },
  {
   "cell_type": "markdown",
   "metadata": {
    "heading_collapsed": true
   },
   "source": [
    "# Model XLRM\n",
    "\n",
    "* External factors\n",
    "* Levers\n",
    "* Relations\n",
    "* Metrics of performance"
   ]
  },
  {
   "cell_type": "markdown",
   "metadata": {
    "hidden": true
   },
   "source": [
    "## System:"
   ]
  },
  {
   "cell_type": "code",
   "execution_count": null,
   "metadata": {
    "hidden": true
   },
   "outputs": [],
   "source": []
  },
  {
   "cell_type": "code",
   "execution_count": null,
   "metadata": {
    "hidden": true
   },
   "outputs": [],
   "source": []
  },
  {
   "cell_type": "markdown",
   "metadata": {
    "hidden": true
   },
   "source": [
    "## External Factors: Define model"
   ]
  },
  {
   "cell_type": "code",
   "execution_count": 4,
   "metadata": {
    "code_folding": [],
    "hidden": true
   },
   "outputs": [],
   "source": [
    "# Impact landscape --> Demand"
   ]
  },
  {
   "cell_type": "markdown",
   "metadata": {
    "hidden": true
   },
   "source": [
    "## Levers "
   ]
  },
  {
   "cell_type": "code",
   "execution_count": 5,
   "metadata": {
    "hidden": true
   },
   "outputs": [],
   "source": [
    "# operational_facilities = [fl1,fl2,fl3,fl4]\n",
    "\n",
    "# constraints:\n",
    "# fl1,fl2,fl3,fl4: (0,1) # 0: not operational, 1: operational"
   ]
  },
  {
   "cell_type": "markdown",
   "metadata": {
    "hidden": true
   },
   "source": [
    "## Relations "
   ]
  },
  {
   "cell_type": "code",
   "execution_count": null,
   "metadata": {
    "hidden": true
   },
   "outputs": [],
   "source": []
  },
  {
   "cell_type": "markdown",
   "metadata": {
    "hidden": true
   },
   "source": [
    "## Metrics of performance"
   ]
  },
  {
   "cell_type": "markdown",
   "metadata": {
    "hidden": true
   },
   "source": [
    "#### transportation costs\n",
    "\n",
    "$$Transportation\\_costs=\\sum_{i=0}^{FL}\\sum_{i=0}^{SP\\&DP} distance_{FL,SP|DP} * costs$$\n",
    "\n",
    "Calculates the costs of transportation between all facility locations to all supply and demand points "
   ]
  },
  {
   "cell_type": "markdown",
   "metadata": {},
   "source": [
    "# Model Python"
   ]
  },
  {
   "cell_type": "markdown",
   "metadata": {},
   "source": [
    "## Pseudocode\n",
    "    \n",
    "    Model:\n",
    "        FL Options: FL1,FL2,FL3, ..., FLn\n",
    "\n",
    "        For option in options:\n",
    "            allocate \n",
    "            calculate costs\n",
    "            calculate times\n",
    "            calculate coverage\n",
    "            calculate xx\n",
    "            \n",
    "    Sequence of analysis:\n",
    "        Initialise case (input1,input2,input3) #demand_landscape, \n",
    "        Optimise (obj1,obj2,obj3)\n",
    "        Check Robustness (unc1,unc2,unc3)\n",
    "        Implement best option\n",
    "\n",
    "        Change uncertainties based on new information due to new FL\n",
    "            Do this by reducing uncertainty the most for demand points closer to their preferred DC"
   ]
  },
  {
   "cell_type": "markdown",
   "metadata": {},
   "source": [
    "## Model structure"
   ]
  },
  {
   "cell_type": "code",
   "execution_count": 1,
   "metadata": {},
   "outputs": [],
   "source": [
    "# Imports\n",
    "import random\n",
    "import numpy as np\n",
    "import pandas as pd\n",
    "import matplotlib.pyplot as plt\n",
    "# import helper_functions as hf # helpful?"
   ]
  },
  {
   "cell_type": "code",
   "execution_count": 2,
   "metadata": {
    "code_folding": []
   },
   "outputs": [],
   "source": [
    "# Globals\n",
    "size_area = 10\n",
    "nr_demand_points = 10\n",
    "nr_supply_points = 1\n",
    "nr_optional_FL = 10\n",
    "max_nr_FL = 2\n",
    "\n",
    "\n",
    "#parameters costs\n",
    "unit_transport_cost = 1\n",
    "unit_opening_costs = 100\n"
   ]
  },
  {
   "cell_type": "code",
   "execution_count": 3,
   "metadata": {
    "code_folding": []
   },
   "outputs": [],
   "source": [
    "# Classes\n",
    "class demand_class:\n",
    "    \"\"\"Demand points such as affected cities or villages\"\"\"\n",
    "\n",
    "    def __init__(self, name):\n",
    "        self.name = \"DP{}\".format(name)\n",
    "        self.type = \"demand\"\n",
    "        self.x = random.uniform(0, size_area)\n",
    "        self.y = random.uniform(0, size_area)\n",
    "        self.location = (self.x, self.y)\n",
    "\n",
    "        # create random demand (random impacted area)\n",
    "        self.demand = random.random() * 1000\n",
    "\n",
    "\n",
    "class supply_class:\n",
    "    \"\"\"Supply points such as airports or seaports\"\"\"\n",
    "\n",
    "    def __init__(self, name):\n",
    "        self.name = \"SP{}\".format(name)\n",
    "        self.type = \"supply\"\n",
    "        self.x = random.uniform(0, size_area)\n",
    "        self.y = random.uniform(0, size_area)\n",
    "        self.location = (self.x, self.y)\n",
    "        self.supply = random.random() * 1000\n",
    "        self.operational = 1\n",
    "\n",
    "\n",
    "class facility_class:\n",
    "    \"\"\"(Temporary) Distribution centers to distribute supply to demand\"\"\"\n",
    "\n",
    "    def __init__(self, name):\n",
    "        self.name = \"FL{}\".format(name)\n",
    "        self.type = \"facility\"\n",
    "        self.x = random.uniform(0, size_area)\n",
    "        self.y = random.uniform(0, size_area)\n",
    "        self.location = (self.x, self.y)\n",
    "        self.operational = 0\n",
    "    \n",
    "    @property #test?\n",
    "    def location2(self):\n",
    "        return (self.x,self.y)\n",
    "\n",
    "\n",
    "# Class is unneccessary\n",
    "# class country:\n",
    "#     \"\"\"The combination of all demand and supply points and facility locations\"\"\"\n",
    "\n",
    "#     def __init__(self, name):\n",
    "#         self.name = name"
   ]
  },
  {
   "cell_type": "markdown",
   "metadata": {},
   "source": [
    "### Instantiate model"
   ]
  },
  {
   "cell_type": "code",
   "execution_count": 4,
   "metadata": {
    "code_folding": []
   },
   "outputs": [],
   "source": [
    "# Instantiate model\n",
    "\n",
    "# Create airport as a supply point\n",
    "supply_points = []\n",
    "for i in range(nr_supply_points):\n",
    "    supply_points.append(supply_class(name=i))\n",
    "\n",
    "# Create demand points\n",
    "demand_points = []\n",
    "for i in range(nr_demand_points):\n",
    "    demand_points.append(demand_class(name=i))\n",
    "\n",
    "# Create possible facility locations\n",
    "facility_locations = []\n",
    "for i in range(nr_optional_FL):\n",
    "    facility_locations.append(facility_class(name=i))"
   ]
  },
  {
   "cell_type": "markdown",
   "metadata": {},
   "source": [
    "$Allocation\\_matrix:  A$\n",
    "\n",
    "$Distance\\_matrix:  D$"
   ]
  },
  {
   "cell_type": "code",
   "execution_count": 5,
   "metadata": {
    "code_folding": []
   },
   "outputs": [],
   "source": [
    "# Organise all nodes and create distance matrix\n",
    "all_nodes = supply_points + facility_locations + demand_points\n",
    "nr_nodes = len(all_nodes)\n",
    "\n",
    "# distance matrix\n",
    "distances = np.zeros([nr_nodes, nr_nodes])\n",
    "\n",
    "def calculate_distance(x1, y1, x2, y2):\n",
    "    dx = x1 - x2\n",
    "    dy = y1 - y2\n",
    "    return (dx**2 + dy**2)**0.5\n",
    "\n",
    "\n",
    "\n",
    "\n",
    "# # validated: calculate_distance function\n",
    "# calculate_distance (-1,-1,2,3)\n",
    "# #returns 5.0. # dx = 3, dy = 4 --> distance = 5\n",
    "\n",
    "\n",
    "# calculate distance matrix\n",
    "for i in range(len(all_nodes)):\n",
    "    # Give all nodes in model an identifier corresponding to position in matrix\n",
    "    all_nodes[i].id = i\n",
    "    for j in range(len(all_nodes)):\n",
    "        dist_ij = calculate_distance(all_nodes[i].x, all_nodes[i].y,\n",
    "                                     all_nodes[j].x, all_nodes[j].y)\n",
    "        distances[i, j] = dist_ij\n",
    "\n",
    "# set distance to self to big distance\n",
    "max_dist = distances.max()\n",
    "for i in range(len(distances)):\n",
    "    distances[i,i] = max_dist * 100"
   ]
  },
  {
   "cell_type": "code",
   "execution_count": 6,
   "metadata": {},
   "outputs": [
    {
     "name": "stdout",
     "output_type": "stream",
     "text": [
      "These hubs are operational: [0, 8]\n"
     ]
    }
   ],
   "source": [
    "# Set one of the FLs on operational to test\n",
    "facility_locations[7].operational = 1\n",
    "print(\"These hubs are operational:\", [a.id for a in supply_points + facility_locations if a.operational is 1])"
   ]
  },
  {
   "cell_type": "code",
   "execution_count": 7,
   "metadata": {
    "code_folding": []
   },
   "outputs": [],
   "source": [
    "# allocate each demand point to either a supply point or a facility location\n",
    "def allocate(supply_points, demand_points, facility_locations, distances):\n",
    "    \"\"\"\n",
    "    Returns an allocation matrix for [n,h]\n",
    "    if [n,h] is 1: node n is allocated to supply hub h\n",
    "    The full size of the matrix is n*n\n",
    "    indexes are based on node.id\n",
    "    \n",
    "    Assumptions:\n",
    "    All allocations are made based on the minimum distance\n",
    "    Supply points are not allocated to other nodes, since they are supplied by upstream logistics, which is out of scope    \n",
    "    \"\"\"\n",
    "\n",
    "    # list of all IDs for operational supply points and facility locations\n",
    "    operational_hubs_id = [\n",
    "        a.id for a in supply_points + facility_locations if a.operational is 1\n",
    "    ]\n",
    "\n",
    "    #allocation matrix of all_nodes x all_nodes\n",
    "    allocation_matrix = np.zeros([len(all_nodes), len(all_nodes)])\n",
    "\n",
    "    # for each operational facility location:\n",
    "    # we skip supply points, because we don't consider upstream logistics\n",
    "    for fl in [fl for fl in facility_locations if fl.operational is 1]:\n",
    "        # choose one of other operational hubs that is closest (distance to iself is made very large while creating distance matrix)\n",
    "        closest_i = np.argmin(\n",
    "            [distances[hub_id, fl.id] for hub_id in operational_hubs_id])\n",
    "        # allocate me to that hub\n",
    "        allocation_matrix[fl.id, operational_hubs_id[closest_i]] = 1\n",
    "\n",
    "    # For each demand point\n",
    "    for dp in demand_points:\n",
    "        # Assumption: Each demand point gets 1 location allocated. If 2 locations have same distance, choose first\n",
    "        # check which supply point or facility location is closest\n",
    "        # closest = the index of the minimum distance of the list of distances between this demand point and all supply points\n",
    "        closest_i = np.argmin(\n",
    "            [distances[hub_id, dp.id] for hub_id in operational_hubs_id])\n",
    "\n",
    "        # Set allocation 1 if j is closest to this demand point (or i)\n",
    "        #i: demand point index, j: supply point index\n",
    "        allocation_matrix[dp.id, operational_hubs_id[closest_i]] = 1\n",
    "\n",
    "    return allocation_matrix"
   ]
  },
  {
   "cell_type": "code",
   "execution_count": 8,
   "metadata": {
    "scrolled": true
   },
   "outputs": [],
   "source": [
    "allocation_matrix = allocate(supply_points,demand_points,facility_locations,distances)"
   ]
  },
  {
   "cell_type": "code",
   "execution_count": 14,
   "metadata": {
    "code_folding": []
   },
   "outputs": [],
   "source": [
    "# OLD function calculate transportation costs\n",
    "def calc_transportation_costs_old(supply_points, demand_points,\n",
    "                               facility_locations, distances):\n",
    "    \"\"\"\n",
    "    TODO: write description\n",
    "    This old function calculates costs assuming 1 operational location\n",
    "    It also assumes that the supply point only delivers to the FL\n",
    "    \"\"\"\n",
    "    # create variable representing costs\n",
    "    transport_costs = 0\n",
    "    # For each facility location\n",
    "    for fl in facility_locations:\n",
    "        # for each operational facility location\n",
    "        if fl.operational == 1:\n",
    "            #for each supply and demand point\n",
    "            for a in supply_points + demand_points:\n",
    "                #add costs of transportation\n",
    "                transport_costs = transport_costs + distances[a.id, fl.\n",
    "                                                              id] * unit_transport_cost\n",
    "\n",
    "    return transport_costs\n",
    "\n",
    "\n",
    "# requires validation"
   ]
  },
  {
   "cell_type": "code",
   "execution_count": 40,
   "metadata": {},
   "outputs": [],
   "source": [
    "def calc_costs():\n",
    "\n",
    "    # calc opening costs of facilities\n",
    "    # assumption: supply point, i.e. airport, is already opened\n",
    "    opened_fl = sum([fl.operational for fl in facility_locations])\n",
    "    total_opening_costs = opened_fl * unit_opening_costs\n",
    "\n",
    "    # Calc transportation costs\n",
    "    total_distance = (allocation_matrix * distances).sum()\n",
    "    transportation_costs = total_distance * unit_transport_cost\n",
    "\n",
    "    \n",
    "    # Calc social costs\n",
    "    # TODO\n",
    "    # Now social logistics costs is included in transportation cost\n",
    "\n",
    "    return total_opening_costs + transportation_costs"
   ]
  },
  {
   "cell_type": "code",
   "execution_count": 42,
   "metadata": {},
   "outputs": [
    {
     "data": {
      "text/plain": [
       "145.21196945843616"
      ]
     },
     "execution_count": 42,
     "metadata": {},
     "output_type": "execute_result"
    }
   ],
   "source": [
    "calc_costs()"
   ]
  },
  {
   "cell_type": "code",
   "execution_count": 18,
   "metadata": {},
   "outputs": [],
   "source": [
    "# # Objective functions\n",
    "# # opening costs: objective from gutjahr & Dzubur 2016\n",
    "# # costs = construction_costs + transportation_costs\n",
    "\n",
    "# # objective 1\n",
    "\n",
    "# construction_costs = 0\n",
    "# transportation_costs = calc_transportation_costs\n",
    "# costs = transportation_costs + construction_costs\n",
    "# minimise(costs)"
   ]
  },
  {
   "cell_type": "markdown",
   "metadata": {},
   "source": [
    "# Case results "
   ]
  },
  {
   "cell_type": "code",
   "execution_count": 29,
   "metadata": {
    "code_folding": [
     0
    ],
    "scrolled": true
   },
   "outputs": [],
   "source": [
    "# # test to check optimisation\n",
    "# for i in facility_locations:\n",
    "#     i.operational = 1\n",
    "\n",
    "#     print(i.name,i.id,\n",
    "#           calc_transportation_costs(supply_points, demand_points,\n",
    "#                                     facility_locations, distances))\n",
    "\n",
    "#     i.operational = 0"
   ]
  },
  {
   "cell_type": "markdown",
   "metadata": {},
   "source": [
    "## Graphical representation of case"
   ]
  },
  {
   "cell_type": "markdown",
   "metadata": {},
   "source": [
    "### Creating allocation lines"
   ]
  },
  {
   "cell_type": "code",
   "execution_count": 33,
   "metadata": {},
   "outputs": [],
   "source": [
    "allocation_lines = np.zeros([len(all_nodes), 4])\n",
    "# creates matrix x1,y1,x2,y2\n",
    "for i, line in enumerate(zip(allocation_matrix)):\n",
    "    if allocation_matrix[i].sum() == 0:\n",
    "        continue\n",
    "    allocation_lines[i, 0:2] = list(all_nodes[i].location)\n",
    "    # Assumption: Only 1 location allocated # if changing: loop over list comprehension: [more than 0 allocated]\n",
    "    allocation_lines[i, 2:4] = list(\n",
    "        (all_nodes)[np.argmax(line)].location)"
   ]
  },
  {
   "cell_type": "code",
   "execution_count": 34,
   "metadata": {
    "scrolled": false
   },
   "outputs": [
    {
     "data": {
      "text/plain": [
       "array([[0.        , 0.        , 0.        , 0.        ],\n",
       "       [0.        , 0.        , 0.        , 0.        ],\n",
       "       [0.        , 0.        , 0.        , 0.        ],\n",
       "       [0.        , 0.        , 0.        , 0.        ],\n",
       "       [0.        , 0.        , 0.        , 0.        ],\n",
       "       [0.        , 0.        , 0.        , 0.        ],\n",
       "       [0.        , 0.        , 0.        , 0.        ],\n",
       "       [0.        , 0.        , 0.        , 0.        ],\n",
       "       [1.86105512, 0.66703163, 0.83677107, 3.9570269 ],\n",
       "       [0.        , 0.        , 0.        , 0.        ],\n",
       "       [0.        , 0.        , 0.        , 0.        ],\n",
       "       [1.96063773, 3.66246539, 0.83677107, 3.9570269 ],\n",
       "       [6.76720687, 1.9222047 , 1.86105512, 0.66703163],\n",
       "       [7.63748162, 9.11832568, 0.83677107, 3.9570269 ],\n",
       "       [3.14217672, 1.99387299, 1.86105512, 0.66703163],\n",
       "       [5.81605197, 6.88285141, 0.83677107, 3.9570269 ],\n",
       "       [8.74987993, 6.20117727, 0.83677107, 3.9570269 ],\n",
       "       [0.78799731, 1.59283441, 1.86105512, 0.66703163],\n",
       "       [4.8549508 , 5.27608265, 0.83677107, 3.9570269 ],\n",
       "       [0.63651151, 0.28635434, 1.86105512, 0.66703163],\n",
       "       [3.95207129, 1.08437324, 1.86105512, 0.66703163]])"
      ]
     },
     "execution_count": 34,
     "metadata": {},
     "output_type": "execute_result"
    }
   ],
   "source": [
    "allocation_lines"
   ]
  },
  {
   "cell_type": "markdown",
   "metadata": {},
   "source": [
    "### Plotting Locations and allocations"
   ]
  },
  {
   "cell_type": "code",
   "execution_count": 36,
   "metadata": {
    "scrolled": true
   },
   "outputs": [
    {
     "name": "stdout",
     "output_type": "stream",
     "text": [
      "yes\n"
     ]
    },
    {
     "data": {
      "image/png": "[encoded data removed]",
      "text/plain": [
       "<Figure size 432x288 with 1 Axes>"
      ]
     },
     "metadata": {},
     "output_type": "display_data"
    }
   ],
   "source": [
    "plt.axis([-0.5,10.5,-0.5,10.5])\n",
    "\n",
    "for x in demand_points:\n",
    "    plt.scatter(x.x, x.y,c=\"green\",marker=\"<\")\n",
    "for x in facility_locations:\n",
    "    if x.operational == 0:\n",
    "        plt.scatter(x.x, x.y,c=\"red\", marker=\"x\",s=10)\n",
    "    if x.operational == 1:\n",
    "        print(\"yes\")\n",
    "        plt.scatter(x.x, x.y,c=\"blue\", marker=\"x\",s=50)\n",
    "for x in supply_points:\n",
    "    plt.scatter(x.x, x.y,c=\"blue\", marker=\">\")\n",
    "\n",
    "# plot allocation lines\n",
    "\n",
    "for line in allocation_lines:\n",
    "    plt.plot(line[[0,2]], line[[1,3]], c=\"green\")\n",
    "\n",
    "# plt.plot([0,4], [8,9])\n"
   ]
  },
  {
   "cell_type": "code",
   "execution_count": 39,
   "metadata": {},
   "outputs": [
    {
     "data": {
      "image/png": "[encoded data removed]",
      "text/plain": [
       "<Figure size 432x288 with 1 Axes>"
      ]
     },
     "metadata": {},
     "output_type": "display_data"
    }
   ],
   "source": [
    "plt.axis([-0.5,10.5,-0.5,10.5])\n",
    "\n",
    "for x in demand_points:\n",
    "    plt.scatter(x.x, x.y,c=\"green\",marker=\"<\")\n",
    "for x in facility_locations:\n",
    "#     if x.operational == 1:\n",
    "    plt.scatter(x.x, x.y,c=\"red\", marker=\"x\")\n",
    "for x in supply_points:\n",
    "    plt.scatter(x.x, x.y,c=\"blue\", marker=\">\")\n"
   ]
  },
  {
   "cell_type": "markdown",
   "metadata": {},
   "source": [
    "# EMA model evaluator\n",
    "\n"
   ]
  },
  {
   "cell_type": "markdown",
   "metadata": {},
   "source": [
    "## EMA pseudocode\n",
    "    \n",
    "    Define classes\n",
    "    Generate case\n",
    "        create locations\n",
    "    Load EMA model\n",
    "        specifies:\n",
    "            demand landscape\n",
    "            unit transport costs\n",
    "            unit opening costs\n",
    "            Max nr of FL to be opened\n",
    "        calculates\n",
    "            allocation\n",
    "            distances\n",
    "            objectives"
   ]
  },
  {
   "cell_type": "code",
   "execution_count": 6,
   "metadata": {},
   "outputs": [],
   "source": [
    "# Imports\n",
    "import numpy as np\n",
    "import pandas as pd\n",
    "import matplotlib.pyplot as plt\n",
    "import random\n",
    "import ema_workbench as em\n",
    "from ema_workbench import (Model, RealParameter, IntegerParameter, Constant, ScalarOutcome, ema_logging,\n",
    "                           perform_experiments, Scenario, Policy)"
   ]
  },
  {
   "cell_type": "code",
   "execution_count": 7,
   "metadata": {
    "scrolled": true
   },
   "outputs": [
    {
     "data": {
      "text/plain": [
       "<Logger EMA (DEBUG)>"
      ]
     },
     "execution_count": 7,
     "metadata": {},
     "output_type": "execute_result"
    }
   ],
   "source": [
    "ema_logging.log_to_stderr(ema_logging.INFO)"
   ]
  },
  {
   "cell_type": "markdown",
   "metadata": {},
   "source": [
    "## Model"
   ]
  },
  {
   "cell_type": "markdown",
   "metadata": {},
   "source": [
    "### Define classes and Case settings"
   ]
  },
  {
   "cell_type": "code",
   "execution_count": 8,
   "metadata": {
    "code_folding": [
     1,
     13,
     26
    ]
   },
   "outputs": [],
   "source": [
    "# Classes\n",
    "class demand_class:\n",
    "    \"\"\"Demand points such as affected cities or villages\"\"\"\n",
    "\n",
    "    def __init__(self, name, x, y, demand):\n",
    "        self.name = \"DP{}\".format(name)\n",
    "        self.type = \"demand\"\n",
    "        self.x = x\n",
    "        self.y = y\n",
    "        self.location = (self.x, self.y)\n",
    "        self.demand = demand\n",
    "\n",
    "\n",
    "class supply_class:\n",
    "    \"\"\"Supply points such as airports or seaports\"\"\"\n",
    "\n",
    "    def __init__(self, name, x, y, supply):\n",
    "        self.name = \"SP{}\".format(name)\n",
    "        self.type = \"supply\"\n",
    "        self.x = x\n",
    "        self.y = y\n",
    "        self.location = (self.x, self.y)\n",
    "        self.supply = supply\n",
    "        self.operational = 1\n",
    "\n",
    "\n",
    "class facility_class:\n",
    "    \"\"\"(Temporary) Distribution centers to distribute supply to demand\"\"\"\n",
    "\n",
    "    def __init__(self, name, x, y):\n",
    "        self.name = \"FL{}\".format(name)\n",
    "        self.type = \"facility\"\n",
    "        self.x = x\n",
    "        self.y = y\n",
    "        self.location = (self.x, self.y)\n",
    "        self.operational = 0\n",
    "\n",
    "\n",
    "# Case settings / Globals\n",
    "# size_area = 10\n",
    "# nr_demand_points = 10\n",
    "# nr_supply_points = 1\n",
    "# nr_optional_FL = 10"
   ]
  },
  {
   "cell_type": "markdown",
   "metadata": {},
   "source": [
    "### Functions for Instantiating case and calculating objectives"
   ]
  },
  {
   "cell_type": "code",
   "execution_count": 13,
   "metadata": {},
   "outputs": [],
   "source": [
    "supply_kwarg = {\"keysSupply\":\"valuesSupply\"}\n",
    "demand_kwarg = {\"keysDemand\":\"valuesDemand\"}\n",
    "FL_kwarg = \n",
    "# all_kwargs = {\"supply\"}\n",
    "# {\"key\": \"value\"}\n",
    "# d = {key: value for (key, value) in iterable}"
   ]
  },
  {
   "cell_type": "code",
   "execution_count": 16,
   "metadata": {
    "scrolled": true
   },
   "outputs": [
    {
     "data": {
      "text/plain": [
       "'valuesSupply'"
      ]
     },
     "execution_count": 16,
     "metadata": {},
     "output_type": "execute_result"
    }
   ],
   "source": [
    "supply_kwarg['keysSupply']"
   ]
  },
  {
   "cell_type": "code",
   "execution_count": 33,
   "metadata": {},
   "outputs": [],
   "source": []
  },
  {
   "cell_type": "code",
   "execution_count": 84,
   "metadata": {
    "scrolled": false
   },
   "outputs": [
    {
     "data": {
      "text/plain": [
       "[<__main__.supply_class at 0x1dec5396358>,\n",
       " <__main__.supply_class at 0x1dec4f05a90>,\n",
       " <__main__.supply_class at 0x1dec4f05940>,\n",
       " <__main__.supply_class at 0x1dec4f05048>,\n",
       " <__main__.supply_class at 0x1dec4f051d0>,\n",
       " <__main__.supply_class at 0x1dec4f05da0>,\n",
       " <__main__.supply_class at 0x1dec4f05128>,\n",
       " <__main__.supply_class at 0x1dec4fe0cf8>]"
      ]
     },
     "execution_count": 84,
     "metadata": {},
     "output_type": "execute_result"
    }
   ],
   "source": [
    "#testing\n",
    "create_supply_points(sup_xcors,sup_ycors)"
   ]
  },
  {
   "cell_type": "code",
   "execution_count": 520,
   "metadata": {
    "code_folding": [
     5,
     22,
     28,
     35,
     45,
     75,
     122
    ]
   },
   "outputs": [],
   "source": [
    "# Instantiate case functions\n",
    "# Instantiate model\n",
    "\n",
    "\n",
    "# Create airport as a supply point\n",
    "def create_supply_points(sup_xcors, sup_ycors, supply_at_sp=100):\n",
    "\n",
    "    #TODO get a list with specific supply values for each point\n",
    "    supply_at_sps = [supply_at_sp for i in range(len(sup_xcors))]\n",
    "\n",
    "    supply_points = []\n",
    "    for i in range(len(sup_xcors)):\n",
    "        supply_points.append(\n",
    "            supply_class(\n",
    "                name=i,\n",
    "                x=sup_xcors[i],\n",
    "                y=sup_ycors[i],\n",
    "                supply=supply_at_sps[i]))\n",
    "    return supply_points\n",
    "\n",
    "\n",
    "# Create demand points\n",
    "def create_demand_points(dp_xcors, dp_ycors, demand_at_dp=10):\n",
    "\n",
    "    demand_at_dps = [demand_at_dp for i in range(len(dp_xcors))]\n",
    "\n",
    "    demand_points = []\n",
    "    for i in range(len(dp_xcors)):\n",
    "        demand_points.append(\n",
    "            demand_class(\n",
    "                name=i, x=dp_xcors[i], y=dp_ycors[i], demand=demand_at_dps[i]))\n",
    "    return demand_points\n",
    "\n",
    "\n",
    "# # Create possible facility locations\n",
    "def create_facility_locations(fl_xcors, fl_ycors):\n",
    "\n",
    "    facility_locations = []\n",
    "    for i in range(len(fl_xcors)):\n",
    "        facility_locations.append(\n",
    "            facility_class(name=i, x=fl_xcors[i], y=fl_ycors[i]))\n",
    "    return facility_locations\n",
    "\n",
    "\n",
    "# Create matrix with all distances\n",
    "def create_distance_matrix(all_nodes):\n",
    "    \"\"\"\n",
    "    Creates a matrix with distances between all nodes\n",
    "    Input: list of all nodes (objects)\n",
    "    Output: Matrix with distances from [i,j]\n",
    "    i,j = from, to\n",
    "    Note: Matrix is symmetric: distances[i,j] = distances[j,i]\n",
    "    Note: Distance to self ([i,i]) is 100 times larger than largest distance in matrix\n",
    "    \"\"\"\n",
    "    distances = np.zeros([len(all_nodes), len(all_nodes)])\n",
    "\n",
    "    def calculate_distance(x1, y1, x2, y2):\n",
    "        dx = x1 - x2\n",
    "        dy = y1 - y2\n",
    "        return (dx**2 + dy**2)**0.5\n",
    "\n",
    "    # calculate distance matrix\n",
    "    for i in range(len(all_nodes)):  #For every row\n",
    "        for j in range(len(all_nodes)):  #For every column\n",
    "            distances[i, j] = calculate_distance(\n",
    "                all_nodes[i].x, all_nodes[i].y, all_nodes[j].x, all_nodes[j].y)\n",
    "\n",
    "    # set distance to self to big distance\n",
    "    for i in range(len(distances)):\n",
    "        distances[i, i] = distances.max() * 100\n",
    "\n",
    "    return distances\n",
    "\n",
    "\n",
    "# allocate each demand point to either a supply point or a facility location\n",
    "def create_allocation_matrix(supply_points, demand_points, facility_locations,\n",
    "                             distances):\n",
    "    \"\"\"\n",
    "    Returns an allocation matrix for [n,h]\n",
    "    if [n,h] is 1: node n is allocated to supply hub h\n",
    "    The full size of the matrix is n*n\n",
    "    indexes are based on node.id\n",
    "    \n",
    "    Assumptions:\n",
    "    All allocations are made based on the minimum distance\n",
    "    Supply points are not allocated to other nodes, since they are supplied by upstream logistics, which is out of scope    \n",
    "    \"\"\"\n",
    "\n",
    "    # list of all IDs for operational supply points and facility locations\n",
    "    operational_hubs_id = [\n",
    "        a.id for a in supply_points + facility_locations if a.operational == 1\n",
    "    ]\n",
    "    print(\"op_ids\", operational_hubs_id)\n",
    "    \n",
    "    all_nodes = supply_points + facility_locations + demand_points\n",
    "    #allocation matrix of all_nodes x all_nodes\n",
    "    allocation_matrix = np.zeros([len(all_nodes), len(all_nodes)])\n",
    "\n",
    "    # for each operational facility location:\n",
    "    # we skip supply points, because we don't consider upstream logistics\n",
    "    for fl in [fl for fl in facility_locations if fl.operational == 1]:\n",
    "        # choose one of other operational hubs that is closest (distance to iself is made very large while creating distance matrix)\n",
    "        closest_i = np.argmin(\n",
    "            [distances[hub_id, fl.id] for hub_id in operational_hubs_id])\n",
    "        # allocate me to that hub\n",
    "        allocation_matrix[fl.id, operational_hubs_id[closest_i]] = 1\n",
    "\n",
    "    # For each demand point\n",
    "    for dp in demand_points:\n",
    "        # Assumption: Each demand point gets 1 location allocated. If 2 locations have same distance, choose first\n",
    "        # check which supply point or facility location is closest\n",
    "        # closest = the index of the minimum distance of the list of distances between this demand point and all supply points\n",
    "        closest_i = np.argmin(\n",
    "            [distances[hub_id, dp.id] for hub_id in operational_hubs_id])\n",
    "\n",
    "        # Set allocation 1 if j is closest to this demand point (or i)\n",
    "        #i: demand point index, j: supply point index\n",
    "        allocation_matrix[dp.id, operational_hubs_id[closest_i]] = 1\n",
    "\n",
    "    return allocation_matrix\n",
    "\n",
    "\n",
    "def calc_costs(facility_locations, unit_opening_costs, unit_transport_cost,\n",
    "               distances, allocation_matrix):\n",
    "    # calc opening costs of facilities\n",
    "    # assumption: supply point, i.e. airport, is already opened\n",
    "    nr_opened_fl = sum([fl.operational for fl in facility_locations])\n",
    "    total_opening_costs = nr_opened_fl * unit_opening_costs\n",
    "\n",
    "    # Calc transportation costs\n",
    "    total_distance = (allocation_matrix * distances).sum()\n",
    "    transportation_costs = total_distance * unit_transport_cost\n",
    "\n",
    "    # Calc social costs\n",
    "    # TODO\n",
    "    # Now social logistics costs is included in transportation cost\n",
    "\n",
    "    return total_opening_costs + transportation_costs"
   ]
  },
  {
   "cell_type": "code",
   "execution_count": 521,
   "metadata": {
    "code_folding": [
     1,
     15
    ]
   },
   "outputs": [],
   "source": [
    "# Functions for plotting\n",
    "def plotting_create_allocation_lines(all_nodes, allocation_matrix):\n",
    "\n",
    "    allocation_lines = np.zeros([len(all_nodes), 4])\n",
    "    # creates matrix x1,y1,x2,y2\n",
    "    for i, line in enumerate(zip(allocation_matrix)):\n",
    "        if allocation_matrix[i].sum() == 0:\n",
    "            continue\n",
    "        allocation_lines[i, 0:2] = list(all_nodes[i].location)\n",
    "        # Assumption: Only 1 location allocated # if changing: loop over list comprehension: [more than 0 allocated]\n",
    "        allocation_lines[i, 2:4] = list((all_nodes)[np.argmax(line)].location)\n",
    "\n",
    "    return allocation_lines\n",
    "\n",
    "\n",
    "def plotting_plot_map(demand_points,\n",
    "                      facility_locations,\n",
    "                      supply_points,\n",
    "                      allocation_lines=False):\n",
    "\n",
    "    plt.axis([-0.5, 10.5, -0.5, 10.5])\n",
    "\n",
    "    for x in demand_points:\n",
    "        plt.scatter(x.x, x.y, c=\"green\", marker=\"<\")\n",
    "\n",
    "    for x in facility_locations:\n",
    "        if x.operational == 0:\n",
    "            plt.scatter(x.x, x.y, c=\"red\", marker=\"x\", s=10)\n",
    "        if x.operational == 1:\n",
    "            print(\"mark1\")\n",
    "            plt.scatter(x.x, x.y, c=\"blue\", marker=\"x\", s=50)\n",
    "    for x in supply_points:\n",
    "        plt.scatter(x.x, x.y, c=\"blue\", marker=\">\")\n",
    "\n",
    "    # plot allocation lines\n",
    "    if allocation_lines is not False:\n",
    "        for line in allocation_lines:\n",
    "            plt.plot(line[[0, 2]], line[[1, 3]], c=\"green\")\n",
    "\n",
    "    # plt.plot([0,4], [8,9])"
   ]
  },
  {
   "cell_type": "code",
   "execution_count": 90,
   "metadata": {},
   "outputs": [
    {
     "data": {
      "text/plain": [
       "2"
      ]
     },
     "execution_count": 90,
     "metadata": {},
     "output_type": "execute_result"
    }
   ],
   "source": []
  },
  {
   "cell_type": "code",
   "execution_count": 565,
   "metadata": {
    "code_folding": []
   },
   "outputs": [],
   "source": [
    "def FL_model(dec_vars,\n",
    "             nr_supply_points,\n",
    "             nr_demand_points,\n",
    "             nr_optional_FL,\n",
    "             size_area,\n",
    "             unit_opening_costs,\n",
    "             unit_transport_cost,\n",
    "             graphical_representation=False,\n",
    "             **kwargs):\n",
    "\n",
    "    #unpack kwargs\n",
    "    keys = sorted(kwargs.keys())\n",
    "    sp_xcors = [kwargs[x] for x in [k for k in keys if k[:3] == 'SPX']]\n",
    "    sp_ycors = [kwargs[x] for x in [k for k in keys if k[:3] == 'SPY']]\n",
    "    dp_xcors = [kwargs[x] for x in [k for k in keys if k[:3] == 'DPX']]\n",
    "    dp_ycors = [kwargs[x] for x in [k for k in keys if k[:3] == 'DPY']]\n",
    "    fl_xcors = [kwargs[x] for x in [k for k in keys if k[:3] == 'FLX']]\n",
    "    fl_ycors = [kwargs[x] for x in [k for k in keys if k[:3] == 'FLY']]\n",
    "\n",
    "    fl_operational = [kwargs[x] for x in [k for k in keys if k[:3] == 'FLO']]\n",
    "\n",
    "    #     sup_xcors = [locations['SPX{}'.format(i)] for i in range (len(locations))]\n",
    "    #     sup_xcors = [locations[\"SPX{}\".format(i)] for i in range (len(locations))]\n",
    "    #     sup_ycors = [locations['SPY{}'.format(i)] for i in range (len(locations))]\n",
    "\n",
    "    # set up model\n",
    "\n",
    "    supply_points = create_supply_points(sp_xcors, sp_ycors)\n",
    "    demand_points = create_demand_points(dp_xcors, dp_ycors)\n",
    "    facility_locations = create_facility_locations(fl_xcors, fl_ycors)\n",
    "\n",
    "    # Organise all nodes and create distance matrix\n",
    "    all_nodes = supply_points + facility_locations + demand_points\n",
    "    # Give all nodes in model an identifier corresponding to position in matrix\n",
    "    for i in range(len(all_nodes)):\n",
    "        all_nodes[i].id = i\n",
    "\n",
    "    # Check if things are right\n",
    "    if len(facility_locations) != len(fl_operational):\n",
    "        print(\"Length FL arrays not equal, FL_model:\", len(facility_locations),\n",
    "              len(fl_operational))\n",
    "\n",
    "    # Set operational FLs from levers\n",
    "    for i, fl in enumerate(facility_locations):\n",
    "        fl.operational = fl_operational[i]\n",
    "\n",
    "\n",
    "    distances = create_distance_matrix(all_nodes)\n",
    "    allocation_matrix = create_allocation_matrix(supply_points, demand_points,\n",
    "                                                 facility_locations, distances)\n",
    "\n",
    "    # determine objectives\n",
    "    total_costs = calc_costs(facility_locations, unit_opening_costs,\n",
    "                             unit_transport_cost, distances, allocation_matrix)\n",
    "\n",
    "    # give a graphical representation of instantiation and allocation\n",
    "    if graphical_representation == True:\n",
    "        allocation_lines = plotting_create_allocation_lines(\n",
    "            all_nodes, allocation_matrix)\n",
    "\n",
    "        plotting_plot_map(demand_points, facility_locations, supply_points,\n",
    "                          allocation_lines)\n",
    "        print(\"TODO, Close figure\")\n",
    "        plt.show()\n",
    "\n",
    "    print(allocation_matrix)\n",
    "    return total_costs, sum([fl.operational for fl in facility_locations])"
   ]
  },
  {
   "cell_type": "code",
   "execution_count": 488,
   "metadata": {},
   "outputs": [],
   "source": [
    "SPX = {\"SPX{}\".format(i): random.uniform(0,10) for i in range(1)}\n",
    "SPY = {\"SPY{}\".format(i): random.uniform(0,10) for i in range(1)}\n",
    "DPX = {\"DPX{}\".format(i): random.uniform(0,10) for i in range(5)}\n",
    "DPY = {\"DPY{}\".format(i): random.uniform(0,10) for i in range(5)}\n",
    "FLX = {\"FLX{}\".format(i): random.uniform(0,10) for i in range(6)}\n",
    "FLY = {\"FLY{}\".format(i): random.uniform(0,10) for i in range(6)}\n",
    "\n",
    "FLO={\"FLO0\":0,\"FLO1\":0,\"FLO2\":0,\"FLO3\":1,\"FLO4\":0,\"FLO5\":0}"
   ]
  },
  {
   "cell_type": "code",
   "execution_count": 562,
   "metadata": {
    "scrolled": true
   },
   "outputs": [
    {
     "name": "stdout",
     "output_type": "stream",
     "text": [
      "6 6\n",
      "op_ids [0, 4]\n",
      "mark1\n",
      "TODO, Close figure\n"
     ]
    },
    {
     "data": {
      "image/png": "[encoded data removed]",
      "text/plain": [
       "<Figure size 432x288 with 1 Axes>"
      ]
     },
     "metadata": {},
     "output_type": "display_data"
    },
    {
     "name": "stdout",
     "output_type": "stream",
     "text": [
      "[[0. 0. 0. 0. 0. 0. 0. 0. 0. 0. 0. 0.]\n",
      " [0. 0. 0. 0. 0. 0. 0. 0. 0. 0. 0. 0.]\n",
      " [0. 0. 0. 0. 0. 0. 0. 0. 0. 0. 0. 0.]\n",
      " [0. 0. 0. 0. 0. 0. 0. 0. 0. 0. 0. 0.]\n",
      " [1. 0. 0. 0. 0. 0. 0. 0. 0. 0. 0. 0.]\n",
      " [0. 0. 0. 0. 0. 0. 0. 0. 0. 0. 0. 0.]\n",
      " [0. 0. 0. 0. 0. 0. 0. 0. 0. 0. 0. 0.]\n",
      " [0. 0. 0. 0. 1. 0. 0. 0. 0. 0. 0. 0.]\n",
      " [0. 0. 0. 0. 1. 0. 0. 0. 0. 0. 0. 0.]\n",
      " [0. 0. 0. 0. 1. 0. 0. 0. 0. 0. 0. 0.]\n",
      " [0. 0. 0. 0. 1. 0. 0. 0. 0. 0. 0. 0.]\n",
      " [1. 0. 0. 0. 0. 0. 0. 0. 0. 0. 0. 0.]]\n"
     ]
    },
    {
     "data": {
      "text/plain": [
       "(125.65920850610723, 1)"
      ]
     },
     "execution_count": 562,
     "metadata": {},
     "output_type": "execute_result"
    }
   ],
   "source": [
    "FL_model('dec_vars_go_here', 1, 10, 10, 10, 100, 1, True, **SPX, **SPY, **DPX,**DPY,**FLX,**FLY,**FLO)\n",
    "# print(\"gelukt, nu weer verder\")"
   ]
  },
  {
   "cell_type": "code",
   "execution_count": 54,
   "metadata": {},
   "outputs": [],
   "source": [
    "# Decision parameters\n",
    "# max_nr_FL = 2\n",
    "\n",
    "\n"
   ]
  },
  {
   "cell_type": "code",
   "execution_count": 538,
   "metadata": {
    "code_folding": [
     5
    ]
   },
   "outputs": [],
   "source": [
    "# Meta parametric variables\n",
    "nr_of_SPs = 1\n",
    "nr_of_DPs = 10\n",
    "nr_of_FLs = 6\n",
    "\n",
    "#Instantiate EMA model\n",
    "FL_EMAmodel = Model('flmodel', function=FL_model)\n",
    "\n",
    "#Specify constants\n",
    "FL_EMAmodel.constants = [\n",
    "    Constant('dec_vars', False),\n",
    "    Constant('nr_supply_points', 1),\n",
    "    Constant('nr_demand_points', 10),\n",
    "    Constant('nr_optional_FL', 10),\n",
    "    Constant('size_area', 10),\n",
    "    Constant('unit_opening_costs', 100),\n",
    "    Constant('unit_transport_cost', 1),\n",
    "    Constant('graphical_representation', True)\n",
    "]\n",
    "\n",
    "#Specify coordinates of locations\n",
    "# 0 - size area, range nr supply points\n",
    "FL_EMAmodel.locations = [\n",
    "    RealParameter(\"SPX{}\".format(i), 0, 10) for i in range(nr_of_SPs)\n",
    "] + [RealParameter(\"SPY{}\".format(i), 0, 10) for i in range(nr_of_SPs)] + [\n",
    "    RealParameter(\"DPX{}\".format(i), 0, 10) for i in range(nr_of_DPs)\n",
    "] + [RealParameter(\"DPY{}\".format(i), 0, 10) for i in range(nr_of_DPs)] + [\n",
    "    RealParameter(\"FLX{}\".format(i), 0, 10) for i in range(nr_of_FLs)\n",
    "] + [RealParameter(\"FLY{}\".format(i), 0, 10) for i in range(nr_of_FLs)]\n",
    "\n",
    "#Specify uncertainties\n",
    "FL_EMAmodel.uncertainties = FL_EMAmodel.locations\n",
    "#     RealParameter('FL_x_cor_0', 0, areasize),\n",
    "#     RealParameter('FL_x_cor_1', 0, areasize),\n",
    "#     RealParameter('FL_y_cor_0', 0, areasize),\n",
    "#     RealParameter('FL_y_cor_1', 0, areasize),\n",
    "#     RealParameter('x', 0, 1),\n",
    "#     RealParameter('x', 0, 1)\n",
    "# ]\n",
    "\n",
    "# # Specify levers\n",
    "# Facility Location Operational: [0,1]\n",
    "FL_EMAmodel.levers = [IntegerParameter(\"FLO{}\".format(i), 0, 1) for i in range(nr_of_FLs)]\n",
    "\n",
    "# FL_EMAmodel.c\n",
    "\n",
    "# Specify outcomes\n",
    "FL_EMAmodel.outcomes = [\n",
    "    ScalarOutcome('Total_cost'),\n",
    "    #     ScalarOutcome('message_string'),\n",
    "    ScalarOutcome('operational_FL')\n",
    "]"
   ]
  },
  {
   "cell_type": "code",
   "execution_count": 539,
   "metadata": {},
   "outputs": [
    {
     "name": "stdout",
     "output_type": "stream",
     "text": [
      "{'FLO0': 0, 'FLO1': 0, 'FLO2': 0, 'FLO3': 0, 'FLO4': 0, 'FLO5': 0}\n",
      "{'FLO0': 0, 'FLO1': 0, 'FLO2': 0, 'FLO3': 0, 'FLO4': 0, 'FLO5': 0}\n",
      "{'FLO0': 0, 'FLO1': 0, 'FLO2': 0, 'FLO3': 0, 'FLO4': 0, 'FLO5': 0}\n",
      "{'FLO0': 0, 'FLO1': 0, 'FLO2': 0, 'FLO3': 0, 'FLO4': 0, 'FLO5': 0}\n",
      "{'FLO0': 0, 'FLO1': 0, 'FLO2': 0, 'FLO3': 0, 'FLO4': 0, 'FLO5': 0}\n",
      "{'FLO0': 0, 'FLO1': 0, 'FLO2': 0, 'FLO3': 0, 'FLO4': 0, 'FLO5': 0}\n",
      "{'FLO0': 0, 'FLO1': 0, 'FLO2': 0, 'FLO3': 0, 'FLO4': 0, 'FLO5': 0}\n",
      "{'FLO0': 0, 'FLO1': 0, 'FLO2': 0, 'FLO3': 0, 'FLO4': 0, 'FLO5': 0}\n",
      "{'FLO0': 0, 'FLO1': 0, 'FLO2': 0, 'FLO3': 0, 'FLO4': 0, 'FLO5': 0}\n",
      "{'FLO0': 0, 'FLO1': 0, 'FLO2': 0, 'FLO3': 0, 'FLO4': 0, 'FLO5': 0}\n"
     ]
    }
   ],
   "source": [
    "from ema_workbench.em_framework import sample_levers\n",
    "\n",
    "samples = sample_levers(FL_EMAmodel, 10)\n",
    "\n",
    "for sample in samples:\n",
    "    print(sample)\n"
   ]
  },
  {
   "cell_type": "code",
   "execution_count": null,
   "metadata": {},
   "outputs": [],
   "source": []
  },
  {
   "cell_type": "code",
   "execution_count": 561,
   "metadata": {
    "scrolled": false
   },
   "outputs": [
    {
     "name": "stdout",
     "output_type": "stream",
     "text": [
      "0 0\n",
      "op_ids []\n",
      "TODO, Close figure\n"
     ]
    },
    {
     "data": {
      "image/png": "[encoded data removed]",
      "text/plain": [
       "<Figure size 432x288 with 1 Axes>"
      ]
     },
     "metadata": {},
     "output_type": "display_data"
    },
    {
     "name": "stdout",
     "output_type": "stream",
     "text": [
      "[]\n"
     ]
    }
   ],
   "source": [
    "FL_EMAmodel.run_model(Scenario(), Policy({}))"
   ]
  },
  {
   "cell_type": "code",
   "execution_count": 533,
   "metadata": {},
   "outputs": [
    {
     "name": "stderr",
     "output_type": "stream",
     "text": [
      "[MainProcess/INFO] performing 2 scenarios * 2 policies * 1 model(s) = 4 experiments\n",
      "[MainProcess/INFO] performing experiments sequentially\n"
     ]
    },
    {
     "name": "stdout",
     "output_type": "stream",
     "text": [
      "6 6\n",
      "op_ids [0, 1, 2, 3]\n",
      "mark1\n",
      "mark1\n",
      "mark1\n",
      "TODO, Close figure\n"
     ]
    },
    {
     "data": {
      "image/png": "[encoded data removed]",
      "text/plain": [
       "<Figure size 432x288 with 1 Axes>"
      ]
     },
     "metadata": {},
     "output_type": "display_data"
    },
    {
     "name": "stderr",
     "output_type": "stream",
     "text": [
      "[MainProcess/INFO] 1 cases completed\n"
     ]
    },
    {
     "name": "stdout",
     "output_type": "stream",
     "text": [
      "[[0. 0. 0. 0. 0. 0. 0. 0. 0. 0. 0. 0. 0. 0. 0. 0. 0.]\n",
      " [0. 0. 0. 1. 0. 0. 0. 0. 0. 0. 0. 0. 0. 0. 0. 0. 0.]\n",
      " [1. 0. 0. 0. 0. 0. 0. 0. 0. 0. 0. 0. 0. 0. 0. 0. 0.]\n",
      " [0. 1. 0. 0. 0. 0. 0. 0. 0. 0. 0. 0. 0. 0. 0. 0. 0.]\n",
      " [0. 0. 0. 0. 0. 0. 0. 0. 0. 0. 0. 0. 0. 0. 0. 0. 0.]\n",
      " [0. 0. 0. 0. 0. 0. 0. 0. 0. 0. 0. 0. 0. 0. 0. 0. 0.]\n",
      " [0. 0. 0. 0. 0. 0. 0. 0. 0. 0. 0. 0. 0. 0. 0. 0. 0.]\n",
      " [0. 0. 1. 0. 0. 0. 0. 0. 0. 0. 0. 0. 0. 0. 0. 0. 0.]\n",
      " [0. 1. 0. 0. 0. 0. 0. 0. 0. 0. 0. 0. 0. 0. 0. 0. 0.]\n",
      " [0. 0. 1. 0. 0. 0. 0. 0. 0. 0. 0. 0. 0. 0. 0. 0. 0.]\n",
      " [0. 0. 0. 1. 0. 0. 0. 0. 0. 0. 0. 0. 0. 0. 0. 0. 0.]\n",
      " [1. 0. 0. 0. 0. 0. 0. 0. 0. 0. 0. 0. 0. 0. 0. 0. 0.]\n",
      " [0. 0. 0. 1. 0. 0. 0. 0. 0. 0. 0. 0. 0. 0. 0. 0. 0.]\n",
      " [0. 0. 1. 0. 0. 0. 0. 0. 0. 0. 0. 0. 0. 0. 0. 0. 0.]\n",
      " [0. 0. 0. 1. 0. 0. 0. 0. 0. 0. 0. 0. 0. 0. 0. 0. 0.]\n",
      " [1. 0. 0. 0. 0. 0. 0. 0. 0. 0. 0. 0. 0. 0. 0. 0. 0.]\n",
      " [0. 0. 1. 0. 0. 0. 0. 0. 0. 0. 0. 0. 0. 0. 0. 0. 0.]]\n",
      "6 6\n",
      "op_ids [0, 1, 2, 3]\n",
      "mark1\n",
      "mark1\n",
      "mark1\n",
      "TODO, Close figure\n"
     ]
    },
    {
     "data": {
      "image/png": "[encoded data removed]",
      "text/plain": [
       "<Figure size 432x288 with 1 Axes>"
      ]
     },
     "metadata": {},
     "output_type": "display_data"
    },
    {
     "name": "stderr",
     "output_type": "stream",
     "text": [
      "[MainProcess/INFO] 2 cases completed\n"
     ]
    },
    {
     "name": "stdout",
     "output_type": "stream",
     "text": [
      "[[0. 0. 0. 0. 0. 0. 0. 0. 0. 0. 0. 0. 0. 0. 0. 0. 0.]\n",
      " [0. 0. 0. 1. 0. 0. 0. 0. 0. 0. 0. 0. 0. 0. 0. 0. 0.]\n",
      " [1. 0. 0. 0. 0. 0. 0. 0. 0. 0. 0. 0. 0. 0. 0. 0. 0.]\n",
      " [0. 1. 0. 0. 0. 0. 0. 0. 0. 0. 0. 0. 0. 0. 0. 0. 0.]\n",
      " [0. 0. 0. 0. 0. 0. 0. 0. 0. 0. 0. 0. 0. 0. 0. 0. 0.]\n",
      " [0. 0. 0. 0. 0. 0. 0. 0. 0. 0. 0. 0. 0. 0. 0. 0. 0.]\n",
      " [0. 0. 0. 0. 0. 0. 0. 0. 0. 0. 0. 0. 0. 0. 0. 0. 0.]\n",
      " [1. 0. 0. 0. 0. 0. 0. 0. 0. 0. 0. 0. 0. 0. 0. 0. 0.]\n",
      " [0. 0. 0. 1. 0. 0. 0. 0. 0. 0. 0. 0. 0. 0. 0. 0. 0.]\n",
      " [1. 0. 0. 0. 0. 0. 0. 0. 0. 0. 0. 0. 0. 0. 0. 0. 0.]\n",
      " [0. 0. 0. 1. 0. 0. 0. 0. 0. 0. 0. 0. 0. 0. 0. 0. 0.]\n",
      " [0. 0. 1. 0. 0. 0. 0. 0. 0. 0. 0. 0. 0. 0. 0. 0. 0.]\n",
      " [0. 1. 0. 0. 0. 0. 0. 0. 0. 0. 0. 0. 0. 0. 0. 0. 0.]\n",
      " [0. 0. 0. 1. 0. 0. 0. 0. 0. 0. 0. 0. 0. 0. 0. 0. 0.]\n",
      " [1. 0. 0. 0. 0. 0. 0. 0. 0. 0. 0. 0. 0. 0. 0. 0. 0.]\n",
      " [1. 0. 0. 0. 0. 0. 0. 0. 0. 0. 0. 0. 0. 0. 0. 0. 0.]\n",
      " [0. 1. 0. 0. 0. 0. 0. 0. 0. 0. 0. 0. 0. 0. 0. 0. 0.]]\n",
      "6 6\n",
      "op_ids [0, 4, 5, 6]\n",
      "mark1\n",
      "mark1\n",
      "mark1\n",
      "TODO, Close figure\n"
     ]
    },
    {
     "data": {
      "image/png": "[encoded data removed]",
      "text/plain": [
       "<Figure size 432x288 with 1 Axes>"
      ]
     },
     "metadata": {},
     "output_type": "display_data"
    },
    {
     "name": "stderr",
     "output_type": "stream",
     "text": [
      "[MainProcess/INFO] 3 cases completed\n"
     ]
    },
    {
     "name": "stdout",
     "output_type": "stream",
     "text": [
      "[[0. 0. 0. 0. 0. 0. 0. 0. 0. 0. 0. 0. 0. 0. 0. 0. 0.]\n",
      " [0. 0. 0. 0. 0. 0. 0. 0. 0. 0. 0. 0. 0. 0. 0. 0. 0.]\n",
      " [0. 0. 0. 0. 0. 0. 0. 0. 0. 0. 0. 0. 0. 0. 0. 0. 0.]\n",
      " [0. 0. 0. 0. 0. 0. 0. 0. 0. 0. 0. 0. 0. 0. 0. 0. 0.]\n",
      " [0. 0. 0. 0. 0. 1. 0. 0. 0. 0. 0. 0. 0. 0. 0. 0. 0.]\n",
      " [0. 0. 0. 0. 1. 0. 0. 0. 0. 0. 0. 0. 0. 0. 0. 0. 0.]\n",
      " [0. 0. 0. 0. 1. 0. 0. 0. 0. 0. 0. 0. 0. 0. 0. 0. 0.]\n",
      " [0. 0. 0. 0. 0. 1. 0. 0. 0. 0. 0. 0. 0. 0. 0. 0. 0.]\n",
      " [0. 0. 0. 0. 0. 1. 0. 0. 0. 0. 0. 0. 0. 0. 0. 0. 0.]\n",
      " [0. 0. 0. 0. 0. 1. 0. 0. 0. 0. 0. 0. 0. 0. 0. 0. 0.]\n",
      " [0. 0. 0. 0. 0. 1. 0. 0. 0. 0. 0. 0. 0. 0. 0. 0. 0.]\n",
      " [1. 0. 0. 0. 0. 0. 0. 0. 0. 0. 0. 0. 0. 0. 0. 0. 0.]\n",
      " [0. 0. 0. 0. 0. 0. 1. 0. 0. 0. 0. 0. 0. 0. 0. 0. 0.]\n",
      " [0. 0. 0. 0. 0. 1. 0. 0. 0. 0. 0. 0. 0. 0. 0. 0. 0.]\n",
      " [0. 0. 0. 0. 0. 0. 1. 0. 0. 0. 0. 0. 0. 0. 0. 0. 0.]\n",
      " [0. 0. 0. 0. 1. 0. 0. 0. 0. 0. 0. 0. 0. 0. 0. 0. 0.]\n",
      " [0. 0. 0. 0. 0. 1. 0. 0. 0. 0. 0. 0. 0. 0. 0. 0. 0.]]\n",
      "6 6\n",
      "op_ids [0, 4, 5, 6]\n",
      "mark1\n",
      "mark1\n",
      "mark1\n",
      "TODO, Close figure\n"
     ]
    },
    {
     "data": {
      "image/png": "[encoded data removed]",
      "text/plain": [
       "<Figure size 432x288 with 1 Axes>"
      ]
     },
     "metadata": {},
     "output_type": "display_data"
    },
    {
     "name": "stderr",
     "output_type": "stream",
     "text": [
      "[MainProcess/INFO] 4 cases completed\n",
      "[MainProcess/INFO] experiments finished\n"
     ]
    },
    {
     "name": "stdout",
     "output_type": "stream",
     "text": [
      "[[0. 0. 0. 0. 0. 0. 0. 0. 0. 0. 0. 0. 0. 0. 0. 0. 0.]\n",
      " [0. 0. 0. 0. 0. 0. 0. 0. 0. 0. 0. 0. 0. 0. 0. 0. 0.]\n",
      " [0. 0. 0. 0. 0. 0. 0. 0. 0. 0. 0. 0. 0. 0. 0. 0. 0.]\n",
      " [0. 0. 0. 0. 0. 0. 0. 0. 0. 0. 0. 0. 0. 0. 0. 0. 0.]\n",
      " [1. 0. 0. 0. 0. 0. 0. 0. 0. 0. 0. 0. 0. 0. 0. 0. 0.]\n",
      " [0. 0. 0. 0. 0. 0. 1. 0. 0. 0. 0. 0. 0. 0. 0. 0. 0.]\n",
      " [0. 0. 0. 0. 0. 1. 0. 0. 0. 0. 0. 0. 0. 0. 0. 0. 0.]\n",
      " [0. 0. 0. 0. 0. 1. 0. 0. 0. 0. 0. 0. 0. 0. 0. 0. 0.]\n",
      " [0. 0. 0. 0. 1. 0. 0. 0. 0. 0. 0. 0. 0. 0. 0. 0. 0.]\n",
      " [0. 0. 0. 0. 1. 0. 0. 0. 0. 0. 0. 0. 0. 0. 0. 0. 0.]\n",
      " [0. 0. 0. 0. 0. 0. 1. 0. 0. 0. 0. 0. 0. 0. 0. 0. 0.]\n",
      " [0. 0. 0. 0. 1. 0. 0. 0. 0. 0. 0. 0. 0. 0. 0. 0. 0.]\n",
      " [0. 0. 0. 0. 0. 0. 1. 0. 0. 0. 0. 0. 0. 0. 0. 0. 0.]\n",
      " [0. 0. 0. 0. 1. 0. 0. 0. 0. 0. 0. 0. 0. 0. 0. 0. 0.]\n",
      " [0. 0. 0. 0. 0. 1. 0. 0. 0. 0. 0. 0. 0. 0. 0. 0. 0.]\n",
      " [0. 0. 0. 0. 0. 1. 0. 0. 0. 0. 0. 0. 0. 0. 0. 0. 0.]\n",
      " [0. 0. 0. 0. 0. 1. 0. 0. 0. 0. 0. 0. 0. 0. 0. 0. 0.]]\n"
     ]
    }
   ],
   "source": [
    "from ema_workbench import Policy, perform_experiments\n",
    "\n",
    "results = perform_experiments(FL_EMAmodel, 2,2)\n",
    "experiments, outcomes = results"
   ]
  },
  {
   "cell_type": "code",
   "execution_count": 527,
   "metadata": {},
   "outputs": [
    {
     "data": {
      "text/html": [
       "<div>\n",
       "<style scoped>\n",
       "    .dataframe tbody tr th:only-of-type {\n",
       "        vertical-align: middle;\n",
       "    }\n",
       "\n",
       "    .dataframe tbody tr th {\n",
       "        vertical-align: top;\n",
       "    }\n",
       "\n",
       "    .dataframe thead th {\n",
       "        text-align: right;\n",
       "    }\n",
       "</style>\n",
       "<table border=\"1\" class=\"dataframe\">\n",
       "  <thead>\n",
       "    <tr style=\"text-align: right;\">\n",
       "      <th></th>\n",
       "      <th>DPX0</th>\n",
       "      <th>DPX1</th>\n",
       "      <th>DPX2</th>\n",
       "      <th>DPX3</th>\n",
       "      <th>DPX4</th>\n",
       "      <th>DPX5</th>\n",
       "      <th>DPX6</th>\n",
       "      <th>DPX7</th>\n",
       "      <th>DPX8</th>\n",
       "      <th>DPX9</th>\n",
       "      <th>...</th>\n",
       "      <th>SPY0</th>\n",
       "      <th>FLO0</th>\n",
       "      <th>FLO1</th>\n",
       "      <th>FLO2</th>\n",
       "      <th>FLO3</th>\n",
       "      <th>FLO4</th>\n",
       "      <th>FLO5</th>\n",
       "      <th>scenario_id</th>\n",
       "      <th>policy</th>\n",
       "      <th>model</th>\n",
       "    </tr>\n",
       "  </thead>\n",
       "  <tbody>\n",
       "    <tr>\n",
       "      <th>0</th>\n",
       "      <td>3.264711</td>\n",
       "      <td>9.650825</td>\n",
       "      <td>1.294703</td>\n",
       "      <td>2.157435</td>\n",
       "      <td>1.445244</td>\n",
       "      <td>3.563416</td>\n",
       "      <td>6.283035</td>\n",
       "      <td>7.460475</td>\n",
       "      <td>1.309823</td>\n",
       "      <td>7.675739</td>\n",
       "      <td>...</td>\n",
       "      <td>5.197106</td>\n",
       "      <td>0</td>\n",
       "      <td>1</td>\n",
       "      <td>1</td>\n",
       "      <td>1</td>\n",
       "      <td>1</td>\n",
       "      <td>1</td>\n",
       "      <td>91</td>\n",
       "      <td>{'FLO0': 0, 'FLO1': 1, 'FLO2': 1, 'FLO3': 1, '...</td>\n",
       "      <td>flmodel</td>\n",
       "    </tr>\n",
       "    <tr>\n",
       "      <th>1</th>\n",
       "      <td>5.301885</td>\n",
       "      <td>3.119100</td>\n",
       "      <td>6.018172</td>\n",
       "      <td>6.322771</td>\n",
       "      <td>7.448395</td>\n",
       "      <td>5.234246</td>\n",
       "      <td>1.839807</td>\n",
       "      <td>3.904056</td>\n",
       "      <td>8.608461</td>\n",
       "      <td>4.991776</td>\n",
       "      <td>...</td>\n",
       "      <td>2.619243</td>\n",
       "      <td>0</td>\n",
       "      <td>1</td>\n",
       "      <td>1</td>\n",
       "      <td>1</td>\n",
       "      <td>1</td>\n",
       "      <td>1</td>\n",
       "      <td>92</td>\n",
       "      <td>{'FLO0': 0, 'FLO1': 1, 'FLO2': 1, 'FLO3': 1, '...</td>\n",
       "      <td>flmodel</td>\n",
       "    </tr>\n",
       "    <tr>\n",
       "      <th>2</th>\n",
       "      <td>3.264711</td>\n",
       "      <td>9.650825</td>\n",
       "      <td>1.294703</td>\n",
       "      <td>2.157435</td>\n",
       "      <td>1.445244</td>\n",
       "      <td>3.563416</td>\n",
       "      <td>6.283035</td>\n",
       "      <td>7.460475</td>\n",
       "      <td>1.309823</td>\n",
       "      <td>7.675739</td>\n",
       "      <td>...</td>\n",
       "      <td>5.197106</td>\n",
       "      <td>1</td>\n",
       "      <td>0</td>\n",
       "      <td>0</td>\n",
       "      <td>0</td>\n",
       "      <td>0</td>\n",
       "      <td>0</td>\n",
       "      <td>91</td>\n",
       "      <td>{'FLO0': 1, 'FLO1': 0, 'FLO2': 0, 'FLO3': 0, '...</td>\n",
       "      <td>flmodel</td>\n",
       "    </tr>\n",
       "    <tr>\n",
       "      <th>3</th>\n",
       "      <td>5.301885</td>\n",
       "      <td>3.119100</td>\n",
       "      <td>6.018172</td>\n",
       "      <td>6.322771</td>\n",
       "      <td>7.448395</td>\n",
       "      <td>5.234246</td>\n",
       "      <td>1.839807</td>\n",
       "      <td>3.904056</td>\n",
       "      <td>8.608461</td>\n",
       "      <td>4.991776</td>\n",
       "      <td>...</td>\n",
       "      <td>2.619243</td>\n",
       "      <td>1</td>\n",
       "      <td>0</td>\n",
       "      <td>0</td>\n",
       "      <td>0</td>\n",
       "      <td>0</td>\n",
       "      <td>0</td>\n",
       "      <td>92</td>\n",
       "      <td>{'FLO0': 1, 'FLO1': 0, 'FLO2': 0, 'FLO3': 0, '...</td>\n",
       "      <td>flmodel</td>\n",
       "    </tr>\n",
       "  </tbody>\n",
       "</table>\n",
       "<p>4 rows × 43 columns</p>\n",
       "</div>"
      ],
      "text/plain": [
       "       DPX0      DPX1      DPX2      DPX3      DPX4      DPX5      DPX6  \\\n",
       "0  3.264711  9.650825  1.294703  2.157435  1.445244  3.563416  6.283035   \n",
       "1  5.301885  3.119100  6.018172  6.322771  7.448395  5.234246  1.839807   \n",
       "2  3.264711  9.650825  1.294703  2.157435  1.445244  3.563416  6.283035   \n",
       "3  5.301885  3.119100  6.018172  6.322771  7.448395  5.234246  1.839807   \n",
       "\n",
       "       DPX7      DPX8      DPX9   ...         SPY0  FLO0  FLO1  FLO2  FLO3  \\\n",
       "0  7.460475  1.309823  7.675739   ...     5.197106     0     1     1     1   \n",
       "1  3.904056  8.608461  4.991776   ...     2.619243     0     1     1     1   \n",
       "2  7.460475  1.309823  7.675739   ...     5.197106     1     0     0     0   \n",
       "3  3.904056  8.608461  4.991776   ...     2.619243     1     0     0     0   \n",
       "\n",
       "   FLO4  FLO5  scenario_id                                             policy  \\\n",
       "0     1     1           91  {'FLO0': 0, 'FLO1': 1, 'FLO2': 1, 'FLO3': 1, '...   \n",
       "1     1     1           92  {'FLO0': 0, 'FLO1': 1, 'FLO2': 1, 'FLO3': 1, '...   \n",
       "2     0     0           91  {'FLO0': 1, 'FLO1': 0, 'FLO2': 0, 'FLO3': 0, '...   \n",
       "3     0     0           92  {'FLO0': 1, 'FLO1': 0, 'FLO2': 0, 'FLO3': 0, '...   \n",
       "\n",
       "     model  \n",
       "0  flmodel  \n",
       "1  flmodel  \n",
       "2  flmodel  \n",
       "3  flmodel  \n",
       "\n",
       "[4 rows x 43 columns]"
      ]
     },
     "execution_count": 527,
     "metadata": {},
     "output_type": "execute_result"
    }
   ],
   "source": [
    "pd.DataFrame(experiments)#[[\"FLO0\",\"FLO1\",\"FLO2\",\"FLO3\"]]"
   ]
  },
  {
   "cell_type": "code",
   "execution_count": 450,
   "metadata": {
    "scrolled": false
   },
   "outputs": [
    {
     "data": {
      "text/html": [
       "<div>\n",
       "<style scoped>\n",
       "    .dataframe tbody tr th:only-of-type {\n",
       "        vertical-align: middle;\n",
       "    }\n",
       "\n",
       "    .dataframe tbody tr th {\n",
       "        vertical-align: top;\n",
       "    }\n",
       "\n",
       "    .dataframe thead th {\n",
       "        text-align: right;\n",
       "    }\n",
       "</style>\n",
       "<table border=\"1\" class=\"dataframe\">\n",
       "  <thead>\n",
       "    <tr style=\"text-align: right;\">\n",
       "      <th></th>\n",
       "      <th>Total_cost</th>\n",
       "      <th>operational_FL</th>\n",
       "    </tr>\n",
       "  </thead>\n",
       "  <tbody>\n",
       "    <tr>\n",
       "      <th>0</th>\n",
       "      <td>335.970076</td>\n",
       "      <td>3.0</td>\n",
       "    </tr>\n",
       "    <tr>\n",
       "      <th>1</th>\n",
       "      <td>347.765237</td>\n",
       "      <td>3.0</td>\n",
       "    </tr>\n",
       "    <tr>\n",
       "      <th>2</th>\n",
       "      <td>335.970076</td>\n",
       "      <td>3.0</td>\n",
       "    </tr>\n",
       "    <tr>\n",
       "      <th>3</th>\n",
       "      <td>347.765237</td>\n",
       "      <td>3.0</td>\n",
       "    </tr>\n",
       "  </tbody>\n",
       "</table>\n",
       "</div>"
      ],
      "text/plain": [
       "   Total_cost  operational_FL\n",
       "0  335.970076             3.0\n",
       "1  347.765237             3.0\n",
       "2  335.970076             3.0\n",
       "3  347.765237             3.0"
      ]
     },
     "execution_count": 450,
     "metadata": {},
     "output_type": "execute_result"
    }
   ],
   "source": [
    "pd.DataFrame(outcomes)"
   ]
  },
  {
   "cell_type": "code",
   "execution_count": null,
   "metadata": {},
   "outputs": [],
   "source": []
  },
  {
   "cell_type": "code",
   "execution_count": 125,
   "metadata": {},
   "outputs": [
    {
     "data": {
      "text/plain": [
       "[]"
      ]
     },
     "execution_count": 125,
     "metadata": {},
     "output_type": "execute_result"
    }
   ],
   "source": [
    "[i for i in FL_EMAmodel.levers]"
   ]
  },
  {
   "cell_type": "code",
   "execution_count": null,
   "metadata": {},
   "outputs": [],
   "source": [
    "FL_EMAmodel.retrieve_output"
   ]
  },
  {
   "cell_type": "code",
   "execution_count": 1,
   "metadata": {
    "scrolled": true
   },
   "outputs": [
    {
     "data": {
      "text/plain": [
       "0"
      ]
     },
     "execution_count": 1,
     "metadata": {},
     "output_type": "execute_result"
    }
   ],
   "source": [
    "0"
   ]
  },
  {
   "cell_type": "code",
   "execution_count": null,
   "metadata": {},
   "outputs": [],
   "source": []
  },
  {
   "cell_type": "code",
   "execution_count": null,
   "metadata": {},
   "outputs": [],
   "source": []
  },
  {
   "cell_type": "code",
   "execution_count": null,
   "metadata": {},
   "outputs": [],
   "source": []
  },
  {
   "cell_type": "markdown",
   "metadata": {
    "heading_collapsed": true
   },
   "source": [
    "# Platypus optimisation"
   ]
  },
  {
   "cell_type": "code",
   "execution_count": 14,
   "metadata": {
    "hidden": true
   },
   "outputs": [],
   "source": [
    "# imports\n",
    "from platypus import NSGAII, Problem, Binary, Real, Integer"
   ]
  },
  {
   "cell_type": "code",
   "execution_count": 10,
   "metadata": {
    "hidden": true
   },
   "outputs": [],
   "source": [
    "def FL_model(d_vars=None): # None to make compatible with EMA\n",
    "\n",
    "    # set global operational FL\n",
    "    for i in range(len(d_vars)):\n",
    "        facility_locations[i].operational = d_vars[i]\n",
    "\n",
    "    trans_costs = calc_transportation_costs(supply_points, demand_points,\n",
    "                                      facility_locations, distances)\n",
    "\n",
    "    costs = trans_costs #+ other costs\n",
    "    \n",
    "    objectives = [\n",
    "        costs,\n",
    "    ]\n",
    "    constraints = [sum(d_vars),]\n",
    "\n",
    "    return objectives, constraints"
   ]
  },
  {
   "cell_type": "code",
   "execution_count": 54,
   "metadata": {
    "hidden": true
   },
   "outputs": [],
   "source": [
    "# nr of decision variables, number of objectives, number of constraints\n",
    "problem = Problem(nr_optional_FL, 1, 1)\n",
    "\n",
    "# Decision variables for possible facility locations\n",
    "problem.types[:] = [Integer(0,1) for a in range(nr_optional_FL)]\n",
    "\n",
    "# constraint: number of total operation FL\n",
    "problem.constraints[:] = \"=={}\".format(max_nr_FL)\n",
    "problem.function = FL_model\n",
    "\n",
    "algorithm = NSGAII(problem)\n",
    "algorithm.run(10000)"
   ]
  },
  {
   "cell_type": "code",
   "execution_count": 50,
   "metadata": {
    "hidden": true
   },
   "outputs": [
    {
     "data": {
      "text/plain": [
       "'==2'"
      ]
     },
     "execution_count": 50,
     "metadata": {},
     "output_type": "execute_result"
    }
   ],
   "source": []
  },
  {
   "cell_type": "code",
   "execution_count": 17,
   "metadata": {
    "hidden": true
   },
   "outputs": [],
   "source": [
    "from platypus import nondominated"
   ]
  },
  {
   "cell_type": "code",
   "execution_count": null,
   "metadata": {
    "hidden": true
   },
   "outputs": [],
   "source": []
  },
  {
   "cell_type": "code",
   "execution_count": 55,
   "metadata": {
    "hidden": true,
    "scrolled": true
   },
   "outputs": [],
   "source": [
    "a = nondominated (algorithm.result)"
   ]
  },
  {
   "cell_type": "code",
   "execution_count": 57,
   "metadata": {
    "collapsed": true,
    "hidden": true
   },
   "outputs": [
    {
     "data": {
      "text/plain": [
       "[Solution[[False],[True],[False],[False],[False],[False],[False],[False],[True],[False]|68.98869101013045|0.0],\n",
       " Solution[[False],[True],[False],[False],[False],[False],[False],[False],[True],[False]|68.98869101013045|0.0],\n",
       " Solution[[False],[True],[False],[False],[False],[False],[False],[False],[True],[False]|68.98869101013045|0.0],\n",
       " Solution[[False],[True],[False],[False],[False],[False],[False],[False],[True],[False]|68.98869101013045|0.0],\n",
       " Solution[[False],[True],[False],[False],[False],[False],[False],[False],[True],[False]|68.98869101013045|0.0],\n",
       " Solution[[False],[True],[False],[False],[False],[False],[False],[False],[True],[False]|68.98869101013045|0.0],\n",
       " Solution[[False],[True],[False],[False],[False],[False],[False],[False],[True],[False]|68.98869101013045|0.0],\n",
       " Solution[[False],[True],[False],[False],[False],[False],[False],[False],[True],[False]|68.98869101013045|0.0],\n",
       " Solution[[False],[True],[False],[False],[False],[False],[False],[False],[True],[False]|68.98869101013045|0.0],\n",
       " Solution[[False],[True],[False],[False],[False],[False],[False],[False],[True],[False]|68.98869101013045|0.0],\n",
       " Solution[[False],[True],[False],[False],[False],[False],[False],[False],[True],[False]|68.98869101013045|0.0],\n",
       " Solution[[False],[True],[False],[False],[False],[False],[False],[False],[True],[False]|68.98869101013045|0.0],\n",
       " Solution[[False],[True],[False],[False],[False],[False],[False],[False],[True],[False]|68.98869101013045|0.0],\n",
       " Solution[[False],[True],[False],[False],[False],[False],[False],[False],[True],[False]|68.98869101013045|0.0],\n",
       " Solution[[False],[True],[False],[False],[False],[False],[False],[False],[True],[False]|68.98869101013045|0.0],\n",
       " Solution[[False],[True],[False],[False],[False],[False],[False],[False],[True],[False]|68.98869101013045|0.0],\n",
       " Solution[[False],[True],[False],[False],[False],[False],[False],[False],[True],[False]|68.98869101013045|0.0],\n",
       " Solution[[False],[True],[False],[False],[False],[False],[False],[False],[True],[False]|68.98869101013045|0.0],\n",
       " Solution[[False],[True],[False],[False],[False],[False],[False],[False],[True],[False]|68.98869101013045|0.0],\n",
       " Solution[[False],[True],[False],[False],[False],[False],[False],[False],[True],[False]|68.98869101013045|0.0],\n",
       " Solution[[False],[True],[False],[False],[False],[False],[False],[False],[True],[False]|68.98869101013045|0.0],\n",
       " Solution[[False],[True],[False],[False],[False],[False],[False],[False],[True],[False]|68.98869101013045|0.0],\n",
       " Solution[[False],[True],[False],[False],[False],[False],[False],[False],[True],[False]|68.98869101013045|0.0],\n",
       " Solution[[False],[True],[False],[False],[False],[False],[False],[False],[True],[False]|68.98869101013045|0.0],\n",
       " Solution[[False],[True],[False],[False],[False],[False],[False],[False],[True],[False]|68.98869101013045|0.0],\n",
       " Solution[[False],[True],[False],[False],[False],[False],[False],[False],[True],[False]|68.98869101013045|0.0],\n",
       " Solution[[False],[True],[False],[False],[False],[False],[False],[False],[True],[False]|68.98869101013045|0.0],\n",
       " Solution[[False],[True],[False],[False],[False],[False],[False],[False],[True],[False]|68.98869101013045|0.0],\n",
       " Solution[[False],[True],[False],[False],[False],[False],[False],[False],[True],[False]|68.98869101013045|0.0],\n",
       " Solution[[False],[True],[False],[False],[False],[False],[False],[False],[True],[False]|68.98869101013045|0.0],\n",
       " Solution[[False],[True],[False],[False],[False],[False],[False],[False],[True],[False]|68.98869101013045|0.0],\n",
       " Solution[[False],[True],[False],[False],[False],[False],[False],[False],[True],[False]|68.98869101013045|0.0],\n",
       " Solution[[False],[True],[False],[False],[False],[False],[False],[False],[True],[False]|68.98869101013045|0.0],\n",
       " Solution[[False],[True],[False],[False],[False],[False],[False],[False],[True],[False]|68.98869101013045|0.0],\n",
       " Solution[[False],[True],[False],[False],[False],[False],[False],[False],[True],[False]|68.98869101013045|0.0],\n",
       " Solution[[False],[True],[False],[False],[False],[False],[False],[False],[True],[False]|68.98869101013045|0.0],\n",
       " Solution[[False],[True],[False],[False],[False],[False],[False],[False],[True],[False]|68.98869101013045|0.0],\n",
       " Solution[[False],[True],[False],[False],[False],[False],[False],[False],[True],[False]|68.98869101013045|0.0],\n",
       " Solution[[False],[True],[False],[False],[False],[False],[False],[False],[True],[False]|68.98869101013045|0.0],\n",
       " Solution[[False],[True],[False],[False],[False],[False],[False],[False],[True],[False]|68.98869101013045|0.0],\n",
       " Solution[[False],[True],[False],[False],[False],[False],[False],[False],[True],[False]|68.98869101013045|0.0],\n",
       " Solution[[False],[True],[False],[False],[False],[False],[False],[False],[True],[False]|68.98869101013045|0.0],\n",
       " Solution[[False],[True],[False],[False],[False],[False],[False],[False],[True],[False]|68.98869101013045|0.0],\n",
       " Solution[[False],[True],[False],[False],[False],[False],[False],[False],[True],[False]|68.98869101013045|0.0],\n",
       " Solution[[False],[True],[False],[False],[False],[False],[False],[False],[True],[False]|68.98869101013045|0.0],\n",
       " Solution[[False],[True],[False],[False],[False],[False],[False],[False],[True],[False]|68.98869101013045|0.0],\n",
       " Solution[[False],[True],[False],[False],[False],[False],[False],[False],[True],[False]|68.98869101013045|0.0],\n",
       " Solution[[False],[True],[False],[False],[False],[False],[False],[False],[True],[False]|68.98869101013045|0.0],\n",
       " Solution[[False],[True],[False],[False],[False],[False],[False],[False],[True],[False]|68.98869101013045|0.0],\n",
       " Solution[[False],[True],[False],[False],[False],[False],[False],[False],[True],[False]|68.98869101013045|0.0],\n",
       " Solution[[False],[True],[False],[False],[False],[False],[False],[False],[True],[False]|68.98869101013045|0.0],\n",
       " Solution[[False],[True],[False],[False],[False],[False],[False],[False],[True],[False]|68.98869101013045|0.0],\n",
       " Solution[[False],[True],[False],[False],[False],[False],[False],[False],[True],[False]|68.98869101013045|0.0],\n",
       " Solution[[False],[True],[False],[False],[False],[False],[False],[False],[True],[False]|68.98869101013045|0.0],\n",
       " Solution[[False],[True],[False],[False],[False],[False],[False],[False],[True],[False]|68.98869101013045|0.0],\n",
       " Solution[[False],[True],[False],[False],[False],[False],[False],[False],[True],[False]|68.98869101013045|0.0],\n",
       " Solution[[False],[True],[False],[False],[False],[False],[False],[False],[True],[False]|68.98869101013045|0.0],\n",
       " Solution[[False],[True],[False],[False],[False],[False],[False],[False],[True],[False]|68.98869101013045|0.0],\n",
       " Solution[[False],[True],[False],[False],[False],[False],[False],[False],[True],[False]|68.98869101013045|0.0],\n",
       " Solution[[False],[True],[False],[False],[False],[False],[False],[False],[True],[False]|68.98869101013045|0.0],\n",
       " Solution[[False],[True],[False],[False],[False],[False],[False],[False],[True],[False]|68.98869101013045|0.0],\n",
       " Solution[[False],[True],[False],[False],[False],[False],[False],[False],[True],[False]|68.98869101013045|0.0],\n",
       " Solution[[False],[True],[False],[False],[False],[False],[False],[False],[True],[False]|68.98869101013045|0.0],\n",
       " Solution[[False],[True],[False],[False],[False],[False],[False],[False],[True],[False]|68.98869101013045|0.0],\n",
       " Solution[[False],[True],[False],[False],[False],[False],[False],[False],[True],[False]|68.98869101013045|0.0],\n",
       " Solution[[False],[True],[False],[False],[False],[False],[False],[False],[True],[False]|68.98869101013045|0.0],\n",
       " Solution[[False],[True],[False],[False],[False],[False],[False],[False],[True],[False]|68.98869101013045|0.0],\n",
       " Solution[[False],[True],[False],[False],[False],[False],[False],[False],[True],[False]|68.98869101013045|0.0],\n",
       " Solution[[False],[True],[False],[False],[False],[False],[False],[False],[True],[False]|68.98869101013045|0.0],\n",
       " Solution[[False],[True],[False],[False],[False],[False],[False],[False],[True],[False]|68.98869101013045|0.0],\n",
       " Solution[[False],[True],[False],[False],[False],[False],[False],[False],[True],[False]|68.98869101013045|0.0],\n",
       " Solution[[False],[True],[False],[False],[False],[False],[False],[False],[True],[False]|68.98869101013045|0.0],\n",
       " Solution[[False],[True],[False],[False],[False],[False],[False],[False],[True],[False]|68.98869101013045|0.0],\n",
       " Solution[[False],[True],[False],[False],[False],[False],[False],[False],[True],[False]|68.98869101013045|0.0],\n",
       " Solution[[False],[True],[False],[False],[False],[False],[False],[False],[True],[False]|68.98869101013045|0.0],\n",
       " Solution[[False],[True],[False],[False],[False],[False],[False],[False],[True],[False]|68.98869101013045|0.0],\n",
       " Solution[[False],[True],[False],[False],[False],[False],[False],[False],[True],[False]|68.98869101013045|0.0],\n",
       " Solution[[False],[True],[False],[False],[False],[False],[False],[False],[True],[False]|68.98869101013045|0.0],\n",
       " Solution[[False],[True],[False],[False],[False],[False],[False],[False],[True],[False]|68.98869101013045|0.0],\n",
       " Solution[[False],[True],[False],[False],[False],[False],[False],[False],[True],[False]|68.98869101013045|0.0],\n",
       " Solution[[False],[True],[False],[False],[False],[False],[False],[False],[True],[False]|68.98869101013045|0.0],\n",
       " Solution[[False],[True],[False],[False],[False],[False],[False],[False],[True],[False]|68.98869101013045|0.0],\n",
       " Solution[[False],[True],[False],[False],[False],[False],[False],[False],[True],[False]|68.98869101013045|0.0],\n",
       " Solution[[False],[True],[False],[False],[False],[False],[False],[False],[True],[False]|68.98869101013045|0.0],\n",
       " Solution[[False],[True],[False],[False],[False],[False],[False],[False],[True],[False]|68.98869101013045|0.0],\n",
       " Solution[[False],[True],[False],[False],[False],[False],[False],[False],[True],[False]|68.98869101013045|0.0],\n",
       " Solution[[False],[True],[False],[False],[False],[False],[False],[False],[True],[False]|68.98869101013045|0.0],\n",
       " Solution[[False],[True],[False],[False],[False],[False],[False],[False],[True],[False]|68.98869101013045|0.0],\n",
       " Solution[[False],[True],[False],[False],[False],[False],[False],[False],[True],[False]|68.98869101013045|0.0],\n",
       " Solution[[False],[True],[False],[False],[False],[False],[False],[False],[True],[False]|68.98869101013045|0.0],\n",
       " Solution[[False],[True],[False],[False],[False],[False],[False],[False],[True],[False]|68.98869101013045|0.0],\n",
       " Solution[[False],[True],[False],[False],[False],[False],[False],[False],[True],[False]|68.98869101013045|0.0],\n",
       " Solution[[False],[True],[False],[False],[False],[False],[False],[False],[True],[False]|68.98869101013045|0.0],\n",
       " Solution[[False],[True],[False],[False],[False],[False],[False],[False],[True],[False]|68.98869101013045|0.0],\n",
       " Solution[[False],[True],[False],[False],[False],[False],[False],[False],[True],[False]|68.98869101013045|0.0],\n",
       " Solution[[False],[True],[False],[False],[False],[False],[False],[False],[True],[False]|68.98869101013045|0.0],\n",
       " Solution[[False],[True],[False],[False],[False],[False],[False],[False],[True],[False]|68.98869101013045|0.0],\n",
       " Solution[[False],[True],[False],[False],[False],[False],[False],[False],[True],[False]|68.98869101013045|0.0],\n",
       " Solution[[False],[True],[False],[False],[False],[False],[False],[False],[True],[False]|68.98869101013045|0.0],\n",
       " Solution[[False],[True],[False],[False],[False],[False],[False],[False],[True],[False]|68.98869101013045|0.0]]"
      ]
     },
     "execution_count": 57,
     "metadata": {},
     "output_type": "execute_result"
    }
   ],
   "source": [
    "a"
   ]
  },
  {
   "cell_type": "code",
   "execution_count": 56,
   "metadata": {
    "hidden": true
   },
   "outputs": [
    {
     "name": "stdout",
     "output_type": "stream",
     "text": [
      "68.98869101013045\n"
     ]
    }
   ],
   "source": [
    "for i in a[0].objectives:\n",
    "    print(i)"
   ]
  },
  {
   "cell_type": "code",
   "execution_count": 44,
   "metadata": {
    "hidden": true
   },
   "outputs": [
    {
     "data": {
      "text/plain": [
       "33.50099827255527"
      ]
     },
     "execution_count": 44,
     "metadata": {},
     "output_type": "execute_result"
    }
   ],
   "source": [
    "a[0].objectives[0]"
   ]
  },
  {
   "cell_type": "code",
   "execution_count": 46,
   "metadata": {
    "hidden": true,
    "scrolled": true
   },
   "outputs": [
    {
     "data": {
      "text/plain": [
       "{33.50099827255527}"
      ]
     },
     "execution_count": 46,
     "metadata": {},
     "output_type": "execute_result"
    }
   ],
   "source": [
    "set([i.objectives[0] for i in a])"
   ]
  },
  {
   "cell_type": "markdown",
   "metadata": {},
   "source": [
    "# Next steps"
   ]
  },
  {
   "cell_type": "markdown",
   "metadata": {},
   "source": [
    "Choices:\n",
    "- Capacitated vs uncapacitated?\n",
    "- Endogenous vs exogenous number of facilities each optimisation step \n",
    "    - each increment: exogenous\n",
    "    - Full network: endogenous\n",
    "\n",
    "Do:\n",
    "- Assign demand points to closest facilities (:allocation) - Done\n",
    "- optimise with only distance to linked demand points - Done\n",
    "- set up with EMA - Now\n",
    "    - 1. be able to run single\n",
    "        - specific Scen: uncertainties: Case instantiation\n",
    "        - specific Pol\n",
    "    - 2. be able to run multi \n",
    "        - multi scen\n",
    "        - multi pol\n",
    "- Coverage\n",
    "- allocation: make sure all FL are connected to a SP\n",
    "- social costs\n",
    "- equity\n",
    "\n",
    "How:\n",
    "- create for each demand class a \"allocated facility\"\n",
    "- Only add costs for distances between \"linked\" demand-facility points\n",
    "- look at paper guthjahr? user equilibrium?"
   ]
  },
  {
   "cell_type": "code",
   "execution_count": null,
   "metadata": {},
   "outputs": [],
   "source": [
    "temp todo\n",
    "make single run with specific scenario (case) and specific policy(FL)"
   ]
  }
 ],
 "metadata": {
  "kernelspec": {
   "display_name": "Python 3",
   "language": "python",
   "name": "python3"
  },
  "language_info": {
   "codemirror_mode": {
    "name": "ipython",
    "version": 3
   },
   "file_extension": ".py",
   "mimetype": "text/x-python",
   "name": "python",
   "nbconvert_exporter": "python",
   "pygments_lexer": "ipython3",
   "version": "3.6.4"
  },
  "notify_time": "5",
  "toc": {
   "nav_menu": {
    "height": "416px",
    "width": "437px"
   },
   "number_sections": true,
   "sideBar": true,
   "skip_h1_title": false,
   "title_cell": "Table of Contents",
   "title_sidebar": "Contents",
   "toc_cell": false,
   "toc_position": {
    "height": "100px",
    "left": "754px",
    "top": "110.5px",
    "width": "212px"
   },
   "toc_section_display": true,
   "toc_window_display": true
  }
 },
 "nbformat": 4,
 "nbformat_minor": 2
}
