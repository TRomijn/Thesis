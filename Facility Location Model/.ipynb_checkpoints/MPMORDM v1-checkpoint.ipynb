{
 "cells": [
  {
   "cell_type": "markdown",
   "metadata": {},
   "source": [
    "Versions:\n",
    "* v1: Nepal Data, EMA implementation start. First working test with EMA"
   ]
  },
  {
   "cell_type": "code",
   "execution_count": 32,
   "metadata": {},
   "outputs": [],
   "source": [
    "# Standard imports\n",
    "import random\n",
    "import pandas as pd\n",
    "import numpy as np\n",
    "\n",
    "# Own Model import\n",
    "from lib.fl_model_v1 import *\n",
    "\n",
    "#for nondominated sorting\n",
    "import lib.pareto as pareto"
   ]
  },
  {
   "cell_type": "code",
   "execution_count": null,
   "metadata": {},
   "outputs": [],
   "source": []
  },
  {
   "cell_type": "markdown",
   "metadata": {},
   "source": [
    "# FL Model test"
   ]
  },
  {
   "cell_type": "code",
   "execution_count": 2,
   "metadata": {},
   "outputs": [],
   "source": [
    "# For direct input model\n",
    "nr_of_SPs = 1\n",
    "nr_of_DPs = 5\n",
    "nr_of_FLs = 6\n",
    "nr_nodes = nr_of_SPs + nr_of_DPs + nr_of_FLs\n",
    "areasize = 10\n",
    "\n",
    "# Disruptions for each node\n",
    "\n",
    "# DSR = Disruption Demand Points\n",
    "# .5, 1.5: 50% of the time more or less, for traveling that distance\n",
    "DSRDP = {\"DSRDP{}\".format(i): random.uniform (.5, 1.5) for i in range(nr_of_DPs)}\n",
    "DSRFL = {\"DSRFL{}\".format(i): random.uniform (.5, 1.5) for i in range(nr_of_FLs)}\n",
    "\n",
    "# Coordinates\n",
    "SPX = {\"SPX{}\".format(i): random.uniform(0,areasize) for i in range(nr_of_SPs)}\n",
    "SPY = {\"SPY{}\".format(i): random.uniform(0,areasize) for i in range(nr_of_SPs)}\n",
    "DPX = {\"DPX{}\".format(i): random.uniform(0,areasize) for i in range(nr_of_DPs)}\n",
    "DPY = {\"DPY{}\".format(i): random.uniform(0,areasize) for i in range(nr_of_DPs)}\n",
    "FLX = {\"FLX{}\".format(i): random.uniform(0,areasize) for i in range(nr_of_FLs)}\n",
    "FLY = {\"FLY{}\".format(i): random.uniform(0,areasize) for i in range(nr_of_FLs)}\n",
    "\n",
    "FLO={\"FLO0\":1,\"FLO1\":1 ,\"FLO2\":0,\"FLO3\":1,\"FLO4\":0,\"FLO5\":0}"
   ]
  },
  {
   "cell_type": "code",
   "execution_count": 3,
   "metadata": {},
   "outputs": [
    {
     "data": {
      "image/png": "[encoded data removed]",
      "text/plain": [
       "<Figure size 432x288 with 1 Axes>"
      ]
     },
     "metadata": {},
     "output_type": "display_data"
    },
    {
     "data": {
      "text/plain": [
       "(762.6302361870196, 2, 20.0, 0.2340089078995329, 3)"
      ]
     },
     "execution_count": 3,
     "metadata": {},
     "output_type": "execute_result"
    }
   ],
   "source": [
    "# costs, nr_uncovered_DPs, total_uncovered_demand, total_distr_time, nr_op_fls = \n",
    "FL_model(\n",
    "    100,\n",
    "    1,\n",
    "    True,\n",
    "    FL_range=2,\n",
    "    dist_method=\"euclidean\",\n",
    "    **SPX,\n",
    "    **SPY,\n",
    "    **DPX,\n",
    "    **DPY,\n",
    "    **FLX,\n",
    "    **FLY,\n",
    "    **FLO,\n",
    "    **DSRDP,\n",
    "    **DSRFL)"
   ]
  },
  {
   "cell_type": "markdown",
   "metadata": {},
   "source": [
    "# FL Model Nepal"
   ]
  },
  {
   "cell_type": "markdown",
   "metadata": {},
   "source": [
    "## Nepal Data"
   ]
  },
  {
   "cell_type": "code",
   "execution_count": 184,
   "metadata": {},
   "outputs": [
    {
     "data": {
      "text/html": [
       "<div>\n",
       "<style scoped>\n",
       "    .dataframe tbody tr th:only-of-type {\n",
       "        vertical-align: middle;\n",
       "    }\n",
       "\n",
       "    .dataframe tbody tr th {\n",
       "        vertical-align: top;\n",
       "    }\n",
       "\n",
       "    .dataframe thead th {\n",
       "        text-align: right;\n",
       "    }\n",
       "</style>\n",
       "<table border=\"1\" class=\"dataframe\">\n",
       "  <thead>\n",
       "    <tr style=\"text-align: right;\">\n",
       "      <th></th>\n",
       "      <th>City</th>\n",
       "      <th>Population</th>\n",
       "      <th>Latitude (DD)</th>\n",
       "      <th>Longitude (DD)</th>\n",
       "    </tr>\n",
       "  </thead>\n",
       "  <tbody>\n",
       "    <tr>\n",
       "      <th>0</th>\n",
       "      <td>Kathmandu</td>\n",
       "      <td>743300</td>\n",
       "      <td>27.71</td>\n",
       "      <td>85.31</td>\n",
       "    </tr>\n",
       "  </tbody>\n",
       "</table>\n",
       "</div>"
      ],
      "text/plain": [
       "        City  Population  Latitude (DD)  Longitude (DD)\n",
       "0  Kathmandu      743300          27.71           85.31"
      ]
     },
     "execution_count": 184,
     "metadata": {},
     "output_type": "execute_result"
    }
   ],
   "source": [
    "Nepal = pd.read_excel(\"Data/Nepal Cities Population.xlsx\", usecols=[1,2,3,4])\n",
    "\n",
    "# Take only larger cities, because of many null values under 50000 inhabitants. \n",
    "# TODO find better dataset with population and coordinates\n",
    "Nepal = Nepal [Nepal.Population >= 50000]\n",
    "Nepal.head(1)"
   ]
  },
  {
   "cell_type": "code",
   "execution_count": 185,
   "metadata": {},
   "outputs": [
    {
     "data": {
      "text/html": [
       "<div>\n",
       "<style scoped>\n",
       "    .dataframe tbody tr th:only-of-type {\n",
       "        vertical-align: middle;\n",
       "    }\n",
       "\n",
       "    .dataframe tbody tr th {\n",
       "        vertical-align: top;\n",
       "    }\n",
       "\n",
       "    .dataframe thead th {\n",
       "        text-align: right;\n",
       "    }\n",
       "</style>\n",
       "<table border=\"1\" class=\"dataframe\">\n",
       "  <thead>\n",
       "    <tr style=\"text-align: right;\">\n",
       "      <th></th>\n",
       "      <th>Airport</th>\n",
       "      <th>Latitude (DD)</th>\n",
       "      <th>Longitude (DD)</th>\n",
       "    </tr>\n",
       "  </thead>\n",
       "  <tbody>\n",
       "    <tr>\n",
       "      <th>7</th>\n",
       "      <td>Tribhuvan intl</td>\n",
       "      <td>27.7</td>\n",
       "      <td>85.36</td>\n",
       "    </tr>\n",
       "  </tbody>\n",
       "</table>\n",
       "</div>"
      ],
      "text/plain": [
       "          Airport  Latitude (DD)  Longitude (DD)\n",
       "7  Tribhuvan intl           27.7           85.36"
      ]
     },
     "execution_count": 185,
     "metadata": {},
     "output_type": "execute_result"
    }
   ],
   "source": [
    "airports = pd.read_excel(\"Data/Nepal Airports.xlsx\", usecols=[0,5,6])\n",
    "int_airports = airports[airports['Airport'] == \"Tribhuvan intl\"]\n",
    "int_airports.head()"
   ]
  },
  {
   "cell_type": "markdown",
   "metadata": {},
   "source": [
    "## Nepal Instantiation "
   ]
  },
  {
   "cell_type": "code",
   "execution_count": 6,
   "metadata": {},
   "outputs": [],
   "source": [
    "# 0. Instantiate\n",
    "\n",
    "# General\n",
    "# Coordinates\n",
    "# all large cities to demand points\n",
    "DPY = {\"DPY{}\".format(i): y for i,y in enumerate(Nepal['Latitude (DD)'])}\n",
    "DPX = {\"DPX{}\".format(i): x for i,x in enumerate(Nepal['Longitude (DD)'])}\n",
    "\n",
    "# all international airports to supply points:\n",
    "SPY = {\"SPY{}\".format(i): y for i,y in enumerate(int_airports['Latitude (DD)'])}\n",
    "SPX = {\"SPX{}\".format(i): x for i,x in enumerate(int_airports['Longitude (DD)'])}\n",
    "\n",
    "# Create random facility locations\n",
    "# lon lat min:\n",
    "\n",
    "long_min, lat_min, long_max, lat_max = 80, 25.767, 88.183, 30.45\n",
    "\n",
    "nr_of_FLs = 6\n",
    "FLX = {\"FLX{}\".format(i): random.uniform(long_min,long_max) for i in range(nr_of_FLs)}\n",
    "FLY = {\"FLY{}\".format(i): random.uniform(lat_min,lat_max) for i in range(nr_of_FLs)}\n",
    "# # Uncertainties + Ranges\n",
    "# # For direct input model\n",
    "# nr_of_SPs = 1\n",
    "# nr_of_DPs = 5\n",
    "\n",
    "# nr_nodes = nr_of_SPs + nr_of_DPs + nr_of_FLs\n",
    "# areasize = 10\n",
    "\n",
    "# # Disruptions for each node\n",
    "\n",
    "# DSR = Disruption Demand Points\n",
    "# .5, 1.5: 50% of the time more or less, for traveling that distance\n",
    "DSRDP = {\"DSRDP{}\".format(i): random.uniform (.5, 1.5) for i in range(len(DPX))}\n",
    "DSRFL = {\"DSRFL{}\".format(i): random.uniform (.5, 1.5) for i in range(nr_of_FLs)}\n",
    "\n",
    "# Decision Variables\n",
    "FLO={\"FLO0\":0,\"FLO1\":0 ,\"FLO2\":0,\"FLO3\":0,\"FLO4\":0,\"FLO5\":0}"
   ]
  },
  {
   "cell_type": "markdown",
   "metadata": {},
   "source": [
    "## Nepal Model Evaluator"
   ]
  },
  {
   "cell_type": "code",
   "execution_count": 7,
   "metadata": {
    "scrolled": false
   },
   "outputs": [
    {
     "data": {
      "image/png": "[encoded data removed]",
      "text/plain": [
       "<Figure size 432x288 with 1 Axes>"
      ]
     },
     "metadata": {},
     "output_type": "display_data"
    },
    {
     "data": {
      "text/plain": [
       "(844.0169777569713, 14, 140.0, 0.36457716303394555, 0)"
      ]
     },
     "execution_count": 7,
     "metadata": {},
     "output_type": "execute_result"
    }
   ],
   "source": [
    "FL_model(\n",
    "    100,\n",
    "    1,\n",
    "    True,\n",
    "    FL_range=10,\n",
    "    dist_method=\"great_circle\",\n",
    "    **SPX,\n",
    "    **SPY,\n",
    "    **DPX,\n",
    "    **DPY,\n",
    "    **FLX,\n",
    "    **FLY,\n",
    "    **FLO,\n",
    "    **DSRDP,\n",
    "    **DSRFL)"
   ]
  },
  {
   "cell_type": "markdown",
   "metadata": {},
   "source": [
    "# Multi-Objective Optimisation Framework"
   ]
  },
  {
   "cell_type": "markdown",
   "metadata": {},
   "source": [
    "Pseudocode:\n",
    "\n",
    "    Current situation\n",
    "    Create possible options (full factorial)\n",
    "    Evaluate all possible options\n",
    "    Check pareto front of outcomes"
   ]
  },
  {
   "cell_type": "code",
   "execution_count": 21,
   "metadata": {},
   "outputs": [
    {
     "data": {
      "text/plain": [
       "{'FLO0': 0, 'FLO1': 0, 'FLO2': 0, 'FLO3': 0, 'FLO4': 0, 'FLO5': 0}"
      ]
     },
     "execution_count": 21,
     "metadata": {},
     "output_type": "execute_result"
    }
   ],
   "source": [
    "current_situation = FLO\n",
    "current_situation"
   ]
  },
  {
   "cell_type": "code",
   "execution_count": 22,
   "metadata": {
    "code_folding": [
     0
    ]
   },
   "outputs": [],
   "source": [
    "def create_policies(FL_dict, print_pols=False):\n",
    "    \"\"\"\n",
    "    Takes the current network of Facility Locations and returns all possible policies for one added FL.\n",
    "    \n",
    "    Input: current option (Dict of FLs)\n",
    "    Output: List of options (Dicts of FLs)\n",
    "    \"\"\"\n",
    "    # All FL names\n",
    "    FL_keys = sorted(FL_dict.keys())\n",
    "    # All FL values indicating whether operational\n",
    "    FL_values = [FL_dict[key] for key in FL_keys]\n",
    "    \n",
    "    i_operational_fls = i_FL_op = [i for i,x in enumerate(FL_values) if x == 1]\n",
    "    \n",
    "    # Create list of policies  \n",
    "    pols = np.identity(len(FL_keys))\n",
    "    # Set already operational facilities to operational\n",
    "    pols[:,i_operational_fls] = 1\n",
    "    \n",
    "    #Delete policies where no new FLs are placed \n",
    "    new_n_operational_fls = sum(FL_values) + 1\n",
    "    pols = pols[pols.sum(axis = 1) == new_n_operational_fls]\n",
    "\n",
    "    \n",
    "    # Return a list of dictionaries\n",
    "    policy_list = []\n",
    "    for pol in pols:\n",
    "        policy_list.append({key:value for key,value in zip(FL_keys,pol)})\n",
    "    \n",
    "    if print_pols == True:\n",
    "        print(\"total policies:\",len(policy_list))\n",
    "        for n,i in enumerate(policy_list):\n",
    "            for v in i.values():\n",
    "                print (int(v), end='')\n",
    "            print(\" <- policy {}\".format(n))\n",
    "                \n",
    "    return policy_list"
   ]
  },
  {
   "cell_type": "code",
   "execution_count": 23,
   "metadata": {},
   "outputs": [
    {
     "name": "stdout",
     "output_type": "stream",
     "text": [
      "total policies: 6\n",
      "100000 <- policy 0\n",
      "010000 <- policy 1\n",
      "001000 <- policy 2\n",
      "000100 <- policy 3\n",
      "000010 <- policy 4\n",
      "000001 <- policy 5\n"
     ]
    }
   ],
   "source": [
    "policies = create_policies(current_situation, print_pols=True)"
   ]
  },
  {
   "cell_type": "code",
   "execution_count": 27,
   "metadata": {},
   "outputs": [
    {
     "data": {
      "image/png": "[encoded data removed]",
      "text/plain": [
       "<Figure size 432x288 with 1 Axes>"
      ]
     },
     "metadata": {},
     "output_type": "display_data"
    },
    {
     "data": {
      "image/png": "[encoded data removed]",
      "text/plain": [
       "<Figure size 432x288 with 1 Axes>"
      ]
     },
     "metadata": {},
     "output_type": "display_data"
    },
    {
     "data": {
      "image/png": "[encoded data removed]",
      "text/plain": [
       "<Figure size 432x288 with 1 Axes>"
      ]
     },
     "metadata": {},
     "output_type": "display_data"
    },
    {
     "data": {
      "image/png": "[encoded data removed]",
      "text/plain": [
       "<Figure size 432x288 with 1 Axes>"
      ]
     },
     "metadata": {},
     "output_type": "display_data"
    },
    {
     "data": {
      "image/png": "[encoded data removed]",
      "text/plain": [
       "<Figure size 432x288 with 1 Axes>"
      ]
     },
     "metadata": {},
     "output_type": "display_data"
    },
    {
     "data": {
      "image/png": "[encoded data removed]",
      "text/plain": [
       "<Figure size 432x288 with 1 Axes>"
      ]
     },
     "metadata": {},
     "output_type": "display_data"
    }
   ],
   "source": [
    "outcomes = []\n",
    "for policy in policies:\n",
    "    outcomes.append(FL_model(\n",
    "    100,\n",
    "    1,\n",
    "    True,\n",
    "    dist_method=\"great_circle\",\n",
    "    FL_range=50,\n",
    "    **SPX,\n",
    "    **SPY,\n",
    "    **DPX,\n",
    "    **DPY,\n",
    "    **FLX,\n",
    "    **FLY,\n",
    "    **policy,\n",
    "    **DSRDP,\n",
    "    **DSRFL))"
   ]
  },
  {
   "cell_type": "code",
   "execution_count": 28,
   "metadata": {
    "scrolled": true
   },
   "outputs": [
    {
     "data": {
      "text/plain": [
       "[(16457.37596430194, 13, 130.0, 5.735400717424611, 1.0),\n",
       " (15923.705971297568, 13, 130.0, 5.55751071975649, 1.0),\n",
       " (15332.797795804066, 13, 130.0, 5.36054132792532, 1.0),\n",
       " (34967.733281195826, 12, 120.0, 9.859497516042897, 1.0),\n",
       " (21563.478580450246, 11, 110.0, 5.47244691932199, 1.0),\n",
       " (14761.719586296678, 13, 130.0, 5.170181924756192, 1.0)]"
      ]
     },
     "execution_count": 28,
     "metadata": {},
     "output_type": "execute_result"
    }
   ],
   "source": [
    "outcomes"
   ]
  },
  {
   "cell_type": "code",
   "execution_count": 38,
   "metadata": {},
   "outputs": [
    {
     "data": {
      "text/plain": [
       "[[4, 21563.478580450246, 11, 110.0, 5.47244691932199, 1.0],\n",
       " [5, 14761.719586296678, 13, 130.0, 5.170181924756192, 1.0]]"
      ]
     },
     "execution_count": 38,
     "metadata": {},
     "output_type": "execute_result"
    }
   ],
   "source": [
    "# Non-dominated sorting for outcomes\n",
    "outcomes_df = pd.DataFrame(outcomes)\n",
    "\n",
    "# options for pareto sorting\n",
    "# minimising is default\n",
    "kwargs = {\"maximize_all\":True}\n",
    "kwargs2 = {\"maximize\":[0,1]}\n",
    "\n",
    "nondominated = pareto.eps_sort([list(outcomes_df.itertuples(True))],[1,2,3,4,5], [1e-9,1e-9,1e-9,1e-9,1e-9])\n",
    "nondominated"
   ]
  },
  {
   "cell_type": "code",
   "execution_count": 61,
   "metadata": {},
   "outputs": [
    {
     "data": {
      "text/plain": [
       "array([{'FLO0': 0.0, 'FLO1': 0.0, 'FLO2': 0.0, 'FLO3': 0.0, 'FLO4': 1.0, 'FLO5': 0.0},\n",
       "       {'FLO0': 0.0, 'FLO1': 0.0, 'FLO2': 0.0, 'FLO3': 0.0, 'FLO4': 0.0, 'FLO5': 1.0}],\n",
       "      dtype=object)"
      ]
     },
     "execution_count": 61,
     "metadata": {},
     "output_type": "execute_result"
    }
   ],
   "source": [
    "# policies for all nondominated policies\n",
    "i = [a[0] for a in nondominated]\n",
    "policies = np.array(policies)\n",
    "policies[i]"
   ]
  },
  {
   "cell_type": "markdown",
   "metadata": {},
   "source": [
    "# EMA Framework"
   ]
  },
  {
   "cell_type": "code",
   "execution_count": 62,
   "metadata": {},
   "outputs": [
    {
     "data": {
      "text/plain": [
       "<Logger EMA (DEBUG)>"
      ]
     },
     "execution_count": 62,
     "metadata": {},
     "output_type": "execute_result"
    }
   ],
   "source": [
    "from ema_workbench.em_framework import (Policy, IntegerParameter, Constant,\n",
    "                                        RealParameter, ScalarOutcome,\n",
    "                                        perform_experiments, Model)\n",
    "from ema_workbench import ema_logging\n",
    "# from ema_workbench.em_framework.\n",
    "\n",
    "ema_logging.log_to_stderr(ema_logging.INFO)"
   ]
  },
  {
   "cell_type": "code",
   "execution_count": null,
   "metadata": {},
   "outputs": [],
   "source": [
    "Work this into ema framework\n",
    "\n",
    "# General\n",
    "# Coordinates\n",
    "# all large cities to demand points\n",
    "DPY = {\"DPY{}\".format(i): y for i,y in enumerate(Nepal['Latitude (DD)'])}\n",
    "DPX = {\"DPX{}\".format(i): x for i,x in enumerate(Nepal['Longitude (DD)'])}\n",
    "\n",
    "# all international airports to supply points:\n",
    "SPY = {\"SPY{}\".format(i): y for i,y in enumerate(int_airports['Latitude (DD)'])}\n",
    "SPX = {\"SPX{}\".format(i): x for i,x in enumerate(int_airports['Longitude (DD)'])}\n",
    "\n",
    "# Create random facility locations\n",
    "# lon lat min:\n",
    "\n",
    "long_min, lat_min, long_max, lat_max = 80, 25.767, 88.183, 30.45\n",
    "\n",
    "nr_of_FLs = 6\n",
    "FLX = {\"FLX{}\".format(i): random.uniform(long_min,long_max) for i in range(nr_of_FLs)}\n",
    "FLY = {\"FLY{}\".format(i): random.uniform(lat_min,lat_max) for i in range(nr_of_FLs)}\n",
    "# # Uncertainties + Ranges\n",
    "# # For direct input model\n",
    "# nr_of_SPs = 1\n",
    "# nr_of_DPs = 5\n",
    "\n",
    "# nr_nodes = nr_of_SPs + nr_of_DPs + nr_of_FLs\n",
    "# areasize = 10\n",
    "\n",
    "# # Disruptions for each node\n",
    "\n",
    "# DSR = Disruption Demand Points\n",
    "# .5, 1.5: 50% of the time more or less, for traveling that distance\n",
    "DSRDP = {\"DSRDP{}\".format(i): random.uniform (.5, 1.5) for i in range(len(DPX))}\n",
    "DSRFL = {\"DSRFL{}\".format(i): random.uniform (.5, 1.5) for i in range(nr_of_FLs)}\n",
    "\n",
    "# Decision Variables\n",
    "FLO={\"FLO0\":0,\"FLO1\":0 ,\"FLO2\":0,\"FLO3\":0,\"FLO4\":0,\"FLO5\":0}"
   ]
  },
  {
   "cell_type": "code",
   "execution_count": 186,
   "metadata": {},
   "outputs": [],
   "source": [
    "DPs = Nepal"
   ]
  },
  {
   "cell_type": "code",
   "execution_count": 187,
   "metadata": {},
   "outputs": [],
   "source": [
    "SPs = int_airports"
   ]
  },
  {
   "cell_type": "code",
   "execution_count": null,
   "metadata": {},
   "outputs": [],
   "source": []
  },
  {
   "cell_type": "code",
   "execution_count": 188,
   "metadata": {},
   "outputs": [
    {
     "data": {
      "text/html": [
       "<div>\n",
       "<style scoped>\n",
       "    .dataframe tbody tr th:only-of-type {\n",
       "        vertical-align: middle;\n",
       "    }\n",
       "\n",
       "    .dataframe tbody tr th {\n",
       "        vertical-align: top;\n",
       "    }\n",
       "\n",
       "    .dataframe thead th {\n",
       "        text-align: right;\n",
       "    }\n",
       "</style>\n",
       "<table border=\"1\" class=\"dataframe\">\n",
       "  <thead>\n",
       "    <tr style=\"text-align: right;\">\n",
       "      <th></th>\n",
       "      <th>City</th>\n",
       "      <th>Population</th>\n",
       "      <th>Latitude (DD)</th>\n",
       "      <th>Longitude (DD)</th>\n",
       "      <th>Demand_estimate</th>\n",
       "      <th>Demand_lower</th>\n",
       "      <th>Demand_upper</th>\n",
       "      <th>Demand_actual</th>\n",
       "    </tr>\n",
       "  </thead>\n",
       "  <tbody>\n",
       "    <tr>\n",
       "      <th>0</th>\n",
       "      <td>Kathmandu</td>\n",
       "      <td>743300</td>\n",
       "      <td>27.71</td>\n",
       "      <td>85.31</td>\n",
       "      <td>32705200</td>\n",
       "      <td>29434680.0</td>\n",
       "      <td>35975720.0</td>\n",
       "      <td>32574229</td>\n",
       "    </tr>\n",
       "    <tr>\n",
       "      <th>1</th>\n",
       "      <td>Biratnagar</td>\n",
       "      <td>178000</td>\n",
       "      <td>26.46</td>\n",
       "      <td>87.28</td>\n",
       "      <td>8366000</td>\n",
       "      <td>7529400.0</td>\n",
       "      <td>9202600.0</td>\n",
       "      <td>8186607</td>\n",
       "    </tr>\n",
       "    <tr>\n",
       "      <th>2</th>\n",
       "      <td>Lalitpur</td>\n",
       "      <td>172400</td>\n",
       "      <td>27.68</td>\n",
       "      <td>85.32</td>\n",
       "      <td>11033600</td>\n",
       "      <td>9930240.0</td>\n",
       "      <td>12136960.0</td>\n",
       "      <td>11775231</td>\n",
       "    </tr>\n",
       "    <tr>\n",
       "      <th>3</th>\n",
       "      <td>Pokhara</td>\n",
       "      <td>169700</td>\n",
       "      <td>28.22</td>\n",
       "      <td>83.99</td>\n",
       "      <td>11369900</td>\n",
       "      <td>10232910.0</td>\n",
       "      <td>12506890.0</td>\n",
       "      <td>11000142</td>\n",
       "    </tr>\n",
       "    <tr>\n",
       "      <th>4</th>\n",
       "      <td>Birganj</td>\n",
       "      <td>119500</td>\n",
       "      <td>27.02</td>\n",
       "      <td>84.87</td>\n",
       "      <td>8006500</td>\n",
       "      <td>7205850.0</td>\n",
       "      <td>8807150.0</td>\n",
       "      <td>8243767</td>\n",
       "    </tr>\n",
       "  </tbody>\n",
       "</table>\n",
       "</div>"
      ],
      "text/plain": [
       "         City  Population  Latitude (DD)  Longitude (DD)  Demand_estimate  \\\n",
       "0   Kathmandu      743300          27.71           85.31         32705200   \n",
       "1  Biratnagar      178000          26.46           87.28          8366000   \n",
       "2    Lalitpur      172400          27.68           85.32         11033600   \n",
       "3     Pokhara      169700          28.22           83.99         11369900   \n",
       "4     Birganj      119500          27.02           84.87          8006500   \n",
       "\n",
       "   Demand_lower  Demand_upper  Demand_actual  \n",
       "0    29434680.0    35975720.0       32574229  \n",
       "1     7529400.0     9202600.0        8186607  \n",
       "2     9930240.0    12136960.0       11775231  \n",
       "3    10232910.0    12506890.0       11000142  \n",
       "4     7205850.0     8807150.0        8243767  "
      ]
     },
     "execution_count": 188,
     "metadata": {},
     "output_type": "execute_result"
    }
   ],
   "source": [
    "np.random.seed(0)\n",
    "DPs['Demand_estimate'] = np.random.randint(0, 100, DPs.shape[0]) * DPs['Population']  # change random for impact factor\n",
    "DPs['Demand_lower'] = DPs['Demand_estimate'] * 0.9\n",
    "DPs['Demand_upper'] = DPs['Demand_estimate'] * 1.1\n",
    "DPs['Demand_actual'] = np.random.uniform(DPs['Demand_lower'],DPs['Demand_upper'])\n",
    "DPs['Demand_actual'] = DPs['Demand_actual'].apply(int)\n",
    "DPs.head()"
   ]
  },
  {
   "cell_type": "code",
   "execution_count": 202,
   "metadata": {},
   "outputs": [
    {
     "data": {
      "text/plain": [
       "[(0, 0), (1, 1)]"
      ]
     },
     "execution_count": 202,
     "metadata": {},
     "output_type": "execute_result"
    }
   ],
   "source": [
    "[(a,b) for a,b in enumerate(range(2))]"
   ]
  },
  {
   "cell_type": "code",
   "execution_count": 204,
   "metadata": {},
   "outputs": [
    {
     "data": {
      "text/plain": [
       "[(0, 'Kathmandu'),\n",
       " (1, 'Biratnagar'),\n",
       " (2, 'Lalitpur'),\n",
       " (3, 'Pokhara'),\n",
       " (4, 'Birganj'),\n",
       " (5, 'Dharan'),\n",
       " (6, 'Bharatpur'),\n",
       " (7, 'Janakpur'),\n",
       " (8, 'Mahendranagar'),\n",
       " (9, 'Bhaktapur'),\n",
       " (10, 'Butwal'),\n",
       " (11, 'Hetauda'),\n",
       " (12, 'Dhangadhi'),\n",
       " (13, 'Nepalganj'),\n",
       " (14, 'Triyuga'),\n",
       " (15, 'Damak'),\n",
       " (16, 'Siddharthanagar'),\n",
       " (17, 'Madhyapur thimi')]"
      ]
     },
     "execution_count": 204,
     "metadata": {},
     "output_type": "execute_result"
    }
   ],
   "source": [
    "[(i,city) for i,city in zip(DPs.index, DPs.City)]"
   ]
  },
  {
   "cell_type": "code",
   "execution_count": 215,
   "metadata": {},
   "outputs": [
    {
     "data": {
      "text/plain": [
       "[Constant('DPX0', 85.31),\n",
       " Constant('DPX1', 87.28),\n",
       " Constant('DPX2', 85.32),\n",
       " Constant('DPX3', 83.99),\n",
       " Constant('DPX4', 84.87),\n",
       " Constant('DPX5', 87.26),\n",
       " Constant('DPX6', 84.44),\n",
       " Constant('DPX7', 85.92),\n",
       " Constant('DPX8', 80.3),\n",
       " Constant('DPX9', 85.43),\n",
       " Constant('DPX10', 83.45),\n",
       " Constant('DPX11', 85.02),\n",
       " Constant('DPX12', 80.59),\n",
       " Constant('DPX13', 81.62),\n",
       " Constant('DPX14', 86.641),\n",
       " Constant('DPX15', 87.73),\n",
       " Constant('DPX16', 83.45),\n",
       " Constant('DPX17', 85.38),\n",
       " Constant('DPY0', 27.71),\n",
       " Constant('DPY1', 26.46),\n",
       " Constant('DPY2', 27.68),\n",
       " Constant('DPY3', 28.22),\n",
       " Constant('DPY4', 27.02),\n",
       " Constant('DPY5', 26.81),\n",
       " Constant('DPY6', 27.67),\n",
       " Constant('DPY7', 26.73),\n",
       " Constant('DPY8', 28.96),\n",
       " Constant('DPY9', 27.67),\n",
       " Constant('DPY10', 27.71),\n",
       " Constant('DPY11', 27.41),\n",
       " Constant('DPY12', 28.69),\n",
       " Constant('DPY13', 28.07),\n",
       " Constant('DPY14', 26.7807),\n",
       " Constant('DPY15', 26.66),\n",
       " Constant('DPY16', 27.5),\n",
       " Constant('DPY17', 27.67)]"
      ]
     },
     "execution_count": 215,
     "metadata": {},
     "output_type": "execute_result"
    }
   ],
   "source": [
    "[\n",
    "    Constant(\"DPX{}\".format(i), x)\n",
    "    for i, x in zip(DPs.index, DPs['Longitude (DD)'])\n",
    "] + [\n",
    "    Constant(\"DPY{}\".format(i), y)\n",
    "    for i, y in zip(DPs.index, DPs['Latitude (DD)'])\n",
    "]"
   ]
  },
  {
   "cell_type": "code",
   "execution_count": 232,
   "metadata": {
    "code_folding": []
   },
   "outputs": [],
   "source": [
    "models = []\n",
    "t = 0\n",
    "model = Model(\"flmodelt{}\".format(t), FL_model)\n",
    "\n",
    "\n",
    "model.locations = [\n",
    "    Constant(\"DPX{}\".format(i), x)\n",
    "    for i, x in zip(DPs.index, DPs['Longitude (DD)'])\n",
    "] + [\n",
    "    Constant(\"DPY{}\".format(i), y)\n",
    "    for i, y in zip(DPs.index, DPs['Latitude (DD)'])\n",
    "]\n",
    "\n",
    "\n",
    "model.constants = [\n",
    "    Constant('graphical_representation', True),\n",
    "    Constant('dist_method', 'great_circle'),\n",
    "    Constant('Error_Test', 1), # this doesn't do anything. \n",
    "    #list of other constants\n",
    "    #     Constant\n",
    "] + model.locations\n",
    "\n",
    "\n",
    "\n",
    "model.locations_uncertain = [\n",
    "    RealParameter(\"SPX{}\".format(i), 0, areasize) for i in range(nr_of_SPs)\n",
    "] + [\n",
    "    RealParameter(\"SPY{}\".format(i), 0, areasize) for i in range(nr_of_SPs)\n",
    "] + [\n",
    "    RealParameter(\"FLX{}\".format(i), 0, areasize) for i in range(nr_of_FLs)\n",
    "] + [RealParameter(\"FLY{}\".format(i), 0, areasize) for i in range(nr_of_FLs)]\n",
    "\n",
    "\n",
    "# Reachability of Demand Points and Facility Locations can be disrupted\n",
    "model.disruptions = [\n",
    "    RealParameter(\"DSRFL{}\".format(i), -0.5, 0.5) for i in range(nr_of_FLs)\n",
    "] + [RealParameter(\"DSRDP{}\".format(i), -0.5, 0.5) for i in range(DPs.shape[0])]\n",
    "\n",
    "model.uncertainties = [\n",
    "    RealParameter('unit_opening_costs', 100, 200),\n",
    "    RealParameter('unit_transport_cost', 0.5,\n",
    "                  2),  # cost of transporting one unit of relief goods\n",
    "    RealParameter('FL_range', 2, 30),  # km TODO: great circle distance\n",
    "    RealParameter(\n",
    "        'lorry_speed', 30, 60\n",
    "    ),  # km/h. Speed is Average speed. Constant, because roads are individually disrupted \n",
    "    #list of other uncertainties\n",
    "] + model.disruptions + model.locations_uncertain\n",
    "\n",
    "models.append(model)"
   ]
  },
  {
   "cell_type": "code",
   "execution_count": 81,
   "metadata": {},
   "outputs": [
    {
     "name": "stdout",
     "output_type": "stream",
     "text": [
      "flmodelt0\n"
     ]
    }
   ],
   "source": [
    "for model in models:\n",
    "    print(model.name)"
   ]
  },
  {
   "cell_type": "code",
   "execution_count": 60,
   "metadata": {},
   "outputs": [
    {
     "ename": "SyntaxError",
     "evalue": "invalid syntax (<ipython-input-60-159aa41f105f>, line 1)",
     "output_type": "error",
     "traceback": [
      "\u001b[1;36m  File \u001b[1;32m\"<ipython-input-60-159aa41f105f>\"\u001b[1;36m, line \u001b[1;32m1\u001b[0m\n\u001b[1;33m    def create_ema_policies (FLs, )\u001b[0m\n\u001b[1;37m                                   ^\u001b[0m\n\u001b[1;31mSyntaxError\u001b[0m\u001b[1;31m:\u001b[0m invalid syntax\n"
     ]
    }
   ],
   "source": [
    "def create_ema_policies (FLs, )"
   ]
  },
  {
   "cell_type": "code",
   "execution_count": 228,
   "metadata": {},
   "outputs": [
    {
     "data": {
      "text/plain": [
       "{'FLO0': 0.0, 'FLO1': 0.0, 'FLO2': 0.0, 'FLO3': 0.0, 'FLO4': 1.0, 'FLO5': 0.0}"
      ]
     },
     "execution_count": 228,
     "metadata": {},
     "output_type": "execute_result"
    }
   ],
   "source": [
    "test_pol = policies[i][0]\n",
    "Policy(\"test_pol\",**test_pol)"
   ]
  },
  {
   "cell_type": "code",
   "execution_count": 233,
   "metadata": {
    "scrolled": true
   },
   "outputs": [
    {
     "name": "stderr",
     "output_type": "stream",
     "text": [
      "[MainProcess/INFO] performing 4 scenarios * 1 policies * 1 model(s) = 4 experiments\n",
      "[MainProcess/INFO] performing experiments sequentially\n"
     ]
    },
    {
     "data": {
      "image/png": "[encoded data removed]",
      "text/plain": [
       "<Figure size 432x288 with 1 Axes>"
      ]
     },
     "metadata": {},
     "output_type": "display_data"
    },
    {
     "name": "stderr",
     "output_type": "stream",
     "text": [
      "[MainProcess/INFO] 1 cases completed\n"
     ]
    },
    {
     "data": {
      "image/png": "[encoded data removed]",
      "text/plain": [
       "<Figure size 432x288 with 1 Axes>"
      ]
     },
     "metadata": {},
     "output_type": "display_data"
    },
    {
     "name": "stderr",
     "output_type": "stream",
     "text": [
      "[MainProcess/INFO] 2 cases completed\n"
     ]
    },
    {
     "data": {
      "image/png": "[encoded data removed]",
      "text/plain": [
       "<Figure size 432x288 with 1 Axes>"
      ]
     },
     "metadata": {},
     "output_type": "display_data"
    },
    {
     "name": "stderr",
     "output_type": "stream",
     "text": [
      "[MainProcess/INFO] 3 cases completed\n"
     ]
    },
    {
     "data": {
      "image/png": "[encoded data removed]",
      "text/plain": [
       "<Figure size 432x288 with 1 Axes>"
      ]
     },
     "metadata": {},
     "output_type": "display_data"
    },
    {
     "name": "stderr",
     "output_type": "stream",
     "text": [
      "[MainProcess/INFO] 4 cases completed\n",
      "[MainProcess/INFO] experiments finished\n"
     ]
    },
    {
     "data": {
      "text/plain": [
       "(array([(-0.27128423,  0.20619943,  0.35243155,  0.03916337, -0.464921  , -0.34994678,  0.19018589,  0.44909919, -0.42752164, -0.00906475,  0.11209229, -0.30920875, -0.2351542 ,  0.0411221 , -0.35837347, -0.11005644, -0.06860662,  0.27493324, -0.45886682,  0.34880831, -0.42027067, -0.33375882, -0.22212599, -0.48191241, 3.76578056, 6.97615572, 9.80574626, 1.03758154, 0.24419092, 2.30067939, 3.80020354, 4.67063746, 8.10919469, 4.87135075, 5.32174153, 1.79847266, 16.30811454, 8.57528996, 7.53466262, 39.82971914, 192.13537332, 1.98706874, 18, 'test_pol', 'flmodelt0'),\n",
       "        ( 0.01233724,  0.41715146,  0.09337775, -0.07896857,  0.33974882,  0.49079932, -0.41022234, -0.43339802,  0.39442736,  0.46965009, -0.3580385 ,  0.32787152,  0.46900671, -0.06294401, -0.15802063,  0.14116663,  0.00963931, -0.13110272,  0.37822633,  0.07770999,  0.24364716, -0.06152748, -0.38525753,  0.32002844, 9.99952145, 3.78748229, 6.23090352, 5.08013905, 8.7873055 , 5.9156108 , 0.07665262, 6.98746947, 6.4715975 , 9.44569042, 8.37581296, 8.37498211, 26.75061344, 6.63031149, 2.27914189, 58.43420573, 113.16031348, 1.57212599, 19, 'test_pol', 'flmodelt0'),\n",
       "        ( 0.32322214, -0.1135206 , -0.12109041, -0.49148231, -0.01572074,  0.03695033,  0.42722439,  0.07456611,  0.19479486, -0.25064097, -0.09470769, -0.02784613,  0.22963661,  0.37433921,  0.08558559,  0.26279261,  0.44327751,  0.20500561, -0.03413095, -0.3203434 ,  0.47289512,  0.15101939,  0.08058338, -0.02435495, 5.49314869, 0.02420829, 2.18458045, 2.65248752, 7.34603005, 9.82709864, 5.56103403, 0.08089058, 1.8831003 , 7.12086317, 0.63174984, 3.135956  , 12.16911347, 2.13311494, 6.03439607, 50.36357439, 163.75136273, 0.55701021, 20, 'test_pol', 'flmodelt0'),\n",
       "        (-0.07123685, -0.35279707, -0.27773501,  0.47130182,  0.23082633, -0.18577084, -0.10315617, -0.00545696, -0.05110241,  0.090722  ,  0.37454489,  0.17431857, -0.46996995, -0.47815433,  0.43934104, -0.47398031, -0.44578244, -0.42545316,  0.0869245 , -0.16600561, -0.07476798,  0.3739042 ,  0.32912519,  0.08350449, 1.3372705 , 7.84089252, 4.58495411, 9.62329791, 3.07161638, 3.86444835, 9.88418924, 9.24639352, 3.08958556, 1.22604977, 2.68188521, 5.66325831,  4.28282385, 3.68831196, 4.19261135, 34.18538427, 145.80597153, 0.87524908, 21, 'test_pol', 'flmodelt0')],\n",
       "       dtype=[('DSRDP0', '<f8'), ('DSRDP1', '<f8'), ('DSRDP10', '<f8'), ('DSRDP11', '<f8'), ('DSRDP12', '<f8'), ('DSRDP13', '<f8'), ('DSRDP14', '<f8'), ('DSRDP15', '<f8'), ('DSRDP16', '<f8'), ('DSRDP17', '<f8'), ('DSRDP2', '<f8'), ('DSRDP3', '<f8'), ('DSRDP4', '<f8'), ('DSRDP5', '<f8'), ('DSRDP6', '<f8'), ('DSRDP7', '<f8'), ('DSRDP8', '<f8'), ('DSRDP9', '<f8'), ('DSRFL0', '<f8'), ('DSRFL1', '<f8'), ('DSRFL2', '<f8'), ('DSRFL3', '<f8'), ('DSRFL4', '<f8'), ('DSRFL5', '<f8'), ('FLX0', '<f8'), ('FLX1', '<f8'), ('FLX2', '<f8'), ('FLX3', '<f8'), ('FLX4', '<f8'), ('FLX5', '<f8'), ('FLY0', '<f8'), ('FLY1', '<f8'), ('FLY2', '<f8'), ('FLY3', '<f8'), ('FLY4', '<f8'), ('FLY5', '<f8'), ('FL_range', '<f8'), ('SPX0', '<f8'), ('SPY0', '<f8'), ('lorry_speed', '<f8'), ('unit_opening_costs', '<f8'), ('unit_transport_cost', '<f8'), ('scenario_id', 'O'), ('policy', 'O'), ('model', 'O')]),\n",
       " {})"
      ]
     },
     "execution_count": 233,
     "metadata": {},
     "output_type": "execute_result"
    }
   ],
   "source": [
    "perform_experiments(model,4,Policy(\"test_pol\",**test_pol))"
   ]
  },
  {
   "cell_type": "markdown",
   "metadata": {},
   "source": [
    "# Robustness Framework"
   ]
  },
  {
   "cell_type": "code",
   "execution_count": null,
   "metadata": {},
   "outputs": [],
   "source": []
  },
  {
   "cell_type": "markdown",
   "metadata": {},
   "source": [
    "# Next iteration Framework"
   ]
  }
 ],
 "metadata": {
  "kernelspec": {
   "display_name": "Python 3",
   "language": "python",
   "name": "python3"
  },
  "language_info": {
   "codemirror_mode": {
    "name": "ipython",
    "version": 3
   },
   "file_extension": ".py",
   "mimetype": "text/x-python",
   "name": "python",
   "nbconvert_exporter": "python",
   "pygments_lexer": "ipython3",
   "version": "3.6.4"
  },
  "toc": {
   "nav_menu": {},
   "number_sections": true,
   "sideBar": true,
   "skip_h1_title": false,
   "title_cell": "Table of Contents",
   "title_sidebar": "Contents",
   "toc_cell": false,
   "toc_position": {
    "height": "calc(100% - 180px)",
    "left": "10px",
    "top": "150px",
    "width": "384px"
   },
   "toc_section_display": true,
   "toc_window_display": true
  }
 },
 "nbformat": 4,
 "nbformat_minor": 2
}
