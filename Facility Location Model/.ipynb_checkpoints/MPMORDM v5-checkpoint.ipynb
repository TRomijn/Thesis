{
 "cells": [
  {
   "cell_type": "markdown",
   "metadata": {},
   "source": [
    "Versions:\n",
    "* v1: one full cycle. Not yet multiple cycles implemented\n",
    "* v2: MORDM cycle into IO-function\n",
    "    * Can be used for MORDM validation\n",
    "* v3: restructure into MORDM function\n",
    "* v4: mpmordm iterative way - Finished\n",
    "* v5: \n",
    "    * start Micromodel between iterations\n",
    "    * start making distance table based on OSRM\n",
    "    * Both are finished, but not cleaned and integrated in code\n",
    "    * OSRM is not yet integrated in full process. just done once\n",
    "\n",
    "TODO inputdata: \n",
    "* FL not random generation\n",
    "* distances based on OSRM route matrix\n",
    "\n",
    "TODO model:\n",
    "* Check values for disruption 1-2 of 0-1\n",
    "\n",
    "TODO:\n",
    "* #Filter out those where no new demand is covered<br>\n",
    "    #TODO: Works only first time. After that doesn't work.<br>\n",
    "    #TODO: Change to \"not more than previous round\"\n",
    "* XX done via saving: return information about objective prioritisation for each returned nondom policy and nondom robust policy\n",
    "* better names inputvariables\n",
    "* Priority: add extra location to non-dominated with highest information yield\n",
    "* Priority: change info based on locations"
   ]
  },
  {
   "cell_type": "markdown",
   "metadata": {},
   "source": [
    "# Imports"
   ]
  },
  {
   "cell_type": "code",
   "execution_count": 256,
   "metadata": {
    "code_folding": []
   },
   "outputs": [],
   "source": [
    "# Standard imports & printing versions\n",
    "import random\n",
    "import pandas as pd\n",
    "import numpy as np\n",
    "\n",
    "# Own Model import\n",
    "from lib.fl_model_v5 import *\n",
    "# import lib.fl_model_v5 as flm\n",
    "\n",
    "# for natural sorting\n",
    "import re\n",
    "\n",
    "#for nondominated sorting\n",
    "import lib.pareto as pareto\n",
    "from lib.list_imports import find_loaded_modules\n",
    "\n",
    "# for parallel plotting\n",
    "from lib.parallel_plotting import plot_optimal\n",
    "\n",
    "# For checking ema running time\n",
    "import time\n",
    "\n",
    "import ema_workbench as ema\n",
    "from ema_workbench.em_framework import (Policy, IntegerParameter, Constant,\n",
    "                                        RealParameter, ScalarOutcome,\n",
    "                                        perform_experiments, Model)\n",
    "from ema_workbench import ema_logging\n",
    "# from ema_workbench.em_framework.\n",
    "\n",
    "ema_logging.log_to_stderr(ema_logging.INFO)\n",
    "\n",
    "import sys\n",
    "\n",
    "# for routing table:\n",
    "import osrm"
   ]
  },
  {
   "cell_type": "code",
   "execution_count": 244,
   "metadata": {
    "code_folding": [
     0
    ]
   },
   "outputs": [],
   "source": [
    "# %load https://gist.github.com/TRomijn/d9d28ba7b7d5eeac1deea5a26dd326b2/raw/loaded_modules.py\n",
    "\n",
    "'''\n",
    "original author: kinverarity1\n",
    "\n",
    "List loaded modules and packages, and show their version numbers\n",
    "and/or Git repository's HEAD commit SHA.\n",
    "\n",
    "\n",
    "Changes:\n",
    "Minor changes to make compatible with Python 3\n",
    "'''\n",
    "# Standard library modules\n",
    "import types\n",
    "import os\n",
    "\n",
    "# Third-party packages\n",
    "import git      # GitPython\n",
    "\n",
    "\n",
    "def module_path(mod):\n",
    "    '''Returns path to the file that module *mod* comes from.\n",
    "    If it doesn't come from a file, return None.'''\n",
    "    if hasattr(mod, '__file__'):\n",
    "        return os.path.abspath(os.path.dirname(mod.__file__))\n",
    "    else:\n",
    "        return None\n",
    "\n",
    "    \n",
    "def from_git_repo(mod):\n",
    "    '''Does the module *mod* reside in a Git repository?'''\n",
    "    path = module_path(mod)\n",
    "    if path:\n",
    "        try:\n",
    "            repo = git.Repo(path)\n",
    "        except:\n",
    "            return False\n",
    "        else:\n",
    "            return True\n",
    "    else:\n",
    "        return False\n",
    "\n",
    "    \n",
    "def git_path_sha(mod, slice=slice(0, 8, 1)):\n",
    "    '''Return SHA hash for the HEAD commit for the repository\n",
    "    that the module *mod* resides in.'''\n",
    "    repo = git.Repo(module_path(mod))\n",
    "    return repo.git_dir, repo.head.commit.hexsha[:8]\n",
    "\n",
    "\n",
    "def module_version(mod):\n",
    "    '''Return version string for module *mod*, or nothing if\n",
    "    it doesn't have a \"version\" or \"__version__\" attribute.'''\n",
    "    version = []\n",
    "    if hasattr(mod, '__dict__'):\n",
    "        keys = []\n",
    "        for key in mod.__dict__.keys():\n",
    "            if key.lower() == 'version' or key.lower() == '__version__':\n",
    "                v = mod.__dict__[key]\n",
    "                if isinstance(v, str):\n",
    "                    version.append(v)\n",
    "        if keys:\n",
    "            print (mod, keys)\n",
    "    if version:\n",
    "        return ', '.join(version)\n",
    "    else:\n",
    "        return ''\n",
    "\n",
    "    \n",
    "def find_loaded_modules(only_versioned_modules=True):\n",
    "    '''Return list of loaded modules for which there is a version\n",
    "    number or a Git repository commit SHA.\n",
    "    \n",
    "    Return a list of *(name, version, path_to_git_repo, git_head_sha)*,\n",
    "    which has an HTML property for pretty display in IPython Notebooks.\n",
    "        \n",
    "    '''\n",
    "    def list_of_lists_to_HTML(lists, header_row=None):\n",
    "        '''Convert a list of a list of strings to a HTML table.'''\n",
    "        s = '<table>'\n",
    "        if header_row:\n",
    "            s += '\\n\\t<tr>\\n\\t\\t'\n",
    "            s += ''.join(['<th>%s</th>' % item for item in header_row])\n",
    "            s += '\\n\\t</tr>'\n",
    "        for inner_list in lists:\n",
    "            s += '\\n\\t<tr>\\n\\t\\t'\n",
    "            s += ''.join(['<td>%s</td>' % item for item in inner_list])\n",
    "            s += '\\n\\t</tr>'\n",
    "        s += '\\n</table>'\n",
    "        return s\n",
    "    \n",
    "    class LoadedModules(list):\n",
    "        '''Very simple wrapper for a list of lists of strings, with an attribute\n",
    "        for display in IPython Notebooks.'''\n",
    "        def __init__(self, *args, **kwargs):\n",
    "            list.__init__(self, *args, **kwargs)\n",
    "            \n",
    "        @property\n",
    "        def HTML(self):\n",
    "            from IPython.display import HTML\n",
    "            return HTML(\n",
    "                    list_of_lists_to_HTML(\n",
    "                            self, header_row=['Name', 'Version', 'Path', 'SHA']))\n",
    "                    \n",
    "    objs = LoadedModules()\n",
    "    for i, mod in enumerate(globals().values()):\n",
    "        if isinstance(mod, types.ModuleType):\n",
    "            if hasattr(mod, '__name__'):\n",
    "                name = mod.__name__\n",
    "            else:\n",
    "                name = ''\n",
    "            \n",
    "            if from_git_repo(mod):\n",
    "                path, sha = git_path_sha(mod)\n",
    "            else:\n",
    "                path = ''\n",
    "                sha = ''\n",
    "            \n",
    "            version = module_version(mod)\n",
    "            \n",
    "            if only_versioned_modules:\n",
    "                flag = version or (path and sha)\n",
    "            else:\n",
    "                flag = True\n",
    "            \n",
    "            if flag:\n",
    "                objs.append([mod.__name__, version, path, sha])\n",
    "    objs.sort(key=lambda r: r[0])\n",
    "    return objs\n",
    "\n",
    "\n",
    "    \n",
    "    "
   ]
  },
  {
   "cell_type": "code",
   "execution_count": 245,
   "metadata": {
    "code_folding": [],
    "scrolled": true
   },
   "outputs": [
    {
     "data": {
      "text/html": [
       "<table>\n",
       "\t<tr>\n",
       "\t\t<th>Name</th><th>Version</th><th>Path</th><th>SHA</th>\n",
       "\t</tr>\n",
       "\t<tr>\n",
       "\t\t<td>ema_workbench</td><td>1.1.3</td><td></td><td></td>\n",
       "\t</tr>\n",
       "\t<tr>\n",
       "\t\t<td>git</td><td>2.1.9</td><td></td><td></td>\n",
       "\t</tr>\n",
       "\t<tr>\n",
       "\t\t<td>json</td><td>2.0.9</td><td></td><td></td>\n",
       "\t</tr>\n",
       "\t<tr>\n",
       "\t\t<td>lib.pareto</td><td>1.1.1-3</td><td></td><td></td>\n",
       "\t</tr>\n",
       "\t<tr>\n",
       "\t\t<td>numpy</td><td>1.14.2</td><td></td><td></td>\n",
       "\t</tr>\n",
       "\t<tr>\n",
       "\t\t<td>osrm</td><td>0.11.1</td><td></td><td></td>\n",
       "\t</tr>\n",
       "\t<tr>\n",
       "\t\t<td>pandas</td><td>0.22.0</td><td></td><td></td>\n",
       "\t</tr>\n",
       "\t<tr>\n",
       "\t\t<td>re</td><td>2.2.1</td><td></td><td></td>\n",
       "\t</tr>\n",
       "\t<tr>\n",
       "\t\t<td>sys</td><td>3.6.4 |Anaconda, Inc.| (default, Mar 12 2018, 20:20:50) [MSC v.1900 64 bit (AMD64)]</td><td></td><td></td>\n",
       "\t</tr>\n",
       "</table>"
      ],
      "text/plain": [
       "<IPython.core.display.HTML object>"
      ]
     },
     "execution_count": 245,
     "metadata": {},
     "output_type": "execute_result"
    }
   ],
   "source": [
    "find_loaded_modules().HTML"
   ]
  },
  {
   "cell_type": "markdown",
   "metadata": {},
   "source": [
    "# Data Prep"
   ]
  },
  {
   "cell_type": "markdown",
   "metadata": {},
   "source": [
    "## Load Data"
   ]
  },
  {
   "cell_type": "markdown",
   "metadata": {},
   "source": [
    "Data is preliminary data. TODO: Find reliable input data"
   ]
  },
  {
   "cell_type": "code",
   "execution_count": 5,
   "metadata": {
    "code_folding": [],
    "scrolled": true
   },
   "outputs": [
    {
     "data": {
      "text/html": [
       "<div>\n",
       "<style scoped>\n",
       "    .dataframe tbody tr th:only-of-type {\n",
       "        vertical-align: middle;\n",
       "    }\n",
       "\n",
       "    .dataframe tbody tr th {\n",
       "        vertical-align: top;\n",
       "    }\n",
       "\n",
       "    .dataframe thead th {\n",
       "        text-align: right;\n",
       "    }\n",
       "</style>\n",
       "<table border=\"1\" class=\"dataframe\">\n",
       "  <thead>\n",
       "    <tr style=\"text-align: right;\">\n",
       "      <th></th>\n",
       "      <th>City</th>\n",
       "      <th>Population</th>\n",
       "      <th>Latitude (DD)</th>\n",
       "      <th>Longitude (DD)</th>\n",
       "    </tr>\n",
       "  </thead>\n",
       "  <tbody>\n",
       "    <tr>\n",
       "      <th>0</th>\n",
       "      <td>Kathmandu</td>\n",
       "      <td>743300</td>\n",
       "      <td>27.71</td>\n",
       "      <td>85.31</td>\n",
       "    </tr>\n",
       "    <tr>\n",
       "      <th>1</th>\n",
       "      <td>Biratnagar</td>\n",
       "      <td>178000</td>\n",
       "      <td>26.46</td>\n",
       "      <td>87.28</td>\n",
       "    </tr>\n",
       "  </tbody>\n",
       "</table>\n",
       "</div>"
      ],
      "text/plain": [
       "         City  Population  Latitude (DD)  Longitude (DD)\n",
       "0   Kathmandu      743300          27.71           85.31\n",
       "1  Biratnagar      178000          26.46           87.28"
      ]
     },
     "execution_count": 5,
     "metadata": {},
     "output_type": "execute_result"
    }
   ],
   "source": [
    "# Create DPs from Nepal Data\n",
    "DPs = pd.read_csv(\"Data/Nepal Cities Population.csv\", usecols=[1,2,3,4])\n",
    "\n",
    "# Take only larger cities, because of many null values under 50000 inhabitants. \n",
    "# TODO find better dataset with population and coordinates\n",
    "DPs = DPs [DPs.Population >= 50000]\n",
    "DPs.head(2)"
   ]
  },
  {
   "cell_type": "code",
   "execution_count": 6,
   "metadata": {
    "code_folding": []
   },
   "outputs": [
    {
     "data": {
      "text/html": [
       "<div>\n",
       "<style scoped>\n",
       "    .dataframe tbody tr th:only-of-type {\n",
       "        vertical-align: middle;\n",
       "    }\n",
       "\n",
       "    .dataframe tbody tr th {\n",
       "        vertical-align: top;\n",
       "    }\n",
       "\n",
       "    .dataframe thead th {\n",
       "        text-align: right;\n",
       "    }\n",
       "</style>\n",
       "<table border=\"1\" class=\"dataframe\">\n",
       "  <thead>\n",
       "    <tr style=\"text-align: right;\">\n",
       "      <th></th>\n",
       "      <th>Airport</th>\n",
       "      <th>Latitude (DD)</th>\n",
       "      <th>Longitude (DD)</th>\n",
       "    </tr>\n",
       "  </thead>\n",
       "  <tbody>\n",
       "    <tr>\n",
       "      <th>7</th>\n",
       "      <td>Tribhuvan intl</td>\n",
       "      <td>27.7</td>\n",
       "      <td>85.36</td>\n",
       "    </tr>\n",
       "  </tbody>\n",
       "</table>\n",
       "</div>"
      ],
      "text/plain": [
       "          Airport  Latitude (DD)  Longitude (DD)\n",
       "7  Tribhuvan intl           27.7           85.36"
      ]
     },
     "execution_count": 6,
     "metadata": {},
     "output_type": "execute_result"
    }
   ],
   "source": [
    "# Create SPs from Nepal Data\n",
    "airports = pd.read_csv(\"Data/Nepal Airports.csv\", usecols=[0,5,6])\n",
    "SPs = airports[airports['Airport'] == \"Tribhuvan intl\"]\n",
    "SPs.head(2)"
   ]
  },
  {
   "cell_type": "code",
   "execution_count": 7,
   "metadata": {
    "code_folding": [
     0
    ],
    "scrolled": true
   },
   "outputs": [
    {
     "data": {
      "text/html": [
       "<div>\n",
       "<style scoped>\n",
       "    .dataframe tbody tr th:only-of-type {\n",
       "        vertical-align: middle;\n",
       "    }\n",
       "\n",
       "    .dataframe tbody tr th {\n",
       "        vertical-align: top;\n",
       "    }\n",
       "\n",
       "    .dataframe thead th {\n",
       "        text-align: right;\n",
       "    }\n",
       "</style>\n",
       "<table border=\"1\" class=\"dataframe\">\n",
       "  <thead>\n",
       "    <tr style=\"text-align: right;\">\n",
       "      <th></th>\n",
       "      <th>Name</th>\n",
       "      <th>Lat</th>\n",
       "      <th>Lon</th>\n",
       "    </tr>\n",
       "  </thead>\n",
       "  <tbody>\n",
       "    <tr>\n",
       "      <th>0</th>\n",
       "      <td>FLO0</td>\n",
       "      <td>27.582503</td>\n",
       "      <td>83.118232</td>\n",
       "    </tr>\n",
       "    <tr>\n",
       "      <th>1</th>\n",
       "      <td>FLO1</td>\n",
       "      <td>27.134981</td>\n",
       "      <td>85.491985</td>\n",
       "    </tr>\n",
       "  </tbody>\n",
       "</table>\n",
       "</div>"
      ],
      "text/plain": [
       "   Name        Lat        Lon\n",
       "0  FLO0  27.582503  83.118232\n",
       "1  FLO1  27.134981  85.491985"
      ]
     },
     "execution_count": 7,
     "metadata": {},
     "output_type": "execute_result"
    }
   ],
   "source": [
    "# Create random FLs in Nepal\n",
    "long = np.random.uniform(DPs['Longitude (DD)'].min(),\n",
    "                         DPs['Longitude (DD)'].max(), 20)\n",
    "lat = np.random.uniform(DPs['Latitude (DD)'].min(), DPs['Latitude (DD)'].max(),\n",
    "                        20)\n",
    "FLs = pd.DataFrame([lat, long], index=['Lat', 'Lon']).T\n",
    "FLs['Name'] = ['FLO{}'.format(i) for i in range(FLs.shape[0])]\n",
    "FLs = FLs[['Name', 'Lat', 'Lon']]\n",
    "FLs.head(2)"
   ]
  },
  {
   "cell_type": "markdown",
   "metadata": {},
   "source": [
    "## Prepare Data for model input"
   ]
  },
  {
   "cell_type": "markdown",
   "metadata": {},
   "source": [
    "### Global: Fixed certain data"
   ]
  },
  {
   "cell_type": "code",
   "execution_count": 8,
   "metadata": {},
   "outputs": [],
   "source": [
    "# Coordinates\n",
    "# all large cities to demand points\n",
    "DPY = {\"DPY{}\".format(i): y for i,y in enumerate(DPs['Latitude (DD)'])}\n",
    "DPX = {\"DPX{}\".format(i): x for i,x in enumerate(DPs['Longitude (DD)'])}\n",
    "\n",
    "# all international airports to supply points:\n",
    "SPY = {\"SPY{}\".format(i): y for i,y in enumerate(SPs['Latitude (DD)'])}\n",
    "SPX = {\"SPX{}\".format(i): x for i,x in enumerate(SPs['Longitude (DD)'])}\n",
    "\n",
    "# Facility locations\n",
    "FLX = {\"FLX{}\".format(i): x for i,x in enumerate(FLs['Lon'])}\n",
    "FLY = {\"FLY{}\".format(i): y for i,y in enumerate(FLs['Lat'])}\n",
    "\n",
    "# Population demand points\n",
    "DPpop = {\"DPpop{}\".format(i): pop for i,pop in enumerate(DPs['Population'])}\n",
    "# DPpop = {\"DPpop{}\".format(i): random.uniform(10,100) for i in range(nr_of_DPs)}\n"
   ]
  },
  {
   "cell_type": "markdown",
   "metadata": {},
   "source": [
    "### create distance matrix"
   ]
  },
  {
   "cell_type": "code",
   "execution_count": 223,
   "metadata": {},
   "outputs": [],
   "source": [
    "node_names = [\"SP{}\".format(i) for i, ind in enumerate(SPs.index)] + [\n",
    "    \"FL{}\".format(i) for i, ind in enumerate(FLs.index)\n",
    "] + [\"DP{}\".format(i) for i, ind in enumerate(DPs.index)]"
   ]
  },
  {
   "cell_type": "code",
   "execution_count": 236,
   "metadata": {},
   "outputs": [],
   "source": [
    "node_lats = SPs['Latitude (DD)'].append(FLs['Lat']).append(DPs['Latitude (DD)']).reset_index(drop=True)"
   ]
  },
  {
   "cell_type": "code",
   "execution_count": 239,
   "metadata": {},
   "outputs": [],
   "source": [
    "node_lons = SPs['Longitude (DD)'].append(FLs['Lon']).append(DPs['Longitude (DD)']).reset_index(drop=True)"
   ]
  },
  {
   "cell_type": "markdown",
   "metadata": {},
   "source": [
    "#### OSRM routing table"
   ]
  },
  {
   "cell_type": "markdown",
   "metadata": {},
   "source": [
    "TODO: Check time_matrix on diagonal. differences between x->y and y->x"
   ]
  },
  {
   "cell_type": "code",
   "execution_count": 257,
   "metadata": {},
   "outputs": [],
   "source": [
    "osrm.RequestConfig.host = osrm.RequestConfig.host = \"router.project-osrm.org\""
   ]
  },
  {
   "cell_type": "code",
   "execution_count": 258,
   "metadata": {},
   "outputs": [],
   "source": [
    "# for some reason the coordinates are incorrectly passed by this OSRM package\n",
    "list_coords = [osrm.Point(longitude=lat, latitude=lon) for lat, lon in zip (node_lats, node_lons)]"
   ]
  },
  {
   "cell_type": "code",
   "execution_count": null,
   "metadata": {},
   "outputs": [],
   "source": []
  },
  {
   "cell_type": "code",
   "execution_count": 259,
   "metadata": {},
   "outputs": [],
   "source": [
    "time_matrix, snapped_coords, a = osrm.table(\n",
    "    list_coords, ids_origin=node_names, output='dataframe')"
   ]
  },
  {
   "cell_type": "code",
   "execution_count": 261,
   "metadata": {},
   "outputs": [],
   "source": [
    "time_matrix.to_csv(\"Data/routes_play_data.csv\")"
   ]
  },
  {
   "cell_type": "markdown",
   "metadata": {},
   "source": [
    "### Global: Fixed uncertain data"
   ]
  },
  {
   "cell_type": "code",
   "execution_count": 9,
   "metadata": {},
   "outputs": [],
   "source": [
    "global_fixed_unc = pd.read_csv(\"Data/uncertainties/fixed_uncertainties.csv\").set_index('var')"
   ]
  },
  {
   "cell_type": "markdown",
   "metadata": {},
   "source": [
    "### Variable Uncertain Data: generate random for now:\n",
    "DFs becomes a global. can be accessed by using its label"
   ]
  },
  {
   "cell_type": "code",
   "execution_count": 10,
   "metadata": {},
   "outputs": [],
   "source": [
    "# DSR = Disruption\n",
    "DSRDP = {\"DSRDP{}\".format(i): random.uniform (1, 2) for i in range(len(DPX))}\n",
    "DSRFL = {\"DSRFL{}\".format(i): random.uniform (1, 2) for i in range(len(FLX))}\n"
   ]
  },
  {
   "cell_type": "code",
   "execution_count": 11,
   "metadata": {},
   "outputs": [],
   "source": [
    "# label each branch. start with:\n",
    "start_label = \"p0n0\"\n",
    "# Each branch has a separate perception of what the data is.\n",
    "# A dictionary can keep track of data for each branch, linked via label\n",
    "global_dfs_var_unc_data = {}"
   ]
  },
  {
   "cell_type": "code",
   "execution_count": 12,
   "metadata": {},
   "outputs": [],
   "source": [
    "global_dfs_var_unc_data [start_label] = pd.DataFrame.from_dict({**DSRDP, **DSRFL}, orient='index')"
   ]
  },
  {
   "cell_type": "code",
   "execution_count": 13,
   "metadata": {},
   "outputs": [
    {
     "data": {
      "text/html": [
       "<div>\n",
       "<style scoped>\n",
       "    .dataframe tbody tr th:only-of-type {\n",
       "        vertical-align: middle;\n",
       "    }\n",
       "\n",
       "    .dataframe tbody tr th {\n",
       "        vertical-align: top;\n",
       "    }\n",
       "\n",
       "    .dataframe thead th {\n",
       "        text-align: right;\n",
       "    }\n",
       "</style>\n",
       "<table border=\"1\" class=\"dataframe\">\n",
       "  <thead>\n",
       "    <tr style=\"text-align: right;\">\n",
       "      <th></th>\n",
       "      <th>0</th>\n",
       "    </tr>\n",
       "  </thead>\n",
       "  <tbody>\n",
       "    <tr>\n",
       "      <th>DSRDP0</th>\n",
       "      <td>1.095545</td>\n",
       "    </tr>\n",
       "  </tbody>\n",
       "</table>\n",
       "</div>"
      ],
      "text/plain": [
       "               0\n",
       "DSRDP0  1.095545"
      ]
     },
     "execution_count": 13,
     "metadata": {},
     "output_type": "execute_result"
    }
   ],
   "source": [
    "global_dfs_var_unc_data [start_label].head(1)"
   ]
  },
  {
   "cell_type": "code",
   "execution_count": 14,
   "metadata": {},
   "outputs": [
    {
     "data": {
      "text/html": [
       "<div>\n",
       "<style scoped>\n",
       "    .dataframe tbody tr th:only-of-type {\n",
       "        vertical-align: middle;\n",
       "    }\n",
       "\n",
       "    .dataframe tbody tr th {\n",
       "        vertical-align: top;\n",
       "    }\n",
       "\n",
       "    .dataframe thead th {\n",
       "        text-align: right;\n",
       "    }\n",
       "</style>\n",
       "<table border=\"1\" class=\"dataframe\">\n",
       "  <thead>\n",
       "    <tr style=\"text-align: right;\">\n",
       "      <th></th>\n",
       "      <th>actual</th>\n",
       "      <th>lower</th>\n",
       "      <th>upper</th>\n",
       "      <th>best_estimate</th>\n",
       "      <th>difference</th>\n",
       "    </tr>\n",
       "  </thead>\n",
       "  <tbody>\n",
       "    <tr>\n",
       "      <th>DSRDP0</th>\n",
       "      <td>1.095545</td>\n",
       "      <td>1.065224</td>\n",
       "      <td>1.263898</td>\n",
       "      <td>1.164561</td>\n",
       "      <td>0.069016</td>\n",
       "    </tr>\n",
       "  </tbody>\n",
       "</table>\n",
       "</div>"
      ],
      "text/plain": [
       "          actual     lower     upper  best_estimate  difference\n",
       "DSRDP0  1.095545  1.065224  1.263898       1.164561    0.069016"
      ]
     },
     "execution_count": 14,
     "metadata": {},
     "output_type": "execute_result"
    }
   ],
   "source": [
    "# create upper and lower bound\n",
    "global_dfs_var_unc_data[start_label] = global_dfs_var_unc_data[\n",
    "    start_label].rename(columns={0: \"actual\"})\n",
    "global_dfs_var_unc_data[start_label]['lower'] = (\n",
    "    global_dfs_var_unc_data[start_label]['actual'] - 1\n",
    ") * np.random.uniform(size=global_dfs_var_unc_data[start_label].shape[0]) + 1\n",
    "global_dfs_var_unc_data[start_label]['upper'] = (\n",
    "    2 - global_dfs_var_unc_data[start_label]['actual']) * np.random.uniform(\n",
    "        size=global_dfs_var_unc_data[start_label]\n",
    "        .shape[0]) + global_dfs_var_unc_data[start_label]['actual']\n",
    "global_dfs_var_unc_data[start_label]['best_estimate'] = (\n",
    "    global_dfs_var_unc_data[start_label]['upper'] +\n",
    "    global_dfs_var_unc_data[start_label]['lower']) / 2\n",
    "global_dfs_var_unc_data[start_label][\n",
    "    'difference'] = global_dfs_var_unc_data[start_label]['best_estimate'] - global_dfs_var_unc_data[start_label]['actual']\n",
    "global_dfs_var_unc_data[start_label].head(1)"
   ]
  },
  {
   "cell_type": "code",
   "execution_count": 15,
   "metadata": {},
   "outputs": [
    {
     "data": {
      "text/plain": [
       "dict_keys(['p0n0'])"
      ]
     },
     "execution_count": 15,
     "metadata": {},
     "output_type": "execute_result"
    }
   ],
   "source": [
    "global_dfs_var_unc_data.keys()"
   ]
  },
  {
   "cell_type": "markdown",
   "metadata": {},
   "source": [
    "### Other Globals:\n",
    "- Create Starting situation policies:\n",
    "- List of all Models"
   ]
  },
  {
   "cell_type": "markdown",
   "metadata": {},
   "source": [
    "# MORDM"
   ]
  },
  {
   "cell_type": "markdown",
   "metadata": {},
   "source": [
    "## Helper functions"
   ]
  },
  {
   "cell_type": "code",
   "execution_count": 16,
   "metadata": {
    "code_folding": [
     0
    ]
   },
   "outputs": [],
   "source": [
    "def create_policies(FL_dict, print_pols=False):\n",
    "    \"\"\"\n",
    "    Takes the current network of Facility Locations and returns all possible policies for one added FL.\n",
    "    \n",
    "    Input: current option (Dict of FLs)\n",
    "    Output: List of options (Dicts of FLs)\n",
    "    \n",
    "    Printing module not completely reliable. doesnt print whats actually in thereTODO\n",
    "    \"\"\"\n",
    "    def natural_key(string_):\n",
    "        return [int(s) if s.isdigit() else s for s in re.split(r'(\\d+)', string_)]\n",
    "    \n",
    "    # All FL names\n",
    "    FL_keys = sorted(FL_dict.keys(),key=natural_key)\n",
    "    # All FL values indicating whether operational\n",
    "    FL_values = [FL_dict[key] for key in FL_keys]\n",
    "    \n",
    "    i_operational_fls = i_FL_op = [i for i,x in enumerate(FL_values) if x == 1]\n",
    "    \n",
    "    # Create list of policies  \n",
    "    pols = np.identity(len(FL_keys))\n",
    "    # Set already operational facilities to operational\n",
    "    pols[:,i_operational_fls] = 1\n",
    "    \n",
    "    #Delete policies where no new FLs are placed \n",
    "    new_n_operational_fls = sum(FL_values) + 1\n",
    "    pols = pols[pols.sum(axis = 1) == new_n_operational_fls]\n",
    "\n",
    "    \n",
    "    # Return a list of dictionaries\n",
    "    policy_list = []\n",
    "    for pol in pols:\n",
    "        policy_list.append({key:value for key,value in zip(FL_keys,pol)})\n",
    "    \n",
    "    if print_pols == True:\n",
    "        print(\"total policies:\",len(policy_list))\n",
    "        for n,i in enumerate(policy_list):\n",
    "            for v in i.values():\n",
    "                print (int(v), end='')\n",
    "            print(\" <- policy {}\".format(n))\n",
    "                \n",
    "    return policy_list"
   ]
  },
  {
   "cell_type": "code",
   "execution_count": 17,
   "metadata": {
    "code_folding": [
     0
    ]
   },
   "outputs": [],
   "source": [
    "def calculate_signalNoise(data, obj):\n",
    "    '''\n",
    "    data : 1d array, the values of an outcome indicator for a policy\n",
    "    obj  : the objective corresponding to an outcome indicator, 1 or -1\n",
    "    '''\n",
    "    if obj == -1: #MINIMIZE\n",
    "        score = (np.mean(data)+1)*(np.std(data)+1) #to avoid division by zero if the std. deviation is zero, we can add 1.\n",
    "    elif obj == 1: #MAXIMIZE\n",
    "        score = (np.mean(data)+1)/(np.std(data)+1)\n",
    "    return score"
   ]
  },
  {
   "cell_type": "code",
   "execution_count": 18,
   "metadata": {
    "code_folding": [
     0
    ]
   },
   "outputs": [],
   "source": [
    "def calculate_maxregret(data, obj):\n",
    "    '''\n",
    "    data : a list of 1d arrays whose shape is no_policies x no_scenarios\n",
    "    obj : -1 or 1, the objective \n",
    "    '''\n",
    "    data = np.array(data)\n",
    "    if obj == 1: #MAXIMIZE \n",
    "        #find the best case in each scenario, therefore use the max function of numpy on the axis of policies\n",
    "        zero_regrets = np.max(data, axis=0)\n",
    "    elif obj == -1: #MINIMIZE\n",
    "        zero_regrets = np.min(data, axis=0)\n",
    "    \n",
    "    #determine the regret values for eaxh policy in each scenario\n",
    "    regrets = [abs(np.subtract(data[p], zero_regrets)) for p in range(data.shape[0])]\n",
    "    \n",
    "    max_regrets = np.max(regrets, axis=1)\n",
    "    \n",
    "    return max_regrets"
   ]
  },
  {
   "cell_type": "markdown",
   "metadata": {},
   "source": [
    "## Main"
   ]
  },
  {
   "cell_type": "code",
   "execution_count": 19,
   "metadata": {
    "code_folding": [
     0
    ]
   },
   "outputs": [],
   "source": [
    "def MORDM(\n",
    "        current=None,\n",
    "        current_period=None,\n",
    "        trace_label=None,\n",
    "        # fixed_data=None,\n",
    "        # var_data=None,\n",
    "        n_scenarios=100,\n",
    "        additional_info=None,\n",
    "        show_MORDM_graphics=False,\n",
    "        show_model_graphics=False):\n",
    "    \"\"\"\n",
    "    current: indexes of current operational locations\n",
    "    trace_label: label of input node\n",
    "    fixed_data: \n",
    "    var_data: df of variable data for each \n",
    "    max_depth: maximum number of total FLS\n",
    "    \"\"\"\n",
    "    #     if sum(current.values()) >= max_depth:\n",
    "    #         raise NotImplementedError(\n",
    "    #             \"Everything might go right(no error). This function is not well implemented. Change to > instead of >=\"\n",
    "    #         )\n",
    "\n",
    "    if show_MORDM_graphics == True:\n",
    "        raise NotImplementedError(\"\"\"visualisations are not implemented yet. \n",
    "            Not sure yet if impementing graphics in MPMORDM is usefull for every period \"\"\"\n",
    "                                  )\n",
    "\n",
    "    #Start Many Objective Optimisation\n",
    "    #best estimate values\n",
    "    best_estimate_disruptions = {\n",
    "        i: be\n",
    "        for be, i in zip(global_dfs_var_unc_data[trace_label]['best_estimate'],\n",
    "                         global_dfs_var_unc_data[trace_label].index)\n",
    "    }\n",
    "\n",
    "    optional_policies = create_policies(current, print_pols=False)\n",
    "\n",
    "    #evaluate all policies\n",
    "    best_est_results_opt_pols = []\n",
    "    for policy in optional_policies:\n",
    "        best_est_results_opt_pols.append(\n",
    "            FL_model(\n",
    "                unit_opening_costs=global_fixed_unc.loc[\"unit_opening_costs\",\n",
    "                                                        \"best_estimate\"],\n",
    "                unit_transport_cost=global_fixed_unc.loc[\"unit_transport_cost\",\n",
    "                                                         \"best_estimate\"],\n",
    "                FL_operations_cost=global_fixed_unc.loc[\"FL_operations_cost\",\n",
    "                                                        \"best_estimate\"],\n",
    "                graphical_representation=show_model_graphics,\n",
    "                FL_range=global_fixed_unc.loc[\"FL_range\",\n",
    "                                              \"best_estimate\"],  # km? --> m\n",
    "                dist_method=\"great_circle\",\n",
    "                lorry_speed=global_fixed_unc.loc[\n",
    "                    \"lorry_speed\", \"best_estimate\"],  #km/u? --> m/s\n",
    "                # fixed certain\n",
    "                **SPX,\n",
    "                **SPY,\n",
    "                **DPX,\n",
    "                **DPY,\n",
    "                **FLX,\n",
    "                **FLY,\n",
    "                **DPpop,\n",
    "                # specific\n",
    "                **policy,\n",
    "                **best_estimate_disruptions))\n",
    "\n",
    "    # outcome indicators, as internally used by the model\n",
    "    oois = [\n",
    "        'total_costs', 'nr_uncovered_DPs', 'total_uncovered_demand',\n",
    "        'max_distr_time'\n",
    "    ]\n",
    "    # Put outcomes in DF\n",
    "    df_best_est_results_opt_pols = pd.DataFrame(\n",
    "        np.asarray(best_est_results_opt_pols)[:, :4], columns=oois)\n",
    "\n",
    "    #nondominated sorting\n",
    "    nondominated_BE_policy_results = np.array(\n",
    "        pareto.eps_sort(\n",
    "            [list(df_best_est_results_opt_pols.itertuples(index=True))],\n",
    "            [1, 2, 3, 4], [1e-9, 1e-9, 1e-9, 1e-9]))\n",
    "\n",
    "    #Filter out those where new demand is covered\n",
    "    #TODO: Works only first time. After that doesn't work.\n",
    "    #TODO: Change to \"not more than previous round\"\n",
    "    nondominated_BE_policy_results = nondominated_BE_policy_results[\n",
    "        nondominated_BE_policy_results[:, 4] != 0]\n",
    "\n",
    "    #put nondominated policies in array\n",
    "    nondom_i = [int(a[0]) for a in nondominated_BE_policy_results]\n",
    "    nondominated_BE_policies = np.array(optional_policies)[nondom_i]\n",
    "\n",
    "    df_nondom_BE_pols = pd.DataFrame(\n",
    "        nondominated_BE_policy_results, columns=[\"i\"] + oois).set_index(\"i\")\n",
    "    df_nondom_BE_pols.to_csv(\n",
    "        \"results/mpmordm/nondom_BE_pols{}.csv\".format(trace_label))\n",
    "\n",
    "\n",
    "    #End Many Objective Optimisation\n",
    "    #Start Robustness analysis\n",
    "\n",
    "    EMA_model_dict[trace_label] = Model(\"flmodel{}\".format(trace_label),\n",
    "                                        FL_model)\n",
    "\n",
    "    EMA_model_dict[trace_label].locations = [\n",
    "        Constant(\"DPX{}\".format(i), x)\n",
    "        for i, x in zip(DPs.index, DPs['Longitude (DD)'])\n",
    "    ] + [\n",
    "        Constant(\"DPY{}\".format(i), y)\n",
    "        for i, y in zip(DPs.index, DPs['Latitude (DD)'])\n",
    "    ] + [\n",
    "        Constant(\"SPX{}\".format(i), x)\n",
    "        for i, x in zip(SPs.index, SPs['Longitude (DD)'])\n",
    "    ] + [\n",
    "        Constant(\"SPY{}\".format(i), y)\n",
    "        for i, y in zip(SPs.index, SPs['Latitude (DD)'])\n",
    "    ] + [\n",
    "        Constant(\"FLX{}\".format(i), x) for i, x in zip(FLs.index, FLs['Lon'])\n",
    "    ] + [\n",
    "        Constant(\"FLY{}\".format(i), y) for i, y in zip(FLs.index, FLs['Lat'])\n",
    "    ]\n",
    "\n",
    "    # model.locations_uncertain =   [\n",
    "    #     RealParameter(\"FLX{}\".format(i), DPs['Longitude (DD)'].min(), DPs['Longitude (DD)'].max()) for i in range(nr_of_FLs)\n",
    "    # ] + [RealParameter(\"FLY{}\".format(i), DPs['Latitude (DD)'].min(), DPs['Latitude (DD)'].max()) for i in range(nr_of_FLs)]\n",
    "\n",
    "    EMA_model_dict[trace_label].constants = [\n",
    "        Constant('graphical_representation', False),\n",
    "        Constant('dist_method', 'great_circle'),\n",
    "        Constant('Error_Test', 1),  # this doesn't do anything. \n",
    "        #list of other constants\n",
    "        #     Constant\n",
    "    ] + EMA_model_dict[trace_label].locations + [  # population DPs\n",
    "        Constant(\"DPpop{}\".format(i), pop)\n",
    "        for i, pop in zip(DPs.index, DPs['Population'])\n",
    "    ]\n",
    "\n",
    "    # Reachability of Demand Points and Facility Locations can be disrupted\n",
    "    # Disruption also determines demand (disr-1)*pop\n",
    "    EMA_model_dict[trace_label].disruptions = [\n",
    "        RealParameter(i, l, u) for i, l, u in zip(global_dfs_var_unc_data[\n",
    "            trace_label].index, global_dfs_var_unc_data[trace_label][\n",
    "                'lower'], global_dfs_var_unc_data[trace_label]['upper'])\n",
    "    ]\n",
    "\n",
    "    EMA_model_dict[trace_label].uncertainties = [\n",
    "        RealParameter(i, l, u)\n",
    "        for i, l, u in zip(global_fixed_unc.index, global_fixed_unc.lower,\n",
    "                           global_fixed_unc.upper)\n",
    "    ] + EMA_model_dict[trace_label].disruptions  #+ model.locations_uncertain\n",
    "\n",
    "    EMA_model_dict[trace_label].outcomes = [\n",
    "        ScalarOutcome(\"total_costs\", kind=ScalarOutcome.MINIMIZE),\n",
    "        ScalarOutcome(\"nr_uncovered_DPs\", kind=ScalarOutcome.MINIMIZE),\n",
    "        ScalarOutcome(\"total_uncovered_demand\", kind=ScalarOutcome.MINIMIZE),\n",
    "        ScalarOutcome(\n",
    "            \"max_distr_time\",\n",
    "            kind=ScalarOutcome.MINIMIZE,\n",
    "        )\n",
    "    ]\n",
    "\n",
    "    if [o.name for o in EMA_model_dict[trace_label].outcomes] != oois:\n",
    "        print(\"Watch out! Oois and model outcome names are not similar!\")\n",
    "\n",
    "    nondominated_BE_policies_EMA = []\n",
    "    for name, pol in zip(nondom_i, nondominated_BE_policies):\n",
    "        nondominated_BE_policies_EMA.append(Policy(\"{}\".format(name), **pol))\n",
    "\n",
    "    time1 = time.time()\n",
    "    all_scen_results_nondom_pols = perform_experiments(\n",
    "        EMA_model_dict[trace_label], n_scenarios, nondominated_BE_policies_EMA)\n",
    "    time2 = time.time()\n",
    "    print(\"Total time:{}\".format(time2 - time1), \"\\n\",\n",
    "          \"time per run = {}\".format(\n",
    "              (time2 - time1) /\n",
    "              (n_scenarios * len(nondominated_BE_policies_EMA))))\n",
    "\n",
    "    ema.save_results(all_scen_results_nondom_pols,\n",
    "                     \"results/mpmordm/{}.tar.gz\".format(trace_label))\n",
    "    experiments, outcomes = all_scen_results_nondom_pols\n",
    "\n",
    "    sigN_results = []\n",
    "\n",
    "    for policy in nondominated_BE_policies_EMA:\n",
    "        #filter the outcome values corresponding to each policy using a logical index\n",
    "        logical_index = experiments['policy'] == policy.name\n",
    "        # If ever something goes wrong here, probably add: int() to policy.name\n",
    "        pol_outcomes = {\n",
    "            key: outcomes[key][logical_index]\n",
    "            for key in outcomes.keys()\n",
    "        }\n",
    "        temp_result = {}\n",
    "        for ooi in EMA_model_dict[trace_label].outcomes:\n",
    "            temp_result[ooi.name] = calculate_signalNoise(\n",
    "                pol_outcomes[ooi.name], ooi.kind)\n",
    "        sigN_results.append(temp_result)\n",
    "\n",
    "    df_sigN = pd.DataFrame(\n",
    "        sigN_results, index=[pol.name for pol in nondominated_BE_policies_EMA])\n",
    "\n",
    "    reg_results = {}\n",
    "    # we need to iterate over the outcomes differently now,\n",
    "    #because the maximum egret calculation requires the outcome values for all policies\n",
    "    for ooi in EMA_model_dict[trace_label].outcomes:\n",
    "        data = []\n",
    "        for policy in nondominated_BE_policies_EMA:\n",
    "            logical_index = experiments['policy'] == policy.name\n",
    "            # If ever something goes wrong here, add int() to policy.name\n",
    "            data.append(outcomes[ooi.name][logical_index])\n",
    "        reg_results[ooi.name] = calculate_maxregret(data, ooi.kind)\n",
    "    df_regret = pd.DataFrame.from_dict(\n",
    "        reg_results,\n",
    "        orient='columns',\n",
    "    )\n",
    "    df_regret.index = [pol.name for pol in nondominated_BE_policies_EMA]\n",
    "\n",
    "    all_robustness_scores = pd.merge(\n",
    "        df_regret,\n",
    "        df_sigN,\n",
    "        left_index=True,\n",
    "        right_index=True,\n",
    "        suffixes=(\"_regret\", \"_sigN\"))\n",
    "\n",
    "    robust_nondominated_policies = pareto.eps_sort(\n",
    "        [list(all_robustness_scores.itertuples(index=True))],\n",
    "        [i + 1 for i in range(all_robustness_scores.shape[1])],\n",
    "        [1e-9] * all_robustness_scores.shape[1])\n",
    "\n",
    "    if len(robust_nondominated_policies) == 0:\n",
    "        print(\"something went wrong\")\n",
    "    elif len(robust_nondominated_policies) == 1:\n",
    "        print(\"no branching, only a single nondominated robust location\")\n",
    "        temp_cols = [\"pol_i\"] + list(all_robustness_scores.columns)\n",
    "\n",
    "        df_rob_nondom_pols = pd.DataFrame(\n",
    "            robust_nondominated_policies, columns=temp_cols).set_index(\"pol_i\")\n",
    "    #     print(robust_nondominated_policies)\n",
    "    else:\n",
    "        temp_cols = [\"pol_i\"] + list(all_robustness_scores.columns)\n",
    "        df_rob_nondom_pols = pd.DataFrame(\n",
    "            robust_nondominated_policies, columns=temp_cols).set_index(\"pol_i\")\n",
    "\n",
    "    df_rob_nondom_pols.to_csv(\n",
    "        \"results/mpmordm/nondom_rob_pols{}.csv\".format(trace_label))\n",
    "\n",
    "    rob_nondom_i = [int(i) for i in df_rob_nondom_pols.index]\n",
    "    #     return df_rob_nondom_pols\n",
    "    \n",
    "    return np.array(optional_policies)[rob_nondom_i]"
   ]
  },
  {
   "cell_type": "markdown",
   "metadata": {},
   "source": [
    "## Testing single cycle"
   ]
  },
  {
   "cell_type": "markdown",
   "metadata": {},
   "source": [
    "TODO: save csv nondom pols + csv rob nondom pols\n",
    "possible: clear op variable space with del"
   ]
  },
  {
   "cell_type": "code",
   "execution_count": 20,
   "metadata": {
    "scrolled": false
   },
   "outputs": [],
   "source": [
    "# test = MORDM(\n",
    "#     current=start_situation,n_scenarios=10, trace_label=start_label)"
   ]
  },
  {
   "cell_type": "markdown",
   "metadata": {},
   "source": [
    "# Full cycle"
   ]
  },
  {
   "cell_type": "code",
   "execution_count": 21,
   "metadata": {},
   "outputs": [
    {
     "data": {
      "text/plain": [
       "dict_keys(['p0n0'])"
      ]
     },
     "execution_count": 21,
     "metadata": {},
     "output_type": "execute_result"
    }
   ],
   "source": [
    "global_dfs_var_unc_data.keys()"
   ]
  },
  {
   "cell_type": "markdown",
   "metadata": {},
   "source": [
    "Now first: label management"
   ]
  },
  {
   "cell_type": "code",
   "execution_count": 22,
   "metadata": {},
   "outputs": [],
   "source": [
    "def change_decision_based_uncertainty(current_uncertain_data):\n",
    "    return current_uncertain_data"
   ]
  },
  {
   "cell_type": "code",
   "execution_count": 23,
   "metadata": {},
   "outputs": [
    {
     "name": "stdout",
     "output_type": "stream",
     "text": [
      "starting label: p0n0\n",
      "Do mordm, in period: 0 label: p0n0 policy: {'FLO0': 0, 'FLO1': 0, 'FLO2': 0, 'FLO3': 0, 'FLO4': 0, 'FLO5': 0, 'FLO6': 0, 'FLO7': 0, 'FLO8': 0, 'FLO9': 0, 'FLO10': 0, 'FLO11': 0, 'FLO12': 0, 'FLO13': 0, 'FLO14': 0, 'FLO15': 0, 'FLO16': 0, 'FLO17': 0, 'FLO18': 0, 'FLO19': 0}\n"
     ]
    },
    {
     "name": "stderr",
     "output_type": "stream",
     "text": [
      "[MainProcess/INFO] performing 10 scenarios * 4 policies * 1 model(s) = 40 experiments\n",
      "[MainProcess/INFO] performing experiments sequentially\n",
      "[MainProcess/INFO] 4 cases completed\n",
      "[MainProcess/INFO] 8 cases completed\n",
      "[MainProcess/INFO] 12 cases completed\n",
      "[MainProcess/INFO] 16 cases completed\n",
      "[MainProcess/INFO] 20 cases completed\n",
      "[MainProcess/INFO] 24 cases completed\n",
      "[MainProcess/INFO] 28 cases completed\n",
      "[MainProcess/INFO] 32 cases completed\n",
      "[MainProcess/INFO] 36 cases completed\n",
      "[MainProcess/INFO] 40 cases completed\n",
      "[MainProcess/INFO] experiments finished\n",
      "[MainProcess/INFO] results saved successfully to C:\\Users\\timro\\Dropbox\\MSc EPA\\0 Master Thesis\\Python Files\\Thesis\\Facility Location Model\\results\\mpmordm\\p0n0.tar.gz\n"
     ]
    },
    {
     "name": "stdout",
     "output_type": "stream",
     "text": [
      "Total time:1.9089076519012451 \n",
      " time per run = 0.04772269129753113\n",
      "result:||| p0n0p1n1\n",
      "result:||| p0n0p1n2\n",
      "Do mordm, in period: 1 label: p0n0p1n1 policy: {'FLO0': 1.0, 'FLO1': 0.0, 'FLO2': 0.0, 'FLO3': 0.0, 'FLO4': 0.0, 'FLO5': 0.0, 'FLO6': 0.0, 'FLO7': 0.0, 'FLO8': 0.0, 'FLO9': 0.0, 'FLO10': 0.0, 'FLO11': 0.0, 'FLO12': 0.0, 'FLO13': 0.0, 'FLO14': 0.0, 'FLO15': 0.0, 'FLO16': 0.0, 'FLO17': 0.0, 'FLO18': 0.0, 'FLO19': 0.0}\n"
     ]
    },
    {
     "name": "stderr",
     "output_type": "stream",
     "text": [
      "[MainProcess/INFO] performing 10 scenarios * 4 policies * 1 model(s) = 40 experiments\n",
      "[MainProcess/INFO] performing experiments sequentially\n",
      "[MainProcess/INFO] 4 cases completed\n",
      "[MainProcess/INFO] 8 cases completed\n",
      "[MainProcess/INFO] 12 cases completed\n",
      "[MainProcess/INFO] 16 cases completed\n",
      "[MainProcess/INFO] 20 cases completed\n",
      "[MainProcess/INFO] 24 cases completed\n",
      "[MainProcess/INFO] 28 cases completed\n",
      "[MainProcess/INFO] 32 cases completed\n",
      "[MainProcess/INFO] 36 cases completed\n",
      "[MainProcess/INFO] 40 cases completed\n",
      "[MainProcess/INFO] experiments finished\n",
      "[MainProcess/INFO] results saved successfully to C:\\Users\\timro\\Dropbox\\MSc EPA\\0 Master Thesis\\Python Files\\Thesis\\Facility Location Model\\results\\mpmordm\\p0n0p1n1.tar.gz\n"
     ]
    },
    {
     "name": "stdout",
     "output_type": "stream",
     "text": [
      "Total time:1.8749277591705322 \n",
      " time per run = 0.0468731939792633\n",
      "result:||| p0n0p1n1p2n3\n",
      "result:||| p0n0p1n1p2n4\n",
      "result:||| p0n0p1n1p2n5\n",
      "Do mordm, in period: 1 label: p0n0p1n2 policy: {'FLO0': 0.0, 'FLO1': 0.0, 'FLO2': 1.0, 'FLO3': 0.0, 'FLO4': 0.0, 'FLO5': 0.0, 'FLO6': 0.0, 'FLO7': 0.0, 'FLO8': 0.0, 'FLO9': 0.0, 'FLO10': 0.0, 'FLO11': 0.0, 'FLO12': 0.0, 'FLO13': 0.0, 'FLO14': 0.0, 'FLO15': 0.0, 'FLO16': 0.0, 'FLO17': 0.0, 'FLO18': 0.0, 'FLO19': 0.0}\n"
     ]
    },
    {
     "name": "stderr",
     "output_type": "stream",
     "text": [
      "[MainProcess/INFO] performing 10 scenarios * 6 policies * 1 model(s) = 60 experiments\n",
      "[MainProcess/INFO] performing experiments sequentially\n",
      "[MainProcess/INFO] 6 cases completed\n",
      "[MainProcess/INFO] 12 cases completed\n",
      "[MainProcess/INFO] 18 cases completed\n",
      "[MainProcess/INFO] 24 cases completed\n",
      "[MainProcess/INFO] 30 cases completed\n",
      "[MainProcess/INFO] 36 cases completed\n",
      "[MainProcess/INFO] 42 cases completed\n",
      "[MainProcess/INFO] 48 cases completed\n",
      "[MainProcess/INFO] 54 cases completed\n",
      "[MainProcess/INFO] 60 cases completed\n",
      "[MainProcess/INFO] experiments finished\n",
      "[MainProcess/INFO] results saved successfully to C:\\Users\\timro\\Dropbox\\MSc EPA\\0 Master Thesis\\Python Files\\Thesis\\Facility Location Model\\results\\mpmordm\\p0n0p1n2.tar.gz\n"
     ]
    },
    {
     "name": "stdout",
     "output_type": "stream",
     "text": [
      "Total time:2.802400827407837 \n",
      " time per run = 0.04670668045679728\n",
      "result:||| p0n0p1n2p2n6\n",
      "result:||| p0n0p1n2p2n7\n",
      "result:||| p0n0p1n2p2n8\n",
      "result:||| p0n0p1n2p2n9\n",
      "result:||| p0n0p1n2p2n10\n",
      "result:||| p0n0p1n2p2n11\n"
     ]
    }
   ],
   "source": [
    "periods = 2 # 1 location per period -> locations = periods\n",
    "\n",
    "global_node_counter = 0\n",
    "\n",
    "start_situation = {key:0 for key in FLs.Name}\n",
    "global_policy_tree = {start_label : start_situation}\n",
    "global_label_tree = {\n",
    "    \"p{}\".format(p, global_node_counter): []\n",
    "    if p != 0 else [\"{}\".format(start_label)]\n",
    "    for p in range(periods+1)\n",
    "}\n",
    "\n",
    "EMA_model_dict = {}  # XX somewhere else: global\n",
    "print(\"starting label:\", start_label)\n",
    "\n",
    "\n",
    "for p in range(periods):\n",
    "    for node_i, node in enumerate(list(global_label_tree[\"p{}\".format(p)])):\n",
    "#         print(\"|\", p, node)\n",
    "        if p < periods:\n",
    "            print(\"Do mordm, in period:\", p,\"label:\", node,\"policy:\",global_policy_tree[node])\n",
    "#             new_pols = [\"a\", \"b\", \"c\"]\n",
    "            new_pols = MORDM(current=global_policy_tree[node],n_scenarios=10, trace_label=node)\n",
    "            for new_pol in new_pols:\n",
    "                # Create new label\n",
    "                global_node_counter += 1\n",
    "                new_label = node + \"p{}n{}\".format(p + 1, global_node_counter)\n",
    "                print(\"result:|||\",new_label)\n",
    "                # Create new branch\n",
    "                global_label_tree[\"p{}\".format(p + 1)].append(new_label)\n",
    "                # add new policy\n",
    "                global_policy_tree[new_label] = new_pol\n",
    "                # change information based on policy\n",
    "                #TODO not implemented yet\n",
    "#                 global_dfs_var_unc_data[new_label] = global_dfs_var_unc_data[start_label]\n",
    "                global_dfs_var_unc_data[new_label] = change_decision_based_uncertainty(global_dfs_var_unc_data[node])\n",
    "\n",
    "                \n",
    "                \n",
    "                \n",
    "        else:\n",
    "            print(p,\n",
    "                \"if you see this, sth went wrong.\"\n",
    "            )\n",
    "#     print(\"__end_period:\",p)"
   ]
  },
  {
   "cell_type": "code",
   "execution_count": 24,
   "metadata": {},
   "outputs": [
    {
     "data": {
      "text/plain": [
       "{'p0': ['p0n0'],\n",
       " 'p1': ['p0n0p1n1', 'p0n0p1n2'],\n",
       " 'p2': ['p0n0p1n1p2n3',\n",
       "  'p0n0p1n1p2n4',\n",
       "  'p0n0p1n1p2n5',\n",
       "  'p0n0p1n2p2n6',\n",
       "  'p0n0p1n2p2n7',\n",
       "  'p0n0p1n2p2n8',\n",
       "  'p0n0p1n2p2n9',\n",
       "  'p0n0p1n2p2n10',\n",
       "  'p0n0p1n2p2n11']}"
      ]
     },
     "execution_count": 24,
     "metadata": {},
     "output_type": "execute_result"
    }
   ],
   "source": [
    "global_label_tree"
   ]
  },
  {
   "cell_type": "code",
   "execution_count": 25,
   "metadata": {},
   "outputs": [
    {
     "data": {
      "text/plain": [
       "{'p0': ['p0n0'],\n",
       " 'p1': ['p0n0p1n1', 'p0n0p1n2'],\n",
       " 'p2': ['p0n0p1n1p2n3',\n",
       "  'p0n0p1n1p2n4',\n",
       "  'p0n0p1n1p2n5',\n",
       "  'p0n0p1n2p2n6',\n",
       "  'p0n0p1n2p2n7',\n",
       "  'p0n0p1n2p2n8',\n",
       "  'p0n0p1n2p2n9',\n",
       "  'p0n0p1n2p2n10',\n",
       "  'p0n0p1n2p2n11']}"
      ]
     },
     "execution_count": 25,
     "metadata": {},
     "output_type": "execute_result"
    }
   ],
   "source": [
    "global_label_tree"
   ]
  },
  {
   "cell_type": "code",
   "execution_count": 38,
   "metadata": {
    "scrolled": true
   },
   "outputs": [
    {
     "data": {
      "text/plain": [
       "{'p0n0': <ema_workbench.em_framework.model.Model at 0x2ae33da7358>,\n",
       " 'p0n0p1n1': <ema_workbench.em_framework.model.Model at 0x2ae33e664e0>,\n",
       " 'p0n0p1n2': <ema_workbench.em_framework.model.Model at 0x2ae33e66a58>}"
      ]
     },
     "execution_count": 38,
     "metadata": {},
     "output_type": "execute_result"
    }
   ],
   "source": [
    "EMA_model_dict"
   ]
  },
  {
   "cell_type": "code",
   "execution_count": 39,
   "metadata": {},
   "outputs": [
    {
     "name": "stdout",
     "output_type": "stream",
     "text": [
      "p0n0 []\n",
      "p0n0p1n1 ['FLO0']\n",
      "p0n0p1n2 ['FLO2']\n",
      "p0n0p1n1p2n3 ['FLO0', 'FLO2']\n",
      "p0n0p1n1p2n4 ['FLO0', 'FLO14']\n",
      "p0n0p1n1p2n5 ['FLO0', 'FLO19']\n",
      "p0n0p1n2p2n6 ['FLO0', 'FLO2']\n",
      "p0n0p1n2p2n7 ['FLO2', 'FLO4']\n",
      "p0n0p1n2p2n8 ['FLO2', 'FLO6']\n",
      "p0n0p1n2p2n9 ['FLO2', 'FLO14']\n",
      "p0n0p1n2p2n10 ['FLO2', 'FLO15']\n",
      "p0n0p1n2p2n11 ['FLO2', 'FLO19']\n"
     ]
    }
   ],
   "source": [
    "for key in global_policy_tree.keys():\n",
    "    poldict = global_policy_tree[key]\n",
    "    print(key,[key2 for key2 in poldict if poldict[key2]==1])"
   ]
  },
  {
   "cell_type": "code",
   "execution_count": 29,
   "metadata": {},
   "outputs": [
    {
     "name": "stdout",
     "output_type": "stream",
     "text": [
      "p0n0p1n2 ['FLO2']\n",
      "p0n0p1n2p2n6 ['FLO0', 'FLO2']\n",
      "p0n0p1n2p2n7 ['FLO2', 'FLO4']\n",
      "p0n0p1n2p2n8 ['FLO2', 'FLO6']\n",
      "p0n0p1n2p2n9 ['FLO2', 'FLO14']\n",
      "p0n0p1n2p2n10 ['FLO2', 'FLO15']\n",
      "p0n0p1n2p2n11 ['FLO2', 'FLO19']\n"
     ]
    }
   ],
   "source": [
    "# only those nodes that branch from n2\n",
    "for key in global_policy_tree.keys():\n",
    "    if \"n2\" in key:\n",
    "        poldict = global_policy_tree[key]\n",
    "        print(key,[key2 for key2 in poldict if poldict[key2]==1])"
   ]
  },
  {
   "cell_type": "code",
   "execution_count": null,
   "metadata": {},
   "outputs": [],
   "source": []
  },
  {
   "cell_type": "code",
   "execution_count": null,
   "metadata": {},
   "outputs": [],
   "source": []
  },
  {
   "cell_type": "code",
   "execution_count": null,
   "metadata": {},
   "outputs": [],
   "source": []
  },
  {
   "cell_type": "code",
   "execution_count": null,
   "metadata": {},
   "outputs": [],
   "source": []
  },
  {
   "cell_type": "markdown",
   "metadata": {},
   "source": [
    "## Development of micromodel:"
   ]
  },
  {
   "cell_type": "code",
   "execution_count": 107,
   "metadata": {},
   "outputs": [],
   "source": [
    "df_test = global_dfs_var_unc_data['p0n0']"
   ]
  },
  {
   "cell_type": "code",
   "execution_count": 264,
   "metadata": {},
   "outputs": [
    {
     "data": {
      "text/html": [
       "<div>\n",
       "<style scoped>\n",
       "    .dataframe tbody tr th:only-of-type {\n",
       "        vertical-align: middle;\n",
       "    }\n",
       "\n",
       "    .dataframe tbody tr th {\n",
       "        vertical-align: top;\n",
       "    }\n",
       "\n",
       "    .dataframe thead th {\n",
       "        text-align: right;\n",
       "    }\n",
       "</style>\n",
       "<table border=\"1\" class=\"dataframe\">\n",
       "  <thead>\n",
       "    <tr style=\"text-align: right;\">\n",
       "      <th></th>\n",
       "      <th>SP0</th>\n",
       "      <th>FL0</th>\n",
       "      <th>FL1</th>\n",
       "      <th>FL2</th>\n",
       "      <th>FL3</th>\n",
       "      <th>FL4</th>\n",
       "      <th>FL5</th>\n",
       "      <th>FL6</th>\n",
       "      <th>FL7</th>\n",
       "      <th>FL8</th>\n",
       "      <th>...</th>\n",
       "      <th>DP8</th>\n",
       "      <th>DP9</th>\n",
       "      <th>DP10</th>\n",
       "      <th>DP11</th>\n",
       "      <th>DP12</th>\n",
       "      <th>DP13</th>\n",
       "      <th>DP14</th>\n",
       "      <th>DP15</th>\n",
       "      <th>DP16</th>\n",
       "      <th>DP17</th>\n",
       "    </tr>\n",
       "  </thead>\n",
       "  <tbody>\n",
       "    <tr>\n",
       "      <th>SP0</th>\n",
       "      <td>0.0</td>\n",
       "      <td>22985.0</td>\n",
       "      <td>15488.3</td>\n",
       "      <td>7322.1</td>\n",
       "      <td>45697.2</td>\n",
       "      <td>18472.8</td>\n",
       "      <td>36158.1</td>\n",
       "      <td>45596.2</td>\n",
       "      <td>24661.5</td>\n",
       "      <td>30495.5</td>\n",
       "      <td>...</td>\n",
       "      <td>47678.8</td>\n",
       "      <td>1263.1</td>\n",
       "      <td>19383.2</td>\n",
       "      <td>10013.3</td>\n",
       "      <td>46347.7</td>\n",
       "      <td>35837.0</td>\n",
       "      <td>26720.9</td>\n",
       "      <td>32937.9</td>\n",
       "      <td>20912.0</td>\n",
       "      <td>1088.2</td>\n",
       "    </tr>\n",
       "    <tr>\n",
       "      <th>FL0</th>\n",
       "      <td>21864.2</td>\n",
       "      <td>0.0</td>\n",
       "      <td>22430.4</td>\n",
       "      <td>22210.2</td>\n",
       "      <td>58343.7</td>\n",
       "      <td>22473.2</td>\n",
       "      <td>16745.5</td>\n",
       "      <td>52538.3</td>\n",
       "      <td>10961.2</td>\n",
       "      <td>47787.0</td>\n",
       "      <td>...</td>\n",
       "      <td>28266.2</td>\n",
       "      <td>21817.1</td>\n",
       "      <td>3886.8</td>\n",
       "      <td>16955.4</td>\n",
       "      <td>26935.1</td>\n",
       "      <td>16424.4</td>\n",
       "      <td>33663.0</td>\n",
       "      <td>39880.0</td>\n",
       "      <td>5769.6</td>\n",
       "      <td>21642.2</td>\n",
       "    </tr>\n",
       "  </tbody>\n",
       "</table>\n",
       "<p>2 rows × 39 columns</p>\n",
       "</div>"
      ],
      "text/plain": [
       "         SP0      FL0      FL1      FL2      FL3      FL4      FL5      FL6  \\\n",
       "SP0      0.0  22985.0  15488.3   7322.1  45697.2  18472.8  36158.1  45596.2   \n",
       "FL0  21864.2      0.0  22430.4  22210.2  58343.7  22473.2  16745.5  52538.3   \n",
       "\n",
       "         FL7      FL8   ...         DP8      DP9     DP10     DP11     DP12  \\\n",
       "SP0  24661.5  30495.5   ...     47678.8   1263.1  19383.2  10013.3  46347.7   \n",
       "FL0  10961.2  47787.0   ...     28266.2  21817.1   3886.8  16955.4  26935.1   \n",
       "\n",
       "        DP13     DP14     DP15     DP16     DP17  \n",
       "SP0  35837.0  26720.9  32937.9  20912.0   1088.2  \n",
       "FL0  16424.4  33663.0  39880.0   5769.6  21642.2  \n",
       "\n",
       "[2 rows x 39 columns]"
      ]
     },
     "execution_count": 264,
     "metadata": {},
     "output_type": "execute_result"
    }
   ],
   "source": [
    "time_matrix.head(2)"
   ]
  },
  {
   "cell_type": "markdown",
   "metadata": {},
   "source": [
    "Assumption:\n",
    "- dps change information the same as fls\n",
    "- not only based on last added fl, but for all operational fl.\n",
    "- linear function based on distance. further away, less information\n",
    "- information changes only based on distance. not on allocation, as it's unsure if location is allocated\n",
    "    - To improve this, use sigmoid function instead of linear.\n",
    "    - then steepest part is on the estimated covering distance"
   ]
  },
  {
   "cell_type": "code",
   "execution_count": 624,
   "metadata": {},
   "outputs": [],
   "source": [
    "def new_est_low_up(row, fl_n):\n",
    "    \"\"\"Validated\"\"\"\n",
    "    row_label = row.name[3:]\n",
    "    fl_label = \"FL{}\".format(fl_n)\n",
    "    dist = time_matrix.loc[fl_label, row_label]\n",
    "\n",
    "    unc_red = linear(dist/1000, 50)\n",
    "    be_new = row['best_estimate'] + (row['actual']-row['best_estimate'])* unc_red\n",
    "    low_new = be_new - 0.5 * (row['upper']-row['lower']) * (1-unc_red)\n",
    "    up_new = be_new + 0.5 * (row['upper']-row['lower']) * (1-unc_red)\n",
    "    return low_new, be_new, up_new"
   ]
  },
  {
   "cell_type": "code",
   "execution_count": 627,
   "metadata": {
    "scrolled": false
   },
   "outputs": [
    {
     "name": "stdout",
     "output_type": "stream",
     "text": [
      "2\n",
      "3\n"
     ]
    }
   ],
   "source": [
    "def change_decision_based_uncertainty(df, fls):\n",
    "    df2 = df.copy(deep=True)\n",
    "    for fl in fls:\n",
    "        print(fl)\n",
    "        df2['lower'], df2['best_estimate'], df2['upper'] = zip(\n",
    "            *df_test.apply(lambda row: new_est_low_up(row, 13), axis=1))\n",
    "    return df2\n",
    "\n",
    "\n",
    "df3 = change_decision_based_uncertainty(df_test, [2, 3])"
   ]
  },
  {
   "cell_type": "code",
   "execution_count": 629,
   "metadata": {},
   "outputs": [
    {
     "data": {
      "text/html": [
       "<div>\n",
       "<style scoped>\n",
       "    .dataframe tbody tr th:only-of-type {\n",
       "        vertical-align: middle;\n",
       "    }\n",
       "\n",
       "    .dataframe tbody tr th {\n",
       "        vertical-align: top;\n",
       "    }\n",
       "\n",
       "    .dataframe thead th {\n",
       "        text-align: right;\n",
       "    }\n",
       "</style>\n",
       "<table border=\"1\" class=\"dataframe\">\n",
       "  <thead>\n",
       "    <tr style=\"text-align: right;\">\n",
       "      <th></th>\n",
       "      <th>actual</th>\n",
       "      <th>lower</th>\n",
       "      <th>upper</th>\n",
       "      <th>best_estimate</th>\n",
       "      <th>difference</th>\n",
       "      <th>a</th>\n",
       "      <th>b</th>\n",
       "      <th>c</th>\n",
       "    </tr>\n",
       "  </thead>\n",
       "  <tbody>\n",
       "    <tr>\n",
       "      <th>DSRDP0</th>\n",
       "      <td>1.095545</td>\n",
       "      <td>1.065224</td>\n",
       "      <td>1.263898</td>\n",
       "      <td>1.164561</td>\n",
       "      <td>0.069016</td>\n",
       "      <td>1.072166</td>\n",
       "      <td>1.148760</td>\n",
       "      <td>1.225355</td>\n",
       "    </tr>\n",
       "    <tr>\n",
       "      <th>DSRDP1</th>\n",
       "      <td>1.575701</td>\n",
       "      <td>1.359655</td>\n",
       "      <td>1.826360</td>\n",
       "      <td>1.593008</td>\n",
       "      <td>0.017307</td>\n",
       "      <td>1.359655</td>\n",
       "      <td>1.593008</td>\n",
       "      <td>1.826360</td>\n",
       "    </tr>\n",
       "    <tr>\n",
       "      <th>DSRDP2</th>\n",
       "      <td>1.697693</td>\n",
       "      <td>1.069009</td>\n",
       "      <td>1.895886</td>\n",
       "      <td>1.482447</td>\n",
       "      <td>-0.215246</td>\n",
       "      <td>1.213775</td>\n",
       "      <td>1.532012</td>\n",
       "      <td>1.850248</td>\n",
       "    </tr>\n",
       "    <tr>\n",
       "      <th>DSRDP3</th>\n",
       "      <td>1.009035</td>\n",
       "      <td>1.002301</td>\n",
       "      <td>1.228025</td>\n",
       "      <td>1.115163</td>\n",
       "      <td>0.106128</td>\n",
       "      <td>1.004758</td>\n",
       "      <td>1.076447</td>\n",
       "      <td>1.148136</td>\n",
       "    </tr>\n",
       "    <tr>\n",
       "      <th>DSRDP4</th>\n",
       "      <td>1.957269</td>\n",
       "      <td>1.582159</td>\n",
       "      <td>1.982386</td>\n",
       "      <td>1.782273</td>\n",
       "      <td>-0.174996</td>\n",
       "      <td>1.672237</td>\n",
       "      <td>1.824296</td>\n",
       "      <td>1.976354</td>\n",
       "    </tr>\n",
       "    <tr>\n",
       "      <th>DSRDP5</th>\n",
       "      <td>1.428245</td>\n",
       "      <td>1.419164</td>\n",
       "      <td>1.869841</td>\n",
       "      <td>1.644502</td>\n",
       "      <td>0.216257</td>\n",
       "      <td>1.419164</td>\n",
       "      <td>1.644502</td>\n",
       "      <td>1.869841</td>\n",
       "    </tr>\n",
       "    <tr>\n",
       "      <th>DSRDP6</th>\n",
       "      <td>1.840356</td>\n",
       "      <td>1.142181</td>\n",
       "      <td>1.884134</td>\n",
       "      <td>1.513157</td>\n",
       "      <td>-0.327199</td>\n",
       "      <td>1.433593</td>\n",
       "      <td>1.649728</td>\n",
       "      <td>1.865862</td>\n",
       "    </tr>\n",
       "    <tr>\n",
       "      <th>DSRDP7</th>\n",
       "      <td>1.036414</td>\n",
       "      <td>1.017780</td>\n",
       "      <td>1.138319</td>\n",
       "      <td>1.078050</td>\n",
       "      <td>0.041636</td>\n",
       "      <td>1.019609</td>\n",
       "      <td>1.073964</td>\n",
       "      <td>1.128318</td>\n",
       "    </tr>\n",
       "    <tr>\n",
       "      <th>DSRDP8</th>\n",
       "      <td>1.381361</td>\n",
       "      <td>1.144269</td>\n",
       "      <td>1.914257</td>\n",
       "      <td>1.529263</td>\n",
       "      <td>0.147902</td>\n",
       "      <td>1.310553</td>\n",
       "      <td>1.425533</td>\n",
       "      <td>1.540512</td>\n",
       "    </tr>\n",
       "    <tr>\n",
       "      <th>DSRDP9</th>\n",
       "      <td>1.149976</td>\n",
       "      <td>1.118657</td>\n",
       "      <td>1.196814</td>\n",
       "      <td>1.157736</td>\n",
       "      <td>0.007759</td>\n",
       "      <td>1.125411</td>\n",
       "      <td>1.156062</td>\n",
       "      <td>1.186714</td>\n",
       "    </tr>\n",
       "    <tr>\n",
       "      <th>DSRDP10</th>\n",
       "      <td>1.148678</td>\n",
       "      <td>1.009399</td>\n",
       "      <td>1.615329</td>\n",
       "      <td>1.312364</td>\n",
       "      <td>0.163685</td>\n",
       "      <td>1.089380</td>\n",
       "      <td>1.218367</td>\n",
       "      <td>1.347355</td>\n",
       "    </tr>\n",
       "    <tr>\n",
       "      <th>DSRDP11</th>\n",
       "      <td>1.211756</td>\n",
       "      <td>1.178349</td>\n",
       "      <td>1.290457</td>\n",
       "      <td>1.234403</td>\n",
       "      <td>0.022647</td>\n",
       "      <td>1.188801</td>\n",
       "      <td>1.227317</td>\n",
       "      <td>1.265833</td>\n",
       "    </tr>\n",
       "    <tr>\n",
       "      <th>DSRDP12</th>\n",
       "      <td>1.422054</td>\n",
       "      <td>1.198954</td>\n",
       "      <td>1.985885</td>\n",
       "      <td>1.592420</td>\n",
       "      <td>0.170365</td>\n",
       "      <td>1.361364</td>\n",
       "      <td>1.468399</td>\n",
       "      <td>1.575433</td>\n",
       "    </tr>\n",
       "    <tr>\n",
       "      <th>DSRDP13</th>\n",
       "      <td>1.103501</td>\n",
       "      <td>1.039305</td>\n",
       "      <td>1.780977</td>\n",
       "      <td>1.410141</td>\n",
       "      <td>0.306640</td>\n",
       "      <td>1.095563</td>\n",
       "      <td>1.141421</td>\n",
       "      <td>1.187279</td>\n",
       "    </tr>\n",
       "    <tr>\n",
       "      <th>DSRDP14</th>\n",
       "      <td>1.367584</td>\n",
       "      <td>1.191252</td>\n",
       "      <td>1.636378</td>\n",
       "      <td>1.413815</td>\n",
       "      <td>0.046231</td>\n",
       "      <td>1.191252</td>\n",
       "      <td>1.413815</td>\n",
       "      <td>1.636378</td>\n",
       "    </tr>\n",
       "    <tr>\n",
       "      <th>DSRDP15</th>\n",
       "      <td>1.527343</td>\n",
       "      <td>1.076097</td>\n",
       "      <td>1.743334</td>\n",
       "      <td>1.409716</td>\n",
       "      <td>-0.117628</td>\n",
       "      <td>1.076097</td>\n",
       "      <td>1.409716</td>\n",
       "      <td>1.743334</td>\n",
       "    </tr>\n",
       "    <tr>\n",
       "      <th>DSRDP16</th>\n",
       "      <td>1.088508</td>\n",
       "      <td>1.038146</td>\n",
       "      <td>1.239355</td>\n",
       "      <td>1.138751</td>\n",
       "      <td>0.050243</td>\n",
       "      <td>1.064943</td>\n",
       "      <td>1.112017</td>\n",
       "      <td>1.159092</td>\n",
       "    </tr>\n",
       "    <tr>\n",
       "      <th>DSRDP17</th>\n",
       "      <td>1.064215</td>\n",
       "      <td>1.022231</td>\n",
       "      <td>1.953449</td>\n",
       "      <td>1.487840</td>\n",
       "      <td>0.423625</td>\n",
       "      <td>1.031432</td>\n",
       "      <td>1.395006</td>\n",
       "      <td>1.758580</td>\n",
       "    </tr>\n",
       "    <tr>\n",
       "      <th>DSRFL0</th>\n",
       "      <td>1.859469</td>\n",
       "      <td>1.804626</td>\n",
       "      <td>1.979847</td>\n",
       "      <td>1.892237</td>\n",
       "      <td>0.032768</td>\n",
       "      <td>1.836460</td>\n",
       "      <td>1.873217</td>\n",
       "      <td>1.909973</td>\n",
       "    </tr>\n",
       "    <tr>\n",
       "      <th>DSRFL1</th>\n",
       "      <td>1.685420</td>\n",
       "      <td>1.185665</td>\n",
       "      <td>1.722102</td>\n",
       "      <td>1.453883</td>\n",
       "      <td>-0.231537</td>\n",
       "      <td>1.287304</td>\n",
       "      <td>1.500973</td>\n",
       "      <td>1.714642</td>\n",
       "    </tr>\n",
       "    <tr>\n",
       "      <th>DSRFL2</th>\n",
       "      <td>1.033694</td>\n",
       "      <td>1.029516</td>\n",
       "      <td>1.689552</td>\n",
       "      <td>1.359534</td>\n",
       "      <td>0.325839</td>\n",
       "      <td>1.030384</td>\n",
       "      <td>1.291830</td>\n",
       "      <td>1.553276</td>\n",
       "    </tr>\n",
       "    <tr>\n",
       "      <th>DSRFL3</th>\n",
       "      <td>1.084295</td>\n",
       "      <td>1.046220</td>\n",
       "      <td>1.664336</td>\n",
       "      <td>1.355278</td>\n",
       "      <td>0.270984</td>\n",
       "      <td>1.046220</td>\n",
       "      <td>1.355278</td>\n",
       "      <td>1.664336</td>\n",
       "    </tr>\n",
       "    <tr>\n",
       "      <th>DSRFL4</th>\n",
       "      <td>1.380524</td>\n",
       "      <td>1.138851</td>\n",
       "      <td>1.598035</td>\n",
       "      <td>1.368443</td>\n",
       "      <td>-0.012081</td>\n",
       "      <td>1.187795</td>\n",
       "      <td>1.370889</td>\n",
       "      <td>1.553984</td>\n",
       "    </tr>\n",
       "    <tr>\n",
       "      <th>DSRFL5</th>\n",
       "      <td>1.568952</td>\n",
       "      <td>1.286155</td>\n",
       "      <td>1.587459</td>\n",
       "      <td>1.436807</td>\n",
       "      <td>-0.132145</td>\n",
       "      <td>1.432816</td>\n",
       "      <td>1.505338</td>\n",
       "      <td>1.577861</td>\n",
       "    </tr>\n",
       "    <tr>\n",
       "      <th>DSRFL6</th>\n",
       "      <td>1.952627</td>\n",
       "      <td>1.073567</td>\n",
       "      <td>1.953104</td>\n",
       "      <td>1.513335</td>\n",
       "      <td>-0.439292</td>\n",
       "      <td>1.073567</td>\n",
       "      <td>1.513335</td>\n",
       "      <td>1.953104</td>\n",
       "    </tr>\n",
       "    <tr>\n",
       "      <th>DSRFL7</th>\n",
       "      <td>1.164416</td>\n",
       "      <td>1.000608</td>\n",
       "      <td>1.239288</td>\n",
       "      <td>1.119948</td>\n",
       "      <td>-0.044468</td>\n",
       "      <td>1.073359</td>\n",
       "      <td>1.139697</td>\n",
       "      <td>1.206036</td>\n",
       "    </tr>\n",
       "    <tr>\n",
       "      <th>DSRFL8</th>\n",
       "      <td>1.825965</td>\n",
       "      <td>1.596626</td>\n",
       "      <td>1.970339</td>\n",
       "      <td>1.783483</td>\n",
       "      <td>-0.042483</td>\n",
       "      <td>1.596626</td>\n",
       "      <td>1.783483</td>\n",
       "      <td>1.970339</td>\n",
       "    </tr>\n",
       "    <tr>\n",
       "      <th>DSRFL9</th>\n",
       "      <td>1.643431</td>\n",
       "      <td>1.095167</td>\n",
       "      <td>1.903884</td>\n",
       "      <td>1.499525</td>\n",
       "      <td>-0.143906</td>\n",
       "      <td>1.160767</td>\n",
       "      <td>1.516744</td>\n",
       "      <td>1.872721</td>\n",
       "    </tr>\n",
       "    <tr>\n",
       "      <th>DSRFL10</th>\n",
       "      <td>1.966758</td>\n",
       "      <td>1.702838</td>\n",
       "      <td>1.977456</td>\n",
       "      <td>1.840147</td>\n",
       "      <td>-0.126611</td>\n",
       "      <td>1.875850</td>\n",
       "      <td>1.923146</td>\n",
       "      <td>1.970443</td>\n",
       "    </tr>\n",
       "    <tr>\n",
       "      <th>DSRFL11</th>\n",
       "      <td>1.389497</td>\n",
       "      <td>1.078586</td>\n",
       "      <td>1.648050</td>\n",
       "      <td>1.363318</td>\n",
       "      <td>-0.026179</td>\n",
       "      <td>1.329414</td>\n",
       "      <td>1.384438</td>\n",
       "      <td>1.439462</td>\n",
       "    </tr>\n",
       "    <tr>\n",
       "      <th>DSRFL12</th>\n",
       "      <td>1.426061</td>\n",
       "      <td>1.402428</td>\n",
       "      <td>1.782926</td>\n",
       "      <td>1.592677</td>\n",
       "      <td>0.166616</td>\n",
       "      <td>1.406027</td>\n",
       "      <td>1.567301</td>\n",
       "      <td>1.728574</td>\n",
       "    </tr>\n",
       "    <tr>\n",
       "      <th>DSRFL13</th>\n",
       "      <td>1.822881</td>\n",
       "      <td>1.082653</td>\n",
       "      <td>1.827784</td>\n",
       "      <td>1.455218</td>\n",
       "      <td>-0.367662</td>\n",
       "      <td>1.822881</td>\n",
       "      <td>1.822881</td>\n",
       "      <td>1.822881</td>\n",
       "    </tr>\n",
       "    <tr>\n",
       "      <th>DSRFL14</th>\n",
       "      <td>1.138598</td>\n",
       "      <td>1.090090</td>\n",
       "      <td>1.889799</td>\n",
       "      <td>1.489944</td>\n",
       "      <td>0.351346</td>\n",
       "      <td>1.099511</td>\n",
       "      <td>1.421705</td>\n",
       "      <td>1.743898</td>\n",
       "    </tr>\n",
       "    <tr>\n",
       "      <th>DSRFL15</th>\n",
       "      <td>1.607624</td>\n",
       "      <td>1.170154</td>\n",
       "      <td>1.930990</td>\n",
       "      <td>1.550572</td>\n",
       "      <td>-0.057052</td>\n",
       "      <td>1.436972</td>\n",
       "      <td>1.585369</td>\n",
       "      <td>1.733766</td>\n",
       "    </tr>\n",
       "    <tr>\n",
       "      <th>DSRFL16</th>\n",
       "      <td>1.540756</td>\n",
       "      <td>1.433190</td>\n",
       "      <td>1.911832</td>\n",
       "      <td>1.672511</td>\n",
       "      <td>0.131755</td>\n",
       "      <td>1.433190</td>\n",
       "      <td>1.672511</td>\n",
       "      <td>1.911832</td>\n",
       "    </tr>\n",
       "    <tr>\n",
       "      <th>DSRFL17</th>\n",
       "      <td>1.228217</td>\n",
       "      <td>1.153451</td>\n",
       "      <td>1.908279</td>\n",
       "      <td>1.530865</td>\n",
       "      <td>0.302648</td>\n",
       "      <td>1.202628</td>\n",
       "      <td>1.331799</td>\n",
       "      <td>1.460971</td>\n",
       "    </tr>\n",
       "    <tr>\n",
       "      <th>DSRFL18</th>\n",
       "      <td>1.678341</td>\n",
       "      <td>1.442420</td>\n",
       "      <td>1.948859</td>\n",
       "      <td>1.695639</td>\n",
       "      <td>0.017298</td>\n",
       "      <td>1.587408</td>\n",
       "      <td>1.685008</td>\n",
       "      <td>1.782608</td>\n",
       "    </tr>\n",
       "    <tr>\n",
       "      <th>DSRFL19</th>\n",
       "      <td>1.655747</td>\n",
       "      <td>1.382344</td>\n",
       "      <td>1.705650</td>\n",
       "      <td>1.543997</td>\n",
       "      <td>-0.111750</td>\n",
       "      <td>1.382344</td>\n",
       "      <td>1.543997</td>\n",
       "      <td>1.705650</td>\n",
       "    </tr>\n",
       "  </tbody>\n",
       "</table>\n",
       "</div>"
      ],
      "text/plain": [
       "           actual     lower     upper  best_estimate  difference         a  \\\n",
       "DSRDP0   1.095545  1.065224  1.263898       1.164561    0.069016  1.072166   \n",
       "DSRDP1   1.575701  1.359655  1.826360       1.593008    0.017307  1.359655   \n",
       "DSRDP2   1.697693  1.069009  1.895886       1.482447   -0.215246  1.213775   \n",
       "DSRDP3   1.009035  1.002301  1.228025       1.115163    0.106128  1.004758   \n",
       "DSRDP4   1.957269  1.582159  1.982386       1.782273   -0.174996  1.672237   \n",
       "DSRDP5   1.428245  1.419164  1.869841       1.644502    0.216257  1.419164   \n",
       "DSRDP6   1.840356  1.142181  1.884134       1.513157   -0.327199  1.433593   \n",
       "DSRDP7   1.036414  1.017780  1.138319       1.078050    0.041636  1.019609   \n",
       "DSRDP8   1.381361  1.144269  1.914257       1.529263    0.147902  1.310553   \n",
       "DSRDP9   1.149976  1.118657  1.196814       1.157736    0.007759  1.125411   \n",
       "DSRDP10  1.148678  1.009399  1.615329       1.312364    0.163685  1.089380   \n",
       "DSRDP11  1.211756  1.178349  1.290457       1.234403    0.022647  1.188801   \n",
       "DSRDP12  1.422054  1.198954  1.985885       1.592420    0.170365  1.361364   \n",
       "DSRDP13  1.103501  1.039305  1.780977       1.410141    0.306640  1.095563   \n",
       "DSRDP14  1.367584  1.191252  1.636378       1.413815    0.046231  1.191252   \n",
       "DSRDP15  1.527343  1.076097  1.743334       1.409716   -0.117628  1.076097   \n",
       "DSRDP16  1.088508  1.038146  1.239355       1.138751    0.050243  1.064943   \n",
       "DSRDP17  1.064215  1.022231  1.953449       1.487840    0.423625  1.031432   \n",
       "DSRFL0   1.859469  1.804626  1.979847       1.892237    0.032768  1.836460   \n",
       "DSRFL1   1.685420  1.185665  1.722102       1.453883   -0.231537  1.287304   \n",
       "DSRFL2   1.033694  1.029516  1.689552       1.359534    0.325839  1.030384   \n",
       "DSRFL3   1.084295  1.046220  1.664336       1.355278    0.270984  1.046220   \n",
       "DSRFL4   1.380524  1.138851  1.598035       1.368443   -0.012081  1.187795   \n",
       "DSRFL5   1.568952  1.286155  1.587459       1.436807   -0.132145  1.432816   \n",
       "DSRFL6   1.952627  1.073567  1.953104       1.513335   -0.439292  1.073567   \n",
       "DSRFL7   1.164416  1.000608  1.239288       1.119948   -0.044468  1.073359   \n",
       "DSRFL8   1.825965  1.596626  1.970339       1.783483   -0.042483  1.596626   \n",
       "DSRFL9   1.643431  1.095167  1.903884       1.499525   -0.143906  1.160767   \n",
       "DSRFL10  1.966758  1.702838  1.977456       1.840147   -0.126611  1.875850   \n",
       "DSRFL11  1.389497  1.078586  1.648050       1.363318   -0.026179  1.329414   \n",
       "DSRFL12  1.426061  1.402428  1.782926       1.592677    0.166616  1.406027   \n",
       "DSRFL13  1.822881  1.082653  1.827784       1.455218   -0.367662  1.822881   \n",
       "DSRFL14  1.138598  1.090090  1.889799       1.489944    0.351346  1.099511   \n",
       "DSRFL15  1.607624  1.170154  1.930990       1.550572   -0.057052  1.436972   \n",
       "DSRFL16  1.540756  1.433190  1.911832       1.672511    0.131755  1.433190   \n",
       "DSRFL17  1.228217  1.153451  1.908279       1.530865    0.302648  1.202628   \n",
       "DSRFL18  1.678341  1.442420  1.948859       1.695639    0.017298  1.587408   \n",
       "DSRFL19  1.655747  1.382344  1.705650       1.543997   -0.111750  1.382344   \n",
       "\n",
       "                b         c  \n",
       "DSRDP0   1.148760  1.225355  \n",
       "DSRDP1   1.593008  1.826360  \n",
       "DSRDP2   1.532012  1.850248  \n",
       "DSRDP3   1.076447  1.148136  \n",
       "DSRDP4   1.824296  1.976354  \n",
       "DSRDP5   1.644502  1.869841  \n",
       "DSRDP6   1.649728  1.865862  \n",
       "DSRDP7   1.073964  1.128318  \n",
       "DSRDP8   1.425533  1.540512  \n",
       "DSRDP9   1.156062  1.186714  \n",
       "DSRDP10  1.218367  1.347355  \n",
       "DSRDP11  1.227317  1.265833  \n",
       "DSRDP12  1.468399  1.575433  \n",
       "DSRDP13  1.141421  1.187279  \n",
       "DSRDP14  1.413815  1.636378  \n",
       "DSRDP15  1.409716  1.743334  \n",
       "DSRDP16  1.112017  1.159092  \n",
       "DSRDP17  1.395006  1.758580  \n",
       "DSRFL0   1.873217  1.909973  \n",
       "DSRFL1   1.500973  1.714642  \n",
       "DSRFL2   1.291830  1.553276  \n",
       "DSRFL3   1.355278  1.664336  \n",
       "DSRFL4   1.370889  1.553984  \n",
       "DSRFL5   1.505338  1.577861  \n",
       "DSRFL6   1.513335  1.953104  \n",
       "DSRFL7   1.139697  1.206036  \n",
       "DSRFL8   1.783483  1.970339  \n",
       "DSRFL9   1.516744  1.872721  \n",
       "DSRFL10  1.923146  1.970443  \n",
       "DSRFL11  1.384438  1.439462  \n",
       "DSRFL12  1.567301  1.728574  \n",
       "DSRFL13  1.822881  1.822881  \n",
       "DSRFL14  1.421705  1.743898  \n",
       "DSRFL15  1.585369  1.733766  \n",
       "DSRFL16  1.672511  1.911832  \n",
       "DSRFL17  1.331799  1.460971  \n",
       "DSRFL18  1.685008  1.782608  \n",
       "DSRFL19  1.543997  1.705650  "
      ]
     },
     "execution_count": 629,
     "metadata": {},
     "output_type": "execute_result"
    }
   ],
   "source": [
    "df_test"
   ]
  },
  {
   "cell_type": "code",
   "execution_count": null,
   "metadata": {},
   "outputs": [],
   "source": []
  },
  {
   "cell_type": "code",
   "execution_count": 622,
   "metadata": {},
   "outputs": [],
   "source": [
    "df_test['a'], df_test['b'], df_test['c'] = zip(\n",
    "    *df_test.apply(lambda row: new_est_low_up(row, 13), axis=1))"
   ]
  },
  {
   "cell_type": "code",
   "execution_count": null,
   "metadata": {},
   "outputs": [],
   "source": []
  },
  {
   "cell_type": "code",
   "execution_count": null,
   "metadata": {},
   "outputs": [],
   "source": []
  },
  {
   "cell_type": "code",
   "execution_count": 130,
   "metadata": {},
   "outputs": [],
   "source": [
    "Xs = [s[3:5]+\"X\"+s[5:] for s in df_test.index]\n",
    "Ys = [s[3:5]+\"Y\"+s[5:] for s in df_test.index]"
   ]
  },
  {
   "cell_type": "code",
   "execution_count": 474,
   "metadata": {},
   "outputs": [
    {
     "data": {
      "text/plain": [
       "0.0125"
      ]
     },
     "execution_count": 474,
     "metadata": {},
     "output_type": "execute_result"
    }
   ],
   "source": [
    "5/400"
   ]
  },
  {
   "cell_type": "code",
   "execution_count": 491,
   "metadata": {
    "collapsed": true
   },
   "outputs": [
    {
     "data": {
      "image/png": "[encoded data removed]",
      "text/plain": [
       "<Figure size 432x288 with 1 Axes>"
      ]
     },
     "metadata": {},
     "output_type": "display_data"
    }
   ],
   "source": [
    "sig_height = 1\n",
    "sig_length = 100 # TODO should be more or less equal to expected max_cov distance. \n",
    "sig_steepness = -0.06 #steepness chosen arbitrarily to create nice curve\n",
    "\n",
    "sigmoid = lambda x: sig_height / (1 + np.exp(- sig_steepness*(x-sig_length)))\n",
    "# x=np.linspace(0,10,10)\n",
    "y=np.linspace(0,sig_length*3,100)\n",
    "plt.plot(y,sigmoid(y),'r')\n",
    "plt.xlabel(r'Km from facility location$\\longrightarrow$')\n",
    "plt.ylabel(\"Percentage of uncertainty reduction\")\n",
    "plt.xlim((0,sig_length*2.9))\n",
    "plt.show()"
   ]
  },
  {
   "cell_type": "code",
   "execution_count": 602,
   "metadata": {
    "collapsed": true
   },
   "outputs": [
    {
     "data": {
      "image/png": "[encoded data removed]",
      "text/plain": [
       "<Figure size 432x288 with 1 Axes>"
      ]
     },
     "metadata": {},
     "output_type": "display_data"
    }
   ],
   "source": [
    "def linear_plot(x, dist):\n",
    "        return [max(min(1 - (1/dist) * y,1),0) for y in x]\n",
    "\n",
    "\n",
    "y=np.linspace(0,100,100)\n",
    "plt.plot(y,linear_plot(y, 60))\n",
    "plt.xlabel(r'Km from facility location$\\longrightarrow$')\n",
    "plt.ylabel(\"Percentage of uncertainty reduction\")\n",
    "# plt.xlim((0,sig_length*2.9))\n",
    "plt.show()"
   ]
  },
  {
   "cell_type": "code",
   "execution_count": 613,
   "metadata": {
    "code_folding": [
     4,
     16
    ]
   },
   "outputs": [],
   "source": [
    "\n",
    "def linear(x, dist):\n",
    "    return max(min(1 - (1/dist) * x,1),0)\n",
    "\n",
    "def new_estimate(row, fl_n):\n",
    "    \"\"\"Validated\"\"\"\n",
    "    row_label = row.name[3:]\n",
    "    fl_label = \"FL{}\".format(fl_n)\n",
    "    dist = time_matrix.loc[fl_label, row_label]\n",
    "\n",
    "    unc_red = linear(dist/1000, 50)\n",
    "    be_new = row['best_estimate'] + (row['actual']-row['best_estimate'])* unc_red\n",
    "    return (unc_red,be_new) \n",
    "\n",
    "def new_lower_upper(row,fl_n):\n",
    "    row_label = row.name[3:]\n",
    "    fl_label = \"FL{}\".format(fl_n)\n",
    "    dist = time_matrix.loc[fl_label, row_label]\n",
    "    unc_red = linear(dist/1000, 50)\n",
    "    low_new = row[\"best_\"]"
   ]
  },
  {
   "cell_type": "code",
   "execution_count": 610,
   "metadata": {
    "collapsed": true
   },
   "outputs": [
    {
     "data": {
      "text/plain": [
       "DSRDP0     (0.22894000000000003, 1.1487603044323977)\n",
       "DSRDP1                       (0, 1.5930078198757767)\n",
       "DSRDP2     (0.23026800000000003, 1.5320115522710251)\n",
       "DSRDP3                (0.364804, 1.0764468770964324)\n",
       "DSRDP4      (0.24013600000000013, 1.824295574379842)\n",
       "DSRDP5                       (0, 1.6445023858384027)\n",
       "DSRDP6                 (0.417392, 1.649727536542536)\n",
       "DSRDP7      (0.0981439999999999, 1.0739635129888359)\n",
       "DSRDP8                 (0.701348, 1.425532563814146)\n",
       "DSRDP9      (0.21564399999999995, 1.156062383084275)\n",
       "DSRDP10     (0.5742499999999999, 1.2183673074933419)\n",
       "DSRDP11               (0.312878, 1.2273171950438784)\n",
       "DSRDP12                (0.72797, 1.4683987892828356)\n",
       "DSRDP13               (0.876338, 1.1414210633959203)\n",
       "DSRDP14                      (0, 1.4138151164955919)\n",
       "DSRDP15                      (0, 1.4097155276037843)\n",
       "DSRDP16               (0.532084, 1.1120171156653589)\n",
       "DSRDP17    (0.21914199999999995, 1.3950061010109946)\n",
       "DSRFL0                (0.580452, 1.8732166354831814)\n",
       "DSRFL1     (0.20337799999999995, 1.5009728265242868)\n",
       "DSRFL2       (0.2077819999999999, 1.291830165629133)\n",
       "DSRFL3                        (0, 1.355278460779891)\n",
       "DSRFL4     (0.20252199999999998, 1.3708893379688072)\n",
       "DSRFL5                (0.518608, 1.5053383634903224)\n",
       "DSRFL6                       (0, 1.5133351542494067)\n",
       "DSRFL7     (0.44412399999999996, 1.1396973190435606)\n",
       "DSRFL8                        (0, 1.783482524944457)\n",
       "DSRFL9      (0.11965000000000003, 1.516743720812312)\n",
       "DSRFL10               (0.655548, 1.9231463172948744)\n",
       "DSRFL11                (0.806752, 1.384438314727802)\n",
       "DSRFL12     (0.15230399999999988, 1.567300739160494)\n",
       "DSRFL13                    (1.0, 1.8228806013455898)\n",
       "DSRFL14    (0.19422399999999995, 1.4217045172623675)\n",
       "DSRFL15                (0.60991, 1.5853688702482556)\n",
       "DSRFL16                       (0, 1.672510837141933)\n",
       "DSRFL17     (0.6577459999999999, 1.3317994011287735)\n",
       "DSRFL18               (0.614564, 1.6850084475463047)\n",
       "DSRFL19                      (0, 1.5439971502553118)\n",
       "dtype: object"
      ]
     },
     "execution_count": 610,
     "metadata": {},
     "output_type": "execute_result"
    }
   ],
   "source": [
    "df_test.apply(lambda row: new_estimate(row,13) , axis=1)"
   ]
  },
  {
   "cell_type": "code",
   "execution_count": 623,
   "metadata": {},
   "outputs": [
    {
     "data": {
      "text/html": [
       "<div>\n",
       "<style scoped>\n",
       "    .dataframe tbody tr th:only-of-type {\n",
       "        vertical-align: middle;\n",
       "    }\n",
       "\n",
       "    .dataframe tbody tr th {\n",
       "        vertical-align: top;\n",
       "    }\n",
       "\n",
       "    .dataframe thead th {\n",
       "        text-align: right;\n",
       "    }\n",
       "</style>\n",
       "<table border=\"1\" class=\"dataframe\">\n",
       "  <thead>\n",
       "    <tr style=\"text-align: right;\">\n",
       "      <th></th>\n",
       "      <th>actual</th>\n",
       "      <th>lower</th>\n",
       "      <th>upper</th>\n",
       "      <th>best_estimate</th>\n",
       "      <th>difference</th>\n",
       "      <th>a</th>\n",
       "      <th>b</th>\n",
       "      <th>c</th>\n",
       "    </tr>\n",
       "  </thead>\n",
       "  <tbody>\n",
       "    <tr>\n",
       "      <th>DSRDP0</th>\n",
       "      <td>1.095545</td>\n",
       "      <td>1.065224</td>\n",
       "      <td>1.263898</td>\n",
       "      <td>1.164561</td>\n",
       "      <td>0.069016</td>\n",
       "      <td>1.072166</td>\n",
       "      <td>1.148760</td>\n",
       "      <td>1.225355</td>\n",
       "    </tr>\n",
       "    <tr>\n",
       "      <th>DSRDP1</th>\n",
       "      <td>1.575701</td>\n",
       "      <td>1.359655</td>\n",
       "      <td>1.826360</td>\n",
       "      <td>1.593008</td>\n",
       "      <td>0.017307</td>\n",
       "      <td>1.359655</td>\n",
       "      <td>1.593008</td>\n",
       "      <td>1.826360</td>\n",
       "    </tr>\n",
       "    <tr>\n",
       "      <th>DSRDP2</th>\n",
       "      <td>1.697693</td>\n",
       "      <td>1.069009</td>\n",
       "      <td>1.895886</td>\n",
       "      <td>1.482447</td>\n",
       "      <td>-0.215246</td>\n",
       "      <td>1.213775</td>\n",
       "      <td>1.532012</td>\n",
       "      <td>1.850248</td>\n",
       "    </tr>\n",
       "  </tbody>\n",
       "</table>\n",
       "</div>"
      ],
      "text/plain": [
       "          actual     lower     upper  best_estimate  difference         a  \\\n",
       "DSRDP0  1.095545  1.065224  1.263898       1.164561    0.069016  1.072166   \n",
       "DSRDP1  1.575701  1.359655  1.826360       1.593008    0.017307  1.359655   \n",
       "DSRDP2  1.697693  1.069009  1.895886       1.482447   -0.215246  1.213775   \n",
       "\n",
       "               b         c  \n",
       "DSRDP0  1.148760  1.225355  \n",
       "DSRDP1  1.593008  1.826360  \n",
       "DSRDP2  1.532012  1.850248  "
      ]
     },
     "execution_count": 623,
     "metadata": {},
     "output_type": "execute_result"
    }
   ],
   "source": [
    "df_test.head(3)"
   ]
  },
  {
   "cell_type": "code",
   "execution_count": null,
   "metadata": {},
   "outputs": [],
   "source": []
  },
  {
   "cell_type": "code",
   "execution_count": null,
   "metadata": {},
   "outputs": [],
   "source": []
  },
  {
   "cell_type": "code",
   "execution_count": 85,
   "metadata": {},
   "outputs": [
    {
     "data": {
      "text/html": [
       "<div>\n",
       "<style scoped>\n",
       "    .dataframe tbody tr th:only-of-type {\n",
       "        vertical-align: middle;\n",
       "    }\n",
       "\n",
       "    .dataframe tbody tr th {\n",
       "        vertical-align: top;\n",
       "    }\n",
       "\n",
       "    .dataframe thead th {\n",
       "        text-align: right;\n",
       "    }\n",
       "</style>\n",
       "<table border=\"1\" class=\"dataframe\">\n",
       "  <thead>\n",
       "    <tr style=\"text-align: right;\">\n",
       "      <th></th>\n",
       "      <th>actual</th>\n",
       "      <th>lower</th>\n",
       "      <th>upper</th>\n",
       "      <th>best_estimate</th>\n",
       "      <th>difference</th>\n",
       "    </tr>\n",
       "  </thead>\n",
       "  <tbody>\n",
       "    <tr>\n",
       "      <th>DSRDP0</th>\n",
       "      <td>1.095545</td>\n",
       "      <td>1.065224</td>\n",
       "      <td>1.263898</td>\n",
       "      <td>1.164561</td>\n",
       "      <td>0.069016</td>\n",
       "    </tr>\n",
       "    <tr>\n",
       "      <th>DSRDP1</th>\n",
       "      <td>1.575701</td>\n",
       "      <td>1.359655</td>\n",
       "      <td>1.826360</td>\n",
       "      <td>1.593008</td>\n",
       "      <td>0.017307</td>\n",
       "    </tr>\n",
       "    <tr>\n",
       "      <th>DSRDP2</th>\n",
       "      <td>1.697693</td>\n",
       "      <td>1.069009</td>\n",
       "      <td>1.895886</td>\n",
       "      <td>1.482447</td>\n",
       "      <td>-0.215246</td>\n",
       "    </tr>\n",
       "    <tr>\n",
       "      <th>DSRDP3</th>\n",
       "      <td>1.009035</td>\n",
       "      <td>1.002301</td>\n",
       "      <td>1.228025</td>\n",
       "      <td>1.115163</td>\n",
       "      <td>0.106128</td>\n",
       "    </tr>\n",
       "    <tr>\n",
       "      <th>DSRDP4</th>\n",
       "      <td>1.957269</td>\n",
       "      <td>1.582159</td>\n",
       "      <td>1.982386</td>\n",
       "      <td>1.782273</td>\n",
       "      <td>-0.174996</td>\n",
       "    </tr>\n",
       "  </tbody>\n",
       "</table>\n",
       "</div>"
      ],
      "text/plain": [
       "          actual     lower     upper  best_estimate  difference\n",
       "DSRDP0  1.095545  1.065224  1.263898       1.164561    0.069016\n",
       "DSRDP1  1.575701  1.359655  1.826360       1.593008    0.017307\n",
       "DSRDP2  1.697693  1.069009  1.895886       1.482447   -0.215246\n",
       "DSRDP3  1.009035  1.002301  1.228025       1.115163    0.106128\n",
       "DSRDP4  1.957269  1.582159  1.982386       1.782273   -0.174996"
      ]
     },
     "execution_count": 85,
     "metadata": {},
     "output_type": "execute_result"
    }
   ],
   "source": [
    "global_dfs_var_unc_data['p0n0'].head()"
   ]
  },
  {
   "cell_type": "code",
   "execution_count": null,
   "metadata": {},
   "outputs": [],
   "source": []
  },
  {
   "cell_type": "code",
   "execution_count": null,
   "metadata": {},
   "outputs": [],
   "source": []
  },
  {
   "cell_type": "code",
   "execution_count": null,
   "metadata": {},
   "outputs": [],
   "source": []
  },
  {
   "cell_type": "code",
   "execution_count": null,
   "metadata": {},
   "outputs": [],
   "source": []
  },
  {
   "cell_type": "code",
   "execution_count": null,
   "metadata": {},
   "outputs": [],
   "source": []
  },
  {
   "cell_type": "markdown",
   "metadata": {},
   "source": [
    "# check for size of dictionary and its items"
   ]
  },
  {
   "cell_type": "code",
   "execution_count": 66,
   "metadata": {},
   "outputs": [],
   "source": [
    "from __future__ import print_function\n",
    "from sys import getsizeof, stderr\n",
    "from itertools import chain\n",
    "from collections import deque\n",
    "try:\n",
    "    from reprlib import repr\n",
    "except ImportError:\n",
    "    pass\n",
    "\n",
    "def total_size(o, handlers={}, verbose=False):\n",
    "    \"\"\" Returns the approximate memory footprint an object and all of its contents.\n",
    "\n",
    "    Automatically finds the contents of the following builtin containers and\n",
    "    their subclasses:  tuple, list, deque, dict, set and frozenset.\n",
    "    To search other containers, add handlers to iterate over their contents:\n",
    "\n",
    "        handlers = {SomeContainerClass: iter,\n",
    "                    OtherContainerClass: OtherContainerClass.get_elements}\n",
    "\n",
    "    \"\"\"\n",
    "    dict_handler = lambda d: chain.from_iterable(d.items())\n",
    "    all_handlers = {tuple: iter,\n",
    "                    list: iter,\n",
    "                    deque: iter,\n",
    "                    dict: dict_handler,\n",
    "                    set: iter,\n",
    "                    frozenset: iter,\n",
    "                   }\n",
    "    all_handlers.update(handlers)     # user handlers take precedence\n",
    "    seen = set()                      # track which object id's have already been seen\n",
    "    default_size = getsizeof(0)       # estimate sizeof object without __sizeof__\n",
    "\n",
    "    def sizeof(o):\n",
    "        if id(o) in seen:       # do not double count the same object\n",
    "            return 0\n",
    "        seen.add(id(o))\n",
    "        s = getsizeof(o, default_size)\n",
    "\n",
    "        if verbose:\n",
    "            print(s, type(o), repr(o), file=stderr)\n",
    "\n",
    "        for typ, handler in all_handlers.items():\n",
    "            if isinstance(o, typ):\n",
    "                s += sum(map(sizeof, handler(o)))\n",
    "                break\n",
    "        return s\n",
    "\n",
    "    return sizeof(o)\n",
    "\n",
    "\n",
    "# ##### Example call #####\n",
    "\n",
    "# if __name__ == '__main__':\n",
    "#     d = dict(a=1, b=2, c=3, d=[4,5,6,7], e='a string of chars')\n",
    "#     print(total_size(d, verbose=True))"
   ]
  },
  {
   "cell_type": "code",
   "execution_count": 70,
   "metadata": {},
   "outputs": [
    {
     "name": "stdout",
     "output_type": "stream",
     "text": [
      "5890\n"
     ]
    },
    {
     "name": "stderr",
     "output_type": "stream",
     "text": [
      "648 <class 'dict'> {'p0n0':            ac...97   -0.111750, 'p0n0p1n1':            ac...97   -0.111750, 'p0n0p1n1p2n3':            ac...97   -0.111750, 'p0n0p1n1p2n4':            ac...97   -0.111750, ...}\n",
      "53 <class 'str'> 'p0n0'\n",
      "4524 <class 'pandas.core.frame.DataFrame'>            ac...97   -0.111750\n",
      "57 <class 'str'> 'p0n0p1n1'\n",
      "57 <class 'str'> 'p0n0p1n2'\n",
      "61 <class 'str'> 'p0n0p1n1p2n3'\n",
      "61 <class 'str'> 'p0n0p1n1p2n4'\n",
      "61 <class 'str'> 'p0n0p1n1p2n5'\n",
      "61 <class 'str'> 'p0n0p1n2p2n6'\n",
      "61 <class 'str'> 'p0n0p1n2p2n7'\n",
      "61 <class 'str'> 'p0n0p1n2p2n8'\n",
      "61 <class 'str'> 'p0n0p1n2p2n9'\n",
      "62 <class 'str'> 'p0n0p1n2p2n10'\n",
      "62 <class 'str'> 'p0n0p1n2p2n11'\n"
     ]
    }
   ],
   "source": [
    "print(total_size(global_dfs_var_unc_data, verbose=True))"
   ]
  }
 ],
 "metadata": {
  "kernelspec": {
   "display_name": "Python 3",
   "language": "python",
   "name": "python3"
  },
  "language_info": {
   "codemirror_mode": {
    "name": "ipython",
    "version": 3
   },
   "file_extension": ".py",
   "mimetype": "text/x-python",
   "name": "python",
   "nbconvert_exporter": "python",
   "pygments_lexer": "ipython3",
   "version": "3.6.4"
  },
  "toc": {
   "nav_menu": {},
   "number_sections": true,
   "sideBar": true,
   "skip_h1_title": false,
   "title_cell": "Table of Contents",
   "title_sidebar": "Contents",
   "toc_cell": false,
   "toc_position": {},
   "toc_section_display": true,
   "toc_window_display": false
  }
 },
 "nbformat": 4,
 "nbformat_minor": 2
}
