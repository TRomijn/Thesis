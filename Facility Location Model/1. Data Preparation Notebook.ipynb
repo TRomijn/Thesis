{
 "cells": [
  {
   "cell_type": "markdown",
   "metadata": {},
   "source": [
    "## Imports"
   ]
  },
  {
   "cell_type": "code",
   "execution_count": 34,
   "metadata": {},
   "outputs": [],
   "source": [
    "import numpy as np\n",
    "import pandas as pd\n",
    "\n",
    "import requests, zipfile, io\n",
    "\n",
    "import osmnx as ox\n",
    "import geopandas as gpd\n",
    "import pandas as pd\n",
    "\n",
    "import folium\n",
    "import os\n",
    "\n",
    "# for routing table:\n",
    "import osrm\n",
    "\n",
    "import geopy\n",
    "from geopy.distance import great_circle"
   ]
  },
  {
   "cell_type": "code",
   "execution_count": 29,
   "metadata": {
    "code_folding": [
     0
    ]
   },
   "outputs": [],
   "source": [
    "# %load https://gist.github.com/TRomijn/d9d28ba7b7d5eeac1deea5a26dd326b2/raw/loaded_modules.py\n",
    "\n",
    "'''\n",
    "original author: kinverarity1\n",
    "\n",
    "List loaded modules and packages, and show their version numbers\n",
    "and/or Git repository's HEAD commit SHA.\n",
    "\n",
    "\n",
    "Changes:\n",
    "Minor changes to make compatible with Python 3\n",
    "'''\n",
    "# Standard library modules\n",
    "import types\n",
    "import os\n",
    "\n",
    "# Third-party packages\n",
    "import git      # GitPython\n",
    "\n",
    "\n",
    "def module_path(mod):\n",
    "    '''Returns path to the file that module *mod* comes from.\n",
    "    If it doesn't come from a file, return None.'''\n",
    "    if hasattr(mod, '__file__'):\n",
    "        return os.path.abspath(os.path.dirname(mod.__file__))\n",
    "    else:\n",
    "        return None\n",
    "\n",
    "    \n",
    "def from_git_repo(mod):\n",
    "    '''Does the module *mod* reside in a Git repository?'''\n",
    "    path = module_path(mod)\n",
    "    if path:\n",
    "        try:\n",
    "            repo = git.Repo(path)\n",
    "        except:\n",
    "            return False\n",
    "        else:\n",
    "            return True\n",
    "    else:\n",
    "        return False\n",
    "\n",
    "    \n",
    "def git_path_sha(mod, slice=slice(0, 8, 1)):\n",
    "    '''Return SHA hash for the HEAD commit for the repository\n",
    "    that the module *mod* resides in.'''\n",
    "    repo = git.Repo(module_path(mod))\n",
    "    return repo.git_dir, repo.head.commit.hexsha[:8]\n",
    "\n",
    "\n",
    "def module_version(mod):\n",
    "    '''Return version string for module *mod*, or nothing if\n",
    "    it doesn't have a \"version\" or \"__version__\" attribute.'''\n",
    "    version = []\n",
    "    if hasattr(mod, '__dict__'):\n",
    "        keys = []\n",
    "        for key in mod.__dict__.keys():\n",
    "            if key.lower() == 'version' or key.lower() == '__version__':\n",
    "                v = mod.__dict__[key]\n",
    "                if isinstance(v, str):\n",
    "                    version.append(v)\n",
    "        if keys:\n",
    "            print (mod, keys)\n",
    "    if version:\n",
    "        return ', '.join(version)\n",
    "    else:\n",
    "        return ''\n",
    "\n",
    "    \n",
    "def find_loaded_modules(only_versioned_modules=True):\n",
    "    '''Return list of loaded modules for which there is a version\n",
    "    number or a Git repository commit SHA.\n",
    "    \n",
    "    Return a list of *(name, version, path_to_git_repo, git_head_sha)*,\n",
    "    which has an HTML property for pretty display in IPython Notebooks.\n",
    "        \n",
    "    '''\n",
    "    def list_of_lists_to_HTML(lists, header_row=None):\n",
    "        '''Convert a list of a list of strings to a HTML table.'''\n",
    "        s = '<table>'\n",
    "        if header_row:\n",
    "            s += '\\n\\t<tr>\\n\\t\\t'\n",
    "            s += ''.join(['<th>%s</th>' % item for item in header_row])\n",
    "            s += '\\n\\t</tr>'\n",
    "        for inner_list in lists:\n",
    "            s += '\\n\\t<tr>\\n\\t\\t'\n",
    "            s += ''.join(['<td>%s</td>' % item for item in inner_list])\n",
    "            s += '\\n\\t</tr>'\n",
    "        s += '\\n</table>'\n",
    "        return s\n",
    "    \n",
    "    class LoadedModules(list):\n",
    "        '''Very simple wrapper for a list of lists of strings, with an attribute\n",
    "        for display in IPython Notebooks.'''\n",
    "        def __init__(self, *args, **kwargs):\n",
    "            list.__init__(self, *args, **kwargs)\n",
    "            \n",
    "        @property\n",
    "        def HTML(self):\n",
    "            from IPython.display import HTML\n",
    "            return HTML(\n",
    "                    list_of_lists_to_HTML(\n",
    "                            self, header_row=['Name', 'Version', 'Path', 'SHA']))\n",
    "                    \n",
    "    objs = LoadedModules()\n",
    "    for i, mod in enumerate(globals().values()):\n",
    "        if isinstance(mod, types.ModuleType):\n",
    "            if hasattr(mod, '__name__'):\n",
    "                name = mod.__name__\n",
    "            else:\n",
    "                name = ''\n",
    "            \n",
    "            if from_git_repo(mod):\n",
    "                path, sha = git_path_sha(mod)\n",
    "            else:\n",
    "                path = ''\n",
    "                sha = ''\n",
    "            \n",
    "            version = module_version(mod)\n",
    "            \n",
    "            if only_versioned_modules:\n",
    "                flag = version or (path and sha)\n",
    "            else:\n",
    "                flag = True\n",
    "            \n",
    "            if flag:\n",
    "                objs.append([mod.__name__, version, path, sha])\n",
    "    objs.sort(key=lambda r: r[0])\n",
    "    return objs\n",
    "\n",
    "\n",
    "    \n",
    "    "
   ]
  },
  {
   "cell_type": "code",
   "execution_count": 30,
   "metadata": {},
   "outputs": [
    {
     "data": {
      "text/html": [
       "<table>\n",
       "\t<tr>\n",
       "\t\t<th>Name</th><th>Version</th><th>Path</th><th>SHA</th>\n",
       "\t</tr>\n",
       "\t<tr>\n",
       "\t\t<td>folium</td><td>0.5.0</td><td></td><td></td>\n",
       "\t</tr>\n",
       "\t<tr>\n",
       "\t\t<td>geopandas</td><td>0.3.0</td><td></td><td></td>\n",
       "\t</tr>\n",
       "\t<tr>\n",
       "\t\t<td>geopy</td><td>1.13.0</td><td></td><td></td>\n",
       "\t</tr>\n",
       "\t<tr>\n",
       "\t\t<td>git</td><td>2.1.9</td><td></td><td></td>\n",
       "\t</tr>\n",
       "\t<tr>\n",
       "\t\t<td>json</td><td>2.0.9</td><td></td><td></td>\n",
       "\t</tr>\n",
       "\t<tr>\n",
       "\t\t<td>osmnx</td><td>0.8.1</td><td></td><td></td>\n",
       "\t</tr>\n",
       "\t<tr>\n",
       "\t\t<td>osrm</td><td>0.11.1</td><td></td><td></td>\n",
       "\t</tr>\n",
       "\t<tr>\n",
       "\t\t<td>pandas</td><td>0.23.0</td><td></td><td></td>\n",
       "\t</tr>\n",
       "\t<tr>\n",
       "\t\t<td>requests</td><td>2.18.4</td><td></td><td></td>\n",
       "\t</tr>\n",
       "</table>"
      ],
      "text/plain": [
       "<IPython.core.display.HTML object>"
      ]
     },
     "execution_count": 30,
     "metadata": {},
     "output_type": "execute_result"
    }
   ],
   "source": [
    "find_loaded_modules().HTML"
   ]
  },
  {
   "cell_type": "markdown",
   "metadata": {},
   "source": [
    "# Data preparation"
   ]
  },
  {
   "cell_type": "markdown",
   "metadata": {},
   "source": [
    "## Demand Points"
   ]
  },
  {
   "cell_type": "code",
   "execution_count": 4,
   "metadata": {
    "code_folding": [
     0
    ]
   },
   "outputs": [],
   "source": [
    "def get_cities(countrycode, number_of_cities=None, dataset=\"cities5000\"):\n",
    "    \"\"\"\n",
    "    countrycode: string: ISO \"ALPHA-2 Code\"\n",
    "    number_of_cities: integer: number of cities to return, if None: return all\n",
    "    dataset: string: choose from: [\"cities1000\",\"cities5000\",\"cities15000\"]\n",
    "        chooses dataset with all world cities that have minimum that amount of inhabitants.\n",
    "        Obivously, the cities1000 dataset is larger and can take longer to download than the cities15000\n",
    "    \n",
    "    Data is downloaded from: http://download.geonames.org/export/dump/\n",
    "    This Data is licensed under a Creative Commons Attribution 3.0 License\n",
    "    \"\"\"\n",
    "\n",
    "    #     http://download.geonames.org/export/dump/\n",
    "\n",
    "    #     \"cities15000\"\n",
    "\n",
    "    r = requests.get(\n",
    "        \"http://download.geonames.org/export/dump/{}.zip\".format(dataset))\n",
    "    z = zipfile.ZipFile(io.BytesIO(r.content))\n",
    "\n",
    "    #     data_directory = \"../Facility Location Model/Raw_Data\"\n",
    "    #     z.extractall(path=data_directory)\n",
    "\n",
    "    columnnames = [\n",
    "        \"geonameid\", \"name\", \"asciiname\", \"alternatenames\", \"latitude\",\n",
    "        \"longitude\", \"feature class\", \"feature code\", \"country code\", \"cc2\",\n",
    "        \"admin1 code\", \"admin2 code\", \"admin3 code\", \"admin4 code\",\n",
    "        \"population\", \"elevation\", \"dem\", \"timezone\", \"modification date\"\n",
    "    ]\n",
    "\n",
    "    #     NP = pd.read_csv(data_directory+\"/NP.txt\", sep=\"\\t\", header=None)\n",
    "    cities = pd.read_csv(\n",
    "        z.open('{}.txt'.format(dataset)), sep=\"\\t\", names=columnnames)\n",
    "\n",
    "    inCountry = cities[cities['country code'] == countrycode]\n",
    "\n",
    "    inCountry = inCountry.dropna(subset=['population'])\n",
    "\n",
    "    inCountrySorted = inCountry.sort_values(\n",
    "        by='population', ascending=False).reset_index(drop=True)\n",
    "\n",
    "    return inCountrySorted.iloc[0:number_of_cities]"
   ]
  },
  {
   "cell_type": "code",
   "execution_count": 5,
   "metadata": {
    "scrolled": true
   },
   "outputs": [
    {
     "name": "stderr",
     "output_type": "stream",
     "text": [
      "C:\\Users\\timro\\Anaconda3\\lib\\site-packages\\IPython\\core\\interactiveshell.py:2903: DtypeWarning: Columns (13) have mixed types. Specify dtype option on import or set low_memory=False.\n",
      "  if self.run_code(code, result):\n"
     ]
    }
   ],
   "source": [
    "cities = get_cities(\"NP\", 30)"
   ]
  },
  {
   "cell_type": "code",
   "execution_count": 6,
   "metadata": {},
   "outputs": [],
   "source": [
    "DPs = cities[['name','population','latitude','longitude']]"
   ]
  },
  {
   "cell_type": "code",
   "execution_count": 7,
   "metadata": {},
   "outputs": [
    {
     "data": {
      "text/html": [
       "<div>\n",
       "<style scoped>\n",
       "    .dataframe tbody tr th:only-of-type {\n",
       "        vertical-align: middle;\n",
       "    }\n",
       "\n",
       "    .dataframe tbody tr th {\n",
       "        vertical-align: top;\n",
       "    }\n",
       "\n",
       "    .dataframe thead th {\n",
       "        text-align: right;\n",
       "    }\n",
       "</style>\n",
       "<table border=\"1\" class=\"dataframe\">\n",
       "  <thead>\n",
       "    <tr style=\"text-align: right;\">\n",
       "      <th></th>\n",
       "      <th>name</th>\n",
       "      <th>population</th>\n",
       "      <th>latitude</th>\n",
       "      <th>longitude</th>\n",
       "    </tr>\n",
       "  </thead>\n",
       "  <tbody>\n",
       "    <tr>\n",
       "      <th>25</th>\n",
       "      <td>Birendranagar</td>\n",
       "      <td>31381</td>\n",
       "      <td>28.60194</td>\n",
       "      <td>81.63389</td>\n",
       "    </tr>\n",
       "    <tr>\n",
       "      <th>26</th>\n",
       "      <td>Panauti̇̄</td>\n",
       "      <td>27602</td>\n",
       "      <td>27.58453</td>\n",
       "      <td>85.51484</td>\n",
       "    </tr>\n",
       "    <tr>\n",
       "      <th>27</th>\n",
       "      <td>Gaur</td>\n",
       "      <td>27325</td>\n",
       "      <td>26.76448</td>\n",
       "      <td>85.27841</td>\n",
       "    </tr>\n",
       "    <tr>\n",
       "      <th>28</th>\n",
       "      <td>Siraha</td>\n",
       "      <td>24657</td>\n",
       "      <td>26.65422</td>\n",
       "      <td>86.20795</td>\n",
       "    </tr>\n",
       "    <tr>\n",
       "      <th>29</th>\n",
       "      <td>Tānsen</td>\n",
       "      <td>23693</td>\n",
       "      <td>27.86731</td>\n",
       "      <td>83.54670</td>\n",
       "    </tr>\n",
       "  </tbody>\n",
       "</table>\n",
       "</div>"
      ],
      "text/plain": [
       "             name  population  latitude  longitude\n",
       "25  Birendranagar       31381  28.60194   81.63389\n",
       "26      Panauti̇̄       27602  27.58453   85.51484\n",
       "27           Gaur       27325  26.76448   85.27841\n",
       "28         Siraha       24657  26.65422   86.20795\n",
       "29         Tānsen       23693  27.86731   83.54670"
      ]
     },
     "execution_count": 7,
     "metadata": {},
     "output_type": "execute_result"
    }
   ],
   "source": [
    "DPs.tail()"
   ]
  },
  {
   "cell_type": "markdown",
   "metadata": {},
   "source": [
    "### Add remote valleys\n",
    "\n",
    "These remote valleys are not necessarily actually remote valleys. The 5 smallest cities are selected from the database, then  those are called \"remote valleys\"\n",
    "\n",
    "For those smallest cities, there is no population information available. Therefore, they their population value is set on 1.000. Compared to the smallest normal city: it has a population of 23.693"
   ]
  },
  {
   "cell_type": "code",
   "execution_count": 8,
   "metadata": {
    "scrolled": true
   },
   "outputs": [
    {
     "name": "stderr",
     "output_type": "stream",
     "text": [
      "C:\\Users\\timro\\Anaconda3\\lib\\site-packages\\IPython\\core\\interactiveshell.py:2903: DtypeWarning: Columns (13) have mixed types. Specify dtype option on import or set low_memory=False.\n",
      "  if self.run_code(code, result):\n"
     ]
    }
   ],
   "source": [
    "all_cities = get_cities(\"NP\", dataset=\"cities1000\")"
   ]
  },
  {
   "cell_type": "code",
   "execution_count": 9,
   "metadata": {},
   "outputs": [],
   "source": [
    "# Cities are sorted on population\n",
    "valleys = all_cities.tail(5)"
   ]
  },
  {
   "cell_type": "code",
   "execution_count": 10,
   "metadata": {},
   "outputs": [
    {
     "name": "stderr",
     "output_type": "stream",
     "text": [
      "C:\\Users\\timro\\Anaconda3\\lib\\site-packages\\ipykernel_launcher.py:1: SettingWithCopyWarning: \n",
      "A value is trying to be set on a copy of a slice from a DataFrame.\n",
      "Try using .loc[row_indexer,col_indexer] = value instead\n",
      "\n",
      "See the caveats in the documentation: http://pandas.pydata.org/pandas-docs/stable/indexing.html#indexing-view-versus-copy\n",
      "  \"\"\"Entry point for launching an IPython kernel.\n"
     ]
    }
   ],
   "source": [
    "valleys['population'] = 1000"
   ]
  },
  {
   "cell_type": "code",
   "execution_count": 11,
   "metadata": {},
   "outputs": [],
   "source": [
    "DPs = DPs.append(valleys[['name','population','latitude','longitude']])"
   ]
  },
  {
   "cell_type": "code",
   "execution_count": 12,
   "metadata": {},
   "outputs": [
    {
     "data": {
      "text/html": [
       "<div>\n",
       "<style scoped>\n",
       "    .dataframe tbody tr th:only-of-type {\n",
       "        vertical-align: middle;\n",
       "    }\n",
       "\n",
       "    .dataframe tbody tr th {\n",
       "        vertical-align: top;\n",
       "    }\n",
       "\n",
       "    .dataframe thead th {\n",
       "        text-align: right;\n",
       "    }\n",
       "</style>\n",
       "<table border=\"1\" class=\"dataframe\">\n",
       "  <thead>\n",
       "    <tr style=\"text-align: right;\">\n",
       "      <th></th>\n",
       "      <th>name</th>\n",
       "      <th>population</th>\n",
       "      <th>latitude</th>\n",
       "      <th>longitude</th>\n",
       "    </tr>\n",
       "  </thead>\n",
       "  <tbody>\n",
       "    <tr>\n",
       "      <th>29</th>\n",
       "      <td>Tānsen</td>\n",
       "      <td>23693</td>\n",
       "      <td>27.86731</td>\n",
       "      <td>83.54670</td>\n",
       "    </tr>\n",
       "    <tr>\n",
       "      <th>60</th>\n",
       "      <td>Bardiyā</td>\n",
       "      <td>1000</td>\n",
       "      <td>28.30058</td>\n",
       "      <td>81.35360</td>\n",
       "    </tr>\n",
       "    <tr>\n",
       "      <th>61</th>\n",
       "      <td>Rāmechhāp</td>\n",
       "      <td>1000</td>\n",
       "      <td>27.32560</td>\n",
       "      <td>86.08768</td>\n",
       "    </tr>\n",
       "    <tr>\n",
       "      <th>62</th>\n",
       "      <td>Salyān</td>\n",
       "      <td>1000</td>\n",
       "      <td>28.37858</td>\n",
       "      <td>82.17030</td>\n",
       "    </tr>\n",
       "    <tr>\n",
       "      <th>63</th>\n",
       "      <td>Bhaktapur</td>\n",
       "      <td>1000</td>\n",
       "      <td>27.67298</td>\n",
       "      <td>85.43005</td>\n",
       "    </tr>\n",
       "    <tr>\n",
       "      <th>64</th>\n",
       "      <td>Achhām</td>\n",
       "      <td>1000</td>\n",
       "      <td>29.05000</td>\n",
       "      <td>81.30000</td>\n",
       "    </tr>\n",
       "  </tbody>\n",
       "</table>\n",
       "</div>"
      ],
      "text/plain": [
       "         name  population  latitude  longitude\n",
       "29     Tānsen       23693  27.86731   83.54670\n",
       "60    Bardiyā        1000  28.30058   81.35360\n",
       "61  Rāmechhāp        1000  27.32560   86.08768\n",
       "62     Salyān        1000  28.37858   82.17030\n",
       "63  Bhaktapur        1000  27.67298   85.43005\n",
       "64     Achhām        1000  29.05000   81.30000"
      ]
     },
     "execution_count": 12,
     "metadata": {},
     "output_type": "execute_result"
    }
   ],
   "source": [
    "DPs.tail(6)"
   ]
  },
  {
   "cell_type": "markdown",
   "metadata": {},
   "source": [
    "## Facility Locations"
   ]
  },
  {
   "cell_type": "markdown",
   "metadata": {},
   "source": [
    "\n",
    "Select specific places of interest as optional FLs"
   ]
  },
  {
   "cell_type": "code",
   "execution_count": 13,
   "metadata": {
    "code_folding": [
     0
    ],
    "scrolled": true
   },
   "outputs": [],
   "source": [
    "# # if place has multiple parts, select mainland\n",
    "# gdf = ox.gdf_from_place('The Netherlands')\n",
    "# geom = gdf['geometry'].iloc[0]\n",
    "# geom_proj, crs = ox.project_geometry(geom)\n",
    "# area = geom_proj.envelope.area / 1e6\n",
    "\n",
    "# print('{:,.0f} sq km'.format(area))\n",
    "# # gdf.plot()\n",
    "\n",
    "# mainland = max(geom, key=lambda x: x.area)\n",
    "# # or manually check shapes and select\n",
    "# mainland = geom[2]\n",
    "# pois = ox.pois_from_polygon(mainland, amenities=['hospital'])"
   ]
  },
  {
   "cell_type": "code",
   "execution_count": null,
   "metadata": {},
   "outputs": [],
   "source": []
  },
  {
   "cell_type": "code",
   "execution_count": null,
   "metadata": {},
   "outputs": [],
   "source": []
  },
  {
   "cell_type": "code",
   "execution_count": null,
   "metadata": {},
   "outputs": [],
   "source": [
    "POIs = ox.pois_from_place(place='Nepal', amenities=['hospital'])"
   ]
  },
  {
   "cell_type": "code",
   "execution_count": null,
   "metadata": {},
   "outputs": [],
   "source": [
    "POIs.amenity.value_counts()"
   ]
  },
  {
   "cell_type": "code",
   "execution_count": null,
   "metadata": {},
   "outputs": [],
   "source": [
    "POIs.plot()"
   ]
  },
  {
   "cell_type": "code",
   "execution_count": null,
   "metadata": {
    "scrolled": false
   },
   "outputs": [],
   "source": [
    "# place = \"Nepal\"\n",
    "# POIs = ox.pois_from_place(place=place)"
   ]
  },
  {
   "cell_type": "code",
   "execution_count": null,
   "metadata": {
    "scrolled": false
   },
   "outputs": [],
   "source": [
    "hospitals = POIs [POIs.amenity =='hospital']"
   ]
  },
  {
   "cell_type": "code",
   "execution_count": null,
   "metadata": {},
   "outputs": [],
   "source": [
    "hospitals = hospitals[hospitals.element_type == 'node']"
   ]
  },
  {
   "cell_type": "code",
   "execution_count": null,
   "metadata": {},
   "outputs": [],
   "source": [
    "hospital_coordinates = pd.DataFrame([point.coords[0] for point in pd.Series(hospitals.geometry)],columns=[\"longitude\",\"latitude\"])"
   ]
  },
  {
   "cell_type": "code",
   "execution_count": null,
   "metadata": {},
   "outputs": [],
   "source": [
    "hospital_coordinates.tail()"
   ]
  },
  {
   "cell_type": "code",
   "execution_count": 45,
   "metadata": {},
   "outputs": [],
   "source": [
    "# hospital_coordinates = hospital_coordinates.sample(30).reset_index(drop=True)"
   ]
  },
  {
   "cell_type": "code",
   "execution_count": null,
   "metadata": {},
   "outputs": [],
   "source": [
    "# \n",
    "# hospital_coordinates.to_csv(\"Some folder / filename.csv\", index=False)"
   ]
  },
  {
   "cell_type": "code",
   "execution_count": 14,
   "metadata": {},
   "outputs": [],
   "source": [
    "hospital_coordinates = pd.read_csv(\"Data/Nepal_Prepared_Data/sample_hospitals.csv\")"
   ]
  },
  {
   "cell_type": "code",
   "execution_count": 15,
   "metadata": {},
   "outputs": [
    {
     "data": {
      "text/html": [
       "<div>\n",
       "<style scoped>\n",
       "    .dataframe tbody tr th:only-of-type {\n",
       "        vertical-align: middle;\n",
       "    }\n",
       "\n",
       "    .dataframe tbody tr th {\n",
       "        vertical-align: top;\n",
       "    }\n",
       "\n",
       "    .dataframe thead th {\n",
       "        text-align: right;\n",
       "    }\n",
       "</style>\n",
       "<table border=\"1\" class=\"dataframe\">\n",
       "  <thead>\n",
       "    <tr style=\"text-align: right;\">\n",
       "      <th></th>\n",
       "      <th>Name</th>\n",
       "      <th>Lat</th>\n",
       "      <th>Lon</th>\n",
       "    </tr>\n",
       "  </thead>\n",
       "  <tbody>\n",
       "    <tr>\n",
       "      <th>15</th>\n",
       "      <td>FLO15</td>\n",
       "      <td>27.994658</td>\n",
       "      <td>84.628128</td>\n",
       "    </tr>\n",
       "    <tr>\n",
       "      <th>16</th>\n",
       "      <td>FLO16</td>\n",
       "      <td>27.674426</td>\n",
       "      <td>85.403768</td>\n",
       "    </tr>\n",
       "    <tr>\n",
       "      <th>17</th>\n",
       "      <td>FLO17</td>\n",
       "      <td>27.711016</td>\n",
       "      <td>85.314744</td>\n",
       "    </tr>\n",
       "    <tr>\n",
       "      <th>18</th>\n",
       "      <td>FLO18</td>\n",
       "      <td>28.185470</td>\n",
       "      <td>83.178350</td>\n",
       "    </tr>\n",
       "    <tr>\n",
       "      <th>19</th>\n",
       "      <td>FLO19</td>\n",
       "      <td>28.753672</td>\n",
       "      <td>81.688045</td>\n",
       "    </tr>\n",
       "  </tbody>\n",
       "</table>\n",
       "</div>"
      ],
      "text/plain": [
       "     Name        Lat        Lon\n",
       "15  FLO15  27.994658  84.628128\n",
       "16  FLO16  27.674426  85.403768\n",
       "17  FLO17  27.711016  85.314744\n",
       "18  FLO18  28.185470  83.178350\n",
       "19  FLO19  28.753672  81.688045"
      ]
     },
     "execution_count": 15,
     "metadata": {},
     "output_type": "execute_result"
    }
   ],
   "source": [
    "FLs = hospital_coordinates\n",
    "FLs['Name'] = ['FLO{}'.format(i) for i in range(FLs.shape[0])]\n",
    "\n",
    "FLs.columns = [\"Lon\",\"Lat\", 'Name']\n",
    "FLs = FLs[['Name', 'Lat', 'Lon']]\n",
    "\n",
    "FLs.tail()"
   ]
  },
  {
   "cell_type": "markdown",
   "metadata": {},
   "source": [
    "## Supply points"
   ]
  },
  {
   "cell_type": "code",
   "execution_count": 16,
   "metadata": {
    "scrolled": true
   },
   "outputs": [],
   "source": [
    "url=\"http://ourairports.com/data/airports.csv\"\n",
    "s=requests.get(url).content\n",
    "airports=pd.read_csv(io.StringIO(s.decode('utf-8')))"
   ]
  },
  {
   "cell_type": "code",
   "execution_count": 17,
   "metadata": {},
   "outputs": [
    {
     "data": {
      "text/plain": [
       "Index(['id', 'ident', 'type', 'name', 'latitude_deg', 'longitude_deg',\n",
       "       'elevation_ft', 'continent', 'iso_country', 'iso_region',\n",
       "       'municipality', 'scheduled_service', 'gps_code', 'iata_code',\n",
       "       'local_code', 'home_link', 'wikipedia_link', 'keywords'],\n",
       "      dtype='object')"
      ]
     },
     "execution_count": 17,
     "metadata": {},
     "output_type": "execute_result"
    }
   ],
   "source": [
    "airports.columns"
   ]
  },
  {
   "cell_type": "code",
   "execution_count": 18,
   "metadata": {},
   "outputs": [],
   "source": [
    "# Select all airports in country\n",
    "airports = airports[airports.iso_country == \"NP\"]"
   ]
  },
  {
   "cell_type": "code",
   "execution_count": 19,
   "metadata": {},
   "outputs": [],
   "source": [
    "# Select airports that are available in country\n",
    "int_airports = airports[airports.name == \"Tribhuvan International Airport\"]"
   ]
  },
  {
   "cell_type": "code",
   "execution_count": 20,
   "metadata": {},
   "outputs": [],
   "source": [
    "SPs = int_airports[[\"name\", \"latitude_deg\", \"longitude_deg\"]]"
   ]
  },
  {
   "cell_type": "code",
   "execution_count": 21,
   "metadata": {},
   "outputs": [
    {
     "data": {
      "text/html": [
       "<div>\n",
       "<style scoped>\n",
       "    .dataframe tbody tr th:only-of-type {\n",
       "        vertical-align: middle;\n",
       "    }\n",
       "\n",
       "    .dataframe tbody tr th {\n",
       "        vertical-align: top;\n",
       "    }\n",
       "\n",
       "    .dataframe thead th {\n",
       "        text-align: right;\n",
       "    }\n",
       "</style>\n",
       "<table border=\"1\" class=\"dataframe\">\n",
       "  <thead>\n",
       "    <tr style=\"text-align: right;\">\n",
       "      <th></th>\n",
       "      <th>name</th>\n",
       "      <th>latitude_deg</th>\n",
       "      <th>longitude_deg</th>\n",
       "    </tr>\n",
       "  </thead>\n",
       "  <tbody>\n",
       "    <tr>\n",
       "      <th>50156</th>\n",
       "      <td>Tribhuvan International Airport</td>\n",
       "      <td>27.6966</td>\n",
       "      <td>85.3591</td>\n",
       "    </tr>\n",
       "  </tbody>\n",
       "</table>\n",
       "</div>"
      ],
      "text/plain": [
       "                                  name  latitude_deg  longitude_deg\n",
       "50156  Tribhuvan International Airport       27.6966        85.3591"
      ]
     },
     "execution_count": 21,
     "metadata": {},
     "output_type": "execute_result"
    }
   ],
   "source": [
    "SPs"
   ]
  },
  {
   "cell_type": "markdown",
   "metadata": {},
   "source": [
    "## Visualisation of nodes"
   ]
  },
  {
   "cell_type": "code",
   "execution_count": 22,
   "metadata": {},
   "outputs": [
    {
     "data": {
      "text/html": [
       "<div>\n",
       "<style scoped>\n",
       "    .dataframe tbody tr th:only-of-type {\n",
       "        vertical-align: middle;\n",
       "    }\n",
       "\n",
       "    .dataframe tbody tr th {\n",
       "        vertical-align: top;\n",
       "    }\n",
       "\n",
       "    .dataframe thead th {\n",
       "        text-align: right;\n",
       "    }\n",
       "</style>\n",
       "<table border=\"1\" class=\"dataframe\">\n",
       "  <thead>\n",
       "    <tr style=\"text-align: right;\">\n",
       "      <th></th>\n",
       "      <th>Name</th>\n",
       "      <th>Lat</th>\n",
       "      <th>Lon</th>\n",
       "    </tr>\n",
       "  </thead>\n",
       "  <tbody>\n",
       "    <tr>\n",
       "      <th>18</th>\n",
       "      <td>FLO18</td>\n",
       "      <td>28.185470</td>\n",
       "      <td>83.178350</td>\n",
       "    </tr>\n",
       "    <tr>\n",
       "      <th>19</th>\n",
       "      <td>FLO19</td>\n",
       "      <td>28.753672</td>\n",
       "      <td>81.688045</td>\n",
       "    </tr>\n",
       "  </tbody>\n",
       "</table>\n",
       "</div>"
      ],
      "text/plain": [
       "     Name        Lat        Lon\n",
       "18  FLO18  28.185470  83.178350\n",
       "19  FLO19  28.753672  81.688045"
      ]
     },
     "execution_count": 22,
     "metadata": {},
     "output_type": "execute_result"
    }
   ],
   "source": [
    "FLs.tail(2)"
   ]
  },
  {
   "cell_type": "code",
   "execution_count": 23,
   "metadata": {},
   "outputs": [
    {
     "data": {
      "text/html": [
       "<div style=\"width:100%;\"><div style=\"position:relative;width:100%;height:0;padding-bottom:60%;\"><iframe src=\"data:text/html;charset=utf-8;base64,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\" style=\"position:absolute;width:100%;height:100%;left:0;top:0;border:none !important;\" allowfullscreen webkitallowfullscreen mozallowfullscreen></iframe></div></div>"
      ],
      "text/plain": [
       "<folium.folium.Map at 0x13cb6e55da0>"
      ]
     },
     "execution_count": 23,
     "metadata": {},
     "output_type": "execute_result"
    }
   ],
   "source": [
    "map1 = folium.Map(\n",
    "    location=[28.3, 84.12], zoom_start=6, tiles='cartodbpositron')\n",
    "\n",
    "DPs.apply(lambda row: folium.CircleMarker(\n",
    "    location=[row['latitude'], row['longitude']],\n",
    "    radius=1, color=\"red\", popup=row['name'] ).add_to(map1), axis=1)\n",
    "\n",
    "SPs.apply(lambda row: folium.CircleMarker(\n",
    "    location=[row['latitude_deg'], row['longitude_deg']],\n",
    "    radius=3, color=\"blue\").add_to(map1), axis=1)\n",
    "\n",
    "FLs.apply(lambda row: folium.CircleMarker(\n",
    "    location=[row['Lat'], row['Lon']],\n",
    "    radius=3, color=\"green\", popup=row['Name']).add_to(map1), axis=1)\n",
    "\n",
    "\n",
    "map1"
   ]
  },
  {
   "cell_type": "markdown",
   "metadata": {},
   "source": [
    "## Routes"
   ]
  },
  {
   "cell_type": "code",
   "execution_count": 34,
   "metadata": {},
   "outputs": [],
   "source": [
    "node_names = [\"SP{}\".format(i) for i, ind in enumerate(SPs.index)] + [\n",
    "    \"FL{}\".format(i) for i, ind in enumerate(FLs.index)\n",
    "] + [\"DP{}\".format(i) for i, ind in enumerate(DPs.index)]\n",
    "\n",
    "node_lats = SPs['latitude_deg'].append(FLs['Lat']).append(\n",
    "    DPs['latitude']).reset_index(drop=True)\n",
    "\n",
    "node_lons = SPs['longitude_deg'].append(FLs['Lon']).append(\n",
    "    DPs['longitude']).reset_index(drop=True)"
   ]
  },
  {
   "cell_type": "code",
   "execution_count": 35,
   "metadata": {},
   "outputs": [
    {
     "name": "stdout",
     "output_type": "stream",
     "text": [
      "\n",
      "Hopefully at future updates of the osrm package, the\n",
      "lat/lon coordinates are loaded correctly. \n",
      "If osrm package is updated: check if time_matrix contains \n",
      "realistic values. if not: try swapping lat/lon coordinate order\n"
     ]
    }
   ],
   "source": [
    "# for some reason the coordinates are incorrectly passed\n",
    "# by this OSRM package\n",
    "print(\"\"\"\n",
    "Hopefully at future updates of the osrm package, the\n",
    "lat/lon coordinates are loaded correctly. \n",
    "If osrm package is updated: check if time_matrix contains \n",
    "realistic values. if not: try swapping lat/lon coordinate order\"\"\"\n",
    "      )\n",
    "list_coords = [\n",
    "    osrm.Point(longitude=lat, latitude=lon)\n",
    "    for lat, lon in zip(node_lats, node_lons)\n",
    "]"
   ]
  },
  {
   "cell_type": "code",
   "execution_count": 36,
   "metadata": {},
   "outputs": [
    {
     "data": {
      "text/plain": [
       "56"
      ]
     },
     "execution_count": 36,
     "metadata": {},
     "output_type": "execute_result"
    }
   ],
   "source": [
    "len(list_coords)"
   ]
  },
  {
   "cell_type": "code",
   "execution_count": null,
   "metadata": {},
   "outputs": [],
   "source": [
    "print(\"Choose to create new file with OSRM API, or to load existing\")"
   ]
  },
  {
   "cell_type": "code",
   "execution_count": 37,
   "metadata": {},
   "outputs": [],
   "source": [
    "osrm.RequestConfig.host = osrm.RequestConfig.host = \"router.project-osrm.org\"\n",
    "\n",
    "# time_matrix, snapped_coords, a = osrm.table(\n",
    "#     list_coords, ids_origin=node_names, output='dataframe')\n",
    "\n",
    "# Load if available:\n",
    "# time_matrix = pd.read_csv(\"test.csv\")\n",
    "# time_matrix.index = node_names"
   ]
  },
  {
   "cell_type": "markdown",
   "metadata": {},
   "source": [
    "## Disruptions"
   ]
  },
  {
   "cell_type": "code",
   "execution_count": 24,
   "metadata": {},
   "outputs": [],
   "source": [
    "def calc_impacts(distance, min_disruption=1, max_disruption=2):\n",
    "    \"\"\"\n",
    "    radial function, calculating the impact of an earthquake, based on great_circle distance.\n",
    "    magnitude of earthquake can be indicated by giving min and max values\n",
    "    \n",
    "    Distance from epicentre: float\n",
    "    min_disruption: float range: (1,2), indicates the minimum disruption caused by the disaster\n",
    "    max_disruption: float range: (1,2), indiccates the maximum disruption caused by the disaster    \n",
    "    \"\"\"\n",
    "    if min_disruption <= 1 or max_disruption >= 2:\n",
    "        raise ValueError(\"wrong inputvalues for arguments\")\n",
    "\n",
    "    min_dist, max_dist = min(distance), max(distance)\n",
    "    dist_range = max_dist - min_dist\n",
    "    disr_range = max_disruption - min_disruption\n",
    "\n",
    "    #     return (distance - min_dist) / dist_range\n",
    "    return (((distance - min_dist) / dist_range) * disr_range) + min_disruption"
   ]
  },
  {
   "cell_type": "code",
   "execution_count": 38,
   "metadata": {},
   "outputs": [],
   "source": [
    "#Pick an epicentre for the earthquake\n",
    "epicentre_name = \"RealLocation\"\n",
    "epicentre = [28.132973, 82.557899]"
   ]
  },
  {
   "cell_type": "code",
   "execution_count": null,
   "metadata": {},
   "outputs": [],
   "source": []
  },
  {
   "cell_type": "code",
   "execution_count": 35,
   "metadata": {},
   "outputs": [],
   "source": [
    "#DPs\n",
    "distancesDPs = []\n",
    "for coords in DPs[['latitude','longitude']].values:\n",
    "    distancesDPs.append(great_circle(epicentre,coords).km)\n",
    "distancesDPs = np.array(distancesDPs)\n",
    "\n",
    "#FLs\n",
    "distancesFLs = []\n",
    "for coords in FLs[['Lat','Lon']].values:\n",
    "    distancesFLs.append(great_circle(epicentre,coords).km)\n",
    "distancesFLs = np.array(distancesFLs)"
   ]
  },
  {
   "cell_type": "code",
   "execution_count": 36,
   "metadata": {},
   "outputs": [],
   "source": [
    "disruptionsFLs = calc_impacts(distancesFLs,1.1,1.9)\n",
    "disruptionsDPs = calc_impacts(distancesDPs,1.1,1.9)"
   ]
  },
  {
   "cell_type": "code",
   "execution_count": 60,
   "metadata": {},
   "outputs": [],
   "source": [
    "np.savetxt(\n",
    "    'Nepal/Prepared Input Data/DisruptionFL{}.txt'.format(epicentre_name),\n",
    "    disruptionsFLs)\n",
    "np.savetxt(\n",
    "    'Nepal/Prepared Input Data/DisruptionDP{}.txt'.format(epicentre_name),\n",
    "    disruptionsDPs)\n",
    "# In [3]: b = np.loadtxt('test1.txt', dtype=int)"
   ]
  },
  {
   "cell_type": "code",
   "execution_count": 61,
   "metadata": {},
   "outputs": [],
   "source": [
    "# disruptionsFLs2 = np.loadtxt(\n",
    "#     'Nepal/Prepared Input Data/DisruptionFL{}.txt'.format(epicentre_name))\n",
    "# disruptionsDPs2 = np.loadtxt(\n",
    "#     'Nepal/Prepared Input Data/DisruptionDP{}.txt'.format(epicentre_name))"
   ]
  },
  {
   "cell_type": "markdown",
   "metadata": {},
   "source": [
    "# Save all prepared data"
   ]
  },
  {
   "cell_type": "code",
   "execution_count": 38,
   "metadata": {},
   "outputs": [],
   "source": [
    "case = \"Nepal\"\n",
    "folder = \"Prepared Input Data\""
   ]
  },
  {
   "cell_type": "code",
   "execution_count": 39,
   "metadata": {},
   "outputs": [],
   "source": [
    "time_matrix.to_csv(\n",
    "    \"{}/{}/routing_table.csv\".format(case, folder), index=False)"
   ]
  },
  {
   "cell_type": "code",
   "execution_count": 40,
   "metadata": {},
   "outputs": [],
   "source": [
    "DPs.to_csv(\n",
    "    \"{}/{}/DPs.csv\".format(case, folder), index=False)"
   ]
  },
  {
   "cell_type": "code",
   "execution_count": 41,
   "metadata": {},
   "outputs": [],
   "source": [
    "FLs.to_csv(\n",
    "    \"{}/{}/FLs.csv\".format(case, folder), index=False)"
   ]
  },
  {
   "cell_type": "code",
   "execution_count": 42,
   "metadata": {},
   "outputs": [],
   "source": [
    "SPs.to_csv(\n",
    "    \"{}/{}/SPs.csv\".format(case, folder), index=False)"
   ]
  },
  {
   "cell_type": "code",
   "execution_count": null,
   "metadata": {},
   "outputs": [],
   "source": []
  }
 ],
 "metadata": {
  "kernelspec": {
   "display_name": "Python 3",
   "language": "python",
   "name": "python3"
  },
  "language_info": {
   "codemirror_mode": {
    "name": "ipython",
    "version": 3
   },
   "file_extension": ".py",
   "mimetype": "text/x-python",
   "name": "python",
   "nbconvert_exporter": "python",
   "pygments_lexer": "ipython3",
   "version": "3.6.4"
  },
  "toc": {
   "nav_menu": {},
   "number_sections": true,
   "sideBar": true,
   "skip_h1_title": false,
   "title_cell": "Table of Contents",
   "title_sidebar": "Contents",
   "toc_cell": false,
   "toc_position": {},
   "toc_section_display": true,
   "toc_window_display": false
  }
 },
 "nbformat": 4,
 "nbformat_minor": 2
}
