{
 "cells": [
  {
   "cell_type": "markdown",
   "metadata": {},
   "source": [
    "## Imports"
   ]
  },
  {
   "cell_type": "code",
   "execution_count": 1,
   "metadata": {},
   "outputs": [],
   "source": [
    "import numpy as np\n",
    "import pandas as pd\n",
    "\n",
    "import requests, zipfile, io\n",
    "\n",
    "import osmnx as ox\n",
    "import geopandas as gpd\n",
    "import pandas as pd\n",
    "\n",
    "import folium\n",
    "import os\n",
    "\n",
    "# for routing table:\n",
    "import osrm\n",
    "\n",
    "import geopy\n",
    "from geopy.distance import great_circle"
   ]
  },
  {
   "cell_type": "code",
   "execution_count": 2,
   "metadata": {
    "code_folding": [
     0
    ]
   },
   "outputs": [],
   "source": [
    "# %load https://gist.github.com/TRomijn/d9d28ba7b7d5eeac1deea5a26dd326b2/raw/loaded_modules.py\n",
    "\n",
    "'''\n",
    "original author: kinverarity1\n",
    "\n",
    "List loaded modules and packages, and show their version numbers\n",
    "and/or Git repository's HEAD commit SHA.\n",
    "\n",
    "\n",
    "Changes:\n",
    "Minor changes to make compatible with Python 3\n",
    "'''\n",
    "# Standard library modules\n",
    "import types\n",
    "import os\n",
    "\n",
    "# Third-party packages\n",
    "import git      # GitPython\n",
    "\n",
    "\n",
    "def module_path(mod):\n",
    "    '''Returns path to the file that module *mod* comes from.\n",
    "    If it doesn't come from a file, return None.'''\n",
    "    if hasattr(mod, '__file__'):\n",
    "        return os.path.abspath(os.path.dirname(mod.__file__))\n",
    "    else:\n",
    "        return None\n",
    "\n",
    "    \n",
    "def from_git_repo(mod):\n",
    "    '''Does the module *mod* reside in a Git repository?'''\n",
    "    path = module_path(mod)\n",
    "    if path:\n",
    "        try:\n",
    "            repo = git.Repo(path)\n",
    "        except:\n",
    "            return False\n",
    "        else:\n",
    "            return True\n",
    "    else:\n",
    "        return False\n",
    "\n",
    "    \n",
    "def git_path_sha(mod, slice=slice(0, 8, 1)):\n",
    "    '''Return SHA hash for the HEAD commit for the repository\n",
    "    that the module *mod* resides in.'''\n",
    "    repo = git.Repo(module_path(mod))\n",
    "    return repo.git_dir, repo.head.commit.hexsha[:8]\n",
    "\n",
    "\n",
    "def module_version(mod):\n",
    "    '''Return version string for module *mod*, or nothing if\n",
    "    it doesn't have a \"version\" or \"__version__\" attribute.'''\n",
    "    version = []\n",
    "    if hasattr(mod, '__dict__'):\n",
    "        keys = []\n",
    "        for key in mod.__dict__.keys():\n",
    "            if key.lower() == 'version' or key.lower() == '__version__':\n",
    "                v = mod.__dict__[key]\n",
    "                if isinstance(v, str):\n",
    "                    version.append(v)\n",
    "        if keys:\n",
    "            print (mod, keys)\n",
    "    if version:\n",
    "        return ', '.join(version)\n",
    "    else:\n",
    "        return ''\n",
    "\n",
    "    \n",
    "def find_loaded_modules(only_versioned_modules=True):\n",
    "    '''Return list of loaded modules for which there is a version\n",
    "    number or a Git repository commit SHA.\n",
    "    \n",
    "    Return a list of *(name, version, path_to_git_repo, git_head_sha)*,\n",
    "    which has an HTML property for pretty display in IPython Notebooks.\n",
    "        \n",
    "    '''\n",
    "    def list_of_lists_to_HTML(lists, header_row=None):\n",
    "        '''Convert a list of a list of strings to a HTML table.'''\n",
    "        s = '<table>'\n",
    "        if header_row:\n",
    "            s += '\\n\\t<tr>\\n\\t\\t'\n",
    "            s += ''.join(['<th>%s</th>' % item for item in header_row])\n",
    "            s += '\\n\\t</tr>'\n",
    "        for inner_list in lists:\n",
    "            s += '\\n\\t<tr>\\n\\t\\t'\n",
    "            s += ''.join(['<td>%s</td>' % item for item in inner_list])\n",
    "            s += '\\n\\t</tr>'\n",
    "        s += '\\n</table>'\n",
    "        return s\n",
    "    \n",
    "    class LoadedModules(list):\n",
    "        '''Very simple wrapper for a list of lists of strings, with an attribute\n",
    "        for display in IPython Notebooks.'''\n",
    "        def __init__(self, *args, **kwargs):\n",
    "            list.__init__(self, *args, **kwargs)\n",
    "            \n",
    "        @property\n",
    "        def HTML(self):\n",
    "            from IPython.display import HTML\n",
    "            return HTML(\n",
    "                    list_of_lists_to_HTML(\n",
    "                            self, header_row=['Name', 'Version', 'Path', 'SHA']))\n",
    "                    \n",
    "    objs = LoadedModules()\n",
    "    for i, mod in enumerate(globals().values()):\n",
    "        if isinstance(mod, types.ModuleType):\n",
    "            if hasattr(mod, '__name__'):\n",
    "                name = mod.__name__\n",
    "            else:\n",
    "                name = ''\n",
    "            \n",
    "            if from_git_repo(mod):\n",
    "                path, sha = git_path_sha(mod)\n",
    "            else:\n",
    "                path = ''\n",
    "                sha = ''\n",
    "            \n",
    "            version = module_version(mod)\n",
    "            \n",
    "            if only_versioned_modules:\n",
    "                flag = version or (path and sha)\n",
    "            else:\n",
    "                flag = True\n",
    "            \n",
    "            if flag:\n",
    "                objs.append([mod.__name__, version, path, sha])\n",
    "    objs.sort(key=lambda r: r[0])\n",
    "    return objs\n",
    "\n",
    "\n",
    "    \n",
    "    "
   ]
  },
  {
   "cell_type": "code",
   "execution_count": 3,
   "metadata": {},
   "outputs": [
    {
     "data": {
      "text/html": [
       "<table>\n",
       "\t<tr>\n",
       "\t\t<th>Name</th><th>Version</th><th>Path</th><th>SHA</th>\n",
       "\t</tr>\n",
       "\t<tr>\n",
       "\t\t<td>folium</td><td>0.5.0</td><td></td><td></td>\n",
       "\t</tr>\n",
       "\t<tr>\n",
       "\t\t<td>geopandas</td><td>0.3.0</td><td></td><td></td>\n",
       "\t</tr>\n",
       "\t<tr>\n",
       "\t\t<td>geopy</td><td>1.13.0</td><td></td><td></td>\n",
       "\t</tr>\n",
       "\t<tr>\n",
       "\t\t<td>git</td><td>2.1.9</td><td></td><td></td>\n",
       "\t</tr>\n",
       "\t<tr>\n",
       "\t\t<td>json</td><td>2.0.9</td><td></td><td></td>\n",
       "\t</tr>\n",
       "\t<tr>\n",
       "\t\t<td>numpy</td><td>1.14.2</td><td></td><td></td>\n",
       "\t</tr>\n",
       "\t<tr>\n",
       "\t\t<td>osmnx</td><td>0.8.1</td><td></td><td></td>\n",
       "\t</tr>\n",
       "\t<tr>\n",
       "\t\t<td>osrm</td><td>0.11.1</td><td></td><td></td>\n",
       "\t</tr>\n",
       "\t<tr>\n",
       "\t\t<td>pandas</td><td>0.23.0</td><td></td><td></td>\n",
       "\t</tr>\n",
       "\t<tr>\n",
       "\t\t<td>requests</td><td>2.18.4</td><td></td><td></td>\n",
       "\t</tr>\n",
       "</table>"
      ],
      "text/plain": [
       "<IPython.core.display.HTML object>"
      ]
     },
     "execution_count": 3,
     "metadata": {},
     "output_type": "execute_result"
    }
   ],
   "source": [
    "find_loaded_modules().HTML"
   ]
  },
  {
   "cell_type": "markdown",
   "metadata": {},
   "source": [
    "# Data preparation"
   ]
  },
  {
   "cell_type": "markdown",
   "metadata": {},
   "source": [
    "## Demand Points"
   ]
  },
  {
   "cell_type": "code",
   "execution_count": 4,
   "metadata": {
    "code_folding": [
     0
    ]
   },
   "outputs": [],
   "source": [
    "def get_cities(countrycode, number_of_cities=None, dataset=\"cities5000\"):\n",
    "    \"\"\"\n",
    "    countrycode: string: ISO \"ALPHA-2 Code\"\n",
    "    number_of_cities: integer: number of cities to return, if None: return all\n",
    "    dataset: string: choose from: [\"cities1000\",\"cities5000\",\"cities15000\"]\n",
    "        chooses dataset with all world cities that have minimum that amount of inhabitants.\n",
    "        Obivously, the cities1000 dataset is larger and can take longer to download than the cities15000\n",
    "    \n",
    "    Data is downloaded from: http://download.geonames.org/export/dump/\n",
    "    This Data is licensed under a Creative Commons Attribution 3.0 License\n",
    "    \"\"\"\n",
    "\n",
    "    #     http://download.geonames.org/export/dump/\n",
    "\n",
    "    #     \"cities15000\"\n",
    "\n",
    "    r = requests.get(\n",
    "        \"http://download.geonames.org/export/dump/{}.zip\".format(dataset))\n",
    "    z = zipfile.ZipFile(io.BytesIO(r.content))\n",
    "\n",
    "    #     data_directory = \"../Facility Location Model/Raw_Data\"\n",
    "    #     z.extractall(path=data_directory)\n",
    "\n",
    "    columnnames = [\n",
    "        \"geonameid\", \"name\", \"asciiname\", \"alternatenames\", \"latitude\",\n",
    "        \"longitude\", \"feature class\", \"feature code\", \"country code\", \"cc2\",\n",
    "        \"admin1 code\", \"admin2 code\", \"admin3 code\", \"admin4 code\",\n",
    "        \"population\", \"elevation\", \"dem\", \"timezone\", \"modification date\"\n",
    "    ]\n",
    "\n",
    "    #     NP = pd.read_csv(data_directory+\"/NP.txt\", sep=\"\\t\", header=None)\n",
    "    cities = pd.read_csv(\n",
    "        z.open('{}.txt'.format(dataset)), sep=\"\\t\", names=columnnames)\n",
    "\n",
    "    inCountry = cities[cities['country code'] == countrycode]\n",
    "\n",
    "    inCountry = inCountry.dropna(subset=['population'])\n",
    "\n",
    "    inCountrySorted = inCountry.sort_values(\n",
    "        by='population', ascending=False).reset_index(drop=True)\n",
    "\n",
    "    return inCountrySorted.iloc[0:number_of_cities]"
   ]
  },
  {
   "cell_type": "code",
   "execution_count": 5,
   "metadata": {
    "scrolled": true
   },
   "outputs": [
    {
     "name": "stderr",
     "output_type": "stream",
     "text": [
      "C:\\Users\\timro\\Anaconda3\\lib\\site-packages\\IPython\\core\\interactiveshell.py:2903: DtypeWarning: Columns (13) have mixed types. Specify dtype option on import or set low_memory=False.\n",
      "  if self.run_code(code, result):\n"
     ]
    }
   ],
   "source": [
    "cities = get_cities(\"NP\", 30)"
   ]
  },
  {
   "cell_type": "code",
   "execution_count": 6,
   "metadata": {},
   "outputs": [],
   "source": [
    "DPs = cities[['name','population','latitude','longitude']]"
   ]
  },
  {
   "cell_type": "code",
   "execution_count": 7,
   "metadata": {},
   "outputs": [
    {
     "data": {
      "text/html": [
       "<div>\n",
       "<style scoped>\n",
       "    .dataframe tbody tr th:only-of-type {\n",
       "        vertical-align: middle;\n",
       "    }\n",
       "\n",
       "    .dataframe tbody tr th {\n",
       "        vertical-align: top;\n",
       "    }\n",
       "\n",
       "    .dataframe thead th {\n",
       "        text-align: right;\n",
       "    }\n",
       "</style>\n",
       "<table border=\"1\" class=\"dataframe\">\n",
       "  <thead>\n",
       "    <tr style=\"text-align: right;\">\n",
       "      <th></th>\n",
       "      <th>name</th>\n",
       "      <th>population</th>\n",
       "      <th>latitude</th>\n",
       "      <th>longitude</th>\n",
       "    </tr>\n",
       "  </thead>\n",
       "  <tbody>\n",
       "    <tr>\n",
       "      <th>25</th>\n",
       "      <td>Birendranagar</td>\n",
       "      <td>31381</td>\n",
       "      <td>28.60194</td>\n",
       "      <td>81.63389</td>\n",
       "    </tr>\n",
       "    <tr>\n",
       "      <th>26</th>\n",
       "      <td>Panauti̇̄</td>\n",
       "      <td>27602</td>\n",
       "      <td>27.58453</td>\n",
       "      <td>85.51484</td>\n",
       "    </tr>\n",
       "    <tr>\n",
       "      <th>27</th>\n",
       "      <td>Gaur</td>\n",
       "      <td>27325</td>\n",
       "      <td>26.76448</td>\n",
       "      <td>85.27841</td>\n",
       "    </tr>\n",
       "    <tr>\n",
       "      <th>28</th>\n",
       "      <td>Siraha</td>\n",
       "      <td>24657</td>\n",
       "      <td>26.65422</td>\n",
       "      <td>86.20795</td>\n",
       "    </tr>\n",
       "    <tr>\n",
       "      <th>29</th>\n",
       "      <td>Tānsen</td>\n",
       "      <td>23693</td>\n",
       "      <td>27.86731</td>\n",
       "      <td>83.54670</td>\n",
       "    </tr>\n",
       "  </tbody>\n",
       "</table>\n",
       "</div>"
      ],
      "text/plain": [
       "             name  population  latitude  longitude\n",
       "25  Birendranagar       31381  28.60194   81.63389\n",
       "26      Panauti̇̄       27602  27.58453   85.51484\n",
       "27           Gaur       27325  26.76448   85.27841\n",
       "28         Siraha       24657  26.65422   86.20795\n",
       "29         Tānsen       23693  27.86731   83.54670"
      ]
     },
     "execution_count": 7,
     "metadata": {},
     "output_type": "execute_result"
    }
   ],
   "source": [
    "DPs.tail()"
   ]
  },
  {
   "cell_type": "markdown",
   "metadata": {},
   "source": [
    "### Add remote valleys\n",
    "\n",
    "These remote valleys are not necessarily actually remote valleys. The 5 smallest cities are selected from the database, then  those are called \"remote valleys\"\n",
    "\n",
    "For those smallest cities, there is no population information available. Therefore, they their population value is set on 1.000. Compared to the smallest normal city: it has a population of 23.693"
   ]
  },
  {
   "cell_type": "code",
   "execution_count": 7,
   "metadata": {
    "scrolled": true
   },
   "outputs": [
    {
     "name": "stderr",
     "output_type": "stream",
     "text": [
      "C:\\Users\\timro\\Anaconda3\\lib\\site-packages\\IPython\\core\\interactiveshell.py:2903: DtypeWarning: Columns (13) have mixed types. Specify dtype option on import or set low_memory=False.\n",
      "  if self.run_code(code, result):\n"
     ]
    }
   ],
   "source": [
    "all_cities = get_cities(\"NP\", dataset=\"cities1000\")"
   ]
  },
  {
   "cell_type": "code",
   "execution_count": 8,
   "metadata": {},
   "outputs": [],
   "source": [
    "# Cities are sorted on population\n",
    "valleys = all_cities.tail(5)"
   ]
  },
  {
   "cell_type": "code",
   "execution_count": 9,
   "metadata": {},
   "outputs": [
    {
     "name": "stderr",
     "output_type": "stream",
     "text": [
      "C:\\Users\\timro\\Anaconda3\\lib\\site-packages\\ipykernel_launcher.py:1: SettingWithCopyWarning: \n",
      "A value is trying to be set on a copy of a slice from a DataFrame.\n",
      "Try using .loc[row_indexer,col_indexer] = value instead\n",
      "\n",
      "See the caveats in the documentation: http://pandas.pydata.org/pandas-docs/stable/indexing.html#indexing-view-versus-copy\n",
      "  \"\"\"Entry point for launching an IPython kernel.\n"
     ]
    }
   ],
   "source": [
    "valleys['population'] = 1000"
   ]
  },
  {
   "cell_type": "code",
   "execution_count": 10,
   "metadata": {},
   "outputs": [],
   "source": [
    "DPs = DPs.append(valleys[['name','population','latitude','longitude']])"
   ]
  },
  {
   "cell_type": "code",
   "execution_count": 11,
   "metadata": {},
   "outputs": [
    {
     "data": {
      "text/html": [
       "<div>\n",
       "<style scoped>\n",
       "    .dataframe tbody tr th:only-of-type {\n",
       "        vertical-align: middle;\n",
       "    }\n",
       "\n",
       "    .dataframe tbody tr th {\n",
       "        vertical-align: top;\n",
       "    }\n",
       "\n",
       "    .dataframe thead th {\n",
       "        text-align: right;\n",
       "    }\n",
       "</style>\n",
       "<table border=\"1\" class=\"dataframe\">\n",
       "  <thead>\n",
       "    <tr style=\"text-align: right;\">\n",
       "      <th></th>\n",
       "      <th>name</th>\n",
       "      <th>population</th>\n",
       "      <th>latitude</th>\n",
       "      <th>longitude</th>\n",
       "    </tr>\n",
       "  </thead>\n",
       "  <tbody>\n",
       "    <tr>\n",
       "      <th>29</th>\n",
       "      <td>Tānsen</td>\n",
       "      <td>23693</td>\n",
       "      <td>27.86731</td>\n",
       "      <td>83.54670</td>\n",
       "    </tr>\n",
       "    <tr>\n",
       "      <th>60</th>\n",
       "      <td>Bardiyā</td>\n",
       "      <td>1000</td>\n",
       "      <td>28.30058</td>\n",
       "      <td>81.35360</td>\n",
       "    </tr>\n",
       "    <tr>\n",
       "      <th>61</th>\n",
       "      <td>Rāmechhāp</td>\n",
       "      <td>1000</td>\n",
       "      <td>27.32560</td>\n",
       "      <td>86.08768</td>\n",
       "    </tr>\n",
       "    <tr>\n",
       "      <th>62</th>\n",
       "      <td>Salyān</td>\n",
       "      <td>1000</td>\n",
       "      <td>28.37858</td>\n",
       "      <td>82.17030</td>\n",
       "    </tr>\n",
       "    <tr>\n",
       "      <th>63</th>\n",
       "      <td>Bhaktapur</td>\n",
       "      <td>1000</td>\n",
       "      <td>27.67298</td>\n",
       "      <td>85.43005</td>\n",
       "    </tr>\n",
       "    <tr>\n",
       "      <th>64</th>\n",
       "      <td>Achhām</td>\n",
       "      <td>1000</td>\n",
       "      <td>29.05000</td>\n",
       "      <td>81.30000</td>\n",
       "    </tr>\n",
       "  </tbody>\n",
       "</table>\n",
       "</div>"
      ],
      "text/plain": [
       "         name  population  latitude  longitude\n",
       "29     Tānsen       23693  27.86731   83.54670\n",
       "60    Bardiyā        1000  28.30058   81.35360\n",
       "61  Rāmechhāp        1000  27.32560   86.08768\n",
       "62     Salyān        1000  28.37858   82.17030\n",
       "63  Bhaktapur        1000  27.67298   85.43005\n",
       "64     Achhām        1000  29.05000   81.30000"
      ]
     },
     "execution_count": 11,
     "metadata": {},
     "output_type": "execute_result"
    }
   ],
   "source": [
    "DPs.tail(6)"
   ]
  },
  {
   "cell_type": "markdown",
   "metadata": {},
   "source": [
    "## Facility Locations"
   ]
  },
  {
   "cell_type": "markdown",
   "metadata": {},
   "source": [
    "\n",
    "Select specific places of interest as optional FLs"
   ]
  },
  {
   "cell_type": "code",
   "execution_count": 13,
   "metadata": {
    "code_folding": [
     0
    ],
    "scrolled": true
   },
   "outputs": [],
   "source": [
    "# # if place has multiple parts, select mainland\n",
    "# gdf = ox.gdf_from_place('The Netherlands')\n",
    "# geom = gdf['geometry'].iloc[0]\n",
    "# geom_proj, crs = ox.project_geometry(geom)\n",
    "# area = geom_proj.envelope.area / 1e6\n",
    "\n",
    "# print('{:,.0f} sq km'.format(area))\n",
    "# # gdf.plot()\n",
    "\n",
    "# mainland = max(geom, key=lambda x: x.area)\n",
    "# # or manually check shapes and select\n",
    "# mainland = geom[2]\n",
    "# pois = ox.pois_from_polygon(mainland, amenities=['hospital'])"
   ]
  },
  {
   "cell_type": "code",
   "execution_count": null,
   "metadata": {},
   "outputs": [],
   "source": []
  },
  {
   "cell_type": "code",
   "execution_count": null,
   "metadata": {},
   "outputs": [],
   "source": []
  },
  {
   "cell_type": "code",
   "execution_count": null,
   "metadata": {},
   "outputs": [],
   "source": [
    "POIs = ox.pois_from_place(place='Nepal', amenities=['hospital'])"
   ]
  },
  {
   "cell_type": "code",
   "execution_count": null,
   "metadata": {},
   "outputs": [],
   "source": [
    "POIs.amenity.value_counts()"
   ]
  },
  {
   "cell_type": "code",
   "execution_count": null,
   "metadata": {},
   "outputs": [],
   "source": [
    "POIs.plot()"
   ]
  },
  {
   "cell_type": "code",
   "execution_count": null,
   "metadata": {
    "scrolled": false
   },
   "outputs": [],
   "source": [
    "# place = \"Nepal\"\n",
    "# POIs = ox.pois_from_place(place=place)"
   ]
  },
  {
   "cell_type": "code",
   "execution_count": null,
   "metadata": {
    "scrolled": false
   },
   "outputs": [],
   "source": [
    "hospitals = POIs [POIs.amenity =='hospital']"
   ]
  },
  {
   "cell_type": "code",
   "execution_count": null,
   "metadata": {},
   "outputs": [],
   "source": [
    "hospitals = hospitals[hospitals.element_type == 'node']"
   ]
  },
  {
   "cell_type": "code",
   "execution_count": null,
   "metadata": {},
   "outputs": [],
   "source": [
    "hospital_coordinates = pd.DataFrame([point.coords[0] for point in pd.Series(hospitals.geometry)],columns=[\"longitude\",\"latitude\"])"
   ]
  },
  {
   "cell_type": "code",
   "execution_count": null,
   "metadata": {},
   "outputs": [],
   "source": [
    "hospital_coordinates.tail()"
   ]
  },
  {
   "cell_type": "code",
   "execution_count": 45,
   "metadata": {},
   "outputs": [],
   "source": [
    "# hospital_coordinates = hospital_coordinates.sample(30).reset_index(drop=True)"
   ]
  },
  {
   "cell_type": "code",
   "execution_count": null,
   "metadata": {},
   "outputs": [],
   "source": [
    "# \n",
    "# hospital_coordinates.to_csv(\"Some folder / filename.csv\", index=False)"
   ]
  },
  {
   "cell_type": "code",
   "execution_count": 12,
   "metadata": {},
   "outputs": [],
   "source": [
    "hospital_coordinates = pd.read_csv(\"Data/Nepal_Prepared_Data/sample_hospitals.csv\")"
   ]
  },
  {
   "cell_type": "code",
   "execution_count": 13,
   "metadata": {},
   "outputs": [
    {
     "data": {
      "text/html": [
       "<div>\n",
       "<style scoped>\n",
       "    .dataframe tbody tr th:only-of-type {\n",
       "        vertical-align: middle;\n",
       "    }\n",
       "\n",
       "    .dataframe tbody tr th {\n",
       "        vertical-align: top;\n",
       "    }\n",
       "\n",
       "    .dataframe thead th {\n",
       "        text-align: right;\n",
       "    }\n",
       "</style>\n",
       "<table border=\"1\" class=\"dataframe\">\n",
       "  <thead>\n",
       "    <tr style=\"text-align: right;\">\n",
       "      <th></th>\n",
       "      <th>Name</th>\n",
       "      <th>Lat</th>\n",
       "      <th>Lon</th>\n",
       "    </tr>\n",
       "  </thead>\n",
       "  <tbody>\n",
       "    <tr>\n",
       "      <th>15</th>\n",
       "      <td>FLO15</td>\n",
       "      <td>27.994658</td>\n",
       "      <td>84.628128</td>\n",
       "    </tr>\n",
       "    <tr>\n",
       "      <th>16</th>\n",
       "      <td>FLO16</td>\n",
       "      <td>27.674426</td>\n",
       "      <td>85.403768</td>\n",
       "    </tr>\n",
       "    <tr>\n",
       "      <th>17</th>\n",
       "      <td>FLO17</td>\n",
       "      <td>27.711016</td>\n",
       "      <td>85.314744</td>\n",
       "    </tr>\n",
       "    <tr>\n",
       "      <th>18</th>\n",
       "      <td>FLO18</td>\n",
       "      <td>28.185470</td>\n",
       "      <td>83.178350</td>\n",
       "    </tr>\n",
       "    <tr>\n",
       "      <th>19</th>\n",
       "      <td>FLO19</td>\n",
       "      <td>28.753672</td>\n",
       "      <td>81.688045</td>\n",
       "    </tr>\n",
       "  </tbody>\n",
       "</table>\n",
       "</div>"
      ],
      "text/plain": [
       "     Name        Lat        Lon\n",
       "15  FLO15  27.994658  84.628128\n",
       "16  FLO16  27.674426  85.403768\n",
       "17  FLO17  27.711016  85.314744\n",
       "18  FLO18  28.185470  83.178350\n",
       "19  FLO19  28.753672  81.688045"
      ]
     },
     "execution_count": 13,
     "metadata": {},
     "output_type": "execute_result"
    }
   ],
   "source": [
    "FLs = hospital_coordinates\n",
    "FLs['Name'] = ['FLO{}'.format(i) for i in range(FLs.shape[0])]\n",
    "\n",
    "FLs.columns = [\"Lon\",\"Lat\", 'Name']\n",
    "FLs = FLs[['Name', 'Lat', 'Lon']]\n",
    "\n",
    "FLs.tail()"
   ]
  },
  {
   "cell_type": "markdown",
   "metadata": {},
   "source": [
    "## Supply points"
   ]
  },
  {
   "cell_type": "code",
   "execution_count": 14,
   "metadata": {
    "scrolled": true
   },
   "outputs": [],
   "source": [
    "url=\"http://ourairports.com/data/airports.csv\"\n",
    "s=requests.get(url).content\n",
    "airports=pd.read_csv(io.StringIO(s.decode('utf-8')))"
   ]
  },
  {
   "cell_type": "code",
   "execution_count": 15,
   "metadata": {},
   "outputs": [
    {
     "data": {
      "text/plain": [
       "Index(['id', 'ident', 'type', 'name', 'latitude_deg', 'longitude_deg',\n",
       "       'elevation_ft', 'continent', 'iso_country', 'iso_region',\n",
       "       'municipality', 'scheduled_service', 'gps_code', 'iata_code',\n",
       "       'local_code', 'home_link', 'wikipedia_link', 'keywords'],\n",
       "      dtype='object')"
      ]
     },
     "execution_count": 15,
     "metadata": {},
     "output_type": "execute_result"
    }
   ],
   "source": [
    "airports.columns"
   ]
  },
  {
   "cell_type": "code",
   "execution_count": 16,
   "metadata": {},
   "outputs": [],
   "source": [
    "# Select all airports in country\n",
    "airports = airports[airports.iso_country == \"NP\"]"
   ]
  },
  {
   "cell_type": "code",
   "execution_count": 17,
   "metadata": {},
   "outputs": [],
   "source": [
    "# Select airports that are available in country\n",
    "int_airports = airports[airports.name == \"Tribhuvan International Airport\"]"
   ]
  },
  {
   "cell_type": "code",
   "execution_count": 18,
   "metadata": {},
   "outputs": [],
   "source": [
    "SPs = int_airports[[\"name\", \"latitude_deg\", \"longitude_deg\"]]"
   ]
  },
  {
   "cell_type": "code",
   "execution_count": 19,
   "metadata": {},
   "outputs": [
    {
     "data": {
      "text/html": [
       "<div>\n",
       "<style scoped>\n",
       "    .dataframe tbody tr th:only-of-type {\n",
       "        vertical-align: middle;\n",
       "    }\n",
       "\n",
       "    .dataframe tbody tr th {\n",
       "        vertical-align: top;\n",
       "    }\n",
       "\n",
       "    .dataframe thead th {\n",
       "        text-align: right;\n",
       "    }\n",
       "</style>\n",
       "<table border=\"1\" class=\"dataframe\">\n",
       "  <thead>\n",
       "    <tr style=\"text-align: right;\">\n",
       "      <th></th>\n",
       "      <th>name</th>\n",
       "      <th>latitude_deg</th>\n",
       "      <th>longitude_deg</th>\n",
       "    </tr>\n",
       "  </thead>\n",
       "  <tbody>\n",
       "    <tr>\n",
       "      <th>50326</th>\n",
       "      <td>Tribhuvan International Airport</td>\n",
       "      <td>27.6966</td>\n",
       "      <td>85.3591</td>\n",
       "    </tr>\n",
       "  </tbody>\n",
       "</table>\n",
       "</div>"
      ],
      "text/plain": [
       "                                  name  latitude_deg  longitude_deg\n",
       "50326  Tribhuvan International Airport       27.6966        85.3591"
      ]
     },
     "execution_count": 19,
     "metadata": {},
     "output_type": "execute_result"
    }
   ],
   "source": [
    "SPs"
   ]
  },
  {
   "cell_type": "markdown",
   "metadata": {},
   "source": [
    "## Visualisation of nodes"
   ]
  },
  {
   "cell_type": "code",
   "execution_count": 34,
   "metadata": {},
   "outputs": [
    {
     "data": {
      "text/plain": [
       "Name      FLO16\n",
       "Lat     27.6744\n",
       "Lon     85.4038\n",
       "Name: 16, dtype: object"
      ]
     },
     "execution_count": 34,
     "metadata": {},
     "output_type": "execute_result"
    }
   ],
   "source": [
    "FLs.iloc[16]"
   ]
  },
  {
   "cell_type": "code",
   "execution_count": 21,
   "metadata": {
    "scrolled": true
   },
   "outputs": [
    {
     "data": {
      "text/html": [
       "<div>\n",
       "<style scoped>\n",
       "    .dataframe tbody tr th:only-of-type {\n",
       "        vertical-align: middle;\n",
       "    }\n",
       "\n",
       "    .dataframe tbody tr th {\n",
       "        vertical-align: top;\n",
       "    }\n",
       "\n",
       "    .dataframe thead th {\n",
       "        text-align: right;\n",
       "    }\n",
       "</style>\n",
       "<table border=\"1\" class=\"dataframe\">\n",
       "  <thead>\n",
       "    <tr style=\"text-align: right;\">\n",
       "      <th></th>\n",
       "      <th>name</th>\n",
       "      <th>population</th>\n",
       "      <th>latitude</th>\n",
       "      <th>longitude</th>\n",
       "    </tr>\n",
       "  </thead>\n",
       "  <tbody>\n",
       "    <tr>\n",
       "      <th>0</th>\n",
       "      <td>Kathmandu</td>\n",
       "      <td>1442271</td>\n",
       "      <td>27.70169</td>\n",
       "      <td>85.32060</td>\n",
       "    </tr>\n",
       "    <tr>\n",
       "      <th>1</th>\n",
       "      <td>Pokhara</td>\n",
       "      <td>200000</td>\n",
       "      <td>28.26689</td>\n",
       "      <td>83.96851</td>\n",
       "    </tr>\n",
       "    <tr>\n",
       "      <th>2</th>\n",
       "      <td>Pātan</td>\n",
       "      <td>183310</td>\n",
       "      <td>27.67658</td>\n",
       "      <td>85.31417</td>\n",
       "    </tr>\n",
       "    <tr>\n",
       "      <th>3</th>\n",
       "      <td>Biratnagar</td>\n",
       "      <td>182324</td>\n",
       "      <td>26.45505</td>\n",
       "      <td>87.27007</td>\n",
       "    </tr>\n",
       "    <tr>\n",
       "      <th>4</th>\n",
       "      <td>Birgañj</td>\n",
       "      <td>133238</td>\n",
       "      <td>27.01709</td>\n",
       "      <td>84.88080</td>\n",
       "    </tr>\n",
       "  </tbody>\n",
       "</table>\n",
       "</div>"
      ],
      "text/plain": [
       "         name  population  latitude  longitude\n",
       "0   Kathmandu     1442271  27.70169   85.32060\n",
       "1     Pokhara      200000  28.26689   83.96851\n",
       "2       Pātan      183310  27.67658   85.31417\n",
       "3  Biratnagar      182324  26.45505   87.27007\n",
       "4     Birgañj      133238  27.01709   84.88080"
      ]
     },
     "execution_count": 21,
     "metadata": {},
     "output_type": "execute_result"
    }
   ],
   "source": [
    "DPs.head()"
   ]
  },
  {
   "cell_type": "code",
   "execution_count": 35,
   "metadata": {},
   "outputs": [
    {
     "data": {
      "text/html": [
       "<div>\n",
       "<style scoped>\n",
       "    .dataframe tbody tr th:only-of-type {\n",
       "        vertical-align: middle;\n",
       "    }\n",
       "\n",
       "    .dataframe tbody tr th {\n",
       "        vertical-align: top;\n",
       "    }\n",
       "\n",
       "    .dataframe thead th {\n",
       "        text-align: right;\n",
       "    }\n",
       "</style>\n",
       "<table border=\"1\" class=\"dataframe\">\n",
       "  <thead>\n",
       "    <tr style=\"text-align: right;\">\n",
       "      <th></th>\n",
       "      <th>name</th>\n",
       "      <th>population</th>\n",
       "      <th>latitude</th>\n",
       "      <th>longitude</th>\n",
       "    </tr>\n",
       "  </thead>\n",
       "  <tbody>\n",
       "    <tr>\n",
       "      <th>13</th>\n",
       "      <td>Triyuga</td>\n",
       "      <td>71405</td>\n",
       "      <td>26.7919</td>\n",
       "      <td>86.69900</td>\n",
       "    </tr>\n",
       "    <tr>\n",
       "      <th>61</th>\n",
       "      <td>Rāmechhāp</td>\n",
       "      <td>1000</td>\n",
       "      <td>27.3256</td>\n",
       "      <td>86.08768</td>\n",
       "    </tr>\n",
       "  </tbody>\n",
       "</table>\n",
       "</div>"
      ],
      "text/plain": [
       "         name  population  latitude  longitude\n",
       "13    Triyuga       71405   26.7919   86.69900\n",
       "61  Rāmechhāp        1000   27.3256   86.08768"
      ]
     },
     "execution_count": 35,
     "metadata": {},
     "output_type": "execute_result"
    }
   ],
   "source": [
    "DPs.iloc[[13,31]]"
   ]
  },
  {
   "cell_type": "code",
   "execution_count": 33,
   "metadata": {},
   "outputs": [
    {
     "data": {
      "text/html": [
       "<div style=\"width:100%;\"><div style=\"position:relative;width:100%;height:0;padding-bottom:60%;\"><iframe src=\"data:text/html;charset=utf-8;base64,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\" style=\"position:absolute;width:100%;height:100%;left:0;top:0;border:none !important;\" allowfullscreen webkitallowfullscreen mozallowfullscreen></iframe></div></div>"
      ],
      "text/plain": [
       "<folium.folium.Map at 0x2bf59a07908>"
      ]
     },
     "execution_count": 33,
     "metadata": {},
     "output_type": "execute_result"
    }
   ],
   "source": [
    "map1 = folium.Map(\n",
    "    location=[28.3, 84.12], zoom_start=6, tiles='cartodbpositron')\n",
    "\n",
    "DPs.apply(lambda row: folium.CircleMarker(\n",
    "    location=[row['latitude'], row['longitude']],\n",
    "    radius=1, color=\"red\", popup=\"DP{}:{}\".format( row.name, row['name']) ).add_to(map1), axis=1)\n",
    "\n",
    "SPs.apply(lambda row: folium.CircleMarker(\n",
    "    location=[row['latitude_deg'], row['longitude_deg']],\n",
    "    radius=3, color=\"blue\").add_to(map1), axis=1)\n",
    "\n",
    "FLs.apply(lambda row: folium.CircleMarker(\n",
    "    location=[row['Lat'], row['Lon']],\n",
    "    radius=3, color=\"green\", popup=row['Name']).add_to(map1), axis=1)\n",
    "\n",
    "\n",
    "map1"
   ]
  },
  {
   "cell_type": "markdown",
   "metadata": {},
   "source": [
    "## Routes"
   ]
  },
  {
   "cell_type": "code",
   "execution_count": 34,
   "metadata": {},
   "outputs": [],
   "source": [
    "node_names = [\"SP{}\".format(i) for i, ind in enumerate(SPs.index)] + [\n",
    "    \"FL{}\".format(i) for i, ind in enumerate(FLs.index)\n",
    "] + [\"DP{}\".format(i) for i, ind in enumerate(DPs.index)]\n",
    "\n",
    "node_lats = SPs['latitude_deg'].append(FLs['Lat']).append(\n",
    "    DPs['latitude']).reset_index(drop=True)\n",
    "\n",
    "node_lons = SPs['longitude_deg'].append(FLs['Lon']).append(\n",
    "    DPs['longitude']).reset_index(drop=True)"
   ]
  },
  {
   "cell_type": "code",
   "execution_count": 35,
   "metadata": {},
   "outputs": [
    {
     "name": "stdout",
     "output_type": "stream",
     "text": [
      "\n",
      "Hopefully at future updates of the osrm package, the\n",
      "lat/lon coordinates are loaded correctly. \n",
      "If osrm package is updated: check if time_matrix contains \n",
      "realistic values. if not: try swapping lat/lon coordinate order\n"
     ]
    }
   ],
   "source": [
    "# for some reason the coordinates are incorrectly passed\n",
    "# by this OSRM package\n",
    "print(\"\"\"\n",
    "Hopefully at future updates of the osrm package, the\n",
    "lat/lon coordinates are loaded correctly. \n",
    "If osrm package is updated: check if time_matrix contains \n",
    "realistic values. if not: try swapping lat/lon coordinate order\"\"\"\n",
    "      )\n",
    "list_coords = [\n",
    "    osrm.Point(longitude=lat, latitude=lon)\n",
    "    for lat, lon in zip(node_lats, node_lons)\n",
    "]"
   ]
  },
  {
   "cell_type": "code",
   "execution_count": 36,
   "metadata": {},
   "outputs": [
    {
     "data": {
      "text/plain": [
       "56"
      ]
     },
     "execution_count": 36,
     "metadata": {},
     "output_type": "execute_result"
    }
   ],
   "source": [
    "len(list_coords)"
   ]
  },
  {
   "cell_type": "code",
   "execution_count": null,
   "metadata": {},
   "outputs": [],
   "source": [
    "print(\"Choose to create new file with OSRM API, or to load existing\")"
   ]
  },
  {
   "cell_type": "code",
   "execution_count": 37,
   "metadata": {},
   "outputs": [],
   "source": [
    "osrm.RequestConfig.host = osrm.RequestConfig.host = \"router.project-osrm.org\"\n",
    "\n",
    "# time_matrix, snapped_coords, a = osrm.table(\n",
    "#     list_coords, ids_origin=node_names, output='dataframe')\n",
    "\n",
    "# Load if available:\n",
    "# time_matrix = pd.read_csv(\"test.csv\")\n",
    "# time_matrix.index = node_names"
   ]
  },
  {
   "cell_type": "markdown",
   "metadata": {},
   "source": [
    "## Disruptions"
   ]
  },
  {
   "cell_type": "code",
   "execution_count": 24,
   "metadata": {},
   "outputs": [],
   "source": [
    "def calc_impacts(distance, min_disruption=1, max_disruption=2):\n",
    "    \"\"\"\n",
    "    radial function, calculating the impact of an earthquake, based on great_circle distance.\n",
    "    magnitude of earthquake can be indicated by giving min and max values\n",
    "    \n",
    "    Distance from epicentre: float\n",
    "    min_disruption: float range: (1,2), indicates the minimum disruption caused by the disaster\n",
    "    max_disruption: float range: (1,2), indiccates the maximum disruption caused by the disaster    \n",
    "    \"\"\"\n",
    "    if min_disruption <= 1 or max_disruption >= 2:\n",
    "        raise ValueError(\"wrong inputvalues for arguments\")\n",
    "\n",
    "    min_dist, max_dist = min(distance), max(distance)\n",
    "    dist_range = max_dist - min_dist\n",
    "    disr_range = max_disruption - min_disruption\n",
    "\n",
    "    #     return (distance - min_dist) / dist_range\n",
    "    return (((distance - min_dist) / dist_range) * disr_range) + min_disruption"
   ]
  },
  {
   "cell_type": "code",
   "execution_count": 38,
   "metadata": {},
   "outputs": [],
   "source": [
    "#Pick an epicentre for the earthquake\n",
    "epicentre_name = \"RealLocation\"\n",
    "epicentre = [28.132973, 82.557899]"
   ]
  },
  {
   "cell_type": "code",
   "execution_count": null,
   "metadata": {},
   "outputs": [],
   "source": []
  },
  {
   "cell_type": "code",
   "execution_count": 35,
   "metadata": {},
   "outputs": [],
   "source": [
    "#DPs\n",
    "distancesDPs = []\n",
    "for coords in DPs[['latitude','longitude']].values:\n",
    "    distancesDPs.append(great_circle(epicentre,coords).km)\n",
    "distancesDPs = np.array(distancesDPs)\n",
    "\n",
    "#FLs\n",
    "distancesFLs = []\n",
    "for coords in FLs[['Lat','Lon']].values:\n",
    "    distancesFLs.append(great_circle(epicentre,coords).km)\n",
    "distancesFLs = np.array(distancesFLs)"
   ]
  },
  {
   "cell_type": "code",
   "execution_count": 36,
   "metadata": {},
   "outputs": [],
   "source": [
    "disruptionsFLs = calc_impacts(distancesFLs,1.1,1.9)\n",
    "disruptionsDPs = calc_impacts(distancesDPs,1.1,1.9)"
   ]
  },
  {
   "cell_type": "code",
   "execution_count": 60,
   "metadata": {},
   "outputs": [],
   "source": [
    "np.savetxt(\n",
    "    'Nepal/Prepared Input Data/DisruptionFL{}.txt'.format(epicentre_name),\n",
    "    disruptionsFLs)\n",
    "np.savetxt(\n",
    "    'Nepal/Prepared Input Data/DisruptionDP{}.txt'.format(epicentre_name),\n",
    "    disruptionsDPs)\n",
    "# In [3]: b = np.loadtxt('test1.txt', dtype=int)"
   ]
  },
  {
   "cell_type": "code",
   "execution_count": 61,
   "metadata": {},
   "outputs": [],
   "source": [
    "# disruptionsFLs2 = np.loadtxt(\n",
    "#     'Nepal/Prepared Input Data/DisruptionFL{}.txt'.format(epicentre_name))\n",
    "# disruptionsDPs2 = np.loadtxt(\n",
    "#     'Nepal/Prepared Input Data/DisruptionDP{}.txt'.format(epicentre_name))"
   ]
  },
  {
   "cell_type": "markdown",
   "metadata": {},
   "source": [
    "# Save all prepared data"
   ]
  },
  {
   "cell_type": "code",
   "execution_count": 38,
   "metadata": {},
   "outputs": [],
   "source": [
    "case = \"Nepal\"\n",
    "folder = \"Prepared Input Data\""
   ]
  },
  {
   "cell_type": "code",
   "execution_count": 39,
   "metadata": {},
   "outputs": [],
   "source": [
    "time_matrix.to_csv(\n",
    "    \"{}/{}/routing_table.csv\".format(case, folder), index=False)"
   ]
  },
  {
   "cell_type": "code",
   "execution_count": 40,
   "metadata": {},
   "outputs": [],
   "source": [
    "DPs.to_csv(\n",
    "    \"{}/{}/DPs.csv\".format(case, folder), index=False)"
   ]
  },
  {
   "cell_type": "code",
   "execution_count": 41,
   "metadata": {},
   "outputs": [],
   "source": [
    "FLs.to_csv(\n",
    "    \"{}/{}/FLs.csv\".format(case, folder), index=False)"
   ]
  },
  {
   "cell_type": "code",
   "execution_count": 42,
   "metadata": {},
   "outputs": [],
   "source": [
    "SPs.to_csv(\n",
    "    \"{}/{}/SPs.csv\".format(case, folder), index=False)"
   ]
  },
  {
   "cell_type": "code",
   "execution_count": null,
   "metadata": {},
   "outputs": [],
   "source": []
  }
 ],
 "metadata": {
  "kernelspec": {
   "display_name": "Python 3",
   "language": "python",
   "name": "python3"
  },
  "language_info": {
   "codemirror_mode": {
    "name": "ipython",
    "version": 3
   },
   "file_extension": ".py",
   "mimetype": "text/x-python",
   "name": "python",
   "nbconvert_exporter": "python",
   "pygments_lexer": "ipython3",
   "version": "3.6.4"
  },
  "toc": {
   "nav_menu": {},
   "number_sections": true,
   "sideBar": true,
   "skip_h1_title": false,
   "title_cell": "Table of Contents",
   "title_sidebar": "Contents",
   "toc_cell": false,
   "toc_position": {},
   "toc_section_display": true,
   "toc_window_display": false
  }
 },
 "nbformat": 4,
 "nbformat_minor": 2
}
