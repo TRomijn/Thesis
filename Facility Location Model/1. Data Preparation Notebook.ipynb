{
 "cells": [
  {
   "cell_type": "markdown",
   "metadata": {},
   "source": [
    "## Imports"
   ]
  },
  {
   "cell_type": "code",
   "execution_count": 1,
   "metadata": {},
   "outputs": [],
   "source": [
    "import pandas as pd\n",
    "\n",
    "import requests, zipfile, io\n",
    "\n",
    "import osmnx as ox\n",
    "import geopandas as gpd\n",
    "import pandas as pd\n",
    "\n",
    "import folium\n",
    "import os\n",
    "\n",
    "# for routing table:\n",
    "import osrm"
   ]
  },
  {
   "cell_type": "code",
   "execution_count": 2,
   "metadata": {
    "code_folding": [
     0
    ]
   },
   "outputs": [],
   "source": [
    "# %load https://gist.github.com/TRomijn/d9d28ba7b7d5eeac1deea5a26dd326b2/raw/loaded_modules.py\n",
    "\n",
    "'''\n",
    "original author: kinverarity1\n",
    "\n",
    "List loaded modules and packages, and show their version numbers\n",
    "and/or Git repository's HEAD commit SHA.\n",
    "\n",
    "\n",
    "Changes:\n",
    "Minor changes to make compatible with Python 3\n",
    "'''\n",
    "# Standard library modules\n",
    "import types\n",
    "import os\n",
    "\n",
    "# Third-party packages\n",
    "import git      # GitPython\n",
    "\n",
    "\n",
    "def module_path(mod):\n",
    "    '''Returns path to the file that module *mod* comes from.\n",
    "    If it doesn't come from a file, return None.'''\n",
    "    if hasattr(mod, '__file__'):\n",
    "        return os.path.abspath(os.path.dirname(mod.__file__))\n",
    "    else:\n",
    "        return None\n",
    "\n",
    "    \n",
    "def from_git_repo(mod):\n",
    "    '''Does the module *mod* reside in a Git repository?'''\n",
    "    path = module_path(mod)\n",
    "    if path:\n",
    "        try:\n",
    "            repo = git.Repo(path)\n",
    "        except:\n",
    "            return False\n",
    "        else:\n",
    "            return True\n",
    "    else:\n",
    "        return False\n",
    "\n",
    "    \n",
    "def git_path_sha(mod, slice=slice(0, 8, 1)):\n",
    "    '''Return SHA hash for the HEAD commit for the repository\n",
    "    that the module *mod* resides in.'''\n",
    "    repo = git.Repo(module_path(mod))\n",
    "    return repo.git_dir, repo.head.commit.hexsha[:8]\n",
    "\n",
    "\n",
    "def module_version(mod):\n",
    "    '''Return version string for module *mod*, or nothing if\n",
    "    it doesn't have a \"version\" or \"__version__\" attribute.'''\n",
    "    version = []\n",
    "    if hasattr(mod, '__dict__'):\n",
    "        keys = []\n",
    "        for key in mod.__dict__.keys():\n",
    "            if key.lower() == 'version' or key.lower() == '__version__':\n",
    "                v = mod.__dict__[key]\n",
    "                if isinstance(v, str):\n",
    "                    version.append(v)\n",
    "        if keys:\n",
    "            print (mod, keys)\n",
    "    if version:\n",
    "        return ', '.join(version)\n",
    "    else:\n",
    "        return ''\n",
    "\n",
    "    \n",
    "def find_loaded_modules(only_versioned_modules=True):\n",
    "    '''Return list of loaded modules for which there is a version\n",
    "    number or a Git repository commit SHA.\n",
    "    \n",
    "    Return a list of *(name, version, path_to_git_repo, git_head_sha)*,\n",
    "    which has an HTML property for pretty display in IPython Notebooks.\n",
    "        \n",
    "    '''\n",
    "    def list_of_lists_to_HTML(lists, header_row=None):\n",
    "        '''Convert a list of a list of strings to a HTML table.'''\n",
    "        s = '<table>'\n",
    "        if header_row:\n",
    "            s += '\\n\\t<tr>\\n\\t\\t'\n",
    "            s += ''.join(['<th>%s</th>' % item for item in header_row])\n",
    "            s += '\\n\\t</tr>'\n",
    "        for inner_list in lists:\n",
    "            s += '\\n\\t<tr>\\n\\t\\t'\n",
    "            s += ''.join(['<td>%s</td>' % item for item in inner_list])\n",
    "            s += '\\n\\t</tr>'\n",
    "        s += '\\n</table>'\n",
    "        return s\n",
    "    \n",
    "    class LoadedModules(list):\n",
    "        '''Very simple wrapper for a list of lists of strings, with an attribute\n",
    "        for display in IPython Notebooks.'''\n",
    "        def __init__(self, *args, **kwargs):\n",
    "            list.__init__(self, *args, **kwargs)\n",
    "            \n",
    "        @property\n",
    "        def HTML(self):\n",
    "            from IPython.display import HTML\n",
    "            return HTML(\n",
    "                    list_of_lists_to_HTML(\n",
    "                            self, header_row=['Name', 'Version', 'Path', 'SHA']))\n",
    "                    \n",
    "    objs = LoadedModules()\n",
    "    for i, mod in enumerate(globals().values()):\n",
    "        if isinstance(mod, types.ModuleType):\n",
    "            if hasattr(mod, '__name__'):\n",
    "                name = mod.__name__\n",
    "            else:\n",
    "                name = ''\n",
    "            \n",
    "            if from_git_repo(mod):\n",
    "                path, sha = git_path_sha(mod)\n",
    "            else:\n",
    "                path = ''\n",
    "                sha = ''\n",
    "            \n",
    "            version = module_version(mod)\n",
    "            \n",
    "            if only_versioned_modules:\n",
    "                flag = version or (path and sha)\n",
    "            else:\n",
    "                flag = True\n",
    "            \n",
    "            if flag:\n",
    "                objs.append([mod.__name__, version, path, sha])\n",
    "    objs.sort(key=lambda r: r[0])\n",
    "    return objs\n",
    "\n",
    "\n",
    "    \n",
    "    "
   ]
  },
  {
   "cell_type": "code",
   "execution_count": 3,
   "metadata": {},
   "outputs": [
    {
     "data": {
      "text/html": [
       "<table>\n",
       "\t<tr>\n",
       "\t\t<th>Name</th><th>Version</th><th>Path</th><th>SHA</th>\n",
       "\t</tr>\n",
       "\t<tr>\n",
       "\t\t<td>folium</td><td>0.5.0</td><td></td><td></td>\n",
       "\t</tr>\n",
       "\t<tr>\n",
       "\t\t<td>geopandas</td><td>0.3.0</td><td></td><td></td>\n",
       "\t</tr>\n",
       "\t<tr>\n",
       "\t\t<td>git</td><td>2.1.9</td><td></td><td></td>\n",
       "\t</tr>\n",
       "\t<tr>\n",
       "\t\t<td>json</td><td>2.0.9</td><td></td><td></td>\n",
       "\t</tr>\n",
       "\t<tr>\n",
       "\t\t<td>osmnx</td><td>0.8.1</td><td></td><td></td>\n",
       "\t</tr>\n",
       "\t<tr>\n",
       "\t\t<td>osrm</td><td>0.11.1</td><td></td><td></td>\n",
       "\t</tr>\n",
       "\t<tr>\n",
       "\t\t<td>pandas</td><td>0.23.0</td><td></td><td></td>\n",
       "\t</tr>\n",
       "\t<tr>\n",
       "\t\t<td>requests</td><td>2.18.4</td><td></td><td></td>\n",
       "\t</tr>\n",
       "</table>"
      ],
      "text/plain": [
       "<IPython.core.display.HTML object>"
      ]
     },
     "execution_count": 3,
     "metadata": {},
     "output_type": "execute_result"
    }
   ],
   "source": [
    "find_loaded_modules().HTML"
   ]
  },
  {
   "cell_type": "markdown",
   "metadata": {},
   "source": [
    "# Data preparation"
   ]
  },
  {
   "cell_type": "markdown",
   "metadata": {},
   "source": [
    "## Demand Points"
   ]
  },
  {
   "cell_type": "code",
   "execution_count": 6,
   "metadata": {
    "code_folding": [
     0
    ]
   },
   "outputs": [],
   "source": [
    "def get_cities(countrycode, number_of_cities=None, dataset=\"cities5000\"):\n",
    "    \"\"\"\n",
    "    countrycode: string: ISO \"ALPHA-2 Code\"\n",
    "    number_of_cities: integer: number of cities to return, if None: return all\n",
    "    dataset: string: choose from: [\"cities1000\",\"cities5000\",\"cities15000\"]\n",
    "        chooses dataset with all world cities that have minimum that amount of inhabitants.\n",
    "        Obivously, the cities1000 dataset is larger and can take longer to download than the cities15000\n",
    "    \n",
    "    Data is downloaded from: http://download.geonames.org/export/dump/\n",
    "    This Data is licensed under a Creative Commons Attribution 3.0 License\n",
    "    \"\"\"\n",
    "\n",
    "    #     http://download.geonames.org/export/dump/\n",
    "\n",
    "    #     \"cities15000\"\n",
    "\n",
    "    r = requests.get(\n",
    "        \"http://download.geonames.org/export/dump/{}.zip\".format(dataset))\n",
    "    z = zipfile.ZipFile(io.BytesIO(r.content))\n",
    "\n",
    "    #     data_directory = \"../Facility Location Model/Raw_Data\"\n",
    "    #     z.extractall(path=data_directory)\n",
    "\n",
    "    columnnames = [\n",
    "        \"geonameid\", \"name\", \"asciiname\", \"alternatenames\", \"latitude\",\n",
    "        \"longitude\", \"feature class\", \"feature code\", \"country code\", \"cc2\",\n",
    "        \"admin1 code\", \"admin2 code\", \"admin3 code\", \"admin4 code\",\n",
    "        \"population\", \"elevation\", \"dem\", \"timezone\", \"modification date\"\n",
    "    ]\n",
    "\n",
    "    #     NP = pd.read_csv(data_directory+\"/NP.txt\", sep=\"\\t\", header=None)\n",
    "    cities = pd.read_csv(\n",
    "        z.open('{}.txt'.format(dataset)), sep=\"\\t\", names=columnnames)\n",
    "\n",
    "    inCountry = cities[cities['country code'] == countrycode]\n",
    "\n",
    "    inCountry = inCountry.dropna(subset=['population'])\n",
    "\n",
    "    inCountrySorted = inCountry.sort_values(\n",
    "        by='population', ascending=False).reset_index(drop=True)\n",
    "\n",
    "    return inCountrySorted.iloc[0:number_of_cities]"
   ]
  },
  {
   "cell_type": "code",
   "execution_count": 7,
   "metadata": {
    "scrolled": true
   },
   "outputs": [
    {
     "name": "stderr",
     "output_type": "stream",
     "text": [
      "C:\\Users\\timro\\Anaconda3\\lib\\site-packages\\IPython\\core\\interactiveshell.py:2903: DtypeWarning: Columns (13) have mixed types. Specify dtype option on import or set low_memory=False.\n",
      "  if self.run_code(code, result):\n"
     ]
    }
   ],
   "source": [
    "cities = get_cities(\"NP\", 30)"
   ]
  },
  {
   "cell_type": "code",
   "execution_count": 8,
   "metadata": {},
   "outputs": [],
   "source": [
    "DPs = cities[['name','population','latitude','longitude']]"
   ]
  },
  {
   "cell_type": "code",
   "execution_count": 9,
   "metadata": {},
   "outputs": [
    {
     "data": {
      "text/html": [
       "<div>\n",
       "<style scoped>\n",
       "    .dataframe tbody tr th:only-of-type {\n",
       "        vertical-align: middle;\n",
       "    }\n",
       "\n",
       "    .dataframe tbody tr th {\n",
       "        vertical-align: top;\n",
       "    }\n",
       "\n",
       "    .dataframe thead th {\n",
       "        text-align: right;\n",
       "    }\n",
       "</style>\n",
       "<table border=\"1\" class=\"dataframe\">\n",
       "  <thead>\n",
       "    <tr style=\"text-align: right;\">\n",
       "      <th></th>\n",
       "      <th>name</th>\n",
       "      <th>population</th>\n",
       "      <th>latitude</th>\n",
       "      <th>longitude</th>\n",
       "    </tr>\n",
       "  </thead>\n",
       "  <tbody>\n",
       "    <tr>\n",
       "      <th>25</th>\n",
       "      <td>Birendranagar</td>\n",
       "      <td>31381</td>\n",
       "      <td>28.60194</td>\n",
       "      <td>81.63389</td>\n",
       "    </tr>\n",
       "    <tr>\n",
       "      <th>26</th>\n",
       "      <td>Panauti̇̄</td>\n",
       "      <td>27602</td>\n",
       "      <td>27.58453</td>\n",
       "      <td>85.51484</td>\n",
       "    </tr>\n",
       "    <tr>\n",
       "      <th>27</th>\n",
       "      <td>Gaur</td>\n",
       "      <td>27325</td>\n",
       "      <td>26.76448</td>\n",
       "      <td>85.27841</td>\n",
       "    </tr>\n",
       "    <tr>\n",
       "      <th>28</th>\n",
       "      <td>Siraha</td>\n",
       "      <td>24657</td>\n",
       "      <td>26.65422</td>\n",
       "      <td>86.20795</td>\n",
       "    </tr>\n",
       "    <tr>\n",
       "      <th>29</th>\n",
       "      <td>Tānsen</td>\n",
       "      <td>23693</td>\n",
       "      <td>27.86731</td>\n",
       "      <td>83.54670</td>\n",
       "    </tr>\n",
       "  </tbody>\n",
       "</table>\n",
       "</div>"
      ],
      "text/plain": [
       "             name  population  latitude  longitude\n",
       "25  Birendranagar       31381  28.60194   81.63389\n",
       "26      Panauti̇̄       27602  27.58453   85.51484\n",
       "27           Gaur       27325  26.76448   85.27841\n",
       "28         Siraha       24657  26.65422   86.20795\n",
       "29         Tānsen       23693  27.86731   83.54670"
      ]
     },
     "execution_count": 9,
     "metadata": {},
     "output_type": "execute_result"
    }
   ],
   "source": [
    "DPs.tail()"
   ]
  },
  {
   "cell_type": "markdown",
   "metadata": {},
   "source": [
    "### Add remote valleys\n",
    "\n",
    "These remote valleys are not necessarily actually remote valleys. The 5 smallest cities are selected from the database, then  those are called \"remote valleys\"\n",
    "\n",
    "For those smallest cities, there is no population information available. Therefore, they their population value is set on 1.000. Compared to the smallest normal city: it has a population of 23.693"
   ]
  },
  {
   "cell_type": "code",
   "execution_count": 10,
   "metadata": {
    "scrolled": true
   },
   "outputs": [
    {
     "name": "stderr",
     "output_type": "stream",
     "text": [
      "C:\\Users\\timro\\Anaconda3\\lib\\site-packages\\IPython\\core\\interactiveshell.py:2903: DtypeWarning: Columns (13) have mixed types. Specify dtype option on import or set low_memory=False.\n",
      "  if self.run_code(code, result):\n"
     ]
    }
   ],
   "source": [
    "all_cities = get_cities(\"NP\", dataset=\"cities1000\")"
   ]
  },
  {
   "cell_type": "code",
   "execution_count": 11,
   "metadata": {},
   "outputs": [],
   "source": [
    "# Cities are sorted on population\n",
    "valleys = all_cities.tail(5)"
   ]
  },
  {
   "cell_type": "code",
   "execution_count": 12,
   "metadata": {},
   "outputs": [
    {
     "name": "stderr",
     "output_type": "stream",
     "text": [
      "C:\\Users\\timro\\Anaconda3\\lib\\site-packages\\ipykernel_launcher.py:1: SettingWithCopyWarning: \n",
      "A value is trying to be set on a copy of a slice from a DataFrame.\n",
      "Try using .loc[row_indexer,col_indexer] = value instead\n",
      "\n",
      "See the caveats in the documentation: http://pandas.pydata.org/pandas-docs/stable/indexing.html#indexing-view-versus-copy\n",
      "  \"\"\"Entry point for launching an IPython kernel.\n"
     ]
    }
   ],
   "source": [
    "valleys['population'] = 1000"
   ]
  },
  {
   "cell_type": "code",
   "execution_count": 13,
   "metadata": {},
   "outputs": [],
   "source": [
    "DPs = DPs.append(valleys[['name','population','latitude','longitude']])"
   ]
  },
  {
   "cell_type": "code",
   "execution_count": 14,
   "metadata": {},
   "outputs": [
    {
     "data": {
      "text/html": [
       "<div>\n",
       "<style scoped>\n",
       "    .dataframe tbody tr th:only-of-type {\n",
       "        vertical-align: middle;\n",
       "    }\n",
       "\n",
       "    .dataframe tbody tr th {\n",
       "        vertical-align: top;\n",
       "    }\n",
       "\n",
       "    .dataframe thead th {\n",
       "        text-align: right;\n",
       "    }\n",
       "</style>\n",
       "<table border=\"1\" class=\"dataframe\">\n",
       "  <thead>\n",
       "    <tr style=\"text-align: right;\">\n",
       "      <th></th>\n",
       "      <th>name</th>\n",
       "      <th>population</th>\n",
       "      <th>latitude</th>\n",
       "      <th>longitude</th>\n",
       "    </tr>\n",
       "  </thead>\n",
       "  <tbody>\n",
       "    <tr>\n",
       "      <th>29</th>\n",
       "      <td>Tānsen</td>\n",
       "      <td>23693</td>\n",
       "      <td>27.86731</td>\n",
       "      <td>83.54670</td>\n",
       "    </tr>\n",
       "    <tr>\n",
       "      <th>60</th>\n",
       "      <td>Bardiyā</td>\n",
       "      <td>1000</td>\n",
       "      <td>28.30058</td>\n",
       "      <td>81.35360</td>\n",
       "    </tr>\n",
       "    <tr>\n",
       "      <th>61</th>\n",
       "      <td>Rāmechhāp</td>\n",
       "      <td>1000</td>\n",
       "      <td>27.32560</td>\n",
       "      <td>86.08768</td>\n",
       "    </tr>\n",
       "    <tr>\n",
       "      <th>62</th>\n",
       "      <td>Salyān</td>\n",
       "      <td>1000</td>\n",
       "      <td>28.37858</td>\n",
       "      <td>82.17030</td>\n",
       "    </tr>\n",
       "    <tr>\n",
       "      <th>63</th>\n",
       "      <td>Bhaktapur</td>\n",
       "      <td>1000</td>\n",
       "      <td>27.67298</td>\n",
       "      <td>85.43005</td>\n",
       "    </tr>\n",
       "    <tr>\n",
       "      <th>64</th>\n",
       "      <td>Achhām</td>\n",
       "      <td>1000</td>\n",
       "      <td>29.05000</td>\n",
       "      <td>81.30000</td>\n",
       "    </tr>\n",
       "  </tbody>\n",
       "</table>\n",
       "</div>"
      ],
      "text/plain": [
       "         name  population  latitude  longitude\n",
       "29     Tānsen       23693  27.86731   83.54670\n",
       "60    Bardiyā        1000  28.30058   81.35360\n",
       "61  Rāmechhāp        1000  27.32560   86.08768\n",
       "62     Salyān        1000  28.37858   82.17030\n",
       "63  Bhaktapur        1000  27.67298   85.43005\n",
       "64     Achhām        1000  29.05000   81.30000"
      ]
     },
     "execution_count": 14,
     "metadata": {},
     "output_type": "execute_result"
    }
   ],
   "source": [
    "DPs.tail(6)"
   ]
  },
  {
   "cell_type": "markdown",
   "metadata": {},
   "source": [
    "## Facility Locations"
   ]
  },
  {
   "cell_type": "markdown",
   "metadata": {},
   "source": [
    "\n",
    "Select specific places of interest as optional FLs"
   ]
  },
  {
   "cell_type": "code",
   "execution_count": 15,
   "metadata": {
    "code_folding": [
     0
    ],
    "scrolled": true
   },
   "outputs": [],
   "source": [
    "# # if place has multiple parts, select mainland\n",
    "# gdf = ox.gdf_from_place('The Netherlands')\n",
    "# geom = gdf['geometry'].iloc[0]\n",
    "# geom_proj, crs = ox.project_geometry(geom)\n",
    "# area = geom_proj.envelope.area / 1e6\n",
    "\n",
    "# print('{:,.0f} sq km'.format(area))\n",
    "# # gdf.plot()\n",
    "\n",
    "# mainland = max(geom, key=lambda x: x.area)\n",
    "# # or manually check shapes and select\n",
    "# mainland = geom[2]\n",
    "# pois = ox.pois_from_polygon(mainland, amenities=['hospital'])"
   ]
  },
  {
   "cell_type": "code",
   "execution_count": null,
   "metadata": {},
   "outputs": [],
   "source": []
  },
  {
   "cell_type": "code",
   "execution_count": null,
   "metadata": {},
   "outputs": [],
   "source": []
  },
  {
   "cell_type": "code",
   "execution_count": 16,
   "metadata": {},
   "outputs": [],
   "source": [
    "POIs = ox.pois_from_place(place='Nepal', amenities=['hospital'])"
   ]
  },
  {
   "cell_type": "code",
   "execution_count": 17,
   "metadata": {},
   "outputs": [
    {
     "data": {
      "text/plain": [
       "hospital         804\n",
       "pharmacy           2\n",
       "health_post        1\n",
       "parking_space      1\n",
       "atm                1\n",
       "Name: amenity, dtype: int64"
      ]
     },
     "execution_count": 17,
     "metadata": {},
     "output_type": "execute_result"
    }
   ],
   "source": [
    "POIs.amenity.value_counts()"
   ]
  },
  {
   "cell_type": "code",
   "execution_count": 18,
   "metadata": {},
   "outputs": [
    {
     "data": {
      "text/plain": [
       "<matplotlib.axes._subplots.AxesSubplot at 0x273e20f6ac8>"
      ]
     },
     "execution_count": 18,
     "metadata": {},
     "output_type": "execute_result"
    },
    {
     "data": {
      "image/png": "[encoded data removed]",
      "text/plain": [
       "<Figure size 432x288 with 1 Axes>"
      ]
     },
     "metadata": {},
     "output_type": "display_data"
    }
   ],
   "source": [
    "POIs.plot()"
   ]
  },
  {
   "cell_type": "code",
   "execution_count": 19,
   "metadata": {
    "scrolled": false
   },
   "outputs": [],
   "source": [
    "# place = \"Nepal\"\n",
    "# POIs = ox.pois_from_place(place=place)"
   ]
  },
  {
   "cell_type": "code",
   "execution_count": 20,
   "metadata": {
    "scrolled": false
   },
   "outputs": [],
   "source": [
    "hospitals = POIs [POIs.amenity =='hospital']"
   ]
  },
  {
   "cell_type": "code",
   "execution_count": 21,
   "metadata": {},
   "outputs": [],
   "source": [
    "hospitals = hospitals[hospitals.element_type == 'node']"
   ]
  },
  {
   "cell_type": "code",
   "execution_count": 22,
   "metadata": {},
   "outputs": [],
   "source": [
    "hospital_coordinates = pd.DataFrame([point.coords[0] for point in pd.Series(hospitals.geometry)],columns=[\"longitude\",\"latitude\"])"
   ]
  },
  {
   "cell_type": "code",
   "execution_count": 23,
   "metadata": {},
   "outputs": [
    {
     "data": {
      "text/html": [
       "<div>\n",
       "<style scoped>\n",
       "    .dataframe tbody tr th:only-of-type {\n",
       "        vertical-align: middle;\n",
       "    }\n",
       "\n",
       "    .dataframe tbody tr th {\n",
       "        vertical-align: top;\n",
       "    }\n",
       "\n",
       "    .dataframe thead th {\n",
       "        text-align: right;\n",
       "    }\n",
       "</style>\n",
       "<table border=\"1\" class=\"dataframe\">\n",
       "  <thead>\n",
       "    <tr style=\"text-align: right;\">\n",
       "      <th></th>\n",
       "      <th>longitude</th>\n",
       "      <th>latitude</th>\n",
       "    </tr>\n",
       "  </thead>\n",
       "  <tbody>\n",
       "    <tr>\n",
       "      <th>430</th>\n",
       "      <td>87.984007</td>\n",
       "      <td>26.643996</td>\n",
       "    </tr>\n",
       "    <tr>\n",
       "      <th>431</th>\n",
       "      <td>84.879983</td>\n",
       "      <td>27.806481</td>\n",
       "    </tr>\n",
       "    <tr>\n",
       "      <th>432</th>\n",
       "      <td>85.245550</td>\n",
       "      <td>27.987440</td>\n",
       "    </tr>\n",
       "    <tr>\n",
       "      <th>433</th>\n",
       "      <td>85.296484</td>\n",
       "      <td>28.110444</td>\n",
       "    </tr>\n",
       "    <tr>\n",
       "      <th>434</th>\n",
       "      <td>85.321544</td>\n",
       "      <td>27.668370</td>\n",
       "    </tr>\n",
       "  </tbody>\n",
       "</table>\n",
       "</div>"
      ],
      "text/plain": [
       "     longitude   latitude\n",
       "430  87.984007  26.643996\n",
       "431  84.879983  27.806481\n",
       "432  85.245550  27.987440\n",
       "433  85.296484  28.110444\n",
       "434  85.321544  27.668370"
      ]
     },
     "execution_count": 23,
     "metadata": {},
     "output_type": "execute_result"
    }
   ],
   "source": [
    "hospital_coordinates.tail()"
   ]
  },
  {
   "cell_type": "code",
   "execution_count": 45,
   "metadata": {},
   "outputs": [],
   "source": [
    "# hospital_coordinates = hospital_coordinates.sample(30).reset_index(drop=True)"
   ]
  },
  {
   "cell_type": "code",
   "execution_count": null,
   "metadata": {},
   "outputs": [],
   "source": [
    "# \n",
    "# hospital_coordinates.to_csv(\"Some folder / filename.csv\", index=False)"
   ]
  },
  {
   "cell_type": "code",
   "execution_count": 24,
   "metadata": {},
   "outputs": [],
   "source": [
    "hospital_coordinates = pd.read_csv(\"Data/Nepal_Prepared_Data/sample_hospitals.csv\")"
   ]
  },
  {
   "cell_type": "code",
   "execution_count": 25,
   "metadata": {},
   "outputs": [
    {
     "data": {
      "text/html": [
       "<div>\n",
       "<style scoped>\n",
       "    .dataframe tbody tr th:only-of-type {\n",
       "        vertical-align: middle;\n",
       "    }\n",
       "\n",
       "    .dataframe tbody tr th {\n",
       "        vertical-align: top;\n",
       "    }\n",
       "\n",
       "    .dataframe thead th {\n",
       "        text-align: right;\n",
       "    }\n",
       "</style>\n",
       "<table border=\"1\" class=\"dataframe\">\n",
       "  <thead>\n",
       "    <tr style=\"text-align: right;\">\n",
       "      <th></th>\n",
       "      <th>Name</th>\n",
       "      <th>Lat</th>\n",
       "      <th>Lon</th>\n",
       "    </tr>\n",
       "  </thead>\n",
       "  <tbody>\n",
       "    <tr>\n",
       "      <th>15</th>\n",
       "      <td>FLO15</td>\n",
       "      <td>27.994658</td>\n",
       "      <td>84.628128</td>\n",
       "    </tr>\n",
       "    <tr>\n",
       "      <th>16</th>\n",
       "      <td>FLO16</td>\n",
       "      <td>27.674426</td>\n",
       "      <td>85.403768</td>\n",
       "    </tr>\n",
       "    <tr>\n",
       "      <th>17</th>\n",
       "      <td>FLO17</td>\n",
       "      <td>27.711016</td>\n",
       "      <td>85.314744</td>\n",
       "    </tr>\n",
       "    <tr>\n",
       "      <th>18</th>\n",
       "      <td>FLO18</td>\n",
       "      <td>28.185470</td>\n",
       "      <td>83.178350</td>\n",
       "    </tr>\n",
       "    <tr>\n",
       "      <th>19</th>\n",
       "      <td>FLO19</td>\n",
       "      <td>28.753672</td>\n",
       "      <td>81.688045</td>\n",
       "    </tr>\n",
       "  </tbody>\n",
       "</table>\n",
       "</div>"
      ],
      "text/plain": [
       "     Name        Lat        Lon\n",
       "15  FLO15  27.994658  84.628128\n",
       "16  FLO16  27.674426  85.403768\n",
       "17  FLO17  27.711016  85.314744\n",
       "18  FLO18  28.185470  83.178350\n",
       "19  FLO19  28.753672  81.688045"
      ]
     },
     "execution_count": 25,
     "metadata": {},
     "output_type": "execute_result"
    }
   ],
   "source": [
    "FLs = hospital_coordinates\n",
    "FLs['Name'] = ['FLO{}'.format(i) for i in range(FLs.shape[0])]\n",
    "\n",
    "FLs.columns = [\"Lon\",\"Lat\", 'Name']\n",
    "FLs = FLs[['Name', 'Lat', 'Lon']]\n",
    "\n",
    "FLs.tail()"
   ]
  },
  {
   "cell_type": "markdown",
   "metadata": {},
   "source": [
    "## Supply points"
   ]
  },
  {
   "cell_type": "code",
   "execution_count": 26,
   "metadata": {
    "scrolled": true
   },
   "outputs": [],
   "source": [
    "url=\"http://ourairports.com/data/airports.csv\"\n",
    "s=requests.get(url).content\n",
    "airports=pd.read_csv(io.StringIO(s.decode('utf-8')))"
   ]
  },
  {
   "cell_type": "code",
   "execution_count": 27,
   "metadata": {},
   "outputs": [
    {
     "data": {
      "text/plain": [
       "Index(['id', 'ident', 'type', 'name', 'latitude_deg', 'longitude_deg',\n",
       "       'elevation_ft', 'continent', 'iso_country', 'iso_region',\n",
       "       'municipality', 'scheduled_service', 'gps_code', 'iata_code',\n",
       "       'local_code', 'home_link', 'wikipedia_link', 'keywords'],\n",
       "      dtype='object')"
      ]
     },
     "execution_count": 27,
     "metadata": {},
     "output_type": "execute_result"
    }
   ],
   "source": [
    "airports.columns"
   ]
  },
  {
   "cell_type": "code",
   "execution_count": 28,
   "metadata": {},
   "outputs": [],
   "source": [
    "# Select all airports in country\n",
    "airports = airports[airports.iso_country == \"NP\"]"
   ]
  },
  {
   "cell_type": "code",
   "execution_count": 29,
   "metadata": {},
   "outputs": [],
   "source": [
    "# Select airports that are available in country\n",
    "int_airports = airports[airports.name == \"Tribhuvan International Airport\"]"
   ]
  },
  {
   "cell_type": "code",
   "execution_count": 30,
   "metadata": {},
   "outputs": [],
   "source": [
    "SPs = int_airports[[\"name\", \"latitude_deg\", \"longitude_deg\"]]"
   ]
  },
  {
   "cell_type": "code",
   "execution_count": 31,
   "metadata": {},
   "outputs": [
    {
     "data": {
      "text/html": [
       "<div>\n",
       "<style scoped>\n",
       "    .dataframe tbody tr th:only-of-type {\n",
       "        vertical-align: middle;\n",
       "    }\n",
       "\n",
       "    .dataframe tbody tr th {\n",
       "        vertical-align: top;\n",
       "    }\n",
       "\n",
       "    .dataframe thead th {\n",
       "        text-align: right;\n",
       "    }\n",
       "</style>\n",
       "<table border=\"1\" class=\"dataframe\">\n",
       "  <thead>\n",
       "    <tr style=\"text-align: right;\">\n",
       "      <th></th>\n",
       "      <th>name</th>\n",
       "      <th>latitude_deg</th>\n",
       "      <th>longitude_deg</th>\n",
       "    </tr>\n",
       "  </thead>\n",
       "  <tbody>\n",
       "    <tr>\n",
       "      <th>50156</th>\n",
       "      <td>Tribhuvan International Airport</td>\n",
       "      <td>27.6966</td>\n",
       "      <td>85.3591</td>\n",
       "    </tr>\n",
       "  </tbody>\n",
       "</table>\n",
       "</div>"
      ],
      "text/plain": [
       "                                  name  latitude_deg  longitude_deg\n",
       "50156  Tribhuvan International Airport       27.6966        85.3591"
      ]
     },
     "execution_count": 31,
     "metadata": {},
     "output_type": "execute_result"
    }
   ],
   "source": [
    "SPs"
   ]
  },
  {
   "cell_type": "markdown",
   "metadata": {},
   "source": [
    "## Visualisation of nodes"
   ]
  },
  {
   "cell_type": "code",
   "execution_count": 32,
   "metadata": {},
   "outputs": [
    {
     "data": {
      "text/html": [
       "<div>\n",
       "<style scoped>\n",
       "    .dataframe tbody tr th:only-of-type {\n",
       "        vertical-align: middle;\n",
       "    }\n",
       "\n",
       "    .dataframe tbody tr th {\n",
       "        vertical-align: top;\n",
       "    }\n",
       "\n",
       "    .dataframe thead th {\n",
       "        text-align: right;\n",
       "    }\n",
       "</style>\n",
       "<table border=\"1\" class=\"dataframe\">\n",
       "  <thead>\n",
       "    <tr style=\"text-align: right;\">\n",
       "      <th></th>\n",
       "      <th>Name</th>\n",
       "      <th>Lat</th>\n",
       "      <th>Lon</th>\n",
       "    </tr>\n",
       "  </thead>\n",
       "  <tbody>\n",
       "    <tr>\n",
       "      <th>18</th>\n",
       "      <td>FLO18</td>\n",
       "      <td>28.185470</td>\n",
       "      <td>83.178350</td>\n",
       "    </tr>\n",
       "    <tr>\n",
       "      <th>19</th>\n",
       "      <td>FLO19</td>\n",
       "      <td>28.753672</td>\n",
       "      <td>81.688045</td>\n",
       "    </tr>\n",
       "  </tbody>\n",
       "</table>\n",
       "</div>"
      ],
      "text/plain": [
       "     Name        Lat        Lon\n",
       "18  FLO18  28.185470  83.178350\n",
       "19  FLO19  28.753672  81.688045"
      ]
     },
     "execution_count": 32,
     "metadata": {},
     "output_type": "execute_result"
    }
   ],
   "source": [
    "FLs.tail(2)"
   ]
  },
  {
   "cell_type": "code",
   "execution_count": 33,
   "metadata": {},
   "outputs": [
    {
     "data": {
      "text/html": [
       "<div style=\"width:100%;\"><div style=\"position:relative;width:100%;height:0;padding-bottom:60%;\"><iframe src=\"data:text/html;charset=utf-8;base64,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\" style=\"position:absolute;width:100%;height:100%;left:0;top:0;border:none !important;\" allowfullscreen webkitallowfullscreen mozallowfullscreen></iframe></div></div>"
      ],
      "text/plain": [
       "<folium.folium.Map at 0x273e1099160>"
      ]
     },
     "execution_count": 33,
     "metadata": {},
     "output_type": "execute_result"
    }
   ],
   "source": [
    "map1 = folium.Map(\n",
    "    location=[28.3, 84.12], zoom_start=6, tiles='cartodbpositron')\n",
    "\n",
    "DPs.apply(lambda row: folium.CircleMarker(\n",
    "    location=[row['latitude'], row['longitude']],\n",
    "    radius=1, color=\"red\", popup=row['name'] ).add_to(map1), axis=1)\n",
    "\n",
    "SPs.apply(lambda row: folium.CircleMarker(\n",
    "    location=[row['latitude_deg'], row['longitude_deg']],\n",
    "    radius=3, color=\"blue\").add_to(map1), axis=1)\n",
    "\n",
    "FLs.apply(lambda row: folium.CircleMarker(\n",
    "    location=[row['Lat'], row['Lon']],\n",
    "    radius=3, color=\"green\", popup=row['Name']).add_to(map1), axis=1)\n",
    "\n",
    "\n",
    "map1"
   ]
  },
  {
   "cell_type": "markdown",
   "metadata": {},
   "source": [
    "## Routes"
   ]
  },
  {
   "cell_type": "code",
   "execution_count": 34,
   "metadata": {},
   "outputs": [],
   "source": [
    "node_names = [\"SP{}\".format(i) for i, ind in enumerate(SPs.index)] + [\n",
    "    \"FL{}\".format(i) for i, ind in enumerate(FLs.index)\n",
    "] + [\"DP{}\".format(i) for i, ind in enumerate(DPs.index)]\n",
    "\n",
    "node_lats = SPs['latitude_deg'].append(FLs['Lat']).append(\n",
    "    DPs['latitude']).reset_index(drop=True)\n",
    "\n",
    "node_lons = SPs['longitude_deg'].append(FLs['Lon']).append(\n",
    "    DPs['longitude']).reset_index(drop=True)"
   ]
  },
  {
   "cell_type": "code",
   "execution_count": 35,
   "metadata": {},
   "outputs": [
    {
     "name": "stdout",
     "output_type": "stream",
     "text": [
      "\n",
      "Hopefully at future updates of the osrm package, the\n",
      "lat/lon coordinates are loaded correctly. \n",
      "If osrm package is updated: check if time_matrix contains \n",
      "realistic values. if not: try swapping lat/lon coordinate order\n"
     ]
    }
   ],
   "source": [
    "# for some reason the coordinates are incorrectly passed\n",
    "# by this OSRM package\n",
    "print(\"\"\"\n",
    "Hopefully at future updates of the osrm package, the\n",
    "lat/lon coordinates are loaded correctly. \n",
    "If osrm package is updated: check if time_matrix contains \n",
    "realistic values. if not: try swapping lat/lon coordinate order\"\"\"\n",
    "      )\n",
    "list_coords = [\n",
    "    osrm.Point(longitude=lat, latitude=lon)\n",
    "    for lat, lon in zip(node_lats, node_lons)\n",
    "]"
   ]
  },
  {
   "cell_type": "code",
   "execution_count": 36,
   "metadata": {},
   "outputs": [
    {
     "data": {
      "text/plain": [
       "56"
      ]
     },
     "execution_count": 36,
     "metadata": {},
     "output_type": "execute_result"
    }
   ],
   "source": [
    "len(list_coords)"
   ]
  },
  {
   "cell_type": "code",
   "execution_count": null,
   "metadata": {},
   "outputs": [],
   "source": [
    "print(\"Choose to create new file with OSRM API, or to load existing\")"
   ]
  },
  {
   "cell_type": "code",
   "execution_count": 37,
   "metadata": {},
   "outputs": [],
   "source": [
    "osrm.RequestConfig.host = osrm.RequestConfig.host = \"router.project-osrm.org\"\n",
    "\n",
    "# time_matrix, snapped_coords, a = osrm.table(\n",
    "#     list_coords, ids_origin=node_names, output='dataframe')\n",
    "\n",
    "# Load if available:\n",
    "# time_matrix = pd.read_csv(\"test.csv\")\n",
    "# time_matrix.index = node_names"
   ]
  },
  {
   "cell_type": "markdown",
   "metadata": {},
   "source": [
    "# Save all prepared data"
   ]
  },
  {
   "cell_type": "code",
   "execution_count": 38,
   "metadata": {},
   "outputs": [],
   "source": [
    "case = \"Nepal\"\n",
    "folder = \"Prepared Input Data\""
   ]
  },
  {
   "cell_type": "code",
   "execution_count": 39,
   "metadata": {},
   "outputs": [],
   "source": [
    "time_matrix.to_csv(\n",
    "    \"{}/{}/routing_table.csv\".format(case, folder), index=False)"
   ]
  },
  {
   "cell_type": "code",
   "execution_count": 40,
   "metadata": {},
   "outputs": [],
   "source": [
    "DPs.to_csv(\n",
    "    \"{}/{}/DPs.csv\".format(case, folder), index=False)"
   ]
  },
  {
   "cell_type": "code",
   "execution_count": 41,
   "metadata": {},
   "outputs": [],
   "source": [
    "FLs.to_csv(\n",
    "    \"{}/{}/FLs.csv\".format(case, folder), index=False)"
   ]
  },
  {
   "cell_type": "code",
   "execution_count": 42,
   "metadata": {},
   "outputs": [],
   "source": [
    "SPs.to_csv(\n",
    "    \"{}/{}/SPs.csv\".format(case, folder), index=False)"
   ]
  },
  {
   "cell_type": "code",
   "execution_count": null,
   "metadata": {},
   "outputs": [],
   "source": []
  }
 ],
 "metadata": {
  "kernelspec": {
   "display_name": "Python 3",
   "language": "python",
   "name": "python3"
  },
  "language_info": {
   "codemirror_mode": {
    "name": "ipython",
    "version": 3
   },
   "file_extension": ".py",
   "mimetype": "text/x-python",
   "name": "python",
   "nbconvert_exporter": "python",
   "pygments_lexer": "ipython3",
   "version": "3.6.4"
  },
  "toc": {
   "nav_menu": {},
   "number_sections": true,
   "sideBar": true,
   "skip_h1_title": false,
   "title_cell": "Table of Contents",
   "title_sidebar": "Contents",
   "toc_cell": false,
   "toc_position": {},
   "toc_section_display": true,
   "toc_window_display": false
  }
 },
 "nbformat": 4,
 "nbformat_minor": 2
}
