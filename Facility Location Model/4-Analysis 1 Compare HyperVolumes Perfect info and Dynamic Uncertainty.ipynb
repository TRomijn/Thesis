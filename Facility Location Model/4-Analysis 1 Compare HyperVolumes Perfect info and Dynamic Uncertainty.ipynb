{
 "cells": [
  {
   "cell_type": "markdown",
   "metadata": {},
   "source": [
    "TODO before:\n",
    "\n",
    "    Make sure both are optimised while using the same Best Estimate values of the static uncertainty\n",
    "    Use those same Best Estimate values for here."
   ]
  },
  {
   "cell_type": "code",
   "execution_count": 54,
   "metadata": {},
   "outputs": [],
   "source": [
    "import pickle\n",
    "import numpy as np\n",
    "import pandas as pd\n",
    "\n",
    "from geopy.distance import great_circle\n",
    "\n",
    "import pygmo as pg"
   ]
  },
  {
   "cell_type": "code",
   "execution_count": 2,
   "metadata": {},
   "outputs": [],
   "source": [
    "from lib.fl_model_v9 import *"
   ]
  },
  {
   "cell_type": "code",
   "execution_count": null,
   "metadata": {},
   "outputs": [],
   "source": []
  },
  {
   "cell_type": "markdown",
   "metadata": {},
   "source": [
    "# Load Optimised Policies "
   ]
  },
  {
   "cell_type": "code",
   "execution_count": 3,
   "metadata": {},
   "outputs": [],
   "source": [
    "case = \"Nepal\""
   ]
  },
  {
   "cell_type": "markdown",
   "metadata": {},
   "source": [
    "## Load all policies proposed by perfect info"
   ]
  },
  {
   "cell_type": "code",
   "execution_count": 79,
   "metadata": {},
   "outputs": [],
   "source": [
    "# # Store data (serialize)\n",
    "# with open('{}/MOO/rob_nondom_pols_test1.pickle'.format(case),\n",
    "#           'wb') as handle:\n",
    "#     pickle.dump(\n",
    "#         (rob_nondom_pols),\n",
    "#         handle,\n",
    "#         protocol=pickle.HIGHEST_PROTOCOL)\n",
    "    \n",
    "with open('{}/MOO/rob_nondom_pols_test3_norobustnessfilter.pickle'.format(case),\n",
    "          'rb') as handle:\n",
    "    Full_Info_nondom_pols = pickle.load(\n",
    "        handle)"
   ]
  },
  {
   "cell_type": "code",
   "execution_count": 84,
   "metadata": {},
   "outputs": [
    {
     "data": {
      "text/plain": [
       "(72,)"
      ]
     },
     "execution_count": 84,
     "metadata": {},
     "output_type": "execute_result"
    }
   ],
   "source": [
    "Full_Info_nondom_pols.shape"
   ]
  },
  {
   "cell_type": "markdown",
   "metadata": {},
   "source": [
    "## Load all policies proposed by dynamic uncertainty"
   ]
  },
  {
   "cell_type": "code",
   "execution_count": 6,
   "metadata": {},
   "outputs": [],
   "source": [
    "output_folder = \"infov3_4p\""
   ]
  },
  {
   "cell_type": "code",
   "execution_count": 7,
   "metadata": {},
   "outputs": [],
   "source": [
    "with open('{}/{}/python_objects.pickle'.format(case, output_folder),\n",
    "          'rb') as handle:\n",
    "    global_label_tree, EMA_model_dict, global_dfs_var_unc_data, global_fixed_unc, global_policy_tree = pickle.load(\n",
    "        handle)"
   ]
  },
  {
   "cell_type": "code",
   "execution_count": null,
   "metadata": {},
   "outputs": [],
   "source": []
  },
  {
   "cell_type": "code",
   "execution_count": 8,
   "metadata": {},
   "outputs": [],
   "source": [
    "p4_labels = global_label_tree['p4']"
   ]
  },
  {
   "cell_type": "code",
   "execution_count": 9,
   "metadata": {},
   "outputs": [
    {
     "data": {
      "text/plain": [
       "[{'FLO0': 0.0,\n",
       "  'FLO1': 0.0,\n",
       "  'FLO2': 0.0,\n",
       "  'FLO3': 1.0,\n",
       "  'FLO4': 1.0,\n",
       "  'FLO5': 0.0,\n",
       "  'FLO6': 0.0,\n",
       "  'FLO7': 1.0,\n",
       "  'FLO8': 0.0,\n",
       "  'FLO9': 0.0,\n",
       "  'FLO10': 0.0,\n",
       "  'FLO11': 1.0,\n",
       "  'FLO12': 0.0,\n",
       "  'FLO13': 0.0,\n",
       "  'FLO14': 0.0,\n",
       "  'FLO15': 0.0,\n",
       "  'FLO16': 0.0,\n",
       "  'FLO17': 0.0,\n",
       "  'FLO18': 0.0,\n",
       "  'FLO19': 0.0}]"
      ]
     },
     "execution_count": 9,
     "metadata": {},
     "output_type": "execute_result"
    }
   ],
   "source": [
    "[global_policy_tree[p4_labels[0]]]"
   ]
  },
  {
   "cell_type": "code",
   "execution_count": 10,
   "metadata": {},
   "outputs": [],
   "source": [
    "p4_pols = [global_policy_tree[label] for label in p4_labels]"
   ]
  },
  {
   "cell_type": "code",
   "execution_count": 11,
   "metadata": {},
   "outputs": [],
   "source": [
    "p4_pols = np.array(p4_pols)"
   ]
  },
  {
   "cell_type": "code",
   "execution_count": 12,
   "metadata": {},
   "outputs": [
    {
     "name": "stdout",
     "output_type": "stream",
     "text": [
      "P4 after Multi-Period Robust Optimisation contains (1351,) number of policies\n"
     ]
    }
   ],
   "source": [
    "print(\"P4 after Multi-Period Robust Optimisation contains {} number of policies\".format((p4_pols.shape)))"
   ]
  },
  {
   "cell_type": "code",
   "execution_count": 13,
   "metadata": {},
   "outputs": [],
   "source": [
    "p4_FLs = np.array([[int(key[3:]) for key,value in pol.items() if value == 1] for pol in p4_pols])"
   ]
  },
  {
   "cell_type": "code",
   "execution_count": 14,
   "metadata": {},
   "outputs": [],
   "source": [
    "p4_FLs = np.unique(p4_FLs,axis=0)"
   ]
  },
  {
   "cell_type": "code",
   "execution_count": 15,
   "metadata": {},
   "outputs": [
    {
     "name": "stdout",
     "output_type": "stream",
     "text": [
      "Of all 1351 policies, 190 are unique, the rest are duplicates\n"
     ]
    }
   ],
   "source": [
    "print(\"Of all {} policies, {} are unique, the rest are duplicates\".format(p4_pols.shape[0],p4_FLs.shape[0]))"
   ]
  },
  {
   "cell_type": "code",
   "execution_count": 16,
   "metadata": {},
   "outputs": [],
   "source": [
    "p4_pols_unique = [{\"FLO{}\".format(i):1 if i in p4_FLs[j] else 0 for i in range(len(p4_pols[0].keys()))} for j in range(len(p4_FLs))]"
   ]
  },
  {
   "cell_type": "code",
   "execution_count": 17,
   "metadata": {},
   "outputs": [
    {
     "data": {
      "text/plain": [
       "190"
      ]
     },
     "execution_count": 17,
     "metadata": {},
     "output_type": "execute_result"
    }
   ],
   "source": [
    "len(p4_pols_unique)"
   ]
  },
  {
   "cell_type": "markdown",
   "metadata": {},
   "source": [
    "    Compare on hypervolume to see what part of the pareto front is found by mpmordm\n",
    "    \n",
    "    If hypervolumes are roughly the same: the question is: what is the possibility that a DM would have chosen from the pareto front?\n",
    "\n",
    "\n",
    "\n"
   ]
  },
  {
   "cell_type": "code",
   "execution_count": null,
   "metadata": {},
   "outputs": [],
   "source": []
  },
  {
   "cell_type": "code",
   "execution_count": null,
   "metadata": {},
   "outputs": [],
   "source": []
  },
  {
   "cell_type": "code",
   "execution_count": null,
   "metadata": {},
   "outputs": [],
   "source": []
  },
  {
   "cell_type": "code",
   "execution_count": null,
   "metadata": {},
   "outputs": [],
   "source": []
  },
  {
   "cell_type": "markdown",
   "metadata": {},
   "source": [
    "# Compare on best estimate performance"
   ]
  },
  {
   "cell_type": "markdown",
   "metadata": {
    "code_folding": []
   },
   "source": [
    "## Set parameters of best estimates. Should be the same as used for "
   ]
  },
  {
   "cell_type": "code",
   "execution_count": 18,
   "metadata": {},
   "outputs": [],
   "source": [
    "Fix_Unc = pd.read_csv(\"{}/Prepared Input Data/fixed_uncertainties.csv\".format(case), index_col=0)\n",
    "\n",
    "DPs = pd.read_csv(\"Nepal/Prepared Input Data/DPs.csv\")\n",
    "# DPs.columns\n",
    "\n",
    "FLs = pd.read_csv(\"Nepal/Prepared Input Data/FLs.csv\")\n",
    "# FLs.columns\n",
    "\n",
    "SPs = pd.read_csv(\"Nepal/Prepared Input Data/SPs.csv\")\n",
    "# SPs.columns\n",
    "\n",
    "# 0. Instantiate\n",
    "\n",
    "# General\n",
    "# Coordinates\n",
    "# all large cities to demand points\n",
    "DPY = {\"DPY{}\".format(i): y for i,y in enumerate(DPs['latitude'])}\n",
    "DPX = {\"DPX{}\".format(i): x for i,x in enumerate(DPs['longitude'])}\n",
    "\n",
    "# all international airports to supply points:\n",
    "SPY = {\"SPY{}\".format(i): y for i,y in enumerate(SPs['latitude_deg'])}\n",
    "SPX = {\"SPX{}\".format(i): x for i,x in enumerate(SPs['longitude_deg'])}\n",
    "\n",
    "# Facility locations\n",
    "FLX = {\"FLX{}\".format(i): x for i,x in enumerate(FLs['Lon'])}\n",
    "FLY = {\"FLY{}\".format(i): y for i,y in enumerate(FLs['Lat'])}\n",
    "\n",
    "\n",
    "# Population demand points\n",
    "DPpop = {\"DPpop{}\".format(i): pop for i,pop in enumerate(DPs['population'])}\n"
   ]
  },
  {
   "cell_type": "code",
   "execution_count": 19,
   "metadata": {},
   "outputs": [
    {
     "data": {
      "text/html": [
       "<div>\n",
       "<style scoped>\n",
       "    .dataframe tbody tr th:only-of-type {\n",
       "        vertical-align: middle;\n",
       "    }\n",
       "\n",
       "    .dataframe tbody tr th {\n",
       "        vertical-align: top;\n",
       "    }\n",
       "\n",
       "    .dataframe thead th {\n",
       "        text-align: right;\n",
       "    }\n",
       "</style>\n",
       "<table border=\"1\" class=\"dataframe\">\n",
       "  <thead>\n",
       "    <tr style=\"text-align: right;\">\n",
       "      <th></th>\n",
       "      <th>lower</th>\n",
       "      <th>best_estimate</th>\n",
       "      <th>upper</th>\n",
       "    </tr>\n",
       "    <tr>\n",
       "      <th>var</th>\n",
       "      <th></th>\n",
       "      <th></th>\n",
       "      <th></th>\n",
       "    </tr>\n",
       "  </thead>\n",
       "  <tbody>\n",
       "    <tr>\n",
       "      <th>unit_opening_costs</th>\n",
       "      <td>50.0</td>\n",
       "      <td>100</td>\n",
       "      <td>200</td>\n",
       "    </tr>\n",
       "    <tr>\n",
       "      <th>unit_transport_cost</th>\n",
       "      <td>0.5</td>\n",
       "      <td>1</td>\n",
       "      <td>2</td>\n",
       "    </tr>\n",
       "    <tr>\n",
       "      <th>FL_operations_cost</th>\n",
       "      <td>20.0</td>\n",
       "      <td>30</td>\n",
       "      <td>50</td>\n",
       "    </tr>\n",
       "    <tr>\n",
       "      <th>FL_range</th>\n",
       "      <td>2.0</td>\n",
       "      <td>4</td>\n",
       "      <td>6</td>\n",
       "    </tr>\n",
       "    <tr>\n",
       "      <th>demand_per_affected</th>\n",
       "      <td>10.0</td>\n",
       "      <td>20</td>\n",
       "      <td>50</td>\n",
       "    </tr>\n",
       "  </tbody>\n",
       "</table>\n",
       "</div>"
      ],
      "text/plain": [
       "                     lower  best_estimate  upper\n",
       "var                                             \n",
       "unit_opening_costs    50.0            100    200\n",
       "unit_transport_cost    0.5              1      2\n",
       "FL_operations_cost    20.0             30     50\n",
       "FL_range               2.0              4      6\n",
       "demand_per_affected   10.0             20     50"
      ]
     },
     "execution_count": 19,
     "metadata": {},
     "output_type": "execute_result"
    }
   ],
   "source": [
    "Fix_Unc"
   ]
  },
  {
   "cell_type": "code",
   "execution_count": 20,
   "metadata": {},
   "outputs": [
    {
     "name": "stdout",
     "output_type": "stream",
     "text": [
      "Pick right Epicentre, or load disruption data\n",
      "TODO: Load disruption\n"
     ]
    }
   ],
   "source": [
    "print(\"Pick right Epicentre, or load disruption data\")\n",
    "print(\"TODO: Load disruption\")"
   ]
  },
  {
   "cell_type": "code",
   "execution_count": 21,
   "metadata": {},
   "outputs": [],
   "source": [
    "epicentre_name = \"RealLocation\""
   ]
  },
  {
   "cell_type": "code",
   "execution_count": 22,
   "metadata": {},
   "outputs": [],
   "source": [
    "disruptionsFLs = np.loadtxt(\n",
    "    'Nepal/Prepared Input Data/DisruptionFL{}.txt'.format(epicentre_name))\n",
    "disruptionsDPs = np.loadtxt(\n",
    "    'Nepal/Prepared Input Data/DisruptionDP{}.txt'.format(epicentre_name))"
   ]
  },
  {
   "cell_type": "code",
   "execution_count": 23,
   "metadata": {},
   "outputs": [],
   "source": [
    "# Base real values on Nepal earthquake\n",
    "# DSR is abbreviation for Disruption\n",
    "\n",
    "DSRDP = {\"DSRDP{}\".format(i): disruptionsDPs[i] for i in range(len(DPX))}\n",
    "DSRFL = {\"DSRFL{}\".format(i): disruptionsFLs[i] for i in range(len(FLX))}"
   ]
  },
  {
   "cell_type": "markdown",
   "metadata": {},
   "source": [
    "## Evaluate PerfectInfoPols under best estimates of static uncertainty"
   ]
  },
  {
   "cell_type": "code",
   "execution_count": 24,
   "metadata": {},
   "outputs": [
    {
     "data": {
      "text/plain": [
       "(72,)"
      ]
     },
     "execution_count": 24,
     "metadata": {},
     "output_type": "execute_result"
    }
   ],
   "source": [
    "Full_Info_rob_nondom_pols.shape"
   ]
  },
  {
   "cell_type": "code",
   "execution_count": 25,
   "metadata": {},
   "outputs": [],
   "source": [
    "perfect_info_best_est_results = []\n",
    "for pol in Full_Info_nondom_pols:\n",
    "    perfect_info_best_est_results.append(\n",
    "        FL_model(\n",
    "            unit_opening_costs=Fix_Unc.best_estimate['unit_opening_costs'],\n",
    "            unit_transport_cost=Fix_Unc.best_estimate['unit_transport_cost'],\n",
    "            FL_operations_cost=Fix_Unc.best_estimate['FL_operations_cost'],\n",
    "            demand_per_affected=Fix_Unc.best_estimate['demand_per_affected'],\n",
    "            graphical_representation=False,\n",
    "            FL_range=Fix_Unc.best_estimate['FL_range'],\n",
    "            dist_method='from_table',\n",
    "            table_dir=\"{}/Prepared Input Data/routing_table.csv\".format(case),\n",
    "            **SPX,\n",
    "            **SPY,\n",
    "            **DPX,\n",
    "            **DPY,\n",
    "            **FLX,\n",
    "            **FLY,\n",
    "            **pol,\n",
    "            **DSRDP,\n",
    "            **DSRFL,\n",
    "            **DPpop))"
   ]
  },
  {
   "cell_type": "code",
   "execution_count": 26,
   "metadata": {},
   "outputs": [],
   "source": [
    "perfect_info_best_est_results = np.array(perfect_info_best_est_results)"
   ]
  },
  {
   "cell_type": "markdown",
   "metadata": {},
   "source": [
    "## Evaluate DynamicUncPols under best estimates of static uncertainty"
   ]
  },
  {
   "cell_type": "code",
   "execution_count": 27,
   "metadata": {
    "scrolled": true
   },
   "outputs": [
    {
     "data": {
      "text/plain": [
       "190"
      ]
     },
     "execution_count": 27,
     "metadata": {},
     "output_type": "execute_result"
    }
   ],
   "source": [
    "len(p4_pols_unique)"
   ]
  },
  {
   "cell_type": "code",
   "execution_count": 28,
   "metadata": {},
   "outputs": [],
   "source": [
    "Dyn_Unc_best_est_results = []\n",
    "for pol in p4_pols_unique:\n",
    "    Dyn_Unc_best_est_results.append(\n",
    "        FL_model(\n",
    "            unit_opening_costs=Fix_Unc.best_estimate['unit_opening_costs'],\n",
    "            unit_transport_cost=Fix_Unc.best_estimate['unit_transport_cost'],\n",
    "            FL_operations_cost=Fix_Unc.best_estimate['FL_operations_cost'],\n",
    "            demand_per_affected=Fix_Unc.best_estimate['demand_per_affected'],\n",
    "            graphical_representation=False,\n",
    "            FL_range=Fix_Unc.best_estimate['FL_range'],\n",
    "            dist_method='from_table',\n",
    "            table_dir=\"{}/Prepared Input Data/routing_table.csv\".format(case),\n",
    "            **SPX,\n",
    "            **SPY,\n",
    "            **DPX,\n",
    "            **DPY,\n",
    "            **FLX,\n",
    "            **FLY,\n",
    "            **pol,\n",
    "            **DSRDP,\n",
    "            **DSRFL,\n",
    "            **DPpop))"
   ]
  },
  {
   "cell_type": "code",
   "execution_count": null,
   "metadata": {},
   "outputs": [],
   "source": []
  },
  {
   "cell_type": "markdown",
   "metadata": {},
   "source": [
    "## Check for both if pareto set"
   ]
  },
  {
   "cell_type": "code",
   "execution_count": 29,
   "metadata": {},
   "outputs": [],
   "source": [
    "import lib.pareto as pareto\n"
   ]
  },
  {
   "cell_type": "markdown",
   "metadata": {},
   "source": [
    "### Full Info"
   ]
  },
  {
   "cell_type": "code",
   "execution_count": 30,
   "metadata": {},
   "outputs": [
    {
     "data": {
      "text/plain": [
       "(72, 6)"
      ]
     },
     "execution_count": 30,
     "metadata": {},
     "output_type": "execute_result"
    }
   ],
   "source": [
    "pd.DataFrame(perfect_info_best_est_results).shape"
   ]
  },
  {
   "cell_type": "code",
   "execution_count": 31,
   "metadata": {},
   "outputs": [],
   "source": [
    "PerfInfPF = np.array(pareto.eps_sort(\n",
    "    [list(pd.DataFrame(perfect_info_best_est_results).itertuples(index=True))], [1, 2, 3, 4],\n",
    "    [1e-9, 1e-9, 1e-9, 1e-9]))"
   ]
  },
  {
   "cell_type": "code",
   "execution_count": 32,
   "metadata": {},
   "outputs": [],
   "source": [
    "PerfInfPF = PerfInfPF[:,1:5]"
   ]
  },
  {
   "cell_type": "code",
   "execution_count": 33,
   "metadata": {},
   "outputs": [
    {
     "data": {
      "text/plain": [
       "(72, 4)"
      ]
     },
     "execution_count": 33,
     "metadata": {},
     "output_type": "execute_result"
    }
   ],
   "source": [
    "PerfInfPF.shape"
   ]
  },
  {
   "cell_type": "markdown",
   "metadata": {},
   "source": [
    "### Dyn Uncertainty"
   ]
  },
  {
   "cell_type": "code",
   "execution_count": 34,
   "metadata": {
    "scrolled": true
   },
   "outputs": [
    {
     "data": {
      "text/plain": [
       "(190, 6)"
      ]
     },
     "execution_count": 34,
     "metadata": {},
     "output_type": "execute_result"
    }
   ],
   "source": [
    "pd.DataFrame(Dyn_Unc_best_est_results).shape"
   ]
  },
  {
   "cell_type": "code",
   "execution_count": 35,
   "metadata": {},
   "outputs": [],
   "source": [
    "DynUncPF = np.array(pareto.eps_sort(\n",
    "    [list(pd.DataFrame(Dyn_Unc_best_est_results).itertuples(index=True))], [1, 2, 3, 4],\n",
    "    [1e-9, 1e-9, 1e-9, 1e-9]))"
   ]
  },
  {
   "cell_type": "code",
   "execution_count": 36,
   "metadata": {},
   "outputs": [],
   "source": [
    "DynUncPF = DynUncPF[:,1:5]"
   ]
  },
  {
   "cell_type": "code",
   "execution_count": 37,
   "metadata": {},
   "outputs": [
    {
     "data": {
      "text/plain": [
       "(68, 4)"
      ]
     },
     "execution_count": 37,
     "metadata": {},
     "output_type": "execute_result"
    }
   ],
   "source": [
    "DynUncPF.shape"
   ]
  },
  {
   "cell_type": "markdown",
   "metadata": {
    "heading_collapsed": true
   },
   "source": [
    "## Calculate hypervolumes of both Pareto Sets"
   ]
  },
  {
   "cell_type": "markdown",
   "metadata": {
    "hidden": true
   },
   "source": [
    "### Normalise "
   ]
  },
  {
   "cell_type": "code",
   "execution_count": 38,
   "metadata": {
    "hidden": true
   },
   "outputs": [
    {
     "data": {
      "text/html": [
       "<div>\n",
       "<style scoped>\n",
       "    .dataframe tbody tr th:only-of-type {\n",
       "        vertical-align: middle;\n",
       "    }\n",
       "\n",
       "    .dataframe tbody tr th {\n",
       "        vertical-align: top;\n",
       "    }\n",
       "\n",
       "    .dataframe thead th {\n",
       "        text-align: right;\n",
       "    }\n",
       "</style>\n",
       "<table border=\"1\" class=\"dataframe\">\n",
       "  <thead>\n",
       "    <tr style=\"text-align: right;\">\n",
       "      <th></th>\n",
       "      <th>0</th>\n",
       "      <th>1</th>\n",
       "      <th>2</th>\n",
       "      <th>3</th>\n",
       "    </tr>\n",
       "    <tr>\n",
       "      <th>Set</th>\n",
       "      <th></th>\n",
       "      <th></th>\n",
       "      <th></th>\n",
       "      <th></th>\n",
       "    </tr>\n",
       "  </thead>\n",
       "  <tbody>\n",
       "    <tr>\n",
       "      <th>PerfectInfo</th>\n",
       "      <td>47386.8</td>\n",
       "      <td>21</td>\n",
       "      <td>14245.9</td>\n",
       "      <td>59777.4</td>\n",
       "    </tr>\n",
       "    <tr>\n",
       "      <th>PerfectInfo</th>\n",
       "      <td>210171</td>\n",
       "      <td>14</td>\n",
       "      <td>4799.8</td>\n",
       "      <td>45920.2</td>\n",
       "    </tr>\n",
       "  </tbody>\n",
       "</table>\n",
       "</div>"
      ],
      "text/plain": [
       "                   0   1        2        3\n",
       "Set                                       \n",
       "PerfectInfo  47386.8  21  14245.9  59777.4\n",
       "PerfectInfo   210171  14   4799.8  45920.2"
      ]
     },
     "execution_count": 38,
     "metadata": {},
     "output_type": "execute_result"
    }
   ],
   "source": [
    "df_PerfInfPF = pd.DataFrame(PerfInfPF)\n",
    "\n",
    "df_PerfInfPF['Set'] = \"PerfectInfo\"\n",
    "\n",
    "df_PerfInfPF = df_PerfInfPF.set_index('Set')\n",
    "\n",
    "df_PerfInfPF.head(2)"
   ]
  },
  {
   "cell_type": "code",
   "execution_count": 39,
   "metadata": {
    "hidden": true
   },
   "outputs": [
    {
     "data": {
      "text/html": [
       "<div>\n",
       "<style scoped>\n",
       "    .dataframe tbody tr th:only-of-type {\n",
       "        vertical-align: middle;\n",
       "    }\n",
       "\n",
       "    .dataframe tbody tr th {\n",
       "        vertical-align: top;\n",
       "    }\n",
       "\n",
       "    .dataframe thead th {\n",
       "        text-align: right;\n",
       "    }\n",
       "</style>\n",
       "<table border=\"1\" class=\"dataframe\">\n",
       "  <thead>\n",
       "    <tr style=\"text-align: right;\">\n",
       "      <th></th>\n",
       "      <th>0</th>\n",
       "      <th>1</th>\n",
       "      <th>2</th>\n",
       "      <th>3</th>\n",
       "    </tr>\n",
       "    <tr>\n",
       "      <th>Set</th>\n",
       "      <th></th>\n",
       "      <th></th>\n",
       "      <th></th>\n",
       "      <th></th>\n",
       "    </tr>\n",
       "  </thead>\n",
       "  <tbody>\n",
       "    <tr>\n",
       "      <th>DynamicUncertainty</th>\n",
       "      <td>26690.9</td>\n",
       "      <td>24</td>\n",
       "      <td>15967.1</td>\n",
       "      <td>84488</td>\n",
       "    </tr>\n",
       "    <tr>\n",
       "      <th>DynamicUncertainty</th>\n",
       "      <td>89526.5</td>\n",
       "      <td>15</td>\n",
       "      <td>11582.4</td>\n",
       "      <td>59777.4</td>\n",
       "    </tr>\n",
       "  </tbody>\n",
       "</table>\n",
       "</div>"
      ],
      "text/plain": [
       "                          0   1        2        3\n",
       "Set                                              \n",
       "DynamicUncertainty  26690.9  24  15967.1    84488\n",
       "DynamicUncertainty  89526.5  15  11582.4  59777.4"
      ]
     },
     "execution_count": 39,
     "metadata": {},
     "output_type": "execute_result"
    }
   ],
   "source": [
    "df_DynUncPF = pd.DataFrame(DynUncPF)\n",
    "\n",
    "df_DynUncPF['Set'] = \"DynamicUncertainty\"\n",
    "\n",
    "df_DynUncPF = df_DynUncPF.set_index('Set')\n",
    "\n",
    "df_DynUncPF.head(2)"
   ]
  },
  {
   "cell_type": "code",
   "execution_count": 40,
   "metadata": {
    "hidden": true
   },
   "outputs": [],
   "source": [
    "dfs_nonnormalised = pd.concat((df_DynUncPF,df_PerfInfPF))"
   ]
  },
  {
   "cell_type": "code",
   "execution_count": 41,
   "metadata": {
    "hidden": true
   },
   "outputs": [],
   "source": [
    "def normalise_df (df):\n",
    "    normalised_df=(df-df.min())/(df.max()-df.min())\n",
    "    return normalised_df"
   ]
  },
  {
   "cell_type": "code",
   "execution_count": 42,
   "metadata": {
    "hidden": true
   },
   "outputs": [],
   "source": [
    "dfs_normalised = normalise_df(dfs_nonnormalised)"
   ]
  },
  {
   "cell_type": "code",
   "execution_count": 43,
   "metadata": {
    "hidden": true
   },
   "outputs": [],
   "source": [
    "df_DynUncPF_normalised = dfs_normalised[dfs_normalised.index == 'DynamicUncertainty']"
   ]
  },
  {
   "cell_type": "code",
   "execution_count": 44,
   "metadata": {
    "hidden": true
   },
   "outputs": [],
   "source": [
    "df_PerfInfPF_normalised = dfs_normalised[dfs_normalised.index == 'PerfectInfo']"
   ]
  },
  {
   "cell_type": "markdown",
   "metadata": {
    "hidden": true
   },
   "source": [
    "### Dynamic Uncertainty"
   ]
  },
  {
   "cell_type": "code",
   "execution_count": 45,
   "metadata": {
    "hidden": true
   },
   "outputs": [
    {
     "data": {
      "text/plain": [
       "array([1., 1., 1., 1.])"
      ]
     },
     "execution_count": 45,
     "metadata": {},
     "output_type": "execute_result"
    }
   ],
   "source": [
    "df_DynUncPF_normalised.values.astype(float).max(axis=0)"
   ]
  },
  {
   "cell_type": "code",
   "execution_count": 46,
   "metadata": {
    "hidden": true
   },
   "outputs": [],
   "source": [
    "ref_point = [1,1,1,1]"
   ]
  },
  {
   "cell_type": "code",
   "execution_count": 47,
   "metadata": {
    "hidden": true
   },
   "outputs": [],
   "source": [
    "hvDynUnc = pg.hypervolume(df_DynUncPF_normalised.values.astype(float))"
   ]
  },
  {
   "cell_type": "code",
   "execution_count": 48,
   "metadata": {
    "hidden": true
   },
   "outputs": [
    {
     "data": {
      "text/plain": [
       "0.5105584579890514"
      ]
     },
     "execution_count": 48,
     "metadata": {},
     "output_type": "execute_result"
    }
   ],
   "source": [
    "hvDynUnc.compute(ref_point)"
   ]
  },
  {
   "cell_type": "code",
   "execution_count": 56,
   "metadata": {
    "hidden": true
   },
   "outputs": [
    {
     "data": {
      "text/plain": [
       "0.0005060927631837258"
      ]
     },
     "execution_count": 56,
     "metadata": {},
     "output_type": "execute_result"
    }
   ],
   "source": [
    "hvDynUnc.contributions(ref_point).mean()"
   ]
  },
  {
   "cell_type": "code",
   "execution_count": 62,
   "metadata": {
    "hidden": true
   },
   "outputs": [
    {
     "data": {
      "text/plain": [
       "0.03441430789649336"
      ]
     },
     "execution_count": 62,
     "metadata": {},
     "output_type": "execute_result"
    }
   ],
   "source": [
    "hvDynUnc.contributions(ref_point).sum()"
   ]
  },
  {
   "cell_type": "markdown",
   "metadata": {
    "hidden": true
   },
   "source": [
    "### Perfect Info"
   ]
  },
  {
   "cell_type": "code",
   "execution_count": 50,
   "metadata": {
    "hidden": true
   },
   "outputs": [
    {
     "data": {
      "text/plain": [
       "array([1., 1., 1., 1.])"
      ]
     },
     "execution_count": 50,
     "metadata": {},
     "output_type": "execute_result"
    }
   ],
   "source": [
    "df_PerfInfPF_normalised.values.astype(float).max(axis=0)"
   ]
  },
  {
   "cell_type": "markdown",
   "metadata": {
    "hidden": true
   },
   "source": [
    "Interesting: First Objective, with perfect info, is never as bad as the dynamic uncertainty.\n",
    "\n",
    "Maybe, because the first objective is most sensitive to the large uncertainty.\n",
    "\n",
    "Not if we leave out robustness filtering!"
   ]
  },
  {
   "cell_type": "code",
   "execution_count": 51,
   "metadata": {
    "hidden": true
   },
   "outputs": [],
   "source": [
    "hvPerfInfo = pg.hypervolume(df_PerfInfPF_normalised.values.astype(float))"
   ]
  },
  {
   "cell_type": "code",
   "execution_count": 52,
   "metadata": {
    "hidden": true
   },
   "outputs": [
    {
     "data": {
      "text/plain": [
       "0.5105858833019313"
      ]
     },
     "execution_count": 52,
     "metadata": {},
     "output_type": "execute_result"
    }
   ],
   "source": [
    "hvPerfInfo.compute(ref_point)"
   ]
  },
  {
   "cell_type": "code",
   "execution_count": 57,
   "metadata": {
    "hidden": true
   },
   "outputs": [
    {
     "data": {
      "text/plain": [
       "0.0004780366247039685"
      ]
     },
     "execution_count": 57,
     "metadata": {},
     "output_type": "execute_result"
    }
   ],
   "source": [
    "hvPerfInfo.contributions(ref_point).mean()"
   ]
  },
  {
   "cell_type": "code",
   "execution_count": 59,
   "metadata": {
    "hidden": true
   },
   "outputs": [
    {
     "data": {
      "text/plain": [
       "0.03441863697868573"
      ]
     },
     "execution_count": 59,
     "metadata": {},
     "output_type": "execute_result"
    }
   ],
   "source": [
    "hvPerfInfo.contributions(ref_point).sum()"
   ]
  },
  {
   "cell_type": "markdown",
   "metadata": {},
   "source": [
    "## Compare hypervolumes of both Pareto Sets"
   ]
  },
  {
   "cell_type": "code",
   "execution_count": 55,
   "metadata": {},
   "outputs": [
    {
     "data": {
      "text/plain": [
       "2.742531287991401e-05"
      ]
     },
     "execution_count": 55,
     "metadata": {},
     "output_type": "execute_result"
    }
   ],
   "source": [
    "hvPerfInfo.compute(ref_point) - hvDynUnc.compute(ref_point)"
   ]
  },
  {
   "cell_type": "markdown",
   "metadata": {},
   "source": [
    "# Check percentage of options in Pareto front"
   ]
  },
  {
   "cell_type": "markdown",
   "metadata": {},
   "source": [
    "## Prepare"
   ]
  },
  {
   "cell_type": "code",
   "execution_count": 71,
   "metadata": {},
   "outputs": [
    {
     "data": {
      "text/plain": [
       "(1351,)"
      ]
     },
     "execution_count": 71,
     "metadata": {},
     "output_type": "execute_result"
    }
   ],
   "source": [
    "p4_pols.shape"
   ]
  },
  {
   "cell_type": "code",
   "execution_count": 75,
   "metadata": {},
   "outputs": [],
   "source": [
    "p4_FLs = np.array([[int(key[3:]) for key,value in pol.items() if value == 1] for pol in p4_pols])"
   ]
  },
  {
   "cell_type": "code",
   "execution_count": 76,
   "metadata": {},
   "outputs": [
    {
     "data": {
      "text/plain": [
       "(1351, 4)"
      ]
     },
     "execution_count": 76,
     "metadata": {},
     "output_type": "execute_result"
    }
   ],
   "source": [
    "p4_FLs.shape"
   ]
  },
  {
   "cell_type": "code",
   "execution_count": null,
   "metadata": {},
   "outputs": [],
   "source": []
  },
  {
   "cell_type": "code",
   "execution_count": null,
   "metadata": {},
   "outputs": [],
   "source": []
  },
  {
   "cell_type": "code",
   "execution_count": 86,
   "metadata": {},
   "outputs": [
    {
     "data": {
      "text/plain": [
       "(72,)"
      ]
     },
     "execution_count": 86,
     "metadata": {},
     "output_type": "execute_result"
    }
   ],
   "source": [
    "Full_Info_nondom_pols.shape"
   ]
  },
  {
   "cell_type": "code",
   "execution_count": 87,
   "metadata": {},
   "outputs": [],
   "source": [
    "FullInf_FLs = np.array([[int(key[3:]) for key,value in pol.items() if value == 1] for pol in Full_Info_nondom_pols])"
   ]
  },
  {
   "cell_type": "code",
   "execution_count": 90,
   "metadata": {},
   "outputs": [
    {
     "data": {
      "text/plain": [
       "(72, 4)"
      ]
     },
     "execution_count": 90,
     "metadata": {},
     "output_type": "execute_result"
    }
   ],
   "source": [
    "FullInf_FLs.shape"
   ]
  },
  {
   "cell_type": "code",
   "execution_count": 104,
   "metadata": {
    "scrolled": true
   },
   "outputs": [
    {
     "data": {
      "text/plain": [
       "[[14, 15, 16, 19],\n",
       " [12, 14, 16, 19],\n",
       " [12, 14, 15, 19],\n",
       " [12, 13, 16, 19],\n",
       " [11, 13, 16, 19],\n",
       " [11, 12, 13, 16],\n",
       " [8, 14, 16, 19],\n",
       " [8, 12, 16, 19],\n",
       " [8, 12, 14, 19],\n",
       " [8, 12, 14, 16],\n",
       " [8, 12, 13, 16],\n",
       " [7, 14, 15, 16],\n",
       " [7, 13, 16, 19],\n",
       " [7, 12, 16, 19],\n",
       " [7, 12, 14, 19],\n",
       " [7, 12, 14, 16],\n",
       " [7, 12, 14, 15],\n",
       " [7, 12, 13, 19],\n",
       " [7, 12, 13, 16],\n",
       " [7, 11, 16, 19],\n",
       " [7, 11, 13, 19],\n",
       " [7, 11, 13, 16],\n",
       " [7, 11, 12, 19],\n",
       " [7, 11, 12, 13],\n",
       " [7, 9, 12, 19],\n",
       " [7, 8, 16, 19],\n",
       " [7, 8, 14, 19],\n",
       " [7, 8, 14, 16],\n",
       " [7, 8, 12, 19],\n",
       " [7, 8, 12, 16],\n",
       " [7, 8, 12, 14],\n",
       " [4, 11, 13, 16],\n",
       " [4, 8, 13, 16],\n",
       " [4, 7, 16, 19],\n",
       " [4, 7, 14, 19],\n",
       " [3, 15, 16, 19],\n",
       " [3, 14, 16, 19],\n",
       " [3, 14, 15, 19],\n",
       " [3, 14, 15, 16],\n",
       " [3, 13, 16, 19],\n",
       " [3, 13, 14, 19],\n",
       " [3, 12, 15, 16],\n",
       " [3, 12, 14, 19],\n",
       " [3, 12, 14, 16],\n",
       " [3, 12, 14, 15],\n",
       " [3, 12, 13, 19],\n",
       " [3, 12, 13, 16],\n",
       " [3, 12, 13, 14],\n",
       " [3, 11, 16, 19],\n",
       " [3, 11, 14, 19],\n",
       " [3, 11, 13, 19],\n",
       " [3, 11, 13, 16],\n",
       " [3, 11, 13, 14],\n",
       " [3, 11, 12, 13],\n",
       " [3, 8, 14, 19],\n",
       " [3, 8, 14, 16],\n",
       " [3, 8, 12, 14],\n",
       " [3, 8, 12, 13],\n",
       " [3, 8, 11, 13],\n",
       " [3, 7, 15, 16],\n",
       " [3, 7, 14, 15],\n",
       " [3, 7, 13, 19],\n",
       " [3, 7, 12, 14],\n",
       " [3, 7, 12, 13],\n",
       " [3, 7, 11, 19],\n",
       " [3, 7, 11, 16],\n",
       " [3, 7, 11, 14],\n",
       " [3, 7, 11, 13],\n",
       " [3, 7, 8, 14],\n",
       " [3, 4, 11, 13],\n",
       " [3, 4, 8, 13],\n",
       " [1, 3, 14, 16]]"
      ]
     },
     "execution_count": 104,
     "metadata": {},
     "output_type": "execute_result"
    }
   ],
   "source": [
    "FullInf_FLs.tolist()"
   ]
  },
  {
   "cell_type": "markdown",
   "metadata": {},
   "source": [
    "## Do analysis"
   ]
  },
  {
   "cell_type": "code",
   "execution_count": 124,
   "metadata": {},
   "outputs": [
    {
     "data": {
      "text/plain": [
       "(1351, 4)"
      ]
     },
     "execution_count": 124,
     "metadata": {},
     "output_type": "execute_result"
    }
   ],
   "source": [
    "p4_FLs.shape"
   ]
  },
  {
   "cell_type": "code",
   "execution_count": 115,
   "metadata": {
    "collapsed": true
   },
   "outputs": [
    {
     "name": "stdout",
     "output_type": "stream",
     "text": [
      "True [ 4  7 14 19]\n",
      "True [ 4  7 16 19]\n",
      "True [ 4  7 14 19]\n",
      "True [ 4  7 16 19]\n",
      "True [ 3  7 11 13]\n",
      "True [ 3  7 11 14]\n",
      "True [ 3  7 11 16]\n",
      "True [ 3  7 11 19]\n",
      "True [ 7 11 12 19]\n",
      "True [ 3  7 11 16]\n",
      "True [ 7 11 13 16]\n",
      "True [ 7 11 16 19]\n",
      "True [ 3  7 11 19]\n",
      "True [ 7 11 12 19]\n",
      "True [ 7 11 13 19]\n",
      "True [ 7 11 16 19]\n",
      "True [ 3  7 11 13]\n",
      "True [ 3  7 12 13]\n",
      "True [ 3  7 13 19]\n",
      "True [ 3  7 11 13]\n",
      "True [ 7 11 12 13]\n",
      "True [ 7 11 13 16]\n",
      "True [ 7 11 13 19]\n",
      "True [ 3  7 12 13]\n",
      "True [ 7 12 13 16]\n",
      "True [ 7 12 13 19]\n",
      "True [ 7 11 13 16]\n",
      "True [ 7 12 13 16]\n",
      "True [ 7 13 16 19]\n",
      "True [ 3  7 13 19]\n",
      "True [ 7 11 13 19]\n",
      "True [ 7 12 13 19]\n",
      "True [ 7 13 16 19]\n",
      "True [ 3  7 11 14]\n",
      "True [ 3  7 12 14]\n",
      "True [ 3  7 14 15]\n",
      "True [ 3  7 11 14]\n",
      "True [ 3  7 12 14]\n",
      "True [ 7 12 14 16]\n",
      "True [ 7 12 14 19]\n",
      "True [ 3  7 14 15]\n",
      "True [ 7 12 14 15]\n",
      "True [ 7 14 15 16]\n",
      "True [ 7 12 14 16]\n",
      "True [ 7 14 15 16]\n",
      "True [ 7 12 14 19]\n",
      "True [ 3  7 11 16]\n",
      "True [ 7 11 13 16]\n",
      "True [ 7 11 16 19]\n",
      "True [ 7 12 13 16]\n",
      "True [ 7 12 14 16]\n",
      "True [ 7 12 16 19]\n",
      "True [ 7 12 14 16]\n",
      "True [ 7 14 15 16]\n",
      "True [ 3  7 15 16]\n",
      "True [ 4  7 16 19]\n",
      "True [ 7 11 16 19]\n",
      "True [ 7 12 16 19]\n",
      "True [ 7 13 16 19]\n",
      "True [ 3  7 11 19]\n",
      "True [ 7 11 12 19]\n",
      "True [ 7 11 13 19]\n",
      "True [ 7 11 16 19]\n",
      "True [ 7  9 12 19]\n",
      "True [ 7 12 14 19]\n",
      "True [ 3  7 13 19]\n",
      "True [ 7 11 13 19]\n",
      "True [ 7 12 13 19]\n",
      "True [ 7 13 16 19]\n",
      "True [ 4  7 14 19]\n",
      "True [ 7  8 14 19]\n",
      "True [ 7 12 14 19]\n",
      "True [ 4  7 16 19]\n",
      "True [ 7 11 16 19]\n",
      "True [ 7 12 16 19]\n",
      "True [ 7 13 16 19]\n",
      "True [ 3  7  8 14]\n",
      "True [ 7  8 12 14]\n",
      "True [ 7  8 14 16]\n",
      "True [ 7  8 14 19]\n",
      "True [ 7  8 12 16]\n",
      "True [ 7  8 14 16]\n",
      "True [ 7  8 16 19]\n",
      "True [ 7  8 12 19]\n",
      "True [ 7  8 14 19]\n",
      "True [ 7  8 16 19]\n",
      "True [ 3  7  8 14]\n",
      "True [ 3  8 12 14]\n",
      "True [ 3  8 14 16]\n",
      "True [ 3  8 14 19]\n",
      "True [ 3  7  8 14]\n",
      "True [ 7  8 12 14]\n",
      "True [ 7  8 14 16]\n",
      "True [ 7  8 14 19]\n",
      "True [ 3  8 12 14]\n",
      "True [ 7  8 12 14]\n",
      "True [ 8 12 14 16]\n",
      "True [ 8 12 14 19]\n",
      "True [ 3  8 14 16]\n",
      "True [ 7  8 14 16]\n",
      "True [ 8 12 14 16]\n",
      "True [ 8 14 16 19]\n",
      "True [ 3  8 14 19]\n",
      "True [ 7  8 14 19]\n",
      "True [ 8 12 14 19]\n",
      "True [ 8 14 16 19]\n",
      "True [ 7  8 12 16]\n",
      "True [ 7  8 14 16]\n",
      "True [ 7  8 16 19]\n",
      "True [ 7  8 12 16]\n",
      "True [ 8 12 13 16]\n",
      "True [ 8 12 14 16]\n",
      "True [ 8 12 16 19]\n",
      "True [ 8 12 13 16]\n",
      "True [ 3  8 14 16]\n",
      "True [ 7  8 14 16]\n",
      "True [ 8 12 14 16]\n",
      "True [ 8 14 16 19]\n",
      "True [ 7  8 16 19]\n",
      "True [ 8 12 16 19]\n",
      "True [ 8 14 16 19]\n",
      "True [ 7  8 12 19]\n",
      "True [ 8 12 14 19]\n",
      "True [ 8 12 16 19]\n",
      "True [ 3  8 14 19]\n",
      "True [ 7  8 14 19]\n",
      "True [ 8 12 14 19]\n",
      "True [ 8 14 16 19]\n",
      "True [ 3  7 11 13]\n",
      "True [ 3  7 11 14]\n",
      "True [ 3  7 11 16]\n",
      "True [ 3  7 11 19]\n",
      "True [ 3  8 11 13]\n",
      "True [ 3 11 12 13]\n",
      "True [ 3  7 11 13]\n",
      "True [ 3  8 11 13]\n",
      "True [ 3 11 12 13]\n",
      "True [ 3 11 13 14]\n",
      "True [ 3 11 13 16]\n",
      "True [ 3 11 13 19]\n",
      "True [ 3  7 11 14]\n",
      "True [ 3 11 13 14]\n",
      "True [ 3 11 14 19]\n",
      "True [ 3  7 11 16]\n",
      "True [ 3 11 13 16]\n",
      "True [ 3 11 16 19]\n",
      "True [ 3  7 11 19]\n",
      "True [ 3 11 13 19]\n",
      "True [ 3 11 14 19]\n",
      "True [ 3 11 16 19]\n",
      "True [ 3  7 11 13]\n",
      "True [ 3  7 11 14]\n",
      "True [ 3  7 11 16]\n",
      "True [ 3  7 11 19]\n",
      "True [ 7 11 12 19]\n",
      "True [ 3  7 11 16]\n",
      "True [ 7 11 13 16]\n",
      "True [ 7 11 16 19]\n",
      "True [ 3  7 11 19]\n",
      "True [ 7 11 12 19]\n",
      "True [ 7 11 13 19]\n",
      "True [ 7 11 16 19]\n",
      "True [ 3  8 11 13]\n",
      "True [ 3 11 12 13]\n",
      "True [ 7 11 12 19]\n",
      "True [11 12 13 16]\n",
      "True [ 7 11 12 19]\n",
      "True [ 3  7 11 16]\n",
      "True [ 3 11 13 16]\n",
      "True [ 3 11 16 19]\n",
      "True [ 3  7 11 16]\n",
      "True [ 7 11 13 16]\n",
      "True [ 7 11 16 19]\n",
      "True [11 12 13 16]\n",
      "True [ 3 11 13 16]\n",
      "True [ 7 11 13 16]\n",
      "True [11 12 13 16]\n",
      "True [11 13 16 19]\n",
      "True [ 3 11 16 19]\n",
      "True [ 7 11 16 19]\n",
      "True [11 13 16 19]\n",
      "True [ 3  7 11 19]\n",
      "True [ 3 11 13 19]\n",
      "True [ 3 11 14 19]\n",
      "True [ 3 11 16 19]\n",
      "True [ 3  7 11 19]\n",
      "True [ 7 11 12 19]\n",
      "True [ 7 11 13 19]\n",
      "True [ 7 11 16 19]\n",
      "True [ 7 11 12 19]\n",
      "True [ 3 11 13 19]\n",
      "True [ 7 11 13 19]\n",
      "True [11 13 16 19]\n",
      "True [ 3 11 16 19]\n",
      "True [ 7 11 16 19]\n",
      "True [11 13 16 19]\n",
      "True [ 3  7 11 13]\n",
      "True [ 3  7 12 13]\n",
      "True [ 3  7 13 19]\n",
      "True [ 3  8 11 13]\n",
      "True [ 3  8 12 13]\n",
      "True [ 3  7 11 13]\n",
      "True [ 3  8 11 13]\n",
      "True [ 3 11 12 13]\n",
      "True [ 3 11 13 14]\n",
      "True [ 3 11 13 16]\n",
      "True [ 3 11 13 19]\n",
      "True [ 3  7 12 13]\n",
      "True [ 3  8 12 13]\n",
      "True [ 3 11 12 13]\n",
      "True [ 3 12 13 14]\n",
      "True [ 3 12 13 16]\n",
      "True [ 3 12 13 19]\n",
      "True [ 3 11 13 14]\n",
      "True [ 3 12 13 14]\n",
      "True [ 3 13 14 19]\n",
      "True [ 3 11 13 16]\n",
      "True [ 3 12 13 16]\n",
      "True [ 3 13 16 19]\n",
      "True [ 3  7 13 19]\n",
      "True [ 3 11 13 19]\n",
      "True [ 3 12 13 19]\n",
      "True [ 3 13 14 19]\n",
      "True [ 3 13 16 19]\n",
      "True [ 3  7 11 13]\n",
      "True [ 3  7 12 13]\n",
      "True [ 3  7 13 19]\n",
      "True [ 3  7 11 13]\n",
      "True [ 7 11 12 13]\n",
      "True [ 7 11 13 16]\n",
      "True [ 7 11 13 19]\n",
      "True [ 3  7 12 13]\n",
      "True [ 7 12 13 16]\n",
      "True [ 7 12 13 19]\n",
      "True [ 7 11 13 16]\n",
      "True [ 7 12 13 16]\n",
      "True [ 7 13 16 19]\n",
      "True [ 3  7 13 19]\n",
      "True [ 7 11 13 19]\n",
      "True [ 7 12 13 19]\n",
      "True [ 7 13 16 19]\n",
      "True [ 3  8 11 13]\n",
      "True [ 3  8 12 13]\n",
      "True [ 3  8 12 13]\n",
      "True [ 8 12 13 16]\n",
      "True [ 8 12 13 16]\n",
      "True [ 3  7 11 13]\n",
      "True [ 3  8 11 13]\n",
      "True [ 3 11 12 13]\n",
      "True [ 3 11 13 14]\n",
      "True [ 3 11 13 16]\n",
      "True [ 3 11 13 19]\n",
      "True [ 3  7 11 13]\n",
      "True [ 7 11 12 13]\n",
      "True [ 7 11 13 16]\n",
      "True [ 7 11 13 19]\n",
      "True [ 3  8 11 13]\n",
      "True [ 3 11 12 13]\n",
      "True [ 7 11 12 13]\n",
      "True [11 12 13 16]\n",
      "True [ 3 11 13 16]\n",
      "True [ 7 11 13 16]\n",
      "True [11 12 13 16]\n",
      "True [11 13 16 19]\n",
      "True [ 3 11 13 19]\n",
      "True [ 7 11 13 19]\n",
      "True [11 13 16 19]\n",
      "True [ 3  7 12 13]\n",
      "True [ 3  8 12 13]\n",
      "True [ 3 11 12 13]\n",
      "True [ 3 12 13 14]\n",
      "True [ 3 12 13 16]\n",
      "True [ 3 12 13 19]\n",
      "True [ 3  7 12 13]\n",
      "True [ 7 12 13 16]\n",
      "True [ 7 12 13 19]\n",
      "True [ 3  8 12 13]\n",
      "True [ 8 12 13 16]\n",
      "True [ 3 11 12 13]\n",
      "True [ 7 11 12 13]\n",
      "True [11 12 13 16]\n",
      "True [ 3 12 13 16]\n",
      "True [ 7 12 13 16]\n",
      "True [ 8 12 13 16]\n",
      "True [11 12 13 16]\n",
      "True [12 13 16 19]\n",
      "True [ 3 12 13 19]\n",
      "True [ 7 12 13 19]\n",
      "True [12 13 16 19]\n",
      "True [ 3 11 13 16]\n",
      "True [ 3 12 13 16]\n",
      "True [ 3 13 16 19]\n",
      "True [ 7 11 13 16]\n",
      "True [ 7 12 13 16]\n",
      "True [ 7 13 16 19]\n",
      "True [ 8 12 13 16]\n",
      "True [ 3 11 13 16]\n",
      "True [ 7 11 13 16]\n",
      "True [11 12 13 16]\n",
      "True [11 13 16 19]\n",
      "True [ 3 12 13 16]\n",
      "True [ 7 12 13 16]\n",
      "True [ 8 12 13 16]\n",
      "True [11 12 13 16]\n",
      "True [12 13 16 19]\n",
      "True [ 3 13 16 19]\n",
      "True [ 7 13 16 19]\n",
      "True [11 13 16 19]\n",
      "True [12 13 16 19]\n",
      "True [ 3  7 13 19]\n",
      "True [ 3 11 13 19]\n",
      "True [ 3 12 13 19]\n",
      "True [ 3 13 14 19]\n",
      "True [ 3 13 16 19]\n",
      "True [ 3  7 13 19]\n",
      "True [ 7 11 13 19]\n",
      "True [ 7 12 13 19]\n",
      "True [ 7 13 16 19]\n",
      "True [ 3 11 13 19]\n",
      "True [ 7 11 13 19]\n",
      "True [11 13 16 19]\n",
      "True [ 3 12 13 19]\n",
      "True [ 7 12 13 19]\n",
      "True [12 13 16 19]\n",
      "True [ 3 13 16 19]\n",
      "True [ 7 13 16 19]\n",
      "True [11 13 16 19]\n",
      "True [12 13 16 19]\n",
      "True [ 3  7 11 14]\n",
      "True [ 3  7 12 14]\n",
      "True [ 3  7 14 15]\n",
      "True [ 3  7  8 14]\n",
      "True [ 3  8 12 14]\n",
      "True [ 3  8 14 16]\n",
      "True [ 3  8 14 19]\n",
      "True [ 3  7 11 14]\n",
      "True [ 3 11 13 14]\n",
      "True [ 3 11 14 19]\n",
      "True [ 3  7 12 14]\n",
      "True [ 3  8 12 14]\n",
      "True [ 3 12 13 14]\n",
      "True [ 3 12 14 16]\n",
      "True [ 3 12 14 19]\n",
      "True [ 3 11 13 14]\n",
      "True [ 3 12 13 14]\n",
      "True [ 3 13 14 19]\n",
      "True [ 3  7 14 15]\n",
      "True [ 3 12 14 15]\n",
      "True [ 3 14 15 16]\n",
      "True [ 3 14 15 19]\n",
      "True [ 1  3 14 16]\n",
      "True [ 3  8 14 16]\n",
      "True [ 3 12 14 16]\n",
      "True [ 3 14 15 16]\n",
      "True [ 3 14 16 19]\n",
      "True [ 3 11 14 19]\n",
      "True [ 3 12 14 19]\n",
      "True [ 3 13 14 19]\n",
      "True [ 3 14 15 19]\n",
      "True [ 3 14 16 19]\n",
      "True [ 3  7 11 14]\n",
      "True [ 3  7 12 14]\n",
      "True [ 3  7 14 15]\n",
      "True [ 3  7 11 14]\n",
      "True [ 3  7 12 14]\n",
      "True [ 7 12 14 16]\n",
      "True [ 7 12 14 19]\n",
      "True [ 3  7 14 15]\n",
      "True [ 7 12 14 15]\n",
      "True [ 7 14 15 16]\n",
      "True [ 7 12 14 16]\n",
      "True [ 7 14 15 16]\n",
      "True [ 7 12 14 19]\n",
      "True [ 3  7  8 14]\n",
      "True [ 3  8 12 14]\n",
      "True [ 3  8 14 16]\n",
      "True [ 3  8 14 19]\n",
      "True [ 3  7  8 14]\n",
      "True [ 7  8 12 14]\n",
      "True [ 7  8 14 16]\n",
      "True [ 7  8 14 19]\n",
      "True [ 3  8 12 14]\n",
      "True [ 7  8 12 14]\n",
      "True [ 8 12 14 16]\n",
      "True [ 8 12 14 19]\n",
      "True [ 3  8 14 16]\n",
      "True [ 7  8 14 16]\n",
      "True [ 8 12 14 16]\n",
      "True [ 8 14 16 19]\n",
      "True [ 3  8 14 19]\n",
      "True [ 7  8 14 19]\n",
      "True [ 8 12 14 19]\n",
      "True [ 8 14 16 19]\n",
      "True [ 3  7 11 14]\n",
      "True [ 3 11 13 14]\n",
      "True [ 3 11 14 19]\n",
      "True [ 3  7 11 14]\n",
      "True [ 3 11 13 14]\n",
      "True [ 3 11 14 19]\n",
      "True [ 3  7 12 14]\n",
      "True [ 3  8 12 14]\n",
      "True [ 3 12 13 14]\n",
      "True [ 3 12 14 16]\n",
      "True [ 3 12 14 19]\n",
      "True [ 3  7 12 14]\n",
      "True [ 7 12 14 16]\n",
      "True [ 7 12 14 19]\n",
      "True [ 3  8 12 14]\n",
      "True [ 7  8 12 14]\n",
      "True [ 8 12 14 16]\n",
      "True [ 8 12 14 19]\n",
      "True [ 3 12 13 14]\n",
      "True [ 3 12 14 16]\n",
      "True [ 7 12 14 16]\n",
      "True [ 8 12 14 16]\n",
      "True [12 14 16 19]\n",
      "True [ 3 12 14 19]\n",
      "True [ 7 12 14 19]\n",
      "True [12 14 16 19]\n",
      "True [ 3 11 13 14]\n",
      "True [ 3 12 13 14]\n",
      "True [ 3 13 14 19]\n",
      "True [ 3 11 13 14]\n",
      "True [ 3 12 13 14]\n",
      "True [ 3 13 14 19]\n",
      "True [ 3  7 14 15]\n",
      "True [ 3 12 14 15]\n",
      "True [ 3 14 15 16]\n",
      "True [ 3 14 15 19]\n",
      "True [ 3  7 14 15]\n",
      "True [ 7 12 14 15]\n",
      "True [ 7 14 15 16]\n",
      "True [ 3 12 14 15]\n",
      "True [ 7 12 14 15]\n",
      "True [12 14 15 19]\n",
      "True [ 3 14 15 16]\n",
      "True [ 7 14 15 16]\n",
      "True [14 15 16 19]\n",
      "True [ 3 14 15 19]\n",
      "True [12 14 15 19]\n",
      "True [14 15 16 19]\n",
      "True [ 1  3 14 16]\n",
      "True [ 3  8 14 16]\n",
      "True [ 3 12 14 16]\n",
      "True [ 3 14 15 16]\n",
      "True [ 3 14 16 19]\n",
      "True [ 7 12 14 16]\n",
      "True [ 7 14 15 16]\n",
      "True [ 3  8 14 16]\n",
      "True [ 7  8 14 16]\n",
      "True [ 8 12 14 16]\n",
      "True [ 8 14 16 19]\n",
      "True [ 3 12 14 16]\n",
      "True [ 7 12 14 16]\n",
      "True [ 8 12 14 16]\n",
      "True [12 14 16 19]\n",
      "True [ 3 14 15 16]\n",
      "True [ 7 14 15 16]\n",
      "True [14 15 16 19]\n",
      "True [ 3 14 16 19]\n",
      "True [12 14 16 19]\n",
      "True [14 15 16 19]\n",
      "True [ 3 11 14 19]\n",
      "True [ 3 12 14 19]\n",
      "True [ 3 13 14 19]\n",
      "True [ 3 14 15 19]\n",
      "True [ 3 14 16 19]\n",
      "True [ 4  7 14 19]\n",
      "True [ 7 12 14 19]\n",
      "True [ 3 11 14 19]\n",
      "True [ 3 12 14 19]\n",
      "True [ 7 12 14 19]\n",
      "True [12 14 16 19]\n",
      "True [ 3 13 14 19]\n",
      "True [ 3 14 15 19]\n",
      "True [12 14 15 19]\n",
      "True [14 15 16 19]\n",
      "True [ 3 14 16 19]\n",
      "True [12 14 16 19]\n",
      "True [14 15 16 19]\n",
      "True [ 3  7 11 16]\n",
      "True [ 7 11 13 16]\n",
      "True [ 7 11 16 19]\n",
      "True [ 7 12 13 16]\n",
      "True [ 7 12 14 16]\n",
      "True [ 7 12 16 19]\n",
      "True [ 7 11 13 16]\n",
      "True [ 7 12 13 16]\n",
      "True [ 7 13 16 19]\n",
      "True [ 7 12 14 16]\n",
      "True [ 7 14 15 16]\n",
      "True [ 3  7 15 16]\n",
      "True [ 4  7 16 19]\n",
      "True [ 7 11 16 19]\n",
      "True [ 7 12 16 19]\n",
      "True [ 7 13 16 19]\n",
      "True [ 7  8 12 16]\n",
      "True [ 7  8 14 16]\n",
      "True [ 7  8 16 19]\n",
      "True [ 7  8 12 16]\n",
      "True [ 8 12 13 16]\n",
      "True [ 8 12 14 16]\n",
      "True [ 8 12 16 19]\n",
      "True [ 8 12 13 16]\n",
      "True [ 3  8 14 16]\n",
      "True [ 7  8 14 16]\n",
      "True [ 8 12 14 16]\n",
      "True [ 8 14 16 19]\n",
      "True [ 7  8 16 19]\n",
      "True [ 8 12 16 19]\n",
      "True [ 8 14 16 19]\n",
      "True [ 3  7 11 16]\n",
      "True [ 3 11 13 16]\n",
      "True [ 3 11 16 19]\n",
      "True [ 3  7 11 16]\n",
      "True [ 7 11 13 16]\n",
      "True [ 7 11 16 19]\n",
      "True [11 12 13 16]\n",
      "True [ 3 11 13 16]\n",
      "True [ 7 11 13 16]\n",
      "True [11 12 13 16]\n",
      "True [11 13 16 19]\n",
      "True [ 3 11 16 19]\n",
      "True [ 7 11 16 19]\n",
      "True [11 13 16 19]\n",
      "True [ 7 12 13 16]\n",
      "True [ 7 12 14 16]\n",
      "True [ 7 12 16 19]\n",
      "True [ 7  8 12 16]\n",
      "True [ 8 12 13 16]\n",
      "True [ 8 12 14 16]\n",
      "True [ 8 12 16 19]\n",
      "True [11 12 13 16]\n",
      "True [ 3 12 13 16]\n",
      "True [ 7 12 13 16]\n",
      "True [ 8 12 13 16]\n",
      "True [11 12 13 16]\n",
      "True [12 13 16 19]\n",
      "True [ 3 12 14 16]\n",
      "True [ 7 12 14 16]\n",
      "True [ 8 12 14 16]\n",
      "True [12 14 16 19]\n",
      "True [ 3 12 15 16]\n",
      "True [ 7 12 16 19]\n",
      "True [12 13 16 19]\n",
      "True [12 14 16 19]\n",
      "True [ 1  3 14 16]\n",
      "True [ 3  8 14 16]\n",
      "True [ 3 12 14 16]\n",
      "True [ 3 14 15 16]\n",
      "True [ 3 14 16 19]\n",
      "True [ 7 12 14 16]\n",
      "True [ 7 14 15 16]\n",
      "True [ 3  8 14 16]\n",
      "True [ 7  8 14 16]\n",
      "True [ 8 12 14 16]\n",
      "True [ 8 14 16 19]\n",
      "True [ 3 12 14 16]\n",
      "True [ 7 12 14 16]\n",
      "True [ 8 12 14 16]\n",
      "True [12 14 16 19]\n",
      "True [ 3 14 15 16]\n",
      "True [ 7 14 15 16]\n",
      "True [14 15 16 19]\n",
      "True [ 3 14 16 19]\n",
      "True [12 14 16 19]\n",
      "True [14 15 16 19]\n",
      "True [ 3  7 15 16]\n",
      "True [ 3 12 15 16]\n",
      "True [ 3 14 15 16]\n",
      "True [ 3 15 16 19]\n",
      "True [ 3  7 15 16]\n",
      "True [ 3 12 15 16]\n",
      "True [ 3 15 16 19]\n",
      "True [14 15 16 19]\n",
      "True [ 4  7 16 19]\n",
      "True [ 4  7 16 19]\n",
      "True [ 7 11 16 19]\n",
      "True [ 7 12 16 19]\n",
      "True [ 7 13 16 19]\n",
      "True [ 3 11 16 19]\n",
      "True [ 7 11 16 19]\n",
      "True [11 13 16 19]\n",
      "True [ 7 12 16 19]\n",
      "True [12 13 16 19]\n",
      "True [12 14 16 19]\n"
     ]
    },
    {
     "name": "stdout",
     "output_type": "stream",
     "text": [
      "True [ 3 13 16 19]\n",
      "True [ 7 13 16 19]\n",
      "True [11 13 16 19]\n",
      "True [12 13 16 19]\n",
      "True [ 3 14 16 19]\n",
      "True [12 14 16 19]\n",
      "True [14 15 16 19]\n",
      "True [ 3 15 16 19]\n",
      "True [14 15 16 19]\n",
      "True [ 3  7 11 19]\n",
      "True [ 3 11 13 19]\n",
      "True [ 3 11 14 19]\n",
      "True [ 3 11 16 19]\n",
      "True [ 3  7 11 19]\n",
      "True [ 7 11 12 19]\n",
      "True [ 7 11 13 19]\n",
      "True [ 7 11 16 19]\n",
      "True [ 7 11 12 19]\n",
      "True [ 3 11 13 19]\n",
      "True [ 7 11 13 19]\n",
      "True [11 13 16 19]\n",
      "True [ 3 11 16 19]\n",
      "True [ 7 11 16 19]\n",
      "True [11 13 16 19]\n",
      "True [ 7  9 12 19]\n",
      "True [ 7 12 14 19]\n",
      "True [ 7  9 12 19]\n",
      "True [ 3 12 14 19]\n",
      "True [ 7 12 14 19]\n",
      "True [ 8 12 14 19]\n",
      "True [12 14 15 19]\n",
      "True [12 14 16 19]\n",
      "True [ 7 12 16 19]\n",
      "True [12 13 16 19]\n",
      "True [12 14 16 19]\n",
      "True [ 3  7 13 19]\n",
      "True [ 3 11 13 19]\n",
      "True [ 3 12 13 19]\n",
      "True [ 3 13 14 19]\n",
      "True [ 3 13 16 19]\n",
      "True [ 3  7 13 19]\n",
      "True [ 7 11 13 19]\n",
      "True [ 7 12 13 19]\n",
      "True [ 7 13 16 19]\n",
      "True [ 3 11 13 19]\n",
      "True [ 7 11 13 19]\n",
      "True [11 13 16 19]\n",
      "True [ 3 12 13 19]\n",
      "True [ 7 12 13 19]\n",
      "True [12 13 16 19]\n",
      "True [ 3 13 16 19]\n",
      "True [ 7 13 16 19]\n",
      "True [11 13 16 19]\n",
      "True [12 13 16 19]\n",
      "True [ 3 11 14 19]\n",
      "True [ 3 12 14 19]\n",
      "True [ 3 13 14 19]\n",
      "True [ 3 14 15 19]\n",
      "True [ 3 14 16 19]\n",
      "True [ 3 11 14 19]\n",
      "True [ 3 12 14 19]\n",
      "True [ 7 12 14 19]\n",
      "True [12 14 16 19]\n",
      "True [ 3 13 14 19]\n",
      "True [ 3 14 15 19]\n",
      "True [12 14 15 19]\n",
      "True [14 15 16 19]\n",
      "True [ 3 14 16 19]\n",
      "True [12 14 16 19]\n",
      "True [14 15 16 19]\n",
      "True [ 7 11 16 19]\n",
      "True [ 7 12 16 19]\n",
      "True [ 7 13 16 19]\n",
      "True [ 3 11 16 19]\n",
      "True [ 7 11 16 19]\n",
      "True [11 13 16 19]\n",
      "True [ 7 12 16 19]\n",
      "True [12 13 16 19]\n",
      "True [12 14 16 19]\n",
      "True [ 3 13 16 19]\n",
      "True [ 7 13 16 19]\n",
      "True [11 13 16 19]\n",
      "True [12 13 16 19]\n",
      "True [ 3 14 16 19]\n",
      "True [12 14 16 19]\n",
      "True [14 15 16 19]\n",
      "True [ 3 15 16 19]\n",
      "True [14 15 16 19]\n"
     ]
    }
   ],
   "source": [
    "for pol_fls in p4_FLs:\n",
    "#     print(pol_fls)\n",
    "    if (pol_fls.tolist() in FullInf_FLs.tolist()):\n",
    "        print(True, pol_fls)\n"
   ]
  },
  {
   "cell_type": "code",
   "execution_count": 121,
   "metadata": {},
   "outputs": [],
   "source": [
    "mask = [True if pol_fls.tolist() in FullInf_FLs.tolist() else False for pol_fls in p4_FLs]"
   ]
  },
  {
   "cell_type": "code",
   "execution_count": 123,
   "metadata": {
    "scrolled": true
   },
   "outputs": [
    {
     "data": {
      "text/plain": [
       "(674, 4)"
      ]
     },
     "execution_count": 123,
     "metadata": {},
     "output_type": "execute_result"
    }
   ],
   "source": [
    "p4_FLs[mask].shape"
   ]
  },
  {
   "cell_type": "code",
   "execution_count": 126,
   "metadata": {},
   "outputs": [
    {
     "name": "stdout",
     "output_type": "stream",
     "text": [
      "From all 1351 possible decision paths, 674 are inside the pareto optimal front for the actual values\n"
     ]
    }
   ],
   "source": [
    "print(\n",
    "    \"From all {} possible decision paths, {} are inside the pareto optimal front for the actual values\".\n",
    "    format(p4_FLs.shape[0], p4_FLs[mask].shape[0]))"
   ]
  },
  {
   "cell_type": "code",
   "execution_count": 127,
   "metadata": {},
   "outputs": [],
   "source": [
    "Perc_Opt_Dec_Paths = (p4_FLs[mask].shape[0] / p4_FLs.shape[0])*100"
   ]
  },
  {
   "cell_type": "code",
   "execution_count": 137,
   "metadata": {},
   "outputs": [
    {
     "name": "stdout",
     "output_type": "stream",
     "text": [
      "49.9% of all decision paths are in the Pareto Front\n"
     ]
    }
   ],
   "source": [
    "print(\"{0:.1f}% of all decision paths are in the Pareto Front\".format(Perc_Opt_Dec_Paths))"
   ]
  },
  {
   "cell_type": "markdown",
   "metadata": {},
   "source": [
    "# Not? Compare on Robustness performance"
   ]
  },
  {
   "cell_type": "code",
   "execution_count": null,
   "metadata": {},
   "outputs": [],
   "source": []
  },
  {
   "cell_type": "code",
   "execution_count": null,
   "metadata": {},
   "outputs": [],
   "source": []
  },
  {
   "cell_type": "code",
   "execution_count": null,
   "metadata": {},
   "outputs": [],
   "source": []
  }
 ],
 "metadata": {
  "kernelspec": {
   "display_name": "Python 3",
   "language": "python",
   "name": "python3"
  },
  "language_info": {
   "codemirror_mode": {
    "name": "ipython",
    "version": 3
   },
   "file_extension": ".py",
   "mimetype": "text/x-python",
   "name": "python",
   "nbconvert_exporter": "python",
   "pygments_lexer": "ipython3",
   "version": "3.6.4"
  },
  "toc": {
   "nav_menu": {},
   "number_sections": true,
   "sideBar": true,
   "skip_h1_title": false,
   "title_cell": "Table of Contents",
   "title_sidebar": "Contents",
   "toc_cell": false,
   "toc_position": {},
   "toc_section_display": true,
   "toc_window_display": false
  }
 },
 "nbformat": 4,
 "nbformat_minor": 2
}
