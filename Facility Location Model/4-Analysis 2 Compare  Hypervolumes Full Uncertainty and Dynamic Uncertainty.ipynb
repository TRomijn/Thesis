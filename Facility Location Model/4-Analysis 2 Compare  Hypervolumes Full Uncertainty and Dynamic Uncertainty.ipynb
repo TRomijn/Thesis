{
 "cells": [
  {
   "cell_type": "markdown",
   "metadata": {},
   "source": [
    "TODO before:\n",
    "\n",
    "    Make sure both are optimised while using the same Best Estimate values of the static uncertainty\n",
    "    Use those same Best Estimate values for here.\n",
    "\n",
    "\n",
    "Comparison is actually not completely fair:\n",
    "\n",
    "    with mpmordm, decisions that are taken later, should also be evaluated in that way.\n",
    "Describe this als een inschatting die een decision-maker moet maken. Kan het echt niet wachten? Of kan een beetje wachten wel ervoor zorgen dat er meer informatie is en dus een betere beslissing kan worden gemaakt. Daarnaast moet er ook rekening gehouden worden dat sommige beslissingen uitgesteld moeten worden, omdat er bijvoorbeeld niet genoeg resources zijn om meerdere beslissingen tegelijk te implementeren. Juist voor die problemen is MPMORDM een goeie oplossing\n",
    "\n",
    "Beste Oplossing: Vergelijken met evaluatie voor elke stap en die bij elkaar optellen. Of toch niet?!--> Zie laatste argument"
   ]
  },
  {
   "cell_type": "code",
   "execution_count": null,
   "metadata": {},
   "outputs": [],
   "source": []
  },
  {
   "cell_type": "code",
   "execution_count": 1,
   "metadata": {},
   "outputs": [],
   "source": [
    "import pickle\n",
    "import numpy as np\n",
    "import pandas as pd\n",
    "\n",
    "from geopy.distance import great_circle\n",
    "\n",
    "import pygmo as pg"
   ]
  },
  {
   "cell_type": "code",
   "execution_count": 2,
   "metadata": {},
   "outputs": [],
   "source": [
    "from lib.fl_model_v9 import *"
   ]
  },
  {
   "cell_type": "code",
   "execution_count": null,
   "metadata": {},
   "outputs": [],
   "source": []
  },
  {
   "cell_type": "markdown",
   "metadata": {},
   "source": [
    "# Load Optimised Policies "
   ]
  },
  {
   "cell_type": "code",
   "execution_count": 3,
   "metadata": {},
   "outputs": [],
   "source": [
    "case = \"Nepal\""
   ]
  },
  {
   "cell_type": "markdown",
   "metadata": {},
   "source": [
    "## Load all policies proposed by MORDM Full Uncertainty"
   ]
  },
  {
   "cell_type": "code",
   "execution_count": 4,
   "metadata": {},
   "outputs": [],
   "source": [
    "# # Store data (serialize)\n",
    "# with open('{}/MOO/rob_nondom_pols_test1.pickle'.format(case),\n",
    "#           'wb') as handle:\n",
    "#     pickle.dump(\n",
    "#         (rob_nondom_pols),\n",
    "#         handle,\n",
    "#         protocol=pickle.HIGHEST_PROTOCOL)\n",
    "    \n",
    "with open('{}/MOO/rob_nondom_pols_Full_Uncertainty.pickle'.format(case),\n",
    "          'rb') as handle:\n",
    "    Full_Unc_rob_nondom_pols = pickle.load(\n",
    "        handle)"
   ]
  },
  {
   "cell_type": "code",
   "execution_count": 5,
   "metadata": {},
   "outputs": [
    {
     "data": {
      "text/plain": [
       "(60,)"
      ]
     },
     "execution_count": 5,
     "metadata": {},
     "output_type": "execute_result"
    }
   ],
   "source": [
    "Full_Unc_rob_nondom_pols.shape"
   ]
  },
  {
   "cell_type": "markdown",
   "metadata": {},
   "source": [
    "## Load all policies proposed by dynamic uncertainty"
   ]
  },
  {
   "cell_type": "code",
   "execution_count": 6,
   "metadata": {},
   "outputs": [],
   "source": [
    "output_folder = \"infov3_4p\""
   ]
  },
  {
   "cell_type": "code",
   "execution_count": 7,
   "metadata": {},
   "outputs": [],
   "source": [
    "with open('{}/{}/python_objects.pickle'.format(case, output_folder),\n",
    "          'rb') as handle:\n",
    "    global_label_tree, EMA_model_dict, global_dfs_var_unc_data, global_fixed_unc, global_policy_tree = pickle.load(\n",
    "        handle)"
   ]
  },
  {
   "cell_type": "code",
   "execution_count": null,
   "metadata": {},
   "outputs": [],
   "source": []
  },
  {
   "cell_type": "code",
   "execution_count": 8,
   "metadata": {},
   "outputs": [],
   "source": [
    "p4_labels = global_label_tree['p4']"
   ]
  },
  {
   "cell_type": "code",
   "execution_count": 9,
   "metadata": {},
   "outputs": [
    {
     "data": {
      "text/plain": [
       "[{'FLO0': 0.0,\n",
       "  'FLO1': 0.0,\n",
       "  'FLO2': 0.0,\n",
       "  'FLO3': 1.0,\n",
       "  'FLO4': 1.0,\n",
       "  'FLO5': 0.0,\n",
       "  'FLO6': 0.0,\n",
       "  'FLO7': 1.0,\n",
       "  'FLO8': 0.0,\n",
       "  'FLO9': 0.0,\n",
       "  'FLO10': 0.0,\n",
       "  'FLO11': 1.0,\n",
       "  'FLO12': 0.0,\n",
       "  'FLO13': 0.0,\n",
       "  'FLO14': 0.0,\n",
       "  'FLO15': 0.0,\n",
       "  'FLO16': 0.0,\n",
       "  'FLO17': 0.0,\n",
       "  'FLO18': 0.0,\n",
       "  'FLO19': 0.0}]"
      ]
     },
     "execution_count": 9,
     "metadata": {},
     "output_type": "execute_result"
    }
   ],
   "source": [
    "[global_policy_tree[p4_labels[0]]]"
   ]
  },
  {
   "cell_type": "code",
   "execution_count": 10,
   "metadata": {},
   "outputs": [],
   "source": [
    "p4_pols = [global_policy_tree[label] for label in p4_labels]"
   ]
  },
  {
   "cell_type": "code",
   "execution_count": 11,
   "metadata": {},
   "outputs": [],
   "source": [
    "p4_pols = np.array(p4_pols)"
   ]
  },
  {
   "cell_type": "code",
   "execution_count": 12,
   "metadata": {},
   "outputs": [
    {
     "name": "stdout",
     "output_type": "stream",
     "text": [
      "P4 after Multi-Period Robust Optimisation contains (1351,) number of policies\n"
     ]
    }
   ],
   "source": [
    "print(\"P4 after Multi-Period Robust Optimisation contains {} number of policies\".format((p4_pols.shape)))"
   ]
  },
  {
   "cell_type": "code",
   "execution_count": 13,
   "metadata": {},
   "outputs": [],
   "source": [
    "p4_FLs = np.array([[int(key[3:]) for key,value in pol.items() if value == 1] for pol in p4_pols])"
   ]
  },
  {
   "cell_type": "code",
   "execution_count": 14,
   "metadata": {},
   "outputs": [],
   "source": [
    "p4_FLs = np.unique(p4_FLs,axis=0)"
   ]
  },
  {
   "cell_type": "code",
   "execution_count": 15,
   "metadata": {},
   "outputs": [
    {
     "name": "stdout",
     "output_type": "stream",
     "text": [
      "Of all 1351 policies, 190 are unique, the rest are duplicates\n"
     ]
    }
   ],
   "source": [
    "print(\"Of all {} policies, {} are unique, the rest are duplicates\".format(p4_pols.shape[0],p4_FLs.shape[0]))"
   ]
  },
  {
   "cell_type": "code",
   "execution_count": 16,
   "metadata": {},
   "outputs": [],
   "source": [
    "p4_pols_unique = [{\"FLO{}\".format(i):1 if i in p4_FLs[j] else 0 for i in range(len(p4_pols[0].keys()))} for j in range(len(p4_FLs))]"
   ]
  },
  {
   "cell_type": "code",
   "execution_count": 17,
   "metadata": {},
   "outputs": [
    {
     "data": {
      "text/plain": [
       "190"
      ]
     },
     "execution_count": 17,
     "metadata": {},
     "output_type": "execute_result"
    }
   ],
   "source": [
    "len(p4_pols_unique)"
   ]
  },
  {
   "cell_type": "markdown",
   "metadata": {},
   "source": [
    "    Compare on hypervolume to see what part of the pareto front is found by mpmordm\n",
    "    \n",
    "    If hypervolumes are roughly the same: the question is: what is the possibility that a DM would have chosen from the pareto front?\n",
    "\n",
    "\n",
    "\n"
   ]
  },
  {
   "cell_type": "code",
   "execution_count": null,
   "metadata": {},
   "outputs": [],
   "source": []
  },
  {
   "cell_type": "code",
   "execution_count": null,
   "metadata": {},
   "outputs": [],
   "source": []
  },
  {
   "cell_type": "code",
   "execution_count": null,
   "metadata": {},
   "outputs": [],
   "source": []
  },
  {
   "cell_type": "code",
   "execution_count": null,
   "metadata": {},
   "outputs": [],
   "source": []
  },
  {
   "cell_type": "markdown",
   "metadata": {},
   "source": [
    "# Compare on best estimate performance"
   ]
  },
  {
   "cell_type": "markdown",
   "metadata": {
    "code_folding": []
   },
   "source": [
    "## Set parameters of best estimates. Should be the same as used for "
   ]
  },
  {
   "cell_type": "code",
   "execution_count": 18,
   "metadata": {},
   "outputs": [],
   "source": [
    "Fix_Unc = pd.read_csv(\"{}/Prepared Input Data/fixed_uncertainties.csv\".format(case), index_col=0)\n",
    "\n",
    "DPs = pd.read_csv(\"Nepal/Prepared Input Data/DPs.csv\")\n",
    "# DPs.columns\n",
    "\n",
    "FLs = pd.read_csv(\"Nepal/Prepared Input Data/FLs.csv\")\n",
    "# FLs.columns\n",
    "\n",
    "SPs = pd.read_csv(\"Nepal/Prepared Input Data/SPs.csv\")\n",
    "# SPs.columns\n",
    "\n",
    "# 0. Instantiate\n",
    "\n",
    "# General\n",
    "# Coordinates\n",
    "# all large cities to demand points\n",
    "DPY = {\"DPY{}\".format(i): y for i,y in enumerate(DPs['latitude'])}\n",
    "DPX = {\"DPX{}\".format(i): x for i,x in enumerate(DPs['longitude'])}\n",
    "\n",
    "# all international airports to supply points:\n",
    "SPY = {\"SPY{}\".format(i): y for i,y in enumerate(SPs['latitude_deg'])}\n",
    "SPX = {\"SPX{}\".format(i): x for i,x in enumerate(SPs['longitude_deg'])}\n",
    "\n",
    "# Facility locations\n",
    "FLX = {\"FLX{}\".format(i): x for i,x in enumerate(FLs['Lon'])}\n",
    "FLY = {\"FLY{}\".format(i): y for i,y in enumerate(FLs['Lat'])}\n",
    "\n",
    "\n",
    "# Population demand points\n",
    "DPpop = {\"DPpop{}\".format(i): pop for i,pop in enumerate(DPs['population'])}\n"
   ]
  },
  {
   "cell_type": "code",
   "execution_count": 19,
   "metadata": {},
   "outputs": [
    {
     "data": {
      "text/html": [
       "<div>\n",
       "<style scoped>\n",
       "    .dataframe tbody tr th:only-of-type {\n",
       "        vertical-align: middle;\n",
       "    }\n",
       "\n",
       "    .dataframe tbody tr th {\n",
       "        vertical-align: top;\n",
       "    }\n",
       "\n",
       "    .dataframe thead th {\n",
       "        text-align: right;\n",
       "    }\n",
       "</style>\n",
       "<table border=\"1\" class=\"dataframe\">\n",
       "  <thead>\n",
       "    <tr style=\"text-align: right;\">\n",
       "      <th></th>\n",
       "      <th>lower</th>\n",
       "      <th>best_estimate</th>\n",
       "      <th>upper</th>\n",
       "    </tr>\n",
       "    <tr>\n",
       "      <th>var</th>\n",
       "      <th></th>\n",
       "      <th></th>\n",
       "      <th></th>\n",
       "    </tr>\n",
       "  </thead>\n",
       "  <tbody>\n",
       "    <tr>\n",
       "      <th>unit_opening_costs</th>\n",
       "      <td>50.0</td>\n",
       "      <td>100</td>\n",
       "      <td>200</td>\n",
       "    </tr>\n",
       "    <tr>\n",
       "      <th>unit_transport_cost</th>\n",
       "      <td>0.5</td>\n",
       "      <td>1</td>\n",
       "      <td>2</td>\n",
       "    </tr>\n",
       "    <tr>\n",
       "      <th>FL_operations_cost</th>\n",
       "      <td>20.0</td>\n",
       "      <td>30</td>\n",
       "      <td>50</td>\n",
       "    </tr>\n",
       "    <tr>\n",
       "      <th>FL_range</th>\n",
       "      <td>2.0</td>\n",
       "      <td>4</td>\n",
       "      <td>6</td>\n",
       "    </tr>\n",
       "    <tr>\n",
       "      <th>demand_per_affected</th>\n",
       "      <td>10.0</td>\n",
       "      <td>20</td>\n",
       "      <td>50</td>\n",
       "    </tr>\n",
       "  </tbody>\n",
       "</table>\n",
       "</div>"
      ],
      "text/plain": [
       "                     lower  best_estimate  upper\n",
       "var                                             \n",
       "unit_opening_costs    50.0            100    200\n",
       "unit_transport_cost    0.5              1      2\n",
       "FL_operations_cost    20.0             30     50\n",
       "FL_range               2.0              4      6\n",
       "demand_per_affected   10.0             20     50"
      ]
     },
     "execution_count": 19,
     "metadata": {},
     "output_type": "execute_result"
    }
   ],
   "source": [
    "Fix_Unc"
   ]
  },
  {
   "cell_type": "code",
   "execution_count": 20,
   "metadata": {},
   "outputs": [
    {
     "name": "stdout",
     "output_type": "stream",
     "text": [
      "Pick right Epicentre, or load disruption data\n",
      "TODO: Load disruption\n"
     ]
    }
   ],
   "source": [
    "print(\"Pick right Epicentre, or load disruption data\")\n",
    "print(\"TODO: Load disruption\")"
   ]
  },
  {
   "cell_type": "code",
   "execution_count": 21,
   "metadata": {},
   "outputs": [],
   "source": [
    "epicentre_name = \"RealLocation\""
   ]
  },
  {
   "cell_type": "code",
   "execution_count": 22,
   "metadata": {},
   "outputs": [],
   "source": [
    "disruptionsFLs = np.loadtxt(\n",
    "    'Nepal/Prepared Input Data/DisruptionFL{}.txt'.format(epicentre_name))\n",
    "disruptionsDPs = np.loadtxt(\n",
    "    'Nepal/Prepared Input Data/DisruptionDP{}.txt'.format(epicentre_name))"
   ]
  },
  {
   "cell_type": "code",
   "execution_count": 23,
   "metadata": {},
   "outputs": [],
   "source": [
    "# Base real values on Nepal earthquake\n",
    "# DSR is abbreviation for Disruption\n",
    "\n",
    "DSRDP = {\"DSRDP{}\".format(i): disruptionsDPs[i] for i in range(len(DPX))}\n",
    "DSRFL = {\"DSRFL{}\".format(i): disruptionsFLs[i] for i in range(len(FLX))}"
   ]
  },
  {
   "cell_type": "markdown",
   "metadata": {},
   "source": [
    "## Evaluate FullUncPols under best estimates of static uncertainty"
   ]
  },
  {
   "cell_type": "code",
   "execution_count": 26,
   "metadata": {},
   "outputs": [
    {
     "data": {
      "text/plain": [
       "(60,)"
      ]
     },
     "execution_count": 26,
     "metadata": {},
     "output_type": "execute_result"
    }
   ],
   "source": [
    "Full_Unc_rob_nondom_pols.shape"
   ]
  },
  {
   "cell_type": "code",
   "execution_count": 27,
   "metadata": {},
   "outputs": [],
   "source": [
    "Full_Unc_best_est_results = []\n",
    "for pol in Full_Unc_rob_nondom_pols:\n",
    "    Full_Unc_best_est_results.append(\n",
    "        FL_model(\n",
    "            unit_opening_costs=Fix_Unc.best_estimate['unit_opening_costs'],\n",
    "            unit_transport_cost=Fix_Unc.best_estimate['unit_transport_cost'],\n",
    "            FL_operations_cost=Fix_Unc.best_estimate['FL_operations_cost'],\n",
    "            demand_per_affected=Fix_Unc.best_estimate['demand_per_affected'],\n",
    "            graphical_representation=False,\n",
    "            FL_range=Fix_Unc.best_estimate['FL_range'],\n",
    "            dist_method='from_table',\n",
    "            table_dir=\"{}/Prepared Input Data/routing_table.csv\".format(case),\n",
    "            **SPX,\n",
    "            **SPY,\n",
    "            **DPX,\n",
    "            **DPY,\n",
    "            **FLX,\n",
    "            **FLY,\n",
    "            **pol,\n",
    "            **DSRDP,\n",
    "            **DSRFL,\n",
    "            **DPpop))"
   ]
  },
  {
   "cell_type": "code",
   "execution_count": null,
   "metadata": {},
   "outputs": [],
   "source": []
  },
  {
   "cell_type": "code",
   "execution_count": 28,
   "metadata": {},
   "outputs": [],
   "source": [
    "Full_Unc_best_est_results = np.array(Full_Unc_best_est_results)"
   ]
  },
  {
   "cell_type": "markdown",
   "metadata": {},
   "source": [
    "## Evaluate DynamicUncPols under best estimates of static uncertainty"
   ]
  },
  {
   "cell_type": "code",
   "execution_count": 29,
   "metadata": {
    "scrolled": true
   },
   "outputs": [
    {
     "data": {
      "text/plain": [
       "190"
      ]
     },
     "execution_count": 29,
     "metadata": {},
     "output_type": "execute_result"
    }
   ],
   "source": [
    "len(p4_pols_unique)"
   ]
  },
  {
   "cell_type": "code",
   "execution_count": 30,
   "metadata": {},
   "outputs": [],
   "source": [
    "Dyn_Unc_best_est_results = []\n",
    "for pol in p4_pols_unique:\n",
    "    Dyn_Unc_best_est_results.append(\n",
    "        FL_model(\n",
    "            unit_opening_costs=Fix_Unc.best_estimate['unit_opening_costs'],\n",
    "            unit_transport_cost=Fix_Unc.best_estimate['unit_transport_cost'],\n",
    "            FL_operations_cost=Fix_Unc.best_estimate['FL_operations_cost'],\n",
    "            demand_per_affected=Fix_Unc.best_estimate['demand_per_affected'],\n",
    "            graphical_representation=False,\n",
    "            FL_range=Fix_Unc.best_estimate['FL_range'],\n",
    "            dist_method='from_table',\n",
    "            table_dir=\"{}/Prepared Input Data/routing_table.csv\".format(case),\n",
    "            **SPX,\n",
    "            **SPY,\n",
    "            **DPX,\n",
    "            **DPY,\n",
    "            **FLX,\n",
    "            **FLY,\n",
    "            **pol,\n",
    "            **DSRDP,\n",
    "            **DSRFL,\n",
    "            **DPpop))"
   ]
  },
  {
   "cell_type": "code",
   "execution_count": null,
   "metadata": {},
   "outputs": [],
   "source": []
  },
  {
   "cell_type": "markdown",
   "metadata": {},
   "source": [
    "## Check for both if pareto set"
   ]
  },
  {
   "cell_type": "code",
   "execution_count": 31,
   "metadata": {},
   "outputs": [],
   "source": [
    "import lib.pareto as pareto\n"
   ]
  },
  {
   "cell_type": "markdown",
   "metadata": {},
   "source": [
    "### Full Info"
   ]
  },
  {
   "cell_type": "code",
   "execution_count": 32,
   "metadata": {},
   "outputs": [
    {
     "data": {
      "text/plain": [
       "(60, 6)"
      ]
     },
     "execution_count": 32,
     "metadata": {},
     "output_type": "execute_result"
    }
   ],
   "source": [
    "pd.DataFrame(Full_Unc_best_est_results).shape"
   ]
  },
  {
   "cell_type": "code",
   "execution_count": 38,
   "metadata": {},
   "outputs": [],
   "source": []
  },
  {
   "cell_type": "code",
   "execution_count": 40,
   "metadata": {},
   "outputs": [],
   "source": [
    "FullUncPF = np.array(pareto.eps_sort(\n",
    "    [list(pd.DataFrame(Full_Unc_best_est_results).itertuples(index=True))], [1, 2, 3, 4],\n",
    "    [1e-9, 1e-9, 1e-9, 1e-9]))"
   ]
  },
  {
   "cell_type": "code",
   "execution_count": 41,
   "metadata": {},
   "outputs": [],
   "source": [
    "FullUncPF = FullUncPF[:,1:5]"
   ]
  },
  {
   "cell_type": "code",
   "execution_count": 42,
   "metadata": {},
   "outputs": [
    {
     "data": {
      "text/plain": [
       "(52, 4)"
      ]
     },
     "execution_count": 42,
     "metadata": {},
     "output_type": "execute_result"
    }
   ],
   "source": [
    "FullUncPF.shape"
   ]
  },
  {
   "cell_type": "markdown",
   "metadata": {},
   "source": [
    "### Dyn Uncertainty"
   ]
  },
  {
   "cell_type": "code",
   "execution_count": 43,
   "metadata": {
    "scrolled": true
   },
   "outputs": [
    {
     "data": {
      "text/plain": [
       "(190, 6)"
      ]
     },
     "execution_count": 43,
     "metadata": {},
     "output_type": "execute_result"
    }
   ],
   "source": [
    "pd.DataFrame(Dyn_Unc_best_est_results).shape"
   ]
  },
  {
   "cell_type": "code",
   "execution_count": 44,
   "metadata": {},
   "outputs": [],
   "source": [
    "DynUncPF = np.array(pareto.eps_sort(\n",
    "    [list(pd.DataFrame(Dyn_Unc_best_est_results).itertuples(index=True))], [1, 2, 3, 4],\n",
    "    [1e-9, 1e-9, 1e-9, 1e-9]))"
   ]
  },
  {
   "cell_type": "code",
   "execution_count": 45,
   "metadata": {},
   "outputs": [],
   "source": [
    "DynUncPF = DynUncPF[:,1:5]"
   ]
  },
  {
   "cell_type": "code",
   "execution_count": 46,
   "metadata": {},
   "outputs": [
    {
     "data": {
      "text/plain": [
       "(68, 4)"
      ]
     },
     "execution_count": 46,
     "metadata": {},
     "output_type": "execute_result"
    }
   ],
   "source": [
    "DynUncPF.shape"
   ]
  },
  {
   "cell_type": "markdown",
   "metadata": {},
   "source": [
    "## Calculate hypervolumes of both Pareto Sets"
   ]
  },
  {
   "cell_type": "markdown",
   "metadata": {},
   "source": [
    "### Normalise "
   ]
  },
  {
   "cell_type": "code",
   "execution_count": 47,
   "metadata": {},
   "outputs": [
    {
     "data": {
      "text/html": [
       "<div>\n",
       "<style scoped>\n",
       "    .dataframe tbody tr th:only-of-type {\n",
       "        vertical-align: middle;\n",
       "    }\n",
       "\n",
       "    .dataframe tbody tr th {\n",
       "        vertical-align: top;\n",
       "    }\n",
       "\n",
       "    .dataframe thead th {\n",
       "        text-align: right;\n",
       "    }\n",
       "</style>\n",
       "<table border=\"1\" class=\"dataframe\">\n",
       "  <thead>\n",
       "    <tr style=\"text-align: right;\">\n",
       "      <th></th>\n",
       "      <th>0</th>\n",
       "      <th>1</th>\n",
       "      <th>2</th>\n",
       "      <th>3</th>\n",
       "    </tr>\n",
       "    <tr>\n",
       "      <th>Set</th>\n",
       "      <th></th>\n",
       "      <th></th>\n",
       "      <th></th>\n",
       "      <th></th>\n",
       "    </tr>\n",
       "  </thead>\n",
       "  <tbody>\n",
       "    <tr>\n",
       "      <th>FullUnc</th>\n",
       "      <td>47386.8</td>\n",
       "      <td>21</td>\n",
       "      <td>14245.9</td>\n",
       "      <td>59777.4</td>\n",
       "    </tr>\n",
       "    <tr>\n",
       "      <th>FullUnc</th>\n",
       "      <td>210171</td>\n",
       "      <td>14</td>\n",
       "      <td>4799.8</td>\n",
       "      <td>45920.2</td>\n",
       "    </tr>\n",
       "  </tbody>\n",
       "</table>\n",
       "</div>"
      ],
      "text/plain": [
       "               0   1        2        3\n",
       "Set                                   \n",
       "FullUnc  47386.8  21  14245.9  59777.4\n",
       "FullUnc   210171  14   4799.8  45920.2"
      ]
     },
     "execution_count": 47,
     "metadata": {},
     "output_type": "execute_result"
    }
   ],
   "source": [
    "df_FullUncPF = pd.DataFrame(FullUncPF)\n",
    "\n",
    "df_FullUncPF['Set'] = \"FullUnc\"\n",
    "\n",
    "df_FullUncPF = df_FullUncPF.set_index('Set')\n",
    "\n",
    "df_FullUncPF.head(2)"
   ]
  },
  {
   "cell_type": "code",
   "execution_count": 48,
   "metadata": {},
   "outputs": [
    {
     "data": {
      "text/html": [
       "<div>\n",
       "<style scoped>\n",
       "    .dataframe tbody tr th:only-of-type {\n",
       "        vertical-align: middle;\n",
       "    }\n",
       "\n",
       "    .dataframe tbody tr th {\n",
       "        vertical-align: top;\n",
       "    }\n",
       "\n",
       "    .dataframe thead th {\n",
       "        text-align: right;\n",
       "    }\n",
       "</style>\n",
       "<table border=\"1\" class=\"dataframe\">\n",
       "  <thead>\n",
       "    <tr style=\"text-align: right;\">\n",
       "      <th></th>\n",
       "      <th>0</th>\n",
       "      <th>1</th>\n",
       "      <th>2</th>\n",
       "      <th>3</th>\n",
       "    </tr>\n",
       "    <tr>\n",
       "      <th>Set</th>\n",
       "      <th></th>\n",
       "      <th></th>\n",
       "      <th></th>\n",
       "      <th></th>\n",
       "    </tr>\n",
       "  </thead>\n",
       "  <tbody>\n",
       "    <tr>\n",
       "      <th>DynamicUncertainty</th>\n",
       "      <td>26690.9</td>\n",
       "      <td>24</td>\n",
       "      <td>15967.1</td>\n",
       "      <td>84488</td>\n",
       "    </tr>\n",
       "    <tr>\n",
       "      <th>DynamicUncertainty</th>\n",
       "      <td>89526.5</td>\n",
       "      <td>15</td>\n",
       "      <td>11582.4</td>\n",
       "      <td>59777.4</td>\n",
       "    </tr>\n",
       "  </tbody>\n",
       "</table>\n",
       "</div>"
      ],
      "text/plain": [
       "                          0   1        2        3\n",
       "Set                                              \n",
       "DynamicUncertainty  26690.9  24  15967.1    84488\n",
       "DynamicUncertainty  89526.5  15  11582.4  59777.4"
      ]
     },
     "execution_count": 48,
     "metadata": {},
     "output_type": "execute_result"
    }
   ],
   "source": [
    "df_DynUncPF = pd.DataFrame(DynUncPF)\n",
    "\n",
    "df_DynUncPF['Set'] = \"DynamicUncertainty\"\n",
    "\n",
    "df_DynUncPF = df_DynUncPF.set_index('Set')\n",
    "\n",
    "df_DynUncPF.head(2)"
   ]
  },
  {
   "cell_type": "code",
   "execution_count": 49,
   "metadata": {},
   "outputs": [],
   "source": [
    "dfs_nonnormalised = pd.concat((df_DynUncPF,df_FullUncPF))"
   ]
  },
  {
   "cell_type": "code",
   "execution_count": 50,
   "metadata": {},
   "outputs": [],
   "source": [
    "def normalise_df (df):\n",
    "    normalised_df=(df-df.min())/(df.max()-df.min())\n",
    "    return normalised_df"
   ]
  },
  {
   "cell_type": "code",
   "execution_count": 51,
   "metadata": {},
   "outputs": [],
   "source": [
    "dfs_normalised = normalise_df(dfs_nonnormalised)"
   ]
  },
  {
   "cell_type": "code",
   "execution_count": 52,
   "metadata": {},
   "outputs": [],
   "source": [
    "df_DynUncPF_normalised = dfs_normalised[dfs_normalised.index == 'DynamicUncertainty']"
   ]
  },
  {
   "cell_type": "code",
   "execution_count": 53,
   "metadata": {},
   "outputs": [],
   "source": [
    "df_FullUncPF_normalised = dfs_normalised[dfs_normalised.index == 'FullUnc']"
   ]
  },
  {
   "cell_type": "markdown",
   "metadata": {},
   "source": [
    "### Dynamic Uncertainty"
   ]
  },
  {
   "cell_type": "code",
   "execution_count": 54,
   "metadata": {},
   "outputs": [
    {
     "data": {
      "text/plain": [
       "array([1., 1., 1., 1.])"
      ]
     },
     "execution_count": 54,
     "metadata": {},
     "output_type": "execute_result"
    }
   ],
   "source": [
    "df_DynUncPF_normalised.values.astype(float).max(axis=0)"
   ]
  },
  {
   "cell_type": "code",
   "execution_count": 71,
   "metadata": {},
   "outputs": [],
   "source": [
    "ref_point = [1,1,1,1]"
   ]
  },
  {
   "cell_type": "code",
   "execution_count": 72,
   "metadata": {},
   "outputs": [],
   "source": [
    "hvDynUnc = pg.hypervolume(df_DynUncPF_normalised.values.astype(float))"
   ]
  },
  {
   "cell_type": "code",
   "execution_count": 73,
   "metadata": {},
   "outputs": [
    {
     "data": {
      "text/plain": [
       "0.5105584579890514"
      ]
     },
     "execution_count": 73,
     "metadata": {},
     "output_type": "execute_result"
    }
   ],
   "source": [
    "hvDynUnc.compute(ref_point)"
   ]
  },
  {
   "cell_type": "code",
   "execution_count": 74,
   "metadata": {},
   "outputs": [
    {
     "data": {
      "text/plain": [
       "0.0005060927631837258"
      ]
     },
     "execution_count": 74,
     "metadata": {},
     "output_type": "execute_result"
    }
   ],
   "source": [
    "hvDynUnc.contributions(ref_point).mean()"
   ]
  },
  {
   "cell_type": "markdown",
   "metadata": {},
   "source": [
    "### Full Unc"
   ]
  },
  {
   "cell_type": "code",
   "execution_count": 75,
   "metadata": {},
   "outputs": [
    {
     "data": {
      "text/plain": [
       "array([1.        , 1.        , 0.88408934, 1.        ])"
      ]
     },
     "execution_count": 75,
     "metadata": {},
     "output_type": "execute_result"
    }
   ],
   "source": [
    "df_FullUncPF_normalised.values.astype(float).max(axis=0)"
   ]
  },
  {
   "cell_type": "code",
   "execution_count": 76,
   "metadata": {},
   "outputs": [],
   "source": [
    "hvFullUnc = pg.hypervolume(df_FullUncPF_normalised.values.astype(float))"
   ]
  },
  {
   "cell_type": "code",
   "execution_count": 77,
   "metadata": {
    "scrolled": true
   },
   "outputs": [
    {
     "data": {
      "text/plain": [
       "0.5088963866134609"
      ]
     },
     "execution_count": 77,
     "metadata": {},
     "output_type": "execute_result"
    }
   ],
   "source": [
    "hvFullUnc.compute(ref_point)"
   ]
  },
  {
   "cell_type": "code",
   "execution_count": 78,
   "metadata": {},
   "outputs": [
    {
     "data": {
      "text/plain": [
       "0.0006897220971014236"
      ]
     },
     "execution_count": 78,
     "metadata": {},
     "output_type": "execute_result"
    }
   ],
   "source": [
    "hvFullUnc.contributions(ref_point).mean()"
   ]
  },
  {
   "cell_type": "code",
   "execution_count": null,
   "metadata": {},
   "outputs": [],
   "source": []
  },
  {
   "cell_type": "markdown",
   "metadata": {},
   "source": [
    "## Compare hypervolumes of both Pareto Sets"
   ]
  },
  {
   "cell_type": "markdown",
   "metadata": {},
   "source": [
    "This is a lot larger than the difference between PerfInfo and DynUnc\n",
    "\n",
    "ToDo:\n",
    "Compare all three at the same time (normalisation on complete set)"
   ]
  },
  {
   "cell_type": "code",
   "execution_count": 81,
   "metadata": {},
   "outputs": [
    {
     "data": {
      "text/plain": [
       "0.0016620713755904903"
      ]
     },
     "execution_count": 81,
     "metadata": {},
     "output_type": "execute_result"
    }
   ],
   "source": [
    "hvDynUnc.compute(ref_point) - hvFullUnc.compute(ref_point)"
   ]
  },
  {
   "cell_type": "markdown",
   "metadata": {},
   "source": [
    "# Compare on Robustness performance"
   ]
  },
  {
   "cell_type": "code",
   "execution_count": null,
   "metadata": {},
   "outputs": [],
   "source": []
  },
  {
   "cell_type": "code",
   "execution_count": null,
   "metadata": {},
   "outputs": [],
   "source": []
  },
  {
   "cell_type": "code",
   "execution_count": null,
   "metadata": {},
   "outputs": [],
   "source": []
  }
 ],
 "metadata": {
  "kernelspec": {
   "display_name": "Python 3",
   "language": "python",
   "name": "python3"
  },
  "language_info": {
   "codemirror_mode": {
    "name": "ipython",
    "version": 3
   },
   "file_extension": ".py",
   "mimetype": "text/x-python",
   "name": "python",
   "nbconvert_exporter": "python",
   "pygments_lexer": "ipython3",
   "version": "3.6.4"
  },
  "toc": {
   "nav_menu": {},
   "number_sections": true,
   "sideBar": true,
   "skip_h1_title": false,
   "title_cell": "Table of Contents",
   "title_sidebar": "Contents",
   "toc_cell": false,
   "toc_position": {},
   "toc_section_display": true,
   "toc_window_display": false
  }
 },
 "nbformat": 4,
 "nbformat_minor": 2
}
