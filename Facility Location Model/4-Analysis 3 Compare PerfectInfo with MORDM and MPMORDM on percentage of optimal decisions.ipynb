{
 "cells": [
  {
   "cell_type": "markdown",
   "metadata": {},
   "source": [
    "TODO before:\n",
    "\n",
    "    Make sure both are optimised while using the same Best Estimate values of the static uncertainty\n",
    "    Use those same Best Estimate values for here."
   ]
  },
  {
   "cell_type": "code",
   "execution_count": 2,
   "metadata": {},
   "outputs": [],
   "source": [
    "import pickle\n",
    "import numpy as np\n",
    "import pandas as pd\n",
    "\n",
    "from geopy.distance import great_circle\n",
    "\n",
    "import pygmo as pg"
   ]
  },
  {
   "cell_type": "code",
   "execution_count": 3,
   "metadata": {},
   "outputs": [],
   "source": [
    "from lib.fl_model_v9 import *"
   ]
  },
  {
   "cell_type": "code",
   "execution_count": null,
   "metadata": {},
   "outputs": [],
   "source": []
  },
  {
   "cell_type": "markdown",
   "metadata": {},
   "source": [
    "# Load Optimised Policies "
   ]
  },
  {
   "cell_type": "code",
   "execution_count": 4,
   "metadata": {},
   "outputs": [],
   "source": [
    "case = \"Nepal\""
   ]
  },
  {
   "cell_type": "markdown",
   "metadata": {},
   "source": [
    "## Load all policies proposed by perfect info"
   ]
  },
  {
   "cell_type": "code",
   "execution_count": 5,
   "metadata": {},
   "outputs": [],
   "source": [
    "# # Store data (serialize)\n",
    "# with open('{}/MOO/rob_nondom_pols_test1.pickle'.format(case),\n",
    "#           'wb') as handle:\n",
    "#     pickle.dump(\n",
    "#         (rob_nondom_pols),\n",
    "#         handle,\n",
    "#         protocol=pickle.HIGHEST_PROTOCOL)\n",
    "    \n",
    "with open('{}/MOO/rob_nondom_pols_test3_norobustnessfilter.pickle'.format(case),\n",
    "          'rb') as handle:\n",
    "    Full_Info_nondom_pols = pickle.load(\n",
    "        handle)"
   ]
  },
  {
   "cell_type": "code",
   "execution_count": 6,
   "metadata": {
    "scrolled": true
   },
   "outputs": [
    {
     "data": {
      "text/plain": [
       "(72,)"
      ]
     },
     "execution_count": 6,
     "metadata": {},
     "output_type": "execute_result"
    }
   ],
   "source": [
    "Full_Info_nondom_pols.shape"
   ]
  },
  {
   "cell_type": "code",
   "execution_count": 7,
   "metadata": {},
   "outputs": [],
   "source": [
    "FullInf_FLs = np.array([[int(key[3:]) for key,value in pol.items() if value == 1] for pol in Full_Info_nondom_pols])"
   ]
  },
  {
   "cell_type": "code",
   "execution_count": 8,
   "metadata": {},
   "outputs": [
    {
     "data": {
      "text/plain": [
       "(72, 4)"
      ]
     },
     "execution_count": 8,
     "metadata": {},
     "output_type": "execute_result"
    }
   ],
   "source": [
    "FullInf_FLs.shape"
   ]
  },
  {
   "cell_type": "markdown",
   "metadata": {},
   "source": [
    "## Load all policies proposed by dynamic uncertainty (MPMORDM)"
   ]
  },
  {
   "cell_type": "code",
   "execution_count": 9,
   "metadata": {},
   "outputs": [],
   "source": [
    "output_folder = \"infov3_4p\""
   ]
  },
  {
   "cell_type": "code",
   "execution_count": 10,
   "metadata": {},
   "outputs": [],
   "source": [
    "with open('{}/{}/python_objects.pickle'.format(case, output_folder),\n",
    "          'rb') as handle:\n",
    "    global_label_tree, EMA_model_dict, global_dfs_var_unc_data, global_fixed_unc, global_policy_tree = pickle.load(\n",
    "        handle)"
   ]
  },
  {
   "cell_type": "code",
   "execution_count": null,
   "metadata": {},
   "outputs": [],
   "source": []
  },
  {
   "cell_type": "code",
   "execution_count": 11,
   "metadata": {},
   "outputs": [],
   "source": [
    "p4_labels = global_label_tree['p4']"
   ]
  },
  {
   "cell_type": "code",
   "execution_count": 12,
   "metadata": {},
   "outputs": [],
   "source": [
    "p4_pols = [global_policy_tree[label] for label in p4_labels]"
   ]
  },
  {
   "cell_type": "code",
   "execution_count": 13,
   "metadata": {},
   "outputs": [],
   "source": [
    "p4_pols = np.array(p4_pols)"
   ]
  },
  {
   "cell_type": "code",
   "execution_count": 14,
   "metadata": {},
   "outputs": [
    {
     "name": "stdout",
     "output_type": "stream",
     "text": [
      "P4 after Multi-Period Robust Optimisation contains (1351,) number of policies\n"
     ]
    }
   ],
   "source": [
    "print(\"P4 after Multi-Period Robust Optimisation contains {} number of policies\".format((p4_pols.shape)))"
   ]
  },
  {
   "cell_type": "code",
   "execution_count": 15,
   "metadata": {},
   "outputs": [],
   "source": [
    "p4_FLs = np.array([[int(key[3:]) for key,value in pol.items() if value == 1] for pol in p4_pols])"
   ]
  },
  {
   "cell_type": "code",
   "execution_count": 16,
   "metadata": {},
   "outputs": [
    {
     "data": {
      "text/plain": [
       "(1351, 4)"
      ]
     },
     "execution_count": 16,
     "metadata": {},
     "output_type": "execute_result"
    }
   ],
   "source": [
    "p4_FLs.shape"
   ]
  },
  {
   "cell_type": "markdown",
   "metadata": {},
   "source": [
    "## Load all policies proposed by MORDM"
   ]
  },
  {
   "cell_type": "code",
   "execution_count": 17,
   "metadata": {},
   "outputs": [],
   "source": [
    "with open('{}/MOO/rob_nondom_pols_Full_Uncertainty.pickle'.format(case),\n",
    "          'rb') as handle:\n",
    "    Full_Unc_rob_nondom_pols = pickle.load(\n",
    "        handle)"
   ]
  },
  {
   "cell_type": "code",
   "execution_count": 18,
   "metadata": {},
   "outputs": [
    {
     "data": {
      "text/plain": [
       "(60,)"
      ]
     },
     "execution_count": 18,
     "metadata": {},
     "output_type": "execute_result"
    }
   ],
   "source": [
    "Full_Unc_rob_nondom_pols.shape"
   ]
  },
  {
   "cell_type": "code",
   "execution_count": 19,
   "metadata": {},
   "outputs": [],
   "source": [
    "MORDM_pols = np.array(Full_Unc_rob_nondom_pols)"
   ]
  },
  {
   "cell_type": "code",
   "execution_count": 20,
   "metadata": {},
   "outputs": [],
   "source": [
    "MORDM_FLs = np.array([[int(key[3:]) for key,value in pol.items() if value == 1] for pol in MORDM_pols])"
   ]
  },
  {
   "cell_type": "code",
   "execution_count": 21,
   "metadata": {},
   "outputs": [
    {
     "data": {
      "text/plain": [
       "(60, 4)"
      ]
     },
     "execution_count": 21,
     "metadata": {},
     "output_type": "execute_result"
    }
   ],
   "source": [
    "MORDM_FLs.shape"
   ]
  },
  {
   "cell_type": "markdown",
   "metadata": {},
   "source": [
    "# Check percentage of options in Pareto front"
   ]
  },
  {
   "cell_type": "code",
   "execution_count": 22,
   "metadata": {
    "scrolled": true
   },
   "outputs": [
    {
     "data": {
      "text/plain": [
       "(72, 4)"
      ]
     },
     "execution_count": 22,
     "metadata": {},
     "output_type": "execute_result"
    }
   ],
   "source": [
    "FullInf_FLs.shape"
   ]
  },
  {
   "cell_type": "code",
   "execution_count": 23,
   "metadata": {},
   "outputs": [
    {
     "data": {
      "text/plain": [
       "(60, 4)"
      ]
     },
     "execution_count": 23,
     "metadata": {},
     "output_type": "execute_result"
    }
   ],
   "source": [
    "MORDM_FLs.shape"
   ]
  },
  {
   "cell_type": "code",
   "execution_count": 24,
   "metadata": {},
   "outputs": [
    {
     "data": {
      "text/plain": [
       "(1351, 4)"
      ]
     },
     "execution_count": 24,
     "metadata": {},
     "output_type": "execute_result"
    }
   ],
   "source": [
    "p4_FLs.shape"
   ]
  },
  {
   "cell_type": "markdown",
   "metadata": {},
   "source": [
    "## Do analysis"
   ]
  },
  {
   "cell_type": "markdown",
   "metadata": {},
   "source": [
    "### MPMORDM in Pareto Front"
   ]
  },
  {
   "cell_type": "code",
   "execution_count": 25,
   "metadata": {
    "scrolled": true
   },
   "outputs": [
    {
     "data": {
      "text/plain": [
       "(1351, 4)"
      ]
     },
     "execution_count": 25,
     "metadata": {},
     "output_type": "execute_result"
    }
   ],
   "source": [
    "p4_FLs.shape"
   ]
  },
  {
   "cell_type": "code",
   "execution_count": 34,
   "metadata": {
    "collapsed": true
   },
   "outputs": [
    {
     "name": "stdout",
     "output_type": "stream",
     "text": [
      "True [ 4  7 14 19]\n",
      "True [ 4  7 16 19]\n",
      "True [ 4  7 14 19]\n",
      "True [ 4  7 16 19]\n",
      "True [ 3  7 11 13]\n",
      "True [ 3  7 11 14]\n",
      "True [ 3  7 11 16]\n",
      "True [ 3  7 11 19]\n",
      "True [ 7 11 12 19]\n",
      "True [ 3  7 11 16]\n",
      "True [ 7 11 13 16]\n",
      "True [ 7 11 16 19]\n",
      "True [ 3  7 11 19]\n",
      "True [ 7 11 12 19]\n",
      "True [ 7 11 13 19]\n",
      "True [ 7 11 16 19]\n",
      "True [ 3  7 11 13]\n",
      "True [ 3  7 12 13]\n",
      "True [ 3  7 13 19]\n",
      "True [ 3  7 11 13]\n",
      "True [ 7 11 12 13]\n",
      "True [ 7 11 13 16]\n",
      "True [ 7 11 13 19]\n",
      "True [ 3  7 12 13]\n",
      "True [ 7 12 13 16]\n",
      "True [ 7 12 13 19]\n",
      "True [ 7 11 13 16]\n",
      "True [ 7 12 13 16]\n",
      "True [ 7 13 16 19]\n",
      "True [ 3  7 13 19]\n",
      "True [ 7 11 13 19]\n",
      "True [ 7 12 13 19]\n",
      "True [ 7 13 16 19]\n",
      "True [ 3  7 11 14]\n",
      "True [ 3  7 12 14]\n",
      "True [ 3  7 14 15]\n",
      "True [ 3  7 11 14]\n",
      "True [ 3  7 12 14]\n",
      "True [ 7 12 14 16]\n",
      "True [ 7 12 14 19]\n",
      "True [ 3  7 14 15]\n",
      "True [ 7 12 14 15]\n",
      "True [ 7 14 15 16]\n",
      "True [ 7 12 14 16]\n",
      "True [ 7 14 15 16]\n",
      "True [ 7 12 14 19]\n",
      "True [ 3  7 11 16]\n",
      "True [ 7 11 13 16]\n",
      "True [ 7 11 16 19]\n",
      "True [ 7 12 13 16]\n",
      "True [ 7 12 14 16]\n",
      "True [ 7 12 16 19]\n",
      "True [ 7 12 14 16]\n",
      "True [ 7 14 15 16]\n",
      "True [ 3  7 15 16]\n",
      "True [ 4  7 16 19]\n",
      "True [ 7 11 16 19]\n",
      "True [ 7 12 16 19]\n",
      "True [ 7 13 16 19]\n",
      "True [ 3  7 11 19]\n",
      "True [ 7 11 12 19]\n",
      "True [ 7 11 13 19]\n",
      "True [ 7 11 16 19]\n",
      "True [ 7  9 12 19]\n",
      "True [ 7 12 14 19]\n",
      "True [ 3  7 13 19]\n",
      "True [ 7 11 13 19]\n",
      "True [ 7 12 13 19]\n",
      "True [ 7 13 16 19]\n",
      "True [ 4  7 14 19]\n",
      "True [ 7  8 14 19]\n",
      "True [ 7 12 14 19]\n",
      "True [ 4  7 16 19]\n",
      "True [ 7 11 16 19]\n",
      "True [ 7 12 16 19]\n",
      "True [ 7 13 16 19]\n",
      "True [ 3  7  8 14]\n",
      "True [ 7  8 12 14]\n",
      "True [ 7  8 14 16]\n",
      "True [ 7  8 14 19]\n",
      "True [ 7  8 12 16]\n",
      "True [ 7  8 14 16]\n",
      "True [ 7  8 16 19]\n",
      "True [ 7  8 12 19]\n",
      "True [ 7  8 14 19]\n",
      "True [ 7  8 16 19]\n",
      "True [ 3  7  8 14]\n",
      "True [ 3  8 12 14]\n",
      "True [ 3  8 14 16]\n",
      "True [ 3  8 14 19]\n",
      "True [ 3  7  8 14]\n",
      "True [ 7  8 12 14]\n",
      "True [ 7  8 14 16]\n",
      "True [ 7  8 14 19]\n",
      "True [ 3  8 12 14]\n",
      "True [ 7  8 12 14]\n",
      "True [ 8 12 14 16]\n",
      "True [ 8 12 14 19]\n",
      "True [ 3  8 14 16]\n",
      "True [ 7  8 14 16]\n",
      "True [ 8 12 14 16]\n",
      "True [ 8 14 16 19]\n",
      "True [ 3  8 14 19]\n",
      "True [ 7  8 14 19]\n",
      "True [ 8 12 14 19]\n",
      "True [ 8 14 16 19]\n",
      "True [ 7  8 12 16]\n",
      "True [ 7  8 14 16]\n",
      "True [ 7  8 16 19]\n",
      "True [ 7  8 12 16]\n",
      "True [ 8 12 13 16]\n",
      "True [ 8 12 14 16]\n",
      "True [ 8 12 16 19]\n",
      "True [ 8 12 13 16]\n",
      "True [ 3  8 14 16]\n",
      "True [ 7  8 14 16]\n",
      "True [ 8 12 14 16]\n",
      "True [ 8 14 16 19]\n",
      "True [ 7  8 16 19]\n",
      "True [ 8 12 16 19]\n",
      "True [ 8 14 16 19]\n",
      "True [ 7  8 12 19]\n",
      "True [ 8 12 14 19]\n",
      "True [ 8 12 16 19]\n",
      "True [ 3  8 14 19]\n",
      "True [ 7  8 14 19]\n",
      "True [ 8 12 14 19]\n",
      "True [ 8 14 16 19]\n",
      "True [ 3  7 11 13]\n",
      "True [ 3  7 11 14]\n",
      "True [ 3  7 11 16]\n",
      "True [ 3  7 11 19]\n",
      "True [ 3  8 11 13]\n",
      "True [ 3 11 12 13]\n",
      "True [ 3  7 11 13]\n",
      "True [ 3  8 11 13]\n",
      "True [ 3 11 12 13]\n",
      "True [ 3 11 13 14]\n",
      "True [ 3 11 13 16]\n",
      "True [ 3 11 13 19]\n",
      "True [ 3  7 11 14]\n",
      "True [ 3 11 13 14]\n",
      "True [ 3 11 14 19]\n",
      "True [ 3  7 11 16]\n",
      "True [ 3 11 13 16]\n",
      "True [ 3 11 16 19]\n",
      "True [ 3  7 11 19]\n",
      "True [ 3 11 13 19]\n",
      "True [ 3 11 14 19]\n",
      "True [ 3 11 16 19]\n",
      "True [ 3  7 11 13]\n",
      "True [ 3  7 11 14]\n",
      "True [ 3  7 11 16]\n",
      "True [ 3  7 11 19]\n",
      "True [ 7 11 12 19]\n",
      "True [ 3  7 11 16]\n",
      "True [ 7 11 13 16]\n",
      "True [ 7 11 16 19]\n",
      "True [ 3  7 11 19]\n",
      "True [ 7 11 12 19]\n",
      "True [ 7 11 13 19]\n",
      "True [ 7 11 16 19]\n",
      "True [ 3  8 11 13]\n",
      "True [ 3 11 12 13]\n",
      "True [ 7 11 12 19]\n",
      "True [11 12 13 16]\n",
      "True [ 7 11 12 19]\n",
      "True [ 3  7 11 16]\n",
      "True [ 3 11 13 16]\n",
      "True [ 3 11 16 19]\n",
      "True [ 3  7 11 16]\n",
      "True [ 7 11 13 16]\n",
      "True [ 7 11 16 19]\n",
      "True [11 12 13 16]\n",
      "True [ 3 11 13 16]\n",
      "True [ 7 11 13 16]\n",
      "True [11 12 13 16]\n",
      "True [11 13 16 19]\n",
      "True [ 3 11 16 19]\n",
      "True [ 7 11 16 19]\n",
      "True [11 13 16 19]\n",
      "True [ 3  7 11 19]\n",
      "True [ 3 11 13 19]\n",
      "True [ 3 11 14 19]\n",
      "True [ 3 11 16 19]\n",
      "True [ 3  7 11 19]\n",
      "True [ 7 11 12 19]\n",
      "True [ 7 11 13 19]\n",
      "True [ 7 11 16 19]\n",
      "True [ 7 11 12 19]\n",
      "True [ 3 11 13 19]\n",
      "True [ 7 11 13 19]\n",
      "True [11 13 16 19]\n",
      "True [ 3 11 16 19]\n",
      "True [ 7 11 16 19]\n",
      "True [11 13 16 19]\n",
      "True [ 3  7 11 13]\n",
      "True [ 3  7 12 13]\n",
      "True [ 3  7 13 19]\n",
      "True [ 3  8 11 13]\n",
      "True [ 3  8 12 13]\n",
      "True [ 3  7 11 13]\n",
      "True [ 3  8 11 13]\n",
      "True [ 3 11 12 13]\n",
      "True [ 3 11 13 14]\n",
      "True [ 3 11 13 16]\n",
      "True [ 3 11 13 19]\n",
      "True [ 3  7 12 13]\n",
      "True [ 3  8 12 13]\n",
      "True [ 3 11 12 13]\n",
      "True [ 3 12 13 14]\n",
      "True [ 3 12 13 16]\n",
      "True [ 3 12 13 19]\n",
      "True [ 3 11 13 14]\n",
      "True [ 3 12 13 14]\n",
      "True [ 3 13 14 19]\n",
      "True [ 3 11 13 16]\n",
      "True [ 3 12 13 16]\n",
      "True [ 3 13 16 19]\n",
      "True [ 3  7 13 19]\n",
      "True [ 3 11 13 19]\n",
      "True [ 3 12 13 19]\n",
      "True [ 3 13 14 19]\n",
      "True [ 3 13 16 19]\n",
      "True [ 3  7 11 13]\n",
      "True [ 3  7 12 13]\n",
      "True [ 3  7 13 19]\n",
      "True [ 3  7 11 13]\n",
      "True [ 7 11 12 13]\n",
      "True [ 7 11 13 16]\n",
      "True [ 7 11 13 19]\n",
      "True [ 3  7 12 13]\n",
      "True [ 7 12 13 16]\n",
      "True [ 7 12 13 19]\n",
      "True [ 7 11 13 16]\n",
      "True [ 7 12 13 16]\n",
      "True [ 7 13 16 19]\n",
      "True [ 3  7 13 19]\n",
      "True [ 7 11 13 19]\n",
      "True [ 7 12 13 19]\n",
      "True [ 7 13 16 19]\n",
      "True [ 3  8 11 13]\n",
      "True [ 3  8 12 13]\n",
      "True [ 3  8 12 13]\n",
      "True [ 8 12 13 16]\n",
      "True [ 8 12 13 16]\n",
      "True [ 3  7 11 13]\n",
      "True [ 3  8 11 13]\n",
      "True [ 3 11 12 13]\n",
      "True [ 3 11 13 14]\n",
      "True [ 3 11 13 16]\n",
      "True [ 3 11 13 19]\n",
      "True [ 3  7 11 13]\n",
      "True [ 7 11 12 13]\n",
      "True [ 7 11 13 16]\n",
      "True [ 7 11 13 19]\n",
      "True [ 3  8 11 13]\n",
      "True [ 3 11 12 13]\n",
      "True [ 7 11 12 13]\n",
      "True [11 12 13 16]\n",
      "True [ 3 11 13 16]\n",
      "True [ 7 11 13 16]\n",
      "True [11 12 13 16]\n",
      "True [11 13 16 19]\n",
      "True [ 3 11 13 19]\n",
      "True [ 7 11 13 19]\n",
      "True [11 13 16 19]\n",
      "True [ 3  7 12 13]\n",
      "True [ 3  8 12 13]\n",
      "True [ 3 11 12 13]\n",
      "True [ 3 12 13 14]\n",
      "True [ 3 12 13 16]\n",
      "True [ 3 12 13 19]\n",
      "True [ 3  7 12 13]\n",
      "True [ 7 12 13 16]\n",
      "True [ 7 12 13 19]\n",
      "True [ 3  8 12 13]\n",
      "True [ 8 12 13 16]\n",
      "True [ 3 11 12 13]\n",
      "True [ 7 11 12 13]\n",
      "True [11 12 13 16]\n",
      "True [ 3 12 13 16]\n",
      "True [ 7 12 13 16]\n",
      "True [ 8 12 13 16]\n",
      "True [11 12 13 16]\n",
      "True [12 13 16 19]\n",
      "True [ 3 12 13 19]\n",
      "True [ 7 12 13 19]\n",
      "True [12 13 16 19]\n",
      "True [ 3 11 13 16]\n",
      "True [ 3 12 13 16]\n",
      "True [ 3 13 16 19]\n",
      "True [ 7 11 13 16]\n",
      "True [ 7 12 13 16]\n",
      "True [ 7 13 16 19]\n",
      "True [ 8 12 13 16]\n",
      "True [ 3 11 13 16]\n",
      "True [ 7 11 13 16]\n",
      "True [11 12 13 16]\n",
      "True [11 13 16 19]\n",
      "True [ 3 12 13 16]\n",
      "True [ 7 12 13 16]\n",
      "True [ 8 12 13 16]\n",
      "True [11 12 13 16]\n",
      "True [12 13 16 19]\n",
      "True [ 3 13 16 19]\n",
      "True [ 7 13 16 19]\n",
      "True [11 13 16 19]\n",
      "True [12 13 16 19]\n",
      "True [ 3  7 13 19]\n",
      "True [ 3 11 13 19]\n",
      "True [ 3 12 13 19]\n",
      "True [ 3 13 14 19]\n",
      "True [ 3 13 16 19]\n",
      "True [ 3  7 13 19]\n",
      "True [ 7 11 13 19]\n",
      "True [ 7 12 13 19]\n",
      "True [ 7 13 16 19]\n",
      "True [ 3 11 13 19]\n",
      "True [ 7 11 13 19]\n",
      "True [11 13 16 19]\n",
      "True [ 3 12 13 19]\n",
      "True [ 7 12 13 19]\n",
      "True [12 13 16 19]\n",
      "True [ 3 13 16 19]\n",
      "True [ 7 13 16 19]\n",
      "True [11 13 16 19]\n",
      "True [12 13 16 19]\n",
      "True [ 3  7 11 14]\n",
      "True [ 3  7 12 14]\n",
      "True [ 3  7 14 15]\n",
      "True [ 3  7  8 14]\n",
      "True [ 3  8 12 14]\n",
      "True [ 3  8 14 16]\n",
      "True [ 3  8 14 19]\n",
      "True [ 3  7 11 14]\n",
      "True [ 3 11 13 14]\n",
      "True [ 3 11 14 19]\n",
      "True [ 3  7 12 14]\n",
      "True [ 3  8 12 14]\n",
      "True [ 3 12 13 14]\n",
      "True [ 3 12 14 16]\n",
      "True [ 3 12 14 19]\n",
      "True [ 3 11 13 14]\n",
      "True [ 3 12 13 14]\n",
      "True [ 3 13 14 19]\n",
      "True [ 3  7 14 15]\n",
      "True [ 3 12 14 15]\n",
      "True [ 3 14 15 16]\n",
      "True [ 3 14 15 19]\n",
      "True [ 1  3 14 16]\n",
      "True [ 3  8 14 16]\n",
      "True [ 3 12 14 16]\n",
      "True [ 3 14 15 16]\n",
      "True [ 3 14 16 19]\n",
      "True [ 3 11 14 19]\n",
      "True [ 3 12 14 19]\n",
      "True [ 3 13 14 19]\n",
      "True [ 3 14 15 19]\n",
      "True [ 3 14 16 19]\n",
      "True [ 3  7 11 14]\n",
      "True [ 3  7 12 14]\n",
      "True [ 3  7 14 15]\n",
      "True [ 3  7 11 14]\n",
      "True [ 3  7 12 14]\n",
      "True [ 7 12 14 16]\n",
      "True [ 7 12 14 19]\n",
      "True [ 3  7 14 15]\n",
      "True [ 7 12 14 15]\n",
      "True [ 7 14 15 16]\n",
      "True [ 7 12 14 16]\n",
      "True [ 7 14 15 16]\n",
      "True [ 7 12 14 19]\n",
      "True [ 3  7  8 14]\n",
      "True [ 3  8 12 14]\n",
      "True [ 3  8 14 16]\n",
      "True [ 3  8 14 19]\n",
      "True [ 3  7  8 14]\n",
      "True [ 7  8 12 14]\n",
      "True [ 7  8 14 16]\n",
      "True [ 7  8 14 19]\n",
      "True [ 3  8 12 14]\n",
      "True [ 7  8 12 14]\n",
      "True [ 8 12 14 16]\n",
      "True [ 8 12 14 19]\n",
      "True [ 3  8 14 16]\n",
      "True [ 7  8 14 16]\n",
      "True [ 8 12 14 16]\n",
      "True [ 8 14 16 19]\n",
      "True [ 3  8 14 19]\n",
      "True [ 7  8 14 19]\n",
      "True [ 8 12 14 19]\n",
      "True [ 8 14 16 19]\n",
      "True [ 3  7 11 14]\n",
      "True [ 3 11 13 14]\n",
      "True [ 3 11 14 19]\n",
      "True [ 3  7 11 14]\n",
      "True [ 3 11 13 14]\n",
      "True [ 3 11 14 19]\n",
      "True [ 3  7 12 14]\n",
      "True [ 3  8 12 14]\n",
      "True [ 3 12 13 14]\n",
      "True [ 3 12 14 16]\n",
      "True [ 3 12 14 19]\n",
      "True [ 3  7 12 14]\n",
      "True [ 7 12 14 16]\n",
      "True [ 7 12 14 19]\n",
      "True [ 3  8 12 14]\n",
      "True [ 7  8 12 14]\n",
      "True [ 8 12 14 16]\n",
      "True [ 8 12 14 19]\n",
      "True [ 3 12 13 14]\n",
      "True [ 3 12 14 16]\n",
      "True [ 7 12 14 16]\n",
      "True [ 8 12 14 16]\n",
      "True [12 14 16 19]\n",
      "True [ 3 12 14 19]\n",
      "True [ 7 12 14 19]\n",
      "True [12 14 16 19]\n",
      "True [ 3 11 13 14]\n",
      "True [ 3 12 13 14]\n",
      "True [ 3 13 14 19]\n",
      "True [ 3 11 13 14]\n",
      "True [ 3 12 13 14]\n",
      "True [ 3 13 14 19]\n",
      "True [ 3  7 14 15]\n",
      "True [ 3 12 14 15]\n",
      "True [ 3 14 15 16]\n",
      "True [ 3 14 15 19]\n",
      "True [ 3  7 14 15]\n",
      "True [ 7 12 14 15]\n",
      "True [ 7 14 15 16]\n",
      "True [ 3 12 14 15]\n",
      "True [ 7 12 14 15]\n",
      "True [12 14 15 19]\n",
      "True [ 3 14 15 16]\n",
      "True [ 7 14 15 16]\n",
      "True [14 15 16 19]\n",
      "True [ 3 14 15 19]\n",
      "True [12 14 15 19]\n",
      "True [14 15 16 19]\n",
      "True [ 1  3 14 16]\n",
      "True [ 3  8 14 16]\n",
      "True [ 3 12 14 16]\n",
      "True [ 3 14 15 16]\n",
      "True [ 3 14 16 19]\n",
      "True [ 7 12 14 16]\n",
      "True [ 7 14 15 16]\n",
      "True [ 3  8 14 16]\n",
      "True [ 7  8 14 16]\n",
      "True [ 8 12 14 16]\n",
      "True [ 8 14 16 19]\n",
      "True [ 3 12 14 16]\n",
      "True [ 7 12 14 16]\n",
      "True [ 8 12 14 16]\n",
      "True [12 14 16 19]\n",
      "True [ 3 14 15 16]\n",
      "True [ 7 14 15 16]\n",
      "True [14 15 16 19]\n",
      "True [ 3 14 16 19]\n",
      "True [12 14 16 19]\n",
      "True [14 15 16 19]\n",
      "True [ 3 11 14 19]\n",
      "True [ 3 12 14 19]\n",
      "True [ 3 13 14 19]\n",
      "True [ 3 14 15 19]\n",
      "True [ 3 14 16 19]\n",
      "True [ 4  7 14 19]\n",
      "True [ 7 12 14 19]\n",
      "True [ 3 11 14 19]\n",
      "True [ 3 12 14 19]\n",
      "True [ 7 12 14 19]\n",
      "True [12 14 16 19]\n",
      "True [ 3 13 14 19]\n",
      "True [ 3 14 15 19]\n",
      "True [12 14 15 19]\n",
      "True [14 15 16 19]\n",
      "True [ 3 14 16 19]\n",
      "True [12 14 16 19]\n",
      "True [14 15 16 19]\n",
      "True [ 3  7 11 16]\n"
     ]
    },
    {
     "name": "stdout",
     "output_type": "stream",
     "text": [
      "True [ 7 11 13 16]\n",
      "True [ 7 11 16 19]\n",
      "True [ 7 12 13 16]\n",
      "True [ 7 12 14 16]\n",
      "True [ 7 12 16 19]\n",
      "True [ 7 11 13 16]\n",
      "True [ 7 12 13 16]\n",
      "True [ 7 13 16 19]\n",
      "True [ 7 12 14 16]\n",
      "True [ 7 14 15 16]\n",
      "True [ 3  7 15 16]\n",
      "True [ 4  7 16 19]\n",
      "True [ 7 11 16 19]\n",
      "True [ 7 12 16 19]\n",
      "True [ 7 13 16 19]\n",
      "True [ 7  8 12 16]\n",
      "True [ 7  8 14 16]\n",
      "True [ 7  8 16 19]\n",
      "True [ 7  8 12 16]\n",
      "True [ 8 12 13 16]\n",
      "True [ 8 12 14 16]\n",
      "True [ 8 12 16 19]\n",
      "True [ 8 12 13 16]\n",
      "True [ 3  8 14 16]\n",
      "True [ 7  8 14 16]\n",
      "True [ 8 12 14 16]\n",
      "True [ 8 14 16 19]\n",
      "True [ 7  8 16 19]\n",
      "True [ 8 12 16 19]\n",
      "True [ 8 14 16 19]\n",
      "True [ 3  7 11 16]\n",
      "True [ 3 11 13 16]\n",
      "True [ 3 11 16 19]\n",
      "True [ 3  7 11 16]\n",
      "True [ 7 11 13 16]\n",
      "True [ 7 11 16 19]\n",
      "True [11 12 13 16]\n",
      "True [ 3 11 13 16]\n",
      "True [ 7 11 13 16]\n",
      "True [11 12 13 16]\n",
      "True [11 13 16 19]\n",
      "True [ 3 11 16 19]\n",
      "True [ 7 11 16 19]\n",
      "True [11 13 16 19]\n",
      "True [ 7 12 13 16]\n",
      "True [ 7 12 14 16]\n",
      "True [ 7 12 16 19]\n",
      "True [ 7  8 12 16]\n",
      "True [ 8 12 13 16]\n",
      "True [ 8 12 14 16]\n",
      "True [ 8 12 16 19]\n",
      "True [11 12 13 16]\n",
      "True [ 3 12 13 16]\n",
      "True [ 7 12 13 16]\n",
      "True [ 8 12 13 16]\n",
      "True [11 12 13 16]\n",
      "True [12 13 16 19]\n",
      "True [ 3 12 14 16]\n",
      "True [ 7 12 14 16]\n",
      "True [ 8 12 14 16]\n",
      "True [12 14 16 19]\n",
      "True [ 3 12 15 16]\n",
      "True [ 7 12 16 19]\n",
      "True [12 13 16 19]\n",
      "True [12 14 16 19]\n",
      "True [ 1  3 14 16]\n",
      "True [ 3  8 14 16]\n",
      "True [ 3 12 14 16]\n",
      "True [ 3 14 15 16]\n",
      "True [ 3 14 16 19]\n",
      "True [ 7 12 14 16]\n",
      "True [ 7 14 15 16]\n",
      "True [ 3  8 14 16]\n",
      "True [ 7  8 14 16]\n",
      "True [ 8 12 14 16]\n",
      "True [ 8 14 16 19]\n",
      "True [ 3 12 14 16]\n",
      "True [ 7 12 14 16]\n",
      "True [ 8 12 14 16]\n",
      "True [12 14 16 19]\n",
      "True [ 3 14 15 16]\n",
      "True [ 7 14 15 16]\n",
      "True [14 15 16 19]\n",
      "True [ 3 14 16 19]\n",
      "True [12 14 16 19]\n",
      "True [14 15 16 19]\n",
      "True [ 3  7 15 16]\n",
      "True [ 3 12 15 16]\n",
      "True [ 3 14 15 16]\n",
      "True [ 3 15 16 19]\n",
      "True [ 3  7 15 16]\n",
      "True [ 3 12 15 16]\n",
      "True [ 3 15 16 19]\n",
      "True [14 15 16 19]\n",
      "True [ 4  7 16 19]\n",
      "True [ 4  7 16 19]\n",
      "True [ 7 11 16 19]\n",
      "True [ 7 12 16 19]\n",
      "True [ 7 13 16 19]\n",
      "True [ 3 11 16 19]\n",
      "True [ 7 11 16 19]\n",
      "True [11 13 16 19]\n",
      "True [ 7 12 16 19]\n",
      "True [12 13 16 19]\n",
      "True [12 14 16 19]\n",
      "True [ 3 13 16 19]\n",
      "True [ 7 13 16 19]\n",
      "True [11 13 16 19]\n",
      "True [12 13 16 19]\n",
      "True [ 3 14 16 19]\n",
      "True [12 14 16 19]\n",
      "True [14 15 16 19]\n",
      "True [ 3 15 16 19]\n",
      "True [14 15 16 19]\n",
      "True [ 3  7 11 19]\n",
      "True [ 3 11 13 19]\n",
      "True [ 3 11 14 19]\n",
      "True [ 3 11 16 19]\n",
      "True [ 3  7 11 19]\n",
      "True [ 7 11 12 19]\n",
      "True [ 7 11 13 19]\n",
      "True [ 7 11 16 19]\n",
      "True [ 7 11 12 19]\n",
      "True [ 3 11 13 19]\n",
      "True [ 7 11 13 19]\n",
      "True [11 13 16 19]\n",
      "True [ 3 11 16 19]\n",
      "True [ 7 11 16 19]\n",
      "True [11 13 16 19]\n",
      "True [ 7  9 12 19]\n",
      "True [ 7 12 14 19]\n",
      "True [ 7  9 12 19]\n",
      "True [ 3 12 14 19]\n",
      "True [ 7 12 14 19]\n",
      "True [ 8 12 14 19]\n",
      "True [12 14 15 19]\n",
      "True [12 14 16 19]\n",
      "True [ 7 12 16 19]\n",
      "True [12 13 16 19]\n",
      "True [12 14 16 19]\n",
      "True [ 3  7 13 19]\n",
      "True [ 3 11 13 19]\n",
      "True [ 3 12 13 19]\n",
      "True [ 3 13 14 19]\n",
      "True [ 3 13 16 19]\n",
      "True [ 3  7 13 19]\n",
      "True [ 7 11 13 19]\n",
      "True [ 7 12 13 19]\n",
      "True [ 7 13 16 19]\n",
      "True [ 3 11 13 19]\n",
      "True [ 7 11 13 19]\n",
      "True [11 13 16 19]\n",
      "True [ 3 12 13 19]\n",
      "True [ 7 12 13 19]\n",
      "True [12 13 16 19]\n",
      "True [ 3 13 16 19]\n",
      "True [ 7 13 16 19]\n",
      "True [11 13 16 19]\n",
      "True [12 13 16 19]\n",
      "True [ 3 11 14 19]\n",
      "True [ 3 12 14 19]\n",
      "True [ 3 13 14 19]\n",
      "True [ 3 14 15 19]\n",
      "True [ 3 14 16 19]\n",
      "True [ 3 11 14 19]\n",
      "True [ 3 12 14 19]\n",
      "True [ 7 12 14 19]\n",
      "True [12 14 16 19]\n",
      "True [ 3 13 14 19]\n",
      "True [ 3 14 15 19]\n",
      "True [12 14 15 19]\n",
      "True [14 15 16 19]\n",
      "True [ 3 14 16 19]\n",
      "True [12 14 16 19]\n",
      "True [14 15 16 19]\n",
      "True [ 7 11 16 19]\n",
      "True [ 7 12 16 19]\n",
      "True [ 7 13 16 19]\n",
      "True [ 3 11 16 19]\n",
      "True [ 7 11 16 19]\n",
      "True [11 13 16 19]\n",
      "True [ 7 12 16 19]\n",
      "True [12 13 16 19]\n",
      "True [12 14 16 19]\n",
      "True [ 3 13 16 19]\n",
      "True [ 7 13 16 19]\n",
      "True [11 13 16 19]\n",
      "True [12 13 16 19]\n",
      "True [ 3 14 16 19]\n",
      "True [12 14 16 19]\n",
      "True [14 15 16 19]\n",
      "True [ 3 15 16 19]\n",
      "True [14 15 16 19]\n"
     ]
    }
   ],
   "source": [
    "for pol_fls in p4_FLs:\n",
    "#     print(pol_fls)\n",
    "    if (pol_fls.tolist() in FullInf_FLs.tolist()):\n",
    "        print(True, pol_fls)\n"
   ]
  },
  {
   "cell_type": "code",
   "execution_count": 28,
   "metadata": {},
   "outputs": [],
   "source": [
    "mask_mpmordm_in_PF = [True if pol_fls.tolist() in FullInf_FLs.tolist() else False for pol_fls in p4_FLs]"
   ]
  },
  {
   "cell_type": "code",
   "execution_count": 29,
   "metadata": {
    "scrolled": true
   },
   "outputs": [
    {
     "data": {
      "text/plain": [
       "(674, 4)"
      ]
     },
     "execution_count": 29,
     "metadata": {},
     "output_type": "execute_result"
    }
   ],
   "source": [
    "p4_FLs[mask_mpmordm_in_PF].shape"
   ]
  },
  {
   "cell_type": "code",
   "execution_count": 48,
   "metadata": {},
   "outputs": [
    {
     "name": "stdout",
     "output_type": "stream",
     "text": [
      "From all 1351 possible decision paths (MPMORDM), 674 are inside the pareto optimal front for the actual values\n"
     ]
    }
   ],
   "source": [
    "print(\n",
    "    \"From all {} possible decision paths (MPMORDM), {} are inside the pareto optimal front for the actual values\".\n",
    "    format(p4_FLs.shape[0], p4_FLs[mask_mpmordm_in_PF].shape[0]))"
   ]
  },
  {
   "cell_type": "code",
   "execution_count": 45,
   "metadata": {},
   "outputs": [],
   "source": [
    "Perc_Opt_Dec_Paths = (p4_FLs[mask_mpmordm_in_PF].shape[0] / p4_FLs.shape[0])*100"
   ]
  },
  {
   "cell_type": "code",
   "execution_count": 47,
   "metadata": {
    "scrolled": true
   },
   "outputs": [
    {
     "name": "stdout",
     "output_type": "stream",
     "text": [
      "49.9% of all decision paths (MPMORDM) are in the Pareto Front\n"
     ]
    }
   ],
   "source": [
    "print(\"{0:.1f}% of all decision paths (MPMORDM) are in the Pareto Front\".format(Perc_Opt_Dec_Paths))"
   ]
  },
  {
   "cell_type": "markdown",
   "metadata": {},
   "source": [
    "###  MORDM in Pareto Front "
   ]
  },
  {
   "cell_type": "code",
   "execution_count": 49,
   "metadata": {},
   "outputs": [],
   "source": [
    "mask_mordm_in_PF = [True if pol_fls.tolist() in FullInf_FLs.tolist() else False for pol_fls in MORDM_FLs]"
   ]
  },
  {
   "cell_type": "code",
   "execution_count": 51,
   "metadata": {},
   "outputs": [
    {
     "name": "stdout",
     "output_type": "stream",
     "text": [
      "From all 60 possible decisions (MORDM), 48 are inside the pareto optimal front for the actual values\n"
     ]
    }
   ],
   "source": [
    "print(\n",
    "    \"From all {} possible decisions (MORDM), {} are inside the pareto optimal front for the actual values\".\n",
    "    format(MORDM_FLs.shape[0], MORDM_FLs[mask_mordm_in_PF].shape[0]))"
   ]
  },
  {
   "cell_type": "markdown",
   "metadata": {},
   "source": [
    "# Not? Compare on Robustness performance"
   ]
  },
  {
   "cell_type": "code",
   "execution_count": null,
   "metadata": {},
   "outputs": [],
   "source": []
  },
  {
   "cell_type": "code",
   "execution_count": null,
   "metadata": {},
   "outputs": [],
   "source": []
  },
  {
   "cell_type": "code",
   "execution_count": null,
   "metadata": {},
   "outputs": [],
   "source": []
  }
 ],
 "metadata": {
  "kernelspec": {
   "display_name": "Python 3",
   "language": "python",
   "name": "python3"
  },
  "language_info": {
   "codemirror_mode": {
    "name": "ipython",
    "version": 3
   },
   "file_extension": ".py",
   "mimetype": "text/x-python",
   "name": "python",
   "nbconvert_exporter": "python",
   "pygments_lexer": "ipython3",
   "version": "3.6.4"
  },
  "toc": {
   "nav_menu": {},
   "number_sections": true,
   "sideBar": true,
   "skip_h1_title": false,
   "title_cell": "Table of Contents",
   "title_sidebar": "Contents",
   "toc_cell": false,
   "toc_position": {},
   "toc_section_display": true,
   "toc_window_display": false
  }
 },
 "nbformat": 4,
 "nbformat_minor": 2
}
