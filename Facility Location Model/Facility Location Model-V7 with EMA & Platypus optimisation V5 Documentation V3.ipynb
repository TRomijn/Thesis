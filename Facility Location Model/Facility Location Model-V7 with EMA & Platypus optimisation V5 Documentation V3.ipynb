{
 "cells": [
  {
   "cell_type": "markdown",
   "metadata": {},
   "source": [
    "## Versions\n",
    "Facility Location Model Versions:\n",
    "* V1: Includes objective: transport costs\n",
    "* V2: Includes allocation of locations to supply hubs\n",
    "* V3: Includes objective: opening costs\n",
    "* V4: Simplification of allocation matrix: - \n",
    "    * All Facility locations are allocated to closest supply point - Validated\n",
    "    * All Demand points are allocated to closest FL if within max. covering range - Validated\n",
    "* V5: Implementation of coverage objectives - including full uncertainty matrix distances: cumbersome\n",
    "* V6: Implementation of Delivery Times\n",
    "* V7: Some improvements on model: \n",
    "    - Great circle distance\n",
    "\n",
    "EMA & Platypus optimisation Versions:\n",
    "* V1: includes optimisation via Platypus\n",
    "* V2: included model completely in ema_workbench environment\n",
    "* V3: Working single run EMA\n",
    "* V4: Implemented use of kwargs: Levers and case instantiation. Case is now instantiated outside model, by ema uncertainties and ema constant \n",
    "* V5: Start algorithm: one case. uncertainties. solutions. robustness. clustering. --> branching\n",
    "\n",
    "Documentation in Jupyter Notebook:\n",
    "* V1: Added linear programming model in formulas\n",
    "* V2: Clean and reorganise notebook\n",
    "* V3: Moving model documentation to report:<br>\n",
    "    * This implies that from here onwards, documentation in report is more up-to-date than this jupyter notebook\n"
   ]
  },
  {
   "cell_type": "markdown",
   "metadata": {},
   "source": [
    "# TODO"
   ]
  },
  {
   "cell_type": "markdown",
   "metadata": {},
   "source": [
    "TODO: Organise this to 1FLM, 2EMA,3Doc\n",
    "\n",
    "Choices:\n",
    "- Capacitated vs uncapacitated?\n",
    "- Endogenous vs exogenous number of facilities each optimisation step \n",
    "    - each increment: exogenous\n",
    "    - Full network: endogenous\n",
    "\n",
    "\n",
    "## FLM:\n",
    "- Optional: Formulate objective of social cost (or deprivation costs) mathematically and include in model\n",
    "- XX: Look at Objective Equity. See report.\n",
    "\n",
    "## Python Implementation & EMA:\n",
    "- Implement all objectives\n",
    "- Now Coordinates are uncertainties, to produce new cases as scenarios. --> Generate first, then load as constant.\n",
    "- Distances as random variables\n",
    "\n",
    "## DOC:\n",
    "\n",
    "- Clean document. Everything move to LaTex\n",
    "- allocation: make sure all FL are connected to a SP - TODO\n",
    "    - Solution 1 - SP to FL -- Found in Maharjan Hanaoka 2018:\n",
    "        - <b>Allocation of hubs to supply point is directly. Not via other hubs </b>\n",
    "        - Easiest and also assumed in other models. Also easy to argue for.\n",
    "    - Solution 2 \n",
    "        - <b>for each demand poind point: go to closest</b>\n",
    "        - for each FL: Too Complicated\n",
    "            - if angle to SP via FLX is larger than 90degrees: go via FLX\n",
    "            - if angle to SP via FLX is smaller than 90degrees: go directly\n",
    "  \n"
   ]
  },
  {
   "cell_type": "markdown",
   "metadata": {},
   "source": [
    "Do later, or for further research:\n",
    "- implement multiple types of allocation (this way, or covering tour), \n"
   ]
  },
  {
   "cell_type": "markdown",
   "metadata": {},
   "source": [
    "# Model XLRM\n",
    "\n",
    "* External factors\n",
    "* Levers\n",
    "* Relations\n",
    "* Metrics of performance"
   ]
  },
  {
   "cell_type": "markdown",
   "metadata": {},
   "source": [
    "## External Factors: Define model"
   ]
  },
  {
   "cell_type": "markdown",
   "metadata": {
    "code_folding": []
   },
   "source": [
    "- Typography\n",
    "- disruptions\n",
    "- demand landscape\n",
    "- segmented population"
   ]
  },
  {
   "cell_type": "markdown",
   "metadata": {},
   "source": [
    "# EMA model evaluator\n",
    "\n"
   ]
  },
  {
   "cell_type": "markdown",
   "metadata": {},
   "source": [
    "## EMA pseudocode"
   ]
  },
  {
   "cell_type": "markdown",
   "metadata": {},
   "source": [
    "    \n",
    "    Sequence of analysis:\n",
    "        Initialise case (input1,input2,input3) #demand_landscape, \n",
    "        Optimise (obj1,obj2,obj3)\n",
    "        Check Robustness (unc1,unc2,unc3)\n",
    "        Implement best option\n",
    "\n",
    "        Change uncertainties based on new information due to new FL\n",
    "            Do this by reducing uncertainty the most for demand points closer to their preferred DC\n",
    "\n",
    "    Merge: info up, info down\n",
    "    \n",
    "    Define classes\n",
    "    Generate case\n",
    "        create locations\n",
    "    Load EMA model\n",
    "        specifies:\n",
    "            demand landscape\n",
    "            unit transport costs\n",
    "            unit opening costs\n",
    "            Max nr of FL to be opened\n",
    "        calculates\n",
    "            distances\n",
    "            allocation\n",
    "            demand (allocated) XX TODO\n",
    "            objectives\n",
    "            "
   ]
  },
  {
   "cell_type": "markdown",
   "metadata": {},
   "source": [
    "## Incremental Facility Location Algorithm EMA"
   ]
  },
  {
   "cell_type": "markdown",
   "metadata": {},
   "source": [
    "    Start at starting point.\n",
    "        For each branch:\n",
    "            Run with best estimates uncertainties: all policies\n",
    "            For each non-dominated policy:\n",
    "                Run all scenarios, one policy\n",
    "                Calculate robustness score\n",
    "            Compare robustness scores\n",
    "            if max locations has been implemented:\n",
    "                finish branch \n",
    "            else: \n",
    "                Create new branches with chosen policies\n",
    "            "
   ]
  },
  {
   "cell_type": "markdown",
   "metadata": {},
   "source": [
    "## Model functions"
   ]
  },
  {
   "cell_type": "code",
   "execution_count": 1,
   "metadata": {},
   "outputs": [],
   "source": [
    "# Imports\n",
    "import numpy as np\n",
    "import pandas as pd\n",
    "import matplotlib.pyplot as plt\n",
    "import random\n",
    "# import ema_workbench as em\n",
    "from ema_workbench import (Model, RealParameter, IntegerParameter, Constant, ScalarOutcome, ema_logging,\n",
    "                           perform_experiments, Scenario, Policy, Constraint)\n",
    "\n",
    "# For vincenty:\n",
    "from geopy.distance import great_circle\n",
    "\n"
   ]
  },
  {
   "cell_type": "code",
   "execution_count": 2,
   "metadata": {
    "scrolled": true
   },
   "outputs": [
    {
     "data": {
      "text/plain": [
       "<Logger EMA (DEBUG)>"
      ]
     },
     "execution_count": 2,
     "metadata": {},
     "output_type": "execute_result"
    }
   ],
   "source": [
    "ema_logging.log_to_stderr(ema_logging.INFO)"
   ]
  },
  {
   "cell_type": "markdown",
   "metadata": {},
   "source": [
    "### Define classes and Case settings"
   ]
  },
  {
   "cell_type": "code",
   "execution_count": 3,
   "metadata": {
    "code_folding": [
     13,
     26
    ]
   },
   "outputs": [],
   "source": [
    "# Classes\n",
    "class demand_class:\n",
    "    \"\"\"Demand points such as affected cities or villages\"\"\"\n",
    "\n",
    "    def __init__(self, name, x, y, demand):\n",
    "        self.name = \"DP{}\".format(name)\n",
    "        self.type = \"demand\"\n",
    "        self.x = x\n",
    "        self.y = y\n",
    "        self.location = (self.x, self.y)\n",
    "        self.demand = demand\n",
    "\n",
    "\n",
    "class supply_class:\n",
    "    \"\"\"Supply points such as airports or seaports\"\"\"\n",
    "\n",
    "    def __init__(self, name, x, y, supply):\n",
    "        self.name = \"SP{}\".format(name)\n",
    "        self.type = \"supply\"\n",
    "        self.x = x\n",
    "        self.y = y\n",
    "        self.location = (self.x, self.y)\n",
    "        self.supply = supply\n",
    "        self.operational = 1\n",
    "\n",
    "\n",
    "class facility_class:\n",
    "    \"\"\"(Temporary) Distribution centers to distribute supply to demand\"\"\"\n",
    "\n",
    "    def __init__(self, name, x, y):\n",
    "        self.name = \"FL{}\".format(name)\n",
    "        self.type = \"facility\"\n",
    "        self.x = x\n",
    "        self.y = y\n",
    "        self.location = (self.x, self.y)\n",
    "        self.operational = 0\n",
    "\n",
    "\n",
    "# Case settings / Globals\n",
    "# size_area = 10\n",
    "# nr_demand_points = 10\n",
    "# nr_supply_points = 1\n",
    "# nr_optional_FL = 10"
   ]
  },
  {
   "cell_type": "markdown",
   "metadata": {},
   "source": [
    "### Functions for Instantiating case and calculating objectives"
   ]
  },
  {
   "cell_type": "code",
   "execution_count": 4,
   "metadata": {
    "code_folding": [
     5,
     22,
     35,
     87,
     117,
     170,
     194,
     211
    ]
   },
   "outputs": [],
   "source": [
    "# Instantiate case functions\n",
    "# Instantiate model\n",
    "\n",
    "\n",
    "# Create airport as a supply point\n",
    "def create_supply_points(sup_xcors, sup_ycors, supply_at_sp=100):\n",
    "\n",
    "    #TODO get a list with specific supply values for each point\n",
    "    supply_at_sps = [supply_at_sp for i in range(len(sup_xcors))]\n",
    "\n",
    "    supply_points = []\n",
    "    for i in range(len(sup_xcors)):\n",
    "        supply_points.append(\n",
    "            supply_class(\n",
    "                name=i,\n",
    "                x=sup_xcors[i],\n",
    "                y=sup_ycors[i],\n",
    "                supply=supply_at_sps[i]))\n",
    "    return supply_points\n",
    "\n",
    "\n",
    "# Create demand points\n",
    "def create_demand_points(dp_xcors, dp_ycors, demand_at_dp=10):\n",
    "\n",
    "    demand_at_dps = [demand_at_dp for i in range(len(dp_xcors))]\n",
    "\n",
    "    demand_points = []\n",
    "    for i in range(len(dp_xcors)):\n",
    "        demand_points.append(\n",
    "            demand_class(\n",
    "                name=i, x=dp_xcors[i], y=dp_ycors[i], demand=demand_at_dps[i]))\n",
    "    return demand_points\n",
    "\n",
    "\n",
    "# # Create possible facility locations\n",
    "def create_facility_locations(fl_xcors, fl_ycors):\n",
    "\n",
    "    facility_locations = []\n",
    "    for i in range(len(fl_xcors)):\n",
    "        facility_locations.append(\n",
    "            facility_class(name=i, x=fl_xcors[i], y=fl_ycors[i]))\n",
    "    return facility_locations\n",
    "\n",
    "\n",
    "# Create matrix with all distances\n",
    "def create_distance_matrix(all_nodes, distance_to_self=999):\n",
    "    \"\"\"\n",
    "    Creates a matrix with distances between all nodes\n",
    "    Input: list of all nodes (objects)\n",
    "    Output: Matrix with distances from [i,j]\n",
    "    i,j = from, to\n",
    "    Note: Matrix is symmetric: distances[i,j] = distances[j,i]\n",
    "    Note: Distance to self ([i,i]) is 100 times larger than largest distance in matrix\n",
    "    \"\"\"\n",
    "    distances = np.zeros([len(all_nodes), len(all_nodes)])\n",
    "\n",
    "    def calculate_distance(x1, y1, x2, y2, method=\"euclidean\"):\n",
    "        \n",
    "        \"\"\"\n",
    "        Lat = Y Long = X\n",
    "        (lat, lon) is coordinate notation used by geopy\n",
    "        method: euclidean or great_circle\n",
    "        great_circle returns length in meters\n",
    "        \"\"\"\n",
    "        if method == \"euclidean\":\n",
    "            dx = x1 - x2\n",
    "            dy = y1 - y2\n",
    "            return (dx**2 + dy**2)**0.5\n",
    "        \n",
    "        if method == \"great_circle\":\n",
    "            # Geopy uses location order: Lat, Lon\n",
    "            return great_circle((y1,x1),(y2,x2)).km\n",
    "\n",
    "\n",
    "    # calculate distance matrix\n",
    "    for i in range(len(all_nodes)):  #For every row\n",
    "        for j in range(len(all_nodes)):  #For every column\n",
    "            distances[i, j] = calculate_distance(\n",
    "                all_nodes[i].x, all_nodes[i].y, all_nodes[j].x, all_nodes[j].y)\n",
    "\n",
    "    # set distance to self to big distance\n",
    "    for i in range(len(distances)):\n",
    "        distances[i, i] = distance_to_self\n",
    "\n",
    "    return distances\n",
    "\n",
    "\n",
    "def create_disrupted_road_matrix(distances, multipliers, nodes):\n",
    "    \"\"\"\n",
    "    input:XX\n",
    "    nodes can be both a set of FLs or DP\n",
    "    Output: XX\n",
    "    Validated\n",
    "    \"\"\"\n",
    "    def mirror_matrix (matrix, distance_to_self=999):\n",
    "        if matrix.shape[0] != matrix.shape[1]:\n",
    "            raise ValueError ('Matrix is not well shaped. Should have dimensions n,n, where n=n') \n",
    "        for i in range(matrix.shape[0]):\n",
    "            for j in range(matrix.shape[0]):\n",
    "                if i == j: # put large numbers on the diagonals\n",
    "                    matrix[i,j] = distance_to_self\n",
    "                matrix[j,i] = (matrix[i,j])\n",
    "        return matrix\n",
    "    \n",
    "    matrix = distances.copy() # don't change distances\n",
    "    \n",
    "    node_id_s = [n.id for n in nodes]\n",
    "    \n",
    "    for i, node_id in enumerate(node_id_s):\n",
    "        matrix[:,node_id] = matrix[:,node_id] * multipliers[i]\n",
    "\n",
    "    \n",
    "    matrix = mirror_matrix(matrix)\n",
    "    \n",
    "    return matrix\n",
    "\n",
    "# allocate each demand point to either a supply point or a facility location\n",
    "def create_allocation_matrix(supply_points, demand_points, facility_locations,\n",
    "                             distances, FL_range):\n",
    "    \"\"\"\n",
    "    Returns an allocation matrix for [n,h]\n",
    "    if [n,h] is 1: node n is allocated to supply hub h\n",
    "    The full size of the matrix is n*n\n",
    "    indexes are based on node.id\n",
    "    \n",
    "    Assumptions:\n",
    "    All allocations are made based on the minimum distance\n",
    "    Supply points are not allocated to other nodes, since they are supplied by upstream logistics, which is out of scope    \n",
    "    \"\"\"\n",
    "\n",
    "    # list of all IDs for operational supply points and facility locations\n",
    "    operational_hubs_id = [\n",
    "        a.id for a in supply_points + facility_locations if a.operational == 1\n",
    "    ]\n",
    "\n",
    "    all_nodes = supply_points + facility_locations + demand_points\n",
    "    #allocation matrix of all_nodes x all_nodes\n",
    "    allocation_matrix = np.zeros([len(all_nodes), len(all_nodes)])\n",
    "\n",
    "    # for each operational facility location:\n",
    "    # we skip supply points, because we don't consider upstream logistics\n",
    "    for fl in [fl for fl in facility_locations if fl.operational == 1]:\n",
    "        # choose closest supply point (if multiple)           # XX is still necessary? not used here: (distance to iself is made very large while creating distance matrix)\n",
    "        closest_i = np.argmin([\n",
    "            distances[sp_id, fl.id]\n",
    "            for sp_id in [sp.id for sp in supply_points]\n",
    "        ])\n",
    "        # allocate me to that supply point\n",
    "        allocation_matrix[fl.id, operational_hubs_id[closest_i]] = 1\n",
    "\n",
    "    # For each demand point\n",
    "    for dp in demand_points:\n",
    "        # Assumption: Each demand point gets 1 location allocated. If 2 locations have same distance, choose first\n",
    "        # check which supply point or facility location is closest\n",
    "        # closest = the index of the minimum distance of the list of distances between this demand point and all supply points\n",
    "        closest_d = np.min(\n",
    "            [distances[hub_id, dp.id] for hub_id in operational_hubs_id])\n",
    "        closest_i = np.argmin(\n",
    "            [distances[hub_id, dp.id] for hub_id in operational_hubs_id])\n",
    "\n",
    "        # Set allocation 1 if j is closest to this demand point (or i)\n",
    "        #i: demand point index, j: supply point index\n",
    "        if closest_d < FL_range:\n",
    "            allocation_matrix[dp.id, operational_hubs_id[closest_i]] = 1\n",
    "\n",
    "    return allocation_matrix\n",
    "\n",
    "\n",
    "################### Objectives ###################\n",
    "\n",
    "def calc_costs(facility_locations, demand_points, unit_opening_costs, unit_transport_cost,\n",
    "               distances, allocation_matrix):\n",
    "    # calc opening costs of facilities\n",
    "    # assumption: supply point, i.e. airport, is already opened\n",
    "    nr_opened_fl = sum([fl.operational for fl in facility_locations])\n",
    "    total_opening_costs = nr_opened_fl * unit_opening_costs\n",
    "\n",
    "    # Calc transportation costs\n",
    "    total_distance = (allocation_matrix * distances).sum()\n",
    "    \n",
    "    #TODO: Validate\n",
    "    #Create array of all DPs and whether they are allocated to a SP or FL\n",
    "    allocated_DPs = allocation_matrix[[dp.id for dp in demand_points],:].sum(axis=1)\n",
    "    #Create array of demand for each DP\n",
    "    demand_DPs = [dp.demand for dp in demand_points]\n",
    "    # Multiply arrays to get supply for each DP\n",
    "    supply = covered_demand = np.multiply(allocated_DPs,demand_DPs)\n",
    "    \n",
    "    transportation_costs = total_distance * unit_transport_cost * sum(supply)\n",
    "    print(supply)\n",
    "\n",
    "    return total_opening_costs + transportation_costs\n",
    "\n",
    "#     Minimise total uncovered demand\n",
    "def calc_tot_uncov_demand(allocation_matrix, demand_points):\n",
    "    \"\"\"\n",
    "    input: allocation matrix and list of demand points\n",
    "    output: total uncovered demand (float)\n",
    "    \n",
    "    Validated\n",
    "    \"\"\"\n",
    "    #Create array of all DPs and whether they are allocated to a SP or FL\n",
    "    allocated_DPs = allocation_matrix[[dp.id for dp in demand_points],:].sum(axis=1)\n",
    "    #Create array of demand for each DP\n",
    "    demand_DPs = [dp.demand for dp in demand_points]\n",
    "    # Multiply arrays to get supply for each DP\n",
    "    covered_demand = np.multiply(allocated_DPs,demand_DPs)\n",
    "    total_demand = sum(demand_DPs)\n",
    "    return total_demand - sum(covered_demand)\n",
    "\n",
    "#     Minimise uncovered demand points\n",
    "def calc_uncov_DPs(allocation_matrix,demand_points):\n",
    "    \"\"\"\n",
    "    Input: allocation matrix and list of demand points\n",
    "    Output: number of demand points that has not been allocated\n",
    "    \n",
    "    Validated\n",
    "    \"\"\" \n",
    "    # create array of all DPs and whether they are allocated to a SP or FL\n",
    "    allocated_DPs = allocation_matrix[[dp.id for dp in demand_points],:].sum(axis=1)\n",
    "    n_uncov_DPs = len(demand_points) - sum(allocated_DPs)\n",
    "    return int(n_uncov_DPs)\n",
    "\n",
    "#     Minimise Total Distribution Times\n",
    "def calc_tot_distr_time(allocation_matrix, road_distances, speed):\n",
    "    \"\"\"\n",
    "    road_distances = disrupted roads\n",
    "    \"\"\"\n",
    "    total_distances = allocation_matrix * road_distances\n",
    "    tot_distr_time = total_distances.sum() / speed # distance / speed = time\n",
    "    return tot_distr_time"
   ]
  },
  {
   "cell_type": "code",
   "execution_count": 5,
   "metadata": {
    "code_folding": [
     1,
     15
    ]
   },
   "outputs": [],
   "source": [
    "# Functions for plotting\n",
    "def plotting_create_allocation_lines(all_nodes, allocation_matrix):\n",
    "\n",
    "    allocation_lines = np.zeros([len(all_nodes), 4])\n",
    "    # creates matrix x1,y1,x2,y2\n",
    "    for i, line in enumerate(zip(allocation_matrix)):\n",
    "        if allocation_matrix[i].sum() == 0:\n",
    "            continue\n",
    "        allocation_lines[i, 0:2] = list(all_nodes[i].location)\n",
    "        # Assumption: Only 1 location allocated # if changing: loop over list comprehension: [more than 0 allocated]\n",
    "        allocation_lines[i, 2:4] = list((all_nodes)[np.argmax(line)].location)\n",
    "\n",
    "    return allocation_lines\n",
    "\n",
    "\n",
    "def plotting_plot_map(demand_points,\n",
    "                      facility_locations,\n",
    "                      supply_points,\n",
    "                      allocation_lines=False):\n",
    "    \n",
    "    xmax = max([n.x for n in demand_points + facility_locations + supply_points]) + 1\n",
    "    xmin = min([n.x for n in demand_points + facility_locations + supply_points]) - 1\n",
    "    ymax = max([n.y for n in demand_points + facility_locations + supply_points]) + 1\n",
    "    ymin = min([n.y for n in demand_points + facility_locations + supply_points]) - 1\n",
    "    \n",
    "    plt.axis([xmin, xmax, ymin, ymax])\n",
    "\n",
    "    for x in demand_points:\n",
    "        plt.scatter(x.x, x.y, c=\"green\", marker=\"<\")\n",
    "\n",
    "    for x in facility_locations:\n",
    "        if x.operational == 0:\n",
    "            plt.scatter(x.x, x.y, c=\"red\", marker=\"x\", s=10)\n",
    "        if x.operational == 1:\n",
    "            plt.scatter(x.x, x.y, c=\"blue\", marker=\"x\", s=50)\n",
    "    for x in supply_points:\n",
    "        plt.scatter(x.x, x.y, c=\"blue\", marker=\">\")\n",
    "\n",
    "    # plot allocation lines\n",
    "    if allocation_lines is not False:\n",
    "        for line in allocation_lines:\n",
    "            plt.plot(line[[0, 2]], line[[1, 3]], c=\"green\")\n",
    "\n",
    "    # plt.plot([0,4], [8,9])"
   ]
  },
  {
   "cell_type": "markdown",
   "metadata": {
    "heading_collapsed": true
   },
   "source": [
    "## Pseudocode\n",
    "    "
   ]
  },
  {
   "cell_type": "markdown",
   "metadata": {
    "hidden": true
   },
   "source": [
    "    Model:\n",
    "        Input:\n",
    "            FL Options: FL1,FL2,FL3, ..., FLn\n",
    "            \n",
    "            unit_opening_costs,\n",
    "            unit_transport_cost,\n",
    "            FL_range\n",
    "            \n",
    "            Coordinates of SP,FL,DP\n",
    "            Demand at DPs\n",
    "            \n",
    "        Calculate:\n",
    "            Distances\n",
    "            allocate \n",
    "            Distribution times\n",
    "            Objectives:\n",
    "                Minimise total costs\n",
    "                    Total Opening costs\n",
    "                    Total Transportation costs\n",
    "                Minimise total uncovered demand\n",
    "                Minimise uncivered demand points\n",
    "                Minimise Total Distribution Times\n",
    "                Later maybe: Social costs = Logistics + deprivation costs\n",
    "             Constraints:\n",
    "                 nr of operational FL\n",
    "                 \n",
    "                \n",
    "        Return Objectives, Constraints"
   ]
  },
  {
   "cell_type": "markdown",
   "metadata": {},
   "source": [
    "## Model"
   ]
  },
  {
   "cell_type": "code",
   "execution_count": 6,
   "metadata": {
    "code_folding": []
   },
   "outputs": [],
   "source": [
    "def FL_model(unit_opening_costs,\n",
    "             unit_transport_cost,\n",
    "             graphical_representation=False,\n",
    "             FL_range=2,\n",
    "             lorry_speed=60, # km/h. Speed is Average speed. Constant, because roads are individually disrupted.\n",
    "             **kwargs):\n",
    "    \"\"\"\n",
    "    Inputs:\n",
    "    Returns: Objectives, Constraints\n",
    "    \"\"\"\n",
    "\n",
    "    #unpack kwargs\n",
    "    keys = sorted(kwargs.keys())\n",
    "    sp_xcors = [kwargs[x] for x in [k for k in keys if k[:3] == 'SPX']]\n",
    "    sp_ycors = [kwargs[x] for x in [k for k in keys if k[:3] == 'SPY']]\n",
    "    dp_xcors = [kwargs[x] for x in [k for k in keys if k[:3] == 'DPX']]\n",
    "    dp_ycors = [kwargs[x] for x in [k for k in keys if k[:3] == 'DPY']]\n",
    "    fl_xcors = [kwargs[x] for x in [k for k in keys if k[:3] == 'FLX']]\n",
    "    fl_ycors = [kwargs[x] for x in [k for k in keys if k[:3] == 'FLY']]\n",
    "\n",
    "    fl_operational = [kwargs[x] for x in [k for k in keys if k[:3] == 'FLO']]\n",
    "\n",
    "    disruption_DPs = [kwargs[x] for x in [k for k in keys if k[:5] == 'DSRDP']]\n",
    "    disruption_FLs = [kwargs[x] for x in [k for k in keys if k[:5] == 'DSRFL']]\n",
    "    \n",
    "    #TODO Assign demand to demand points\n",
    "    dp_demand = [kwargs[x] for x in [k for k in keys if k[:3] == 'DPD']]\n",
    "\n",
    "    # set up model\n",
    "    supply_points = create_supply_points(sp_xcors, sp_ycors)\n",
    "    demand_points = create_demand_points(dp_xcors, dp_ycors)\n",
    "    facility_locations = create_facility_locations(fl_xcors, fl_ycors)\n",
    "\n",
    "    # Organise all nodes and create distance matrix\n",
    "    all_nodes = supply_points + facility_locations + demand_points\n",
    "    # Give all nodes in model an identifier corresponding to position in matrix\n",
    "    for i in range(len(all_nodes)):\n",
    "        all_nodes[i].id = i\n",
    "\n",
    "    # Check if things are right\n",
    "    if len(facility_locations) != len(fl_operational):\n",
    "        print(\"Length FL arrays not equal, FL_model:\", len(facility_locations),\n",
    "              len(fl_operational))\n",
    "\n",
    "    # Set operational FLs from levers\n",
    "    for i, fl in enumerate(facility_locations):\n",
    "        fl.operational = fl_operational[i]\n",
    "\n",
    "    distances = create_distance_matrix(all_nodes)\n",
    "    \n",
    "    # calculate road disruptions for FLs\n",
    "    disr_roads = create_disrupted_road_matrix(distances, disruption_FLs, facility_locations)\n",
    "    # calculate road disruptions for DPs\n",
    "    disr_roads = create_disrupted_road_matrix(distances, disruption_DPs, demand_points)\n",
    "    \n",
    "    \n",
    "    allocation_matrix = create_allocation_matrix(\n",
    "        supply_points, demand_points, facility_locations, distances, FL_range)\n",
    "    # Assumption: allocation based on euclidean distance (because roads and road conditions are unknown)\n",
    "\n",
    "    # determine objectives\n",
    "\n",
    "    #     Minimise total costs\n",
    "    #         Total Opening costs\n",
    "    #         Total Transportation costs\n",
    "    total_costs = calc_costs(facility_locations, demand_points, unit_opening_costs,\n",
    "                             unit_transport_cost, distances, allocation_matrix)\n",
    "\n",
    "    #     Minimise total uncovered demand\n",
    "    total_uncovered_demand = calc_tot_uncov_demand(allocation_matrix,\n",
    "                                                   demand_points)\n",
    "\n",
    "    #     Minimise uncovered demand points\n",
    "    nr_uncovered_DPs = calc_uncov_DPs(allocation_matrix, demand_points)\n",
    "\n",
    "    #     Minimise Total Distribution Times\n",
    "    total_distr_time = calc_tot_distr_time(allocation_matrix, disr_roads, lorry_speed)\n",
    "\n",
    "    # give a graphical representation of instantiation and allocation\n",
    "    if graphical_representation == True:\n",
    "        allocation_lines = plotting_create_allocation_lines(\n",
    "            all_nodes, allocation_matrix)\n",
    "\n",
    "        plotting_plot_map(demand_points, facility_locations, supply_points,\n",
    "                          allocation_lines)\n",
    "        plt.show()\n",
    "\n",
    "    return total_costs, nr_uncovered_DPs, total_uncovered_demand, total_distr_time, sum(\n",
    "        [fl.operational for fl in facility_locations])"
   ]
  },
  {
   "cell_type": "code",
   "execution_count": 9,
   "metadata": {},
   "outputs": [],
   "source": [
    "# For direct input model\n",
    "nr_of_SPs = 1\n",
    "nr_of_DPs = 5\n",
    "nr_of_FLs = 6\n",
    "nr_nodes = nr_of_SPs + nr_of_DPs + nr_of_FLs\n",
    "areasize = 10\n",
    "\n",
    "# Disruptions for each node\n",
    "\n",
    "# DSR = Disruption Demand Points\n",
    "# .5, 1.5: 50% of the time more or less, for traveling that distance\n",
    "DSRDP = {\"DSRDP{}\".format(i): random.uniform (.5, 1.5) for i in range(nr_of_DPs)}\n",
    "DSRFL = {\"DSRFL{}\".format(i): random.uniform (.5, 1.5) for i in range(nr_of_FLs)}\n",
    "\n",
    "# Coordinates\n",
    "SPX = {\"SPX{}\".format(i): random.uniform(0,areasize) for i in range(nr_of_SPs)}\n",
    "SPY = {\"SPY{}\".format(i): random.uniform(0,areasize) for i in range(nr_of_SPs)}\n",
    "DPX = {\"DPX{}\".format(i): random.uniform(0,areasize) for i in range(nr_of_DPs)}\n",
    "DPY = {\"DPY{}\".format(i): random.uniform(0,areasize) for i in range(nr_of_DPs)}\n",
    "FLX = {\"FLX{}\".format(i): random.uniform(0,areasize) for i in range(nr_of_FLs)}\n",
    "FLY = {\"FLY{}\".format(i): random.uniform(0,areasize) for i in range(nr_of_FLs)}\n",
    "\n",
    "FLO={\"FLO0\":1,\"FLO1\":1 ,\"FLO2\":0,\"FLO3\":1,\"FLO4\":0,\"FLO5\":0}"
   ]
  },
  {
   "cell_type": "code",
   "execution_count": 10,
   "metadata": {
    "scrolled": true
   },
   "outputs": [
    {
     "name": "stdout",
     "output_type": "stream",
     "text": [
      "[10.  0.  0.  0. 10.]\n"
     ]
    },
    {
     "data": {
      "image/png": "[encoded data removed]",
      "text/plain": [
       "<Figure size 432x288 with 1 Axes>"
      ]
     },
     "metadata": {},
     "output_type": "display_data"
    },
    {
     "data": {
      "text/plain": [
       "(648.0703913377971, 3, 30.0, 0.3067629094052767, 3)"
      ]
     },
     "execution_count": 10,
     "metadata": {},
     "output_type": "execute_result"
    }
   ],
   "source": [
    "# costs, nr_uncovered_DPs, total_uncovered_demand, total_distr_time, nr_op_fls = \n",
    "FL_model(\n",
    "    100,\n",
    "    1,\n",
    "    True,\n",
    "    FL_range=2,\n",
    "    **SPX,\n",
    "    **SPY,\n",
    "    **DPX,\n",
    "    **DPY,\n",
    "    **FLX,\n",
    "    **FLY,\n",
    "    **FLO,\n",
    "    **DSRDP,\n",
    "    **DSRFL)"
   ]
  },
  {
   "cell_type": "code",
   "execution_count": 232,
   "metadata": {
    "code_folding": []
   },
   "outputs": [],
   "source": [
    "# Meta parametric variables\n",
    "nr_of_SPs = 1\n",
    "nr_of_DPs = 10\n",
    "nr_of_FLs = 6\n",
    "areasize = 10\n",
    "nr_nodes = nr_of_SPs + nr_of_DPs + nr_of_FLs\n",
    "\n",
    "#Instantiate EMA model\n",
    "FL_EMAmodel = Model('flmodel', function=FL_model)\n",
    "\n",
    "#Specify constants\n",
    "FL_EMAmodel.constants = [\n",
    "    Constant('unit_opening_costs', 100),\n",
    "    Constant('unit_transport_cost', 1),\n",
    "    Constant('graphical_representation', True),\n",
    "    Constant('FL_range', 2),\n",
    "    Constant('lorry_Speed',60) # km/h. Speed is Average speed. Constant, because roads are individually disrupted \n",
    "]\n",
    "\n",
    "#Specify coordinates of locations\n",
    "# 0 - size area, range nr supply points\n",
    "FL_EMAmodel.locations = [\n",
    "    RealParameter(\"SPX{}\".format(i), 0, areasize) for i in range(nr_of_SPs)\n",
    "] + [\n",
    "    RealParameter(\"SPY{}\".format(i), 0, areasize) for i in range(nr_of_SPs)\n",
    "] + [\n",
    "    RealParameter(\"DPX{}\".format(i), 0, areasize) for i in range(nr_of_DPs)\n",
    "] + [\n",
    "    RealParameter(\"DPY{}\".format(i), 0, areasize) for i in range(nr_of_DPs)\n",
    "] + [\n",
    "    RealParameter(\"FLX{}\".format(i), 0, areasize) for i in range(nr_of_FLs)\n",
    "] + [RealParameter(\"FLY{}\".format(i), 0, areasize) for i in range(nr_of_FLs)]\n",
    "\n",
    "# Reachability of Demand Points and Facility Locations can be disrupted\n",
    "FL_EMAmodel.disruptions = [\n",
    "    RealParameter(\"DSRFL{}\".format(i), -0.5, 0.5) for i in range(nr_of_FLs)\n",
    "] + [\n",
    "    RealParameter(\"DSRDP{}\".format(i), -0.5, 0.5) for i in range(nr_of_DPs)\n",
    "]\n",
    "\n",
    "#Specify uncertainties\n",
    "FL_EMAmodel.uncertainties = FL_EMAmodel.locations + FL_EMAmodel.disruptions\n",
    "\n",
    "#     RealParameter('DTNN{}{}'.format(n1,n2),-0.5,0.5) # - 50% + 50% for all n, for all n\n",
    "\n",
    "# # Specify levers\n",
    "# Facility Location Operational: [0,1]\n",
    "FL_EMAmodel.levers = [\n",
    "    IntegerParameter(\"FLO{}\".format(i), 0, 1) for i in range(nr_of_FLs)\n",
    "]\n",
    "\n",
    "# FL_EMAmodel.c\n",
    "\n",
    "# Specify outcomes\n",
    "FL_EMAmodel.outcomes = [\n",
    "    ScalarOutcome('Total_cost', MINIZ),\n",
    "    ScalarOutcome('Nr_uncovered_DPs'),\n",
    "    ScalarOutcome('Total_uncovered_demand'),\n",
    "    ScalarOutcome('Total_distr_time')\n",
    "]\n",
    "\n",
    "FL_EMAmodel.constraints = [\n",
    "    Constraint()\n",
    "]\n",
    "\n",
    "# ScalarOutcome('operational_FL'),\n",
    "    \n",
    "\n",
    "\n",
    "# total_costs, nr_uncovered_DPs, total_uncovered_demand, total_distr_time,"
   ]
  },
  {
   "cell_type": "code",
   "execution_count": null,
   "metadata": {},
   "outputs": [],
   "source": []
  },
  {
   "cell_type": "code",
   "execution_count": 32,
   "metadata": {},
   "outputs": [
    {
     "data": {
      "text/plain": [
       "IntegerParameter('test', 0, 2)"
      ]
     },
     "execution_count": 32,
     "metadata": {},
     "output_type": "execute_result"
    }
   ],
   "source": [
    "IntegerParameter(\"test\",0,1)"
   ]
  },
  {
   "cell_type": "code",
   "execution_count": 39,
   "metadata": {},
   "outputs": [
    {
     "data": {
      "text/plain": [
       "{'FLO0': 0, 'FLO1': 0, 'FLO2': 0, 'FLO3': 0, 'FLO4': 0, 'FLO5': 0}"
      ]
     },
     "execution_count": 39,
     "metadata": {},
     "output_type": "execute_result"
    }
   ],
   "source": [
    "Policy(\"no_FLs\",**{lever.name: 0 for lever in FL_EMAmodel.levers})"
   ]
  },
  {
   "cell_type": "code",
   "execution_count": 18,
   "metadata": {},
   "outputs": [
    {
     "ename": "NameError",
     "evalue": "name 'FL_EMAmodel' is not defined",
     "output_type": "error",
     "traceback": [
      "\u001b[1;31m---------------------------------------------------------------------------\u001b[0m",
      "\u001b[1;31mNameError\u001b[0m                                 Traceback (most recent call last)",
      "\u001b[1;32m<ipython-input-18-5d2a032b1629>\u001b[0m in \u001b[0;36m<module>\u001b[1;34m()\u001b[0m\n\u001b[0;32m      3\u001b[0m \u001b[1;32mfrom\u001b[0m \u001b[0mema_workbench\u001b[0m\u001b[1;33m.\u001b[0m\u001b[0mem_framework\u001b[0m \u001b[1;32mimport\u001b[0m \u001b[0msample_levers\u001b[0m\u001b[1;33m\u001b[0m\u001b[0m\n\u001b[0;32m      4\u001b[0m \u001b[1;33m\u001b[0m\u001b[0m\n\u001b[1;32m----> 5\u001b[1;33m \u001b[0msamples\u001b[0m \u001b[1;33m=\u001b[0m \u001b[0msample_levers\u001b[0m\u001b[1;33m(\u001b[0m\u001b[0mFL_EMAmodel\u001b[0m\u001b[1;33m,\u001b[0m \u001b[1;36m5\u001b[0m\u001b[1;33m)\u001b[0m\u001b[1;33m\u001b[0m\u001b[0m\n\u001b[0m\u001b[0;32m      6\u001b[0m \u001b[1;33m\u001b[0m\u001b[0m\n\u001b[0;32m      7\u001b[0m \u001b[1;32mfor\u001b[0m \u001b[0msample\u001b[0m \u001b[1;32min\u001b[0m \u001b[0msamples\u001b[0m\u001b[1;33m:\u001b[0m\u001b[1;33m\u001b[0m\u001b[0m\n",
      "\u001b[1;31mNameError\u001b[0m: name 'FL_EMAmodel' is not defined"
     ]
    }
   ],
   "source": [
    "\n",
    "\n",
    "from ema_workbench.em_framework import sample_levers\n",
    "\n",
    "samples = sample_levers(FL_EMAmodel, 5)\n",
    "\n",
    "for sample in samples:\n",
    "    print(sample)\n"
   ]
  },
  {
   "cell_type": "code",
   "execution_count": null,
   "metadata": {},
   "outputs": [],
   "source": []
  },
  {
   "cell_type": "code",
   "execution_count": 35,
   "metadata": {
    "scrolled": false
   },
   "outputs": [
    {
     "data": {
      "image/png": "[encoded data removed]",
      "text/plain": [
       "<Figure size 432x288 with 1 Axes>"
      ]
     },
     "metadata": {},
     "output_type": "display_data"
    }
   ],
   "source": [
    "FL_EMAmodel.run_model(Scenario(), Policy({}))"
   ]
  },
  {
   "cell_type": "code",
   "execution_count": 29,
   "metadata": {},
   "outputs": [],
   "source": [
    "random_scenario = Scenario(**{unc.name: random.uniform(0,10) for unc in FL_EMAmodel.uncertainties})"
   ]
  },
  {
   "cell_type": "code",
   "execution_count": 35,
   "metadata": {
    "scrolled": true
   },
   "outputs": [
    {
     "name": "stderr",
     "output_type": "stream",
     "text": [
      "[MainProcess/INFO] performing 1 scenarios * 3 policies * 1 model(s) = 3 experiments\n",
      "[MainProcess/INFO] performing experiments sequentially\n"
     ]
    },
    {
     "data": {
      "image/png": "[encoded data removed]",
      "text/plain": [
       "<Figure size 432x288 with 1 Axes>"
      ]
     },
     "metadata": {},
     "output_type": "display_data"
    },
    {
     "name": "stderr",
     "output_type": "stream",
     "text": [
      "[MainProcess/INFO] 1 cases completed\n"
     ]
    },
    {
     "data": {
      "image/png": "[encoded data removed]",
      "text/plain": [
       "<Figure size 432x288 with 1 Axes>"
      ]
     },
     "metadata": {},
     "output_type": "display_data"
    },
    {
     "name": "stderr",
     "output_type": "stream",
     "text": [
      "[MainProcess/INFO] 2 cases completed\n"
     ]
    },
    {
     "data": {
      "image/png": "[encoded data removed]",
      "text/plain": [
       "<Figure size 432x288 with 1 Axes>"
      ]
     },
     "metadata": {},
     "output_type": "display_data"
    },
    {
     "name": "stderr",
     "output_type": "stream",
     "text": [
      "[MainProcess/INFO] 3 cases completed\n",
      "[MainProcess/INFO] experiments finished\n"
     ]
    }
   ],
   "source": [
    "from ema_workbench import Policy, perform_experiments\n",
    "\n",
    "policy_no = Policy(\"No_FLs\",**{lever.name: 0 for lever in FL_EMAmodel.levers})\n",
    "policy_all = Policy(\"All_FLs\",**{lever.name: 1 for lever in FL_EMAmodel.levers})\n",
    "\n",
    "results = perform_experiments(FL_EMAmodel, random_scenario,3)\n",
    "\n",
    "\n",
    "experiments, outcomes = results"
   ]
  },
  {
   "cell_type": "code",
   "execution_count": 89,
   "metadata": {
    "scrolled": true
   },
   "outputs": [
    {
     "data": {
      "text/html": [
       "<div>\n",
       "<style scoped>\n",
       "    .dataframe tbody tr th:only-of-type {\n",
       "        vertical-align: middle;\n",
       "    }\n",
       "\n",
       "    .dataframe tbody tr th {\n",
       "        vertical-align: top;\n",
       "    }\n",
       "\n",
       "    .dataframe thead th {\n",
       "        text-align: right;\n",
       "    }\n",
       "</style>\n",
       "<table border=\"1\" class=\"dataframe\">\n",
       "  <thead>\n",
       "    <tr style=\"text-align: right;\">\n",
       "      <th></th>\n",
       "      <th>DPX0</th>\n",
       "      <th>DPX1</th>\n",
       "      <th>DPX2</th>\n",
       "      <th>DPX3</th>\n",
       "      <th>DPX4</th>\n",
       "      <th>DPX5</th>\n",
       "      <th>DPX6</th>\n",
       "      <th>DPX7</th>\n",
       "      <th>DPX8</th>\n",
       "      <th>DPX9</th>\n",
       "      <th>...</th>\n",
       "      <th>SPY0</th>\n",
       "      <th>FLO0</th>\n",
       "      <th>FLO1</th>\n",
       "      <th>FLO2</th>\n",
       "      <th>FLO3</th>\n",
       "      <th>FLO4</th>\n",
       "      <th>FLO5</th>\n",
       "      <th>scenario_id</th>\n",
       "      <th>policy</th>\n",
       "      <th>model</th>\n",
       "    </tr>\n",
       "  </thead>\n",
       "  <tbody>\n",
       "    <tr>\n",
       "      <th>0</th>\n",
       "      <td>8.511881</td>\n",
       "      <td>3.216641</td>\n",
       "      <td>7.190886</td>\n",
       "      <td>5.747872</td>\n",
       "      <td>5.591575</td>\n",
       "      <td>5.096612</td>\n",
       "      <td>1.634270</td>\n",
       "      <td>8.165164</td>\n",
       "      <td>2.712119</td>\n",
       "      <td>5.784892</td>\n",
       "      <td>...</td>\n",
       "      <td>5.212050</td>\n",
       "      <td>0</td>\n",
       "      <td>0</td>\n",
       "      <td>0</td>\n",
       "      <td>0</td>\n",
       "      <td>0</td>\n",
       "      <td>0</td>\n",
       "      <td>70</td>\n",
       "      <td>1</td>\n",
       "      <td>flmodel</td>\n",
       "    </tr>\n",
       "    <tr>\n",
       "      <th>1</th>\n",
       "      <td>0.659520</td>\n",
       "      <td>9.540083</td>\n",
       "      <td>0.529086</td>\n",
       "      <td>0.895843</td>\n",
       "      <td>4.775754</td>\n",
       "      <td>3.536806</td>\n",
       "      <td>8.336866</td>\n",
       "      <td>2.628721</td>\n",
       "      <td>9.053414</td>\n",
       "      <td>4.874742</td>\n",
       "      <td>...</td>\n",
       "      <td>4.590406</td>\n",
       "      <td>0</td>\n",
       "      <td>0</td>\n",
       "      <td>0</td>\n",
       "      <td>0</td>\n",
       "      <td>0</td>\n",
       "      <td>0</td>\n",
       "      <td>71</td>\n",
       "      <td>1</td>\n",
       "      <td>flmodel</td>\n",
       "    </tr>\n",
       "  </tbody>\n",
       "</table>\n",
       "<p>2 rows × 43 columns</p>\n",
       "</div>"
      ],
      "text/plain": [
       "       DPX0      DPX1      DPX2      DPX3      DPX4      DPX5      DPX6  \\\n",
       "0  8.511881  3.216641  7.190886  5.747872  5.591575  5.096612  1.634270   \n",
       "1  0.659520  9.540083  0.529086  0.895843  4.775754  3.536806  8.336866   \n",
       "\n",
       "       DPX7      DPX8      DPX9   ...         SPY0  FLO0  FLO1  FLO2  FLO3  \\\n",
       "0  8.165164  2.712119  5.784892   ...     5.212050     0     0     0     0   \n",
       "1  2.628721  9.053414  4.874742   ...     4.590406     0     0     0     0   \n",
       "\n",
       "   FLO4  FLO5  scenario_id  policy    model  \n",
       "0     0     0           70       1  flmodel  \n",
       "1     0     0           71       1  flmodel  \n",
       "\n",
       "[2 rows x 43 columns]"
      ]
     },
     "execution_count": 89,
     "metadata": {},
     "output_type": "execute_result"
    }
   ],
   "source": [
    "pd.DataFrame(experiments)#[[\"FLO0\",\"FLO1\",\"FLO2\",\"FLO3\"]]"
   ]
  },
  {
   "cell_type": "code",
   "execution_count": 38,
   "metadata": {
    "scrolled": false
   },
   "outputs": [
    {
     "data": {
      "text/html": [
       "<div>\n",
       "<style scoped>\n",
       "    .dataframe tbody tr th:only-of-type {\n",
       "        vertical-align: middle;\n",
       "    }\n",
       "\n",
       "    .dataframe tbody tr th {\n",
       "        vertical-align: top;\n",
       "    }\n",
       "\n",
       "    .dataframe thead th {\n",
       "        text-align: right;\n",
       "    }\n",
       "</style>\n",
       "<table border=\"1\" class=\"dataframe\">\n",
       "  <thead>\n",
       "    <tr style=\"text-align: right;\">\n",
       "      <th></th>\n",
       "      <th>Total_cost</th>\n",
       "      <th>operational_FL</th>\n",
       "    </tr>\n",
       "  </thead>\n",
       "  <tbody>\n",
       "    <tr>\n",
       "      <th>0</th>\n",
       "      <td>441.705585</td>\n",
       "      <td>4.0</td>\n",
       "    </tr>\n",
       "    <tr>\n",
       "      <th>1</th>\n",
       "      <td>428.372205</td>\n",
       "      <td>4.0</td>\n",
       "    </tr>\n",
       "    <tr>\n",
       "      <th>2</th>\n",
       "      <td>237.854518</td>\n",
       "      <td>2.0</td>\n",
       "    </tr>\n",
       "    <tr>\n",
       "      <th>3</th>\n",
       "      <td>234.220134</td>\n",
       "      <td>2.0</td>\n",
       "    </tr>\n",
       "  </tbody>\n",
       "</table>\n",
       "</div>"
      ],
      "text/plain": [
       "   Total_cost  operational_FL\n",
       "0  441.705585             4.0\n",
       "1  428.372205             4.0\n",
       "2  237.854518             2.0\n",
       "3  234.220134             2.0"
      ]
     },
     "execution_count": 38,
     "metadata": {},
     "output_type": "execute_result"
    }
   ],
   "source": [
    "pd.DataFrame(outcomes)"
   ]
  },
  {
   "cell_type": "code",
   "execution_count": null,
   "metadata": {},
   "outputs": [],
   "source": []
  },
  {
   "cell_type": "markdown",
   "metadata": {},
   "source": [
    "## EMA Algorithm"
   ]
  },
  {
   "cell_type": "markdown",
   "metadata": {},
   "source": [
    "Data types required:\n",
    "- DF with certain variables: Locations, distances\n",
    "- Data type:\n",
    "    - uncertain variables: ranges, best_estimates and actual values\n",
    "    - Some representation of full tree, includes:\n",
    "        - Which FL at which period implemented, proportion of prioritisation objective\n",
    "\n",
    "EMA Algorithm:\n",
    "\n",
    "0. Instantiate\n",
    "1. Optimise (Platypus / Full Factorial + nondominated\n",
    "2. create policies from optimise results (python)\n",
    "3. robustness analysis (EMA)\n",
    "4. cluster, based on robustness analysis\n",
    "5. branch / implement"
   ]
  },
  {
   "cell_type": "code",
   "execution_count": 8,
   "metadata": {},
   "outputs": [],
   "source": [
    "import pandas as pd\n",
    "import numpy as np\n",
    "import random"
   ]
  },
  {
   "cell_type": "code",
   "execution_count": 9,
   "metadata": {},
   "outputs": [
    {
     "data": {
      "text/html": [
       "<div>\n",
       "<style scoped>\n",
       "    .dataframe tbody tr th:only-of-type {\n",
       "        vertical-align: middle;\n",
       "    }\n",
       "\n",
       "    .dataframe tbody tr th {\n",
       "        vertical-align: top;\n",
       "    }\n",
       "\n",
       "    .dataframe thead th {\n",
       "        text-align: right;\n",
       "    }\n",
       "</style>\n",
       "<table border=\"1\" class=\"dataframe\">\n",
       "  <thead>\n",
       "    <tr style=\"text-align: right;\">\n",
       "      <th></th>\n",
       "      <th>City</th>\n",
       "      <th>Population</th>\n",
       "      <th>Latitude (DD)</th>\n",
       "      <th>Longitude (DD)</th>\n",
       "    </tr>\n",
       "  </thead>\n",
       "  <tbody>\n",
       "    <tr>\n",
       "      <th>0</th>\n",
       "      <td>Kathmandu</td>\n",
       "      <td>743300</td>\n",
       "      <td>27.71</td>\n",
       "      <td>85.31</td>\n",
       "    </tr>\n",
       "  </tbody>\n",
       "</table>\n",
       "</div>"
      ],
      "text/plain": [
       "        City  Population  Latitude (DD)  Longitude (DD)\n",
       "0  Kathmandu      743300          27.71           85.31"
      ]
     },
     "execution_count": 9,
     "metadata": {},
     "output_type": "execute_result"
    }
   ],
   "source": [
    "Nepal = pd.read_excel(\"Data/Nepal Cities Population.xlsx\", usecols=[1,2,3,4])\n",
    "\n",
    "# Take only larger cities, because of many null values under 50000 inhabitants. \n",
    "# TODO find better dataset with population and coordinates\n",
    "Nepal = Nepal [Nepal.Population >= 50000]\n",
    "Nepal.head(1)"
   ]
  },
  {
   "cell_type": "code",
   "execution_count": null,
   "metadata": {
    "scrolled": true
   },
   "outputs": [],
   "source": []
  },
  {
   "cell_type": "code",
   "execution_count": 10,
   "metadata": {},
   "outputs": [
    {
     "data": {
      "text/html": [
       "<div>\n",
       "<style scoped>\n",
       "    .dataframe tbody tr th:only-of-type {\n",
       "        vertical-align: middle;\n",
       "    }\n",
       "\n",
       "    .dataframe tbody tr th {\n",
       "        vertical-align: top;\n",
       "    }\n",
       "\n",
       "    .dataframe thead th {\n",
       "        text-align: right;\n",
       "    }\n",
       "</style>\n",
       "<table border=\"1\" class=\"dataframe\">\n",
       "  <thead>\n",
       "    <tr style=\"text-align: right;\">\n",
       "      <th></th>\n",
       "      <th>Airport</th>\n",
       "      <th>Latitude (DD)</th>\n",
       "      <th>Longitude (DD)</th>\n",
       "    </tr>\n",
       "  </thead>\n",
       "  <tbody>\n",
       "    <tr>\n",
       "      <th>7</th>\n",
       "      <td>Tribhuvan intl</td>\n",
       "      <td>27.7</td>\n",
       "      <td>85.36</td>\n",
       "    </tr>\n",
       "  </tbody>\n",
       "</table>\n",
       "</div>"
      ],
      "text/plain": [
       "          Airport  Latitude (DD)  Longitude (DD)\n",
       "7  Tribhuvan intl           27.7           85.36"
      ]
     },
     "execution_count": 10,
     "metadata": {},
     "output_type": "execute_result"
    }
   ],
   "source": [
    "airports = pd.read_excel(\"Data/Nepal Airports.xlsx\", usecols=[0,5,6])\n",
    "int_airports = airports[airports['Airport'] == \"Tribhuvan intl\"]\n",
    "int_airports.head()"
   ]
  },
  {
   "cell_type": "code",
   "execution_count": 11,
   "metadata": {},
   "outputs": [],
   "source": [
    "CaseFixed = pd.DataFrame(columns = ['City', 'Xcor', \"Ycor\"])"
   ]
  },
  {
   "cell_type": "code",
   "execution_count": 12,
   "metadata": {},
   "outputs": [
    {
     "data": {
      "text/html": [
       "<div>\n",
       "<style scoped>\n",
       "    .dataframe tbody tr th:only-of-type {\n",
       "        vertical-align: middle;\n",
       "    }\n",
       "\n",
       "    .dataframe tbody tr th {\n",
       "        vertical-align: top;\n",
       "    }\n",
       "\n",
       "    .dataframe thead th {\n",
       "        text-align: right;\n",
       "    }\n",
       "</style>\n",
       "<table border=\"1\" class=\"dataframe\">\n",
       "  <thead>\n",
       "    <tr style=\"text-align: right;\">\n",
       "      <th></th>\n",
       "      <th>City</th>\n",
       "      <th>Xcor</th>\n",
       "      <th>Ycor</th>\n",
       "    </tr>\n",
       "  </thead>\n",
       "  <tbody>\n",
       "  </tbody>\n",
       "</table>\n",
       "</div>"
      ],
      "text/plain": [
       "Empty DataFrame\n",
       "Columns: [City, Xcor, Ycor]\n",
       "Index: []"
      ]
     },
     "execution_count": 12,
     "metadata": {},
     "output_type": "execute_result"
    }
   ],
   "source": [
    "CaseFixed"
   ]
  },
  {
   "cell_type": "code",
   "execution_count": 7,
   "metadata": {},
   "outputs": [],
   "source": [
    "CaseVariable = pd.DataFrame(columns = ['variable','lower', 'upper', 'best_estimate','actual'])"
   ]
  },
  {
   "cell_type": "code",
   "execution_count": 8,
   "metadata": {},
   "outputs": [
    {
     "data": {
      "text/html": [
       "<div>\n",
       "<style scoped>\n",
       "    .dataframe tbody tr th:only-of-type {\n",
       "        vertical-align: middle;\n",
       "    }\n",
       "\n",
       "    .dataframe tbody tr th {\n",
       "        vertical-align: top;\n",
       "    }\n",
       "\n",
       "    .dataframe thead th {\n",
       "        text-align: right;\n",
       "    }\n",
       "</style>\n",
       "<table border=\"1\" class=\"dataframe\">\n",
       "  <thead>\n",
       "    <tr style=\"text-align: right;\">\n",
       "      <th></th>\n",
       "      <th>variable</th>\n",
       "      <th>lower</th>\n",
       "      <th>upper</th>\n",
       "      <th>actual</th>\n",
       "    </tr>\n",
       "  </thead>\n",
       "  <tbody>\n",
       "  </tbody>\n",
       "</table>\n",
       "</div>"
      ],
      "text/plain": [
       "Empty DataFrame\n",
       "Columns: [variable, lower, upper, actual]\n",
       "Index: []"
      ]
     },
     "execution_count": 8,
     "metadata": {},
     "output_type": "execute_result"
    }
   ],
   "source": [
    "Case"
   ]
  },
  {
   "cell_type": "code",
   "execution_count": 13,
   "metadata": {},
   "outputs": [],
   "source": [
    "# 0. Instantiate\n",
    "\n",
    "# General\n",
    "# Coordinates\n",
    "# all large cities to demand points\n",
    "DPY = {\"DPY{}\".format(i): y for i,y in enumerate(Nepal['Latitude (DD)'])}\n",
    "DPX = {\"DPX{}\".format(i): x for i,x in enumerate(Nepal['Longitude (DD)'])}\n",
    "\n",
    "# all international airports to supply points:\n",
    "SPY = {\"SPY{}\".format(i): y for i,y in enumerate(int_airports['Latitude (DD)'])}\n",
    "SPX = {\"SPX{}\".format(i): x for i,x in enumerate(int_airports['Longitude (DD)'])}\n",
    "\n",
    "# Create random facility locations\n",
    "# lon lat min:\n",
    "\n",
    "long_min, lat_min, long_max, lat_max = 80, 25.767, 88.183, 30.45\n",
    "\n",
    "nr_of_FLs = 6\n",
    "FLX = {\"FLX{}\".format(i): random.uniform(long_min,long_max) for i in range(nr_of_FLs)}\n",
    "FLY = {\"FLY{}\".format(i): random.uniform(lat_min,lat_max) for i in range(nr_of_FLs)}\n",
    "# # Uncertainties + Ranges\n",
    "# # For direct input model\n",
    "# nr_of_SPs = 1\n",
    "# nr_of_DPs = 5\n",
    "\n",
    "# nr_nodes = nr_of_SPs + nr_of_DPs + nr_of_FLs\n",
    "# areasize = 10\n",
    "\n",
    "# # Disruptions for each node\n",
    "\n",
    "# DSR = Disruption Demand Points\n",
    "# .5, 1.5: 50% of the time more or less, for traveling that distance\n",
    "DSRDP = {\"DSRDP{}\".format(i): random.uniform (.5, 1.5) for i in range(len(DPX))}\n",
    "DSRFL = {\"DSRFL{}\".format(i): random.uniform (.5, 1.5) for i in range(nr_of_FLs)}\n",
    "\n",
    "# Decision Variables\n",
    "FLO={\"FLO0\":1,\"FLO1\":1 ,\"FLO2\":0,\"FLO3\":1,\"FLO4\":0,\"FLO5\":0}"
   ]
  },
  {
   "cell_type": "code",
   "execution_count": null,
   "metadata": {},
   "outputs": [],
   "source": []
  },
  {
   "cell_type": "code",
   "execution_count": 16,
   "metadata": {},
   "outputs": [],
   "source": [
    "def create_policies(operational_fls, new_fls = 1):\n",
    "    # indexes of FLs which are already operational\n",
    "    opfls = [i for i,x in enumerate(operational_fls) if x == 1]\n",
    "    \n",
    "    # Create list of policies  \n",
    "    pols = np.identity(nr_of_FLs)\n",
    "    # Set already operational facilities to operational\n",
    "    pols[:,opfls] = 1\n",
    "    \n",
    "    #Delete policies where no new FLs are placed \n",
    "    new_n_operational_fls = sum(operational_fls) + 1\n",
    "    pols = pols[pols.sum(axis = 1) == new_n_operational_fls]\n",
    "\n",
    "    return pols"
   ]
  },
  {
   "cell_type": "code",
   "execution_count": 15,
   "metadata": {},
   "outputs": [
    {
     "ename": "NameError",
     "evalue": "name 'oprfls' is not defined",
     "output_type": "error",
     "traceback": [
      "\u001b[1;31m---------------------------------------------------------------------------\u001b[0m",
      "\u001b[1;31mNameError\u001b[0m                                 Traceback (most recent call last)",
      "\u001b[1;32m<ipython-input-15-773ef8567b0c>\u001b[0m in \u001b[0;36m<module>\u001b[1;34m()\u001b[0m\n\u001b[1;32m----> 1\u001b[1;33m \u001b[0mcreate_policies\u001b[0m\u001b[1;33m(\u001b[0m\u001b[0moprfls\u001b[0m\u001b[1;33m)\u001b[0m\u001b[1;33m\u001b[0m\u001b[0m\n\u001b[0m",
      "\u001b[1;31mNameError\u001b[0m: name 'oprfls' is not defined"
     ]
    }
   ],
   "source": [
    "create_policies(oprfls)"
   ]
  },
  {
   "cell_type": "code",
   "execution_count": null,
   "metadata": {},
   "outputs": [],
   "source": []
  },
  {
   "cell_type": "code",
   "execution_count": 21,
   "metadata": {
    "scrolled": true
   },
   "outputs": [
    {
     "data": {
      "image/png": "[encoded data removed]",
      "text/plain": [
       "<Figure size 432x288 with 1 Axes>"
      ]
     },
     "metadata": {},
     "output_type": "display_data"
    },
    {
     "data": {
      "text/plain": [
       "(318.49125760041863, 3, 30.0, 0.29514070303198475, 3)"
      ]
     },
     "execution_count": 21,
     "metadata": {},
     "output_type": "execute_result"
    }
   ],
   "source": [
    "# 1. Optimise\n",
    "\n",
    "FL_model(\n",
    "    100,\n",
    "    1,\n",
    "    True,\n",
    "    FL_range=2,\n",
    "    **SPX,\n",
    "    **SPY,\n",
    "    **DPX,\n",
    "    **DPY,\n",
    "    **FLX,\n",
    "    **FLY,\n",
    "    **FLO,\n",
    "    **DSRDP,\n",
    "    **DSRFL)"
   ]
  },
  {
   "cell_type": "markdown",
   "metadata": {
    "heading_collapsed": true
   },
   "source": [
    "# Plot Nepal map options"
   ]
  },
  {
   "cell_type": "code",
   "execution_count": 13,
   "metadata": {
    "hidden": true,
    "scrolled": true
   },
   "outputs": [],
   "source": [
    "import osmnx as ox\n",
    "from shapely.geometry import LineString, Point, Polygon, MultiPolygon\n",
    "from descartes import PolygonPatch"
   ]
  },
  {
   "cell_type": "code",
   "execution_count": 24,
   "metadata": {
    "hidden": true,
    "scrolled": true
   },
   "outputs": [
    {
     "ename": "NameError",
     "evalue": "name 'make_iso_polys' is not defined",
     "output_type": "error",
     "traceback": [
      "\u001b[1;31m---------------------------------------------------------------------------\u001b[0m",
      "\u001b[1;31mNameError\u001b[0m                                 Traceback (most recent call last)",
      "\u001b[1;32m<ipython-input-24-c011436eef02>\u001b[0m in \u001b[0;36m<module>\u001b[1;34m()\u001b[0m\n\u001b[0;32m      4\u001b[0m \u001b[1;33m\u001b[0m\u001b[0m\n\u001b[0;32m      5\u001b[0m \u001b[1;31m# Dit gedeelte is mijn code om een figuur te maken, dit ziet er bij jouw anders uit\u001b[0m\u001b[1;33m\u001b[0m\u001b[1;33m\u001b[0m\u001b[0m\n\u001b[1;32m----> 6\u001b[1;33m \u001b[0misochrone_polys\u001b[0m \u001b[1;33m=\u001b[0m \u001b[0mmake_iso_polys\u001b[0m\u001b[1;33m(\u001b[0m\u001b[0mgdf\u001b[0m\u001b[1;33m,\u001b[0m \u001b[0medge_buff\u001b[0m\u001b[1;33m=\u001b[0m\u001b[1;36m25\u001b[0m\u001b[1;33m,\u001b[0m \u001b[0mnode_buff\u001b[0m\u001b[1;33m=\u001b[0m\u001b[1;36m50\u001b[0m\u001b[1;33m,\u001b[0m \u001b[0minfill\u001b[0m\u001b[1;33m=\u001b[0m\u001b[1;32mTrue\u001b[0m\u001b[1;33m)\u001b[0m\u001b[1;33m\u001b[0m\u001b[0m\n\u001b[0m\u001b[0;32m      7\u001b[0m \u001b[0mfig\u001b[0m\u001b[1;33m,\u001b[0m \u001b[0max\u001b[0m \u001b[1;33m=\u001b[0m \u001b[0mox\u001b[0m\u001b[1;33m.\u001b[0m\u001b[0mplot_graph\u001b[0m\u001b[1;33m(\u001b[0m\u001b[0mgdf\u001b[0m\u001b[1;33m,\u001b[0m \u001b[0mfig_height\u001b[0m\u001b[1;33m=\u001b[0m\u001b[1;36m20\u001b[0m\u001b[1;33m,\u001b[0m \u001b[0mshow\u001b[0m\u001b[1;33m=\u001b[0m\u001b[1;32mFalse\u001b[0m\u001b[1;33m,\u001b[0m \u001b[0mclose\u001b[0m\u001b[1;33m=\u001b[0m\u001b[1;32mFalse\u001b[0m\u001b[1;33m,\u001b[0m \u001b[0medge_color\u001b[0m\u001b[1;33m=\u001b[0m\u001b[1;34m'k'\u001b[0m\u001b[1;33m,\u001b[0m \u001b[0medge_alpha\u001b[0m\u001b[1;33m=\u001b[0m\u001b[1;36m0.2\u001b[0m\u001b[1;33m,\u001b[0m \u001b[0mnode_color\u001b[0m\u001b[1;33m=\u001b[0m\u001b[0mnc\u001b[0m\u001b[1;33m,\u001b[0m\u001b[0mnode_size\u001b[0m\u001b[1;33m=\u001b[0m\u001b[0mns\u001b[0m\u001b[1;33m)\u001b[0m\u001b[1;33m\u001b[0m\u001b[0m\n\u001b[0;32m      8\u001b[0m \u001b[1;32mfor\u001b[0m \u001b[0mpolygon\u001b[0m\u001b[1;33m,\u001b[0m \u001b[0mfc\u001b[0m \u001b[1;32min\u001b[0m \u001b[0mzip\u001b[0m\u001b[1;33m(\u001b[0m\u001b[0misochrone_polys\u001b[0m\u001b[1;33m,\u001b[0m \u001b[0miso_colors\u001b[0m\u001b[1;33m)\u001b[0m\u001b[1;33m:\u001b[0m\u001b[1;33m\u001b[0m\u001b[0m\n",
      "\u001b[1;31mNameError\u001b[0m: name 'make_iso_polys' is not defined"
     ]
    }
   ],
   "source": [
    "# Get the shape of the area\n",
    "gdf=ox.gdf_from_place(\"Nepal\")\n",
    "gdf=ox.project_gdf(gdf)\n",
    "\n",
    "# Dit gedeelte is mijn code om een figuur te maken, dit ziet er bij jouw anders uit\n",
    "isochrone_polys = make_iso_polys(gdf, edge_buff=25, node_buff=50, infill=True)\n",
    "fig, ax = ox.plot_graph(gdf, fig_height=20, show=False, close=False, edge_color='k', edge_alpha=0.2, node_color=nc,node_size=ns)\n",
    "for polygon, fc in zip(isochrone_polys, iso_colors):\n",
    "    patch = PolygonPatch(polygon, fc=fc, ec='none', alpha=0.6, zorder=-1)\n",
    "    ax.add_patch(patch)\n",
    "    \n",
    "#Set the shape around the network\n",
    "for geometry in gdf['geometry'].tolist():\n",
    "    if isinstance(geometry, (Polygon, MultiPolygon)):\n",
    "        if isinstance(geometry, Polygon):\n",
    "            geometry = MultiPolygon([geometry])\n",
    "        for polygon in geometry:\n",
    "            patch = PolygonPatch(polygon, fc='#cccccc', ec='k', linewidth=3, alpha=0.1, zorder=-1)\n",
    "            ax.add_patch(patch)\n",
    "#             add_patch(patch)\n",
    "            \n",
    "# margin = 0.02\n",
    "# west, south, east, north = gdf.unary_union.bounds\n",
    "# margin_ns = (north - south) * margin\n",
    "# margin_ew = (east - west) * margin\n",
    "# ax.set_ylim((south - margin_ns, north + margin_ns))\n",
    "# ax.set_xlim((west - margin_ew, east + margin_ew))\n",
    "    \n",
    "plt.show()"
   ]
  },
  {
   "cell_type": "code",
   "execution_count": 26,
   "metadata": {
    "hidden": true,
    "scrolled": false
   },
   "outputs": [
    {
     "data": {
      "image/png": "[encoded data removed]",
      "text/plain": [
       "<Figure size 432x288 with 1 Axes>"
      ]
     },
     "metadata": {},
     "output_type": "display_data"
    }
   ],
   "source": [
    "import numpy as np\n",
    "from matplotlib import pyplot as p  #contains both numpy and pyplot\n",
    "x1 = [-1, -1, 10, 10, -1]\n",
    "y1 = [-1, 10, 10, -1, -1]\n",
    "x2 = [21, 21, 29, 29, 21]\n",
    "y2 = [21, 29, 29, 21, 21]\n",
    "shapes = [[x1, y1], [x2, y2]]\n",
    "for shape in shapes:\n",
    "    x, y = shape\n",
    "    p.plot(x, y)\n",
    "p.show()"
   ]
  },
  {
   "cell_type": "code",
   "execution_count": 14,
   "metadata": {
    "hidden": true
   },
   "outputs": [
    {
     "data": {
      "image/png": "[encoded data removed]",
      "text/plain": [
       "<Figure size 432x288 with 1 Axes>"
      ]
     },
     "metadata": {},
     "output_type": "display_data"
    }
   ],
   "source": [
    "import matplotlib.pyplot as plt\n",
    "import shapefile   \n",
    "\n",
    "shpFilePath = \"Data/Nepal_shape/31Adist_polbnda_adm3_MoFALD_HRRP_wgs84.shp\"  \n",
    "listx=[]\n",
    "listy=[]\n",
    "test = shapefile.Reader(shpFilePath)\n",
    "for sr in test.shapeRecords():\n",
    "    for xNew,yNew in sr.shape.points:\n",
    "        listx.append(xNew)\n",
    "        listy.append(yNew)\n",
    "plt.plot(listx,listy)\n",
    "plt.show()"
   ]
  },
  {
   "cell_type": "code",
   "execution_count": 15,
   "metadata": {
    "hidden": true
   },
   "outputs": [
    {
     "data": {
      "image/png": "[encoded data removed]",
      "text/plain": [
       "<Figure size 432x288 with 1 Axes>"
      ]
     },
     "metadata": {},
     "output_type": "display_data"
    }
   ],
   "source": [
    "\n",
    "sf = shapefile.Reader(\"Data/Nepal_shape/31Adist_polbnda_adm3_MoFALD_HRRP_wgs84.shp\")\n",
    "\n",
    "plt.figure()\n",
    "for shape in sf.shapeRecords():\n",
    "    x = [i[0] for i in shape.shape.points[:]]\n",
    "    y = [i[1] for i in shape.shape.points[:]]\n",
    "    plt.plot(x,y, color=\"blue\")\n",
    "plt.show()"
   ]
  },
  {
   "cell_type": "code",
   "execution_count": 36,
   "metadata": {
    "hidden": true,
    "scrolled": true
   },
   "outputs": [
    {
     "data": {
      "text/plain": [
       "<matplotlib.axes._subplots.AxesSubplot at 0x1742f6a9240>"
      ]
     },
     "execution_count": 36,
     "metadata": {},
     "output_type": "execute_result"
    },
    {
     "data": {
      "image/png": "[encoded data removed]",
      "text/plain": [
       "<Figure size 432x288 with 1 Axes>"
      ]
     },
     "metadata": {},
     "output_type": "display_data"
    }
   ],
   "source": [
    "import geopandas\n",
    "df = geopandas.read_file(\"Data/Nepal_shape/31Adist_polbnda_adm3_MoFALD_HRRP_wgs84.shp\")\n",
    "df.plot()\n",
    "# df.plot()"
   ]
  },
  {
   "cell_type": "markdown",
   "metadata": {},
   "source": [
    "# EMA"
   ]
  },
  {
   "cell_type": "code",
   "execution_count": null,
   "metadata": {
    "code_folding": []
   },
   "outputs": [],
   "source": [
    "# Meta parametric variables\n",
    "nr_of_SPs = 1\n",
    "nr_of_DPs = 10\n",
    "nr_of_FLs = 6\n",
    "areasize = 10\n",
    "nr_nodes = nr_of_SPs + nr_of_DPs + nr_of_FLs\n",
    "\n",
    "#Instantiate EMA model\n",
    "FL_EMAmodel = Model('flmodel', function=FL_model)\n",
    "\n",
    "#Specify constants\n",
    "FL_EMAmodel.constants = [\n",
    "    Constant('unit_opening_costs', 100),\n",
    "    Constant('unit_transport_cost', 1),\n",
    "    Constant('graphical_representation', True),\n",
    "    Constant('FL_range', 2),\n",
    "    Constant('lorry_Speed',60) # km/h. Speed is Average speed. Constant, because roads are individually disrupted \n",
    "]\n",
    "\n",
    "#Specify coordinates of locations\n",
    "# 0 - size area, range nr supply points\n",
    "FL_EMAmodel.locations = [\n",
    "    RealParameter(\"SPX{}\".format(i), 0, areasize) for i in range(nr_of_SPs)\n",
    "] + [\n",
    "    RealParameter(\"SPY{}\".format(i), 0, areasize) for i in range(nr_of_SPs)\n",
    "] + [\n",
    "    RealParameter(\"DPX{}\".format(i), 0, areasize) for i in range(nr_of_DPs)\n",
    "] + [\n",
    "    RealParameter(\"DPY{}\".format(i), 0, areasize) for i in range(nr_of_DPs)\n",
    "] + [\n",
    "    RealParameter(\"FLX{}\".format(i), 0, areasize) for i in range(nr_of_FLs)\n",
    "] + [RealParameter(\"FLY{}\".format(i), 0, areasize) for i in range(nr_of_FLs)]\n",
    "\n",
    "# Reachability of Demand Points and Facility Locations can be disrupted\n",
    "FL_EMAmodel.disruptions = [\n",
    "    RealParameter(\"DSRFL{}\".format(i), -0.5, 0.5) for i in range(nr_of_FLs)\n",
    "] + [\n",
    "    RealParameter(\"DSRDP{}\".format(i), -0.5, 0.5) for i in range(nr_of_DPs)\n",
    "]\n",
    "\n",
    "#Specify uncertainties\n",
    "FL_EMAmodel.uncertainties = FL_EMAmodel.locations + FL_EMAmodel.disruptions\n",
    "\n",
    "#     RealParameter('DTNN{}{}'.format(n1,n2),-0.5,0.5) # - 50% + 50% for all n, for all n\n",
    "\n",
    "# # Specify levers\n",
    "# Facility Location Operational: [0,1]\n",
    "FL_EMAmodel.levers = [\n",
    "    IntegerParameter(\"FLO{}\".format(i), 0, 1) for i in range(nr_of_FLs)\n",
    "]\n",
    "\n",
    "# FL_EMAmodel.c\n",
    "\n",
    "# Specify outcomes\n",
    "FL_EMAmodel.outcomes = [\n",
    "    ScalarOutcome('Total_cost', MINIZ),\n",
    "    ScalarOutcome('Nr_uncovered_DPs'),\n",
    "    ScalarOutcome('Total_uncovered_demand'),\n",
    "    ScalarOutcome('Total_distr_time')\n",
    "]\n",
    "\n",
    "FL_EMAmodel.constraints = [\n",
    "    Constraint()\n",
    "]\n",
    "\n",
    "# ScalarOutcome('operational_FL'),\n",
    "    \n",
    "\n",
    "\n",
    "# total_costs, nr_uncovered_DPs, total_uncovered_demand, total_distr_time,"
   ]
  },
  {
   "cell_type": "markdown",
   "metadata": {},
   "source": [
    "# Platypus optimisation"
   ]
  },
  {
   "cell_type": "code",
   "execution_count": null,
   "metadata": {},
   "outputs": [],
   "source": []
  },
  {
   "cell_type": "code",
   "execution_count": 14,
   "metadata": {},
   "outputs": [],
   "source": [
    "# imports\n",
    "from platypus import NSGAII, Problem, Binary, Real, Integer"
   ]
  },
  {
   "cell_type": "code",
   "execution_count": 10,
   "metadata": {},
   "outputs": [],
   "source": [
    "def FL_model(d_vars=None): # None to make compatible with EMA\n",
    "\n",
    "    # set global operational FL\n",
    "    for i in range(len(d_vars)):\n",
    "        facility_locations[i].operational = d_vars[i]\n",
    "\n",
    "    trans_costs = calc_transportation_costs(supply_points, demand_points,\n",
    "                                      facility_locations, distances)\n",
    "\n",
    "    costs = trans_costs #+ other costs\n",
    "    \n",
    "    objectives = [\n",
    "        costs,\n",
    "    ]\n",
    "    constraints = [sum(d_vars),]\n",
    "\n",
    "    return objectives, constraints"
   ]
  },
  {
   "cell_type": "code",
   "execution_count": 54,
   "metadata": {},
   "outputs": [],
   "source": [
    "# nr of decision variables, number of objectives, number of constraints\n",
    "problem = Problem(nr_optional_FL, 1, 1)\n",
    "\n",
    "# Decision variables for possible facility locations\n",
    "problem.types[:] = [Integer(0,1) for a in range(nr_optional_FL)]\n",
    "\n",
    "# constraint: number of total operation FL\n",
    "problem.constraints[:] = \"=={}\".format(max_nr_FL)\n",
    "problem.function = FL_model\n",
    "\n",
    "algorithm = NSGAII(problem)\n",
    "algorithm.run(10000)"
   ]
  },
  {
   "cell_type": "code",
   "execution_count": 50,
   "metadata": {},
   "outputs": [
    {
     "data": {
      "text/plain": [
       "'==2'"
      ]
     },
     "execution_count": 50,
     "metadata": {},
     "output_type": "execute_result"
    }
   ],
   "source": []
  },
  {
   "cell_type": "code",
   "execution_count": 17,
   "metadata": {},
   "outputs": [],
   "source": [
    "from platypus import nondominated"
   ]
  },
  {
   "cell_type": "code",
   "execution_count": null,
   "metadata": {},
   "outputs": [],
   "source": []
  },
  {
   "cell_type": "code",
   "execution_count": 55,
   "metadata": {
    "scrolled": true
   },
   "outputs": [],
   "source": [
    "a = nondominated (algorithm.result)"
   ]
  },
  {
   "cell_type": "code",
   "execution_count": 57,
   "metadata": {},
   "outputs": [
    {
     "data": {
      "text/plain": [
       "[Solution[[False],[True],[False],[False],[False],[False],[False],[False],[True],[False]|68.98869101013045|0.0],\n",
       " Solution[[False],[True],[False],[False],[False],[False],[False],[False],[True],[False]|68.98869101013045|0.0],\n",
       " Solution[[False],[True],[False],[False],[False],[False],[False],[False],[True],[False]|68.98869101013045|0.0],\n",
       " Solution[[False],[True],[False],[False],[False],[False],[False],[False],[True],[False]|68.98869101013045|0.0],\n",
       " Solution[[False],[True],[False],[False],[False],[False],[False],[False],[True],[False]|68.98869101013045|0.0],\n",
       " Solution[[False],[True],[False],[False],[False],[False],[False],[False],[True],[False]|68.98869101013045|0.0],\n",
       " Solution[[False],[True],[False],[False],[False],[False],[False],[False],[True],[False]|68.98869101013045|0.0],\n",
       " Solution[[False],[True],[False],[False],[False],[False],[False],[False],[True],[False]|68.98869101013045|0.0],\n",
       " Solution[[False],[True],[False],[False],[False],[False],[False],[False],[True],[False]|68.98869101013045|0.0],\n",
       " Solution[[False],[True],[False],[False],[False],[False],[False],[False],[True],[False]|68.98869101013045|0.0],\n",
       " Solution[[False],[True],[False],[False],[False],[False],[False],[False],[True],[False]|68.98869101013045|0.0],\n",
       " Solution[[False],[True],[False],[False],[False],[False],[False],[False],[True],[False]|68.98869101013045|0.0],\n",
       " Solution[[False],[True],[False],[False],[False],[False],[False],[False],[True],[False]|68.98869101013045|0.0],\n",
       " Solution[[False],[True],[False],[False],[False],[False],[False],[False],[True],[False]|68.98869101013045|0.0],\n",
       " Solution[[False],[True],[False],[False],[False],[False],[False],[False],[True],[False]|68.98869101013045|0.0],\n",
       " Solution[[False],[True],[False],[False],[False],[False],[False],[False],[True],[False]|68.98869101013045|0.0],\n",
       " Solution[[False],[True],[False],[False],[False],[False],[False],[False],[True],[False]|68.98869101013045|0.0],\n",
       " Solution[[False],[True],[False],[False],[False],[False],[False],[False],[True],[False]|68.98869101013045|0.0],\n",
       " Solution[[False],[True],[False],[False],[False],[False],[False],[False],[True],[False]|68.98869101013045|0.0],\n",
       " Solution[[False],[True],[False],[False],[False],[False],[False],[False],[True],[False]|68.98869101013045|0.0],\n",
       " Solution[[False],[True],[False],[False],[False],[False],[False],[False],[True],[False]|68.98869101013045|0.0],\n",
       " Solution[[False],[True],[False],[False],[False],[False],[False],[False],[True],[False]|68.98869101013045|0.0],\n",
       " Solution[[False],[True],[False],[False],[False],[False],[False],[False],[True],[False]|68.98869101013045|0.0],\n",
       " Solution[[False],[True],[False],[False],[False],[False],[False],[False],[True],[False]|68.98869101013045|0.0],\n",
       " Solution[[False],[True],[False],[False],[False],[False],[False],[False],[True],[False]|68.98869101013045|0.0],\n",
       " Solution[[False],[True],[False],[False],[False],[False],[False],[False],[True],[False]|68.98869101013045|0.0],\n",
       " Solution[[False],[True],[False],[False],[False],[False],[False],[False],[True],[False]|68.98869101013045|0.0],\n",
       " Solution[[False],[True],[False],[False],[False],[False],[False],[False],[True],[False]|68.98869101013045|0.0],\n",
       " Solution[[False],[True],[False],[False],[False],[False],[False],[False],[True],[False]|68.98869101013045|0.0],\n",
       " Solution[[False],[True],[False],[False],[False],[False],[False],[False],[True],[False]|68.98869101013045|0.0],\n",
       " Solution[[False],[True],[False],[False],[False],[False],[False],[False],[True],[False]|68.98869101013045|0.0],\n",
       " Solution[[False],[True],[False],[False],[False],[False],[False],[False],[True],[False]|68.98869101013045|0.0],\n",
       " Solution[[False],[True],[False],[False],[False],[False],[False],[False],[True],[False]|68.98869101013045|0.0],\n",
       " Solution[[False],[True],[False],[False],[False],[False],[False],[False],[True],[False]|68.98869101013045|0.0],\n",
       " Solution[[False],[True],[False],[False],[False],[False],[False],[False],[True],[False]|68.98869101013045|0.0],\n",
       " Solution[[False],[True],[False],[False],[False],[False],[False],[False],[True],[False]|68.98869101013045|0.0],\n",
       " Solution[[False],[True],[False],[False],[False],[False],[False],[False],[True],[False]|68.98869101013045|0.0],\n",
       " Solution[[False],[True],[False],[False],[False],[False],[False],[False],[True],[False]|68.98869101013045|0.0],\n",
       " Solution[[False],[True],[False],[False],[False],[False],[False],[False],[True],[False]|68.98869101013045|0.0],\n",
       " Solution[[False],[True],[False],[False],[False],[False],[False],[False],[True],[False]|68.98869101013045|0.0],\n",
       " Solution[[False],[True],[False],[False],[False],[False],[False],[False],[True],[False]|68.98869101013045|0.0],\n",
       " Solution[[False],[True],[False],[False],[False],[False],[False],[False],[True],[False]|68.98869101013045|0.0],\n",
       " Solution[[False],[True],[False],[False],[False],[False],[False],[False],[True],[False]|68.98869101013045|0.0],\n",
       " Solution[[False],[True],[False],[False],[False],[False],[False],[False],[True],[False]|68.98869101013045|0.0],\n",
       " Solution[[False],[True],[False],[False],[False],[False],[False],[False],[True],[False]|68.98869101013045|0.0],\n",
       " Solution[[False],[True],[False],[False],[False],[False],[False],[False],[True],[False]|68.98869101013045|0.0],\n",
       " Solution[[False],[True],[False],[False],[False],[False],[False],[False],[True],[False]|68.98869101013045|0.0],\n",
       " Solution[[False],[True],[False],[False],[False],[False],[False],[False],[True],[False]|68.98869101013045|0.0],\n",
       " Solution[[False],[True],[False],[False],[False],[False],[False],[False],[True],[False]|68.98869101013045|0.0],\n",
       " Solution[[False],[True],[False],[False],[False],[False],[False],[False],[True],[False]|68.98869101013045|0.0],\n",
       " Solution[[False],[True],[False],[False],[False],[False],[False],[False],[True],[False]|68.98869101013045|0.0],\n",
       " Solution[[False],[True],[False],[False],[False],[False],[False],[False],[True],[False]|68.98869101013045|0.0],\n",
       " Solution[[False],[True],[False],[False],[False],[False],[False],[False],[True],[False]|68.98869101013045|0.0],\n",
       " Solution[[False],[True],[False],[False],[False],[False],[False],[False],[True],[False]|68.98869101013045|0.0],\n",
       " Solution[[False],[True],[False],[False],[False],[False],[False],[False],[True],[False]|68.98869101013045|0.0],\n",
       " Solution[[False],[True],[False],[False],[False],[False],[False],[False],[True],[False]|68.98869101013045|0.0],\n",
       " Solution[[False],[True],[False],[False],[False],[False],[False],[False],[True],[False]|68.98869101013045|0.0],\n",
       " Solution[[False],[True],[False],[False],[False],[False],[False],[False],[True],[False]|68.98869101013045|0.0],\n",
       " Solution[[False],[True],[False],[False],[False],[False],[False],[False],[True],[False]|68.98869101013045|0.0],\n",
       " Solution[[False],[True],[False],[False],[False],[False],[False],[False],[True],[False]|68.98869101013045|0.0],\n",
       " Solution[[False],[True],[False],[False],[False],[False],[False],[False],[True],[False]|68.98869101013045|0.0],\n",
       " Solution[[False],[True],[False],[False],[False],[False],[False],[False],[True],[False]|68.98869101013045|0.0],\n",
       " Solution[[False],[True],[False],[False],[False],[False],[False],[False],[True],[False]|68.98869101013045|0.0],\n",
       " Solution[[False],[True],[False],[False],[False],[False],[False],[False],[True],[False]|68.98869101013045|0.0],\n",
       " Solution[[False],[True],[False],[False],[False],[False],[False],[False],[True],[False]|68.98869101013045|0.0],\n",
       " Solution[[False],[True],[False],[False],[False],[False],[False],[False],[True],[False]|68.98869101013045|0.0],\n",
       " Solution[[False],[True],[False],[False],[False],[False],[False],[False],[True],[False]|68.98869101013045|0.0],\n",
       " Solution[[False],[True],[False],[False],[False],[False],[False],[False],[True],[False]|68.98869101013045|0.0],\n",
       " Solution[[False],[True],[False],[False],[False],[False],[False],[False],[True],[False]|68.98869101013045|0.0],\n",
       " Solution[[False],[True],[False],[False],[False],[False],[False],[False],[True],[False]|68.98869101013045|0.0],\n",
       " Solution[[False],[True],[False],[False],[False],[False],[False],[False],[True],[False]|68.98869101013045|0.0],\n",
       " Solution[[False],[True],[False],[False],[False],[False],[False],[False],[True],[False]|68.98869101013045|0.0],\n",
       " Solution[[False],[True],[False],[False],[False],[False],[False],[False],[True],[False]|68.98869101013045|0.0],\n",
       " Solution[[False],[True],[False],[False],[False],[False],[False],[False],[True],[False]|68.98869101013045|0.0],\n",
       " Solution[[False],[True],[False],[False],[False],[False],[False],[False],[True],[False]|68.98869101013045|0.0],\n",
       " Solution[[False],[True],[False],[False],[False],[False],[False],[False],[True],[False]|68.98869101013045|0.0],\n",
       " Solution[[False],[True],[False],[False],[False],[False],[False],[False],[True],[False]|68.98869101013045|0.0],\n",
       " Solution[[False],[True],[False],[False],[False],[False],[False],[False],[True],[False]|68.98869101013045|0.0],\n",
       " Solution[[False],[True],[False],[False],[False],[False],[False],[False],[True],[False]|68.98869101013045|0.0],\n",
       " Solution[[False],[True],[False],[False],[False],[False],[False],[False],[True],[False]|68.98869101013045|0.0],\n",
       " Solution[[False],[True],[False],[False],[False],[False],[False],[False],[True],[False]|68.98869101013045|0.0],\n",
       " Solution[[False],[True],[False],[False],[False],[False],[False],[False],[True],[False]|68.98869101013045|0.0],\n",
       " Solution[[False],[True],[False],[False],[False],[False],[False],[False],[True],[False]|68.98869101013045|0.0],\n",
       " Solution[[False],[True],[False],[False],[False],[False],[False],[False],[True],[False]|68.98869101013045|0.0],\n",
       " Solution[[False],[True],[False],[False],[False],[False],[False],[False],[True],[False]|68.98869101013045|0.0],\n",
       " Solution[[False],[True],[False],[False],[False],[False],[False],[False],[True],[False]|68.98869101013045|0.0],\n",
       " Solution[[False],[True],[False],[False],[False],[False],[False],[False],[True],[False]|68.98869101013045|0.0],\n",
       " Solution[[False],[True],[False],[False],[False],[False],[False],[False],[True],[False]|68.98869101013045|0.0],\n",
       " Solution[[False],[True],[False],[False],[False],[False],[False],[False],[True],[False]|68.98869101013045|0.0],\n",
       " Solution[[False],[True],[False],[False],[False],[False],[False],[False],[True],[False]|68.98869101013045|0.0],\n",
       " Solution[[False],[True],[False],[False],[False],[False],[False],[False],[True],[False]|68.98869101013045|0.0],\n",
       " Solution[[False],[True],[False],[False],[False],[False],[False],[False],[True],[False]|68.98869101013045|0.0],\n",
       " Solution[[False],[True],[False],[False],[False],[False],[False],[False],[True],[False]|68.98869101013045|0.0],\n",
       " Solution[[False],[True],[False],[False],[False],[False],[False],[False],[True],[False]|68.98869101013045|0.0],\n",
       " Solution[[False],[True],[False],[False],[False],[False],[False],[False],[True],[False]|68.98869101013045|0.0],\n",
       " Solution[[False],[True],[False],[False],[False],[False],[False],[False],[True],[False]|68.98869101013045|0.0],\n",
       " Solution[[False],[True],[False],[False],[False],[False],[False],[False],[True],[False]|68.98869101013045|0.0],\n",
       " Solution[[False],[True],[False],[False],[False],[False],[False],[False],[True],[False]|68.98869101013045|0.0],\n",
       " Solution[[False],[True],[False],[False],[False],[False],[False],[False],[True],[False]|68.98869101013045|0.0],\n",
       " Solution[[False],[True],[False],[False],[False],[False],[False],[False],[True],[False]|68.98869101013045|0.0]]"
      ]
     },
     "execution_count": 57,
     "metadata": {},
     "output_type": "execute_result"
    }
   ],
   "source": [
    "a"
   ]
  },
  {
   "cell_type": "code",
   "execution_count": 56,
   "metadata": {},
   "outputs": [
    {
     "name": "stdout",
     "output_type": "stream",
     "text": [
      "68.98869101013045\n"
     ]
    }
   ],
   "source": [
    "for i in a[0].objectives:\n",
    "    print(i)"
   ]
  },
  {
   "cell_type": "code",
   "execution_count": 44,
   "metadata": {},
   "outputs": [
    {
     "data": {
      "text/plain": [
       "33.50099827255527"
      ]
     },
     "execution_count": 44,
     "metadata": {},
     "output_type": "execute_result"
    }
   ],
   "source": [
    "a[0].objectives[0]"
   ]
  },
  {
   "cell_type": "code",
   "execution_count": 46,
   "metadata": {
    "scrolled": false
   },
   "outputs": [
    {
     "data": {
      "text/plain": [
       "{33.50099827255527}"
      ]
     },
     "execution_count": 46,
     "metadata": {},
     "output_type": "execute_result"
    }
   ],
   "source": [
    "set([i.objectives[0] for i in a])"
   ]
  },
  {
   "cell_type": "markdown",
   "metadata": {
    "heading_collapsed": true
   },
   "source": [
    "# Creation of full network:\n"
   ]
  },
  {
   "cell_type": "code",
   "execution_count": 100,
   "metadata": {
    "hidden": true
   },
   "outputs": [
    {
     "data": {
      "text/plain": [
       "[(0, 0, 0),\n",
       " (0, 0, 1),\n",
       " (0, 1, 0),\n",
       " (0, 1, 1),\n",
       " (1, 0, 0),\n",
       " (1, 0, 1),\n",
       " (1, 1, 0),\n",
       " (1, 1, 1)]"
      ]
     },
     "execution_count": 100,
     "metadata": {},
     "output_type": "execute_result"
    }
   ],
   "source": [
    "list(itertools.product([0,1], repeat=3))"
   ]
  }
 ],
 "metadata": {
  "kernelspec": {
   "display_name": "Python 3",
   "language": "python",
   "name": "python3"
  },
  "language_info": {
   "codemirror_mode": {
    "name": "ipython",
    "version": 3
   },
   "file_extension": ".py",
   "mimetype": "text/x-python",
   "name": "python",
   "nbconvert_exporter": "python",
   "pygments_lexer": "ipython3",
   "version": "3.6.4"
  },
  "notify_time": "5",
  "toc": {
   "nav_menu": {
    "height": "416px",
    "width": "437px"
   },
   "number_sections": true,
   "sideBar": true,
   "skip_h1_title": false,
   "title_cell": "Table of Contents",
   "title_sidebar": "Contents",
   "toc_cell": false,
   "toc_position": {
    "height": "100px",
    "left": "245px",
    "top": "148.5px",
    "width": "165px"
   },
   "toc_section_display": true,
   "toc_window_display": true
  }
 },
 "nbformat": 4,
 "nbformat_minor": 2
}
