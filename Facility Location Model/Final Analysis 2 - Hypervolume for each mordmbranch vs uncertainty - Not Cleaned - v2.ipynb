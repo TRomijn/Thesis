{
 "cells": [
  {
   "cell_type": "code",
   "execution_count": 1,
   "metadata": {},
   "outputs": [],
   "source": [
    "import pickle\n",
    "import numpy as np\n",
    "import pandas as pd\n",
    "import matplotlib.pyplot as plt\n",
    "from lib.fl_model_v9 import *\n",
    "import pygmo as pg"
   ]
  },
  {
   "cell_type": "markdown",
   "metadata": {},
   "source": [
    "# Notes"
   ]
  },
  {
   "cell_type": "markdown",
   "metadata": {},
   "source": [
    "Ending note: It could be that over time, hypervolumes donnot increase. It's \"unfair\" to compare hypervolumes over different periods. This is because cost will increase over time, while the others will decrease over time.\n"
   ]
  },
  {
   "cell_type": "markdown",
   "metadata": {},
   "source": [
    "#  Code"
   ]
  },
  {
   "cell_type": "code",
   "execution_count": 104,
   "metadata": {},
   "outputs": [],
   "source": [
    "case = \"Nepal\"\n",
    "output_folder = \"MPMORDM Results v1 2015\""
   ]
  },
  {
   "cell_type": "code",
   "execution_count": 105,
   "metadata": {},
   "outputs": [],
   "source": [
    "# Load data (deserialize)\n",
    "with open('{}/{}/python_objects.pickle'.format(case, output_folder),\n",
    "          'rb') as handle:\n",
    "    global_label_tree, EMA_model_dict, global_dfs_var_unc_data, global_fixed_unc, global_policy_tree = pickle.load(\n",
    "        handle)"
   ]
  },
  {
   "cell_type": "code",
   "execution_count": null,
   "metadata": {},
   "outputs": [],
   "source": []
  },
  {
   "cell_type": "code",
   "execution_count": 106,
   "metadata": {},
   "outputs": [],
   "source": [
    "# For period x, get all resulting policies"
   ]
  },
  {
   "cell_type": "code",
   "execution_count": null,
   "metadata": {},
   "outputs": [],
   "source": []
  },
  {
   "cell_type": "code",
   "execution_count": 107,
   "metadata": {
    "code_folding": [
     0
    ]
   },
   "outputs": [
    {
     "data": {
      "text/plain": [
       "['p0n0p1n2p2n14', 'p0n0p1n2p2n15', 'p0n0p1n2p2n16', 'p0n0p1n2p2n17']"
      ]
     },
     "execution_count": 107,
     "metadata": {},
     "output_type": "execute_result"
    }
   ],
   "source": [
    "def find_nodes_next_step(node,label_tree):\n",
    "    # Find which period\n",
    "    for i,l in enumerate(reversed(node)):\n",
    "        if l == 'p':\n",
    "            period = int((list(reversed(node))[i-1]))\n",
    "            break\n",
    "    # Find next period\n",
    "    labels_next_p = label_tree[\"p{}\".format(period+1)]\n",
    "#     print(labels_next_p)\n",
    "    return [l for l in labels_next_p if node in l]\n",
    "\n",
    "find_nodes_next_step('p0n0p1n2', global_label_tree)"
   ]
  },
  {
   "cell_type": "code",
   "execution_count": 108,
   "metadata": {},
   "outputs": [],
   "source": [
    "def get_mordm_resulting_policies(node, label_tree, policy_tree):\n",
    "    # Get all labels of resulting mordm cycle\n",
    "    labels = find_nodes_next_step(node,label_tree)\n",
    "    # Get all policies for these labels\n",
    "    policies = [policy_tree[label] for label in labels] \n",
    "    return policies\n",
    "\n",
    "# get_mordm_resulting_policies(\"p0n0\", global_label_tree, global_policy_tree)"
   ]
  },
  {
   "cell_type": "code",
   "execution_count": 109,
   "metadata": {
    "scrolled": true
   },
   "outputs": [],
   "source": [
    "def get_all_mordms_in_period(period, label_tree, policy_tree):\n",
    "    nodes = label_tree[period]\n",
    "    mordm_results = [get_mordm_resulting_policies(node,label_tree,policy_tree) for node in nodes]\n",
    "    return mordm_results\n",
    "\n",
    "# get_all_mordms_in_period(\"p1\",global_label_tree,global_policy_tree)"
   ]
  },
  {
   "cell_type": "code",
   "execution_count": 8,
   "metadata": {},
   "outputs": [],
   "source": [
    "p1_mordm_pol_sets = get_all_mordms_in_period(\"p1\", global_label_tree,\n",
    "                                             global_policy_tree)"
   ]
  },
  {
   "cell_type": "code",
   "execution_count": 9,
   "metadata": {},
   "outputs": [],
   "source": [
    "# For all policies, evaluate on real values"
   ]
  },
  {
   "cell_type": "code",
   "execution_count": 110,
   "metadata": {},
   "outputs": [],
   "source": [
    "DPs = pd.read_csv(\"Nepal/Prepared Input Data/DPs.csv\")\n",
    "# DPs.columns\n",
    "\n",
    "FLs = pd.read_csv(\"Nepal/Prepared Input Data/FLs.csv\")\n",
    "# FLs.columns\n",
    "\n",
    "SPs = pd.read_csv(\"Nepal/Prepared Input Data/SPs.csv\")\n",
    "# SPs.columns\n",
    "Fix_Unc = pd.read_csv(\"{}/Prepared Input Data/fixed_uncertainties.csv\".format(case), index_col=0)\n",
    "# Fix_Unc"
   ]
  },
  {
   "cell_type": "code",
   "execution_count": 111,
   "metadata": {},
   "outputs": [],
   "source": [
    "# 0. Instantiate\n",
    "\n",
    "# General\n",
    "# Coordinates\n",
    "# all large cities to demand points\n",
    "DPY = {\"DPY{}\".format(i): y for i,y in enumerate(DPs['latitude'])}\n",
    "DPX = {\"DPX{}\".format(i): x for i,x in enumerate(DPs['longitude'])}\n",
    "\n",
    "# all international airports to supply points:\n",
    "SPY = {\"SPY{}\".format(i): y for i,y in enumerate(SPs['latitude_deg'])}\n",
    "SPX = {\"SPX{}\".format(i): x for i,x in enumerate(SPs['longitude_deg'])}\n",
    "\n",
    "# Facility locations\n",
    "FLX = {\"FLX{}\".format(i): x for i,x in enumerate(FLs['Lon'])}\n",
    "FLY = {\"FLY{}\".format(i): y for i,y in enumerate(FLs['Lat'])}\n",
    "\n",
    "\n",
    "# Population demand points\n",
    "DPpop = {\"DPpop{}\".format(i): pop for i,pop in enumerate(DPs['population'])}\n",
    "# DPpop = {\"DPpop{}\".format(i): random.uniform(10,100) for i in range(nr_of_DPs)}"
   ]
  },
  {
   "cell_type": "code",
   "execution_count": 112,
   "metadata": {},
   "outputs": [],
   "source": [
    "epicentre_name = \"RealLocation\"\n",
    "disruptionsFLs = np.loadtxt(\n",
    "    '{}/Prepared Input Data/DisruptionFL{}.txt'.format(case,epicentre_name))\n",
    "disruptionsDPs = np.loadtxt(\n",
    "    '{}/Prepared Input Data/DisruptionDP{}.txt'.format(case,epicentre_name))\n",
    "\n",
    "# DSRDP = {\"DSRDP{}\".format(i): 1.5 for i in range(len(DPX))}\n",
    "# DSRFL = {\"DSRFL{}\".format(i): 1.5 for i in range(len(FLX))}"
   ]
  },
  {
   "cell_type": "code",
   "execution_count": 113,
   "metadata": {},
   "outputs": [],
   "source": [
    "DSRDP = {\"DSRDP{}\".format(i): disruptionsDPs[i] for i in range(len(DPX))}\n",
    "DSRFL = {\"DSRFL{}\".format(i): disruptionsFLs[i] for i in range(len(FLX))}"
   ]
  },
  {
   "cell_type": "code",
   "execution_count": 114,
   "metadata": {
    "code_folding": []
   },
   "outputs": [],
   "source": [
    "def evaluate_pol_set(pol_set):\n",
    "    results = []\n",
    "    for policy in pol_set:\n",
    "        results.append(FL_model(\n",
    "            unit_opening_costs=Fix_Unc.best_estimate['unit_opening_costs'],\n",
    "            unit_transport_cost=Fix_Unc.best_estimate['unit_transport_cost'],\n",
    "            FL_operations_cost=Fix_Unc.best_estimate['FL_operations_cost'],\n",
    "            demand_per_affected=Fix_Unc.best_estimate['demand_per_affected'],\n",
    "            graphical_representation=False,\n",
    "            FL_range=Fix_Unc.best_estimate['FL_range'],\n",
    "            dist_method='from_table',\n",
    "            table_dir=\"{}/Prepared Input Data/routing_table.csv\".format(case),\n",
    "            **SPX,\n",
    "            **SPY,\n",
    "            **DPX,\n",
    "            **DPY,\n",
    "            **FLX,\n",
    "            **FLY,\n",
    "            **policy,\n",
    "            **DSRDP,\n",
    "            **DSRFL,\n",
    "            **DPpop))\n",
    "    return results"
   ]
  },
  {
   "cell_type": "code",
   "execution_count": 115,
   "metadata": {},
   "outputs": [],
   "source": [
    "def get_branch_performance(period, label_tree, policy_tree):\n",
    "    p_mordm_pol_sets = get_all_mordms_in_period(period, label_tree,\n",
    "                                                policy_tree)\n",
    "    result_sets = []\n",
    "    for pol_set in p_mordm_pol_sets:\n",
    "        result_sets.append(evaluate_pol_set(pol_set))\n",
    "    return result_sets"
   ]
  },
  {
   "cell_type": "code",
   "execution_count": 116,
   "metadata": {},
   "outputs": [],
   "source": [
    "sets = get_branch_performance('p1',global_label_tree,global_policy_tree)"
   ]
  },
  {
   "cell_type": "code",
   "execution_count": null,
   "metadata": {},
   "outputs": [],
   "source": []
  },
  {
   "cell_type": "code",
   "execution_count": 25,
   "metadata": {},
   "outputs": [],
   "source": [
    "# For each mordm cycle, calculate hypervolume"
   ]
  },
  {
   "cell_type": "code",
   "execution_count": 26,
   "metadata": {
    "scrolled": true
   },
   "outputs": [],
   "source": [
    "# normalise_df(df)"
   ]
  },
  {
   "cell_type": "code",
   "execution_count": 118,
   "metadata": {},
   "outputs": [],
   "source": [
    "def normalise_df (df):\n",
    "    normalised_df=(df-df.min())/(df.max()-df.min())\n",
    "    return normalised_df"
   ]
  },
  {
   "cell_type": "code",
   "execution_count": 119,
   "metadata": {},
   "outputs": [],
   "source": [
    "def normalise_sets(all_sets):\n",
    "    \"\"\"\n",
    "    unity-based normalisation for normalisation between 0 and 1\n",
    "    All sets are first merged, then normalised, then split again.\n",
    "    This way the normalisation is over the full span of values in all sets\n",
    "    \"\"\"\n",
    "    df = pd.DataFrame()\n",
    "    for i, s in enumerate(all_sets):\n",
    "        dftemp = pd.DataFrame(s)\n",
    "        dftemp['set'] = i\n",
    "        df = df.append(dftemp)\n",
    "    df = df.reset_index(drop=True)\n",
    "    df_normalised = normalise_df(df.iloc[:, :4])\n",
    "    df_normalised['set'] = df['set']\n",
    "\n",
    "    sets_normalised = []\n",
    "    for i in sorted(list(set(df_normalised.set))):\n",
    "        sets_normalised.append(df_normalised[df_normalised.set == i].values)\n",
    "    return sets_normalised"
   ]
  },
  {
   "cell_type": "code",
   "execution_count": 29,
   "metadata": {},
   "outputs": [],
   "source": [
    "# df = pd.DataFrame()\n",
    "# for i,s in enumerate(sets):\n",
    "#     dftemp = pd.DataFrame(s)\n",
    "#     dftemp['set']=i\n",
    "#     df = df.append(dftemp)\n",
    "    \n",
    "# sets"
   ]
  },
  {
   "cell_type": "code",
   "execution_count": 30,
   "metadata": {},
   "outputs": [],
   "source": [
    "# sets_normalised"
   ]
  },
  {
   "cell_type": "code",
   "execution_count": 120,
   "metadata": {},
   "outputs": [],
   "source": [
    "def compute_hypervolumes(normalised_sets):\n",
    "    ref_point = [1,1,1,1]\n",
    "    hvs = []\n",
    "    for tmpset in normalised_sets:\n",
    "        hv = pg.hypervolume(tmpset.astype(float)[:,:4])\n",
    "        hvs.append(hv.compute(ref_point))\n",
    "    return hvs"
   ]
  },
  {
   "cell_type": "code",
   "execution_count": 121,
   "metadata": {},
   "outputs": [],
   "source": [
    "a = compute_hypervolumes(sets_normalised)"
   ]
  },
  {
   "cell_type": "code",
   "execution_count": 122,
   "metadata": {},
   "outputs": [],
   "source": [
    "# For each mordm cycle, calculate uncertainty space."
   ]
  },
  {
   "cell_type": "code",
   "execution_count": 123,
   "metadata": {},
   "outputs": [],
   "source": [
    "def get_uncertainty_bandwiths(period,\n",
    "                              label_tree,\n",
    "                              var_unc_data,\n",
    "                              function=\"mean\"):\n",
    "    \"\"\"\n",
    "    period: string: E.g. \"p0\"\n",
    "    function: string. function to perform on pandas Series.\n",
    "        E.g.: mean, max, min\n",
    "    \"\"\"\n",
    "    p_labels = label_tree[period]\n",
    "    bandwidth_metrics = []\n",
    "    for l in p_labels:\n",
    "        bandwith = (var_unc_data[l].upper - var_unc_data[l].lower)\n",
    "        metric = eval(\"bandwith.{}()\".format(function))\n",
    "#         print(l)\n",
    "#         print(bandwith)\n",
    "        bandwidth_metrics.append(metric)\n",
    "    return bandwidth_metrics"
   ]
  },
  {
   "cell_type": "code",
   "execution_count": 124,
   "metadata": {},
   "outputs": [],
   "source": [
    "b = get_uncertainty_bandwiths(\"p1\",global_label_tree,global_dfs_var_unc_data)"
   ]
  },
  {
   "cell_type": "code",
   "execution_count": 125,
   "metadata": {},
   "outputs": [
    {
     "ename": "ValueError",
     "evalue": "x and y must be the same size",
     "output_type": "error",
     "traceback": [
      "\u001b[1;31m---------------------------------------------------------------------------\u001b[0m",
      "\u001b[1;31mValueError\u001b[0m                                Traceback (most recent call last)",
      "\u001b[1;32m<ipython-input-125-c503920aaaf7>\u001b[0m in \u001b[0;36m<module>\u001b[1;34m()\u001b[0m\n\u001b[0;32m      3\u001b[0m \u001b[1;33m\u001b[0m\u001b[0m\n\u001b[0;32m      4\u001b[0m \u001b[0max\u001b[0m \u001b[1;33m=\u001b[0m \u001b[0mfig\u001b[0m\u001b[1;33m.\u001b[0m\u001b[0madd_subplot\u001b[0m\u001b[1;33m(\u001b[0m\u001b[1;36m111\u001b[0m\u001b[1;33m)\u001b[0m\u001b[1;33m\u001b[0m\u001b[0m\n\u001b[1;32m----> 5\u001b[1;33m \u001b[0max\u001b[0m\u001b[1;33m.\u001b[0m\u001b[0mscatter\u001b[0m\u001b[1;33m(\u001b[0m\u001b[0ma\u001b[0m\u001b[1;33m,\u001b[0m\u001b[0mb\u001b[0m\u001b[1;33m)\u001b[0m\u001b[1;33m\u001b[0m\u001b[0m\n\u001b[0m\u001b[0;32m      6\u001b[0m \u001b[1;31m# ax.scatter(b,a)\u001b[0m\u001b[1;33m\u001b[0m\u001b[1;33m\u001b[0m\u001b[0m\n\u001b[0;32m      7\u001b[0m \u001b[1;33m\u001b[0m\u001b[0m\n",
      "\u001b[1;32m~\\Anaconda3\\lib\\site-packages\\matplotlib\\__init__.py\u001b[0m in \u001b[0;36minner\u001b[1;34m(ax, *args, **kwargs)\u001b[0m\n\u001b[0;32m   1853\u001b[0m                         \u001b[1;34m\"the Matplotlib list!)\"\u001b[0m \u001b[1;33m%\u001b[0m \u001b[1;33m(\u001b[0m\u001b[0mlabel_namer\u001b[0m\u001b[1;33m,\u001b[0m \u001b[0mfunc\u001b[0m\u001b[1;33m.\u001b[0m\u001b[0m__name__\u001b[0m\u001b[1;33m)\u001b[0m\u001b[1;33m,\u001b[0m\u001b[1;33m\u001b[0m\u001b[0m\n\u001b[0;32m   1854\u001b[0m                         RuntimeWarning, stacklevel=2)\n\u001b[1;32m-> 1855\u001b[1;33m             \u001b[1;32mreturn\u001b[0m \u001b[0mfunc\u001b[0m\u001b[1;33m(\u001b[0m\u001b[0max\u001b[0m\u001b[1;33m,\u001b[0m \u001b[1;33m*\u001b[0m\u001b[0margs\u001b[0m\u001b[1;33m,\u001b[0m \u001b[1;33m**\u001b[0m\u001b[0mkwargs\u001b[0m\u001b[1;33m)\u001b[0m\u001b[1;33m\u001b[0m\u001b[0m\n\u001b[0m\u001b[0;32m   1856\u001b[0m \u001b[1;33m\u001b[0m\u001b[0m\n\u001b[0;32m   1857\u001b[0m         inner.__doc__ = _add_data_doc(inner.__doc__,\n",
      "\u001b[1;32m~\\Anaconda3\\lib\\site-packages\\matplotlib\\axes\\_axes.py\u001b[0m in \u001b[0;36mscatter\u001b[1;34m(self, x, y, s, c, marker, cmap, norm, vmin, vmax, alpha, linewidths, verts, edgecolors, **kwargs)\u001b[0m\n\u001b[0;32m   4241\u001b[0m         \u001b[0my\u001b[0m \u001b[1;33m=\u001b[0m \u001b[0mnp\u001b[0m\u001b[1;33m.\u001b[0m\u001b[0mma\u001b[0m\u001b[1;33m.\u001b[0m\u001b[0mravel\u001b[0m\u001b[1;33m(\u001b[0m\u001b[0my\u001b[0m\u001b[1;33m)\u001b[0m\u001b[1;33m\u001b[0m\u001b[0m\n\u001b[0;32m   4242\u001b[0m         \u001b[1;32mif\u001b[0m \u001b[0mx\u001b[0m\u001b[1;33m.\u001b[0m\u001b[0msize\u001b[0m \u001b[1;33m!=\u001b[0m \u001b[0my\u001b[0m\u001b[1;33m.\u001b[0m\u001b[0msize\u001b[0m\u001b[1;33m:\u001b[0m\u001b[1;33m\u001b[0m\u001b[0m\n\u001b[1;32m-> 4243\u001b[1;33m             \u001b[1;32mraise\u001b[0m \u001b[0mValueError\u001b[0m\u001b[1;33m(\u001b[0m\u001b[1;34m\"x and y must be the same size\"\u001b[0m\u001b[1;33m)\u001b[0m\u001b[1;33m\u001b[0m\u001b[0m\n\u001b[0m\u001b[0;32m   4244\u001b[0m \u001b[1;33m\u001b[0m\u001b[0m\n\u001b[0;32m   4245\u001b[0m         \u001b[1;32mif\u001b[0m \u001b[0ms\u001b[0m \u001b[1;32mis\u001b[0m \u001b[1;32mNone\u001b[0m\u001b[1;33m:\u001b[0m\u001b[1;33m\u001b[0m\u001b[0m\n",
      "\u001b[1;31mValueError\u001b[0m: x and y must be the same size"
     ]
    },
    {
     "data": {
      "image/png": "[encoded data removed]",
      "text/plain": [
       "<Figure size 432x288 with 1 Axes>"
      ]
     },
     "metadata": {},
     "output_type": "display_data"
    }
   ],
   "source": [
    "# Plot single period in scatter\n",
    "fig = plt.figure()\n",
    "\n",
    "ax = fig.add_subplot(111)\n",
    "ax.scatter(a,b)\n",
    "# ax.scatter(b,a)\n",
    "\n",
    "plt.show()"
   ]
  },
  {
   "cell_type": "code",
   "execution_count": 126,
   "metadata": {},
   "outputs": [
    {
     "data": {
      "text/plain": [
       "['p0', 'p1', 'p2', 'p3']"
      ]
     },
     "execution_count": 126,
     "metadata": {},
     "output_type": "execute_result"
    }
   ],
   "source": [
    "sorted(global_label_tree.keys())[:-1]"
   ]
  },
  {
   "cell_type": "code",
   "execution_count": 38,
   "metadata": {
    "scrolled": true
   },
   "outputs": [
    {
     "name": "stdout",
     "output_type": "stream",
     "text": [
      "p0\n",
      "p1\n",
      "p2\n",
      "p3\n"
     ]
    },
    {
     "data": {
      "image/png": "[encoded data removed]",
      "text/plain": [
       "<Figure size 432x288 with 1 Axes>"
      ]
     },
     "metadata": {},
     "output_type": "display_data"
    }
   ],
   "source": [
    "# Do all this for all periods.\n",
    "\n",
    "fig = plt.figure()\n",
    "ax = fig.add_subplot(111)\n",
    "for period in sorted(global_label_tree.keys())[:-1]:\n",
    "    print(period)\n",
    "    # period = \"p1\"\n",
    "\n",
    "    sets = get_branch_performance(period, global_label_tree,\n",
    "                                  global_policy_tree)\n",
    "\n",
    "    sets_normalised = normalise_sets(sets)\n",
    "\n",
    "    hvs = compute_hypervolumes(sets_normalised)\n",
    "\n",
    "    bws = get_uncertainty_bandwiths(period, global_label_tree,\n",
    "                                    global_dfs_var_unc_data)\n",
    "    \n",
    "    ax.scatter(hvs,bws)\n",
    "plt.show()"
   ]
  },
  {
   "cell_type": "code",
   "execution_count": null,
   "metadata": {},
   "outputs": [],
   "source": [
    "sets = get_branch_performance('p3', global_label_tree,\n",
    "                              global_policy_tree)\n",
    "\n",
    "sets_normalised = normalise_sets(sets)\n",
    "\n",
    "hvs = compute_hypervolumes(sets_normalised)"
   ]
  },
  {
   "cell_type": "code",
   "execution_count": 131,
   "metadata": {},
   "outputs": [
    {
     "data": {
      "text/plain": [
       "268"
      ]
     },
     "execution_count": 131,
     "metadata": {},
     "output_type": "execute_result"
    }
   ],
   "source": [
    "len(hvs)"
   ]
  },
  {
   "cell_type": "code",
   "execution_count": 144,
   "metadata": {},
   "outputs": [],
   "source": [
    "bws = get_uncertainty_bandwiths('p3', global_label_tree,\n",
    "                                global_dfs_var_unc_data)"
   ]
  },
  {
   "cell_type": "code",
   "execution_count": 140,
   "metadata": {},
   "outputs": [
    {
     "data": {
      "image/png": "[encoded data removed]",
      "text/plain": [
       "<Figure size 432x288 with 1 Axes>"
      ]
     },
     "metadata": {},
     "output_type": "display_data"
    }
   ],
   "source": [
    "plt.scatter(hvs,bws)\n",
    "plt.show()"
   ]
  },
  {
   "cell_type": "code",
   "execution_count": 146,
   "metadata": {},
   "outputs": [
    {
     "data": {
      "text/plain": [
       "(0.171891435946291, 0.2477300656325489, 0.3825638190900099)"
      ]
     },
     "execution_count": 146,
     "metadata": {},
     "output_type": "execute_result"
    }
   ],
   "source": [
    "min(bws),np.mean(bws), max(bws)"
   ]
  },
  {
   "cell_type": "markdown",
   "metadata": {},
   "source": [
    "* Splits uit. Kijk wanneer punten rechts liggen, kijk wanneer punten links liggen\n",
    "* Doe dit niet alleen voor hypervolumes, maar ook voor scores individuele objectives\n",
    "* Kijk bijvoorbeeld naar wat er gebeurt als je kleuren doet op basis van scores op individuele objectives\n",
    "* Gebruik Plotly voor makkelijk kleur en interactief maken\n",
    "\n",
    "Bottomline: \n",
    "- Find reason for convergence on hypervolume indicator. Is because of what?\n",
    "- Apparently no correlation between hypervolume and uncertainty reduction. what is then correlated to uncertainty reduction? I guess covered demand the most. Find this for valuable insight!!XXXX\n",
    "\n",
    "Alse:\n",
    "- Do PRIM on objectives (for every period) to see how they affect uncertainty & performance (hv)"
   ]
  },
  {
   "cell_type": "code",
   "execution_count": 129,
   "metadata": {},
   "outputs": [],
   "source": [
    "data = pd.DataFrame([hvs,bws]).T\n",
    "data.columns = ['hvs', 'unc_bws']"
   ]
  },
  {
   "cell_type": "markdown",
   "metadata": {},
   "source": [
    "<b>Regression Plot</b><br>\n",
    "Here we see a slight correlation between bandwidth and uncertainty. \n",
    "When Uncertainty decrease, hypervolumes increase. Although it seems there are other more important, which will be looked for onwards. \n",
    "\n",
    "This relation is obvious: When using better best estimates for the optimisation, the results will be better. Variability can probably be explained by the different valuations of objectives over time. (Hypothesis: focus on minimisation of cost at any point in time will reduce final hypervolume) "
   ]
  },
  {
   "cell_type": "code",
   "execution_count": 40,
   "metadata": {},
   "outputs": [
    {
     "name": "stderr",
     "output_type": "stream",
     "text": [
      "C:\\Users\\timro\\Anaconda3\\lib\\importlib\\_bootstrap.py:219: ImportWarning: can't resolve package from __spec__ or __package__, falling back on __name__ and __path__\n",
      "  return f(*args, **kwds)\n"
     ]
    },
    {
     "data": {
      "text/plain": [
       "<matplotlib.axes._subplots.AxesSubplot at 0x231e82bbba8>"
      ]
     },
     "execution_count": 40,
     "metadata": {},
     "output_type": "execute_result"
    },
    {
     "data": {
      "image/png": "[encoded data removed]",
      "text/plain": [
       "<Figure size 432x288 with 1 Axes>"
      ]
     },
     "metadata": {},
     "output_type": "display_data"
    }
   ],
   "source": [
    "import seaborn as sns\n",
    "sns.regplot(y='hvs',x='unc_bws', data=data)"
   ]
  },
  {
   "cell_type": "code",
   "execution_count": 150,
   "metadata": {},
   "outputs": [
    {
     "data": {
      "image/png": "[encoded data removed]",
      "text/plain": [
       "<Figure size 432x288 with 1 Axes>"
      ]
     },
     "metadata": {},
     "output_type": "display_data"
    }
   ],
   "source": [
    "data = pd.DataFrame([hvs, bws]).T\n",
    "data.columns = ['hvs', 'unc_bws']\n",
    "import seaborn as sns\n",
    "\n",
    "ax = sns.regplot(y='hvs', x='unc_bws', data=data)\n",
    "ax.set(\n",
    "    xlabel='Mean Uncertainty Bandwidths',\n",
    "    ylabel=\"Hypervolume\",\n",
    "    title=\"Pareto Front Estimation Performance for Uncertainty Bandwidths\\nScatter with Regression Line\")\n",
    "plt.savefig(\"{}/{}/Analysis/HVxUNC\".format(case, output_folder), dpi=500)"
   ]
  },
  {
   "cell_type": "code",
   "execution_count": 168,
   "metadata": {},
   "outputs": [
    {
     "data": {
      "text/plain": [
       "<module 'statsmodels.api' from 'C:\\\\Users\\\\timro\\\\Anaconda3\\\\lib\\\\site-packages\\\\statsmodels\\\\api.py'>"
      ]
     },
     "execution_count": 168,
     "metadata": {},
     "output_type": "execute_result"
    }
   ],
   "source": [
    "sm"
   ]
  },
  {
   "cell_type": "code",
   "execution_count": 200,
   "metadata": {},
   "outputs": [
    {
     "data": {
      "text/plain": [
       "'def normalise_df (df):\\n    normalised_df=(df-df.min())/(df.max()-df.min())\\n    return normalised_df\\n'"
      ]
     },
     "execution_count": 200,
     "metadata": {},
     "output_type": "execute_result"
    }
   ],
   "source": [
    "import inspect\n",
    "inspect.getsource(normalise_df)"
   ]
  },
  {
   "cell_type": "code",
   "execution_count": 201,
   "metadata": {},
   "outputs": [],
   "source": [
    "def normalise_df2(df):\n",
    "    normalised_df = (df - 0) / (df.max() - 0)\n",
    "    return normalised_df"
   ]
  },
  {
   "cell_type": "code",
   "execution_count": 203,
   "metadata": {},
   "outputs": [
    {
     "data": {
      "text/html": [
       "<table class=\"simpletable\">\n",
       "<caption>OLS Regression Results</caption>\n",
       "<tr>\n",
       "  <th>Dep. Variable:</th>           <td>hvs</td>       <th>  R-squared:         </th> <td>   0.102</td>\n",
       "</tr>\n",
       "<tr>\n",
       "  <th>Model:</th>                   <td>OLS</td>       <th>  Adj. R-squared:    </th> <td>   0.098</td>\n",
       "</tr>\n",
       "<tr>\n",
       "  <th>Method:</th>             <td>Least Squares</td>  <th>  F-statistic:       </th> <td>   30.13</td>\n",
       "</tr>\n",
       "<tr>\n",
       "  <th>Date:</th>             <td>Fri, 22 Jun 2018</td> <th>  Prob (F-statistic):</th> <td>9.42e-08</td>\n",
       "</tr>\n",
       "<tr>\n",
       "  <th>Time:</th>                 <td>12:08:29</td>     <th>  Log-Likelihood:    </th> <td>  101.31</td>\n",
       "</tr>\n",
       "<tr>\n",
       "  <th>No. Observations:</th>      <td>   268</td>      <th>  AIC:               </th> <td>  -198.6</td>\n",
       "</tr>\n",
       "<tr>\n",
       "  <th>Df Residuals:</th>          <td>   266</td>      <th>  BIC:               </th> <td>  -191.4</td>\n",
       "</tr>\n",
       "<tr>\n",
       "  <th>Df Model:</th>              <td>     1</td>      <th>                     </th>     <td> </td>   \n",
       "</tr>\n",
       "<tr>\n",
       "  <th>Covariance Type:</th>      <td>nonrobust</td>    <th>                     </th>     <td> </td>   \n",
       "</tr>\n",
       "</table>\n",
       "<table class=\"simpletable\">\n",
       "<tr>\n",
       "     <td></td>        <th>coef</th>     <th>std err</th>      <th>t</th>      <th>P>|t|</th>  <th>[0.025</th>    <th>0.975]</th>  \n",
       "</tr>\n",
       "<tr>\n",
       "  <th>const</th>   <td>    0.9658</td> <td>    0.076</td> <td>   12.661</td> <td> 0.000</td> <td>    0.816</td> <td>    1.116</td>\n",
       "</tr>\n",
       "<tr>\n",
       "  <th>unc_bws</th> <td>   -1.6751</td> <td>    0.305</td> <td>   -5.489</td> <td> 0.000</td> <td>   -2.276</td> <td>   -1.074</td>\n",
       "</tr>\n",
       "</table>\n",
       "<table class=\"simpletable\">\n",
       "<tr>\n",
       "  <th>Omnibus:</th>       <td> 8.750</td> <th>  Durbin-Watson:     </th> <td>   1.548</td>\n",
       "</tr>\n",
       "<tr>\n",
       "  <th>Prob(Omnibus):</th> <td> 0.013</td> <th>  Jarque-Bera (JB):  </th> <td>   8.862</td>\n",
       "</tr>\n",
       "<tr>\n",
       "  <th>Skew:</th>          <td> 0.378</td> <th>  Prob(JB):          </th> <td>  0.0119</td>\n",
       "</tr>\n",
       "<tr>\n",
       "  <th>Kurtosis:</th>      <td> 3.470</td> <th>  Cond. No.          </th> <td>    31.9</td>\n",
       "</tr>\n",
       "</table>"
      ],
      "text/plain": [
       "<class 'statsmodels.iolib.summary.Summary'>\n",
       "\"\"\"\n",
       "                            OLS Regression Results                            \n",
       "==============================================================================\n",
       "Dep. Variable:                    hvs   R-squared:                       0.102\n",
       "Model:                            OLS   Adj. R-squared:                  0.098\n",
       "Method:                 Least Squares   F-statistic:                     30.13\n",
       "Date:                Fri, 22 Jun 2018   Prob (F-statistic):           9.42e-08\n",
       "Time:                        12:08:29   Log-Likelihood:                 101.31\n",
       "No. Observations:                 268   AIC:                            -198.6\n",
       "Df Residuals:                     266   BIC:                            -191.4\n",
       "Df Model:                           1                                         \n",
       "Covariance Type:            nonrobust                                         \n",
       "==============================================================================\n",
       "                 coef    std err          t      P>|t|      [0.025      0.975]\n",
       "------------------------------------------------------------------------------\n",
       "const          0.9658      0.076     12.661      0.000       0.816       1.116\n",
       "unc_bws       -1.6751      0.305     -5.489      0.000      -2.276      -1.074\n",
       "==============================================================================\n",
       "Omnibus:                        8.750   Durbin-Watson:                   1.548\n",
       "Prob(Omnibus):                  0.013   Jarque-Bera (JB):                8.862\n",
       "Skew:                           0.378   Prob(JB):                       0.0119\n",
       "Kurtosis:                       3.470   Cond. No.                         31.9\n",
       "==============================================================================\n",
       "\n",
       "Warnings:\n",
       "[1] Standard Errors assume that the covariance matrix of the errors is correctly specified.\n",
       "\"\"\""
      ]
     },
     "execution_count": 203,
     "metadata": {},
     "output_type": "execute_result"
    }
   ],
   "source": [
    "X = data['unc_bws']\n",
    "Y = normalise_df2(data['hvs'])\n",
    "X = sm.add_constant(X)\n",
    "mod = sm.OLS(Y,X)\n",
    "res = mod.fit()\n",
    "res.summary()"
   ]
  },
  {
   "cell_type": "code",
   "execution_count": 42,
   "metadata": {},
   "outputs": [
    {
     "data": {
      "text/plain": [
       "Index(['hvs', 'unc_bws'], dtype='object')"
      ]
     },
     "execution_count": 42,
     "metadata": {},
     "output_type": "execute_result"
    }
   ],
   "source": [
    "data.columns"
   ]
  },
  {
   "cell_type": "code",
   "execution_count": 151,
   "metadata": {},
   "outputs": [
    {
     "data": {
      "image/png": "[encoded data removed]",
      "text/plain": [
       "<Figure size 432x432 with 3 Axes>"
      ]
     },
     "metadata": {},
     "output_type": "display_data"
    }
   ],
   "source": [
    "ax = sns.jointplot(\n",
    "    y=data['hvs'],\n",
    "    x=data['unc_bws'],\n",
    "    kind='kde',\n",
    ")\n",
    "# ax.set(\n",
    "#     xlabel='Mean Uncertainty Bandwidths',\n",
    "#     ylabel=\"Hypervolume\",\n",
    "#     title=\"Pareto Front Estimation Performance for Uncertainty Bandwidths\\n2D Density Plot\")\n",
    "ax.fig.suptitle(\n",
    "    \"Pareto Front Estimation Performance for Uncertainty Bandwidths\\n2D Density Plot\",\n",
    "    y=1.04)\n",
    "ax.set_axis_labels('Mean Uncertainty Bandwidths', \"Hypervolume\")\n",
    "plt.savefig(\n",
    "    \"{}/{}/Analysis/HVxUNC-Density\".format(case, output_folder), dpi=500, bbox_inches='tight')"
   ]
  },
  {
   "cell_type": "markdown",
   "metadata": {},
   "source": [
    "- Hypervolume for all nondominated policies at p3 (last optimisation period). Hypervolume calculated based on what would be the scores on actual values.\n",
    "- uncertainty bandwidths of that period. (influencing the optimisation process and the robustness testing.)"
   ]
  },
  {
   "cell_type": "code",
   "execution_count": 44,
   "metadata": {},
   "outputs": [],
   "source": [
    "# Plot all in single scatter, different colors for different periods"
   ]
  },
  {
   "cell_type": "code",
   "execution_count": 45,
   "metadata": {},
   "outputs": [],
   "source": [
    "# Connect each point with the related points in previous timesteps."
   ]
  },
  {
   "cell_type": "code",
   "execution_count": null,
   "metadata": {},
   "outputs": [],
   "source": []
  },
  {
   "cell_type": "markdown",
   "metadata": {},
   "source": [
    "# Correlate hypervolumes and uncertainties"
   ]
  },
  {
   "cell_type": "markdown",
   "metadata": {},
   "source": [
    "Check if policies always in same order. Otherwise, not the right points connected to each other.\n",
    "\n",
    "if so. Then Get best estimate objective evaluations"
   ]
  },
  {
   "cell_type": "code",
   "execution_count": 46,
   "metadata": {},
   "outputs": [],
   "source": [
    "a = get_branch_performance('p3', global_label_tree,\n",
    "                                  global_policy_tree)\n",
    "# b = normalise_sets(a)\n",
    "\n",
    "# c = compute_hypervolumes(sets_normalised)\n",
    "\n",
    "# d = get_uncertainty_bandwiths('p4', global_label_tree,\n",
    "#                                     global_dfs_var_unc_data)"
   ]
  },
  {
   "cell_type": "code",
   "execution_count": 47,
   "metadata": {},
   "outputs": [],
   "source": [
    "# b = get_branch_pols('p3', global_label_tree,\n",
    "#                                   global_policy_tree)"
   ]
  },
  {
   "cell_type": "code",
   "execution_count": 48,
   "metadata": {},
   "outputs": [],
   "source": [
    "# def get_branch_pols(period, label_tree, policy_tree):\n",
    "#     p_mordm_pol_sets = get_all_mordms_in_period(period, label_tree,\n",
    "#                                                 policy_tree)\n",
    "\n",
    "#     return p_mordm_pol_sets"
   ]
  },
  {
   "cell_type": "code",
   "execution_count": 49,
   "metadata": {},
   "outputs": [
    {
     "data": {
      "text/plain": [
       "268"
      ]
     },
     "execution_count": 49,
     "metadata": {},
     "output_type": "execute_result"
    }
   ],
   "source": [
    "len(a)"
   ]
  },
  {
   "cell_type": "code",
   "execution_count": 50,
   "metadata": {},
   "outputs": [
    {
     "data": {
      "text/plain": [
       "268"
      ]
     },
     "execution_count": 50,
     "metadata": {},
     "output_type": "execute_result"
    }
   ],
   "source": [
    "len(global_label_tree['p3'])"
   ]
  },
  {
   "cell_type": "code",
   "execution_count": 51,
   "metadata": {},
   "outputs": [
    {
     "data": {
      "text/plain": [
       "268"
      ]
     },
     "execution_count": 51,
     "metadata": {},
     "output_type": "execute_result"
    }
   ],
   "source": [
    "len(hvs)"
   ]
  },
  {
   "cell_type": "code",
   "execution_count": 52,
   "metadata": {},
   "outputs": [
    {
     "data": {
      "text/plain": [
       "'p0n0p1n1p2n8p3n53'"
      ]
     },
     "execution_count": 52,
     "metadata": {},
     "output_type": "execute_result"
    }
   ],
   "source": [
    "global_label_tree['p3'][0]"
   ]
  },
  {
   "cell_type": "code",
   "execution_count": 53,
   "metadata": {},
   "outputs": [
    {
     "data": {
      "text/html": [
       "<div>\n",
       "<style scoped>\n",
       "    .dataframe tbody tr th:only-of-type {\n",
       "        vertical-align: middle;\n",
       "    }\n",
       "\n",
       "    .dataframe tbody tr th {\n",
       "        vertical-align: top;\n",
       "    }\n",
       "\n",
       "    .dataframe thead th {\n",
       "        text-align: right;\n",
       "    }\n",
       "</style>\n",
       "<table border=\"1\" class=\"dataframe\">\n",
       "  <thead>\n",
       "    <tr style=\"text-align: right;\">\n",
       "      <th></th>\n",
       "      <th>Unnamed: 0</th>\n",
       "      <th>total_costs</th>\n",
       "      <th>nr_uncovered_DPs</th>\n",
       "      <th>total_uncovered_demand</th>\n",
       "      <th>max_distr_time</th>\n",
       "    </tr>\n",
       "  </thead>\n",
       "  <tbody>\n",
       "    <tr>\n",
       "      <th>0</th>\n",
       "      <td>3</td>\n",
       "      <td>121595.612894</td>\n",
       "      <td>14.0</td>\n",
       "      <td>9582.396048</td>\n",
       "      <td>57150.213923</td>\n",
       "    </tr>\n",
       "    <tr>\n",
       "      <th>1</th>\n",
       "      <td>13</td>\n",
       "      <td>271735.281291</td>\n",
       "      <td>12.0</td>\n",
       "      <td>8144.452546</td>\n",
       "      <td>57150.213923</td>\n",
       "    </tr>\n",
       "    <tr>\n",
       "      <th>2</th>\n",
       "      <td>16</td>\n",
       "      <td>124693.285242</td>\n",
       "      <td>13.0</td>\n",
       "      <td>9570.863418</td>\n",
       "      <td>57150.213923</td>\n",
       "    </tr>\n",
       "    <tr>\n",
       "      <th>3</th>\n",
       "      <td>19</td>\n",
       "      <td>275848.344199</td>\n",
       "      <td>13.0</td>\n",
       "      <td>9380.077284</td>\n",
       "      <td>38755.495023</td>\n",
       "    </tr>\n",
       "  </tbody>\n",
       "</table>\n",
       "</div>"
      ],
      "text/plain": [
       "   Unnamed: 0    total_costs  nr_uncovered_DPs  total_uncovered_demand  \\\n",
       "0           3  121595.612894              14.0             9582.396048   \n",
       "1          13  271735.281291              12.0             8144.452546   \n",
       "2          16  124693.285242              13.0             9570.863418   \n",
       "3          19  275848.344199              13.0             9380.077284   \n",
       "\n",
       "   max_distr_time  \n",
       "0    57150.213923  \n",
       "1    57150.213923  \n",
       "2    57150.213923  \n",
       "3    38755.495023  "
      ]
     },
     "execution_count": 53,
     "metadata": {},
     "output_type": "execute_result"
    }
   ],
   "source": [
    "labelname = global_label_tree['p3'][0]\n",
    "pd.read_csv(\"{}/{}/nondom_BE_pols{}.csv\".format(case, output_folder, labelname))"
   ]
  },
  {
   "cell_type": "code",
   "execution_count": 54,
   "metadata": {},
   "outputs": [
    {
     "data": {
      "text/plain": [
       "'p0n0p1n1p2n8'"
      ]
     },
     "execution_count": 54,
     "metadata": {},
     "output_type": "execute_result"
    }
   ],
   "source": [
    "labelname = global_label_tree['p3'][0]\n",
    "labelname[:-5]"
   ]
  },
  {
   "cell_type": "code",
   "execution_count": 55,
   "metadata": {},
   "outputs": [
    {
     "data": {
      "text/html": [
       "<div>\n",
       "<style scoped>\n",
       "    .dataframe tbody tr th:only-of-type {\n",
       "        vertical-align: middle;\n",
       "    }\n",
       "\n",
       "    .dataframe tbody tr th {\n",
       "        vertical-align: top;\n",
       "    }\n",
       "\n",
       "    .dataframe thead th {\n",
       "        text-align: right;\n",
       "    }\n",
       "</style>\n",
       "<table border=\"1\" class=\"dataframe\">\n",
       "  <thead>\n",
       "    <tr style=\"text-align: right;\">\n",
       "      <th></th>\n",
       "      <th>Unnamed: 0</th>\n",
       "      <th>total_costs</th>\n",
       "      <th>nr_uncovered_DPs</th>\n",
       "      <th>total_uncovered_demand</th>\n",
       "      <th>max_distr_time</th>\n",
       "    </tr>\n",
       "  </thead>\n",
       "  <tbody>\n",
       "    <tr>\n",
       "      <th>0</th>\n",
       "      <td>11</td>\n",
       "      <td>283650.216833</td>\n",
       "      <td>14.0</td>\n",
       "      <td>8617.445500</td>\n",
       "      <td>58540.936826</td>\n",
       "    </tr>\n",
       "    <tr>\n",
       "      <th>1</th>\n",
       "      <td>13</td>\n",
       "      <td>259715.674729</td>\n",
       "      <td>15.0</td>\n",
       "      <td>9828.298716</td>\n",
       "      <td>58540.936826</td>\n",
       "    </tr>\n",
       "    <tr>\n",
       "      <th>2</th>\n",
       "      <td>14</td>\n",
       "      <td>97782.715426</td>\n",
       "      <td>18.0</td>\n",
       "      <td>11919.500324</td>\n",
       "      <td>58540.936826</td>\n",
       "    </tr>\n",
       "    <tr>\n",
       "      <th>3</th>\n",
       "      <td>16</td>\n",
       "      <td>101317.480922</td>\n",
       "      <td>17.0</td>\n",
       "      <td>11908.632693</td>\n",
       "      <td>58540.936826</td>\n",
       "    </tr>\n",
       "    <tr>\n",
       "      <th>4</th>\n",
       "      <td>19</td>\n",
       "      <td>74123.054817</td>\n",
       "      <td>27.0</td>\n",
       "      <td>33358.820149</td>\n",
       "      <td>68030.764552</td>\n",
       "    </tr>\n",
       "  </tbody>\n",
       "</table>\n",
       "</div>"
      ],
      "text/plain": [
       "   Unnamed: 0    total_costs  nr_uncovered_DPs  total_uncovered_demand  \\\n",
       "0          11  283650.216833              14.0             8617.445500   \n",
       "1          13  259715.674729              15.0             9828.298716   \n",
       "2          14   97782.715426              18.0            11919.500324   \n",
       "3          16  101317.480922              17.0            11908.632693   \n",
       "4          19   74123.054817              27.0            33358.820149   \n",
       "\n",
       "   max_distr_time  \n",
       "0    58540.936826  \n",
       "1    58540.936826  \n",
       "2    58540.936826  \n",
       "3    58540.936826  \n",
       "4    68030.764552  "
      ]
     },
     "execution_count": 55,
     "metadata": {},
     "output_type": "execute_result"
    }
   ],
   "source": [
    "labelname = 'p0n0p1n1p2n8'\n",
    "pd.read_csv(\"{}/{}/nondom_BE_pols{}.csv\".format(case, output_folder, labelname))"
   ]
  },
  {
   "cell_type": "code",
   "execution_count": 56,
   "metadata": {},
   "outputs": [
    {
     "data": {
      "text/plain": [
       "{'FLO0': 0.0,\n",
       " 'FLO1': 0.0,\n",
       " 'FLO2': 0.0,\n",
       " 'FLO3': 0.0,\n",
       " 'FLO4': 1.0,\n",
       " 'FLO5': 0.0,\n",
       " 'FLO6': 0.0,\n",
       " 'FLO7': 1.0,\n",
       " 'FLO8': 0.0,\n",
       " 'FLO9': 0.0,\n",
       " 'FLO10': 0.0,\n",
       " 'FLO11': 1.0,\n",
       " 'FLO12': 0.0,\n",
       " 'FLO13': 0.0,\n",
       " 'FLO14': 0.0,\n",
       " 'FLO15': 0.0,\n",
       " 'FLO16': 0.0,\n",
       " 'FLO17': 0.0,\n",
       " 'FLO18': 0.0,\n",
       " 'FLO19': 0.0}"
      ]
     },
     "execution_count": 56,
     "metadata": {},
     "output_type": "execute_result"
    }
   ],
   "source": [
    "global_policy_tree[global_label_tree['p3'][0]]"
   ]
  },
  {
   "cell_type": "code",
   "execution_count": 59,
   "metadata": {},
   "outputs": [
    {
     "data": {
      "text/plain": [
       "'p0n0p1n1p2n8'"
      ]
     },
     "execution_count": 59,
     "metadata": {},
     "output_type": "execute_result"
    }
   ],
   "source": [
    "def find_previous_label(label):\n",
    "    for i,l in enumerate(label[::-1]):\n",
    "        if l == \"p\":\n",
    "            return label[:-i-1]\n",
    "#test\n",
    "find_previous_label(label0)"
   ]
  },
  {
   "cell_type": "code",
   "execution_count": 60,
   "metadata": {},
   "outputs": [],
   "source": [
    "label0 = global_label_tree['p3'][0]\n",
    "labelprev = find_previous_label(global_label_tree['p3'][0])"
   ]
  },
  {
   "cell_type": "code",
   "execution_count": 61,
   "metadata": {},
   "outputs": [
    {
     "data": {
      "text/html": [
       "<div>\n",
       "<style scoped>\n",
       "    .dataframe tbody tr th:only-of-type {\n",
       "        vertical-align: middle;\n",
       "    }\n",
       "\n",
       "    .dataframe tbody tr th {\n",
       "        vertical-align: top;\n",
       "    }\n",
       "\n",
       "    .dataframe thead th {\n",
       "        text-align: right;\n",
       "    }\n",
       "</style>\n",
       "<table border=\"1\" class=\"dataframe\">\n",
       "  <thead>\n",
       "    <tr style=\"text-align: right;\">\n",
       "      <th></th>\n",
       "      <th>total_costs</th>\n",
       "      <th>nr_uncovered_DPs</th>\n",
       "      <th>total_uncovered_demand</th>\n",
       "      <th>max_distr_time</th>\n",
       "    </tr>\n",
       "  </thead>\n",
       "  <tbody>\n",
       "    <tr>\n",
       "      <th>11</th>\n",
       "      <td>283650.216833</td>\n",
       "      <td>14.0</td>\n",
       "      <td>8617.445500</td>\n",
       "      <td>58540.936826</td>\n",
       "    </tr>\n",
       "    <tr>\n",
       "      <th>13</th>\n",
       "      <td>259715.674729</td>\n",
       "      <td>15.0</td>\n",
       "      <td>9828.298716</td>\n",
       "      <td>58540.936826</td>\n",
       "    </tr>\n",
       "    <tr>\n",
       "      <th>14</th>\n",
       "      <td>97782.715426</td>\n",
       "      <td>18.0</td>\n",
       "      <td>11919.500324</td>\n",
       "      <td>58540.936826</td>\n",
       "    </tr>\n",
       "    <tr>\n",
       "      <th>16</th>\n",
       "      <td>101317.480922</td>\n",
       "      <td>17.0</td>\n",
       "      <td>11908.632693</td>\n",
       "      <td>58540.936826</td>\n",
       "    </tr>\n",
       "    <tr>\n",
       "      <th>19</th>\n",
       "      <td>74123.054817</td>\n",
       "      <td>27.0</td>\n",
       "      <td>33358.820149</td>\n",
       "      <td>68030.764552</td>\n",
       "    </tr>\n",
       "  </tbody>\n",
       "</table>\n",
       "</div>"
      ],
      "text/plain": [
       "      total_costs  nr_uncovered_DPs  total_uncovered_demand  max_distr_time\n",
       "11  283650.216833              14.0             8617.445500    58540.936826\n",
       "13  259715.674729              15.0             9828.298716    58540.936826\n",
       "14   97782.715426              18.0            11919.500324    58540.936826\n",
       "16  101317.480922              17.0            11908.632693    58540.936826\n",
       "19   74123.054817              27.0            33358.820149    68030.764552"
      ]
     },
     "execution_count": 61,
     "metadata": {},
     "output_type": "execute_result"
    }
   ],
   "source": [
    "\n",
    "prev_perf = pd.read_csv(\"{}/{}/nondom_BE_pols{}.csv\".format(case, output_folder, labelprev), index_col=0)\n",
    "prev_perf"
   ]
  },
  {
   "cell_type": "code",
   "execution_count": 62,
   "metadata": {},
   "outputs": [],
   "source": [
    "def policy_to_fls(pol):\n",
    "    return [int(key[3:]) for key, val in pol.items() if val == 1]"
   ]
  },
  {
   "cell_type": "code",
   "execution_count": 66,
   "metadata": {},
   "outputs": [
    {
     "data": {
      "text/plain": [
       "[4, 7, 11]"
      ]
     },
     "execution_count": 66,
     "metadata": {},
     "output_type": "execute_result"
    }
   ],
   "source": [
    "temp_fls = policy_to_fls(global_policy_tree[label0])\n",
    "temp_fls"
   ]
  },
  {
   "cell_type": "code",
   "execution_count": 67,
   "metadata": {},
   "outputs": [],
   "source": [
    "for fl in temp_fls:\n",
    "    if fl in prev_perf.index:\n",
    "        perf = prev_perf.loc[fl]"
   ]
  },
  {
   "cell_type": "code",
   "execution_count": 68,
   "metadata": {},
   "outputs": [
    {
     "data": {
      "text/plain": [
       "total_costs               283650.216833\n",
       "nr_uncovered_DPs              14.000000\n",
       "total_uncovered_demand      8617.445500\n",
       "max_distr_time             58540.936826\n",
       "Name: 11, dtype: float64"
      ]
     },
     "execution_count": 68,
     "metadata": {},
     "output_type": "execute_result"
    }
   ],
   "source": [
    "perf"
   ]
  },
  {
   "cell_type": "code",
   "execution_count": 69,
   "metadata": {},
   "outputs": [],
   "source": [
    "def find_previous_performance(label, objective=None):\n",
    "    prev_label = find_previous_label(label)\n",
    "    prev_perf = pd.read_csv(\"{}/{}/nondom_BE_pols{}.csv\".format(case, output_folder, prev_label), index_col=0)\n",
    "    cur_pol = global_policy_tree[label]\n",
    "    cur_fls = policy_to_fls(cur_pol)\n",
    "    for fl in cur_fls:\n",
    "        if fl in prev_perf.index:\n",
    "            if objective == None:\n",
    "                return prev_perf.loc[fl]\n",
    "            else:\n",
    "                return prev_perf.loc[fl][objective]\n",
    "    raise ValueError(\"Something went wrong\")"
   ]
  },
  {
   "cell_type": "code",
   "execution_count": 70,
   "metadata": {},
   "outputs": [
    {
     "data": {
      "text/plain": [
       "'p0n0p1n1p2n8p3n53'"
      ]
     },
     "execution_count": 70,
     "metadata": {},
     "output_type": "execute_result"
    }
   ],
   "source": [
    "label0"
   ]
  },
  {
   "cell_type": "code",
   "execution_count": 71,
   "metadata": {},
   "outputs": [
    {
     "data": {
      "text/plain": [
       "283650.2168326702"
      ]
     },
     "execution_count": 71,
     "metadata": {},
     "output_type": "execute_result"
    }
   ],
   "source": [
    "find_previous_performance(label0, objective='total_costs')"
   ]
  },
  {
   "cell_type": "code",
   "execution_count": 72,
   "metadata": {},
   "outputs": [
    {
     "data": {
      "text/plain": [
       "'p0n0p1n7'"
      ]
     },
     "execution_count": 72,
     "metadata": {},
     "output_type": "execute_result"
    }
   ],
   "source": [
    "def find_label_at_p(label, p='p1'):\n",
    "    for i,l in enumerate(label):\n",
    "        if p in label[i:i+2]:\n",
    "            last_p_i = i\n",
    "    remaining = label[last_p_i+1:]\n",
    "    for i,l in enumerate(remaining):\n",
    "        if l == 'p':\n",
    "            return label[:i+last_p_i+1]\n",
    "\n",
    "find_label_at_p('p0n0p1n7p2n50p3n307')"
   ]
  },
  {
   "cell_type": "code",
   "execution_count": 73,
   "metadata": {},
   "outputs": [],
   "source": [
    "# def find_originating_performance(label, objective=None, period='p0'):\n",
    "# #     only change is the get prev perf. should be changed: find label\n",
    "#     orig_label = find_label_at_p(label, period)\n",
    "#     orig_perf = pd.read_csv(\"{}/{}/nondom_BE_pols{}.csv\".format(case, output_folder, orig_label), index_col=0)\n",
    "#     cur_pol = global_policy_tree[label]\n",
    "#     cur_fls = policy_to_fls(cur_pol)\n",
    "#     for fl in cur_fls:\n",
    "#         if fl in orig_perf.index:\n",
    "#             if objective == None:\n",
    "#                 return orig_perf.loc[fl]\n",
    "#             else:\n",
    "#                 return orig_perf.loc[fl][objective]\n",
    "#     raise ValueError(\"Something went wrong\")"
   ]
  },
  {
   "cell_type": "code",
   "execution_count": 74,
   "metadata": {},
   "outputs": [
    {
     "data": {
      "text/plain": [
       "'p0n0p1n1p2n8p3n53'"
      ]
     },
     "execution_count": 74,
     "metadata": {},
     "output_type": "execute_result"
    }
   ],
   "source": [
    "label0"
   ]
  },
  {
   "cell_type": "code",
   "execution_count": 75,
   "metadata": {
    "scrolled": true
   },
   "outputs": [
    {
     "ename": "NameError",
     "evalue": "name 'find_originating_performance' is not defined",
     "output_type": "error",
     "traceback": [
      "\u001b[1;31m---------------------------------------------------------------------------\u001b[0m",
      "\u001b[1;31mNameError\u001b[0m                                 Traceback (most recent call last)",
      "\u001b[1;32m<ipython-input-75-31077f34773d>\u001b[0m in \u001b[0;36m<module>\u001b[1;34m()\u001b[0m\n\u001b[0;32m      1\u001b[0m \u001b[1;31m# BUG!!\u001b[0m\u001b[1;33m\u001b[0m\u001b[1;33m\u001b[0m\u001b[0m\n\u001b[1;32m----> 2\u001b[1;33m \u001b[0mfind_originating_performance\u001b[0m\u001b[1;33m(\u001b[0m\u001b[1;34m'p0n0p1n7p2n50p3n307'\u001b[0m\u001b[1;33m,\u001b[0m \u001b[0mobjective\u001b[0m\u001b[1;33m=\u001b[0m\u001b[1;34m'total_costs'\u001b[0m\u001b[1;33m)\u001b[0m\u001b[1;33m\u001b[0m\u001b[0m\n\u001b[0m",
      "\u001b[1;31mNameError\u001b[0m: name 'find_originating_performance' is not defined"
     ]
    }
   ],
   "source": [
    "# BUG!!\n",
    "find_originating_performance('p0n0p1n7p2n50p3n307', objective='total_costs')"
   ]
  },
  {
   "cell_type": "code",
   "execution_count": 76,
   "metadata": {
    "code_folding": [
     0
    ]
   },
   "outputs": [
    {
     "data": {
      "text/plain": [
       "(11, 'p0n0p1n1p2n8')"
      ]
     },
     "execution_count": 76,
     "metadata": {},
     "output_type": "execute_result"
    }
   ],
   "source": [
    "def find_last_fl(label):\n",
    "    prev_label = find_previous_label(label)\n",
    "    prev_perf = pd.read_csv(\"{}/{}/nondom_BE_pols{}.csv\".format(case, output_folder, prev_label), index_col=0)\n",
    "    cur_pol = global_policy_tree[label]\n",
    "    cur_fls = policy_to_fls(cur_pol)\n",
    "    for fl in cur_fls:\n",
    "        if fl in prev_perf.index:\n",
    "            return fl, prev_label\n",
    "    raise ValueError(\"Something went wrong\")\n",
    "\n",
    "find_last_fl(\"p0n0p1n1p2n8p3n53\")"
   ]
  },
  {
   "cell_type": "code",
   "execution_count": 77,
   "metadata": {},
   "outputs": [],
   "source": [
    "def find_fl_placement_sequence(label):\n",
    "    \"\"\"verificated\"\"\"\n",
    "    max_ps = label.count(\"p\")-1\n",
    "    sequence = []\n",
    "    cur_label = label\n",
    "    while len(sequence) < max_ps:\n",
    "        last_fl, prev_label = find_last_fl(cur_label)\n",
    "        sequence.append(last_fl)\n",
    "        cur_label = prev_label\n",
    "    return list(reversed(sequence))\n",
    "    \n",
    "    "
   ]
  },
  {
   "cell_type": "code",
   "execution_count": 78,
   "metadata": {},
   "outputs": [
    {
     "data": {
      "text/plain": [
       "[19, 13, 16]"
      ]
     },
     "execution_count": 78,
     "metadata": {},
     "output_type": "execute_result"
    }
   ],
   "source": [
    "find_fl_placement_sequence(\"p0n0p1n7p2n50p3n307\")"
   ]
  },
  {
   "cell_type": "code",
   "execution_count": 79,
   "metadata": {},
   "outputs": [],
   "source": [
    "test = 'p0n0p1n7p2n50p3n307'"
   ]
  },
  {
   "cell_type": "code",
   "execution_count": 80,
   "metadata": {},
   "outputs": [],
   "source": [
    "def find_originating_performance(label, objective=None, period='p0'):\n",
    "    \"\"\"Verificated\"\"\"\n",
    "    orig_label = find_label_at_p(label, period)\n",
    "    orig_perf = pd.read_csv(\"{}/{}/nondom_BE_pols{}.csv\".format(case, output_folder, orig_label), index_col=0)\n",
    "    period_i = int(period[1])\n",
    "    \n",
    "    fl_sequence = find_fl_placement_sequence(label)\n",
    "    fl = fl_sequence[period_i]\n",
    "#     print(fl,orig_label)\n",
    "    if objective == None:\n",
    "        return orig_perf.loc[fl]\n",
    "    else:\n",
    "        return orig_perf.loc[fl][objective]\n",
    "    raise ValueError(\"Something went wrong\")"
   ]
  },
  {
   "cell_type": "code",
   "execution_count": 81,
   "metadata": {},
   "outputs": [
    {
     "name": "stdout",
     "output_type": "stream",
     "text": [
      "72927.06147041668\n",
      "68413.04592642689\n",
      "283650.2168326702\n",
      "121595.61289414324\n"
     ]
    }
   ],
   "source": [
    "test='p0n0p1n1p2n8p3n53p4n321'\n",
    "print(find_originating_performance(test, period='p0', objective='total_costs'))\n",
    "print(find_originating_performance(test, period='p1', objective='total_costs'))\n",
    "print(find_originating_performance(test, period='p2', objective='total_costs'))\n",
    "print(find_originating_performance(test, period='p3', objective='total_costs'))"
   ]
  },
  {
   "cell_type": "code",
   "execution_count": 82,
   "metadata": {},
   "outputs": [],
   "source": [
    "# global_policy_tree['p0n0p1n7p2n50p3n307']"
   ]
  },
  {
   "cell_type": "code",
   "execution_count": 83,
   "metadata": {},
   "outputs": [],
   "source": [
    "p4labels=global_label_tree['p4']"
   ]
  },
  {
   "cell_type": "code",
   "execution_count": 84,
   "metadata": {},
   "outputs": [
    {
     "data": {
      "text/plain": [
       "1376"
      ]
     },
     "execution_count": 84,
     "metadata": {},
     "output_type": "execute_result"
    }
   ],
   "source": [
    "len(p4labels)"
   ]
  },
  {
   "cell_type": "markdown",
   "metadata": {},
   "source": [
    "Note:\n",
    "- Take Both performance as uncertainty at p4\n",
    "- performance at p4 can be retrieved from mordm optimisation at p3\n",
    "- Why this and not over real values? Because we look at objective prioritisations (subjective), not at the real performance(objective)."
   ]
  },
  {
   "cell_type": "code",
   "execution_count": 152,
   "metadata": {
    "scrolled": true
   },
   "outputs": [
    {
     "data": {
      "text/plain": [
       "72927.06147041668"
      ]
     },
     "execution_count": 152,
     "metadata": {},
     "output_type": "execute_result"
    }
   ],
   "source": [
    "find_originating_performance('p0n0p1n1p2n8p3n53p4n321', objective=\"total_costs\", period='p0')"
   ]
  },
  {
   "cell_type": "code",
   "execution_count": 86,
   "metadata": {},
   "outputs": [],
   "source": [
    "uncertainty_bandwidths_p4 = get_uncertainty_bandwiths(\"p4\", global_label_tree, global_dfs_var_unc_data, function=\"mean\")"
   ]
  },
  {
   "cell_type": "code",
   "execution_count": 87,
   "metadata": {},
   "outputs": [
    {
     "data": {
      "text/plain": [
       "1376"
      ]
     },
     "execution_count": 87,
     "metadata": {},
     "output_type": "execute_result"
    }
   ],
   "source": [
    "len(uncertainty_bandwidths_p4)"
   ]
  },
  {
   "cell_type": "code",
   "execution_count": 88,
   "metadata": {},
   "outputs": [
    {
     "data": {
      "text/html": [
       "<div>\n",
       "<style scoped>\n",
       "    .dataframe tbody tr th:only-of-type {\n",
       "        vertical-align: middle;\n",
       "    }\n",
       "\n",
       "    .dataframe tbody tr th {\n",
       "        vertical-align: top;\n",
       "    }\n",
       "\n",
       "    .dataframe thead th {\n",
       "        text-align: right;\n",
       "    }\n",
       "</style>\n",
       "<table border=\"1\" class=\"dataframe\">\n",
       "  <thead>\n",
       "    <tr style=\"text-align: right;\">\n",
       "      <th></th>\n",
       "      <th>0</th>\n",
       "      <th>1</th>\n",
       "    </tr>\n",
       "  </thead>\n",
       "  <tbody>\n",
       "    <tr>\n",
       "      <th>0</th>\n",
       "      <td>0.107047</td>\n",
       "      <td>p0n0p1n1p2n8p3n53p4n321</td>\n",
       "    </tr>\n",
       "    <tr>\n",
       "      <th>1</th>\n",
       "      <td>0.107039</td>\n",
       "      <td>p0n0p1n1p2n8p3n53p4n322</td>\n",
       "    </tr>\n",
       "    <tr>\n",
       "      <th>2</th>\n",
       "      <td>0.117679</td>\n",
       "      <td>p0n0p1n1p2n8p3n53p4n323</td>\n",
       "    </tr>\n",
       "    <tr>\n",
       "      <th>3</th>\n",
       "      <td>0.104997</td>\n",
       "      <td>p0n0p1n1p2n8p3n54p4n324</td>\n",
       "    </tr>\n",
       "    <tr>\n",
       "      <th>4</th>\n",
       "      <td>0.105065</td>\n",
       "      <td>p0n0p1n1p2n8p3n54p4n325</td>\n",
       "    </tr>\n",
       "  </tbody>\n",
       "</table>\n",
       "</div>"
      ],
      "text/plain": [
       "          0                        1\n",
       "0  0.107047  p0n0p1n1p2n8p3n53p4n321\n",
       "1  0.107039  p0n0p1n1p2n8p3n53p4n322\n",
       "2  0.117679  p0n0p1n1p2n8p3n53p4n323\n",
       "3  0.104997  p0n0p1n1p2n8p3n54p4n324\n",
       "4  0.105065  p0n0p1n1p2n8p3n54p4n325"
      ]
     },
     "execution_count": 88,
     "metadata": {},
     "output_type": "execute_result"
    }
   ],
   "source": [
    "df1 = pd.DataFrame([uncertainty_bandwidths_p4,p4labels]).T\n",
    "df1.head()"
   ]
  },
  {
   "cell_type": "code",
   "execution_count": 89,
   "metadata": {},
   "outputs": [],
   "source": [
    "p3_performances = df1.apply(\n",
    "    lambda row: find_originating_performance(row[1], period='p3'), axis=1)"
   ]
  },
  {
   "cell_type": "code",
   "execution_count": 90,
   "metadata": {},
   "outputs": [
    {
     "data": {
      "text/html": [
       "<div>\n",
       "<style scoped>\n",
       "    .dataframe tbody tr th:only-of-type {\n",
       "        vertical-align: middle;\n",
       "    }\n",
       "\n",
       "    .dataframe tbody tr th {\n",
       "        vertical-align: top;\n",
       "    }\n",
       "\n",
       "    .dataframe thead th {\n",
       "        text-align: right;\n",
       "    }\n",
       "</style>\n",
       "<table border=\"1\" class=\"dataframe\">\n",
       "  <thead>\n",
       "    <tr style=\"text-align: right;\">\n",
       "      <th></th>\n",
       "      <th>uncertainty</th>\n",
       "      <th>total_costs</th>\n",
       "      <th>nr_uncovered_DPs</th>\n",
       "      <th>total_uncovered_demand</th>\n",
       "      <th>max_distr_time</th>\n",
       "    </tr>\n",
       "    <tr>\n",
       "      <th>label</th>\n",
       "      <th></th>\n",
       "      <th></th>\n",
       "      <th></th>\n",
       "      <th></th>\n",
       "      <th></th>\n",
       "    </tr>\n",
       "  </thead>\n",
       "  <tbody>\n",
       "    <tr>\n",
       "      <th>p0n0p1n1p2n8p3n53p4n321</th>\n",
       "      <td>0.107047</td>\n",
       "      <td>121595.612894</td>\n",
       "      <td>14.0</td>\n",
       "      <td>9582.396048</td>\n",
       "      <td>57150.213923</td>\n",
       "    </tr>\n",
       "    <tr>\n",
       "      <th>p0n0p1n1p2n8p3n53p4n322</th>\n",
       "      <td>0.107039</td>\n",
       "      <td>124693.285242</td>\n",
       "      <td>13.0</td>\n",
       "      <td>9570.863418</td>\n",
       "      <td>57150.213923</td>\n",
       "    </tr>\n",
       "    <tr>\n",
       "      <th>p0n0p1n1p2n8p3n53p4n323</th>\n",
       "      <td>0.117679</td>\n",
       "      <td>275848.344199</td>\n",
       "      <td>13.0</td>\n",
       "      <td>9380.077284</td>\n",
       "      <td>38755.495023</td>\n",
       "    </tr>\n",
       "    <tr>\n",
       "      <th>p0n0p1n1p2n8p3n54p4n324</th>\n",
       "      <td>0.104997</td>\n",
       "      <td>119563.645948</td>\n",
       "      <td>15.0</td>\n",
       "      <td>10312.280512</td>\n",
       "      <td>57150.213923</td>\n",
       "    </tr>\n",
       "    <tr>\n",
       "      <th>p0n0p1n1p2n8p3n54p4n325</th>\n",
       "      <td>0.105065</td>\n",
       "      <td>122664.847174</td>\n",
       "      <td>14.0</td>\n",
       "      <td>10300.608346</td>\n",
       "      <td>57150.213923</td>\n",
       "    </tr>\n",
       "  </tbody>\n",
       "</table>\n",
       "</div>"
      ],
      "text/plain": [
       "                         uncertainty    total_costs  nr_uncovered_DPs  \\\n",
       "label                                                                   \n",
       "p0n0p1n1p2n8p3n53p4n321     0.107047  121595.612894              14.0   \n",
       "p0n0p1n1p2n8p3n53p4n322     0.107039  124693.285242              13.0   \n",
       "p0n0p1n1p2n8p3n53p4n323     0.117679  275848.344199              13.0   \n",
       "p0n0p1n1p2n8p3n54p4n324     0.104997  119563.645948              15.0   \n",
       "p0n0p1n1p2n8p3n54p4n325     0.105065  122664.847174              14.0   \n",
       "\n",
       "                         total_uncovered_demand  max_distr_time  \n",
       "label                                                            \n",
       "p0n0p1n1p2n8p3n53p4n321             9582.396048    57150.213923  \n",
       "p0n0p1n1p2n8p3n53p4n322             9570.863418    57150.213923  \n",
       "p0n0p1n1p2n8p3n53p4n323             9380.077284    38755.495023  \n",
       "p0n0p1n1p2n8p3n54p4n324            10312.280512    57150.213923  \n",
       "p0n0p1n1p2n8p3n54p4n325            10300.608346    57150.213923  "
      ]
     },
     "execution_count": 90,
     "metadata": {},
     "output_type": "execute_result"
    }
   ],
   "source": [
    "p3_performance_unc_range = pd.concat([df1,p3_performances], axis=1)\n",
    "\n",
    "p3_performance_unc_range.columns = [\n",
    "    'uncertainty', 'label', 'total_costs', 'nr_uncovered_DPs', 'total_uncovered_demand',\n",
    "    'max_distr_time'\n",
    "]\n",
    "\n",
    "p3_performance_unc_range = p3_performance_unc_range.set_index('label')\n",
    "p3_performance_unc_range = p3_performance_unc_range.astype(float)\n",
    "p3_performance_unc_range.head()"
   ]
  },
  {
   "cell_type": "code",
   "execution_count": 91,
   "metadata": {},
   "outputs": [
    {
     "data": {
      "image/png": "[encoded data removed]",
      "text/plain": [
       "<Figure size 432x288 with 1 Axes>"
      ]
     },
     "metadata": {},
     "output_type": "display_data"
    },
    {
     "data": {
      "image/png": "[encoded data removed]",
      "text/plain": [
       "<Figure size 432x288 with 1 Axes>"
      ]
     },
     "metadata": {},
     "output_type": "display_data"
    },
    {
     "data": {
      "image/png": "[encoded data removed]",
      "text/plain": [
       "<Figure size 432x288 with 1 Axes>"
      ]
     },
     "metadata": {},
     "output_type": "display_data"
    },
    {
     "data": {
      "image/png": "[encoded data removed]",
      "text/plain": [
       "<Figure size 432x288 with 1 Axes>"
      ]
     },
     "metadata": {},
     "output_type": "display_data"
    }
   ],
   "source": [
    "objectives = [\n",
    "    'total_costs', 'nr_uncovered_DPs', 'total_uncovered_demand',\n",
    "    'max_distr_time'\n",
    "]\n",
    "objectives_nice = [\n",
    "    'Total Costs', '# Uncovered Demand Points', 'Total Uncovered Demand',\n",
    "    'Max Travel Time'\n",
    "]\n",
    "for obj, obj_nice in zip(objectives, objectives_nice):\n",
    "    ax = sns.regplot(\n",
    "        y=p3_performance_unc_range['uncertainty'],\n",
    "        x=p3_performance_unc_range[obj],\n",
    "        fit_reg=True)\n",
    "    ax.set(title = \"Uncertainty for {}\".format(obj_nice),\n",
    "           xlabel = obj_nice,\n",
    "           ylabel = \"Uncertainty\"\n",
    "          )\n",
    "#     ax.suptitle()\n",
    "#     ax.set_axis_labels(, \"Uncertainty\")\n",
    "    #     plt.show()\n",
    "    plt.savefig(\n",
    "        \"{}/{}/Analysis/Uncertainty for {}\".format(case, output_folder,\n",
    "                                                   obj_nice),\n",
    "        dpi=500,\n",
    "        bbox_inches='tight')\n",
    "    plt.show()"
   ]
  },
  {
   "cell_type": "code",
   "execution_count": 92,
   "metadata": {},
   "outputs": [
    {
     "data": {
      "image/png": "[encoded data removed]",
      "text/plain": [
       "<Figure size 432x288 with 1 Axes>"
      ]
     },
     "metadata": {},
     "output_type": "display_data"
    },
    {
     "data": {
      "image/png": "[encoded data removed]",
      "text/plain": [
       "<Figure size 432x288 with 1 Axes>"
      ]
     },
     "metadata": {},
     "output_type": "display_data"
    },
    {
     "data": {
      "image/png": "[encoded data removed]",
      "text/plain": [
       "<Figure size 432x288 with 1 Axes>"
      ]
     },
     "metadata": {},
     "output_type": "display_data"
    },
    {
     "data": {
      "image/png": "[encoded data removed]",
      "text/plain": [
       "<Figure size 432x288 with 1 Axes>"
      ]
     },
     "metadata": {},
     "output_type": "display_data"
    }
   ],
   "source": [
    "for obj, obj_nice in zip(objectives, objectives_nice):\n",
    "    ax = sns.residplot(\n",
    "        y=p3_performance_unc_range['uncertainty'],\n",
    "        x=p3_performance_unc_range[obj], lowess=True)\n",
    "#     plt.show()\n",
    "    ax.set(title = \"Residual Plot {}\".format(obj_nice),\n",
    "           xlabel = obj_nice,\n",
    "           ylabel = \"Uncertainty\"\n",
    "          )\n",
    "#     ax.suptitle()\n",
    "#     ax.set_axis_labels(, \"Uncertainty\")\n",
    "    #     plt.show()\n",
    "    plt.savefig(\n",
    "        \"{}/{}/Analysis/Residual Plot {}\".format(case, output_folder,\n",
    "                                                   obj_nice),\n",
    "        dpi=500,\n",
    "        bbox_inches='tight')\n",
    "    plt.show()"
   ]
  },
  {
   "cell_type": "markdown",
   "metadata": {},
   "source": [
    "## Regression analysis"
   ]
  },
  {
   "cell_type": "code",
   "execution_count": 93,
   "metadata": {},
   "outputs": [
    {
     "data": {
      "text/html": [
       "<div>\n",
       "<style scoped>\n",
       "    .dataframe tbody tr th:only-of-type {\n",
       "        vertical-align: middle;\n",
       "    }\n",
       "\n",
       "    .dataframe tbody tr th {\n",
       "        vertical-align: top;\n",
       "    }\n",
       "\n",
       "    .dataframe thead th {\n",
       "        text-align: right;\n",
       "    }\n",
       "</style>\n",
       "<table border=\"1\" class=\"dataframe\">\n",
       "  <thead>\n",
       "    <tr style=\"text-align: right;\">\n",
       "      <th></th>\n",
       "      <th>uncertainty</th>\n",
       "      <th>total_costs</th>\n",
       "      <th>nr_uncovered_DPs</th>\n",
       "      <th>total_uncovered_demand</th>\n",
       "      <th>max_distr_time</th>\n",
       "    </tr>\n",
       "    <tr>\n",
       "      <th>label</th>\n",
       "      <th></th>\n",
       "      <th></th>\n",
       "      <th></th>\n",
       "      <th></th>\n",
       "      <th></th>\n",
       "    </tr>\n",
       "  </thead>\n",
       "  <tbody>\n",
       "    <tr>\n",
       "      <th>p0n0p1n1p2n8p3n53p4n321</th>\n",
       "      <td>0.107047</td>\n",
       "      <td>121595.612894</td>\n",
       "      <td>14.0</td>\n",
       "      <td>9582.396048</td>\n",
       "      <td>57150.213923</td>\n",
       "    </tr>\n",
       "  </tbody>\n",
       "</table>\n",
       "</div>"
      ],
      "text/plain": [
       "                         uncertainty    total_costs  nr_uncovered_DPs  \\\n",
       "label                                                                   \n",
       "p0n0p1n1p2n8p3n53p4n321     0.107047  121595.612894              14.0   \n",
       "\n",
       "                         total_uncovered_demand  max_distr_time  \n",
       "label                                                            \n",
       "p0n0p1n1p2n8p3n53p4n321             9582.396048    57150.213923  "
      ]
     },
     "execution_count": 93,
     "metadata": {},
     "output_type": "execute_result"
    }
   ],
   "source": [
    "p3_performance_unc_range.head(1)"
   ]
  },
  {
   "cell_type": "code",
   "execution_count": 94,
   "metadata": {},
   "outputs": [
    {
     "data": {
      "text/html": [
       "<div>\n",
       "<style scoped>\n",
       "    .dataframe tbody tr th:only-of-type {\n",
       "        vertical-align: middle;\n",
       "    }\n",
       "\n",
       "    .dataframe tbody tr th {\n",
       "        vertical-align: top;\n",
       "    }\n",
       "\n",
       "    .dataframe thead th {\n",
       "        text-align: right;\n",
       "    }\n",
       "</style>\n",
       "<table border=\"1\" class=\"dataframe\">\n",
       "  <thead>\n",
       "    <tr style=\"text-align: right;\">\n",
       "      <th></th>\n",
       "      <th>uncertainty</th>\n",
       "      <th>total_costs</th>\n",
       "      <th>nr_uncovered_DPs</th>\n",
       "      <th>total_uncovered_demand</th>\n",
       "      <th>max_distr_time</th>\n",
       "    </tr>\n",
       "    <tr>\n",
       "      <th>label</th>\n",
       "      <th></th>\n",
       "      <th></th>\n",
       "      <th></th>\n",
       "      <th></th>\n",
       "      <th></th>\n",
       "    </tr>\n",
       "  </thead>\n",
       "  <tbody>\n",
       "    <tr>\n",
       "      <th>p0n0p1n1p2n8p3n53p4n321</th>\n",
       "      <td>0.107047</td>\n",
       "      <td>121595.612894</td>\n",
       "      <td>14.0</td>\n",
       "      <td>9582.396048</td>\n",
       "      <td>57150.213923</td>\n",
       "    </tr>\n",
       "    <tr>\n",
       "      <th>p0n0p1n1p2n8p3n53p4n322</th>\n",
       "      <td>0.107039</td>\n",
       "      <td>124693.285242</td>\n",
       "      <td>13.0</td>\n",
       "      <td>9570.863418</td>\n",
       "      <td>57150.213923</td>\n",
       "    </tr>\n",
       "    <tr>\n",
       "      <th>p0n0p1n1p2n8p3n53p4n323</th>\n",
       "      <td>0.117679</td>\n",
       "      <td>275848.344199</td>\n",
       "      <td>13.0</td>\n",
       "      <td>9380.077284</td>\n",
       "      <td>38755.495023</td>\n",
       "    </tr>\n",
       "    <tr>\n",
       "      <th>p0n0p1n1p2n8p3n54p4n324</th>\n",
       "      <td>0.104997</td>\n",
       "      <td>119563.645948</td>\n",
       "      <td>15.0</td>\n",
       "      <td>10312.280512</td>\n",
       "      <td>57150.213923</td>\n",
       "    </tr>\n",
       "    <tr>\n",
       "      <th>p0n0p1n1p2n8p3n54p4n325</th>\n",
       "      <td>0.105065</td>\n",
       "      <td>122664.847174</td>\n",
       "      <td>14.0</td>\n",
       "      <td>10300.608346</td>\n",
       "      <td>57150.213923</td>\n",
       "    </tr>\n",
       "    <tr>\n",
       "      <th>p0n0p1n1p2n8p3n54p4n326</th>\n",
       "      <td>0.115380</td>\n",
       "      <td>264675.036246</td>\n",
       "      <td>14.0</td>\n",
       "      <td>10109.961748</td>\n",
       "      <td>34719.186633</td>\n",
       "    </tr>\n",
       "    <tr>\n",
       "      <th>p0n0p1n1p2n8p3n55p4n327</th>\n",
       "      <td>0.119861</td>\n",
       "      <td>96799.272413</td>\n",
       "      <td>18.0</td>\n",
       "      <td>12244.234764</td>\n",
       "      <td>57150.213923</td>\n",
       "    </tr>\n",
       "    <tr>\n",
       "      <th>p0n0p1n1p2n8p3n55p4n328</th>\n",
       "      <td>0.117998</td>\n",
       "      <td>124436.873087</td>\n",
       "      <td>14.0</td>\n",
       "      <td>9528.747244</td>\n",
       "      <td>57150.213923</td>\n",
       "    </tr>\n",
       "    <tr>\n",
       "      <th>p0n0p1n1p2n8p3n55p4n329</th>\n",
       "      <td>0.109554</td>\n",
       "      <td>119814.383101</td>\n",
       "      <td>15.0</td>\n",
       "      <td>10204.077595</td>\n",
       "      <td>57150.213923</td>\n",
       "    </tr>\n",
       "    <tr>\n",
       "      <th>p0n0p1n1p2n8p3n55p4n330</th>\n",
       "      <td>0.119683</td>\n",
       "      <td>120523.038852</td>\n",
       "      <td>16.0</td>\n",
       "      <td>10151.546711</td>\n",
       "      <td>57150.213923</td>\n",
       "    </tr>\n",
       "    <tr>\n",
       "      <th>p0n0p1n1p2n8p3n55p4n331</th>\n",
       "      <td>0.120285</td>\n",
       "      <td>97726.579191</td>\n",
       "      <td>17.0</td>\n",
       "      <td>12232.200555</td>\n",
       "      <td>57150.213923</td>\n",
       "    </tr>\n",
       "    <tr>\n",
       "      <th>p0n0p1n1p2n8p3n55p4n332</th>\n",
       "      <td>0.121503</td>\n",
       "      <td>102659.827551</td>\n",
       "      <td>17.0</td>\n",
       "      <td>12041.916000</td>\n",
       "      <td>39783.992670</td>\n",
       "    </tr>\n",
       "    <tr>\n",
       "      <th>p0n0p1n1p2n8p3n56p4n333</th>\n",
       "      <td>0.111666</td>\n",
       "      <td>127942.708585</td>\n",
       "      <td>13.0</td>\n",
       "      <td>9509.458414</td>\n",
       "      <td>57150.213923</td>\n",
       "    </tr>\n",
       "    <tr>\n",
       "      <th>p0n0p1n1p2n8p3n56p4n334</th>\n",
       "      <td>0.121366</td>\n",
       "      <td>97749.430471</td>\n",
       "      <td>17.0</td>\n",
       "      <td>12246.634333</td>\n",
       "      <td>57150.213923</td>\n",
       "    </tr>\n",
       "    <tr>\n",
       "      <th>p0n0p1n1p2n8p3n56p4n335</th>\n",
       "      <td>0.121564</td>\n",
       "      <td>124141.266158</td>\n",
       "      <td>15.0</td>\n",
       "      <td>10137.712260</td>\n",
       "      <td>57150.213923</td>\n",
       "    </tr>\n",
       "    <tr>\n",
       "      <th>p0n0p1n1p2n8p3n56p4n336</th>\n",
       "      <td>0.124305</td>\n",
       "      <td>106310.405583</td>\n",
       "      <td>16.0</td>\n",
       "      <td>12044.315569</td>\n",
       "      <td>39783.992670</td>\n",
       "    </tr>\n",
       "    <tr>\n",
       "      <th>p0n0p1n1p2n8p3n57p4n337</th>\n",
       "      <td>0.152595</td>\n",
       "      <td>283140.031288</td>\n",
       "      <td>13.0</td>\n",
       "      <td>9280.769655</td>\n",
       "      <td>38715.555813</td>\n",
       "    </tr>\n",
       "    <tr>\n",
       "      <th>p0n0p1n1p2n8p3n57p4n338</th>\n",
       "      <td>0.152088</td>\n",
       "      <td>263831.395636</td>\n",
       "      <td>14.0</td>\n",
       "      <td>10164.428146</td>\n",
       "      <td>34530.605389</td>\n",
       "    </tr>\n",
       "    <tr>\n",
       "      <th>p0n0p1n1p2n8p3n57p4n339</th>\n",
       "      <td>0.148392</td>\n",
       "      <td>101696.022952</td>\n",
       "      <td>17.0</td>\n",
       "      <td>12228.621476</td>\n",
       "      <td>39783.992670</td>\n",
       "    </tr>\n",
       "    <tr>\n",
       "      <th>p0n0p1n1p2n8p3n57p4n340</th>\n",
       "      <td>0.150263</td>\n",
       "      <td>105257.607229</td>\n",
       "      <td>16.0</td>\n",
       "      <td>12217.121341</td>\n",
       "      <td>39783.992670</td>\n",
       "    </tr>\n",
       "    <tr>\n",
       "      <th>p0n0p1n1p2n9p3n58p4n341</th>\n",
       "      <td>0.083692</td>\n",
       "      <td>261783.181212</td>\n",
       "      <td>9.0</td>\n",
       "      <td>3193.024472</td>\n",
       "      <td>57150.213923</td>\n",
       "    </tr>\n",
       "    <tr>\n",
       "      <th>p0n0p1n1p2n9p3n58p4n342</th>\n",
       "      <td>0.083589</td>\n",
       "      <td>264915.943808</td>\n",
       "      <td>8.0</td>\n",
       "      <td>3181.459966</td>\n",
       "      <td>57150.213923</td>\n",
       "    </tr>\n",
       "    <tr>\n",
       "      <th>p0n0p1n1p2n9p3n58p4n343</th>\n",
       "      <td>0.083840</td>\n",
       "      <td>416074.863402</td>\n",
       "      <td>8.0</td>\n",
       "      <td>2990.705708</td>\n",
       "      <td>38794.671443</td>\n",
       "    </tr>\n",
       "    <tr>\n",
       "      <th>p0n0p1n1p2n9p3n59p4n344</th>\n",
       "      <td>0.092434</td>\n",
       "      <td>231510.313701</td>\n",
       "      <td>6.0</td>\n",
       "      <td>679.753733</td>\n",
       "      <td>57150.213923</td>\n",
       "    </tr>\n",
       "    <tr>\n",
       "      <th>p0n0p1n1p2n9p3n59p4n345</th>\n",
       "      <td>0.121426</td>\n",
       "      <td>105897.891311</td>\n",
       "      <td>13.0</td>\n",
       "      <td>8098.327843</td>\n",
       "      <td>57150.213923</td>\n",
       "    </tr>\n",
       "    <tr>\n",
       "      <th>p0n0p1n1p2n9p3n59p4n346</th>\n",
       "      <td>0.129286</td>\n",
       "      <td>95002.695191</td>\n",
       "      <td>15.0</td>\n",
       "      <td>9591.496125</td>\n",
       "      <td>57150.213923</td>\n",
       "    </tr>\n",
       "    <tr>\n",
       "      <th>p0n0p1n1p2n9p3n59p4n347</th>\n",
       "      <td>0.129515</td>\n",
       "      <td>95331.385232</td>\n",
       "      <td>14.0</td>\n",
       "      <td>9579.427012</td>\n",
       "      <td>57150.213923</td>\n",
       "    </tr>\n",
       "    <tr>\n",
       "      <th>p0n0p1n1p2n9p3n59p4n348</th>\n",
       "      <td>0.119118</td>\n",
       "      <td>100525.611536</td>\n",
       "      <td>14.0</td>\n",
       "      <td>9389.177361</td>\n",
       "      <td>47050.600981</td>\n",
       "    </tr>\n",
       "    <tr>\n",
       "      <th>p0n0p1n1p2n9p3n60p4n349</th>\n",
       "      <td>0.080185</td>\n",
       "      <td>257292.580624</td>\n",
       "      <td>6.0</td>\n",
       "      <td>680.014760</td>\n",
       "      <td>57150.213923</td>\n",
       "    </tr>\n",
       "    <tr>\n",
       "      <th>p0n0p1n1p2n9p3n60p4n350</th>\n",
       "      <td>0.080078</td>\n",
       "      <td>260427.521831</td>\n",
       "      <td>5.0</td>\n",
       "      <td>668.208355</td>\n",
       "      <td>57150.213923</td>\n",
       "    </tr>\n",
       "    <tr>\n",
       "      <th>...</th>\n",
       "      <td>...</td>\n",
       "      <td>...</td>\n",
       "      <td>...</td>\n",
       "      <td>...</td>\n",
       "      <td>...</td>\n",
       "    </tr>\n",
       "    <tr>\n",
       "      <th>p0n0p1n7p2n51p3n315p4n1667</th>\n",
       "      <td>0.152992</td>\n",
       "      <td>55080.417211</td>\n",
       "      <td>19.0</td>\n",
       "      <td>12177.959515</td>\n",
       "      <td>47050.600981</td>\n",
       "    </tr>\n",
       "    <tr>\n",
       "      <th>p0n0p1n7p2n51p3n315p4n1668</th>\n",
       "      <td>0.119172</td>\n",
       "      <td>163511.370502</td>\n",
       "      <td>14.0</td>\n",
       "      <td>5819.085581</td>\n",
       "      <td>46290.567842</td>\n",
       "    </tr>\n",
       "    <tr>\n",
       "      <th>p0n0p1n7p2n51p3n315p4n1669</th>\n",
       "      <td>0.148748</td>\n",
       "      <td>52526.246468</td>\n",
       "      <td>20.0</td>\n",
       "      <td>12596.662061</td>\n",
       "      <td>46290.567842</td>\n",
       "    </tr>\n",
       "    <tr>\n",
       "      <th>p0n0p1n7p2n51p3n315p4n1670</th>\n",
       "      <td>0.160312</td>\n",
       "      <td>50863.775582</td>\n",
       "      <td>21.0</td>\n",
       "      <td>12747.604974</td>\n",
       "      <td>53089.383818</td>\n",
       "    </tr>\n",
       "    <tr>\n",
       "      <th>p0n0p1n7p2n52p3n316p4n1671</th>\n",
       "      <td>0.147827</td>\n",
       "      <td>53038.677829</td>\n",
       "      <td>19.0</td>\n",
       "      <td>12218.874586</td>\n",
       "      <td>47050.600981</td>\n",
       "    </tr>\n",
       "    <tr>\n",
       "      <th>p0n0p1n7p2n52p3n316p4n1672</th>\n",
       "      <td>0.127689</td>\n",
       "      <td>113211.811579</td>\n",
       "      <td>13.0</td>\n",
       "      <td>9382.093774</td>\n",
       "      <td>47050.600981</td>\n",
       "    </tr>\n",
       "    <tr>\n",
       "      <th>p0n0p1n7p2n52p3n316p4n1673</th>\n",
       "      <td>0.108802</td>\n",
       "      <td>190693.366212</td>\n",
       "      <td>10.0</td>\n",
       "      <td>3371.757045</td>\n",
       "      <td>46290.567842</td>\n",
       "    </tr>\n",
       "    <tr>\n",
       "      <th>p0n0p1n7p2n52p3n316p4n1674</th>\n",
       "      <td>0.138374</td>\n",
       "      <td>66556.359985</td>\n",
       "      <td>17.0</td>\n",
       "      <td>10742.893852</td>\n",
       "      <td>46290.567842</td>\n",
       "    </tr>\n",
       "    <tr>\n",
       "      <th>p0n0p1n7p2n52p3n317p4n1675</th>\n",
       "      <td>0.089717</td>\n",
       "      <td>251405.926015</td>\n",
       "      <td>8.0</td>\n",
       "      <td>3127.869102</td>\n",
       "      <td>29202.535811</td>\n",
       "    </tr>\n",
       "    <tr>\n",
       "      <th>p0n0p1n7p2n52p3n317p4n1676</th>\n",
       "      <td>0.098859</td>\n",
       "      <td>219357.192878</td>\n",
       "      <td>10.0</td>\n",
       "      <td>3389.844672</td>\n",
       "      <td>46290.567842</td>\n",
       "    </tr>\n",
       "    <tr>\n",
       "      <th>p0n0p1n7p2n52p3n317p4n1677</th>\n",
       "      <td>0.101768</td>\n",
       "      <td>204782.541748</td>\n",
       "      <td>12.0</td>\n",
       "      <td>5075.589228</td>\n",
       "      <td>46290.567842</td>\n",
       "    </tr>\n",
       "    <tr>\n",
       "      <th>p0n0p1n7p2n52p3n317p4n1678</th>\n",
       "      <td>0.105656</td>\n",
       "      <td>190964.062648</td>\n",
       "      <td>14.0</td>\n",
       "      <td>5967.321987</td>\n",
       "      <td>46290.567842</td>\n",
       "    </tr>\n",
       "    <tr>\n",
       "      <th>p0n0p1n7p2n52p3n318p4n1679</th>\n",
       "      <td>0.140024</td>\n",
       "      <td>51968.000370</td>\n",
       "      <td>20.0</td>\n",
       "      <td>12804.763409</td>\n",
       "      <td>46290.567842</td>\n",
       "    </tr>\n",
       "    <tr>\n",
       "      <th>p0n0p1n7p2n52p3n318p4n1680</th>\n",
       "      <td>0.119926</td>\n",
       "      <td>112202.271774</td>\n",
       "      <td>14.0</td>\n",
       "      <td>9965.310525</td>\n",
       "      <td>40258.173730</td>\n",
       "    </tr>\n",
       "    <tr>\n",
       "      <th>p0n0p1n7p2n52p3n318p4n1681</th>\n",
       "      <td>0.134773</td>\n",
       "      <td>67723.433362</td>\n",
       "      <td>17.0</td>\n",
       "      <td>10938.906736</td>\n",
       "      <td>46290.567842</td>\n",
       "    </tr>\n",
       "    <tr>\n",
       "      <th>p0n0p1n7p2n52p3n318p4n1682</th>\n",
       "      <td>0.109297</td>\n",
       "      <td>182373.913451</td>\n",
       "      <td>12.0</td>\n",
       "      <td>4952.686122</td>\n",
       "      <td>46290.567842</td>\n",
       "    </tr>\n",
       "    <tr>\n",
       "      <th>p0n0p1n7p2n52p3n318p4n1683</th>\n",
       "      <td>0.139513</td>\n",
       "      <td>67275.125024</td>\n",
       "      <td>19.0</td>\n",
       "      <td>11486.943759</td>\n",
       "      <td>46290.567842</td>\n",
       "    </tr>\n",
       "    <tr>\n",
       "      <th>p0n0p1n7p2n52p3n319p4n1684</th>\n",
       "      <td>0.161564</td>\n",
       "      <td>30006.940159</td>\n",
       "      <td>23.0</td>\n",
       "      <td>14614.267589</td>\n",
       "      <td>53089.383818</td>\n",
       "    </tr>\n",
       "    <tr>\n",
       "      <th>p0n0p1n7p2n52p3n319p4n1685</th>\n",
       "      <td>0.142611</td>\n",
       "      <td>87751.881440</td>\n",
       "      <td>17.0</td>\n",
       "      <td>11774.814704</td>\n",
       "      <td>53089.383818</td>\n",
       "    </tr>\n",
       "    <tr>\n",
       "      <th>p0n0p1n7p2n52p3n319p4n1686</th>\n",
       "      <td>0.157529</td>\n",
       "      <td>54323.906951</td>\n",
       "      <td>19.0</td>\n",
       "      <td>12171.919980</td>\n",
       "      <td>53089.383818</td>\n",
       "    </tr>\n",
       "    <tr>\n",
       "      <th>p0n0p1n7p2n52p3n319p4n1687</th>\n",
       "      <td>0.153444</td>\n",
       "      <td>55207.130116</td>\n",
       "      <td>19.0</td>\n",
       "      <td>12171.919980</td>\n",
       "      <td>47050.600981</td>\n",
       "    </tr>\n",
       "    <tr>\n",
       "      <th>p0n0p1n7p2n52p3n319p4n1688</th>\n",
       "      <td>0.119714</td>\n",
       "      <td>163425.072936</td>\n",
       "      <td>14.0</td>\n",
       "      <td>5831.625354</td>\n",
       "      <td>46290.567842</td>\n",
       "    </tr>\n",
       "    <tr>\n",
       "      <th>p0n0p1n7p2n52p3n319p4n1689</th>\n",
       "      <td>0.149216</td>\n",
       "      <td>52540.925423</td>\n",
       "      <td>20.0</td>\n",
       "      <td>12602.762353</td>\n",
       "      <td>46290.567842</td>\n",
       "    </tr>\n",
       "    <tr>\n",
       "      <th>p0n0p1n7p2n52p3n319p4n1690</th>\n",
       "      <td>0.160887</td>\n",
       "      <td>50972.447822</td>\n",
       "      <td>21.0</td>\n",
       "      <td>12745.589921</td>\n",
       "      <td>53089.383818</td>\n",
       "    </tr>\n",
       "    <tr>\n",
       "      <th>p0n0p1n7p2n52p3n320p4n1691</th>\n",
       "      <td>0.161598</td>\n",
       "      <td>50087.800536</td>\n",
       "      <td>21.0</td>\n",
       "      <td>12699.648217</td>\n",
       "      <td>53731.111014</td>\n",
       "    </tr>\n",
       "    <tr>\n",
       "      <th>p0n0p1n7p2n52p3n320p4n1692</th>\n",
       "      <td>0.142732</td>\n",
       "      <td>110428.800453</td>\n",
       "      <td>15.0</td>\n",
       "      <td>9860.195333</td>\n",
       "      <td>54333.858723</td>\n",
       "    </tr>\n",
       "    <tr>\n",
       "      <th>p0n0p1n7p2n52p3n320p4n1693</th>\n",
       "      <td>0.159956</td>\n",
       "      <td>59559.934341</td>\n",
       "      <td>19.0</td>\n",
       "      <td>12148.936114</td>\n",
       "      <td>54333.858723</td>\n",
       "    </tr>\n",
       "    <tr>\n",
       "      <th>p0n0p1n7p2n52p3n320p4n1694</th>\n",
       "      <td>0.118221</td>\n",
       "      <td>185748.392373</td>\n",
       "      <td>12.0</td>\n",
       "      <td>3938.638980</td>\n",
       "      <td>46290.567842</td>\n",
       "    </tr>\n",
       "    <tr>\n",
       "      <th>p0n0p1n7p2n52p3n320p4n1695</th>\n",
       "      <td>0.149189</td>\n",
       "      <td>66430.600430</td>\n",
       "      <td>19.0</td>\n",
       "      <td>11252.257411</td>\n",
       "      <td>46290.567842</td>\n",
       "    </tr>\n",
       "    <tr>\n",
       "      <th>p0n0p1n7p2n52p3n320p4n1696</th>\n",
       "      <td>0.161268</td>\n",
       "      <td>50204.204073</td>\n",
       "      <td>21.0</td>\n",
       "      <td>12699.648217</td>\n",
       "      <td>53089.383818</td>\n",
       "    </tr>\n",
       "  </tbody>\n",
       "</table>\n",
       "<p>1376 rows × 5 columns</p>\n",
       "</div>"
      ],
      "text/plain": [
       "                            uncertainty    total_costs  nr_uncovered_DPs  \\\n",
       "label                                                                      \n",
       "p0n0p1n1p2n8p3n53p4n321        0.107047  121595.612894              14.0   \n",
       "p0n0p1n1p2n8p3n53p4n322        0.107039  124693.285242              13.0   \n",
       "p0n0p1n1p2n8p3n53p4n323        0.117679  275848.344199              13.0   \n",
       "p0n0p1n1p2n8p3n54p4n324        0.104997  119563.645948              15.0   \n",
       "p0n0p1n1p2n8p3n54p4n325        0.105065  122664.847174              14.0   \n",
       "p0n0p1n1p2n8p3n54p4n326        0.115380  264675.036246              14.0   \n",
       "p0n0p1n1p2n8p3n55p4n327        0.119861   96799.272413              18.0   \n",
       "p0n0p1n1p2n8p3n55p4n328        0.117998  124436.873087              14.0   \n",
       "p0n0p1n1p2n8p3n55p4n329        0.109554  119814.383101              15.0   \n",
       "p0n0p1n1p2n8p3n55p4n330        0.119683  120523.038852              16.0   \n",
       "p0n0p1n1p2n8p3n55p4n331        0.120285   97726.579191              17.0   \n",
       "p0n0p1n1p2n8p3n55p4n332        0.121503  102659.827551              17.0   \n",
       "p0n0p1n1p2n8p3n56p4n333        0.111666  127942.708585              13.0   \n",
       "p0n0p1n1p2n8p3n56p4n334        0.121366   97749.430471              17.0   \n",
       "p0n0p1n1p2n8p3n56p4n335        0.121564  124141.266158              15.0   \n",
       "p0n0p1n1p2n8p3n56p4n336        0.124305  106310.405583              16.0   \n",
       "p0n0p1n1p2n8p3n57p4n337        0.152595  283140.031288              13.0   \n",
       "p0n0p1n1p2n8p3n57p4n338        0.152088  263831.395636              14.0   \n",
       "p0n0p1n1p2n8p3n57p4n339        0.148392  101696.022952              17.0   \n",
       "p0n0p1n1p2n8p3n57p4n340        0.150263  105257.607229              16.0   \n",
       "p0n0p1n1p2n9p3n58p4n341        0.083692  261783.181212               9.0   \n",
       "p0n0p1n1p2n9p3n58p4n342        0.083589  264915.943808               8.0   \n",
       "p0n0p1n1p2n9p3n58p4n343        0.083840  416074.863402               8.0   \n",
       "p0n0p1n1p2n9p3n59p4n344        0.092434  231510.313701               6.0   \n",
       "p0n0p1n1p2n9p3n59p4n345        0.121426  105897.891311              13.0   \n",
       "p0n0p1n1p2n9p3n59p4n346        0.129286   95002.695191              15.0   \n",
       "p0n0p1n1p2n9p3n59p4n347        0.129515   95331.385232              14.0   \n",
       "p0n0p1n1p2n9p3n59p4n348        0.119118  100525.611536              14.0   \n",
       "p0n0p1n1p2n9p3n60p4n349        0.080185  257292.580624               6.0   \n",
       "p0n0p1n1p2n9p3n60p4n350        0.080078  260427.521831               5.0   \n",
       "...                                 ...            ...               ...   \n",
       "p0n0p1n7p2n51p3n315p4n1667     0.152992   55080.417211              19.0   \n",
       "p0n0p1n7p2n51p3n315p4n1668     0.119172  163511.370502              14.0   \n",
       "p0n0p1n7p2n51p3n315p4n1669     0.148748   52526.246468              20.0   \n",
       "p0n0p1n7p2n51p3n315p4n1670     0.160312   50863.775582              21.0   \n",
       "p0n0p1n7p2n52p3n316p4n1671     0.147827   53038.677829              19.0   \n",
       "p0n0p1n7p2n52p3n316p4n1672     0.127689  113211.811579              13.0   \n",
       "p0n0p1n7p2n52p3n316p4n1673     0.108802  190693.366212              10.0   \n",
       "p0n0p1n7p2n52p3n316p4n1674     0.138374   66556.359985              17.0   \n",
       "p0n0p1n7p2n52p3n317p4n1675     0.089717  251405.926015               8.0   \n",
       "p0n0p1n7p2n52p3n317p4n1676     0.098859  219357.192878              10.0   \n",
       "p0n0p1n7p2n52p3n317p4n1677     0.101768  204782.541748              12.0   \n",
       "p0n0p1n7p2n52p3n317p4n1678     0.105656  190964.062648              14.0   \n",
       "p0n0p1n7p2n52p3n318p4n1679     0.140024   51968.000370              20.0   \n",
       "p0n0p1n7p2n52p3n318p4n1680     0.119926  112202.271774              14.0   \n",
       "p0n0p1n7p2n52p3n318p4n1681     0.134773   67723.433362              17.0   \n",
       "p0n0p1n7p2n52p3n318p4n1682     0.109297  182373.913451              12.0   \n",
       "p0n0p1n7p2n52p3n318p4n1683     0.139513   67275.125024              19.0   \n",
       "p0n0p1n7p2n52p3n319p4n1684     0.161564   30006.940159              23.0   \n",
       "p0n0p1n7p2n52p3n319p4n1685     0.142611   87751.881440              17.0   \n",
       "p0n0p1n7p2n52p3n319p4n1686     0.157529   54323.906951              19.0   \n",
       "p0n0p1n7p2n52p3n319p4n1687     0.153444   55207.130116              19.0   \n",
       "p0n0p1n7p2n52p3n319p4n1688     0.119714  163425.072936              14.0   \n",
       "p0n0p1n7p2n52p3n319p4n1689     0.149216   52540.925423              20.0   \n",
       "p0n0p1n7p2n52p3n319p4n1690     0.160887   50972.447822              21.0   \n",
       "p0n0p1n7p2n52p3n320p4n1691     0.161598   50087.800536              21.0   \n",
       "p0n0p1n7p2n52p3n320p4n1692     0.142732  110428.800453              15.0   \n",
       "p0n0p1n7p2n52p3n320p4n1693     0.159956   59559.934341              19.0   \n",
       "p0n0p1n7p2n52p3n320p4n1694     0.118221  185748.392373              12.0   \n",
       "p0n0p1n7p2n52p3n320p4n1695     0.149189   66430.600430              19.0   \n",
       "p0n0p1n7p2n52p3n320p4n1696     0.161268   50204.204073              21.0   \n",
       "\n",
       "                            total_uncovered_demand  max_distr_time  \n",
       "label                                                               \n",
       "p0n0p1n1p2n8p3n53p4n321                9582.396048    57150.213923  \n",
       "p0n0p1n1p2n8p3n53p4n322                9570.863418    57150.213923  \n",
       "p0n0p1n1p2n8p3n53p4n323                9380.077284    38755.495023  \n",
       "p0n0p1n1p2n8p3n54p4n324               10312.280512    57150.213923  \n",
       "p0n0p1n1p2n8p3n54p4n325               10300.608346    57150.213923  \n",
       "p0n0p1n1p2n8p3n54p4n326               10109.961748    34719.186633  \n",
       "p0n0p1n1p2n8p3n55p4n327               12244.234764    57150.213923  \n",
       "p0n0p1n1p2n8p3n55p4n328                9528.747244    57150.213923  \n",
       "p0n0p1n1p2n8p3n55p4n329               10204.077595    57150.213923  \n",
       "p0n0p1n1p2n8p3n55p4n330               10151.546711    57150.213923  \n",
       "p0n0p1n1p2n8p3n55p4n331               12232.200555    57150.213923  \n",
       "p0n0p1n1p2n8p3n55p4n332               12041.916000    39783.992670  \n",
       "p0n0p1n1p2n8p3n56p4n333                9509.458414    57150.213923  \n",
       "p0n0p1n1p2n8p3n56p4n334               12246.634333    57150.213923  \n",
       "p0n0p1n1p2n8p3n56p4n335               10137.712260    57150.213923  \n",
       "p0n0p1n1p2n8p3n56p4n336               12044.315569    39783.992670  \n",
       "p0n0p1n1p2n8p3n57p4n337                9280.769655    38715.555813  \n",
       "p0n0p1n1p2n8p3n57p4n338               10164.428146    34530.605389  \n",
       "p0n0p1n1p2n8p3n57p4n339               12228.621476    39783.992670  \n",
       "p0n0p1n1p2n8p3n57p4n340               12217.121341    39783.992670  \n",
       "p0n0p1n1p2n9p3n58p4n341                3193.024472    57150.213923  \n",
       "p0n0p1n1p2n9p3n58p4n342                3181.459966    57150.213923  \n",
       "p0n0p1n1p2n9p3n58p4n343                2990.705708    38794.671443  \n",
       "p0n0p1n1p2n9p3n59p4n344                 679.753733    57150.213923  \n",
       "p0n0p1n1p2n9p3n59p4n345                8098.327843    57150.213923  \n",
       "p0n0p1n1p2n9p3n59p4n346                9591.496125    57150.213923  \n",
       "p0n0p1n1p2n9p3n59p4n347                9579.427012    57150.213923  \n",
       "p0n0p1n1p2n9p3n59p4n348                9389.177361    47050.600981  \n",
       "p0n0p1n1p2n9p3n60p4n349                 680.014760    57150.213923  \n",
       "p0n0p1n1p2n9p3n60p4n350                 668.208355    57150.213923  \n",
       "...                                            ...             ...  \n",
       "p0n0p1n7p2n51p3n315p4n1667            12177.959515    47050.600981  \n",
       "p0n0p1n7p2n51p3n315p4n1668             5819.085581    46290.567842  \n",
       "p0n0p1n7p2n51p3n315p4n1669            12596.662061    46290.567842  \n",
       "p0n0p1n7p2n51p3n315p4n1670            12747.604974    53089.383818  \n",
       "p0n0p1n7p2n52p3n316p4n1671            12218.874586    47050.600981  \n",
       "p0n0p1n7p2n52p3n316p4n1672             9382.093774    47050.600981  \n",
       "p0n0p1n7p2n52p3n316p4n1673             3371.757045    46290.567842  \n",
       "p0n0p1n7p2n52p3n316p4n1674            10742.893852    46290.567842  \n",
       "p0n0p1n7p2n52p3n317p4n1675             3127.869102    29202.535811  \n",
       "p0n0p1n7p2n52p3n317p4n1676             3389.844672    46290.567842  \n",
       "p0n0p1n7p2n52p3n317p4n1677             5075.589228    46290.567842  \n",
       "p0n0p1n7p2n52p3n317p4n1678             5967.321987    46290.567842  \n",
       "p0n0p1n7p2n52p3n318p4n1679            12804.763409    46290.567842  \n",
       "p0n0p1n7p2n52p3n318p4n1680             9965.310525    40258.173730  \n",
       "p0n0p1n7p2n52p3n318p4n1681            10938.906736    46290.567842  \n",
       "p0n0p1n7p2n52p3n318p4n1682             4952.686122    46290.567842  \n",
       "p0n0p1n7p2n52p3n318p4n1683            11486.943759    46290.567842  \n",
       "p0n0p1n7p2n52p3n319p4n1684            14614.267589    53089.383818  \n",
       "p0n0p1n7p2n52p3n319p4n1685            11774.814704    53089.383818  \n",
       "p0n0p1n7p2n52p3n319p4n1686            12171.919980    53089.383818  \n",
       "p0n0p1n7p2n52p3n319p4n1687            12171.919980    47050.600981  \n",
       "p0n0p1n7p2n52p3n319p4n1688             5831.625354    46290.567842  \n",
       "p0n0p1n7p2n52p3n319p4n1689            12602.762353    46290.567842  \n",
       "p0n0p1n7p2n52p3n319p4n1690            12745.589921    53089.383818  \n",
       "p0n0p1n7p2n52p3n320p4n1691            12699.648217    53731.111014  \n",
       "p0n0p1n7p2n52p3n320p4n1692             9860.195333    54333.858723  \n",
       "p0n0p1n7p2n52p3n320p4n1693            12148.936114    54333.858723  \n",
       "p0n0p1n7p2n52p3n320p4n1694             3938.638980    46290.567842  \n",
       "p0n0p1n7p2n52p3n320p4n1695            11252.257411    46290.567842  \n",
       "p0n0p1n7p2n52p3n320p4n1696            12699.648217    53089.383818  \n",
       "\n",
       "[1376 rows x 5 columns]"
      ]
     },
     "execution_count": 94,
     "metadata": {},
     "output_type": "execute_result"
    }
   ],
   "source": [
    "p3_performance_unc_range"
   ]
  },
  {
   "cell_type": "code",
   "execution_count": 95,
   "metadata": {},
   "outputs": [],
   "source": [
    "from scipy import stats\n",
    "y = np.array(p3_performance_unc_range['uncertainty']).astype(float)\n",
    "total_cost = np.array(p3_performance_unc_range['total_costs']).astype(float)"
   ]
  },
  {
   "cell_type": "code",
   "execution_count": 96,
   "metadata": {},
   "outputs": [
    {
     "ename": "NameError",
     "evalue": "name 'x' is not defined",
     "output_type": "error",
     "traceback": [
      "\u001b[1;31m---------------------------------------------------------------------------\u001b[0m",
      "\u001b[1;31mNameError\u001b[0m                                 Traceback (most recent call last)",
      "\u001b[1;32m<ipython-input-96-95fb7c5c9c46>\u001b[0m in \u001b[0;36m<module>\u001b[1;34m()\u001b[0m\n\u001b[1;32m----> 1\u001b[1;33m \u001b[0mslope\u001b[0m\u001b[1;33m,\u001b[0m \u001b[0mintercept\u001b[0m\u001b[1;33m,\u001b[0m \u001b[0mr_value\u001b[0m\u001b[1;33m,\u001b[0m \u001b[0mp_value\u001b[0m\u001b[1;33m,\u001b[0m \u001b[0mstd_err\u001b[0m \u001b[1;33m=\u001b[0m \u001b[0mstats\u001b[0m\u001b[1;33m.\u001b[0m\u001b[0mlinregress\u001b[0m\u001b[1;33m(\u001b[0m\u001b[0mx\u001b[0m\u001b[1;33m,\u001b[0m \u001b[0my\u001b[0m\u001b[1;33m)\u001b[0m\u001b[1;33m\u001b[0m\u001b[0m\n\u001b[0m\u001b[0;32m      2\u001b[0m print(\"slope:\", slope, '\\nintercept', intercept, '\\nr2', r_value**2,\n\u001b[0;32m      3\u001b[0m       '\\np_value', p_value, '\\nstd_err', std_err)\n",
      "\u001b[1;31mNameError\u001b[0m: name 'x' is not defined"
     ]
    }
   ],
   "source": [
    "slope, intercept, r_value, p_value, std_err = stats.linregress(x, y)\n",
    "print(\"slope:\", slope, '\\nintercept', intercept, '\\nr2', r_value**2,\n",
    "      '\\np_value', p_value, '\\nstd_err', std_err)"
   ]
  },
  {
   "cell_type": "code",
   "execution_count": 97,
   "metadata": {},
   "outputs": [
    {
     "name": "stdout",
     "output_type": "stream",
     "text": [
      "total_costs :\n",
      "slope: -2.2314319687926345e-07 \n",
      "intercept: 0.16041529770385182 \n",
      "r2: 0.6506253658887836 \n",
      "p_value: 4.64733878e-316 \n",
      "std_err: 4.4113394121132184e-09\n",
      "\n",
      "nr_uncovered_DPs :\n",
      "slope: 0.0049461799805141865 \n",
      "intercept: 0.056083896112613274 \n",
      "r2: 0.7258065381047022 \n",
      "p_value: 0.0 \n",
      "std_err: 8.201525856157067e-05\n",
      "\n",
      "total_uncovered_demand :\n",
      "slope: 4.9302217732543495e-06 \n",
      "intercept: 0.087569755765229 \n",
      "r2: 0.6290300556074 \n",
      "p_value: 3.707234637042345e-298 \n",
      "std_err: 1.0214256343376718e-07\n",
      "\n",
      "max_distr_time :\n",
      "slope: 6.758461205384558e-07 \n",
      "intercept: 0.08900517058221273 \n",
      "r2: 0.1453928316943145 \n",
      "p_value: 7.470804167345761e-49 \n",
      "std_err: 4.420447398290312e-08\n",
      "\n"
     ]
    }
   ],
   "source": [
    "for obj in objectives:\n",
    "    y = np.array(p3_performance_unc_range['uncertainty']).astype(float)\n",
    "    x = np.array(p3_performance_unc_range[obj]).astype(float)\n",
    "    print(obj, \":\")\n",
    "    slope, intercept, r_value, p_value, std_err = stats.linregress(x, y)\n",
    "    print(\"slope:\", slope, '\\nintercept:', intercept, '\\nr2:', r_value**2,\n",
    "          '\\np_value:', p_value, '\\nstd_err:', std_err)\n",
    "    print(\"\")"
   ]
  },
  {
   "cell_type": "markdown",
   "metadata": {},
   "source": [
    "## Multiple Regression"
   ]
  },
  {
   "cell_type": "code",
   "execution_count": 98,
   "metadata": {},
   "outputs": [
    {
     "name": "stderr",
     "output_type": "stream",
     "text": [
      "C:\\Users\\timro\\Anaconda3\\lib\\importlib\\_bootstrap.py:219: ImportWarning: can't resolve package from __spec__ or __package__, falling back on __name__ and __path__\n",
      "  return f(*args, **kwds)\n",
      "C:\\Users\\timro\\Anaconda3\\lib\\site-packages\\statsmodels\\compat\\pandas.py:56: FutureWarning: The pandas.core.datetools module is deprecated and will be removed in a future version. Please use the pandas.tseries module instead.\n",
      "  from pandas.core import datetools\n"
     ]
    }
   ],
   "source": [
    "import statsmodels.api as sm"
   ]
  },
  {
   "cell_type": "code",
   "execution_count": 99,
   "metadata": {},
   "outputs": [],
   "source": [
    "x = p3_performance_unc_range[objectives]\n",
    "y = p3_performance_unc_range['uncertainty']\n",
    "x = sm.add_constant(x)\n"
   ]
  },
  {
   "cell_type": "code",
   "execution_count": 100,
   "metadata": {},
   "outputs": [],
   "source": [
    "model = sm.OLS(y,x).fit()"
   ]
  },
  {
   "cell_type": "code",
   "execution_count": 101,
   "metadata": {},
   "outputs": [],
   "source": [
    "predictions = model.predict(x)"
   ]
  },
  {
   "cell_type": "code",
   "execution_count": 102,
   "metadata": {},
   "outputs": [
    {
     "data": {
      "text/html": [
       "<table class=\"simpletable\">\n",
       "<caption>OLS Regression Results</caption>\n",
       "<tr>\n",
       "  <th>Dep. Variable:</th>       <td>uncertainty</td>   <th>  R-squared:         </th> <td>   0.825</td>\n",
       "</tr>\n",
       "<tr>\n",
       "  <th>Model:</th>                   <td>OLS</td>       <th>  Adj. R-squared:    </th> <td>   0.824</td>\n",
       "</tr>\n",
       "<tr>\n",
       "  <th>Method:</th>             <td>Least Squares</td>  <th>  F-statistic:       </th> <td>   1613.</td>\n",
       "</tr>\n",
       "<tr>\n",
       "  <th>Date:</th>             <td>Wed, 20 Jun 2018</td> <th>  Prob (F-statistic):</th>  <td>  0.00</td> \n",
       "</tr>\n",
       "<tr>\n",
       "  <th>Time:</th>                 <td>10:19:00</td>     <th>  Log-Likelihood:    </th> <td>  4312.1</td>\n",
       "</tr>\n",
       "<tr>\n",
       "  <th>No. Observations:</th>      <td>  1376</td>      <th>  AIC:               </th> <td>  -8614.</td>\n",
       "</tr>\n",
       "<tr>\n",
       "  <th>Df Residuals:</th>          <td>  1371</td>      <th>  BIC:               </th> <td>  -8588.</td>\n",
       "</tr>\n",
       "<tr>\n",
       "  <th>Df Model:</th>              <td>     4</td>      <th>                     </th>     <td> </td>   \n",
       "</tr>\n",
       "<tr>\n",
       "  <th>Covariance Type:</th>      <td>nonrobust</td>    <th>                     </th>     <td> </td>   \n",
       "</tr>\n",
       "</table>\n",
       "<table class=\"simpletable\">\n",
       "<tr>\n",
       "             <td></td>               <th>coef</th>     <th>std err</th>      <th>t</th>      <th>P>|t|</th>  <th>[0.025</th>    <th>0.975]</th>  \n",
       "</tr>\n",
       "<tr>\n",
       "  <th>const</th>                  <td>    0.0581</td> <td>    0.003</td> <td>   19.952</td> <td> 0.000</td> <td>    0.052</td> <td>    0.064</td>\n",
       "</tr>\n",
       "<tr>\n",
       "  <th>total_costs</th>            <td>-5.139e-08</td> <td> 6.32e-09</td> <td>   -8.132</td> <td> 0.000</td> <td>-6.38e-08</td> <td> -3.9e-08</td>\n",
       "</tr>\n",
       "<tr>\n",
       "  <th>nr_uncovered_DPs</th>       <td>    0.0021</td> <td>    0.000</td> <td>   11.408</td> <td> 0.000</td> <td>    0.002</td> <td>    0.002</td>\n",
       "</tr>\n",
       "<tr>\n",
       "  <th>total_uncovered_demand</th> <td> 1.946e-06</td> <td> 1.98e-07</td> <td>    9.829</td> <td> 0.000</td> <td> 1.56e-06</td> <td> 2.33e-06</td>\n",
       "</tr>\n",
       "<tr>\n",
       "  <th>max_distr_time</th>         <td> 5.425e-07</td> <td> 2.24e-08</td> <td>   24.186</td> <td> 0.000</td> <td> 4.99e-07</td> <td> 5.87e-07</td>\n",
       "</tr>\n",
       "</table>\n",
       "<table class=\"simpletable\">\n",
       "<tr>\n",
       "  <th>Omnibus:</th>       <td> 0.927</td> <th>  Durbin-Watson:     </th> <td>   0.868</td>\n",
       "</tr>\n",
       "<tr>\n",
       "  <th>Prob(Omnibus):</th> <td> 0.629</td> <th>  Jarque-Bera (JB):  </th> <td>   0.866</td>\n",
       "</tr>\n",
       "<tr>\n",
       "  <th>Skew:</th>          <td> 0.060</td> <th>  Prob(JB):          </th> <td>   0.649</td>\n",
       "</tr>\n",
       "<tr>\n",
       "  <th>Kurtosis:</th>      <td> 3.030</td> <th>  Cond. No.          </th> <td>1.85e+06</td>\n",
       "</tr>\n",
       "</table>"
      ],
      "text/plain": [
       "<class 'statsmodels.iolib.summary.Summary'>\n",
       "\"\"\"\n",
       "                            OLS Regression Results                            \n",
       "==============================================================================\n",
       "Dep. Variable:            uncertainty   R-squared:                       0.825\n",
       "Model:                            OLS   Adj. R-squared:                  0.824\n",
       "Method:                 Least Squares   F-statistic:                     1613.\n",
       "Date:                Wed, 20 Jun 2018   Prob (F-statistic):               0.00\n",
       "Time:                        10:19:00   Log-Likelihood:                 4312.1\n",
       "No. Observations:                1376   AIC:                            -8614.\n",
       "Df Residuals:                    1371   BIC:                            -8588.\n",
       "Df Model:                           4                                         \n",
       "Covariance Type:            nonrobust                                         \n",
       "==========================================================================================\n",
       "                             coef    std err          t      P>|t|      [0.025      0.975]\n",
       "------------------------------------------------------------------------------------------\n",
       "const                      0.0581      0.003     19.952      0.000       0.052       0.064\n",
       "total_costs            -5.139e-08   6.32e-09     -8.132      0.000   -6.38e-08    -3.9e-08\n",
       "nr_uncovered_DPs           0.0021      0.000     11.408      0.000       0.002       0.002\n",
       "total_uncovered_demand  1.946e-06   1.98e-07      9.829      0.000    1.56e-06    2.33e-06\n",
       "max_distr_time          5.425e-07   2.24e-08     24.186      0.000    4.99e-07    5.87e-07\n",
       "==============================================================================\n",
       "Omnibus:                        0.927   Durbin-Watson:                   0.868\n",
       "Prob(Omnibus):                  0.629   Jarque-Bera (JB):                0.866\n",
       "Skew:                           0.060   Prob(JB):                        0.649\n",
       "Kurtosis:                       3.030   Cond. No.                     1.85e+06\n",
       "==============================================================================\n",
       "\n",
       "Warnings:\n",
       "[1] Standard Errors assume that the covariance matrix of the errors is correctly specified.\n",
       "[2] The condition number is large, 1.85e+06. This might indicate that there are\n",
       "strong multicollinearity or other numerical problems.\n",
       "\"\"\""
      ]
     },
     "execution_count": 102,
     "metadata": {},
     "output_type": "execute_result"
    }
   ],
   "source": [
    "model.summary()"
   ]
  },
  {
   "cell_type": "code",
   "execution_count": 162,
   "metadata": {},
   "outputs": [
    {
     "data": {
      "text/plain": [
       "0.8247663361990194"
      ]
     },
     "execution_count": 162,
     "metadata": {},
     "output_type": "execute_result"
    }
   ],
   "source": [
    "model.rsquared"
   ]
  },
  {
   "cell_type": "code",
   "execution_count": 165,
   "metadata": {},
   "outputs": [
    {
     "data": {
      "text/html": [
       "<table class=\"simpletable\">\n",
       "<tr>\n",
       "        <td>Model:</td>               <td>OLS</td>         <td>Adj. R-squared:</td>      <td>0.824</td>  \n",
       "</tr>\n",
       "<tr>\n",
       "  <td>Dependent Variable:</td>    <td>uncertainty</td>          <td>AIC:</td>         <td>-8614.2632</td>\n",
       "</tr>\n",
       "<tr>\n",
       "         <td>Date:</td>        <td>2018-06-20 16:42</td>        <td>BIC:</td>         <td>-8588.1285</td>\n",
       "</tr>\n",
       "<tr>\n",
       "   <td>No. Observations:</td>        <td>1376</td>         <td>Log-Likelihood:</td>     <td>4312.1</td>  \n",
       "</tr>\n",
       "<tr>\n",
       "       <td>Df Model:</td>              <td>4</td>           <td>F-statistic:</td>        <td>1613.</td>  \n",
       "</tr>\n",
       "<tr>\n",
       "     <td>Df Residuals:</td>          <td>1371</td>       <td>Prob (F-statistic):</td>    <td>0.00</td>   \n",
       "</tr>\n",
       "<tr>\n",
       "      <td>R-squared:</td>            <td>0.825</td>            <td>Scale:</td>        <td>0.00011146</td>\n",
       "</tr>\n",
       "</table>\n",
       "<table class=\"simpletable\">\n",
       "<tr>\n",
       "             <td></td>             <th>Coef.</th>  <th>Std.Err.</th>    <th>t</th>     <th>P>|t|</th> <th>[0.025</th>  <th>0.975]</th> \n",
       "</tr>\n",
       "<tr>\n",
       "  <th>const</th>                  <td>0.0581</td>   <td>0.0029</td>  <td>19.9524</td> <td>0.0000</td> <td>0.0524</td>  <td>0.0638</td> \n",
       "</tr>\n",
       "<tr>\n",
       "  <th>total_costs</th>            <td>-0.0000</td>  <td>0.0000</td>  <td>-8.1322</td> <td>0.0000</td> <td>-0.0000</td> <td>-0.0000</td>\n",
       "</tr>\n",
       "<tr>\n",
       "  <th>nr_uncovered_DPs</th>       <td>0.0021</td>   <td>0.0002</td>  <td>11.4079</td> <td>0.0000</td> <td>0.0017</td>  <td>0.0025</td> \n",
       "</tr>\n",
       "<tr>\n",
       "  <th>total_uncovered_demand</th> <td>0.0000</td>   <td>0.0000</td>  <td>9.8287</td>  <td>0.0000</td> <td>0.0000</td>  <td>0.0000</td> \n",
       "</tr>\n",
       "<tr>\n",
       "  <th>max_distr_time</th>         <td>0.0000</td>   <td>0.0000</td>  <td>24.1864</td> <td>0.0000</td> <td>0.0000</td>  <td>0.0000</td> \n",
       "</tr>\n",
       "</table>\n",
       "<table class=\"simpletable\">\n",
       "<tr>\n",
       "     <td>Omnibus:</td>    <td>0.927</td>  <td>Durbin-Watson:</td>    <td>0.868</td> \n",
       "</tr>\n",
       "<tr>\n",
       "  <td>Prob(Omnibus):</td> <td>0.629</td> <td>Jarque-Bera (JB):</td>  <td>0.866</td> \n",
       "</tr>\n",
       "<tr>\n",
       "       <td>Skew:</td>     <td>0.060</td>     <td>Prob(JB):</td>      <td>0.649</td> \n",
       "</tr>\n",
       "<tr>\n",
       "     <td>Kurtosis:</td>   <td>3.030</td>  <td>Condition No.:</td>   <td>1847832</td>\n",
       "</tr>\n",
       "</table>"
      ],
      "text/plain": [
       "<class 'statsmodels.iolib.summary2.Summary'>\n",
       "\"\"\"\n",
       "                   Results: Ordinary least squares\n",
       "======================================================================\n",
       "Model:               OLS               Adj. R-squared:      0.824     \n",
       "Dependent Variable:  uncertainty       AIC:                 -8614.2632\n",
       "Date:                2018-06-20 16:42  BIC:                 -8588.1285\n",
       "No. Observations:    1376              Log-Likelihood:      4312.1    \n",
       "Df Model:            4                 F-statistic:         1613.     \n",
       "Df Residuals:        1371              Prob (F-statistic):  0.00      \n",
       "R-squared:           0.825             Scale:               0.00011146\n",
       "----------------------------------------------------------------------\n",
       "                        Coef.  Std.Err.    t    P>|t|   [0.025  0.975]\n",
       "----------------------------------------------------------------------\n",
       "const                   0.0581   0.0029 19.9524 0.0000  0.0524  0.0638\n",
       "total_costs            -0.0000   0.0000 -8.1322 0.0000 -0.0000 -0.0000\n",
       "nr_uncovered_DPs        0.0021   0.0002 11.4079 0.0000  0.0017  0.0025\n",
       "total_uncovered_demand  0.0000   0.0000  9.8287 0.0000  0.0000  0.0000\n",
       "max_distr_time          0.0000   0.0000 24.1864 0.0000  0.0000  0.0000\n",
       "----------------------------------------------------------------------\n",
       "Omnibus:               0.927         Durbin-Watson:            0.868  \n",
       "Prob(Omnibus):         0.629         Jarque-Bera (JB):         0.866  \n",
       "Skew:                  0.060         Prob(JB):                 0.649  \n",
       "Kurtosis:              3.030         Condition No.:            1847832\n",
       "======================================================================\n",
       "* The condition number is large (2e+06). This might indicate\n",
       "strong multicollinearity or other numerical problems.\n",
       "\"\"\""
      ]
     },
     "execution_count": 165,
     "metadata": {},
     "output_type": "execute_result"
    }
   ],
   "source": [
    "model.summary2()"
   ]
  },
  {
   "cell_type": "code",
   "execution_count": 166,
   "metadata": {},
   "outputs": [
    {
     "data": {
      "text/plain": [
       "(1376, 5)"
      ]
     },
     "execution_count": 166,
     "metadata": {},
     "output_type": "execute_result"
    }
   ],
   "source": [
    "p3_performance_unc_range.shape"
   ]
  },
  {
   "cell_type": "code",
   "execution_count": null,
   "metadata": {},
   "outputs": [],
   "source": []
  }
 ],
 "metadata": {
  "kernelspec": {
   "display_name": "Python 3",
   "language": "python",
   "name": "python3"
  },
  "language_info": {
   "codemirror_mode": {
    "name": "ipython",
    "version": 3
   },
   "file_extension": ".py",
   "mimetype": "text/x-python",
   "name": "python",
   "nbconvert_exporter": "python",
   "pygments_lexer": "ipython3",
   "version": "3.6.4"
  },
  "toc": {
   "nav_menu": {},
   "number_sections": true,
   "sideBar": true,
   "skip_h1_title": false,
   "title_cell": "Table of Contents",
   "title_sidebar": "Contents",
   "toc_cell": false,
   "toc_position": {},
   "toc_section_display": true,
   "toc_window_display": false
  }
 },
 "nbformat": 4,
 "nbformat_minor": 2
}
