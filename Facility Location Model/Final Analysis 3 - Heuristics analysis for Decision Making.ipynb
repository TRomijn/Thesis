{
 "cells": [
  {
   "cell_type": "code",
   "execution_count": 1,
   "metadata": {},
   "outputs": [],
   "source": [
    "import pickle\n",
    "import numpy as np\n",
    "import pandas as pd\n",
    "\n",
    "from geopy.distance import great_circle\n",
    "\n",
    "import pygmo as pg"
   ]
  },
  {
   "cell_type": "code",
   "execution_count": 2,
   "metadata": {},
   "outputs": [],
   "source": [
    "case = \"Nepal\""
   ]
  },
  {
   "cell_type": "markdown",
   "metadata": {},
   "source": [
    "# Load Pareto Front Perfect Information"
   ]
  },
  {
   "cell_type": "code",
   "execution_count": 3,
   "metadata": {},
   "outputs": [],
   "source": [
    "# # Store data (serialize)\n",
    "# with open('{}/MOO/rob_nondom_pols_test1.pickle'.format(case),\n",
    "#           'wb') as handle:\n",
    "#     pickle.dump(\n",
    "#         (rob_nondom_pols),\n",
    "#         handle,\n",
    "#         protocol=pickle.HIGHEST_PROTOCOL)\n",
    "    \n",
    "with open('{}/MOO/rob_nondom_pols_test3_norobustnessfilter.pickle'.format(case),\n",
    "          'rb') as handle:\n",
    "    Full_Info_nondom_pols = pickle.load(\n",
    "        handle)"
   ]
  },
  {
   "cell_type": "code",
   "execution_count": 4,
   "metadata": {},
   "outputs": [
    {
     "data": {
      "text/plain": [
       "(72,)"
      ]
     },
     "execution_count": 4,
     "metadata": {},
     "output_type": "execute_result"
    }
   ],
   "source": [
    "Full_Info_nondom_pols.shape"
   ]
  },
  {
   "cell_type": "code",
   "execution_count": 5,
   "metadata": {},
   "outputs": [],
   "source": [
    "FullInf_FLs = np.array([[int(key[3:]) for key,value in pol.items() if value == 1] for pol in Full_Info_nondom_pols])"
   ]
  },
  {
   "cell_type": "code",
   "execution_count": 6,
   "metadata": {
    "scrolled": true
   },
   "outputs": [
    {
     "data": {
      "text/plain": [
       "(72, 4)"
      ]
     },
     "execution_count": 6,
     "metadata": {},
     "output_type": "execute_result"
    }
   ],
   "source": [
    "FullInf_FLs.shape"
   ]
  },
  {
   "cell_type": "markdown",
   "metadata": {},
   "source": [
    "# Load Policies proposed by MPMORDM"
   ]
  },
  {
   "cell_type": "code",
   "execution_count": 7,
   "metadata": {},
   "outputs": [],
   "source": [
    "output_folder = \"MPMORDM Results v1 2015\""
   ]
  },
  {
   "cell_type": "code",
   "execution_count": 8,
   "metadata": {},
   "outputs": [],
   "source": [
    "with open('{}/{}/python_objects.pickle'.format(case, output_folder),\n",
    "          'rb') as handle:\n",
    "    global_label_tree, EMA_model_dict, global_dfs_var_unc_data, global_fixed_unc, global_policy_tree = pickle.load(\n",
    "        handle)"
   ]
  },
  {
   "cell_type": "code",
   "execution_count": 9,
   "metadata": {},
   "outputs": [],
   "source": [
    "p4_labels = global_label_tree['p4']"
   ]
  },
  {
   "cell_type": "code",
   "execution_count": 10,
   "metadata": {},
   "outputs": [],
   "source": [
    "p4_pols = [global_policy_tree[label] for label in p4_labels]"
   ]
  },
  {
   "cell_type": "code",
   "execution_count": 11,
   "metadata": {},
   "outputs": [],
   "source": [
    "p4_pols = np.array(p4_pols)"
   ]
  },
  {
   "cell_type": "code",
   "execution_count": 12,
   "metadata": {
    "scrolled": true
   },
   "outputs": [
    {
     "name": "stdout",
     "output_type": "stream",
     "text": [
      "P4 after Multi-Period Robust Optimisation contains (1376,) number of policies\n"
     ]
    }
   ],
   "source": [
    "print(\"P4 after Multi-Period Robust Optimisation contains {} number of policies\".format((p4_pols.shape)))"
   ]
  },
  {
   "cell_type": "code",
   "execution_count": 13,
   "metadata": {},
   "outputs": [],
   "source": [
    "p4_FLs = np.array([[int(key[3:]) for key,value in pol.items() if value == 1] for pol in p4_pols])"
   ]
  },
  {
   "cell_type": "code",
   "execution_count": 14,
   "metadata": {
    "scrolled": true
   },
   "outputs": [
    {
     "data": {
      "text/plain": [
       "(1376, 4)"
      ]
     },
     "execution_count": 14,
     "metadata": {},
     "output_type": "execute_result"
    }
   ],
   "source": [
    "p4_FLs.shape"
   ]
  },
  {
   "cell_type": "code",
   "execution_count": 15,
   "metadata": {},
   "outputs": [
    {
     "data": {
      "text/plain": [
       "207"
      ]
     },
     "execution_count": 15,
     "metadata": {},
     "output_type": "execute_result"
    }
   ],
   "source": [
    "# In total there are this many unique policies\n",
    "len(np.unique(p4_FLs, axis=0))"
   ]
  },
  {
   "cell_type": "markdown",
   "metadata": {},
   "source": [
    "# Codification "
   ]
  },
  {
   "cell_type": "markdown",
   "metadata": {},
   "source": [
    "## Codify y"
   ]
  },
  {
   "cell_type": "code",
   "execution_count": 16,
   "metadata": {},
   "outputs": [],
   "source": [
    "mask_mpmordm_in_PF = [True if pol_fls.tolist() in FullInf_FLs.tolist() else False for pol_fls in p4_FLs]"
   ]
  },
  {
   "cell_type": "code",
   "execution_count": 17,
   "metadata": {},
   "outputs": [],
   "source": [
    "Data = pd.DataFrame(mask_mpmordm_in_PF, columns=['InPF_bool'], index=global_label_tree['p4'])"
   ]
  },
  {
   "cell_type": "code",
   "execution_count": 18,
   "metadata": {
    "code_folding": [
     0
    ]
   },
   "outputs": [
    {
     "name": "stdout",
     "output_type": "stream",
     "text": [
      "From all 1376 possible decision paths (MPMORDM), 692 are inside the pareto optimal front for the actual values\n",
      "50.3% of all decision paths (MPMORDM) are in the Pareto Front\n"
     ]
    }
   ],
   "source": [
    "# Print Some info\n",
    "p4_FLs_inPF = p4_FLs[mask_mpmordm_in_PF]\n",
    "\n",
    "p4_FLs_inPF.shape\n",
    "\n",
    "print(\n",
    "    \"From all {} possible decision paths (MPMORDM), {} are inside the pareto optimal front for the actual values\".\n",
    "    format(p4_FLs.shape[0], p4_FLs[mask_mpmordm_in_PF].shape[0]))\n",
    "\n",
    "Perc_Opt_Dec_Paths = (p4_FLs[mask_mpmordm_in_PF].shape[0] / p4_FLs.shape[0])*100\n",
    "\n",
    "print(\"{0:.1f}% of all decision paths (MPMORDM) are in the Pareto Front\".format(Perc_Opt_Dec_Paths))"
   ]
  },
  {
   "cell_type": "code",
   "execution_count": 19,
   "metadata": {},
   "outputs": [
    {
     "data": {
      "text/html": [
       "<div>\n",
       "<style scoped>\n",
       "    .dataframe tbody tr th:only-of-type {\n",
       "        vertical-align: middle;\n",
       "    }\n",
       "\n",
       "    .dataframe tbody tr th {\n",
       "        vertical-align: top;\n",
       "    }\n",
       "\n",
       "    .dataframe thead th {\n",
       "        text-align: right;\n",
       "    }\n",
       "</style>\n",
       "<table border=\"1\" class=\"dataframe\">\n",
       "  <thead>\n",
       "    <tr style=\"text-align: right;\">\n",
       "      <th></th>\n",
       "      <th>InPF_bool</th>\n",
       "    </tr>\n",
       "  </thead>\n",
       "  <tbody>\n",
       "    <tr>\n",
       "      <th>p0n0p1n7p2n52p3n320p4n1692</th>\n",
       "      <td>False</td>\n",
       "    </tr>\n",
       "    <tr>\n",
       "      <th>p0n0p1n7p2n52p3n320p4n1693</th>\n",
       "      <td>False</td>\n",
       "    </tr>\n",
       "    <tr>\n",
       "      <th>p0n0p1n7p2n52p3n320p4n1694</th>\n",
       "      <td>False</td>\n",
       "    </tr>\n",
       "    <tr>\n",
       "      <th>p0n0p1n7p2n52p3n320p4n1695</th>\n",
       "      <td>False</td>\n",
       "    </tr>\n",
       "    <tr>\n",
       "      <th>p0n0p1n7p2n52p3n320p4n1696</th>\n",
       "      <td>True</td>\n",
       "    </tr>\n",
       "  </tbody>\n",
       "</table>\n",
       "</div>"
      ],
      "text/plain": [
       "                            InPF_bool\n",
       "p0n0p1n7p2n52p3n320p4n1692      False\n",
       "p0n0p1n7p2n52p3n320p4n1693      False\n",
       "p0n0p1n7p2n52p3n320p4n1694      False\n",
       "p0n0p1n7p2n52p3n320p4n1695      False\n",
       "p0n0p1n7p2n52p3n320p4n1696       True"
      ]
     },
     "execution_count": 19,
     "metadata": {},
     "output_type": "execute_result"
    }
   ],
   "source": [
    "Data.tail()"
   ]
  },
  {
   "cell_type": "markdown",
   "metadata": {},
   "source": [
    "## Get X data"
   ]
  },
  {
   "cell_type": "code",
   "execution_count": 20,
   "metadata": {
    "code_folding": []
   },
   "outputs": [],
   "source": [
    "# Helper functions From other Notebooks\n",
    "\"\"\"From: Final Analysis 2 - Hypervolume for each mordmbranch vs uncertainty - Not Cleaned\"\"\"\n",
    "def find_fl_placement_sequence(label):\n",
    "    \"\"\"Verificated\"\"\"\n",
    "    max_ps = label.count(\"p\")-1\n",
    "    sequence = []\n",
    "    cur_label = label\n",
    "    while len(sequence) < max_ps:\n",
    "        last_fl, prev_label = find_last_fl(cur_label)\n",
    "        sequence.append(last_fl)\n",
    "        cur_label = prev_label\n",
    "    return list(reversed(sequence))\n",
    "\n",
    "def find_last_fl(label):\n",
    "    prev_label = find_previous_label(label)\n",
    "    prev_perf = pd.read_csv(\"{}/{}/nondom_BE_pols{}.csv\".format(case, output_folder, prev_label), index_col=0)\n",
    "    cur_pol = global_policy_tree[label]\n",
    "    cur_fls = policy_to_fls(cur_pol)\n",
    "    for fl in cur_fls:\n",
    "        if fl in prev_perf.index:\n",
    "            return fl, prev_label\n",
    "    raise ValueError(\"Something went wrong\")\n",
    "\n",
    "def find_previous_label(label):\n",
    "    for i,l in enumerate(label[::-1]):\n",
    "        if l == \"p\":\n",
    "            return label[:-i-1]\n",
    "        \n",
    "def policy_to_fls(pol):\n",
    "    return [int(key[3:]) for key, val in pol.items() if val == 1]"
   ]
  },
  {
   "cell_type": "code",
   "execution_count": 21,
   "metadata": {},
   "outputs": [
    {
     "data": {
      "text/plain": [
       "'p0n0p1n7p2n52p3n320p4n1696'"
      ]
     },
     "execution_count": 21,
     "metadata": {},
     "output_type": "execute_result"
    }
   ],
   "source": [
    "global_label_tree['p4'][-1]"
   ]
  },
  {
   "cell_type": "code",
   "execution_count": 27,
   "metadata": {},
   "outputs": [],
   "source": [
    "# test_fl_sequence = find_fl_placement_sequence('p0n0p1n7p2n52p3n320p4n1696')"
   ]
  },
  {
   "cell_type": "code",
   "execution_count": 28,
   "metadata": {},
   "outputs": [],
   "source": [
    "# test_label_sequence = find_previous_labels('p0n0p1n7p2n52p3n320p4n1696')"
   ]
  },
  {
   "cell_type": "code",
   "execution_count": 29,
   "metadata": {
    "code_folding": [
     0
    ]
   },
   "outputs": [],
   "source": [
    "def find_previous_labels(label):\n",
    "    labels = []\n",
    "    last_label = label\n",
    "    while True:\n",
    "        labels.append(last_label)\n",
    "        last_label = find_previous_label(last_label)\n",
    "        if len(last_label) == 0:\n",
    "            return labels\n",
    "        "
   ]
  },
  {
   "cell_type": "code",
   "execution_count": 31,
   "metadata": {
    "scrolled": true
   },
   "outputs": [],
   "source": [
    "# list(zip(test_fl_sequence,reversed(test_label_sequence)))"
   ]
  },
  {
   "cell_type": "code",
   "execution_count": 34,
   "metadata": {},
   "outputs": [],
   "source": [
    "# test = Data.iloc[0]"
   ]
  },
  {
   "cell_type": "code",
   "execution_count": 35,
   "metadata": {},
   "outputs": [],
   "source": [
    "# test.name"
   ]
  },
  {
   "cell_type": "code",
   "execution_count": 36,
   "metadata": {},
   "outputs": [],
   "source": [
    "def get_performance_all_p (label):\n",
    "    tmp_fl_sequence = find_fl_placement_sequence(label)\n",
    "    tmp_label_sequence = find_previous_labels(label)\n",
    "    all_period_perf = pd.DataFrame()\n",
    "    for fl, lab in zip(tmp_fl_sequence,reversed(tmp_label_sequence)):\n",
    "#         print('fl',fl,'lab',lab)\n",
    "        tmp_perf = pd.read_csv(\"{}/{}/nondom_BE_pols{}.csv\".format(case, output_folder, lab), index_col=0).loc[fl]\n",
    "        all_period_perf = pd.concat([all_period_perf, tmp_perf])\n",
    "    \n",
    "    \n",
    "    all_period_perf = all_period_perf.T\n",
    "#     all_period_perf.columns = \n",
    "    return all_period_perf.values[0]\n",
    "        \n",
    "    "
   ]
  },
  {
   "cell_type": "code",
   "execution_count": 37,
   "metadata": {
    "scrolled": true
   },
   "outputs": [
    {
     "data": {
      "text/plain": [
       "array([7.29270615e+04, 2.90000000e+01, 3.29655900e+04, 9.16519500e+04,\n",
       "       6.84130459e+04, 2.80000000e+01, 3.26353265e+04, 6.75992170e+04,\n",
       "       2.83650217e+05, 1.40000000e+01, 8.61744550e+03, 5.85409368e+04,\n",
       "       2.75848344e+05, 1.30000000e+01, 9.38007728e+03, 3.87554950e+04])"
      ]
     },
     "execution_count": 37,
     "metadata": {},
     "output_type": "execute_result"
    }
   ],
   "source": [
    "get_performance_all_p(\"p0n0p1n1p2n8p3n53p4n323\")"
   ]
  },
  {
   "cell_type": "code",
   "execution_count": 38,
   "metadata": {},
   "outputs": [],
   "source": [
    "test1 = Data.apply(lambda row: get_performance_all_p(row.name), axis=1)"
   ]
  },
  {
   "cell_type": "code",
   "execution_count": 39,
   "metadata": {},
   "outputs": [],
   "source": [
    "test2 = np.vstack(test1.values)"
   ]
  },
  {
   "cell_type": "code",
   "execution_count": 40,
   "metadata": {},
   "outputs": [],
   "source": [
    "test3 = pd.DataFrame(test2)"
   ]
  },
  {
   "cell_type": "code",
   "execution_count": 41,
   "metadata": {},
   "outputs": [],
   "source": [
    "test3.columns = ['total_costs_p1', 'nr_uncovered_DPs_p1', 'total_uncovered_demand_p1',\n",
    "       'max_distr_time_p1', 'total_costs_p2', 'nr_uncovered_DPs_p2',\n",
    "       'total_uncovered_demand_p2', 'max_distr_time_p2', 'total_costs_p3',\n",
    "       'nr_uncovered_DPs_p3', 'total_uncovered_demand_p3', 'max_distr_time_p3',\n",
    "       'total_costs_p4', 'nr_uncovered_DPs_p4', 'total_uncovered_demand_p4',\n",
    "       'max_distr_time_p4']"
   ]
  },
  {
   "cell_type": "code",
   "execution_count": 42,
   "metadata": {},
   "outputs": [],
   "source": [
    "test3.index = Data.index"
   ]
  },
  {
   "cell_type": "code",
   "execution_count": 43,
   "metadata": {},
   "outputs": [],
   "source": [
    "Data2 = pd.merge(Data, test3, left_index=True, right_index=True)"
   ]
  },
  {
   "cell_type": "markdown",
   "metadata": {},
   "source": [
    "# Heuristics Analysis"
   ]
  },
  {
   "cell_type": "code",
   "execution_count": 20,
   "metadata": {},
   "outputs": [],
   "source": [
    "# import prim"
   ]
  },
  {
   "cell_type": "code",
   "execution_count": 44,
   "metadata": {},
   "outputs": [],
   "source": [
    "x = Data2.iloc[:,1:]\n",
    "y = Data2.iloc[:,0]\n",
    "\n",
    "x = x.to_records()\n",
    "y = y.values"
   ]
  },
  {
   "cell_type": "code",
   "execution_count": 270,
   "metadata": {},
   "outputs": [],
   "source": [
    "import matplotlib.pyplot as plt"
   ]
  },
  {
   "cell_type": "code",
   "execution_count": 45,
   "metadata": {},
   "outputs": [
    {
     "name": "stderr",
     "output_type": "stream",
     "text": [
      "C:\\Users\\timro\\Anaconda3\\lib\\importlib\\_bootstrap.py:219: ImportWarning: can't resolve package from __spec__ or __package__, falling back on __name__ and __path__\n",
      "  return f(*args, **kwds)\n"
     ]
    },
    {
     "data": {
      "text/plain": [
       "<Logger EMA (DEBUG)>"
      ]
     },
     "execution_count": 45,
     "metadata": {},
     "output_type": "execute_result"
    }
   ],
   "source": [
    "from ema_workbench.analysis import prim\n",
    "from ema_workbench import ema_logging\n",
    "ema_logging.log_to_stderr(ema_logging.INFO)\n",
    "\n"
   ]
  },
  {
   "cell_type": "code",
   "execution_count": 46,
   "metadata": {},
   "outputs": [],
   "source": [
    "prim_alg = prim.Prim(x, y, threshold=0.8, peel_alpha=0.1)\n"
   ]
  },
  {
   "cell_type": "code",
   "execution_count": 47,
   "metadata": {},
   "outputs": [
    {
     "name": "stderr",
     "output_type": "stream",
     "text": [
      "[MainProcess/INFO] 1376 points remaining, containing 692 cases of interest\n",
      "C:\\Users\\timro\\Anaconda3\\lib\\site-packages\\pandas\\core\\frame.py:6201: FutureWarning: Sorting because non-concatenation axis is not aligned. A future version\n",
      "of pandas will change to not sort by default.\n",
      "\n",
      "To accept the future behavior, pass 'sort=True'.\n",
      "\n",
      "To retain the current behavior and silence the warning, pass sort=False\n",
      "\n",
      "  sort=sort)\n",
      "[MainProcess/INFO] mean: 1.0, mass: 0.502906976744186, coverage: 1.0, density: 1.0 restricted_dimensions: 1\n"
     ]
    }
   ],
   "source": [
    "box1 = prim_alg.find_box()"
   ]
  },
  {
   "cell_type": "code",
   "execution_count": 48,
   "metadata": {},
   "outputs": [],
   "source": [
    "# Store data (serialize)\n",
    "with open('testprimbox.pickle',\n",
    "          'wb') as handle:\n",
    "    pickle.dump(\n",
    "        (prim_alg, box1),\n",
    "        handle,\n",
    "        protocol=pickle.HIGHEST_PROTOCOL)"
   ]
  },
  {
   "cell_type": "code",
   "execution_count": 50,
   "metadata": {},
   "outputs": [],
   "source": [
    "import matplotlib.pyplot as plt"
   ]
  },
  {
   "cell_type": "code",
   "execution_count": 54,
   "metadata": {},
   "outputs": [],
   "source": [
    "%matplotlib inline"
   ]
  },
  {
   "cell_type": "code",
   "execution_count": 55,
   "metadata": {
    "scrolled": true
   },
   "outputs": [
    {
     "data": {
      "image/png": "[encoded data removed]",
      "text/plain": [
       "<Figure size 432x288 with 2 Axes>"
      ]
     },
     "metadata": {},
     "output_type": "display_data"
    }
   ],
   "source": [
    "box1.show_tradeoff()\n",
    "plt.show()"
   ]
  },
  {
   "cell_type": "markdown",
   "metadata": {},
   "source": [
    "## Classification and Regression Tree"
   ]
  },
  {
   "cell_type": "code",
   "execution_count": 56,
   "metadata": {},
   "outputs": [],
   "source": [
    "x = Data2.iloc[:,1:]\n",
    "y = Data2.iloc[:,0]"
   ]
  },
  {
   "cell_type": "code",
   "execution_count": 57,
   "metadata": {},
   "outputs": [
    {
     "name": "stderr",
     "output_type": "stream",
     "text": [
      "C:\\Users\\timro\\Anaconda3\\lib\\importlib\\_bootstrap.py:219: ImportWarning: can't resolve package from __spec__ or __package__, falling back on __name__ and __path__\n",
      "  return f(*args, **kwds)\n",
      "C:\\Users\\timro\\Anaconda3\\lib\\importlib\\_bootstrap.py:219: ImportWarning: can't resolve package from __spec__ or __package__, falling back on __name__ and __path__\n",
      "  return f(*args, **kwds)\n",
      "C:\\Users\\timro\\Anaconda3\\lib\\site-packages\\sklearn\\cross_validation.py:41: DeprecationWarning: This module was deprecated in version 0.18 in favor of the model_selection module into which all the refactored classes and functions are moved. Also note that the interface of the new CV iterators are different from that of this module. This module will be removed in 0.20.\n",
      "  \"This module will be removed in 0.20.\", DeprecationWarning)\n"
     ]
    }
   ],
   "source": [
    "from sklearn.cross_validation import cross_val_score\n",
    "from sklearn.cross_validation import KFold\n",
    "crossvalidation = KFold(n=x.shape[0], n_folds=5, shuffle=True, random_state=1)"
   ]
  },
  {
   "cell_type": "code",
   "execution_count": 60,
   "metadata": {},
   "outputs": [
    {
     "name": "stdout",
     "output_type": "stream",
     "text": [
      "Depth: 1 Accuracy: 0.500\n",
      "Depth: 2 Accuracy: 0.543\n",
      "Depth: 3 Accuracy: 0.582\n",
      "Depth: 4 Accuracy: 0.622\n",
      "Depth: 5 Accuracy: 0.655\n",
      "Depth: 6 Accuracy: 0.679\n",
      "Depth: 7 Accuracy: 0.693\n",
      "Depth: 8 Accuracy: 0.737\n",
      "Depth: 9 Accuracy: 0.741\n"
     ]
    }
   ],
   "source": [
    "from sklearn import tree\n",
    "for depth in range(1,10):\n",
    "    tree_classifier = tree.DecisionTreeClassifier(\n",
    "        max_depth=depth, random_state=0)\n",
    "    if tree_classifier.fit(x,y).tree_.max_depth < depth:\n",
    "        break\n",
    "    score = np.mean(cross_val_score(tree_classifier, x, y,\n",
    "                                    scoring='accuracy', cv=crossvalidation, n_jobs=1))\n",
    "    print ('Depth: %i Accuracy: %.3f' % (depth,score))"
   ]
  },
  {
   "cell_type": "code",
   "execution_count": null,
   "metadata": {},
   "outputs": [],
   "source": []
  }
 ],
 "metadata": {
  "kernelspec": {
   "display_name": "Python 3",
   "language": "python",
   "name": "python3"
  },
  "language_info": {
   "codemirror_mode": {
    "name": "ipython",
    "version": 3
   },
   "file_extension": ".py",
   "mimetype": "text/x-python",
   "name": "python",
   "nbconvert_exporter": "python",
   "pygments_lexer": "ipython3",
   "version": "3.6.4"
  },
  "toc": {
   "nav_menu": {},
   "number_sections": true,
   "sideBar": true,
   "skip_h1_title": false,
   "title_cell": "Table of Contents",
   "title_sidebar": "Contents",
   "toc_cell": false,
   "toc_position": {
    "height": "calc(100% - 180px)",
    "left": "10px",
    "top": "150px",
    "width": "384px"
   },
   "toc_section_display": true,
   "toc_window_display": false
  }
 },
 "nbformat": 4,
 "nbformat_minor": 2
}
