{
 "cells": [
  {
   "cell_type": "code",
   "execution_count": 12,
   "metadata": {},
   "outputs": [],
   "source": [
    "#imports\n",
    "\n",
    "# import random\n",
    "import pandas as pd\n",
    "import numpy as np\n",
    "import pickle\n",
    "import pygmo as pg\n",
    "import matplotlib.pyplot as plt\n",
    "import seaborn as sns\n",
    "\n",
    "\n",
    "# # Own Model import\n",
    "from lib.fl_model_v9 import *\n",
    "import lib\n",
    "# # import lib.fl_model_v5 as flm\n",
    "\n",
    "# # for natural sorting\n",
    "import re\n",
    "\n",
    "# #for nondominated sorting\n",
    "import lib.pareto as pareto\n",
    "# # from lib.list_imports import find_loaded_modules\n",
    "\n",
    "# # for parallel plotting\n",
    "# from lib.parallel_plotting import plot_optimal\n",
    "\n",
    "# # For checking ema running time\n",
    "# import time\n",
    "\n",
    "# import importlib\n",
    "\n",
    "# import geopy\n",
    "# from geopy.distance import great_circle "
   ]
  },
  {
   "cell_type": "code",
   "execution_count": 2,
   "metadata": {},
   "outputs": [],
   "source": [
    "case = \"Nepal\"\n",
    "output_folder = \"MPMORDM Results v1 2015\""
   ]
  },
  {
   "cell_type": "markdown",
   "metadata": {},
   "source": [
    "## Load Data for reevaluation of policies under perfect information"
   ]
  },
  {
   "cell_type": "code",
   "execution_count": 3,
   "metadata": {},
   "outputs": [],
   "source": [
    "Fix_Unc = pd.read_csv(\"{}/Prepared Input Data/fixed_uncertainties.csv\".format(case), index_col=0)\n",
    "\n",
    "DPs = pd.read_csv(\"{}/Prepared Input Data/DPs.csv\".format(case))\n",
    "# DPs.columns\n",
    "\n",
    "FLs = pd.read_csv(\"{}/Prepared Input Data/FLs.csv\".format(case))\n",
    "# FLs.columns\n",
    "\n",
    "SPs = pd.read_csv(\"{}/Prepared Input Data/SPs.csv\".format(case))\n",
    "# SPs.columns\n",
    "\n",
    "# 0. Instantiate\n",
    "\n",
    "# General\n",
    "# Coordinates\n",
    "# all large cities to demand points\n",
    "DPY = {\"DPY{}\".format(i): y for i,y in enumerate(DPs['latitude'])}\n",
    "DPX = {\"DPX{}\".format(i): x for i,x in enumerate(DPs['longitude'])}\n",
    "\n",
    "# all international airports to supply points:\n",
    "SPY = {\"SPY{}\".format(i): y for i,y in enumerate(SPs['latitude_deg'])}\n",
    "SPX = {\"SPX{}\".format(i): x for i,x in enumerate(SPs['longitude_deg'])}\n",
    "\n",
    "# Facility locations\n",
    "FLX = {\"FLX{}\".format(i): x for i,x in enumerate(FLs['Lon'])}\n",
    "FLY = {\"FLY{}\".format(i): y for i,y in enumerate(FLs['Lat'])}\n",
    "\n",
    "\n",
    "# Population demand points\n",
    "DPpop = {\"DPpop{}\".format(i): pop for i,pop in enumerate(DPs['population'])}\n"
   ]
  },
  {
   "cell_type": "code",
   "execution_count": 4,
   "metadata": {},
   "outputs": [
    {
     "data": {
      "text/html": [
       "<div>\n",
       "<style scoped>\n",
       "    .dataframe tbody tr th:only-of-type {\n",
       "        vertical-align: middle;\n",
       "    }\n",
       "\n",
       "    .dataframe tbody tr th {\n",
       "        vertical-align: top;\n",
       "    }\n",
       "\n",
       "    .dataframe thead th {\n",
       "        text-align: right;\n",
       "    }\n",
       "</style>\n",
       "<table border=\"1\" class=\"dataframe\">\n",
       "  <thead>\n",
       "    <tr style=\"text-align: right;\">\n",
       "      <th></th>\n",
       "      <th>lower</th>\n",
       "      <th>best_estimate</th>\n",
       "      <th>upper</th>\n",
       "    </tr>\n",
       "    <tr>\n",
       "      <th>var</th>\n",
       "      <th></th>\n",
       "      <th></th>\n",
       "      <th></th>\n",
       "    </tr>\n",
       "  </thead>\n",
       "  <tbody>\n",
       "    <tr>\n",
       "      <th>unit_opening_costs</th>\n",
       "      <td>50.0</td>\n",
       "      <td>100</td>\n",
       "      <td>200</td>\n",
       "    </tr>\n",
       "    <tr>\n",
       "      <th>unit_transport_cost</th>\n",
       "      <td>0.5</td>\n",
       "      <td>1</td>\n",
       "      <td>2</td>\n",
       "    </tr>\n",
       "    <tr>\n",
       "      <th>FL_operations_cost</th>\n",
       "      <td>20.0</td>\n",
       "      <td>30</td>\n",
       "      <td>50</td>\n",
       "    </tr>\n",
       "    <tr>\n",
       "      <th>FL_range</th>\n",
       "      <td>2.0</td>\n",
       "      <td>4</td>\n",
       "      <td>6</td>\n",
       "    </tr>\n",
       "    <tr>\n",
       "      <th>demand_per_affected</th>\n",
       "      <td>10.0</td>\n",
       "      <td>20</td>\n",
       "      <td>50</td>\n",
       "    </tr>\n",
       "  </tbody>\n",
       "</table>\n",
       "</div>"
      ],
      "text/plain": [
       "                     lower  best_estimate  upper\n",
       "var                                             \n",
       "unit_opening_costs    50.0            100    200\n",
       "unit_transport_cost    0.5              1      2\n",
       "FL_operations_cost    20.0             30     50\n",
       "FL_range               2.0              4      6\n",
       "demand_per_affected   10.0             20     50"
      ]
     },
     "execution_count": 4,
     "metadata": {},
     "output_type": "execute_result"
    }
   ],
   "source": [
    "Fix_Unc"
   ]
  },
  {
   "cell_type": "code",
   "execution_count": 5,
   "metadata": {
    "scrolled": true
   },
   "outputs": [
    {
     "name": "stdout",
     "output_type": "stream",
     "text": [
      "Pick right Epicentre, and/or load disruption data.\n",
      " Epicentre chosen: RealLocation\n"
     ]
    }
   ],
   "source": [
    "epicentre_name = \"RealLocation\"\n",
    "print(\"Pick right Epicentre, and/or load disruption data.\\n\",\n",
    "      \"Epicentre chosen: {}\".format(epicentre_name))"
   ]
  },
  {
   "cell_type": "code",
   "execution_count": 6,
   "metadata": {},
   "outputs": [],
   "source": [
    "disruptionsFLs = np.loadtxt(\n",
    "    'Nepal/Prepared Input Data/DisruptionFL{}.txt'.format(epicentre_name))\n",
    "disruptionsDPs = np.loadtxt(\n",
    "    'Nepal/Prepared Input Data/DisruptionDP{}.txt'.format(epicentre_name))"
   ]
  },
  {
   "cell_type": "code",
   "execution_count": 7,
   "metadata": {},
   "outputs": [],
   "source": [
    "# Base real values on Nepal earthquake\n",
    "# DSR is abbreviation for Disruption\n",
    "\n",
    "DSRDP = {\"DSRDP{}\".format(i): disruptionsDPs[i] for i in range(len(DPX))}\n",
    "DSRFL = {\"DSRFL{}\".format(i): disruptionsFLs[i] for i in range(len(FLX))}"
   ]
  },
  {
   "cell_type": "markdown",
   "metadata": {},
   "source": [
    "## Create MOO results for perfect information"
   ]
  },
  {
   "cell_type": "code",
   "execution_count": 8,
   "metadata": {},
   "outputs": [
    {
     "name": "stdout",
     "output_type": "stream",
     "text": [
      "There are 4845 possible solutions, where there are four different facility locations operational\n"
     ]
    }
   ],
   "source": [
    "from itertools import product\n",
    "# Create All possible policies\n",
    "start_situation = {key: 0 for key in FLs.Name}\n",
    "\n",
    "# Create all possible permutations for\n",
    "permutations = [i for i in product([0, 1], repeat=len(FLs)) if sum(i) == 4]\n",
    "print(\n",
    "    \"There are {} possible solutions, where there are four different facility locations operational\".\n",
    "    format(len(permutations)))\n",
    "\n",
    "# Convert possible permutations to policies\n",
    "All_optional_pols = []\n",
    "for p in permutations:\n",
    "    tmp = {\"FLO{}\".format(i):val for i,val in enumerate(p)}\n",
    "    All_optional_pols.append(tmp)"
   ]
  },
  {
   "cell_type": "code",
   "execution_count": 9,
   "metadata": {},
   "outputs": [],
   "source": [
    "# Evaluate all optional policies with best estimate values\n",
    "Perfect_Info_Results = []\n",
    "for policy in All_optional_pols:\n",
    "    Perfect_Info_Results.append(\n",
    "        FL_model(\n",
    "            unit_opening_costs=Fix_Unc.best_estimate['unit_opening_costs'],\n",
    "            unit_transport_cost=Fix_Unc.best_estimate['unit_transport_cost'],\n",
    "            FL_operations_cost=Fix_Unc.best_estimate['FL_operations_cost'],\n",
    "            demand_per_affected=Fix_Unc.best_estimate['demand_per_affected'],\n",
    "            graphical_representation=False,\n",
    "            FL_range=Fix_Unc.best_estimate['FL_range'],\n",
    "            dist_method='from_table',\n",
    "            table_dir=\"{}/Prepared Input Data/routing_table.csv\".format(case),\n",
    "            **SPX,\n",
    "            **SPY,\n",
    "            **DPX,\n",
    "            **DPY,\n",
    "            **FLX,\n",
    "            **FLY,\n",
    "            **policy,\n",
    "            **DSRDP,\n",
    "            **DSRFL,\n",
    "            **DPpop))"
   ]
  },
  {
   "cell_type": "markdown",
   "metadata": {},
   "source": [
    "### Find Pareto Front for Perfect Infomration"
   ]
  },
  {
   "cell_type": "code",
   "execution_count": 10,
   "metadata": {},
   "outputs": [
    {
     "name": "stdout",
     "output_type": "stream",
     "text": [
      "There are 1494 solutions remaining after filtering for the constraint\n"
     ]
    },
    {
     "data": {
      "text/html": [
       "<div>\n",
       "<style scoped>\n",
       "    .dataframe tbody tr th:only-of-type {\n",
       "        vertical-align: middle;\n",
       "    }\n",
       "\n",
       "    .dataframe tbody tr th {\n",
       "        vertical-align: top;\n",
       "    }\n",
       "\n",
       "    .dataframe thead th {\n",
       "        text-align: right;\n",
       "    }\n",
       "</style>\n",
       "<table border=\"1\" class=\"dataframe\">\n",
       "  <thead>\n",
       "    <tr style=\"text-align: right;\">\n",
       "      <th></th>\n",
       "      <th>total_costs</th>\n",
       "      <th>nr_uncovered_DPs</th>\n",
       "      <th>total_uncovered_demand</th>\n",
       "      <th>max_travel_time</th>\n",
       "      <th>constraint</th>\n",
       "    </tr>\n",
       "  </thead>\n",
       "  <tbody>\n",
       "    <tr>\n",
       "      <th>3</th>\n",
       "      <td>47450.1</td>\n",
       "      <td>21</td>\n",
       "      <td>14245.9</td>\n",
       "      <td>60234</td>\n",
       "      <td>True</td>\n",
       "    </tr>\n",
       "    <tr>\n",
       "      <th>7</th>\n",
       "      <td>29812.6</td>\n",
       "      <td>23</td>\n",
       "      <td>15821.2</td>\n",
       "      <td>59777.4</td>\n",
       "      <td>True</td>\n",
       "    </tr>\n",
       "    <tr>\n",
       "      <th>10</th>\n",
       "      <td>46581.4</td>\n",
       "      <td>22</td>\n",
       "      <td>14259.1</td>\n",
       "      <td>59777.4</td>\n",
       "      <td>True</td>\n",
       "    </tr>\n",
       "    <tr>\n",
       "      <th>12</th>\n",
       "      <td>47386.8</td>\n",
       "      <td>21</td>\n",
       "      <td>14245.9</td>\n",
       "      <td>59777.4</td>\n",
       "      <td>True</td>\n",
       "    </tr>\n",
       "    <tr>\n",
       "      <th>14</th>\n",
       "      <td>43289.6</td>\n",
       "      <td>22</td>\n",
       "      <td>14391.7</td>\n",
       "      <td>79058</td>\n",
       "      <td>True</td>\n",
       "    </tr>\n",
       "  </tbody>\n",
       "</table>\n",
       "</div>"
      ],
      "text/plain": [
       "   total_costs nr_uncovered_DPs total_uncovered_demand max_travel_time  \\\n",
       "3      47450.1               21                14245.9           60234   \n",
       "7      29812.6               23                15821.2         59777.4   \n",
       "10     46581.4               22                14259.1         59777.4   \n",
       "12     47386.8               21                14245.9         59777.4   \n",
       "14     43289.6               22                14391.7           79058   \n",
       "\n",
       "   constraint  \n",
       "3        True  \n",
       "7        True  \n",
       "10       True  \n",
       "12       True  \n",
       "14       True  "
      ]
     },
     "execution_count": 10,
     "metadata": {},
     "output_type": "execute_result"
    }
   ],
   "source": [
    "#Filter out those where the constraint is not satisfied\n",
    "\n",
    "# outcome indicators, as internally used by the model\n",
    "oois = [\n",
    "    'total_costs', 'nr_uncovered_DPs', 'total_uncovered_demand',\n",
    "    'max_travel_time'\n",
    "]\n",
    "# Put outcomes in DF\n",
    "\n",
    "DF_Perfect_Info_Results = pd.DataFrame(\n",
    "    np.asarray(Perfect_Info_Results)[:, :5], columns=oois + [\"constraint\"])\n",
    "# DF_Perfect_Info_Results.tail()\n",
    "\n",
    "DF_Perfect_Info_Results_filtered = DF_Perfect_Info_Results[\n",
    "    DF_Perfect_Info_Results.constraint]\n",
    "print(\"There are {} solutions remaining after filtering for the constraint\".\n",
    "      format(DF_Perfect_Info_Results_filtered.shape[0]))\n",
    "DF_Perfect_Info_Results_filtered.head()"
   ]
  },
  {
   "cell_type": "code",
   "execution_count": 13,
   "metadata": {
    "scrolled": true
   },
   "outputs": [
    {
     "name": "stdout",
     "output_type": "stream",
     "text": [
      "There are 72 solutions in the pareto front for Perfect Information\n"
     ]
    }
   ],
   "source": [
    "# Get Pareto Front by NonDominated Sorting\n",
    "PF_MOO = np.array(pareto.eps_sort(\n",
    "    [list(DF_Perfect_Info_Results_filtered.itertuples(index=True))], [1, 2, 3, 4],\n",
    "    [1e-9, 1e-9, 1e-9, 1e-9]))\n",
    "\n",
    "DF_PF_MOO = pd.DataFrame(PF_MOO).set_index(0)\n",
    "print(\"There are {} solutions in the pareto front for Perfect Information\".\n",
    "      format(DF_PF_MOO.shape[0]))"
   ]
  },
  {
   "cell_type": "code",
   "execution_count": 14,
   "metadata": {},
   "outputs": [
    {
     "data": {
      "text/html": [
       "<div>\n",
       "<style scoped>\n",
       "    .dataframe tbody tr th:only-of-type {\n",
       "        vertical-align: middle;\n",
       "    }\n",
       "\n",
       "    .dataframe tbody tr th {\n",
       "        vertical-align: top;\n",
       "    }\n",
       "\n",
       "    .dataframe thead th {\n",
       "        text-align: right;\n",
       "    }\n",
       "</style>\n",
       "<table border=\"1\" class=\"dataframe\">\n",
       "  <thead>\n",
       "    <tr style=\"text-align: right;\">\n",
       "      <th></th>\n",
       "      <th>1</th>\n",
       "      <th>2</th>\n",
       "      <th>3</th>\n",
       "      <th>4</th>\n",
       "      <th>5</th>\n",
       "    </tr>\n",
       "    <tr>\n",
       "      <th>0</th>\n",
       "      <th></th>\n",
       "      <th></th>\n",
       "      <th></th>\n",
       "      <th></th>\n",
       "      <th></th>\n",
       "    </tr>\n",
       "  </thead>\n",
       "  <tbody>\n",
       "    <tr>\n",
       "      <th>12.0</th>\n",
       "      <td>47386.756619</td>\n",
       "      <td>21.0</td>\n",
       "      <td>14245.853058</td>\n",
       "      <td>59777.420000</td>\n",
       "      <td>1.0</td>\n",
       "    </tr>\n",
       "    <tr>\n",
       "      <th>48.0</th>\n",
       "      <td>210170.847036</td>\n",
       "      <td>14.0</td>\n",
       "      <td>4799.795364</td>\n",
       "      <td>45920.157395</td>\n",
       "      <td>1.0</td>\n",
       "    </tr>\n",
       "    <tr>\n",
       "      <th>51.0</th>\n",
       "      <td>226939.584329</td>\n",
       "      <td>13.0</td>\n",
       "      <td>3237.671494</td>\n",
       "      <td>45920.157395</td>\n",
       "      <td>1.0</td>\n",
       "    </tr>\n",
       "    <tr>\n",
       "      <th>58.0</th>\n",
       "      <td>222228.415819</td>\n",
       "      <td>12.0</td>\n",
       "      <td>4072.727679</td>\n",
       "      <td>45920.157395</td>\n",
       "      <td>1.0</td>\n",
       "    </tr>\n",
       "    <tr>\n",
       "      <th>93.0</th>\n",
       "      <td>65039.834230</td>\n",
       "      <td>17.0</td>\n",
       "      <td>12247.090789</td>\n",
       "      <td>45920.157395</td>\n",
       "      <td>1.0</td>\n",
       "    </tr>\n",
       "    <tr>\n",
       "      <th>123.0</th>\n",
       "      <td>229031.638499</td>\n",
       "      <td>10.0</td>\n",
       "      <td>2636.069728</td>\n",
       "      <td>70583.514874</td>\n",
       "      <td>1.0</td>\n",
       "    </tr>\n",
       "    <tr>\n",
       "      <th>343.0</th>\n",
       "      <td>48587.279053</td>\n",
       "      <td>19.0</td>\n",
       "      <td>13826.145849</td>\n",
       "      <td>59777.420000</td>\n",
       "      <td>1.0</td>\n",
       "    </tr>\n",
       "    <tr>\n",
       "      <th>368.0</th>\n",
       "      <td>231778.331142</td>\n",
       "      <td>10.0</td>\n",
       "      <td>2804.762692</td>\n",
       "      <td>45920.157395</td>\n",
       "      <td>1.0</td>\n",
       "    </tr>\n",
       "    <tr>\n",
       "      <th>375.0</th>\n",
       "      <td>228140.106763</td>\n",
       "      <td>11.0</td>\n",
       "      <td>2817.964284</td>\n",
       "      <td>45920.157395</td>\n",
       "      <td>1.0</td>\n",
       "    </tr>\n",
       "    <tr>\n",
       "      <th>378.0</th>\n",
       "      <td>224848.319738</td>\n",
       "      <td>11.0</td>\n",
       "      <td>2950.652407</td>\n",
       "      <td>70488.224518</td>\n",
       "      <td>1.0</td>\n",
       "    </tr>\n",
       "    <tr>\n",
       "      <th>383.0</th>\n",
       "      <td>233298.411722</td>\n",
       "      <td>10.0</td>\n",
       "      <td>2636.069728</td>\n",
       "      <td>70488.224518</td>\n",
       "      <td>1.0</td>\n",
       "    </tr>\n",
       "    <tr>\n",
       "      <th>514.0</th>\n",
       "      <td>89273.824001</td>\n",
       "      <td>16.0</td>\n",
       "      <td>11988.897952</td>\n",
       "      <td>59777.420000</td>\n",
       "      <td>1.0</td>\n",
       "    </tr>\n",
       "    <tr>\n",
       "      <th>518.0</th>\n",
       "      <td>100123.678933</td>\n",
       "      <td>14.0</td>\n",
       "      <td>11426.793634</td>\n",
       "      <td>45070.660000</td>\n",
       "      <td>1.0</td>\n",
       "    </tr>\n",
       "    <tr>\n",
       "      <th>533.0</th>\n",
       "      <td>258987.925823</td>\n",
       "      <td>8.0</td>\n",
       "      <td>2396.950542</td>\n",
       "      <td>27851.337183</td>\n",
       "      <td>1.0</td>\n",
       "    </tr>\n",
       "    <tr>\n",
       "      <th>540.0</th>\n",
       "      <td>255349.701444</td>\n",
       "      <td>9.0</td>\n",
       "      <td>2410.152135</td>\n",
       "      <td>27851.337183</td>\n",
       "      <td>1.0</td>\n",
       "    </tr>\n",
       "    <tr>\n",
       "      <th>543.0</th>\n",
       "      <td>252057.914419</td>\n",
       "      <td>9.0</td>\n",
       "      <td>2542.840257</td>\n",
       "      <td>53409.117993</td>\n",
       "      <td>1.0</td>\n",
       "    </tr>\n",
       "    <tr>\n",
       "      <th>544.0</th>\n",
       "      <td>268826.651711</td>\n",
       "      <td>8.0</td>\n",
       "      <td>980.716387</td>\n",
       "      <td>53409.117993</td>\n",
       "      <td>1.0</td>\n",
       "    </tr>\n",
       "    <tr>\n",
       "      <th>545.0</th>\n",
       "      <td>406020.441480</td>\n",
       "      <td>7.0</td>\n",
       "      <td>1683.084450</td>\n",
       "      <td>33886.375193</td>\n",
       "      <td>1.0</td>\n",
       "    </tr>\n",
       "    <tr>\n",
       "      <th>548.0</th>\n",
       "      <td>264115.483202</td>\n",
       "      <td>7.0</td>\n",
       "      <td>1815.772573</td>\n",
       "      <td>53409.117993</td>\n",
       "      <td>1.0</td>\n",
       "    </tr>\n",
       "    <tr>\n",
       "      <th>554.0</th>\n",
       "      <td>98921.121081</td>\n",
       "      <td>13.0</td>\n",
       "      <td>11423.301027</td>\n",
       "      <td>52977.890000</td>\n",
       "      <td>1.0</td>\n",
       "    </tr>\n",
       "    <tr>\n",
       "      <th>566.0</th>\n",
       "      <td>248831.859891</td>\n",
       "      <td>12.0</td>\n",
       "      <td>9857.447559</td>\n",
       "      <td>45070.660000</td>\n",
       "      <td>1.0</td>\n",
       "    </tr>\n",
       "    <tr>\n",
       "      <th>569.0</th>\n",
       "      <td>106926.901613</td>\n",
       "      <td>12.0</td>\n",
       "      <td>9990.135682</td>\n",
       "      <td>53409.117993</td>\n",
       "      <td>1.0</td>\n",
       "    </tr>\n",
       "    <tr>\n",
       "      <th>572.0</th>\n",
       "      <td>425579.355170</td>\n",
       "      <td>5.0</td>\n",
       "      <td>415.119463</td>\n",
       "      <td>33886.375193</td>\n",
       "      <td>1.0</td>\n",
       "    </tr>\n",
       "    <tr>\n",
       "      <th>578.0</th>\n",
       "      <td>412823.664159</td>\n",
       "      <td>5.0</td>\n",
       "      <td>246.426498</td>\n",
       "      <td>53409.117993</td>\n",
       "      <td>1.0</td>\n",
       "    </tr>\n",
       "    <tr>\n",
       "      <th>636.0</th>\n",
       "      <td>234875.193522</td>\n",
       "      <td>19.0</td>\n",
       "      <td>24460.087149</td>\n",
       "      <td>43040.741439</td>\n",
       "      <td>1.0</td>\n",
       "    </tr>\n",
       "    <tr>\n",
       "      <th>663.0</th>\n",
       "      <td>97404.357840</td>\n",
       "      <td>13.0</td>\n",
       "      <td>11423.301027</td>\n",
       "      <td>61178.670000</td>\n",
       "      <td>1.0</td>\n",
       "    </tr>\n",
       "    <tr>\n",
       "      <th>670.0</th>\n",
       "      <td>93766.133460</td>\n",
       "      <td>14.0</td>\n",
       "      <td>11436.502620</td>\n",
       "      <td>59777.420000</td>\n",
       "      <td>1.0</td>\n",
       "    </tr>\n",
       "    <tr>\n",
       "      <th>673.0</th>\n",
       "      <td>90474.346436</td>\n",
       "      <td>14.0</td>\n",
       "      <td>11569.190742</td>\n",
       "      <td>59777.420000</td>\n",
       "      <td>1.0</td>\n",
       "    </tr>\n",
       "    <tr>\n",
       "      <th>681.0</th>\n",
       "      <td>254010.006208</td>\n",
       "      <td>14.0</td>\n",
       "      <td>21653.465661</td>\n",
       "      <td>33886.375193</td>\n",
       "      <td>1.0</td>\n",
       "    </tr>\n",
       "    <tr>\n",
       "      <th>684.0</th>\n",
       "      <td>273665.398525</td>\n",
       "      <td>5.0</td>\n",
       "      <td>547.807586</td>\n",
       "      <td>53409.117993</td>\n",
       "      <td>1.0</td>\n",
       "    </tr>\n",
       "    <tr>\n",
       "      <th>...</th>\n",
       "      <td>...</td>\n",
       "      <td>...</td>\n",
       "      <td>...</td>\n",
       "      <td>...</td>\n",
       "      <td>...</td>\n",
       "    </tr>\n",
       "    <tr>\n",
       "      <th>1865.0</th>\n",
       "      <td>209223.027573</td>\n",
       "      <td>15.0</td>\n",
       "      <td>4812.996956</td>\n",
       "      <td>45920.157395</td>\n",
       "      <td>1.0</td>\n",
       "    </tr>\n",
       "    <tr>\n",
       "      <th>1868.0</th>\n",
       "      <td>205931.240549</td>\n",
       "      <td>15.0</td>\n",
       "      <td>4945.685079</td>\n",
       "      <td>84487.954937</td>\n",
       "      <td>1.0</td>\n",
       "    </tr>\n",
       "    <tr>\n",
       "      <th>1869.0</th>\n",
       "      <td>222699.977841</td>\n",
       "      <td>14.0</td>\n",
       "      <td>3383.561209</td>\n",
       "      <td>79057.995028</td>\n",
       "      <td>1.0</td>\n",
       "    </tr>\n",
       "    <tr>\n",
       "      <th>1870.0</th>\n",
       "      <td>219043.624786</td>\n",
       "      <td>13.0</td>\n",
       "      <td>4085.929272</td>\n",
       "      <td>45920.157395</td>\n",
       "      <td>1.0</td>\n",
       "    </tr>\n",
       "    <tr>\n",
       "      <th>1873.0</th>\n",
       "      <td>215494.074630</td>\n",
       "      <td>13.0</td>\n",
       "      <td>4218.617394</td>\n",
       "      <td>78425.288270</td>\n",
       "      <td>1.0</td>\n",
       "    </tr>\n",
       "    <tr>\n",
       "      <th>1875.0</th>\n",
       "      <td>215156.183035</td>\n",
       "      <td>14.0</td>\n",
       "      <td>4231.818987</td>\n",
       "      <td>78425.288270</td>\n",
       "      <td>1.0</td>\n",
       "    </tr>\n",
       "    <tr>\n",
       "      <th>1879.0</th>\n",
       "      <td>50299.712509</td>\n",
       "      <td>19.0</td>\n",
       "      <td>13826.145849</td>\n",
       "      <td>52977.890000</td>\n",
       "      <td>1.0</td>\n",
       "    </tr>\n",
       "    <tr>\n",
       "      <th>1886.0</th>\n",
       "      <td>49961.820915</td>\n",
       "      <td>20.0</td>\n",
       "      <td>13839.347441</td>\n",
       "      <td>52977.890000</td>\n",
       "      <td>1.0</td>\n",
       "    </tr>\n",
       "    <tr>\n",
       "      <th>1891.0</th>\n",
       "      <td>61855.043197</td>\n",
       "      <td>18.0</td>\n",
       "      <td>12260.292381</td>\n",
       "      <td>45920.157395</td>\n",
       "      <td>1.0</td>\n",
       "    </tr>\n",
       "    <tr>\n",
       "      <th>1894.0</th>\n",
       "      <td>58305.493041</td>\n",
       "      <td>18.0</td>\n",
       "      <td>12392.980504</td>\n",
       "      <td>70583.514874</td>\n",
       "      <td>1.0</td>\n",
       "    </tr>\n",
       "    <tr>\n",
       "      <th>1896.0</th>\n",
       "      <td>57967.601446</td>\n",
       "      <td>19.0</td>\n",
       "      <td>12406.182096</td>\n",
       "      <td>70583.514874</td>\n",
       "      <td>1.0</td>\n",
       "    </tr>\n",
       "    <tr>\n",
       "      <th>1903.0</th>\n",
       "      <td>225846.847466</td>\n",
       "      <td>11.0</td>\n",
       "      <td>2649.271320</td>\n",
       "      <td>70583.514874</td>\n",
       "      <td>1.0</td>\n",
       "    </tr>\n",
       "    <tr>\n",
       "      <th>1995.0</th>\n",
       "      <td>47639.459590</td>\n",
       "      <td>20.0</td>\n",
       "      <td>13839.347441</td>\n",
       "      <td>59777.420000</td>\n",
       "      <td>1.0</td>\n",
       "    </tr>\n",
       "    <tr>\n",
       "      <th>1998.0</th>\n",
       "      <td>44347.672565</td>\n",
       "      <td>20.0</td>\n",
       "      <td>13972.035564</td>\n",
       "      <td>70488.224518</td>\n",
       "      <td>1.0</td>\n",
       "    </tr>\n",
       "    <tr>\n",
       "      <th>2011.0</th>\n",
       "      <td>223900.500275</td>\n",
       "      <td>12.0</td>\n",
       "      <td>2963.854000</td>\n",
       "      <td>70488.224518</td>\n",
       "      <td>1.0</td>\n",
       "    </tr>\n",
       "    <tr>\n",
       "      <th>2012.0</th>\n",
       "      <td>230113.620689</td>\n",
       "      <td>11.0</td>\n",
       "      <td>2649.271320</td>\n",
       "      <td>70488.224518</td>\n",
       "      <td>1.0</td>\n",
       "    </tr>\n",
       "    <tr>\n",
       "      <th>2019.0</th>\n",
       "      <td>60851.475156</td>\n",
       "      <td>19.0</td>\n",
       "      <td>12406.182096</td>\n",
       "      <td>70488.224518</td>\n",
       "      <td>1.0</td>\n",
       "    </tr>\n",
       "    <tr>\n",
       "      <th>2049.0</th>\n",
       "      <td>89154.318339</td>\n",
       "      <td>16.0</td>\n",
       "      <td>11988.897952</td>\n",
       "      <td>60499.990000</td>\n",
       "      <td>1.0</td>\n",
       "    </tr>\n",
       "    <tr>\n",
       "      <th>2054.0</th>\n",
       "      <td>88326.004538</td>\n",
       "      <td>17.0</td>\n",
       "      <td>12002.099544</td>\n",
       "      <td>59777.420000</td>\n",
       "      <td>1.0</td>\n",
       "    </tr>\n",
       "    <tr>\n",
       "      <th>2055.0</th>\n",
       "      <td>96938.887901</td>\n",
       "      <td>15.0</td>\n",
       "      <td>11439.995226</td>\n",
       "      <td>45070.660000</td>\n",
       "      <td>1.0</td>\n",
       "    </tr>\n",
       "    <tr>\n",
       "      <th>2066.0</th>\n",
       "      <td>251110.094956</td>\n",
       "      <td>10.0</td>\n",
       "      <td>2556.041850</td>\n",
       "      <td>53409.117993</td>\n",
       "      <td>1.0</td>\n",
       "    </tr>\n",
       "    <tr>\n",
       "      <th>2067.0</th>\n",
       "      <td>260930.692169</td>\n",
       "      <td>8.0</td>\n",
       "      <td>1828.974165</td>\n",
       "      <td>53409.117993</td>\n",
       "      <td>1.0</td>\n",
       "    </tr>\n",
       "    <tr>\n",
       "      <th>2068.0</th>\n",
       "      <td>95736.330048</td>\n",
       "      <td>14.0</td>\n",
       "      <td>11436.502620</td>\n",
       "      <td>52977.890000</td>\n",
       "      <td>1.0</td>\n",
       "    </tr>\n",
       "    <tr>\n",
       "      <th>2071.0</th>\n",
       "      <td>92186.779892</td>\n",
       "      <td>14.0</td>\n",
       "      <td>11569.190742</td>\n",
       "      <td>53409.117993</td>\n",
       "      <td>1.0</td>\n",
       "    </tr>\n",
       "    <tr>\n",
       "      <th>2073.0</th>\n",
       "      <td>91848.888297</td>\n",
       "      <td>15.0</td>\n",
       "      <td>11582.392335</td>\n",
       "      <td>53409.117993</td>\n",
       "      <td>1.0</td>\n",
       "    </tr>\n",
       "    <tr>\n",
       "      <th>2074.0</th>\n",
       "      <td>103742.110580</td>\n",
       "      <td>13.0</td>\n",
       "      <td>10003.337274</td>\n",
       "      <td>53409.117993</td>\n",
       "      <td>1.0</td>\n",
       "    </tr>\n",
       "    <tr>\n",
       "      <th>2100.0</th>\n",
       "      <td>89526.526972</td>\n",
       "      <td>15.0</td>\n",
       "      <td>11582.392335</td>\n",
       "      <td>59777.420000</td>\n",
       "      <td>1.0</td>\n",
       "    </tr>\n",
       "    <tr>\n",
       "      <th>2309.0</th>\n",
       "      <td>84621.144132</td>\n",
       "      <td>18.0</td>\n",
       "      <td>11555.693899</td>\n",
       "      <td>70583.514874</td>\n",
       "      <td>1.0</td>\n",
       "    </tr>\n",
       "    <tr>\n",
       "      <th>2336.0</th>\n",
       "      <td>88887.917355</td>\n",
       "      <td>18.0</td>\n",
       "      <td>11555.693899</td>\n",
       "      <td>70488.224518</td>\n",
       "      <td>1.0</td>\n",
       "    </tr>\n",
       "    <tr>\n",
       "      <th>3633.0</th>\n",
       "      <td>26690.850496</td>\n",
       "      <td>24.0</td>\n",
       "      <td>15967.068236</td>\n",
       "      <td>84487.954937</td>\n",
       "      <td>1.0</td>\n",
       "    </tr>\n",
       "  </tbody>\n",
       "</table>\n",
       "<p>72 rows × 5 columns</p>\n",
       "</div>"
      ],
      "text/plain": [
       "                    1     2             3             4    5\n",
       "0                                                           \n",
       "12.0     47386.756619  21.0  14245.853058  59777.420000  1.0\n",
       "48.0    210170.847036  14.0   4799.795364  45920.157395  1.0\n",
       "51.0    226939.584329  13.0   3237.671494  45920.157395  1.0\n",
       "58.0    222228.415819  12.0   4072.727679  45920.157395  1.0\n",
       "93.0     65039.834230  17.0  12247.090789  45920.157395  1.0\n",
       "123.0   229031.638499  10.0   2636.069728  70583.514874  1.0\n",
       "343.0    48587.279053  19.0  13826.145849  59777.420000  1.0\n",
       "368.0   231778.331142  10.0   2804.762692  45920.157395  1.0\n",
       "375.0   228140.106763  11.0   2817.964284  45920.157395  1.0\n",
       "378.0   224848.319738  11.0   2950.652407  70488.224518  1.0\n",
       "383.0   233298.411722  10.0   2636.069728  70488.224518  1.0\n",
       "514.0    89273.824001  16.0  11988.897952  59777.420000  1.0\n",
       "518.0   100123.678933  14.0  11426.793634  45070.660000  1.0\n",
       "533.0   258987.925823   8.0   2396.950542  27851.337183  1.0\n",
       "540.0   255349.701444   9.0   2410.152135  27851.337183  1.0\n",
       "543.0   252057.914419   9.0   2542.840257  53409.117993  1.0\n",
       "544.0   268826.651711   8.0    980.716387  53409.117993  1.0\n",
       "545.0   406020.441480   7.0   1683.084450  33886.375193  1.0\n",
       "548.0   264115.483202   7.0   1815.772573  53409.117993  1.0\n",
       "554.0    98921.121081  13.0  11423.301027  52977.890000  1.0\n",
       "566.0   248831.859891  12.0   9857.447559  45070.660000  1.0\n",
       "569.0   106926.901613  12.0   9990.135682  53409.117993  1.0\n",
       "572.0   425579.355170   5.0    415.119463  33886.375193  1.0\n",
       "578.0   412823.664159   5.0    246.426498  53409.117993  1.0\n",
       "636.0   234875.193522  19.0  24460.087149  43040.741439  1.0\n",
       "663.0    97404.357840  13.0  11423.301027  61178.670000  1.0\n",
       "670.0    93766.133460  14.0  11436.502620  59777.420000  1.0\n",
       "673.0    90474.346436  14.0  11569.190742  59777.420000  1.0\n",
       "681.0   254010.006208  14.0  21653.465661  33886.375193  1.0\n",
       "684.0   273665.398525   5.0    547.807586  53409.117993  1.0\n",
       "...               ...   ...           ...           ...  ...\n",
       "1865.0  209223.027573  15.0   4812.996956  45920.157395  1.0\n",
       "1868.0  205931.240549  15.0   4945.685079  84487.954937  1.0\n",
       "1869.0  222699.977841  14.0   3383.561209  79057.995028  1.0\n",
       "1870.0  219043.624786  13.0   4085.929272  45920.157395  1.0\n",
       "1873.0  215494.074630  13.0   4218.617394  78425.288270  1.0\n",
       "1875.0  215156.183035  14.0   4231.818987  78425.288270  1.0\n",
       "1879.0   50299.712509  19.0  13826.145849  52977.890000  1.0\n",
       "1886.0   49961.820915  20.0  13839.347441  52977.890000  1.0\n",
       "1891.0   61855.043197  18.0  12260.292381  45920.157395  1.0\n",
       "1894.0   58305.493041  18.0  12392.980504  70583.514874  1.0\n",
       "1896.0   57967.601446  19.0  12406.182096  70583.514874  1.0\n",
       "1903.0  225846.847466  11.0   2649.271320  70583.514874  1.0\n",
       "1995.0   47639.459590  20.0  13839.347441  59777.420000  1.0\n",
       "1998.0   44347.672565  20.0  13972.035564  70488.224518  1.0\n",
       "2011.0  223900.500275  12.0   2963.854000  70488.224518  1.0\n",
       "2012.0  230113.620689  11.0   2649.271320  70488.224518  1.0\n",
       "2019.0   60851.475156  19.0  12406.182096  70488.224518  1.0\n",
       "2049.0   89154.318339  16.0  11988.897952  60499.990000  1.0\n",
       "2054.0   88326.004538  17.0  12002.099544  59777.420000  1.0\n",
       "2055.0   96938.887901  15.0  11439.995226  45070.660000  1.0\n",
       "2066.0  251110.094956  10.0   2556.041850  53409.117993  1.0\n",
       "2067.0  260930.692169   8.0   1828.974165  53409.117993  1.0\n",
       "2068.0   95736.330048  14.0  11436.502620  52977.890000  1.0\n",
       "2071.0   92186.779892  14.0  11569.190742  53409.117993  1.0\n",
       "2073.0   91848.888297  15.0  11582.392335  53409.117993  1.0\n",
       "2074.0  103742.110580  13.0  10003.337274  53409.117993  1.0\n",
       "2100.0   89526.526972  15.0  11582.392335  59777.420000  1.0\n",
       "2309.0   84621.144132  18.0  11555.693899  70583.514874  1.0\n",
       "2336.0   88887.917355  18.0  11555.693899  70488.224518  1.0\n",
       "3633.0   26690.850496  24.0  15967.068236  84487.954937  1.0\n",
       "\n",
       "[72 rows x 5 columns]"
      ]
     },
     "execution_count": 14,
     "metadata": {},
     "output_type": "execute_result"
    }
   ],
   "source": [
    "DF_PF_MOO"
   ]
  },
  {
   "cell_type": "markdown",
   "metadata": {},
   "source": [
    "## Load mpmordm results"
   ]
  },
  {
   "cell_type": "code",
   "execution_count": 15,
   "metadata": {},
   "outputs": [],
   "source": [
    "with open('{}/{}/python_objects.pickle'.format(case, output_folder),\n",
    "          'rb') as handle:\n",
    "    global_label_tree, EMA_model_dict, global_dfs_var_unc_data, global_fixed_unc, global_policy_tree = pickle.load(\n",
    "        handle)"
   ]
  },
  {
   "cell_type": "markdown",
   "metadata": {},
   "source": [
    "## Reevaluate MPMORDM results for perfect information"
   ]
  },
  {
   "cell_type": "code",
   "execution_count": 16,
   "metadata": {},
   "outputs": [],
   "source": [
    "p4_labels = global_label_tree['p4']"
   ]
  },
  {
   "cell_type": "code",
   "execution_count": 17,
   "metadata": {},
   "outputs": [],
   "source": [
    "p4_pols = [global_policy_tree[label] for label in p4_labels]"
   ]
  },
  {
   "cell_type": "code",
   "execution_count": 18,
   "metadata": {},
   "outputs": [
    {
     "name": "stdout",
     "output_type": "stream",
     "text": [
      "P4 after Multi-Period Robust Optimisation contains 1376 number of policies\n"
     ]
    }
   ],
   "source": [
    "print(\"P4 after Multi-Period Robust Optimisation contains {} number of policies\".format(len(p4_pols)))"
   ]
  },
  {
   "cell_type": "code",
   "execution_count": 19,
   "metadata": {},
   "outputs": [],
   "source": [
    "# Filter to find only unique policies"
   ]
  },
  {
   "cell_type": "code",
   "execution_count": 20,
   "metadata": {},
   "outputs": [
    {
     "name": "stdout",
     "output_type": "stream",
     "text": [
      "Of all 1376 policies, 207 are unique, the rest are duplicates\n"
     ]
    }
   ],
   "source": [
    "p4_FLs = np.array([[int(key[3:]) for key, value in pol.items() if value == 1]\n",
    "                   for pol in p4_pols])\n",
    "p4_FLs = np.unique(p4_FLs, axis=0)\n",
    "print(\"Of all {} policies, {} are unique, the rest are duplicates\".format(\n",
    "    len(p4_pols), p4_FLs.shape[0]))"
   ]
  },
  {
   "cell_type": "code",
   "execution_count": 21,
   "metadata": {},
   "outputs": [],
   "source": [
    "p4_pols_unique = [{\n",
    "    \"FLO{}\".format(i): 1 if i in p4_FLs[j] else 0\n",
    "    for i in range(len(p4_pols[0].keys()))\n",
    "} for j in range(len(p4_FLs))]"
   ]
  },
  {
   "cell_type": "code",
   "execution_count": 27,
   "metadata": {},
   "outputs": [],
   "source": [
    "# Evaluate all unique policies with best estimate values\n",
    "MPMORDMpols_for_real_values_results = []\n",
    "# for policy in p4_pols_unique:\n",
    "for policy in p4_pols:    \n",
    "    MPMORDMpols_for_real_values_results.append(\n",
    "        FL_model(\n",
    "            unit_opening_costs=Fix_Unc.best_estimate['unit_opening_costs'],\n",
    "            unit_transport_cost=Fix_Unc.best_estimate['unit_transport_cost'],\n",
    "            FL_operations_cost=Fix_Unc.best_estimate['FL_operations_cost'],\n",
    "            demand_per_affected=Fix_Unc.best_estimate['demand_per_affected'],\n",
    "            graphical_representation=False,\n",
    "            FL_range=Fix_Unc.best_estimate['FL_range'],\n",
    "            dist_method='from_table',\n",
    "            table_dir=\"{}/Prepared Input Data/routing_table.csv\".format(case),\n",
    "            **SPX,\n",
    "            **SPY,\n",
    "            **DPX,\n",
    "            **DPY,\n",
    "            **FLX,\n",
    "            **FLY,\n",
    "            **policy,\n",
    "            **DSRDP,\n",
    "            **DSRFL,\n",
    "            **DPpop))"
   ]
  },
  {
   "cell_type": "markdown",
   "metadata": {},
   "source": [
    "### Pareto Front MPMORDM: Dynamic Uncertainty "
   ]
  },
  {
   "cell_type": "code",
   "execution_count": 28,
   "metadata": {},
   "outputs": [
    {
     "name": "stdout",
     "output_type": "stream",
     "text": [
      "There are 1376 solutions remaining after filtering for the constraint\n"
     ]
    },
    {
     "data": {
      "text/html": [
       "<div>\n",
       "<style scoped>\n",
       "    .dataframe tbody tr th:only-of-type {\n",
       "        vertical-align: middle;\n",
       "    }\n",
       "\n",
       "    .dataframe tbody tr th {\n",
       "        vertical-align: top;\n",
       "    }\n",
       "\n",
       "    .dataframe thead th {\n",
       "        text-align: right;\n",
       "    }\n",
       "</style>\n",
       "<table border=\"1\" class=\"dataframe\">\n",
       "  <thead>\n",
       "    <tr style=\"text-align: right;\">\n",
       "      <th></th>\n",
       "      <th>total_costs</th>\n",
       "      <th>nr_uncovered_DPs</th>\n",
       "      <th>total_uncovered_demand</th>\n",
       "      <th>max_travel_time</th>\n",
       "      <th>constraint</th>\n",
       "    </tr>\n",
       "  </thead>\n",
       "  <tbody>\n",
       "    <tr>\n",
       "      <th>0</th>\n",
       "      <td>118502</td>\n",
       "      <td>14</td>\n",
       "      <td>10731.9</td>\n",
       "      <td>53409.1</td>\n",
       "      <td>True</td>\n",
       "    </tr>\n",
       "    <tr>\n",
       "      <th>1</th>\n",
       "      <td>121687</td>\n",
       "      <td>13</td>\n",
       "      <td>10718.7</td>\n",
       "      <td>53409.1</td>\n",
       "      <td>True</td>\n",
       "    </tr>\n",
       "    <tr>\n",
       "      <th>2</th>\n",
       "      <td>272084</td>\n",
       "      <td>13</td>\n",
       "      <td>10586</td>\n",
       "      <td>40806.7</td>\n",
       "      <td>True</td>\n",
       "    </tr>\n",
       "    <tr>\n",
       "      <th>3</th>\n",
       "      <td>119705</td>\n",
       "      <td>15</td>\n",
       "      <td>10735.4</td>\n",
       "      <td>53409.1</td>\n",
       "      <td>True</td>\n",
       "    </tr>\n",
       "    <tr>\n",
       "      <th>4</th>\n",
       "      <td>122890</td>\n",
       "      <td>14</td>\n",
       "      <td>10722.2</td>\n",
       "      <td>53409.1</td>\n",
       "      <td>True</td>\n",
       "    </tr>\n",
       "  </tbody>\n",
       "</table>\n",
       "</div>"
      ],
      "text/plain": [
       "  total_costs nr_uncovered_DPs total_uncovered_demand max_travel_time  \\\n",
       "0      118502               14                10731.9         53409.1   \n",
       "1      121687               13                10718.7         53409.1   \n",
       "2      272084               13                  10586         40806.7   \n",
       "3      119705               15                10735.4         53409.1   \n",
       "4      122890               14                10722.2         53409.1   \n",
       "\n",
       "  constraint  \n",
       "0       True  \n",
       "1       True  \n",
       "2       True  \n",
       "3       True  \n",
       "4       True  "
      ]
     },
     "execution_count": 28,
     "metadata": {},
     "output_type": "execute_result"
    }
   ],
   "source": [
    "#Filter out those where the constraint is not satisfied\n",
    "\n",
    "# outcome indicators, as internally used by the model\n",
    "oois = [\n",
    "    'total_costs', 'nr_uncovered_DPs', 'total_uncovered_demand',\n",
    "    'max_travel_time'\n",
    "]\n",
    "# Put outcomes in DF\n",
    "\n",
    "DF_MPMORDMpols_for_real_values_results = pd.DataFrame(\n",
    "    np.asarray(MPMORDMpols_for_real_values_results)[:, :5], columns=oois + [\"constraint\"])\n",
    "\n",
    "\n",
    "DF_MPMORDMpols_for_real_values_results_filtered = DF_MPMORDMpols_for_real_values_results[\n",
    "    DF_MPMORDMpols_for_real_values_results.constraint]\n",
    "print(\"There are {} solutions remaining after filtering for the constraint\".\n",
    "      format(DF_MPMORDMpols_for_real_values_results_filtered.shape[0]))\n",
    "DF_MPMORDMpols_for_real_values_results_filtered.head()"
   ]
  },
  {
   "cell_type": "markdown",
   "metadata": {},
   "source": [
    "This is expected, because they already had to satisfy for the constraint during the mpmordm cycle"
   ]
  },
  {
   "cell_type": "code",
   "execution_count": 29,
   "metadata": {},
   "outputs": [
    {
     "name": "stdout",
     "output_type": "stream",
     "text": [
      "There are 68 solutions in the pareto front for Perfect Information\n"
     ]
    }
   ],
   "source": [
    "# Get Pareto Front by NonDominated Sorting\n",
    "PF_MPMORDM = np.array(pareto.eps_sort(\n",
    "    [list(DF_MPMORDMpols_for_real_values_results_filtered.itertuples(index=True))], [1, 2, 3, 4],\n",
    "    [1e-9, 1e-9, 1e-9, 1e-9]))\n",
    "\n",
    "DF_PF_MPMORDM = pd.DataFrame(PF_MPMORDM).set_index(0)\n",
    "print(\"There are {} solutions in the pareto front for Perfect Information\".\n",
    "      format(DF_PF_MPMORDM.shape[0]))"
   ]
  },
  {
   "cell_type": "code",
   "execution_count": null,
   "metadata": {},
   "outputs": [],
   "source": []
  },
  {
   "cell_type": "markdown",
   "metadata": {},
   "source": [
    "## Compare Pareto Fronts "
   ]
  },
  {
   "cell_type": "code",
   "execution_count": 30,
   "metadata": {},
   "outputs": [
    {
     "data": {
      "text/plain": [
       "(68, 5)"
      ]
     },
     "execution_count": 30,
     "metadata": {},
     "output_type": "execute_result"
    }
   ],
   "source": [
    "DF_PF_MPMORDM.shape"
   ]
  },
  {
   "cell_type": "code",
   "execution_count": 31,
   "metadata": {},
   "outputs": [
    {
     "data": {
      "text/plain": [
       "(72, 5)"
      ]
     },
     "execution_count": 31,
     "metadata": {},
     "output_type": "execute_result"
    }
   ],
   "source": [
    "DF_PF_MOO.shape"
   ]
  },
  {
   "cell_type": "code",
   "execution_count": null,
   "metadata": {},
   "outputs": [],
   "source": [
    "pg"
   ]
  },
  {
   "cell_type": "markdown",
   "metadata": {},
   "source": [
    "### Normalise Old"
   ]
  },
  {
   "cell_type": "code",
   "execution_count": 74,
   "metadata": {},
   "outputs": [],
   "source": [
    "def normalise_df (df):\n",
    "    df = df.iloc[:,:4]\n",
    "    normalised_df=(df-df.min())/(df.max()-df.min())\n",
    "    return normalised_df"
   ]
  },
  {
   "cell_type": "code",
   "execution_count": 105,
   "metadata": {},
   "outputs": [],
   "source": [
    "DF_PF_MOO_normalised = normalise_df(DF_PF_MOO.iloc[:,:4])"
   ]
  },
  {
   "cell_type": "code",
   "execution_count": 106,
   "metadata": {},
   "outputs": [],
   "source": [
    "DF_PF_MPMORDM_normalised = normalise_df(DF_PF_MPMORDM.iloc[:,:4])"
   ]
  },
  {
   "cell_type": "markdown",
   "metadata": {},
   "source": [
    "### Normalise New\n",
    "\n",
    "Was wrong, but Didn't make a difference as both min and max values were equal"
   ]
  },
  {
   "cell_type": "code",
   "execution_count": 94,
   "metadata": {},
   "outputs": [],
   "source": [
    "def normalise_dfs(df1,df2):\n",
    "    tmp = pd.DataFrame()\n",
    "    tmp1 = pd.DataFrame(df1.values)\n",
    "    tmp2 = pd.DataFrame(df2.values)\n",
    "    tmp = tmp1.append(tmp2)#.reset_index(drop=True)\n",
    "    \n",
    "    tmp_normalised = normalise_df(tmp)\n",
    "    tmp_normalised['dfname'] = tmp.iloc[:,4]\n",
    "    #set back to different dfs\n",
    "    df1_normalised = tmp_normalised[tmp_normalised.dfname == df1.dfname.iloc[0]]\n",
    "    df2_normalised = tmp_normalised[tmp_normalised.dfname == df2.dfname.iloc[0]]\n",
    "    #set back indexes\n",
    "    df1_normalised.index = df1.index\n",
    "    df2_normalised.index = df2.index\n",
    "    return df1_normalised,df2_normalised\n",
    "#     pass"
   ]
  },
  {
   "cell_type": "code",
   "execution_count": 60,
   "metadata": {},
   "outputs": [],
   "source": [
    "DF_PF_MOO['dfname'] = 'MOO'"
   ]
  },
  {
   "cell_type": "code",
   "execution_count": 113,
   "metadata": {},
   "outputs": [
    {
     "data": {
      "text/plain": [
       "total_costs               26690.9\n",
       "nr_uncovered_DPs                5\n",
       "total_uncovered_demand    246.426\n",
       "max_travel_time           27851.3\n",
       "dfname                        MOO\n",
       "dtype: object"
      ]
     },
     "execution_count": 113,
     "metadata": {},
     "output_type": "execute_result"
    }
   ],
   "source": [
    "DF_PF_MOO.min()"
   ]
  },
  {
   "cell_type": "code",
   "execution_count": 59,
   "metadata": {},
   "outputs": [],
   "source": [
    "DF_PF_MPMORDM['dfname'] = 'MPMORDM'"
   ]
  },
  {
   "cell_type": "code",
   "execution_count": 112,
   "metadata": {},
   "outputs": [
    {
     "data": {
      "text/plain": [
       "1         26690.9\n",
       "2               5\n",
       "3         246.426\n",
       "4         27851.3\n",
       "dfname    MPMORDM\n",
       "dtype: object"
      ]
     },
     "execution_count": 112,
     "metadata": {},
     "output_type": "execute_result"
    }
   ],
   "source": [
    "DF_PF_MPMORDM.min()"
   ]
  },
  {
   "cell_type": "code",
   "execution_count": 100,
   "metadata": {},
   "outputs": [
    {
     "data": {
      "text/html": [
       "<div>\n",
       "<style scoped>\n",
       "    .dataframe tbody tr th:only-of-type {\n",
       "        vertical-align: middle;\n",
       "    }\n",
       "\n",
       "    .dataframe tbody tr th {\n",
       "        vertical-align: top;\n",
       "    }\n",
       "\n",
       "    .dataframe thead th {\n",
       "        text-align: right;\n",
       "    }\n",
       "</style>\n",
       "<table border=\"1\" class=\"dataframe\">\n",
       "  <thead>\n",
       "    <tr style=\"text-align: right;\">\n",
       "      <th></th>\n",
       "      <th>1</th>\n",
       "      <th>2</th>\n",
       "      <th>3</th>\n",
       "      <th>4</th>\n",
       "      <th>dfname</th>\n",
       "    </tr>\n",
       "    <tr>\n",
       "      <th>0</th>\n",
       "      <th></th>\n",
       "      <th></th>\n",
       "      <th></th>\n",
       "      <th></th>\n",
       "      <th></th>\n",
       "    </tr>\n",
       "  </thead>\n",
       "  <tbody>\n",
       "    <tr>\n",
       "      <th>244.0</th>\n",
       "      <td>254010.006208</td>\n",
       "      <td>14.0</td>\n",
       "      <td>21653.465661</td>\n",
       "      <td>33886.375193</td>\n",
       "      <td>MPMORDM</td>\n",
       "    </tr>\n",
       "    <tr>\n",
       "      <th>530.0</th>\n",
       "      <td>103742.110580</td>\n",
       "      <td>13.0</td>\n",
       "      <td>10003.337274</td>\n",
       "      <td>53409.117993</td>\n",
       "      <td>MPMORDM</td>\n",
       "    </tr>\n",
       "    <tr>\n",
       "      <th>534.0</th>\n",
       "      <td>60851.475156</td>\n",
       "      <td>19.0</td>\n",
       "      <td>12406.182096</td>\n",
       "      <td>70488.224518</td>\n",
       "      <td>MPMORDM</td>\n",
       "    </tr>\n",
       "    <tr>\n",
       "      <th>560.0</th>\n",
       "      <td>260930.692169</td>\n",
       "      <td>8.0</td>\n",
       "      <td>1828.974165</td>\n",
       "      <td>53409.117993</td>\n",
       "      <td>MPMORDM</td>\n",
       "    </tr>\n",
       "    <tr>\n",
       "      <th>563.0</th>\n",
       "      <td>230113.620689</td>\n",
       "      <td>11.0</td>\n",
       "      <td>2649.271320</td>\n",
       "      <td>70488.224518</td>\n",
       "      <td>MPMORDM</td>\n",
       "    </tr>\n",
       "  </tbody>\n",
       "</table>\n",
       "</div>"
      ],
      "text/plain": [
       "                   1     2             3             4   dfname\n",
       "0                                                              \n",
       "244.0  254010.006208  14.0  21653.465661  33886.375193  MPMORDM\n",
       "530.0  103742.110580  13.0  10003.337274  53409.117993  MPMORDM\n",
       "534.0   60851.475156  19.0  12406.182096  70488.224518  MPMORDM\n",
       "560.0  260930.692169   8.0   1828.974165  53409.117993  MPMORDM\n",
       "563.0  230113.620689  11.0   2649.271320  70488.224518  MPMORDM"
      ]
     },
     "execution_count": 100,
     "metadata": {},
     "output_type": "execute_result"
    }
   ],
   "source": [
    "DF_PF_MPMORDM.head()"
   ]
  },
  {
   "cell_type": "code",
   "execution_count": 87,
   "metadata": {},
   "outputs": [
    {
     "data": {
      "text/plain": [
       "'MPMORDM'"
      ]
     },
     "execution_count": 87,
     "metadata": {},
     "output_type": "execute_result"
    }
   ],
   "source": [
    "DF_PF_MPMORDM.dfname.iloc[0]"
   ]
  },
  {
   "cell_type": "code",
   "execution_count": 101,
   "metadata": {
    "scrolled": true
   },
   "outputs": [],
   "source": [
    "DF_PF_MOO_norm, DF_PF_MPMORDM_norm = normalise_dfs(DF_PF_MOO, DF_PF_MPMORDM)"
   ]
  },
  {
   "cell_type": "markdown",
   "metadata": {},
   "source": [
    "### Calculate Hypervolume "
   ]
  },
  {
   "cell_type": "code",
   "execution_count": 136,
   "metadata": {},
   "outputs": [],
   "source": [
    "ref_point = [1,1,1,1]"
   ]
  },
  {
   "cell_type": "code",
   "execution_count": 142,
   "metadata": {
    "scrolled": false
   },
   "outputs": [],
   "source": [
    "hv_MOO = pg.hypervolume(DF_PF_MOO_normalised.values)\n",
    "# hv_MOO = pg.hypervolume(DF_PF_MOO_norm.iloc[:,:4].astype(float).values)"
   ]
  },
  {
   "cell_type": "code",
   "execution_count": 141,
   "metadata": {},
   "outputs": [
    {
     "data": {
      "text/plain": [
       "0.5105858833019313"
      ]
     },
     "execution_count": 141,
     "metadata": {},
     "output_type": "execute_result"
    }
   ],
   "source": [
    "hv_MOO.compute(ref_point)"
   ]
  },
  {
   "cell_type": "code",
   "execution_count": 147,
   "metadata": {},
   "outputs": [],
   "source": [
    "hv_MPMORDM = pg.hypervolume(DF_PF_MPMORDM_normalised.values)\n",
    "# hv_MPMORDM = pg.hypervolume(DF_PF_MPMORDM_norm.iloc[:,:4].astype(float).values)"
   ]
  },
  {
   "cell_type": "code",
   "execution_count": 148,
   "metadata": {},
   "outputs": [
    {
     "data": {
      "text/plain": [
       "0.5105584579890514"
      ]
     },
     "execution_count": 148,
     "metadata": {},
     "output_type": "execute_result"
    }
   ],
   "source": [
    "hv_MPMORDM.compute(ref_point)"
   ]
  },
  {
   "cell_type": "code",
   "execution_count": 149,
   "metadata": {},
   "outputs": [],
   "source": [
    "diff = hv_MOO.compute(ref_point) - hv_MPMORDM.compute(ref_point)"
   ]
  },
  {
   "cell_type": "code",
   "execution_count": 150,
   "metadata": {},
   "outputs": [
    {
     "data": {
      "text/plain": [
       "2.742531287991401e-05"
      ]
     },
     "execution_count": 150,
     "metadata": {},
     "output_type": "execute_result"
    }
   ],
   "source": [
    "diff"
   ]
  },
  {
   "cell_type": "code",
   "execution_count": 138,
   "metadata": {},
   "outputs": [
    {
     "data": {
      "text/plain": [
       "0.00537134178143665"
      ]
     },
     "execution_count": 138,
     "metadata": {},
     "output_type": "execute_result"
    }
   ],
   "source": [
    "(diff*100 )/ a"
   ]
  },
  {
   "cell_type": "code",
   "execution_count": null,
   "metadata": {},
   "outputs": [],
   "source": []
  },
  {
   "cell_type": "code",
   "execution_count": null,
   "metadata": {},
   "outputs": [],
   "source": []
  },
  {
   "cell_type": "markdown",
   "metadata": {},
   "source": [
    "## Percentage of MPMORDM solutions in Perfect Info Pareto Front"
   ]
  },
  {
   "cell_type": "code",
   "execution_count": 140,
   "metadata": {},
   "outputs": [
    {
     "data": {
      "text/plain": [
       "1376"
      ]
     },
     "execution_count": 140,
     "metadata": {},
     "output_type": "execute_result"
    }
   ],
   "source": [
    "len(p4_pols)"
   ]
  },
  {
   "cell_type": "code",
   "execution_count": 143,
   "metadata": {},
   "outputs": [],
   "source": [
    "p4_FLs = np.array([[int(key[3:]) for key, value in pol.items() if value == 1]\n",
    "                   for pol in p4_pols])"
   ]
  },
  {
   "cell_type": "code",
   "execution_count": 144,
   "metadata": {},
   "outputs": [
    {
     "data": {
      "text/plain": [
       "(1376, 4)"
      ]
     },
     "execution_count": 144,
     "metadata": {},
     "output_type": "execute_result"
    }
   ],
   "source": [
    "p4_FLs.shape"
   ]
  },
  {
   "cell_type": "code",
   "execution_count": null,
   "metadata": {},
   "outputs": [],
   "source": []
  },
  {
   "cell_type": "code",
   "execution_count": 220,
   "metadata": {},
   "outputs": [],
   "source": [
    "PFMOOPols = np.array(All_optional_pols)[list(DF_PF_MOO.index.astype(int))]"
   ]
  },
  {
   "cell_type": "code",
   "execution_count": 221,
   "metadata": {},
   "outputs": [
    {
     "data": {
      "text/plain": [
       "(72,)"
      ]
     },
     "execution_count": 221,
     "metadata": {},
     "output_type": "execute_result"
    }
   ],
   "source": [
    "PFMOOPols.shape"
   ]
  },
  {
   "cell_type": "code",
   "execution_count": null,
   "metadata": {},
   "outputs": [],
   "source": []
  },
  {
   "cell_type": "code",
   "execution_count": null,
   "metadata": {},
   "outputs": [],
   "source": []
  },
  {
   "cell_type": "code",
   "execution_count": 222,
   "metadata": {},
   "outputs": [],
   "source": [
    "PFMOO_FLS = np.array([[int(key[3:]) for key, value in pol.items() if value == 1]\n",
    "                   for pol in PFMOOPols])"
   ]
  },
  {
   "cell_type": "code",
   "execution_count": 226,
   "metadata": {},
   "outputs": [
    {
     "data": {
      "text/plain": [
       "(72, 4)"
      ]
     },
     "execution_count": 226,
     "metadata": {},
     "output_type": "execute_result"
    }
   ],
   "source": [
    "PFMOO_FLS.shape"
   ]
  },
  {
   "cell_type": "code",
   "execution_count": 253,
   "metadata": {
    "scrolled": false
   },
   "outputs": [
    {
     "data": {
      "text/plain": [
       "692"
      ]
     },
     "execution_count": 253,
     "metadata": {},
     "output_type": "execute_result"
    }
   ],
   "source": [
    "# Do tolist, because then it checks if full list is in the list of lists.\n",
    "# Otherwise it checks whether all numbers are in the list or sth. \n",
    "sum([fls.tolist() in PFMOO_FLS.tolist() for fls in p4_FLs])"
   ]
  },
  {
   "cell_type": "markdown",
   "metadata": {},
   "source": [
    "## Compare Distributions"
   ]
  },
  {
   "cell_type": "code",
   "execution_count": 32,
   "metadata": {},
   "outputs": [
    {
     "data": {
      "text/plain": [
       "(72, 4)"
      ]
     },
     "execution_count": 32,
     "metadata": {},
     "output_type": "execute_result"
    }
   ],
   "source": [
    "# Results for Perfect Information\n",
    "DF_PF_MOO = DF_PF_MOO.iloc[:,:4]\n",
    "DF_PF_MOO.columns = oois\n",
    "DF_PF_MOO.shape\n"
   ]
  },
  {
   "cell_type": "code",
   "execution_count": 33,
   "metadata": {},
   "outputs": [
    {
     "data": {
      "text/plain": [
       "(1376, 4)"
      ]
     },
     "execution_count": 33,
     "metadata": {},
     "output_type": "execute_result"
    }
   ],
   "source": [
    "# Results for MPMORDM\n",
    "DF_P4_MPMORDM_results = DF_MPMORDMpols_for_real_values_results_filtered.iloc[:,:4]\n",
    "DF_P4_MPMORDM_results.columns = oois\n",
    "DF_P4_MPMORDM_results.shape"
   ]
  },
  {
   "cell_type": "code",
   "execution_count": 34,
   "metadata": {},
   "outputs": [
    {
     "ename": "NameError",
     "evalue": "name 'obj' is not defined",
     "output_type": "error",
     "traceback": [
      "\u001b[1;31m---------------------------------------------------------------------------\u001b[0m",
      "\u001b[1;31mNameError\u001b[0m                                 Traceback (most recent call last)",
      "\u001b[1;32m<ipython-input-34-e30723b46baf>\u001b[0m in \u001b[0;36m<module>\u001b[1;34m()\u001b[0m\n\u001b[1;32m----> 1\u001b[1;33m \u001b[0mDF_PF_MOO\u001b[0m\u001b[1;33m[\u001b[0m\u001b[0mobj\u001b[0m\u001b[1;33m]\u001b[0m\u001b[1;33m.\u001b[0m\u001b[0mmean\u001b[0m\u001b[1;33m(\u001b[0m\u001b[1;33m)\u001b[0m\u001b[1;33m\u001b[0m\u001b[0m\n\u001b[0m",
      "\u001b[1;31mNameError\u001b[0m: name 'obj' is not defined"
     ]
    }
   ],
   "source": [
    "DF_PF_MOO[obj].mean()\n",
    "\n"
   ]
  },
  {
   "cell_type": "code",
   "execution_count": 466,
   "metadata": {},
   "outputs": [
    {
     "data": {
      "text/plain": [
       "56658.908807492524"
      ]
     },
     "execution_count": 466,
     "metadata": {},
     "output_type": "execute_result"
    }
   ],
   "source": [
    "DF_P4_MPMORDM_results[obj].astype(float).mean()\n"
   ]
  },
  {
   "cell_type": "code",
   "execution_count": 151,
   "metadata": {},
   "outputs": [
    {
     "data": {
      "text/plain": [
       "Index(['total_costs', 'nr_uncovered_DPs', 'total_uncovered_demand',\n",
       "       'max_travel_time', 'dfname'],\n",
       "      dtype='object')"
      ]
     },
     "execution_count": 151,
     "metadata": {},
     "output_type": "execute_result"
    }
   ],
   "source": [
    "DF_PF_MOO.columns"
   ]
  },
  {
   "cell_type": "code",
   "execution_count": 152,
   "metadata": {},
   "outputs": [],
   "source": [
    "OOIs = ['Total Costs', 'Nr. Uncovered Demand Points', 'Total Uncovered Demand', 'Max. Travel Time']"
   ]
  },
  {
   "cell_type": "code",
   "execution_count": 184,
   "metadata": {},
   "outputs": [
    {
     "data": {
      "text/plain": [
       "(72, 5)"
      ]
     },
     "execution_count": 184,
     "metadata": {},
     "output_type": "execute_result"
    }
   ],
   "source": [
    "DF_PF_MOO.shape"
   ]
  },
  {
   "cell_type": "code",
   "execution_count": 182,
   "metadata": {
    "scrolled": true
   },
   "outputs": [
    {
     "data": {
      "text/plain": [
       "(1376, 4)"
      ]
     },
     "execution_count": 182,
     "metadata": {},
     "output_type": "execute_result"
    }
   ],
   "source": [
    "DF_P4_MPMORDM_results.shape"
   ]
  },
  {
   "cell_type": "code",
   "execution_count": 180,
   "metadata": {},
   "outputs": [
    {
     "data": {
      "image/png": "[encoded data removed]",
      "text/plain": [
       "<Figure size 432x288 with 1 Axes>"
      ]
     },
     "metadata": {},
     "output_type": "display_data"
    },
    {
     "data": {
      "image/png": "[encoded data removed]",
      "text/plain": [
       "<Figure size 432x288 with 1 Axes>"
      ]
     },
     "metadata": {},
     "output_type": "display_data"
    },
    {
     "data": {
      "image/png": "[encoded data removed]",
      "text/plain": [
       "<Figure size 432x288 with 1 Axes>"
      ]
     },
     "metadata": {},
     "output_type": "display_data"
    },
    {
     "data": {
      "image/png": "[encoded data removed]",
      "text/plain": [
       "<Figure size 432x288 with 1 Axes>"
      ]
     },
     "metadata": {},
     "output_type": "display_data"
    }
   ],
   "source": [
    "bws = [8000,0.5,1000,2000]\n",
    "for obj, ooi, bw in zip(DF_PF_MOO.columns, OOIs, bws):\n",
    "    #     f =\n",
    "    sns.kdeplot(\n",
    "        DF_PF_MOO[obj],\n",
    "        bw=bw,\n",
    "        label=\"Perfect Information\",\n",
    "    )\n",
    "    sns.rugplot(DF_PF_MOO[obj], height=0.1)\n",
    "\n",
    "    sns.kdeplot(\n",
    "        DF_P4_MPMORDM_results[obj],\n",
    "        bw=bw,\n",
    "        label='Dynamic Uncertainty')\n",
    "    sns.rugplot(DF_P4_MPMORDM_results[obj], height=0.05, color='orange')\n",
    "\n",
    "    #     plt.title(ooi)\n",
    "    plt.xlabel(ooi)\n",
    "\n",
    "    plt.tick_params(\n",
    "        axis='y',  # changes apply to the x-axis\n",
    "        which='both',  # both major and minor ticks are affected\n",
    "        left=False,  # ticks along the bottom edge are off\n",
    "        right=False,  # ticks along the top edge are off\n",
    "        labelleft=False)  # labels along the bottom edge are off\n",
    "\n",
    "    plt.title(\"Gaussian Kernel Density Plot\")\n",
    "    plt.savefig(\"{}/{}/Analysis/KDE{}\".format(case,output_folder,obj),dpi=600)\n",
    "    plt.show()"
   ]
  },
  {
   "cell_type": "code",
   "execution_count": 36,
   "metadata": {},
   "outputs": [
    {
     "data": {
      "image/png": "[encoded data removed]",
      "text/plain": [
       "<Figure size 432x288 with 1 Axes>"
      ]
     },
     "metadata": {},
     "output_type": "display_data"
    },
    {
     "data": {
      "image/png": "[encoded data removed]",
      "text/plain": [
       "<Figure size 432x288 with 1 Axes>"
      ]
     },
     "metadata": {},
     "output_type": "display_data"
    },
    {
     "data": {
      "image/png": "[encoded data removed]",
      "text/plain": [
       "<Figure size 432x288 with 1 Axes>"
      ]
     },
     "metadata": {},
     "output_type": "display_data"
    },
    {
     "data": {
      "image/png": "[encoded data removed]",
      "text/plain": [
       "<Figure size 432x288 with 1 Axes>"
      ]
     },
     "metadata": {},
     "output_type": "display_data"
    }
   ],
   "source": [
    "for obj in DF_PF_MOO.columns:\n",
    "    plt.hist(\n",
    "        DF_P4_MPMORDM_results[obj].astype(float),\n",
    "        bins=20,\n",
    "        alpha=0.5,\n",
    "        label='Dynamic Uncertainty')\n",
    "    plt.hist(DF_PF_MOO[obj], bins=20, alpha=0.5, label='Perfect Information')\n",
    "    plt.legend(loc='upper right')\n",
    "    plt.title('Distribution {}'.format(obj))\n",
    "    plt.show()"
   ]
  },
  {
   "cell_type": "code",
   "execution_count": 439,
   "metadata": {},
   "outputs": [],
   "source": [
    "a = DF_P4_MPMORDM_results[obj].astype(float)"
   ]
  },
  {
   "cell_type": "code",
   "execution_count": 449,
   "metadata": {
    "scrolled": true
   },
   "outputs": [
    {
     "data": {
      "image/png": "[encoded data removed]",
      "text/plain": [
       "<Figure size 432x288 with 1 Axes>"
      ]
     },
     "metadata": {},
     "output_type": "display_data"
    }
   ],
   "source": [
    "sns.boxplot(a, orient='h',width=0.1)\n",
    "# plt.boxplot(a,vert=False)\n",
    "plt.show()"
   ]
  }
 ],
 "metadata": {
  "kernelspec": {
   "display_name": "Python 3",
   "language": "python",
   "name": "python3"
  },
  "language_info": {
   "codemirror_mode": {
    "name": "ipython",
    "version": 3
   },
   "file_extension": ".py",
   "mimetype": "text/x-python",
   "name": "python",
   "nbconvert_exporter": "python",
   "pygments_lexer": "ipython3",
   "version": "3.6.4"
  },
  "toc": {
   "nav_menu": {},
   "number_sections": true,
   "sideBar": true,
   "skip_h1_title": false,
   "title_cell": "Table of Contents",
   "title_sidebar": "Contents",
   "toc_cell": false,
   "toc_position": {},
   "toc_section_display": true,
   "toc_window_display": false
  }
 },
 "nbformat": 4,
 "nbformat_minor": 2
}
