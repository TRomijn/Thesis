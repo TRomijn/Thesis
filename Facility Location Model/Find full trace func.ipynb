{
 "cells": [
  {
   "cell_type": "code",
   "execution_count": 1,
   "metadata": {},
   "outputs": [],
   "source": [
    "def shorten_labels(label,lab_list = []):\n",
    "    if \"p\" in label:\n",
    "        for i in range(len(label)):\n",
    "            if label[-i-1] == \"p\":\n",
    "                flag = i\n",
    "                break\n",
    "        new_label = label[:-i-1]\n",
    "        lab_list.append(label)\n",
    "        return shorten_labels(new_label,lab_list), lab_list\n",
    "\n",
    "\n",
    "def find_full_trace(label):\n",
    "    b=[]\n",
    "    a,b = shorten_labels(label,b)\n",
    "    return b"
   ]
  },
  {
   "cell_type": "code",
   "execution_count": null,
   "metadata": {},
   "outputs": [],
   "source": []
  },
  {
   "cell_type": "code",
   "execution_count": 2,
   "metadata": {},
   "outputs": [
    {
     "data": {
      "text/plain": [
       "['p0n0p1n1p2n4p3n15p4n47',\n",
       " 'p0n0p1n1p2n4p3n15',\n",
       " 'p0n0p1n1p2n4',\n",
       " 'p0n0p1n1',\n",
       " 'p0n0']"
      ]
     },
     "execution_count": 2,
     "metadata": {},
     "output_type": "execute_result"
    }
   ],
   "source": [
    "find_full_trace('p0n0p1n1p2n4p3n15p4n47')"
   ]
  },
  {
   "cell_type": "code",
   "execution_count": null,
   "metadata": {},
   "outputs": [],
   "source": []
  }
 ],
 "metadata": {
  "kernelspec": {
   "display_name": "Python 3",
   "language": "python",
   "name": "python3"
  },
  "language_info": {
   "codemirror_mode": {
    "name": "ipython",
    "version": 3
   },
   "file_extension": ".py",
   "mimetype": "text/x-python",
   "name": "python",
   "nbconvert_exporter": "python",
   "pygments_lexer": "ipython3",
   "version": "3.6.4"
  },
  "toc": {
   "nav_menu": {},
   "number_sections": true,
   "sideBar": true,
   "skip_h1_title": false,
   "title_cell": "Table of Contents",
   "title_sidebar": "Contents",
   "toc_cell": false,
   "toc_position": {},
   "toc_section_display": true,
   "toc_window_display": true
  }
 },
 "nbformat": 4,
 "nbformat_minor": 2
}
