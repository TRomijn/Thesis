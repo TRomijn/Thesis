{
 "cells": [
  {
   "cell_type": "markdown",
   "metadata": {},
   "source": [
    "# FL Model test"
   ]
  },
  {
   "cell_type": "code",
   "execution_count": 1,
   "metadata": {},
   "outputs": [],
   "source": [
    "# Standard imports\n",
    "import random\n",
    "import pandas as pd\n",
    "import numpy as np\n",
    "\n",
    "# Own Model import\n",
    "from fl_model_funcs import *\n",
    "\n",
    "#for nondominated sorting\n",
    "import pareto"
   ]
  },
  {
   "cell_type": "code",
   "execution_count": null,
   "metadata": {},
   "outputs": [],
   "source": []
  },
  {
   "cell_type": "code",
   "execution_count": 2,
   "metadata": {},
   "outputs": [],
   "source": [
    "# For direct input model\n",
    "nr_of_SPs = 1\n",
    "nr_of_DPs = 5\n",
    "nr_of_FLs = 6\n",
    "nr_nodes = nr_of_SPs + nr_of_DPs + nr_of_FLs\n",
    "areasize = 10\n",
    "\n",
    "# Disruptions for each node\n",
    "\n",
    "# DSR = Disruption Demand Points\n",
    "# .5, 1.5: 50% of the time more or less, for traveling that distance\n",
    "DSRDP = {\"DSRDP{}\".format(i): random.uniform (.5, 1.5) for i in range(nr_of_DPs)}\n",
    "DSRFL = {\"DSRFL{}\".format(i): random.uniform (.5, 1.5) for i in range(nr_of_FLs)}\n",
    "\n",
    "# Coordinates\n",
    "SPX = {\"SPX{}\".format(i): random.uniform(0,areasize) for i in range(nr_of_SPs)}\n",
    "SPY = {\"SPY{}\".format(i): random.uniform(0,areasize) for i in range(nr_of_SPs)}\n",
    "DPX = {\"DPX{}\".format(i): random.uniform(0,areasize) for i in range(nr_of_DPs)}\n",
    "DPY = {\"DPY{}\".format(i): random.uniform(0,areasize) for i in range(nr_of_DPs)}\n",
    "FLX = {\"FLX{}\".format(i): random.uniform(0,areasize) for i in range(nr_of_FLs)}\n",
    "FLY = {\"FLY{}\".format(i): random.uniform(0,areasize) for i in range(nr_of_FLs)}\n",
    "\n",
    "FLO={\"FLO0\":1,\"FLO1\":1 ,\"FLO2\":0,\"FLO3\":1,\"FLO4\":0,\"FLO5\":0}"
   ]
  },
  {
   "cell_type": "code",
   "execution_count": 3,
   "metadata": {},
   "outputs": [
    {
     "data": {
      "image/png": "[encoded data removed]",
      "text/plain": [
       "<Figure size 432x288 with 1 Axes>"
      ]
     },
     "metadata": {},
     "output_type": "display_data"
    },
    {
     "data": {
      "text/plain": [
       "(791.4352668530153, 3, 30.0, 0.4241027169816553, 3)"
      ]
     },
     "execution_count": 3,
     "metadata": {},
     "output_type": "execute_result"
    }
   ],
   "source": [
    "# costs, nr_uncovered_DPs, total_uncovered_demand, total_distr_time, nr_op_fls = \n",
    "FL_model(\n",
    "    100,\n",
    "    1,\n",
    "    True,\n",
    "    FL_range=2,\n",
    "    **SPX,\n",
    "    **SPY,\n",
    "    **DPX,\n",
    "    **DPY,\n",
    "    **FLX,\n",
    "    **FLY,\n",
    "    **FLO,\n",
    "    **DSRDP,\n",
    "    **DSRFL)"
   ]
  },
  {
   "cell_type": "markdown",
   "metadata": {},
   "source": [
    "# FL Model Nepal"
   ]
  },
  {
   "cell_type": "markdown",
   "metadata": {},
   "source": [
    "## Nepal Data"
   ]
  },
  {
   "cell_type": "code",
   "execution_count": 4,
   "metadata": {},
   "outputs": [
    {
     "data": {
      "text/html": [
       "<div>\n",
       "<style scoped>\n",
       "    .dataframe tbody tr th:only-of-type {\n",
       "        vertical-align: middle;\n",
       "    }\n",
       "\n",
       "    .dataframe tbody tr th {\n",
       "        vertical-align: top;\n",
       "    }\n",
       "\n",
       "    .dataframe thead th {\n",
       "        text-align: right;\n",
       "    }\n",
       "</style>\n",
       "<table border=\"1\" class=\"dataframe\">\n",
       "  <thead>\n",
       "    <tr style=\"text-align: right;\">\n",
       "      <th></th>\n",
       "      <th>City</th>\n",
       "      <th>Population</th>\n",
       "      <th>Latitude (DD)</th>\n",
       "      <th>Longitude (DD)</th>\n",
       "    </tr>\n",
       "  </thead>\n",
       "  <tbody>\n",
       "    <tr>\n",
       "      <th>0</th>\n",
       "      <td>Kathmandu</td>\n",
       "      <td>743300</td>\n",
       "      <td>27.71</td>\n",
       "      <td>85.31</td>\n",
       "    </tr>\n",
       "  </tbody>\n",
       "</table>\n",
       "</div>"
      ],
      "text/plain": [
       "        City  Population  Latitude (DD)  Longitude (DD)\n",
       "0  Kathmandu      743300          27.71           85.31"
      ]
     },
     "execution_count": 4,
     "metadata": {},
     "output_type": "execute_result"
    }
   ],
   "source": [
    "Nepal = pd.read_excel(\"Data/Nepal Cities Population.xlsx\", usecols=[1,2,3,4])\n",
    "\n",
    "# Take only larger cities, because of many null values under 50000 inhabitants. \n",
    "# TODO find better dataset with population and coordinates\n",
    "Nepal = Nepal [Nepal.Population >= 50000]\n",
    "Nepal.head(1)"
   ]
  },
  {
   "cell_type": "code",
   "execution_count": 5,
   "metadata": {},
   "outputs": [
    {
     "data": {
      "text/html": [
       "<div>\n",
       "<style scoped>\n",
       "    .dataframe tbody tr th:only-of-type {\n",
       "        vertical-align: middle;\n",
       "    }\n",
       "\n",
       "    .dataframe tbody tr th {\n",
       "        vertical-align: top;\n",
       "    }\n",
       "\n",
       "    .dataframe thead th {\n",
       "        text-align: right;\n",
       "    }\n",
       "</style>\n",
       "<table border=\"1\" class=\"dataframe\">\n",
       "  <thead>\n",
       "    <tr style=\"text-align: right;\">\n",
       "      <th></th>\n",
       "      <th>Airport</th>\n",
       "      <th>Latitude (DD)</th>\n",
       "      <th>Longitude (DD)</th>\n",
       "    </tr>\n",
       "  </thead>\n",
       "  <tbody>\n",
       "    <tr>\n",
       "      <th>7</th>\n",
       "      <td>Tribhuvan intl</td>\n",
       "      <td>27.7</td>\n",
       "      <td>85.36</td>\n",
       "    </tr>\n",
       "  </tbody>\n",
       "</table>\n",
       "</div>"
      ],
      "text/plain": [
       "          Airport  Latitude (DD)  Longitude (DD)\n",
       "7  Tribhuvan intl           27.7           85.36"
      ]
     },
     "execution_count": 5,
     "metadata": {},
     "output_type": "execute_result"
    }
   ],
   "source": [
    "airports = pd.read_excel(\"Data/Nepal Airports.xlsx\", usecols=[0,5,6])\n",
    "int_airports = airports[airports['Airport'] == \"Tribhuvan intl\"]\n",
    "int_airports.head()"
   ]
  },
  {
   "cell_type": "markdown",
   "metadata": {},
   "source": [
    "## Nepal Instantiation "
   ]
  },
  {
   "cell_type": "code",
   "execution_count": 8,
   "metadata": {},
   "outputs": [],
   "source": [
    "# 0. Instantiate\n",
    "\n",
    "# General\n",
    "# Coordinates\n",
    "# all large cities to demand points\n",
    "DPY = {\"DPY{}\".format(i): y for i,y in enumerate(Nepal['Latitude (DD)'])}\n",
    "DPX = {\"DPX{}\".format(i): x for i,x in enumerate(Nepal['Longitude (DD)'])}\n",
    "\n",
    "# all international airports to supply points:\n",
    "SPY = {\"SPY{}\".format(i): y for i,y in enumerate(int_airports['Latitude (DD)'])}\n",
    "SPX = {\"SPX{}\".format(i): x for i,x in enumerate(int_airports['Longitude (DD)'])}\n",
    "\n",
    "# Create random facility locations\n",
    "# lon lat min:\n",
    "\n",
    "long_min, lat_min, long_max, lat_max = 80, 25.767, 88.183, 30.45\n",
    "\n",
    "nr_of_FLs = 6\n",
    "FLX = {\"FLX{}\".format(i): random.uniform(long_min,long_max) for i in range(nr_of_FLs)}\n",
    "FLY = {\"FLY{}\".format(i): random.uniform(lat_min,lat_max) for i in range(nr_of_FLs)}\n",
    "# # Uncertainties + Ranges\n",
    "# # For direct input model\n",
    "# nr_of_SPs = 1\n",
    "# nr_of_DPs = 5\n",
    "\n",
    "# nr_nodes = nr_of_SPs + nr_of_DPs + nr_of_FLs\n",
    "# areasize = 10\n",
    "\n",
    "# # Disruptions for each node\n",
    "\n",
    "# DSR = Disruption Demand Points\n",
    "# .5, 1.5: 50% of the time more or less, for traveling that distance\n",
    "DSRDP = {\"DSRDP{}\".format(i): random.uniform (.5, 1.5) for i in range(len(DPX))}\n",
    "DSRFL = {\"DSRFL{}\".format(i): random.uniform (.5, 1.5) for i in range(nr_of_FLs)}\n",
    "\n",
    "# Decision Variables\n",
    "FLO={\"FLO0\":0,\"FLO1\":0 ,\"FLO2\":0,\"FLO3\":0,\"FLO4\":0,\"FLO5\":0}"
   ]
  },
  {
   "cell_type": "markdown",
   "metadata": {},
   "source": [
    "## Nepal Model Evaluator"
   ]
  },
  {
   "cell_type": "code",
   "execution_count": 9,
   "metadata": {
    "scrolled": true
   },
   "outputs": [
    {
     "data": {
      "image/png": "[encoded data removed]",
      "text/plain": [
       "<Figure size 432x288 with 1 Axes>"
      ]
     },
     "metadata": {},
     "output_type": "display_data"
    },
    {
     "data": {
      "text/plain": [
       "(1248.7264374146462, 6, 60.0, 0.2026094514501072, 0)"
      ]
     },
     "execution_count": 9,
     "metadata": {},
     "output_type": "execute_result"
    }
   ],
   "source": [
    "FL_model(\n",
    "    100,\n",
    "    1,\n",
    "    True,\n",
    "    FL_range=2,\n",
    "    **SPX,\n",
    "    **SPY,\n",
    "    **DPX,\n",
    "    **DPY,\n",
    "    **FLX,\n",
    "    **FLY,\n",
    "    **FLO,\n",
    "    **DSRDP,\n",
    "    **DSRFL)"
   ]
  },
  {
   "cell_type": "markdown",
   "metadata": {},
   "source": [
    "# Multi-Objective Optimisation Framework"
   ]
  },
  {
   "cell_type": "markdown",
   "metadata": {},
   "source": [
    "Pseudocode:\n",
    "\n",
    "    Current situation\n",
    "    Create possible options (full factorial)\n",
    "    Evaluate all possible options\n",
    "    Check pareto front of outcomes"
   ]
  },
  {
   "cell_type": "code",
   "execution_count": 26,
   "metadata": {},
   "outputs": [],
   "source": [
    "current_situation = FLO"
   ]
  },
  {
   "cell_type": "code",
   "execution_count": 27,
   "metadata": {
    "code_folding": [
     0
    ]
   },
   "outputs": [],
   "source": [
    "def create_policies(FL_dict):\n",
    "    \"\"\"\n",
    "    Takes the current network of Facility Locations and returns all possible policies for one added FL.\n",
    "    \n",
    "    Input: current option (Dict of FLs)\n",
    "    Output: List of options (Dicts of FLs)\n",
    "    \"\"\"\n",
    "    # All FL names\n",
    "    FL_keys = sorted(FL_dict.keys())\n",
    "    # All FL values indicating whether operational\n",
    "    FL_values = [FL_dict[key] for key in FL_keys]\n",
    "    \n",
    "    i_operational_fls = i_FL_op = [i for i,x in enumerate(FL_values) if x == 1]\n",
    "    \n",
    "    # Create list of policies  \n",
    "    pols = np.identity(len(FL_keys))\n",
    "    # Set already operational facilities to operational\n",
    "    pols[:,i_operational_fls] = 1\n",
    "    \n",
    "    #Delete policies where no new FLs are placed \n",
    "    new_n_operational_fls = sum(FL_values) + 1\n",
    "    pols = pols[pols.sum(axis = 1) == new_n_operational_fls]\n",
    "\n",
    "    \n",
    "    # Return a list of dictionaries\n",
    "    policy_list = []\n",
    "    for pol in pols:\n",
    "        policy_list.append({key:value for key,value in zip(FL_keys,pol)})\n",
    "    \n",
    "    return policy_list"
   ]
  },
  {
   "cell_type": "code",
   "execution_count": 28,
   "metadata": {},
   "outputs": [],
   "source": [
    "policies = create_policies(current_situation)"
   ]
  },
  {
   "cell_type": "code",
   "execution_count": 83,
   "metadata": {},
   "outputs": [
    {
     "data": {
      "image/png": "[encoded data removed]",
      "text/plain": [
       "<Figure size 432x288 with 1 Axes>"
      ]
     },
     "metadata": {},
     "output_type": "display_data"
    },
    {
     "data": {
      "image/png": "[encoded data removed]",
      "text/plain": [
       "<Figure size 432x288 with 1 Axes>"
      ]
     },
     "metadata": {},
     "output_type": "display_data"
    },
    {
     "data": {
      "image/png": "[encoded data removed]",
      "text/plain": [
       "<Figure size 432x288 with 1 Axes>"
      ]
     },
     "metadata": {},
     "output_type": "display_data"
    },
    {
     "data": {
      "image/png": "[encoded data removed]",
      "text/plain": [
       "<Figure size 432x288 with 1 Axes>"
      ]
     },
     "metadata": {},
     "output_type": "display_data"
    },
    {
     "data": {
      "image/png": "[encoded data removed]",
      "text/plain": [
       "<Figure size 432x288 with 1 Axes>"
      ]
     },
     "metadata": {},
     "output_type": "display_data"
    },
    {
     "data": {
      "image/png": "[encoded data removed]",
      "text/plain": [
       "<Figure size 432x288 with 1 Axes>"
      ]
     },
     "metadata": {},
     "output_type": "display_data"
    }
   ],
   "source": [
    "outcomes = []\n",
    "for policy in policies:\n",
    "    outcomes.append(FL_model(\n",
    "    100,\n",
    "    1,\n",
    "    True,\n",
    "    FL_range=2,\n",
    "    **SPX,\n",
    "    **SPY,\n",
    "    **DPX,\n",
    "    **DPY,\n",
    "    **FLX,\n",
    "    **FLY,\n",
    "    **policy,\n",
    "    **DSRDP,\n",
    "    **DSRFL))"
   ]
  },
  {
   "cell_type": "code",
   "execution_count": 15,
   "metadata": {
    "scrolled": true
   },
   "outputs": [
    {
     "data": {
      "text/plain": [
       "[(2006.430213471732, 3, 30.0, 0.2367467995474345, 1.0),\n",
       " (1593.1493639363177, 6, 60.0, 0.2341483770468026, 1.0),\n",
       " (1777.3510999057207, 6, 60.0, 0.2620894494739965, 1.0),\n",
       " (1691.651757622334, 6, 60.0, 0.2502379681456194, 1.0),\n",
       " (1534.0967406053599, 6, 60.0, 0.22853720797318827, 1.0),\n",
       " (2983.2491826522646, 3, 30.0, 0.35796210924543653, 1.0)]"
      ]
     },
     "execution_count": 15,
     "metadata": {},
     "output_type": "execute_result"
    }
   ],
   "source": [
    "outcomes"
   ]
  },
  {
   "cell_type": "code",
   "execution_count": null,
   "metadata": {},
   "outputs": [],
   "source": []
  },
  {
   "cell_type": "code",
   "execution_count": 21,
   "metadata": {},
   "outputs": [],
   "source": [
    "outcomes_df = pd.DataFrame(outcomes)"
   ]
  },
  {
   "cell_type": "code",
   "execution_count": 184,
   "metadata": {},
   "outputs": [],
   "source": [
    "kwargs = {\"maximize_all\":True}\n",
    "kwargs2 = {\"maximize\":[0,1]}"
   ]
  },
  {
   "cell_type": "code",
   "execution_count": 34,
   "metadata": {},
   "outputs": [],
   "source": [
    "nondominated = pareto.eps_sort([list(outcomes_df.itertuples(True))],[1,2,3,4,5], [1e-9,1e-9,1e-9,1e-9,1e-9])"
   ]
  },
  {
   "cell_type": "code",
   "execution_count": 35,
   "metadata": {},
   "outputs": [
    {
     "data": {
      "text/plain": [
       "[[0, 2006.430213471732, 3, 30.0, 0.2367467995474345, 1.0],\n",
       " [4, 1534.0967406053599, 6, 60.0, 0.22853720797318827, 1.0]]"
      ]
     },
     "execution_count": 35,
     "metadata": {},
     "output_type": "execute_result"
    }
   ],
   "source": [
    "nondominated"
   ]
  },
  {
   "cell_type": "markdown",
   "metadata": {},
   "source": [
    "# EMA Framework"
   ]
  },
  {
   "cell_type": "code",
   "execution_count": 82,
   "metadata": {},
   "outputs": [
    {
     "data": {
      "text/plain": [
       "<Logger EMA (DEBUG)>"
      ]
     },
     "execution_count": 82,
     "metadata": {},
     "output_type": "execute_result"
    }
   ],
   "source": [
    "from ema_workbench.em_framework import (Policy, IntegerParameter, Constant,\n",
    "                                        RealParameter, ScalarOutcome,\n",
    "                                        perform_experiments, Model)\n",
    "from ema_workbench import ema_logging\n",
    "# from ema_workbench.em_framework.\n",
    "\n",
    "ema_logging.log_to_stderr(ema_logging.INFO)"
   ]
  },
  {
   "cell_type": "code",
   "execution_count": null,
   "metadata": {},
   "outputs": [],
   "source": [
    "Work this into ema framework\n",
    "\n",
    "# General\n",
    "# Coordinates\n",
    "# all large cities to demand points\n",
    "DPY = {\"DPY{}\".format(i): y for i,y in enumerate(Nepal['Latitude (DD)'])}\n",
    "DPX = {\"DPX{}\".format(i): x for i,x in enumerate(Nepal['Longitude (DD)'])}\n",
    "\n",
    "# all international airports to supply points:\n",
    "SPY = {\"SPY{}\".format(i): y for i,y in enumerate(int_airports['Latitude (DD)'])}\n",
    "SPX = {\"SPX{}\".format(i): x for i,x in enumerate(int_airports['Longitude (DD)'])}\n",
    "\n",
    "# Create random facility locations\n",
    "# lon lat min:\n",
    "\n",
    "long_min, lat_min, long_max, lat_max = 80, 25.767, 88.183, 30.45\n",
    "\n",
    "nr_of_FLs = 6\n",
    "FLX = {\"FLX{}\".format(i): random.uniform(long_min,long_max) for i in range(nr_of_FLs)}\n",
    "FLY = {\"FLY{}\".format(i): random.uniform(lat_min,lat_max) for i in range(nr_of_FLs)}\n",
    "# # Uncertainties + Ranges\n",
    "# # For direct input model\n",
    "# nr_of_SPs = 1\n",
    "# nr_of_DPs = 5\n",
    "\n",
    "# nr_nodes = nr_of_SPs + nr_of_DPs + nr_of_FLs\n",
    "# areasize = 10\n",
    "\n",
    "# # Disruptions for each node\n",
    "\n",
    "# DSR = Disruption Demand Points\n",
    "# .5, 1.5: 50% of the time more or less, for traveling that distance\n",
    "DSRDP = {\"DSRDP{}\".format(i): random.uniform (.5, 1.5) for i in range(len(DPX))}\n",
    "DSRFL = {\"DSRFL{}\".format(i): random.uniform (.5, 1.5) for i in range(nr_of_FLs)}\n",
    "\n",
    "# Decision Variables\n",
    "FLO={\"FLO0\":0,\"FLO1\":0 ,\"FLO2\":0,\"FLO3\":0,\"FLO4\":0,\"FLO5\":0}"
   ]
  },
  {
   "cell_type": "code",
   "execution_count": 80,
   "metadata": {},
   "outputs": [],
   "source": [
    "models = []\n",
    "t = 0\n",
    "model = Model(\"flmodelt{}\".format(t), FL_model)\n",
    "\n",
    "model.constants = [\n",
    "    Constant ('graphical_representation', False),\n",
    "]\n",
    "\n",
    "model.uncertainties = [\n",
    "    RealParameter('unit_opening_costs', 100, 200),\n",
    "    RealParameter('unit_transport_cost', 0.5, 2), # cost of transporting one unit of relief goods\n",
    "    RealParameter('FL_range', 2, 30), # km TODO: great circle distance\n",
    "    RealParameter('lorry_speed',30,60) # km/h. Speed is Average speed. Constant, because roads are individually disrupted \n",
    "]\n",
    "\n",
    "\n",
    "models.append(model)\n"
   ]
  },
  {
   "cell_type": "code",
   "execution_count": 81,
   "metadata": {},
   "outputs": [
    {
     "name": "stdout",
     "output_type": "stream",
     "text": [
      "flmodelt0\n"
     ]
    }
   ],
   "source": [
    "for model in models:\n",
    "    print(model.name)"
   ]
  },
  {
   "cell_type": "code",
   "execution_count": 60,
   "metadata": {},
   "outputs": [
    {
     "ename": "SyntaxError",
     "evalue": "invalid syntax (<ipython-input-60-159aa41f105f>, line 1)",
     "output_type": "error",
     "traceback": [
      "\u001b[1;36m  File \u001b[1;32m\"<ipython-input-60-159aa41f105f>\"\u001b[1;36m, line \u001b[1;32m1\u001b[0m\n\u001b[1;33m    def create_ema_policies (FLs, )\u001b[0m\n\u001b[1;37m                                   ^\u001b[0m\n\u001b[1;31mSyntaxError\u001b[0m\u001b[1;31m:\u001b[0m invalid syntax\n"
     ]
    }
   ],
   "source": [
    "def create_ema_policies (FLs, )"
   ]
  },
  {
   "cell_type": "code",
   "execution_count": 52,
   "metadata": {
    "scrolled": false
   },
   "outputs": [
    {
     "ename": "AttributeError",
     "evalue": "'int' object has no attribute 'name'",
     "output_type": "error",
     "traceback": [
      "\u001b[1;31m---------------------------------------------------------------------------\u001b[0m",
      "\u001b[1;31mAttributeError\u001b[0m                            Traceback (most recent call last)",
      "\u001b[1;32m<ipython-input-52-c4eca5c2af61>\u001b[0m in \u001b[0;36m<module>\u001b[1;34m()\u001b[0m\n\u001b[1;32m----> 1\u001b[1;33m \u001b[0mPolicy\u001b[0m\u001b[1;33m(\u001b[0m\u001b[1;34m\"no_FLs\"\u001b[0m\u001b[1;33m,\u001b[0m\u001b[1;33m**\u001b[0m\u001b[1;33m{\u001b[0m\u001b[0mlever\u001b[0m\u001b[1;33m.\u001b[0m\u001b[0mname\u001b[0m\u001b[1;33m:\u001b[0m \u001b[1;36m0\u001b[0m \u001b[1;32mfor\u001b[0m \u001b[0mlever\u001b[0m \u001b[1;32min\u001b[0m \u001b[1;33m[\u001b[0m\u001b[1;36m1\u001b[0m\u001b[1;33m,\u001b[0m\u001b[1;36m2\u001b[0m\u001b[1;33m]\u001b[0m\u001b[1;33m}\u001b[0m\u001b[1;33m)\u001b[0m\u001b[1;33m\u001b[0m\u001b[0m\n\u001b[0m",
      "\u001b[1;32m<ipython-input-52-c4eca5c2af61>\u001b[0m in \u001b[0;36m<dictcomp>\u001b[1;34m(.0)\u001b[0m\n\u001b[1;32m----> 1\u001b[1;33m \u001b[0mPolicy\u001b[0m\u001b[1;33m(\u001b[0m\u001b[1;34m\"no_FLs\"\u001b[0m\u001b[1;33m,\u001b[0m\u001b[1;33m**\u001b[0m\u001b[1;33m{\u001b[0m\u001b[0mlever\u001b[0m\u001b[1;33m.\u001b[0m\u001b[0mname\u001b[0m\u001b[1;33m:\u001b[0m \u001b[1;36m0\u001b[0m \u001b[1;32mfor\u001b[0m \u001b[0mlever\u001b[0m \u001b[1;32min\u001b[0m \u001b[1;33m[\u001b[0m\u001b[1;36m1\u001b[0m\u001b[1;33m,\u001b[0m\u001b[1;36m2\u001b[0m\u001b[1;33m]\u001b[0m\u001b[1;33m}\u001b[0m\u001b[1;33m)\u001b[0m\u001b[1;33m\u001b[0m\u001b[0m\n\u001b[0m",
      "\u001b[1;31mAttributeError\u001b[0m: 'int' object has no attribute 'name'"
     ]
    }
   ],
   "source": [
    "Policy(\"no_FLs\",**{lever.name: 0 for lever in FL_EMAmodel.levers})"
   ]
  },
  {
   "cell_type": "markdown",
   "metadata": {},
   "source": [
    "# Robustness Framework"
   ]
  },
  {
   "cell_type": "code",
   "execution_count": null,
   "metadata": {},
   "outputs": [],
   "source": []
  },
  {
   "cell_type": "markdown",
   "metadata": {},
   "source": [
    "# Next iteration Framework"
   ]
  }
 ],
 "metadata": {
  "kernelspec": {
   "display_name": "Python 3",
   "language": "python",
   "name": "python3"
  },
  "language_info": {
   "codemirror_mode": {
    "name": "ipython",
    "version": 3
   },
   "file_extension": ".py",
   "mimetype": "text/x-python",
   "name": "python",
   "nbconvert_exporter": "python",
   "pygments_lexer": "ipython3",
   "version": "3.6.4"
  },
  "toc": {
   "nav_menu": {},
   "number_sections": true,
   "sideBar": true,
   "skip_h1_title": false,
   "title_cell": "Table of Contents",
   "title_sidebar": "Contents",
   "toc_cell": false,
   "toc_position": {
    "height": "calc(100% - 180px)",
    "left": "10px",
    "top": "150px",
    "width": "384px"
   },
   "toc_section_display": true,
   "toc_window_display": true
  }
 },
 "nbformat": 4,
 "nbformat_minor": 2
}
