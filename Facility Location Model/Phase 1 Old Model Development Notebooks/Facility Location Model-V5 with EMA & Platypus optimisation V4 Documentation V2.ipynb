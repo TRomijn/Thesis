{
 "cells": [
  {
   "cell_type": "markdown",
   "metadata": {},
   "source": [
    "## Versions\n",
    "Facility Location Model Versions:\n",
    "* V1: Includes objective: transport costs\n",
    "* V2: Includes allocation of locations to supply hubs\n",
    "* V3: Includes objective: opening costs\n",
    "* V4: Simplification of allocation matrix: - \n",
    "    * All Facility locations are allocated to closest supply point - Validated\n",
    "    * All Demand points are allocated to closest FL if within max. covering range - Validated\n",
    "* V5: Implementation of coverage objectives - including full uncertainty matrix distances: cumbersome\n",
    "\n",
    "EMA & Platypus optimisation Versions:\n",
    "* V1: includes optimisation via Platypus\n",
    "* V2: included model completely in ema_workbench environment\n",
    "* V3: Working single run EMA\n",
    "* V4: Implemented use of kwargs: Levers and case instantiation. Case is now instantiated outside model, by ema uncertainties and ema constant \n",
    "\n",
    "Documentation in Jupyter Notebook:\n",
    "* V1: Added linear programming model in formulas\n",
    "* V2: Clean and reorganise notebook"
   ]
  },
  {
   "cell_type": "markdown",
   "metadata": {},
   "source": [
    "# TODO"
   ]
  },
  {
   "cell_type": "markdown",
   "metadata": {},
   "source": [
    "TODO: Organise this to 1FLM, 2EMA,3Doc\n",
    "\n",
    "Choices:\n",
    "- Capacitated vs uncapacitated?\n",
    "- Endogenous vs exogenous number of facilities each optimisation step \n",
    "    - each increment: exogenous\n",
    "    - Full network: endogenous\n",
    "\n",
    "\n",
    "## FLM:\n",
    "- Formulate objective of social cost (or deprivation costs) mathematically\n",
    "\n",
    "## Python Implementation & EMA:\n",
    "- Implement all objectives\n",
    "- Now Coordinates are uncertainties, to produce new cases as scenarios. --> Generate first, then load as constant.\n",
    "- Distances as random variables\n",
    "\n",
    "## DOC:\n",
    "\n",
    "- allocation: make sure all FL are connected to a SP - TODO\n",
    "    - Solution 1 - SP to FL -- Found in Maharjan Hanaoka 2018:\n",
    "        - <b>Allocation of hubs to supply point is directly. Not via other hubs </b>\n",
    "        - Easiest and also assumed in other models. Also easy to argue for.\n",
    "    - Solution 2 \n",
    "        - <b>for each demand poind point: go to closest</b>\n",
    "        - for each FL: Too Complicated\n",
    "            - if angle to SP via FLX is larger than 90degrees: go via FLX\n",
    "            - if angle to SP via FLX is smaller than 90degrees: go directly\n",
    "  \n"
   ]
  },
  {
   "cell_type": "markdown",
   "metadata": {},
   "source": [
    "Do later, or for further research:\n",
    "- implement multiple types of allocation (this way, or covering tour), \n"
   ]
  },
  {
   "cell_type": "markdown",
   "metadata": {},
   "source": [
    "# Model XLRM\n",
    "\n",
    "* External factors\n",
    "* Levers\n",
    "* Relations\n",
    "* Metrics of performance"
   ]
  },
  {
   "cell_type": "markdown",
   "metadata": {},
   "source": [
    "## Nomenclature"
   ]
  },
  {
   "cell_type": "markdown",
   "metadata": {},
   "source": [
    "Sets:\n",
    "- $I$: Demand Points\n",
    "- $J$: Temporary Distribution Centres (FL)\n",
    "- $K$: Supply Points\n",
    "- $T$: Time Periods\n",
    "- $N$: Nodes : $I \\cup J \\cup K$\n",
    "\n",
    "Decision Variables:\n",
    "- $Xj$: Vector of binary decision variables indicating whether FL j is opened (1) or closed (0)\n",
    "\n",
    "Parameters: TODO: Make distinction between Exogenous and Endogenous\n",
    "- $Allocated_{i,j} : A_{i,j}$ : binary value indicating whether DP i is allocated to FL j\n",
    "- $Allocated_{j,k} : A_{j,k}$ : binary value indicating whether FL j is allocated to SP k\n",
    "- $Demand_i$ : Demand at demand point i  \n",
    "- $Distance_{n_1,n_2}$ : Distance between two nodes\n",
    "- $Supply_{i,j}$ : Supply from FL j to DP i\n",
    "- $Supply_{j,k}$ : Supply from SP k to FL j\n",
    "- $DT_{i,j}$ : Distribution Times between DP i and FL J\n",
    "- $DT_{j,k}$ : Distribution Times between FL j and SP k\n",
    "- $Unit\\_transportation\\_costs$ : Costs for transporting one unit of goods\n",
    "\n",
    "Matrices:\n",
    "- Distance matric with all distances between all nodes (i,j and k)\n",
    "- Allocations matrix with all binary values of allocation for all nodes (i,j and k)\n",
    "- ?Supply matrix? - Most relevant to capacitated system\n",
    "- Distribution Times (i,j,k)"
   ]
  },
  {
   "cell_type": "markdown",
   "metadata": {},
   "source": [
    "## External Factors: Define model"
   ]
  },
  {
   "cell_type": "markdown",
   "metadata": {
    "code_folding": []
   },
   "source": [
    "- Typography\n",
    "- disruptions\n",
    "- demand landscape\n",
    "- segmented population"
   ]
  },
  {
   "cell_type": "markdown",
   "metadata": {},
   "source": [
    "## Levers "
   ]
  },
  {
   "cell_type": "markdown",
   "metadata": {},
   "source": [
    "Decision variables:\n",
    "-  Vector of potential locations which will be deployed as temporary logistic hub"
   ]
  },
  {
   "cell_type": "markdown",
   "metadata": {},
   "source": [
    "## Relations \n",
    "\n",
    "\n",
    "\n",
    "\n",
    "## Assumptions\n",
    "###### Uncapacitated\n",
    "- no restrictions on supply from k to j, or j to i\n",
    "\n",
    "###### Allocation of DP to FL\n",
    "Choice:<br>\n",
    "1. Demand points are assigned to closest operational hub (Gutjahr2016: Typically it's supposed that beneficiaries walk to the nearest DC) TODO:Update: FL to DP is by light truck\n",
    "2. Allocation of demand points to hubs is optimised with the allocation of demand point to hub being a binary decision variable (0 or 1), such as in Maharjan&Hanaoka2018.\n",
    "3. Via a lower-level user-equilibrium, which takes both distance as expected supply in account, as proposed by Gutjahr 2016\n",
    "\n",
    "Option 1 is chosen for multiple reasons. First, it will significantly reduce runtime, which is very welcome looking at the extensive computational experiments planned with the model. Second: beneficiaries choose between different hubs, regardless of coordinated allocation, TODO:Update: FL to DP is trucks not people. For this study it's assumed that beneficiaries walk towards the nearest hub. Gutjahr2016, make a more realistic option for capacitated problems, but since this research considers an uncapacitated problem , their solution is irrelevant.\n",
    "\n",
    "\n",
    "<b>Regarding maximum covering distance:</b><br>\n",
    "Some demand points are located too far from hubs to be supplied with relief aid. Therefore the assumption is made that there is a maximum distance for hubs to cover demand points.\n",
    "\n",
    "\n",
    "###### Allocation of FL to Supply Points\n",
    "- Hubs (FL) are assigned to closest supply point"
   ]
  },
  {
   "cell_type": "markdown",
   "metadata": {},
   "source": [
    "## Metrics of performance"
   ]
  },
  {
   "cell_type": "markdown",
   "metadata": {},
   "source": [
    "Make table with different objectives:\n",
    "\n",
    "|nr|Objectives|Formula|Type|?Expected effect?|\n",
    "|-|||||\n",
    "|1|Minimise Costs|$x+x$|Efficiency| minimise distances,<br> minimise number of FLs|"
   ]
  },
  {
   "cell_type": "markdown",
   "metadata": {
    "heading_collapsed": true
   },
   "source": [
    "### Objective Function 1: Minimise Total Costs - Efficiency"
   ]
  },
  {
   "cell_type": "markdown",
   "metadata": {
    "hidden": true
   },
   "source": [
    "Total costs include a fixed costs for opening Facility Locations, Transportation costs from Supply Points to Facility Locations and Transportation costs from Facility Locations to Demand Points\n",
    "\n",
    "Maharjan, R., & Hanaoka, S. (2018). A multi-actor multi-objective optimization approach for locating temporary logistics hubs during disaster response. Journal of Humanitarian Logistics and Supply Chain Management, JHLSCM-08-2017-0040. https://doi.org/10.1108/JHLSCM-08-2017-0040"
   ]
  },
  {
   "cell_type": "markdown",
   "metadata": {
    "heading_collapsed": true,
    "hidden": true
   },
   "source": [
    "#### Total opening costs Facility Locations\n",
    "\n",
    "$$\\sum_{j} Fixed opening costs * Xj $$\n",
    "\n",
    "##### Fixed opening costs\n",
    "\n",
    "Associated with:\n",
    "- the initial investment for the temporary distribution centre\n",
    "- procurement cost\n",
    "- cost of leasing land\n",
    "based on Maharjan&Hanaoko2018\n",
    "\n",
    "#### transportation costs\n",
    "\n",
    "$$Transportation\\_costs\\_SP\\_FL=\\sum_{FL} distance_{SP,FL} * unit\\_distance\\_costs * Supply_{j,k}$$\n",
    "$$Transportation\\_costs\\_FL\\_DP=\\sum_{DP} distance_{FL,DP} * unit\\_distance\\_costs * Supply_{i,j}$$\n",
    "\n",
    "Calculates the costs of transportation between all facility locations to all supply and demand points \n",
    "\n",
    "<b>Assumptions: / Constraints:</b><br>\n",
    "- Each demand point has only one temporary distribution centre (closest)\n",
    "- Each temporary distribution centre has only one supply point (closest)\n",
    "\n",
    "<b>TODO</b>: Renew Formula, based on model and Maharjan&Hanaoka2018"
   ]
  },
  {
   "cell_type": "markdown",
   "metadata": {},
   "source": [
    "### Objective Function 2: Minimise Total Uncovered Demand - Effectiveness"
   ]
  },
  {
   "cell_type": "markdown",
   "metadata": {},
   "source": [
    "- Uncapacitated demand\n",
    "- Allocation as endogenous variable\n",
    "\n",
    "Formula based on MaharjanHanaoka2018"
   ]
  },
  {
   "cell_type": "markdown",
   "metadata": {},
   "source": [
    "$$\n",
    "uncovered\\_demand = \\sum_{I} demand_{i} - \\sum_{I} \\sum_{J} supply_{i,j}\n",
    "$$\n",
    "\n",
    "Relation: <br>\n",
    "$ \\sum_i \\sum_j supply_{i,j} = \\sum_j \\sum_k Supply_{j,k}$\n",
    "\n",
    "supply FL j to DP i is equal to demand i if allocated to FL j: <br>\n",
    "$supply_{i,j} = A_{i,j} * demand_i  $"
   ]
  },
  {
   "cell_type": "markdown",
   "metadata": {},
   "source": [
    "### Objective Function 3: Minimise Uncovered Demand Points - Equity"
   ]
  },
  {
   "cell_type": "markdown",
   "metadata": {},
   "source": [
    "Make sure all areas are covered --> minimise number of uncovered demand points --> will select FL that covers most demand points (also if demand at these demand points is very small)\n",
    "\n",
    "Minimise: \n",
    "\n",
    "$$ \\sum_{i} 1 - \\sum_{i} \\sum_{j} A_{i,j} $$\n",
    "Where $ \\sum_{i} 1$ represents the number of demand points\n",
    "\n",
    "Assumption:\n",
    "- Each DP is only allocated to one supply point or facility location\n",
    "- IF is allocated, it is fully covered by its supplier (uncapacitated)"
   ]
  },
  {
   "cell_type": "markdown",
   "metadata": {},
   "source": [
    "### Objective Function 4: Minimise Total Distribution Times - Effectiveness\n",
    "Requires:\n",
    "- Allocation\n",
    "\n",
    "Given that:\n",
    "- Some DP are allocated, some DP are unallocated.\n",
    "- unallocated based on distance = irrelevant here\n",
    "- FLs are uncapacitated\n",
    "\n",
    "Assumptions on scope, simplifications from Bozorgi-AmiriKhorsi2016:\n",
    "- No optimised between facility locations and demand points. Each demand point has their own transportation directly from and to the temporary distribution centre. This might reflect realistic situations, because the light trucks might not have enough capacity to first bring relief supplies to one demand point and then the next. It first has to fill the truck with new supplies from the distribution centre. \n",
    "- No optimised choice of vehicles. No different travel modes"
   ]
  },
  {
   "cell_type": "markdown",
   "metadata": {},
   "source": [
    "Similar to minimise costs, but different\n",
    "Two options:\n",
    "1. Divided per demand -- \n",
    "2. not divide per demand -- effectiveness? - But then it chooses closest to city. and avoids covering larger cities if FL is a little further away.\n",
    "\n",
    "Minimise:\n",
    "$$ Total Distribution Times = \\sum_{I} \\sum_{J} \\sum_{K} \\frac { DT_{i,j} }{Supply_{i,j}} + \\frac { DT_{j,k} }{Supply_{j,k}} $$\n",
    "\n",
    "Should be dependent on demand? --> no, so that smaller far away but still covered have longer times"
   ]
  },
  {
   "cell_type": "markdown",
   "metadata": {},
   "source": [
    "$$\\frac{1}{x}$$"
   ]
  },
  {
   "cell_type": "markdown",
   "metadata": {
    "heading_collapsed": true
   },
   "source": [
    "### XXNOT Objective Function 5: Minimise Maximum Distribution Times - Equity\n",
    "\n",
    "Not all DPs are allocated to FLs or SPs<br>\n",
    "Only makes sense if DPs not allocated have very high max distribution times. Then measures the same as Equity: Minimise uncovered demand points"
   ]
  },
  {
   "cell_type": "markdown",
   "metadata": {
    "hidden": true
   },
   "source": [
    "similar to minimise maximum uncovered demand, but only takes covered demand into account\n",
    "Can be a better equity objective than minmax uncovered, because uncapacitated.\n",
    "\n",
    "$Minimise: Max( DT ) $\n",
    "Smaller points should have longer DBTimes than larger points. Then they are more equitably approached XX"
   ]
  },
  {
   "cell_type": "markdown",
   "metadata": {},
   "source": [
    "### XXTODO? Objective Function 6: Minimise Social costs? - Equity"
   ]
  },
  {
   "cell_type": "markdown",
   "metadata": {},
   "source": [
    "How is social costs calculated?\n",
    "\n",
    "deprivation costs?\n"
   ]
  },
  {
   "cell_type": "markdown",
   "metadata": {
    "heading_collapsed": true
   },
   "source": [
    "### Objective Function 8: Maximise new information - "
   ]
  },
  {
   "cell_type": "markdown",
   "metadata": {
    "heading_collapsed": true
   },
   "source": [
    "## Complexities of multiple objectives their related assumptions on model structure:"
   ]
  },
  {
   "cell_type": "markdown",
   "metadata": {
    "hidden": true
   },
   "source": [
    "- capacitated vs uncapacitated:\n",
    "    - Coverage:\n",
    "        - Maharjan&Hanaoka2018: Capacitated & allocation = decision variable\n",
    "        - \n",
    "\n",
    "Most modelsdistance relates to coverage \n",
    "\n",
    "max distance\n",
    "\n",
    "\n",
    "Coverage requires capacitated (solution for uncapacitated: \n",
    "\n",
    "\n",
    "### Complexity 2\n",
    "The initial idea was to look at the influence of facility location decisions on uncertainty and performance\n",
    "\n",
    "Combinations of objectives is sometimes hard:\n",
    "Minimise Total cost & minimise uncovered demand: requires allocation with max distance "
   ]
  },
  {
   "cell_type": "markdown",
   "metadata": {
    "heading_collapsed": true
   },
   "source": [
    "# Model Python"
   ]
  },
  {
   "cell_type": "markdown",
   "metadata": {
    "hidden": true
   },
   "source": [
    "## Model structure"
   ]
  },
  {
   "cell_type": "code",
   "execution_count": 1,
   "metadata": {
    "hidden": true
   },
   "outputs": [],
   "source": [
    "# Imports\n",
    "import random\n",
    "import numpy as np\n",
    "import pandas as pd\n",
    "import matplotlib.pyplot as plt\n",
    "# import helper_functions as hf # helpful?"
   ]
  },
  {
   "cell_type": "code",
   "execution_count": 2,
   "metadata": {
    "code_folding": [],
    "hidden": true
   },
   "outputs": [],
   "source": [
    "# Globals\n",
    "size_area = 10\n",
    "nr_demand_points = 10\n",
    "nr_supply_points = 1\n",
    "nr_optional_FL = 10\n",
    "max_nr_FL = 2\n",
    "\n",
    "\n",
    "#parameters costs\n",
    "unit_transport_cost = 1\n",
    "unit_opening_costs = 100\n"
   ]
  },
  {
   "cell_type": "code",
   "execution_count": 3,
   "metadata": {
    "code_folding": [],
    "hidden": true
   },
   "outputs": [],
   "source": [
    "# Classes\n",
    "class demand_class:\n",
    "    \"\"\"Demand points such as affected cities or villages\"\"\"\n",
    "\n",
    "    def __init__(self, name):\n",
    "        self.name = \"DP{}\".format(name)\n",
    "        self.type = \"demand\"\n",
    "        self.x = random.uniform(0, size_area)\n",
    "        self.y = random.uniform(0, size_area)\n",
    "        self.location = (self.x, self.y)\n",
    "\n",
    "        # create random demand (random impacted area)\n",
    "        self.demand = random.random() * 1000\n",
    "\n",
    "\n",
    "class supply_class:\n",
    "    \"\"\"Supply points such as airports or seaports\"\"\"\n",
    "\n",
    "    def __init__(self, name):\n",
    "        self.name = \"SP{}\".format(name)\n",
    "        self.type = \"supply\"\n",
    "        self.x = random.uniform(0, size_area)\n",
    "        self.y = random.uniform(0, size_area)\n",
    "        self.location = (self.x, self.y)\n",
    "        self.supply = random.random() * 1000\n",
    "        self.operational = 1\n",
    "\n",
    "\n",
    "class facility_class:\n",
    "    \"\"\"(Temporary) Distribution centers to distribute supply to demand\"\"\"\n",
    "\n",
    "    def __init__(self, name):\n",
    "        self.name = \"FL{}\".format(name)\n",
    "        self.type = \"facility\"\n",
    "        self.x = random.uniform(0, size_area)\n",
    "        self.y = random.uniform(0, size_area)\n",
    "        self.location = (self.x, self.y)\n",
    "        self.operational = 0\n",
    "    \n",
    "    @property #test?\n",
    "    def location2(self):\n",
    "        return (self.x,self.y)\n",
    "\n",
    "\n",
    "# Class is unneccessary\n",
    "# class country:\n",
    "#     \"\"\"The combination of all demand and supply points and facility locations\"\"\"\n",
    "\n",
    "#     def __init__(self, name):\n",
    "#         self.name = name"
   ]
  },
  {
   "cell_type": "markdown",
   "metadata": {
    "hidden": true
   },
   "source": [
    "### Instantiate model"
   ]
  },
  {
   "cell_type": "code",
   "execution_count": 4,
   "metadata": {
    "code_folding": [],
    "hidden": true
   },
   "outputs": [],
   "source": [
    "# Instantiate model\n",
    "\n",
    "# Create airport as a supply point\n",
    "supply_points = []\n",
    "for i in range(nr_supply_points):\n",
    "    supply_points.append(supply_class(name=i))\n",
    "\n",
    "# Create demand points\n",
    "demand_points = []\n",
    "for i in range(nr_demand_points):\n",
    "    demand_points.append(demand_class(name=i))\n",
    "\n",
    "# Create possible facility locations\n",
    "facility_locations = []\n",
    "for i in range(nr_optional_FL):\n",
    "    facility_locations.append(facility_class(name=i))"
   ]
  },
  {
   "cell_type": "markdown",
   "metadata": {
    "hidden": true
   },
   "source": [
    "$Allocation\\_matrix:  A$\n",
    "\n",
    "$Distance\\_matrix:  D$"
   ]
  },
  {
   "cell_type": "code",
   "execution_count": 5,
   "metadata": {
    "code_folding": [],
    "hidden": true
   },
   "outputs": [],
   "source": [
    "# Organise all nodes and create distance matrix\n",
    "all_nodes = supply_points + facility_locations + demand_points\n",
    "nr_nodes = len(all_nodes)\n",
    "\n",
    "# distance matrix\n",
    "distances = np.zeros([nr_nodes, nr_nodes])\n",
    "\n",
    "def calculate_distance(x1, y1, x2, y2):\n",
    "    dx = x1 - x2\n",
    "    dy = y1 - y2\n",
    "    return (dx**2 + dy**2)**0.5\n",
    "\n",
    "\n",
    "\n",
    "\n",
    "# # validated: calculate_distance function\n",
    "# calculate_distance (-1,-1,2,3)\n",
    "# #returns 5.0. # dx = 3, dy = 4 --> distance = 5\n",
    "\n",
    "\n",
    "# calculate distance matrix\n",
    "for i in range(len(all_nodes)):\n",
    "    # Give all nodes in model an identifier corresponding to position in matrix\n",
    "    all_nodes[i].id = i\n",
    "    for j in range(len(all_nodes)):\n",
    "        dist_ij = calculate_distance(all_nodes[i].x, all_nodes[i].y,\n",
    "                                     all_nodes[j].x, all_nodes[j].y)\n",
    "        distances[i, j] = dist_ij\n",
    "\n",
    "# set distance to self to big distance\n",
    "max_dist = distances.max()\n",
    "for i in range(len(distances)):\n",
    "    distances[i,i] = max_dist * 100"
   ]
  },
  {
   "cell_type": "code",
   "execution_count": 6,
   "metadata": {
    "hidden": true
   },
   "outputs": [
    {
     "name": "stdout",
     "output_type": "stream",
     "text": [
      "These hubs are operational: [0, 8]\n"
     ]
    }
   ],
   "source": [
    "# Set one of the FLs on operational to test\n",
    "facility_locations[7].operational = 1\n",
    "print(\"These hubs are operational:\", [a.id for a in supply_points + facility_locations if a.operational is 1])"
   ]
  },
  {
   "cell_type": "code",
   "execution_count": 7,
   "metadata": {
    "code_folding": [],
    "hidden": true
   },
   "outputs": [],
   "source": [
    "# allocate each demand point to either a supply point or a facility location\n",
    "def allocate(supply_points, demand_points, facility_locations, distances):\n",
    "    \"\"\"\n",
    "    Returns an allocation matrix for [n,h]\n",
    "    if [n,h] is 1: node n is allocated to supply hub h\n",
    "    The full size of the matrix is n*n\n",
    "    indexes are based on node.id\n",
    "    \n",
    "    Assumptions:\n",
    "    All allocations are made based on the minimum distance\n",
    "    Supply points are not allocated to other nodes, since they are supplied by upstream logistics, which is out of scope    \n",
    "    \"\"\"\n",
    "\n",
    "    # list of all IDs for operational supply points and facility locations\n",
    "    operational_hubs_id = [\n",
    "        a.id for a in supply_points + facility_locations if a.operational is 1\n",
    "    ]\n",
    "\n",
    "    #allocation matrix of all_nodes x all_nodes\n",
    "    allocation_matrix = np.zeros([len(all_nodes), len(all_nodes)])\n",
    "\n",
    "    # for each operational facility location:\n",
    "    # we skip supply points, because we don't consider upstream logistics\n",
    "    for fl in [fl for fl in facility_locations if fl.operational is 1]:\n",
    "        # choose one of other operational hubs that is closest (distance to iself is made very large while creating distance matrix)\n",
    "        closest_i = np.argmin(\n",
    "            [distances[hub_id, fl.id] for hub_id in operational_hubs_id])\n",
    "        # allocate me to that hub\n",
    "        allocation_matrix[fl.id, operational_hubs_id[closest_i]] = 1\n",
    "\n",
    "    # For each demand point\n",
    "    for dp in demand_points:\n",
    "        # Assumption: Each demand point gets 1 location allocated. If 2 locations have same distance, choose first\n",
    "        # check which supply point or facility location is closest\n",
    "        # closest = the index of the minimum distance of the list of distances between this demand point and all supply points\n",
    "        closest_i = np.argmin(\n",
    "            [distances[hub_id, dp.id] for hub_id in operational_hubs_id])\n",
    "\n",
    "        # Set allocation 1 if j is closest to this demand point (or i)\n",
    "        #i: demand point index, j: supply point index\n",
    "        allocation_matrix[dp.id, operational_hubs_id[closest_i]] = 1\n",
    "\n",
    "    return allocation_matrix"
   ]
  },
  {
   "cell_type": "code",
   "execution_count": 8,
   "metadata": {
    "hidden": true,
    "scrolled": true
   },
   "outputs": [],
   "source": [
    "allocation_matrix = allocate(supply_points,demand_points,facility_locations,distances)"
   ]
  },
  {
   "cell_type": "code",
   "execution_count": 14,
   "metadata": {
    "code_folding": [],
    "hidden": true
   },
   "outputs": [],
   "source": [
    "# OLD function calculate transportation costs\n",
    "def calc_transportation_costs_old(supply_points, demand_points,\n",
    "                               facility_locations, distances):\n",
    "    \"\"\"\n",
    "    TODO: write description\n",
    "    This old function calculates costs assuming 1 operational location\n",
    "    It also assumes that the supply point only delivers to the FL\n",
    "    \"\"\"\n",
    "    # create variable representing costs\n",
    "    transport_costs = 0\n",
    "    # For each facility location\n",
    "    for fl in facility_locations:\n",
    "        # for each operational facility location\n",
    "        if fl.operational == 1:\n",
    "            #for each supply and demand point\n",
    "            for a in supply_points + demand_points:\n",
    "                #add costs of transportation\n",
    "                transport_costs = transport_costs + distances[a.id, fl.\n",
    "                                                              id] * unit_transport_cost\n",
    "\n",
    "    return transport_costs\n",
    "\n",
    "\n",
    "# requires validation"
   ]
  },
  {
   "cell_type": "code",
   "execution_count": 40,
   "metadata": {
    "hidden": true
   },
   "outputs": [],
   "source": [
    "def calc_costs():\n",
    "\n",
    "    # calc opening costs of facilities\n",
    "    # assumption: supply point, i.e. airport, is already opened\n",
    "    opened_fl = sum([fl.operational for fl in facility_locations])\n",
    "    total_opening_costs = opened_fl * unit_opening_costs\n",
    "\n",
    "    # Calc transportation costs\n",
    "    total_distance = (allocation_matrix * distances).sum()\n",
    "    transportation_costs = total_distance * unit_transport_cost\n",
    "\n",
    "    \n",
    "    # Calc social costs\n",
    "    # TODO\n",
    "    # Now social logistics costs is included in transportation cost\n",
    "\n",
    "    return total_opening_costs + transportation_costs"
   ]
  },
  {
   "cell_type": "code",
   "execution_count": 42,
   "metadata": {
    "hidden": true
   },
   "outputs": [
    {
     "data": {
      "text/plain": [
       "145.21196945843616"
      ]
     },
     "execution_count": 42,
     "metadata": {},
     "output_type": "execute_result"
    }
   ],
   "source": [
    "calc_costs()"
   ]
  },
  {
   "cell_type": "code",
   "execution_count": 18,
   "metadata": {
    "hidden": true
   },
   "outputs": [],
   "source": [
    "# # Objective functions\n",
    "# # opening costs: objective from gutjahr & Dzubur 2016\n",
    "# # costs = construction_costs + transportation_costs\n",
    "\n",
    "# # objective 1\n",
    "\n",
    "# construction_costs = 0\n",
    "# transportation_costs = calc_transportation_costs\n",
    "# costs = transportation_costs + construction_costs\n",
    "# minimise(costs)"
   ]
  },
  {
   "cell_type": "markdown",
   "metadata": {
    "hidden": true
   },
   "source": []
  },
  {
   "cell_type": "markdown",
   "metadata": {
    "heading_collapsed": true
   },
   "source": [
    "# Case results "
   ]
  },
  {
   "cell_type": "code",
   "execution_count": 29,
   "metadata": {
    "code_folding": [
     0
    ],
    "hidden": true,
    "scrolled": true
   },
   "outputs": [],
   "source": [
    "# # test to check optimisation\n",
    "# for i in facility_locations:\n",
    "#     i.operational = 1\n",
    "\n",
    "#     print(i.name,i.id,\n",
    "#           calc_transportation_costs(supply_points, demand_points,\n",
    "#                                     facility_locations, distances))\n",
    "\n",
    "#     i.operational = 0"
   ]
  },
  {
   "cell_type": "markdown",
   "metadata": {
    "hidden": true
   },
   "source": [
    "## Graphical representation of case"
   ]
  },
  {
   "cell_type": "markdown",
   "metadata": {
    "hidden": true
   },
   "source": [
    "### Creating allocation lines"
   ]
  },
  {
   "cell_type": "code",
   "execution_count": 33,
   "metadata": {
    "hidden": true
   },
   "outputs": [],
   "source": [
    "allocation_lines = np.zeros([len(all_nodes), 4])\n",
    "# creates matrix x1,y1,x2,y2\n",
    "for i, line in enumerate(zip(allocation_matrix)):\n",
    "    if allocation_matrix[i].sum() == 0:\n",
    "        continue\n",
    "    allocation_lines[i, 0:2] = list(all_nodes[i].location)\n",
    "    # Assumption: Only 1 location allocated # if changing: loop over list comprehension: [more than 0 allocated]\n",
    "    allocation_lines[i, 2:4] = list(\n",
    "        (all_nodes)[np.argmax(line)].location)"
   ]
  },
  {
   "cell_type": "code",
   "execution_count": 34,
   "metadata": {
    "hidden": true,
    "scrolled": false
   },
   "outputs": [
    {
     "data": {
      "text/plain": [
       "array([[0.        , 0.        , 0.        , 0.        ],\n",
       "       [0.        , 0.        , 0.        , 0.        ],\n",
       "       [0.        , 0.        , 0.        , 0.        ],\n",
       "       [0.        , 0.        , 0.        , 0.        ],\n",
       "       [0.        , 0.        , 0.        , 0.        ],\n",
       "       [0.        , 0.        , 0.        , 0.        ],\n",
       "       [0.        , 0.        , 0.        , 0.        ],\n",
       "       [0.        , 0.        , 0.        , 0.        ],\n",
       "       [1.86105512, 0.66703163, 0.83677107, 3.9570269 ],\n",
       "       [0.        , 0.        , 0.        , 0.        ],\n",
       "       [0.        , 0.        , 0.        , 0.        ],\n",
       "       [1.96063773, 3.66246539, 0.83677107, 3.9570269 ],\n",
       "       [6.76720687, 1.9222047 , 1.86105512, 0.66703163],\n",
       "       [7.63748162, 9.11832568, 0.83677107, 3.9570269 ],\n",
       "       [3.14217672, 1.99387299, 1.86105512, 0.66703163],\n",
       "       [5.81605197, 6.88285141, 0.83677107, 3.9570269 ],\n",
       "       [8.74987993, 6.20117727, 0.83677107, 3.9570269 ],\n",
       "       [0.78799731, 1.59283441, 1.86105512, 0.66703163],\n",
       "       [4.8549508 , 5.27608265, 0.83677107, 3.9570269 ],\n",
       "       [0.63651151, 0.28635434, 1.86105512, 0.66703163],\n",
       "       [3.95207129, 1.08437324, 1.86105512, 0.66703163]])"
      ]
     },
     "execution_count": 34,
     "metadata": {},
     "output_type": "execute_result"
    }
   ],
   "source": [
    "allocation_lines"
   ]
  },
  {
   "cell_type": "markdown",
   "metadata": {
    "hidden": true
   },
   "source": [
    "### Plotting Locations and allocations"
   ]
  },
  {
   "cell_type": "code",
   "execution_count": 36,
   "metadata": {
    "hidden": true,
    "scrolled": true
   },
   "outputs": [
    {
     "name": "stdout",
     "output_type": "stream",
     "text": [
      "yes\n"
     ]
    },
    {
     "data": {
      "image/png": "[encoded data removed]",
      "text/plain": [
       "<Figure size 432x288 with 1 Axes>"
      ]
     },
     "metadata": {},
     "output_type": "display_data"
    }
   ],
   "source": [
    "plt.axis([-0.5,10.5,-0.5,10.5])\n",
    "\n",
    "for x in demand_points:\n",
    "    plt.scatter(x.x, x.y,c=\"green\",marker=\"<\")\n",
    "for x in facility_locations:\n",
    "    if x.operational == 0:\n",
    "        plt.scatter(x.x, x.y,c=\"red\", marker=\"x\",s=10)\n",
    "    if x.operational == 1:\n",
    "        print(\"yes\")\n",
    "        plt.scatter(x.x, x.y,c=\"blue\", marker=\"x\",s=50)\n",
    "for x in supply_points:\n",
    "    plt.scatter(x.x, x.y,c=\"blue\", marker=\">\")\n",
    "\n",
    "# plot allocation lines\n",
    "\n",
    "for line in allocation_lines:\n",
    "    plt.plot(line[[0,2]], line[[1,3]], c=\"green\")\n",
    "\n",
    "# plt.plot([0,4], [8,9])\n"
   ]
  },
  {
   "cell_type": "code",
   "execution_count": 39,
   "metadata": {
    "hidden": true
   },
   "outputs": [
    {
     "data": {
      "image/png": "[encoded data removed]",
      "text/plain": [
       "<Figure size 432x288 with 1 Axes>"
      ]
     },
     "metadata": {},
     "output_type": "display_data"
    }
   ],
   "source": [
    "plt.axis([-0.5,10.5,-0.5,10.5])\n",
    "\n",
    "for x in demand_points:\n",
    "    plt.scatter(x.x, x.y,c=\"green\",marker=\"<\")\n",
    "for x in facility_locations:\n",
    "#     if x.operational == 1:\n",
    "    plt.scatter(x.x, x.y,c=\"red\", marker=\"x\")\n",
    "for x in supply_points:\n",
    "    plt.scatter(x.x, x.y,c=\"blue\", marker=\">\")\n"
   ]
  },
  {
   "cell_type": "markdown",
   "metadata": {},
   "source": [
    "# EMA model evaluator\n",
    "\n"
   ]
  },
  {
   "cell_type": "markdown",
   "metadata": {},
   "source": [
    "\n",
    "\n",
    "## EMA pseudocode\n",
    "    \n",
    "    Sequence of analysis:\n",
    "        Initialise case (input1,input2,input3) #demand_landscape, \n",
    "        Optimise (obj1,obj2,obj3)\n",
    "        Check Robustness (unc1,unc2,unc3)\n",
    "        Implement best option\n",
    "\n",
    "        Change uncertainties based on new information due to new FL\n",
    "            Do this by reducing uncertainty the most for demand points closer to their preferred DC\n",
    "\n",
    "    Merge: info up, info down\n",
    "    \n",
    "    Define classes\n",
    "    Generate case\n",
    "        create locations\n",
    "    Load EMA model\n",
    "        specifies:\n",
    "            demand landscape\n",
    "            unit transport costs\n",
    "            unit opening costs\n",
    "            Max nr of FL to be opened\n",
    "        calculates\n",
    "            distances\n",
    "            allocation\n",
    "            demand (allocated) XX TODO\n",
    "            objectives\n",
    "            \n",
    "## Incremental Facility Location Algorithm EMA\n",
    "    Start at starting point.\n",
    "        For each branch:\n",
    "            Run with best estimates uncertainties: all policies\n",
    "            For each non-dominated policy:\n",
    "                Run all scenarios, one policy\n",
    "                Calculate robustness score\n",
    "            Compare robustness scores\n",
    "            if max locations has been implemented:\n",
    "                finish branch \n",
    "            else: \n",
    "                Create new branches with chosen policies\n",
    "            "
   ]
  },
  {
   "cell_type": "code",
   "execution_count": 1,
   "metadata": {},
   "outputs": [],
   "source": [
    "# Imports\n",
    "import numpy as np\n",
    "import pandas as pd\n",
    "import matplotlib.pyplot as plt\n",
    "import random\n",
    "import ema_workbench as em\n",
    "from ema_workbench import (Model, RealParameter, IntegerParameter, Constant, ScalarOutcome, ema_logging,\n",
    "                           perform_experiments, Scenario, Policy)"
   ]
  },
  {
   "cell_type": "code",
   "execution_count": 2,
   "metadata": {
    "scrolled": true
   },
   "outputs": [
    {
     "data": {
      "text/plain": [
       "<Logger EMA (DEBUG)>"
      ]
     },
     "execution_count": 2,
     "metadata": {},
     "output_type": "execute_result"
    }
   ],
   "source": [
    "ema_logging.log_to_stderr(ema_logging.INFO)"
   ]
  },
  {
   "cell_type": "markdown",
   "metadata": {},
   "source": [
    "## Model"
   ]
  },
  {
   "cell_type": "markdown",
   "metadata": {},
   "source": [
    "### Define classes and Case settings"
   ]
  },
  {
   "cell_type": "code",
   "execution_count": 13,
   "metadata": {
    "code_folding": [
     1,
     13,
     26
    ]
   },
   "outputs": [],
   "source": [
    "# Classes\n",
    "class demand_class:\n",
    "    \"\"\"Demand points such as affected cities or villages\"\"\"\n",
    "\n",
    "    def __init__(self, name, x, y, demand):\n",
    "        self.name = \"DP{}\".format(name)\n",
    "        self.type = \"demand\"\n",
    "        self.x = x\n",
    "        self.y = y\n",
    "        self.location = (self.x, self.y)\n",
    "        self.demand = demand\n",
    "\n",
    "\n",
    "class supply_class:\n",
    "    \"\"\"Supply points such as airports or seaports\"\"\"\n",
    "\n",
    "    def __init__(self, name, x, y, supply):\n",
    "        self.name = \"SP{}\".format(name)\n",
    "        self.type = \"supply\"\n",
    "        self.x = x\n",
    "        self.y = y\n",
    "        self.location = (self.x, self.y)\n",
    "        self.supply = supply\n",
    "        self.operational = 1\n",
    "\n",
    "\n",
    "class facility_class:\n",
    "    \"\"\"(Temporary) Distribution centers to distribute supply to demand\"\"\"\n",
    "\n",
    "    def __init__(self, name, x, y):\n",
    "        self.name = \"FL{}\".format(name)\n",
    "        self.type = \"facility\"\n",
    "        self.x = x\n",
    "        self.y = y\n",
    "        self.location = (self.x, self.y)\n",
    "        self.operational = 0\n",
    "\n",
    "\n",
    "# Case settings / Globals\n",
    "# size_area = 10\n",
    "# nr_demand_points = 10\n",
    "# nr_supply_points = 1\n",
    "# nr_optional_FL = 10"
   ]
  },
  {
   "cell_type": "markdown",
   "metadata": {},
   "source": [
    "### Functions for Instantiating case and calculating objectives"
   ]
  },
  {
   "cell_type": "code",
   "execution_count": 126,
   "metadata": {
    "code_folding": [
     5,
     22,
     35,
     45,
     75,
     128,
     146,
     163
    ]
   },
   "outputs": [],
   "source": [
    "# Instantiate case functions\n",
    "# Instantiate model\n",
    "\n",
    "\n",
    "# Create airport as a supply point\n",
    "def create_supply_points(sup_xcors, sup_ycors, supply_at_sp=100):\n",
    "\n",
    "    #TODO get a list with specific supply values for each point\n",
    "    supply_at_sps = [supply_at_sp for i in range(len(sup_xcors))]\n",
    "\n",
    "    supply_points = []\n",
    "    for i in range(len(sup_xcors)):\n",
    "        supply_points.append(\n",
    "            supply_class(\n",
    "                name=i,\n",
    "                x=sup_xcors[i],\n",
    "                y=sup_ycors[i],\n",
    "                supply=supply_at_sps[i]))\n",
    "    return supply_points\n",
    "\n",
    "\n",
    "# Create demand points\n",
    "def create_demand_points(dp_xcors, dp_ycors, demand_at_dp=10):\n",
    "\n",
    "    demand_at_dps = [demand_at_dp for i in range(len(dp_xcors))]\n",
    "\n",
    "    demand_points = []\n",
    "    for i in range(len(dp_xcors)):\n",
    "        demand_points.append(\n",
    "            demand_class(\n",
    "                name=i, x=dp_xcors[i], y=dp_ycors[i], demand=demand_at_dps[i]))\n",
    "    return demand_points\n",
    "\n",
    "\n",
    "# # Create possible facility locations\n",
    "def create_facility_locations(fl_xcors, fl_ycors):\n",
    "\n",
    "    facility_locations = []\n",
    "    for i in range(len(fl_xcors)):\n",
    "        facility_locations.append(\n",
    "            facility_class(name=i, x=fl_xcors[i], y=fl_ycors[i]))\n",
    "    return facility_locations\n",
    "\n",
    "\n",
    "# Create matrix with all distances\n",
    "def create_distance_matrix(all_nodes):\n",
    "    \"\"\"\n",
    "    Creates a matrix with distances between all nodes\n",
    "    Input: list of all nodes (objects)\n",
    "    Output: Matrix with distances from [i,j]\n",
    "    i,j = from, to\n",
    "    Note: Matrix is symmetric: distances[i,j] = distances[j,i]\n",
    "    Note: Distance to self ([i,i]) is 100 times larger than largest distance in matrix\n",
    "    \"\"\"\n",
    "    distances = np.zeros([len(all_nodes), len(all_nodes)])\n",
    "\n",
    "    def calculate_distance(x1, y1, x2, y2):\n",
    "        dx = x1 - x2\n",
    "        dy = y1 - y2\n",
    "        return (dx**2 + dy**2)**0.5\n",
    "\n",
    "    # calculate distance matrix\n",
    "    for i in range(len(all_nodes)):  #For every row\n",
    "        for j in range(len(all_nodes)):  #For every column\n",
    "            distances[i, j] = calculate_distance(\n",
    "                all_nodes[i].x, all_nodes[i].y, all_nodes[j].x, all_nodes[j].y)\n",
    "\n",
    "    # set distance to self to big distance\n",
    "    for i in range(len(distances)):\n",
    "        distances[i, i] = distances.max() * 100\n",
    "\n",
    "    return distances\n",
    "\n",
    "\n",
    "# allocate each demand point to either a supply point or a facility location\n",
    "def create_allocation_matrix(supply_points, demand_points, facility_locations,\n",
    "                             distances, FL_range):\n",
    "    \"\"\"\n",
    "    Returns an allocation matrix for [n,h]\n",
    "    if [n,h] is 1: node n is allocated to supply hub h\n",
    "    The full size of the matrix is n*n\n",
    "    indexes are based on node.id\n",
    "    \n",
    "    Assumptions:\n",
    "    All allocations are made based on the minimum distance\n",
    "    Supply points are not allocated to other nodes, since they are supplied by upstream logistics, which is out of scope    \n",
    "    \"\"\"\n",
    "\n",
    "    # list of all IDs for operational supply points and facility locations\n",
    "    operational_hubs_id = [\n",
    "        a.id for a in supply_points + facility_locations if a.operational == 1\n",
    "    ]\n",
    "\n",
    "    all_nodes = supply_points + facility_locations + demand_points\n",
    "    #allocation matrix of all_nodes x all_nodes\n",
    "    allocation_matrix = np.zeros([len(all_nodes), len(all_nodes)])\n",
    "\n",
    "    # for each operational facility location:\n",
    "    # we skip supply points, because we don't consider upstream logistics\n",
    "    for fl in [fl for fl in facility_locations if fl.operational == 1]:\n",
    "        # choose closest supply point (if multiple)           # XX is still necessary? not used here: (distance to iself is made very large while creating distance matrix)\n",
    "        closest_i = np.argmin([\n",
    "            distances[sp_id, fl.id]\n",
    "            for sp_id in [sp.id for sp in supply_points]\n",
    "        ])\n",
    "        # allocate me to that supply point\n",
    "        allocation_matrix[fl.id, operational_hubs_id[closest_i]] = 1\n",
    "\n",
    "    # For each demand point\n",
    "    for dp in demand_points:\n",
    "        # Assumption: Each demand point gets 1 location allocated. If 2 locations have same distance, choose first\n",
    "        # check which supply point or facility location is closest\n",
    "        # closest = the index of the minimum distance of the list of distances between this demand point and all supply points\n",
    "        closest_d = np.min(\n",
    "            [distances[hub_id, dp.id] for hub_id in operational_hubs_id])\n",
    "        closest_i = np.argmin(\n",
    "            [distances[hub_id, dp.id] for hub_id in operational_hubs_id])\n",
    "\n",
    "        # Set allocation 1 if j is closest to this demand point (or i)\n",
    "        #i: demand point index, j: supply point index\n",
    "        if closest_d < FL_range:\n",
    "            allocation_matrix[dp.id, operational_hubs_id[closest_i]] = 1\n",
    "\n",
    "    return allocation_matrix\n",
    "\n",
    "\n",
    "################### Objectives ###################\n",
    "\n",
    "def calc_costs(facility_locations, unit_opening_costs, unit_transport_cost,\n",
    "               distances, allocation_matrix):\n",
    "    # calc opening costs of facilities\n",
    "    # assumption: supply point, i.e. airport, is already opened\n",
    "    nr_opened_fl = sum([fl.operational for fl in facility_locations])\n",
    "    total_opening_costs = nr_opened_fl * unit_opening_costs\n",
    "\n",
    "    # Calc transportation costs\n",
    "    total_distance = (allocation_matrix * distances).sum()\n",
    "    transportation_costs = total_distance * unit_transport_cost\n",
    "\n",
    "    # Calc social costs\n",
    "    # TODO\n",
    "    # Now social logistics costs is included in transportation cost\n",
    "\n",
    "    return total_opening_costs + transportation_costs\n",
    "\n",
    "#     Minimise total uncovered demand\n",
    "def calc_tot_uncov_demand(allocation_matrix, demand_points):\n",
    "    \"\"\"\n",
    "    input: allocation matrix and list of demand points\n",
    "    output: total uncovered demand (float)\n",
    "    \n",
    "    Validated\n",
    "    \"\"\"\n",
    "    #Create array of all DPs and whether they are allocated to a SP or FL\n",
    "    allocated_DPs = allocation_matrix[[dp.id for dp in demand_points],:].sum(axis=1)\n",
    "    #Create array of demand for each DP\n",
    "    demand_DPs = [dp.demand for dp in demand_points]\n",
    "    # Multiply arrays to get supply for each DP\n",
    "    covered_demand = np.multiply(allocated_DPs,demand_DPs)\n",
    "    total_demand = sum(demand_DPs)\n",
    "    return total_demand - sum(covered_demand)\n",
    "\n",
    "#     Minimise uncovered demand points\n",
    "def calc_uncov_DPs(allocation_matrix,demand_points):\n",
    "    \"\"\"\n",
    "    Input: allocation matrix and list of demand points\n",
    "    Output: number of demand points that has not been allocated\n",
    "    \n",
    "    Validated\n",
    "    \"\"\" \n",
    "    # create array of all DPs and whether they are allocated to a SP or FL\n",
    "    allocated_DPs = allocation_matrix[[dp.id for dp in demand_points],:].sum(axis=1)\n",
    "    n_uncov_DPs = len(demand_points) - sum(allocated_DPs)\n",
    "    return int(n_uncov_DPs)\n",
    "\n",
    "#     Minimise Total Distribution Times\n",
    "def calc_tot_distr_time():\n",
    "    return"
   ]
  },
  {
   "cell_type": "code",
   "execution_count": 10,
   "metadata": {
    "code_folding": [
     1,
     15
    ]
   },
   "outputs": [],
   "source": [
    "# Functions for plotting\n",
    "def plotting_create_allocation_lines(all_nodes, allocation_matrix):\n",
    "\n",
    "    allocation_lines = np.zeros([len(all_nodes), 4])\n",
    "    # creates matrix x1,y1,x2,y2\n",
    "    for i, line in enumerate(zip(allocation_matrix)):\n",
    "        if allocation_matrix[i].sum() == 0:\n",
    "            continue\n",
    "        allocation_lines[i, 0:2] = list(all_nodes[i].location)\n",
    "        # Assumption: Only 1 location allocated # if changing: loop over list comprehension: [more than 0 allocated]\n",
    "        allocation_lines[i, 2:4] = list((all_nodes)[np.argmax(line)].location)\n",
    "\n",
    "    return allocation_lines\n",
    "\n",
    "\n",
    "def plotting_plot_map(demand_points,\n",
    "                      facility_locations,\n",
    "                      supply_points,\n",
    "                      allocation_lines=False):\n",
    "\n",
    "    plt.axis([-0.5, 10.5, -0.5, 10.5])\n",
    "\n",
    "    for x in demand_points:\n",
    "        plt.scatter(x.x, x.y, c=\"green\", marker=\"<\")\n",
    "\n",
    "    for x in facility_locations:\n",
    "        if x.operational == 0:\n",
    "            plt.scatter(x.x, x.y, c=\"red\", marker=\"x\", s=10)\n",
    "        if x.operational == 1:\n",
    "            plt.scatter(x.x, x.y, c=\"blue\", marker=\"x\", s=50)\n",
    "    for x in supply_points:\n",
    "        plt.scatter(x.x, x.y, c=\"blue\", marker=\">\")\n",
    "\n",
    "    # plot allocation lines\n",
    "    if allocation_lines is not False:\n",
    "        for line in allocation_lines:\n",
    "            plt.plot(line[[0, 2]], line[[1, 3]], c=\"green\")\n",
    "\n",
    "    # plt.plot([0,4], [8,9])"
   ]
  },
  {
   "cell_type": "markdown",
   "metadata": {},
   "source": [
    "## Pseudocode\n",
    "    \n",
    "    Model:\n",
    "        Input:\n",
    "            FL Options: FL1,FL2,FL3, ..., FLn\n",
    "            \n",
    "            unit_opening_costs,\n",
    "            unit_transport_cost,\n",
    "            FL_range\n",
    "            \n",
    "            Coordinates of SP,FL,DP\n",
    "            Demand at DPs\n",
    "            \n",
    "        Calculate:\n",
    "            Distances\n",
    "            allocate \n",
    "            Distribution times\n",
    "            Objectives:\n",
    "                Minimise total costs\n",
    "                    Total Opening costs\n",
    "                    Total Transportation costs\n",
    "                Minimise total uncovered demand\n",
    "                Minimise uncivered demand points\n",
    "                Minimise Total Distribution Times\n",
    "                Later maybe: Social costs = Logistics + deprivation costs\n",
    "             Constraints:\n",
    "                 nr of operational FL\n",
    "                 \n",
    "                \n",
    "        Return Objectives, Constraints\n",
    "\n",
    "\n"
   ]
  },
  {
   "cell_type": "code",
   "execution_count": 366,
   "metadata": {},
   "outputs": [],
   "source": [
    "a = [0,1,2,3]"
   ]
  },
  {
   "cell_type": "code",
   "execution_count": 367,
   "metadata": {},
   "outputs": [],
   "source": [
    "disruption_matrix = np.zeros([len(a),len(a)])"
   ]
  },
  {
   "cell_type": "code",
   "execution_count": 368,
   "metadata": {},
   "outputs": [
    {
     "data": {
      "text/plain": [
       "[[0, 0], [1, 0], [2, 0], [3, 0]]"
      ]
     },
     "execution_count": 368,
     "metadata": {},
     "output_type": "execute_result"
    }
   ],
   "source": [
    "[[i,0] for i in range(len(a))]"
   ]
  },
  {
   "cell_type": "code",
   "execution_count": 369,
   "metadata": {
    "scrolled": true
   },
   "outputs": [
    {
     "data": {
      "text/plain": [
       "array([['00', '10', '20', '30'],\n",
       "       ['01', '11', '21', '31'],\n",
       "       ['02', '12', '22', '32'],\n",
       "       ['03', '13', '23', '33']], dtype='<U2')"
      ]
     },
     "execution_count": 369,
     "metadata": {},
     "output_type": "execute_result"
    }
   ],
   "source": [
    "np.array([[ \"{}{}\".format(i,j)  for i in range(len(a))] for j in range(len(a))])"
   ]
  },
  {
   "cell_type": "code",
   "execution_count": 370,
   "metadata": {},
   "outputs": [
    {
     "data": {
      "text/plain": [
       "[['00', '10', '20', '30'],\n",
       " ['01', '11', '21', '31'],\n",
       " ['02', '12', '22', '32'],\n",
       " ['03', '13', '23', '33']]"
      ]
     },
     "execution_count": 370,
     "metadata": {},
     "output_type": "execute_result"
    }
   ],
   "source": [
    "[[ \"{}{}\".format(i,j)  for i in range(len(a))] for j in range(len(a))]"
   ]
  },
  {
   "cell_type": "markdown",
   "metadata": {},
   "source": [
    "Disruptions = array of disruption percentages"
   ]
  },
  {
   "cell_type": "code",
   "execution_count": 373,
   "metadata": {},
   "outputs": [
    {
     "data": {
      "text/plain": [
       "[0.5, 0.5, 0.5, 0.5]"
      ]
     },
     "execution_count": 373,
     "metadata": {},
     "output_type": "execute_result"
    }
   ],
   "source": [
    "[0.5 for i in a]"
   ]
  },
  {
   "cell_type": "code",
   "execution_count": 172,
   "metadata": {},
   "outputs": [
    {
     "data": {
      "text/plain": [
       "array([[0., 1., 1., 1.],\n",
       "       [1., 0., 1., 1.],\n",
       "       [1., 1., 0., 1.],\n",
       "       [1., 1., 1., 0.]])"
      ]
     },
     "execution_count": 172,
     "metadata": {},
     "output_type": "execute_result"
    }
   ],
   "source": [
    "1- np.identity(4)"
   ]
  },
  {
   "cell_type": "code",
   "execution_count": null,
   "metadata": {},
   "outputs": [],
   "source": []
  },
  {
   "cell_type": "code",
   "execution_count": null,
   "metadata": {},
   "outputs": [],
   "source": []
  },
  {
   "cell_type": "code",
   "execution_count": null,
   "metadata": {},
   "outputs": [],
   "source": []
  },
  {
   "cell_type": "code",
   "execution_count": null,
   "metadata": {},
   "outputs": [],
   "source": []
  },
  {
   "cell_type": "code",
   "execution_count": 124,
   "metadata": {
    "code_folding": []
   },
   "outputs": [],
   "source": [
    "def FL_model(unit_opening_costs,\n",
    "             unit_transport_cost,\n",
    "             graphical_representation=False,\n",
    "             FL_range=2,\n",
    "             **kwargs):\n",
    "\n",
    "    \"\"\"\n",
    "    Inputs:\n",
    "    Returns: Objectives, Constraints\n",
    "    \"\"\"\n",
    "    \n",
    "    #unpack kwargs\n",
    "    keys = sorted(kwargs.keys())\n",
    "    sp_xcors = [kwargs[x] for x in [k for k in keys if k[:3] == 'SPX']]\n",
    "    sp_ycors = [kwargs[x] for x in [k for k in keys if k[:3] == 'SPY']]\n",
    "    dp_xcors = [kwargs[x] for x in [k for k in keys if k[:3] == 'DPX']]\n",
    "    dp_ycors = [kwargs[x] for x in [k for k in keys if k[:3] == 'DPY']]\n",
    "    fl_xcors = [kwargs[x] for x in [k for k in keys if k[:3] == 'FLX']]\n",
    "    fl_ycors = [kwargs[x] for x in [k for k in keys if k[:3] == 'FLY']]\n",
    "\n",
    "    fl_operational = [kwargs[x] for x in [k for k in keys if k[:3] == 'FLO']]\n",
    "    \n",
    "    # Create disruption matrix\n",
    "    \n",
    "    \n",
    "    #TODO Assign demand to demand points\n",
    "    dp_demand = [kwargs[x] for x in [k for k in keys if k[:3] == 'DPD']]\n",
    "\n",
    "    # set up model\n",
    "    supply_points = create_supply_points(sp_xcors, sp_ycors)\n",
    "    demand_points = create_demand_points(dp_xcors, dp_ycors)\n",
    "    facility_locations = create_facility_locations(fl_xcors, fl_ycors)\n",
    "\n",
    "    # Organise all nodes and create distance matrix\n",
    "    all_nodes = supply_points + facility_locations + demand_points\n",
    "    # Give all nodes in model an identifier corresponding to position in matrix\n",
    "    for i in range(len(all_nodes)):\n",
    "        all_nodes[i].id = i\n",
    "\n",
    "    # Check if things are right\n",
    "    if len(facility_locations) != len(fl_operational):\n",
    "        print(\"Length FL arrays not equal, FL_model:\", len(facility_locations),\n",
    "              len(fl_operational))\n",
    "\n",
    "    # Set operational FLs from levers\n",
    "    for i, fl in enumerate(facility_locations):\n",
    "        fl.operational = fl_operational[i]\n",
    "\n",
    "    distances = create_distance_matrix(all_nodes)\n",
    "    allocation_matrix = create_allocation_matrix(\n",
    "        supply_points, demand_points, facility_locations, distances, FL_range)\n",
    "\n",
    "    # determine objectives\n",
    "\n",
    "    #     Minimise total costs\n",
    "    #         Total Opening costs\n",
    "    #         Total Transportation costs\n",
    "    total_costs = calc_costs(facility_locations, unit_opening_costs,\n",
    "                             unit_transport_cost, distances, allocation_matrix)\n",
    "    \n",
    "    #     Minimise total uncovered demand\n",
    "    total_uncovered_demand = calc_tot_uncov_demand(allocation_matrix, demand_points)\n",
    "    \n",
    "    #     Minimise uncovered demand points\n",
    "    nr_uncovered_DPs = calc_uncov_DPs(allocation_matrix, demand_points)\n",
    "    \n",
    "    #     Minimise Total Distribution Times\n",
    "    total_distr_time = calc_tot_distr_time()\n",
    "    \n",
    "    # give a graphical representation of instantiation and allocation\n",
    "    if graphical_representation == True:\n",
    "        allocation_lines = plotting_create_allocation_lines(\n",
    "            all_nodes, allocation_matrix)\n",
    "\n",
    "        plotting_plot_map(demand_points, facility_locations, supply_points,\n",
    "                          allocation_lines)\n",
    "        plt.show()\n",
    "\n",
    "    return total_costs, nr_uncovered_DPs, total_uncovered_demand, sum([fl.operational for fl in facility_locations])"
   ]
  },
  {
   "cell_type": "code",
   "execution_count": 319,
   "metadata": {},
   "outputs": [],
   "source": [
    "# For direct input model\n",
    "nr_of_SPs = 1\n",
    "nr_of_DPs = 10\n",
    "nr_of_FLs = 6\n",
    "nr_nodes = nr_of_SPs + nr_of_DPs + nr_of_FLs\n",
    "areasize = 10\n",
    "\n",
    "# DSR: Disruption For each distance between nodes. nxn disruptions\n",
    "DISR_dicts = [{\n",
    "    \"DSR{}_{}\".format(i, j): random.uniform(0, 10)\n",
    "    for i in range(nr_nodes)\n",
    "} for j in range(nr_nodes)]\n",
    "# Combine dictionaries in list\n",
    "DISR_dict = {}\n",
    "for i in range(len(DISR_dicts)):\n",
    "    DISR_dict = {**DISR_dict, **DISR_dicts[i]}\n",
    "    \n",
    "DSR = DISR_dict\n",
    "\n",
    "SPX = {\"SPX{}\".format(i): random.uniform(0,areasize) for i in range(nr_of_SPs)}\n",
    "SPY = {\"SPY{}\".format(i): random.uniform(0,areasize) for i in range(nr_of_SPs)}\n",
    "DPX = {\"DPX{}\".format(i): random.uniform(0,areasize) for i in range(nr_of_DPs)}\n",
    "DPY = {\"DPY{}\".format(i): random.uniform(0,areasize) for i in range(nr_of_DPs)}\n",
    "FLX = {\"FLX{}\".format(i): random.uniform(0,areasize) for i in range(nr_of_FLs)}\n",
    "FLY = {\"FLY{}\".format(i): random.uniform(0,areasize) for i in range(nr_of_FLs)}\n",
    "\n",
    "FLO={\"FLO0\":1,\"FLO1\":1,\"FLO2\":0,\"FLO3\":1,\"FLO4\":0,\"FLO5\":0}"
   ]
  },
  {
   "cell_type": "code",
   "execution_count": 360,
   "metadata": {
    "scrolled": true
   },
   "outputs": [
    {
     "data": {
      "image/png": "[encoded data removed]",
      "text/plain": [
       "<Figure size 432x288 with 1 Axes>"
      ]
     },
     "metadata": {},
     "output_type": "display_data"
    },
    {
     "data": {
      "text/plain": [
       "(327.3999989569765, 5, 50.0, 3)"
      ]
     },
     "execution_count": 360,
     "metadata": {},
     "output_type": "execute_result"
    }
   ],
   "source": [
    "FL_model(100, 1, True,FL_range=2, **SPX, **SPY, **DPX,**DPY,**FLX,**FLY,**FLO, **DSR)"
   ]
  },
  {
   "cell_type": "code",
   "execution_count": 108,
   "metadata": {
    "scrolled": true
   },
   "outputs": [
    {
     "data": {
      "text/plain": [
       "array([1., 0., 1., 1., 1.])"
      ]
     },
     "execution_count": 108,
     "metadata": {},
     "output_type": "execute_result"
    }
   ],
   "source": [
    "all_matrix[[dp.id for dp in DPs] ,:].sum(axis=1)\n",
    "\n"
   ]
  },
  {
   "cell_type": "code",
   "execution_count": 103,
   "metadata": {},
   "outputs": [
    {
     "data": {
      "text/plain": [
       "[10, 10, 10, 10, 10]"
      ]
     },
     "execution_count": 103,
     "metadata": {},
     "output_type": "execute_result"
    }
   ],
   "source": [
    "[dp.demand for dp in DPs]"
   ]
  },
  {
   "cell_type": "code",
   "execution_count": 107,
   "metadata": {},
   "outputs": [
    {
     "data": {
      "text/plain": [
       "array([10.,  0., 10., 10., 10.])"
      ]
     },
     "execution_count": 107,
     "metadata": {},
     "output_type": "execute_result"
    }
   ],
   "source": [
    "np.multiply(all_matrix[[dp.id for dp in DPs] ,:].sum(axis=1), [dp.demand for dp in DPs] )"
   ]
  },
  {
   "cell_type": "code",
   "execution_count": 96,
   "metadata": {},
   "outputs": [
    {
     "data": {
      "text/plain": [
       "[<__main__.demand_class at 0x112ef5459e8>,\n",
       " <__main__.demand_class at 0x112ef6b5358>,\n",
       " <__main__.demand_class at 0x112ef4d4160>,\n",
       " <__main__.demand_class at 0x112eefd9f98>,\n",
       " <__main__.demand_class at 0x112ef6da780>]"
      ]
     },
     "execution_count": 96,
     "metadata": {},
     "output_type": "execute_result"
    }
   ],
   "source": [
    "DPs"
   ]
  },
  {
   "cell_type": "code",
   "execution_count": 362,
   "metadata": {
    "code_folding": [
     5
    ]
   },
   "outputs": [],
   "source": [
    "# Meta parametric variables\n",
    "nr_of_SPs = 1\n",
    "nr_of_DPs = 10\n",
    "nr_of_FLs = 6\n",
    "areasize = 10\n",
    "nr_nodes = nr_of_SPs + nr_of_DPs + nr_of_FLs\n",
    "\n",
    "#Instantiate EMA model\n",
    "FL_EMAmodel = Model('flmodel', function=FL_model)\n",
    "\n",
    "#Specify constants\n",
    "FL_EMAmodel.constants = [\n",
    "    Constant('unit_opening_costs', 100),\n",
    "    Constant('unit_transport_cost', 1),\n",
    "    Constant('graphical_representation', True),\n",
    "    Constant('FL_range', 2) \n",
    "]\n",
    "\n",
    "#Specify coordinates of locations\n",
    "# 0 - size area, range nr supply points\n",
    "FL_EMAmodel.locations = [\n",
    "    RealParameter(\"SPX{}\".format(i), 0, areasize) for i in range(nr_of_SPs)\n",
    "] + [RealParameter(\"SPY{}\".format(i), 0, areasize) for i in range(nr_of_SPs)] + [\n",
    "    RealParameter(\"DPX{}\".format(i), 0, areasize) for i in range(nr_of_DPs)\n",
    "] + [RealParameter(\"DPY{}\".format(i), 0, areasize) for i in range(nr_of_DPs)] + [\n",
    "    RealParameter(\"FLX{}\".format(i), 0, areasize) for i in range(nr_of_FLs)\n",
    "] + [RealParameter(\"FLY{}\".format(i), 0, areasize) for i in range(nr_of_FLs)]\n",
    "\n",
    "# Each distance can be disrupted by X percent. Other option: only distances between FLs and DPs. Or not between DPs. Less uncertainties, but harder programming\n",
    "FL_EMAmodel.disruptions = list(\n",
    "    np.array([[\n",
    "        RealParameter(\"DSR{}_{}\".format(i, j), -0.5, 0.5)\n",
    "        for i in range(nr_nodes)\n",
    "    ] for j in range(nr_nodes)]).flatten())\n",
    "\n",
    "\n",
    "\n",
    "\n",
    "#Specify uncertainties\n",
    "FL_EMAmodel.uncertainties = FL_EMAmodel.locations + FL_EMAmodel.disruptions\n",
    "\n",
    "#     RealParameter('DTNN{}{}'.format(n1,n2),-0.5,0.5) # - 50% + 50% for all n, for all n\n",
    "\n",
    "\n",
    "# # Specify levers\n",
    "# Facility Location Operational: [0,1]\n",
    "FL_EMAmodel.levers = [\n",
    "    IntegerParameter(\"FLO{}\".format(i), 0, 1) for i in range(nr_of_FLs)\n",
    "]\n",
    "\n",
    "# FL_EMAmodel.c\n",
    "\n",
    "# Specify outcomes\n",
    "FL_EMAmodel.outcomes = [\n",
    "    ScalarOutcome('Total_cost'),\n",
    "    #     ScalarOutcome('message_string'),\n",
    "    ScalarOutcome('operational_FL')\n",
    "]"
   ]
  },
  {
   "cell_type": "code",
   "execution_count": null,
   "metadata": {},
   "outputs": [],
   "source": []
  },
  {
   "cell_type": "code",
   "execution_count": 32,
   "metadata": {},
   "outputs": [
    {
     "data": {
      "text/plain": [
       "IntegerParameter('test', 0, 2)"
      ]
     },
     "execution_count": 32,
     "metadata": {},
     "output_type": "execute_result"
    }
   ],
   "source": [
    "IntegerParameter(\"test\",0,1)"
   ]
  },
  {
   "cell_type": "code",
   "execution_count": 37,
   "metadata": {},
   "outputs": [
    {
     "data": {
      "text/plain": [
       "{'FLO0': 0, 'FLO1': 0, 'FLO2': 0, 'FLO3': 0, 'FLO4': 0, 'FLO5': 0}"
      ]
     },
     "execution_count": 37,
     "metadata": {},
     "output_type": "execute_result"
    }
   ],
   "source": []
  },
  {
   "cell_type": "code",
   "execution_count": 39,
   "metadata": {},
   "outputs": [
    {
     "data": {
      "text/plain": [
       "{'FLO0': 0, 'FLO1': 0, 'FLO2': 0, 'FLO3': 0, 'FLO4': 0, 'FLO5': 0}"
      ]
     },
     "execution_count": 39,
     "metadata": {},
     "output_type": "execute_result"
    }
   ],
   "source": [
    "Policy(\"no_FLs\",**{lever.name: 0 for lever in FL_EMAmodel.levers})"
   ]
  },
  {
   "cell_type": "code",
   "execution_count": 16,
   "metadata": {},
   "outputs": [
    {
     "name": "stdout",
     "output_type": "stream",
     "text": [
      "{'FLO0': 1, 'FLO1': 0, 'FLO2': 1, 'FLO3': 1, 'FLO4': 0, 'FLO5': 1}\n",
      "{'FLO0': 1, 'FLO1': 0, 'FLO2': 0, 'FLO3': 0, 'FLO4': 1, 'FLO5': 0}\n",
      "{'FLO0': 0, 'FLO1': 0, 'FLO2': 1, 'FLO3': 1, 'FLO4': 0, 'FLO5': 0}\n",
      "{'FLO0': 0, 'FLO1': 1, 'FLO2': 1, 'FLO3': 0, 'FLO4': 1, 'FLO5': 1}\n",
      "{'FLO0': 1, 'FLO1': 1, 'FLO2': 0, 'FLO3': 1, 'FLO4': 0, 'FLO5': 0}\n"
     ]
    }
   ],
   "source": [
    "from ema_workbench.em_framework import sample_levers\n",
    "\n",
    "samples = sample_levers(FL_EMAmodel, 5)\n",
    "\n",
    "for sample in samples:\n",
    "    print(sample)\n"
   ]
  },
  {
   "cell_type": "code",
   "execution_count": null,
   "metadata": {},
   "outputs": [],
   "source": []
  },
  {
   "cell_type": "code",
   "execution_count": 35,
   "metadata": {
    "scrolled": false
   },
   "outputs": [
    {
     "data": {
      "image/png": "[encoded data removed]",
      "text/plain": [
       "<Figure size 432x288 with 1 Axes>"
      ]
     },
     "metadata": {},
     "output_type": "display_data"
    }
   ],
   "source": [
    "FL_EMAmodel.run_model(Scenario(), Policy({}))"
   ]
  },
  {
   "cell_type": "code",
   "execution_count": 29,
   "metadata": {},
   "outputs": [],
   "source": [
    "random_scenario = Scenario(**{unc.name: random.uniform(0,10) for unc in FL_EMAmodel.uncertainties})"
   ]
  },
  {
   "cell_type": "code",
   "execution_count": 35,
   "metadata": {
    "scrolled": true
   },
   "outputs": [
    {
     "name": "stderr",
     "output_type": "stream",
     "text": [
      "[MainProcess/INFO] performing 1 scenarios * 3 policies * 1 model(s) = 3 experiments\n",
      "[MainProcess/INFO] performing experiments sequentially\n"
     ]
    },
    {
     "data": {
      "image/png": "[encoded data removed]",
      "text/plain": [
       "<Figure size 432x288 with 1 Axes>"
      ]
     },
     "metadata": {},
     "output_type": "display_data"
    },
    {
     "name": "stderr",
     "output_type": "stream",
     "text": [
      "[MainProcess/INFO] 1 cases completed\n"
     ]
    },
    {
     "data": {
      "image/png": "[encoded data removed]",
      "text/plain": [
       "<Figure size 432x288 with 1 Axes>"
      ]
     },
     "metadata": {},
     "output_type": "display_data"
    },
    {
     "name": "stderr",
     "output_type": "stream",
     "text": [
      "[MainProcess/INFO] 2 cases completed\n"
     ]
    },
    {
     "data": {
      "image/png": "[encoded data removed]",
      "text/plain": [
       "<Figure size 432x288 with 1 Axes>"
      ]
     },
     "metadata": {},
     "output_type": "display_data"
    },
    {
     "name": "stderr",
     "output_type": "stream",
     "text": [
      "[MainProcess/INFO] 3 cases completed\n",
      "[MainProcess/INFO] experiments finished\n"
     ]
    }
   ],
   "source": [
    "from ema_workbench import Policy, perform_experiments\n",
    "\n",
    "policy_no = Policy(\"No_FLs\",**{lever.name: 0 for lever in FL_EMAmodel.levers})\n",
    "policy_all = Policy(\"All_FLs\",**{lever.name: 1 for lever in FL_EMAmodel.levers})\n",
    "\n",
    "results = perform_experiments(FL_EMAmodel, random_scenario,3)\n",
    "\n",
    "\n",
    "experiments, outcomes = results"
   ]
  },
  {
   "cell_type": "code",
   "execution_count": 89,
   "metadata": {
    "scrolled": true
   },
   "outputs": [
    {
     "data": {
      "text/html": [
       "<div>\n",
       "<style scoped>\n",
       "    .dataframe tbody tr th:only-of-type {\n",
       "        vertical-align: middle;\n",
       "    }\n",
       "\n",
       "    .dataframe tbody tr th {\n",
       "        vertical-align: top;\n",
       "    }\n",
       "\n",
       "    .dataframe thead th {\n",
       "        text-align: right;\n",
       "    }\n",
       "</style>\n",
       "<table border=\"1\" class=\"dataframe\">\n",
       "  <thead>\n",
       "    <tr style=\"text-align: right;\">\n",
       "      <th></th>\n",
       "      <th>DPX0</th>\n",
       "      <th>DPX1</th>\n",
       "      <th>DPX2</th>\n",
       "      <th>DPX3</th>\n",
       "      <th>DPX4</th>\n",
       "      <th>DPX5</th>\n",
       "      <th>DPX6</th>\n",
       "      <th>DPX7</th>\n",
       "      <th>DPX8</th>\n",
       "      <th>DPX9</th>\n",
       "      <th>...</th>\n",
       "      <th>SPY0</th>\n",
       "      <th>FLO0</th>\n",
       "      <th>FLO1</th>\n",
       "      <th>FLO2</th>\n",
       "      <th>FLO3</th>\n",
       "      <th>FLO4</th>\n",
       "      <th>FLO5</th>\n",
       "      <th>scenario_id</th>\n",
       "      <th>policy</th>\n",
       "      <th>model</th>\n",
       "    </tr>\n",
       "  </thead>\n",
       "  <tbody>\n",
       "    <tr>\n",
       "      <th>0</th>\n",
       "      <td>8.511881</td>\n",
       "      <td>3.216641</td>\n",
       "      <td>7.190886</td>\n",
       "      <td>5.747872</td>\n",
       "      <td>5.591575</td>\n",
       "      <td>5.096612</td>\n",
       "      <td>1.634270</td>\n",
       "      <td>8.165164</td>\n",
       "      <td>2.712119</td>\n",
       "      <td>5.784892</td>\n",
       "      <td>...</td>\n",
       "      <td>5.212050</td>\n",
       "      <td>0</td>\n",
       "      <td>0</td>\n",
       "      <td>0</td>\n",
       "      <td>0</td>\n",
       "      <td>0</td>\n",
       "      <td>0</td>\n",
       "      <td>70</td>\n",
       "      <td>1</td>\n",
       "      <td>flmodel</td>\n",
       "    </tr>\n",
       "    <tr>\n",
       "      <th>1</th>\n",
       "      <td>0.659520</td>\n",
       "      <td>9.540083</td>\n",
       "      <td>0.529086</td>\n",
       "      <td>0.895843</td>\n",
       "      <td>4.775754</td>\n",
       "      <td>3.536806</td>\n",
       "      <td>8.336866</td>\n",
       "      <td>2.628721</td>\n",
       "      <td>9.053414</td>\n",
       "      <td>4.874742</td>\n",
       "      <td>...</td>\n",
       "      <td>4.590406</td>\n",
       "      <td>0</td>\n",
       "      <td>0</td>\n",
       "      <td>0</td>\n",
       "      <td>0</td>\n",
       "      <td>0</td>\n",
       "      <td>0</td>\n",
       "      <td>71</td>\n",
       "      <td>1</td>\n",
       "      <td>flmodel</td>\n",
       "    </tr>\n",
       "  </tbody>\n",
       "</table>\n",
       "<p>2 rows × 43 columns</p>\n",
       "</div>"
      ],
      "text/plain": [
       "       DPX0      DPX1      DPX2      DPX3      DPX4      DPX5      DPX6  \\\n",
       "0  8.511881  3.216641  7.190886  5.747872  5.591575  5.096612  1.634270   \n",
       "1  0.659520  9.540083  0.529086  0.895843  4.775754  3.536806  8.336866   \n",
       "\n",
       "       DPX7      DPX8      DPX9   ...         SPY0  FLO0  FLO1  FLO2  FLO3  \\\n",
       "0  8.165164  2.712119  5.784892   ...     5.212050     0     0     0     0   \n",
       "1  2.628721  9.053414  4.874742   ...     4.590406     0     0     0     0   \n",
       "\n",
       "   FLO4  FLO5  scenario_id  policy    model  \n",
       "0     0     0           70       1  flmodel  \n",
       "1     0     0           71       1  flmodel  \n",
       "\n",
       "[2 rows x 43 columns]"
      ]
     },
     "execution_count": 89,
     "metadata": {},
     "output_type": "execute_result"
    }
   ],
   "source": [
    "pd.DataFrame(experiments)#[[\"FLO0\",\"FLO1\",\"FLO2\",\"FLO3\"]]"
   ]
  },
  {
   "cell_type": "code",
   "execution_count": 38,
   "metadata": {
    "scrolled": false
   },
   "outputs": [
    {
     "data": {
      "text/html": [
       "<div>\n",
       "<style scoped>\n",
       "    .dataframe tbody tr th:only-of-type {\n",
       "        vertical-align: middle;\n",
       "    }\n",
       "\n",
       "    .dataframe tbody tr th {\n",
       "        vertical-align: top;\n",
       "    }\n",
       "\n",
       "    .dataframe thead th {\n",
       "        text-align: right;\n",
       "    }\n",
       "</style>\n",
       "<table border=\"1\" class=\"dataframe\">\n",
       "  <thead>\n",
       "    <tr style=\"text-align: right;\">\n",
       "      <th></th>\n",
       "      <th>Total_cost</th>\n",
       "      <th>operational_FL</th>\n",
       "    </tr>\n",
       "  </thead>\n",
       "  <tbody>\n",
       "    <tr>\n",
       "      <th>0</th>\n",
       "      <td>441.705585</td>\n",
       "      <td>4.0</td>\n",
       "    </tr>\n",
       "    <tr>\n",
       "      <th>1</th>\n",
       "      <td>428.372205</td>\n",
       "      <td>4.0</td>\n",
       "    </tr>\n",
       "    <tr>\n",
       "      <th>2</th>\n",
       "      <td>237.854518</td>\n",
       "      <td>2.0</td>\n",
       "    </tr>\n",
       "    <tr>\n",
       "      <th>3</th>\n",
       "      <td>234.220134</td>\n",
       "      <td>2.0</td>\n",
       "    </tr>\n",
       "  </tbody>\n",
       "</table>\n",
       "</div>"
      ],
      "text/plain": [
       "   Total_cost  operational_FL\n",
       "0  441.705585             4.0\n",
       "1  428.372205             4.0\n",
       "2  237.854518             2.0\n",
       "3  234.220134             2.0"
      ]
     },
     "execution_count": 38,
     "metadata": {},
     "output_type": "execute_result"
    }
   ],
   "source": [
    "pd.DataFrame(outcomes)"
   ]
  },
  {
   "cell_type": "code",
   "execution_count": null,
   "metadata": {},
   "outputs": [],
   "source": []
  },
  {
   "cell_type": "code",
   "execution_count": null,
   "metadata": {},
   "outputs": [],
   "source": []
  },
  {
   "cell_type": "markdown",
   "metadata": {
    "heading_collapsed": true
   },
   "source": [
    "# Platypus optimisation"
   ]
  },
  {
   "cell_type": "code",
   "execution_count": 14,
   "metadata": {
    "hidden": true
   },
   "outputs": [],
   "source": [
    "# imports\n",
    "from platypus import NSGAII, Problem, Binary, Real, Integer"
   ]
  },
  {
   "cell_type": "code",
   "execution_count": 10,
   "metadata": {
    "hidden": true
   },
   "outputs": [],
   "source": [
    "def FL_model(d_vars=None): # None to make compatible with EMA\n",
    "\n",
    "    # set global operational FL\n",
    "    for i in range(len(d_vars)):\n",
    "        facility_locations[i].operational = d_vars[i]\n",
    "\n",
    "    trans_costs = calc_transportation_costs(supply_points, demand_points,\n",
    "                                      facility_locations, distances)\n",
    "\n",
    "    costs = trans_costs #+ other costs\n",
    "    \n",
    "    objectives = [\n",
    "        costs,\n",
    "    ]\n",
    "    constraints = [sum(d_vars),]\n",
    "\n",
    "    return objectives, constraints"
   ]
  },
  {
   "cell_type": "code",
   "execution_count": 54,
   "metadata": {
    "hidden": true
   },
   "outputs": [],
   "source": [
    "# nr of decision variables, number of objectives, number of constraints\n",
    "problem = Problem(nr_optional_FL, 1, 1)\n",
    "\n",
    "# Decision variables for possible facility locations\n",
    "problem.types[:] = [Integer(0,1) for a in range(nr_optional_FL)]\n",
    "\n",
    "# constraint: number of total operation FL\n",
    "problem.constraints[:] = \"=={}\".format(max_nr_FL)\n",
    "problem.function = FL_model\n",
    "\n",
    "algorithm = NSGAII(problem)\n",
    "algorithm.run(10000)"
   ]
  },
  {
   "cell_type": "code",
   "execution_count": 50,
   "metadata": {
    "hidden": true
   },
   "outputs": [
    {
     "data": {
      "text/plain": [
       "'==2'"
      ]
     },
     "execution_count": 50,
     "metadata": {},
     "output_type": "execute_result"
    }
   ],
   "source": []
  },
  {
   "cell_type": "code",
   "execution_count": 17,
   "metadata": {
    "hidden": true
   },
   "outputs": [],
   "source": [
    "from platypus import nondominated"
   ]
  },
  {
   "cell_type": "code",
   "execution_count": null,
   "metadata": {
    "hidden": true
   },
   "outputs": [],
   "source": []
  },
  {
   "cell_type": "code",
   "execution_count": 55,
   "metadata": {
    "hidden": true,
    "scrolled": true
   },
   "outputs": [],
   "source": [
    "a = nondominated (algorithm.result)"
   ]
  },
  {
   "cell_type": "code",
   "execution_count": 57,
   "metadata": {
    "collapsed": true,
    "hidden": true
   },
   "outputs": [
    {
     "data": {
      "text/plain": [
       "[Solution[[False],[True],[False],[False],[False],[False],[False],[False],[True],[False]|68.98869101013045|0.0],\n",
       " Solution[[False],[True],[False],[False],[False],[False],[False],[False],[True],[False]|68.98869101013045|0.0],\n",
       " Solution[[False],[True],[False],[False],[False],[False],[False],[False],[True],[False]|68.98869101013045|0.0],\n",
       " Solution[[False],[True],[False],[False],[False],[False],[False],[False],[True],[False]|68.98869101013045|0.0],\n",
       " Solution[[False],[True],[False],[False],[False],[False],[False],[False],[True],[False]|68.98869101013045|0.0],\n",
       " Solution[[False],[True],[False],[False],[False],[False],[False],[False],[True],[False]|68.98869101013045|0.0],\n",
       " Solution[[False],[True],[False],[False],[False],[False],[False],[False],[True],[False]|68.98869101013045|0.0],\n",
       " Solution[[False],[True],[False],[False],[False],[False],[False],[False],[True],[False]|68.98869101013045|0.0],\n",
       " Solution[[False],[True],[False],[False],[False],[False],[False],[False],[True],[False]|68.98869101013045|0.0],\n",
       " Solution[[False],[True],[False],[False],[False],[False],[False],[False],[True],[False]|68.98869101013045|0.0],\n",
       " Solution[[False],[True],[False],[False],[False],[False],[False],[False],[True],[False]|68.98869101013045|0.0],\n",
       " Solution[[False],[True],[False],[False],[False],[False],[False],[False],[True],[False]|68.98869101013045|0.0],\n",
       " Solution[[False],[True],[False],[False],[False],[False],[False],[False],[True],[False]|68.98869101013045|0.0],\n",
       " Solution[[False],[True],[False],[False],[False],[False],[False],[False],[True],[False]|68.98869101013045|0.0],\n",
       " Solution[[False],[True],[False],[False],[False],[False],[False],[False],[True],[False]|68.98869101013045|0.0],\n",
       " Solution[[False],[True],[False],[False],[False],[False],[False],[False],[True],[False]|68.98869101013045|0.0],\n",
       " Solution[[False],[True],[False],[False],[False],[False],[False],[False],[True],[False]|68.98869101013045|0.0],\n",
       " Solution[[False],[True],[False],[False],[False],[False],[False],[False],[True],[False]|68.98869101013045|0.0],\n",
       " Solution[[False],[True],[False],[False],[False],[False],[False],[False],[True],[False]|68.98869101013045|0.0],\n",
       " Solution[[False],[True],[False],[False],[False],[False],[False],[False],[True],[False]|68.98869101013045|0.0],\n",
       " Solution[[False],[True],[False],[False],[False],[False],[False],[False],[True],[False]|68.98869101013045|0.0],\n",
       " Solution[[False],[True],[False],[False],[False],[False],[False],[False],[True],[False]|68.98869101013045|0.0],\n",
       " Solution[[False],[True],[False],[False],[False],[False],[False],[False],[True],[False]|68.98869101013045|0.0],\n",
       " Solution[[False],[True],[False],[False],[False],[False],[False],[False],[True],[False]|68.98869101013045|0.0],\n",
       " Solution[[False],[True],[False],[False],[False],[False],[False],[False],[True],[False]|68.98869101013045|0.0],\n",
       " Solution[[False],[True],[False],[False],[False],[False],[False],[False],[True],[False]|68.98869101013045|0.0],\n",
       " Solution[[False],[True],[False],[False],[False],[False],[False],[False],[True],[False]|68.98869101013045|0.0],\n",
       " Solution[[False],[True],[False],[False],[False],[False],[False],[False],[True],[False]|68.98869101013045|0.0],\n",
       " Solution[[False],[True],[False],[False],[False],[False],[False],[False],[True],[False]|68.98869101013045|0.0],\n",
       " Solution[[False],[True],[False],[False],[False],[False],[False],[False],[True],[False]|68.98869101013045|0.0],\n",
       " Solution[[False],[True],[False],[False],[False],[False],[False],[False],[True],[False]|68.98869101013045|0.0],\n",
       " Solution[[False],[True],[False],[False],[False],[False],[False],[False],[True],[False]|68.98869101013045|0.0],\n",
       " Solution[[False],[True],[False],[False],[False],[False],[False],[False],[True],[False]|68.98869101013045|0.0],\n",
       " Solution[[False],[True],[False],[False],[False],[False],[False],[False],[True],[False]|68.98869101013045|0.0],\n",
       " Solution[[False],[True],[False],[False],[False],[False],[False],[False],[True],[False]|68.98869101013045|0.0],\n",
       " Solution[[False],[True],[False],[False],[False],[False],[False],[False],[True],[False]|68.98869101013045|0.0],\n",
       " Solution[[False],[True],[False],[False],[False],[False],[False],[False],[True],[False]|68.98869101013045|0.0],\n",
       " Solution[[False],[True],[False],[False],[False],[False],[False],[False],[True],[False]|68.98869101013045|0.0],\n",
       " Solution[[False],[True],[False],[False],[False],[False],[False],[False],[True],[False]|68.98869101013045|0.0],\n",
       " Solution[[False],[True],[False],[False],[False],[False],[False],[False],[True],[False]|68.98869101013045|0.0],\n",
       " Solution[[False],[True],[False],[False],[False],[False],[False],[False],[True],[False]|68.98869101013045|0.0],\n",
       " Solution[[False],[True],[False],[False],[False],[False],[False],[False],[True],[False]|68.98869101013045|0.0],\n",
       " Solution[[False],[True],[False],[False],[False],[False],[False],[False],[True],[False]|68.98869101013045|0.0],\n",
       " Solution[[False],[True],[False],[False],[False],[False],[False],[False],[True],[False]|68.98869101013045|0.0],\n",
       " Solution[[False],[True],[False],[False],[False],[False],[False],[False],[True],[False]|68.98869101013045|0.0],\n",
       " Solution[[False],[True],[False],[False],[False],[False],[False],[False],[True],[False]|68.98869101013045|0.0],\n",
       " Solution[[False],[True],[False],[False],[False],[False],[False],[False],[True],[False]|68.98869101013045|0.0],\n",
       " Solution[[False],[True],[False],[False],[False],[False],[False],[False],[True],[False]|68.98869101013045|0.0],\n",
       " Solution[[False],[True],[False],[False],[False],[False],[False],[False],[True],[False]|68.98869101013045|0.0],\n",
       " Solution[[False],[True],[False],[False],[False],[False],[False],[False],[True],[False]|68.98869101013045|0.0],\n",
       " Solution[[False],[True],[False],[False],[False],[False],[False],[False],[True],[False]|68.98869101013045|0.0],\n",
       " Solution[[False],[True],[False],[False],[False],[False],[False],[False],[True],[False]|68.98869101013045|0.0],\n",
       " Solution[[False],[True],[False],[False],[False],[False],[False],[False],[True],[False]|68.98869101013045|0.0],\n",
       " Solution[[False],[True],[False],[False],[False],[False],[False],[False],[True],[False]|68.98869101013045|0.0],\n",
       " Solution[[False],[True],[False],[False],[False],[False],[False],[False],[True],[False]|68.98869101013045|0.0],\n",
       " Solution[[False],[True],[False],[False],[False],[False],[False],[False],[True],[False]|68.98869101013045|0.0],\n",
       " Solution[[False],[True],[False],[False],[False],[False],[False],[False],[True],[False]|68.98869101013045|0.0],\n",
       " Solution[[False],[True],[False],[False],[False],[False],[False],[False],[True],[False]|68.98869101013045|0.0],\n",
       " Solution[[False],[True],[False],[False],[False],[False],[False],[False],[True],[False]|68.98869101013045|0.0],\n",
       " Solution[[False],[True],[False],[False],[False],[False],[False],[False],[True],[False]|68.98869101013045|0.0],\n",
       " Solution[[False],[True],[False],[False],[False],[False],[False],[False],[True],[False]|68.98869101013045|0.0],\n",
       " Solution[[False],[True],[False],[False],[False],[False],[False],[False],[True],[False]|68.98869101013045|0.0],\n",
       " Solution[[False],[True],[False],[False],[False],[False],[False],[False],[True],[False]|68.98869101013045|0.0],\n",
       " Solution[[False],[True],[False],[False],[False],[False],[False],[False],[True],[False]|68.98869101013045|0.0],\n",
       " Solution[[False],[True],[False],[False],[False],[False],[False],[False],[True],[False]|68.98869101013045|0.0],\n",
       " Solution[[False],[True],[False],[False],[False],[False],[False],[False],[True],[False]|68.98869101013045|0.0],\n",
       " Solution[[False],[True],[False],[False],[False],[False],[False],[False],[True],[False]|68.98869101013045|0.0],\n",
       " Solution[[False],[True],[False],[False],[False],[False],[False],[False],[True],[False]|68.98869101013045|0.0],\n",
       " Solution[[False],[True],[False],[False],[False],[False],[False],[False],[True],[False]|68.98869101013045|0.0],\n",
       " Solution[[False],[True],[False],[False],[False],[False],[False],[False],[True],[False]|68.98869101013045|0.0],\n",
       " Solution[[False],[True],[False],[False],[False],[False],[False],[False],[True],[False]|68.98869101013045|0.0],\n",
       " Solution[[False],[True],[False],[False],[False],[False],[False],[False],[True],[False]|68.98869101013045|0.0],\n",
       " Solution[[False],[True],[False],[False],[False],[False],[False],[False],[True],[False]|68.98869101013045|0.0],\n",
       " Solution[[False],[True],[False],[False],[False],[False],[False],[False],[True],[False]|68.98869101013045|0.0],\n",
       " Solution[[False],[True],[False],[False],[False],[False],[False],[False],[True],[False]|68.98869101013045|0.0],\n",
       " Solution[[False],[True],[False],[False],[False],[False],[False],[False],[True],[False]|68.98869101013045|0.0],\n",
       " Solution[[False],[True],[False],[False],[False],[False],[False],[False],[True],[False]|68.98869101013045|0.0],\n",
       " Solution[[False],[True],[False],[False],[False],[False],[False],[False],[True],[False]|68.98869101013045|0.0],\n",
       " Solution[[False],[True],[False],[False],[False],[False],[False],[False],[True],[False]|68.98869101013045|0.0],\n",
       " Solution[[False],[True],[False],[False],[False],[False],[False],[False],[True],[False]|68.98869101013045|0.0],\n",
       " Solution[[False],[True],[False],[False],[False],[False],[False],[False],[True],[False]|68.98869101013045|0.0],\n",
       " Solution[[False],[True],[False],[False],[False],[False],[False],[False],[True],[False]|68.98869101013045|0.0],\n",
       " Solution[[False],[True],[False],[False],[False],[False],[False],[False],[True],[False]|68.98869101013045|0.0],\n",
       " Solution[[False],[True],[False],[False],[False],[False],[False],[False],[True],[False]|68.98869101013045|0.0],\n",
       " Solution[[False],[True],[False],[False],[False],[False],[False],[False],[True],[False]|68.98869101013045|0.0],\n",
       " Solution[[False],[True],[False],[False],[False],[False],[False],[False],[True],[False]|68.98869101013045|0.0],\n",
       " Solution[[False],[True],[False],[False],[False],[False],[False],[False],[True],[False]|68.98869101013045|0.0],\n",
       " Solution[[False],[True],[False],[False],[False],[False],[False],[False],[True],[False]|68.98869101013045|0.0],\n",
       " Solution[[False],[True],[False],[False],[False],[False],[False],[False],[True],[False]|68.98869101013045|0.0],\n",
       " Solution[[False],[True],[False],[False],[False],[False],[False],[False],[True],[False]|68.98869101013045|0.0],\n",
       " Solution[[False],[True],[False],[False],[False],[False],[False],[False],[True],[False]|68.98869101013045|0.0],\n",
       " Solution[[False],[True],[False],[False],[False],[False],[False],[False],[True],[False]|68.98869101013045|0.0],\n",
       " Solution[[False],[True],[False],[False],[False],[False],[False],[False],[True],[False]|68.98869101013045|0.0],\n",
       " Solution[[False],[True],[False],[False],[False],[False],[False],[False],[True],[False]|68.98869101013045|0.0],\n",
       " Solution[[False],[True],[False],[False],[False],[False],[False],[False],[True],[False]|68.98869101013045|0.0],\n",
       " Solution[[False],[True],[False],[False],[False],[False],[False],[False],[True],[False]|68.98869101013045|0.0],\n",
       " Solution[[False],[True],[False],[False],[False],[False],[False],[False],[True],[False]|68.98869101013045|0.0],\n",
       " Solution[[False],[True],[False],[False],[False],[False],[False],[False],[True],[False]|68.98869101013045|0.0],\n",
       " Solution[[False],[True],[False],[False],[False],[False],[False],[False],[True],[False]|68.98869101013045|0.0],\n",
       " Solution[[False],[True],[False],[False],[False],[False],[False],[False],[True],[False]|68.98869101013045|0.0]]"
      ]
     },
     "execution_count": 57,
     "metadata": {},
     "output_type": "execute_result"
    }
   ],
   "source": [
    "a"
   ]
  },
  {
   "cell_type": "code",
   "execution_count": 56,
   "metadata": {
    "hidden": true
   },
   "outputs": [
    {
     "name": "stdout",
     "output_type": "stream",
     "text": [
      "68.98869101013045\n"
     ]
    }
   ],
   "source": [
    "for i in a[0].objectives:\n",
    "    print(i)"
   ]
  },
  {
   "cell_type": "code",
   "execution_count": 44,
   "metadata": {
    "hidden": true
   },
   "outputs": [
    {
     "data": {
      "text/plain": [
       "33.50099827255527"
      ]
     },
     "execution_count": 44,
     "metadata": {},
     "output_type": "execute_result"
    }
   ],
   "source": [
    "a[0].objectives[0]"
   ]
  },
  {
   "cell_type": "code",
   "execution_count": 46,
   "metadata": {
    "hidden": true,
    "scrolled": true
   },
   "outputs": [
    {
     "data": {
      "text/plain": [
       "{33.50099827255527}"
      ]
     },
     "execution_count": 46,
     "metadata": {},
     "output_type": "execute_result"
    }
   ],
   "source": [
    "set([i.objectives[0] for i in a])"
   ]
  }
 ],
 "metadata": {
  "kernelspec": {
   "display_name": "Python 3",
   "language": "python",
   "name": "python3"
  },
  "language_info": {
   "codemirror_mode": {
    "name": "ipython",
    "version": 3
   },
   "file_extension": ".py",
   "mimetype": "text/x-python",
   "name": "python",
   "nbconvert_exporter": "python",
   "pygments_lexer": "ipython3",
   "version": "3.6.4"
  },
  "notify_time": "5",
  "toc": {
   "nav_menu": {
    "height": "416px",
    "width": "437px"
   },
   "number_sections": true,
   "sideBar": true,
   "skip_h1_title": false,
   "title_cell": "Table of Contents",
   "title_sidebar": "Contents",
   "toc_cell": false,
   "toc_position": {
    "height": "100px",
    "left": "754px",
    "top": "110.5px",
    "width": "165px"
   },
   "toc_section_display": true,
   "toc_window_display": true
  }
 },
 "nbformat": 4,
 "nbformat_minor": 2
}
