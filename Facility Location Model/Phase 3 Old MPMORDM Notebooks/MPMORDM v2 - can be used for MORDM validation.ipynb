{
 "cells": [
  {
   "cell_type": "markdown",
   "metadata": {},
   "source": [
    "Versions:\n",
    "* v1: one full cycle. Not yet multiple cycles implemented\n",
    "* v2: MORDM cycle into IO-function\n",
    "\n",
    "TODO inputdata: \n",
    "* FL not random generation\n",
    "* distances based on OSRM route matrix\n",
    "\n",
    "TODO model:\n",
    "* Check values for disruption 1-2 of 0-1"
   ]
  },
  {
   "cell_type": "markdown",
   "metadata": {},
   "source": [
    "<b> OSRM </b><br>\n",
    "for installation:\n",
    "\n",
    "pip install git+https://github.com/ustroetz/python-osrm"
   ]
  },
  {
   "cell_type": "markdown",
   "metadata": {},
   "source": [
    "#### Parts:\n",
    "\n",
    "1. Load and Prepare Data\n",
    "2. MORDM at t\n",
    "3. Branch\n",
    "4. Go to 2."
   ]
  },
  {
   "cell_type": "code",
   "execution_count": 1,
   "metadata": {},
   "outputs": [],
   "source": [
    "# Standard imports\n",
    "import random\n",
    "import pandas as pd\n",
    "import numpy as np\n",
    "\n",
    "# Own Model import\n",
    "from lib.fl_model_v5 import *\n",
    "# import lib.fl_model_v5 as flm\n",
    "\n",
    "# for natural sorting\n",
    "import re\n",
    "\n",
    "#for nondominated sorting\n",
    "import lib.pareto as pareto\n",
    "from lib.list_imports import find_loaded_modules\n",
    "\n",
    "# for parallel plotting\n",
    "from lib.parallel_plotting import plot_optimal\n",
    "\n",
    "# For checking ema running time\n",
    "import time"
   ]
  },
  {
   "cell_type": "code",
   "execution_count": 2,
   "metadata": {},
   "outputs": [
    {
     "data": {
      "text/plain": [
       "<Logger EMA (DEBUG)>"
      ]
     },
     "execution_count": 2,
     "metadata": {},
     "output_type": "execute_result"
    }
   ],
   "source": [
    "import ema_workbench as ema\n",
    "from ema_workbench.em_framework import (Policy, IntegerParameter, Constant,\n",
    "                                        RealParameter, ScalarOutcome,\n",
    "                                        perform_experiments, Model)\n",
    "from ema_workbench import ema_logging\n",
    "# from ema_workbench.em_framework.\n",
    "\n",
    "ema_logging.log_to_stderr(ema_logging.INFO)"
   ]
  },
  {
   "cell_type": "code",
   "execution_count": 3,
   "metadata": {
    "code_folding": [
     0
    ]
   },
   "outputs": [],
   "source": [
    "# %load https://gist.github.com/TRomijn/d9d28ba7b7d5eeac1deea5a26dd326b2/raw/loaded_modules.py\n",
    "\n",
    "'''\n",
    "original author: kinverarity1\n",
    "\n",
    "List loaded modules and packages, and show their version numbers\n",
    "and/or Git repository's HEAD commit SHA.\n",
    "\n",
    "\n",
    "Changes:\n",
    "Minor changes to make compatible with Python 3\n",
    "'''\n",
    "# Standard library modules\n",
    "import types\n",
    "import os\n",
    "\n",
    "# Third-party packages\n",
    "import git      # GitPython\n",
    "\n",
    "\n",
    "def module_path(mod):\n",
    "    '''Returns path to the file that module *mod* comes from.\n",
    "    If it doesn't come from a file, return None.'''\n",
    "    if hasattr(mod, '__file__'):\n",
    "        return os.path.abspath(os.path.dirname(mod.__file__))\n",
    "    else:\n",
    "        return None\n",
    "\n",
    "    \n",
    "def from_git_repo(mod):\n",
    "    '''Does the module *mod* reside in a Git repository?'''\n",
    "    path = module_path(mod)\n",
    "    if path:\n",
    "        try:\n",
    "            repo = git.Repo(path)\n",
    "        except:\n",
    "            return False\n",
    "        else:\n",
    "            return True\n",
    "    else:\n",
    "        return False\n",
    "\n",
    "    \n",
    "def git_path_sha(mod, slice=slice(0, 8, 1)):\n",
    "    '''Return SHA hash for the HEAD commit for the repository\n",
    "    that the module *mod* resides in.'''\n",
    "    repo = git.Repo(module_path(mod))\n",
    "    return repo.git_dir, repo.head.commit.hexsha[:8]\n",
    "\n",
    "\n",
    "def module_version(mod):\n",
    "    '''Return version string for module *mod*, or nothing if\n",
    "    it doesn't have a \"version\" or \"__version__\" attribute.'''\n",
    "    version = []\n",
    "    if hasattr(mod, '__dict__'):\n",
    "        keys = []\n",
    "        for key in mod.__dict__.keys():\n",
    "            if key.lower() == 'version' or key.lower() == '__version__':\n",
    "                v = mod.__dict__[key]\n",
    "                if isinstance(v, str):\n",
    "                    version.append(v)\n",
    "        if keys:\n",
    "            print (mod, keys)\n",
    "    if version:\n",
    "        return ', '.join(version)\n",
    "    else:\n",
    "        return ''\n",
    "\n",
    "    \n",
    "def find_loaded_modules(only_versioned_modules=True):\n",
    "    '''Return list of loaded modules for which there is a version\n",
    "    number or a Git repository commit SHA.\n",
    "    \n",
    "    Return a list of *(name, version, path_to_git_repo, git_head_sha)*,\n",
    "    which has an HTML property for pretty display in IPython Notebooks.\n",
    "        \n",
    "    '''\n",
    "    def list_of_lists_to_HTML(lists, header_row=None):\n",
    "        '''Convert a list of a list of strings to a HTML table.'''\n",
    "        s = '<table>'\n",
    "        if header_row:\n",
    "            s += '\\n\\t<tr>\\n\\t\\t'\n",
    "            s += ''.join(['<th>%s</th>' % item for item in header_row])\n",
    "            s += '\\n\\t</tr>'\n",
    "        for inner_list in lists:\n",
    "            s += '\\n\\t<tr>\\n\\t\\t'\n",
    "            s += ''.join(['<td>%s</td>' % item for item in inner_list])\n",
    "            s += '\\n\\t</tr>'\n",
    "        s += '\\n</table>'\n",
    "        return s\n",
    "    \n",
    "    class LoadedModules(list):\n",
    "        '''Very simple wrapper for a list of lists of strings, with an attribute\n",
    "        for display in IPython Notebooks.'''\n",
    "        def __init__(self, *args, **kwargs):\n",
    "            list.__init__(self, *args, **kwargs)\n",
    "            \n",
    "        @property\n",
    "        def HTML(self):\n",
    "            from IPython.display import HTML\n",
    "            return HTML(\n",
    "                    list_of_lists_to_HTML(\n",
    "                            self, header_row=['Name', 'Version', 'Path', 'SHA']))\n",
    "                    \n",
    "    objs = LoadedModules()\n",
    "    for i, mod in enumerate(globals().values()):\n",
    "        if isinstance(mod, types.ModuleType):\n",
    "            if hasattr(mod, '__name__'):\n",
    "                name = mod.__name__\n",
    "            else:\n",
    "                name = ''\n",
    "            \n",
    "            if from_git_repo(mod):\n",
    "                path, sha = git_path_sha(mod)\n",
    "            else:\n",
    "                path = ''\n",
    "                sha = ''\n",
    "            \n",
    "            version = module_version(mod)\n",
    "            \n",
    "            if only_versioned_modules:\n",
    "                flag = version or (path and sha)\n",
    "            else:\n",
    "                flag = True\n",
    "            \n",
    "            if flag:\n",
    "                objs.append([mod.__name__, version, path, sha])\n",
    "    objs.sort(key=lambda r: r[0])\n",
    "    return objs\n",
    "\n",
    "\n",
    "    \n",
    "    "
   ]
  },
  {
   "cell_type": "code",
   "execution_count": 4,
   "metadata": {
    "scrolled": false
   },
   "outputs": [
    {
     "data": {
      "text/html": [
       "<table>\n",
       "\t<tr>\n",
       "\t\t<th>Name</th><th>Version</th><th>Path</th><th>SHA</th>\n",
       "\t</tr>\n",
       "\t<tr>\n",
       "\t\t<td>ema_workbench</td><td>1.1.3</td><td></td><td></td>\n",
       "\t</tr>\n",
       "\t<tr>\n",
       "\t\t<td>git</td><td>2.1.9</td><td></td><td></td>\n",
       "\t</tr>\n",
       "\t<tr>\n",
       "\t\t<td>json</td><td>2.0.9</td><td></td><td></td>\n",
       "\t</tr>\n",
       "\t<tr>\n",
       "\t\t<td>lib.pareto</td><td>1.1.1-3</td><td></td><td></td>\n",
       "\t</tr>\n",
       "\t<tr>\n",
       "\t\t<td>numpy</td><td>1.14.2</td><td></td><td></td>\n",
       "\t</tr>\n",
       "\t<tr>\n",
       "\t\t<td>pandas</td><td>0.22.0</td><td></td><td></td>\n",
       "\t</tr>\n",
       "\t<tr>\n",
       "\t\t<td>re</td><td>2.2.1</td><td></td><td></td>\n",
       "\t</tr>\n",
       "</table>"
      ],
      "text/plain": [
       "<IPython.core.display.HTML object>"
      ]
     },
     "execution_count": 4,
     "metadata": {},
     "output_type": "execute_result"
    }
   ],
   "source": [
    "find_loaded_modules().HTML"
   ]
  },
  {
   "cell_type": "markdown",
   "metadata": {},
   "source": [
    "# FL Model test"
   ]
  },
  {
   "cell_type": "markdown",
   "metadata": {},
   "source": [
    "Moved to different Notebook"
   ]
  },
  {
   "cell_type": "markdown",
   "metadata": {},
   "source": [
    "# FL Model Nepal"
   ]
  },
  {
   "cell_type": "markdown",
   "metadata": {},
   "source": [
    "## Nepal Data"
   ]
  },
  {
   "cell_type": "code",
   "execution_count": 5,
   "metadata": {},
   "outputs": [
    {
     "data": {
      "text/html": [
       "<div>\n",
       "<style scoped>\n",
       "    .dataframe tbody tr th:only-of-type {\n",
       "        vertical-align: middle;\n",
       "    }\n",
       "\n",
       "    .dataframe tbody tr th {\n",
       "        vertical-align: top;\n",
       "    }\n",
       "\n",
       "    .dataframe thead th {\n",
       "        text-align: right;\n",
       "    }\n",
       "</style>\n",
       "<table border=\"1\" class=\"dataframe\">\n",
       "  <thead>\n",
       "    <tr style=\"text-align: right;\">\n",
       "      <th></th>\n",
       "      <th>City</th>\n",
       "      <th>Population</th>\n",
       "      <th>Latitude (DD)</th>\n",
       "      <th>Longitude (DD)</th>\n",
       "    </tr>\n",
       "  </thead>\n",
       "  <tbody>\n",
       "    <tr>\n",
       "      <th>0</th>\n",
       "      <td>Kathmandu</td>\n",
       "      <td>743300</td>\n",
       "      <td>27.71</td>\n",
       "      <td>85.31</td>\n",
       "    </tr>\n",
       "  </tbody>\n",
       "</table>\n",
       "</div>"
      ],
      "text/plain": [
       "        City  Population  Latitude (DD)  Longitude (DD)\n",
       "0  Kathmandu      743300          27.71           85.31"
      ]
     },
     "execution_count": 5,
     "metadata": {},
     "output_type": "execute_result"
    }
   ],
   "source": [
    "Nepal = pd.read_csv(\"Data/Nepal Cities Population.csv\", usecols=[1,2,3,4])\n",
    "\n",
    "# Take only larger cities, because of many null values under 50000 inhabitants. \n",
    "# TODO find better dataset with population and coordinates\n",
    "Nepal = Nepal [Nepal.Population >= 50000]\n",
    "Nepal.head(1)"
   ]
  },
  {
   "cell_type": "code",
   "execution_count": 6,
   "metadata": {},
   "outputs": [
    {
     "data": {
      "text/html": [
       "<div>\n",
       "<style scoped>\n",
       "    .dataframe tbody tr th:only-of-type {\n",
       "        vertical-align: middle;\n",
       "    }\n",
       "\n",
       "    .dataframe tbody tr th {\n",
       "        vertical-align: top;\n",
       "    }\n",
       "\n",
       "    .dataframe thead th {\n",
       "        text-align: right;\n",
       "    }\n",
       "</style>\n",
       "<table border=\"1\" class=\"dataframe\">\n",
       "  <thead>\n",
       "    <tr style=\"text-align: right;\">\n",
       "      <th></th>\n",
       "      <th>Airport</th>\n",
       "      <th>Latitude (DD)</th>\n",
       "      <th>Longitude (DD)</th>\n",
       "    </tr>\n",
       "  </thead>\n",
       "  <tbody>\n",
       "    <tr>\n",
       "      <th>7</th>\n",
       "      <td>Tribhuvan intl</td>\n",
       "      <td>27.7</td>\n",
       "      <td>85.36</td>\n",
       "    </tr>\n",
       "  </tbody>\n",
       "</table>\n",
       "</div>"
      ],
      "text/plain": [
       "          Airport  Latitude (DD)  Longitude (DD)\n",
       "7  Tribhuvan intl           27.7           85.36"
      ]
     },
     "execution_count": 6,
     "metadata": {},
     "output_type": "execute_result"
    }
   ],
   "source": [
    "airports = pd.read_csv(\"Data/Nepal Airports.csv\", usecols=[0,5,6])\n",
    "int_airports = airports[airports['Airport'] == \"Tribhuvan intl\"]\n",
    "int_airports.head()"
   ]
  },
  {
   "cell_type": "markdown",
   "metadata": {},
   "source": [
    "### Unfinished: Get Nepal Facility Location nodes -  Do: GIS analysis"
   ]
  },
  {
   "cell_type": "markdown",
   "metadata": {},
   "source": [
    "### Format DPs, SPs random Data FLS, "
   ]
  },
  {
   "cell_type": "code",
   "execution_count": 7,
   "metadata": {
    "scrolled": false
   },
   "outputs": [],
   "source": [
    "DPs = Nepal\n",
    "# np.random.seed(0)\n",
    "# DPs['Demand_estimate'] = np.random.randint(0, 100, DPs.shape[0]) * DPs['Population']  # change random for impact factor\n",
    "# DPs['Demand_lower'] = DPs['Demand_estimate'] * 0.9\n",
    "# DPs['Demand_upper'] = DPs['Demand_estimate'] * 1.1\n",
    "# DPs['Demand_actual'] = np.random.uniform(DPs['Demand_lower'],DPs['Demand_upper'])\n",
    "# DPs['Demand_actual'] = DPs['Demand_actual'].apply(int)\n",
    "# DPs.head()"
   ]
  },
  {
   "cell_type": "code",
   "execution_count": 8,
   "metadata": {},
   "outputs": [
    {
     "data": {
      "text/html": [
       "<div>\n",
       "<style scoped>\n",
       "    .dataframe tbody tr th:only-of-type {\n",
       "        vertical-align: middle;\n",
       "    }\n",
       "\n",
       "    .dataframe tbody tr th {\n",
       "        vertical-align: top;\n",
       "    }\n",
       "\n",
       "    .dataframe thead th {\n",
       "        text-align: right;\n",
       "    }\n",
       "</style>\n",
       "<table border=\"1\" class=\"dataframe\">\n",
       "  <thead>\n",
       "    <tr style=\"text-align: right;\">\n",
       "      <th></th>\n",
       "      <th>Airport</th>\n",
       "      <th>Latitude (DD)</th>\n",
       "      <th>Longitude (DD)</th>\n",
       "    </tr>\n",
       "  </thead>\n",
       "  <tbody>\n",
       "    <tr>\n",
       "      <th>0</th>\n",
       "      <td>Tribhuvan intl</td>\n",
       "      <td>27.7</td>\n",
       "      <td>85.36</td>\n",
       "    </tr>\n",
       "  </tbody>\n",
       "</table>\n",
       "</div>"
      ],
      "text/plain": [
       "          Airport  Latitude (DD)  Longitude (DD)\n",
       "0  Tribhuvan intl           27.7           85.36"
      ]
     },
     "execution_count": 8,
     "metadata": {},
     "output_type": "execute_result"
    }
   ],
   "source": [
    "SPs = int_airports.reset_index(drop=True)\n",
    "SPs"
   ]
  },
  {
   "cell_type": "code",
   "execution_count": 9,
   "metadata": {
    "scrolled": true
   },
   "outputs": [
    {
     "data": {
      "text/html": [
       "<div>\n",
       "<style scoped>\n",
       "    .dataframe tbody tr th:only-of-type {\n",
       "        vertical-align: middle;\n",
       "    }\n",
       "\n",
       "    .dataframe tbody tr th {\n",
       "        vertical-align: top;\n",
       "    }\n",
       "\n",
       "    .dataframe thead th {\n",
       "        text-align: right;\n",
       "    }\n",
       "</style>\n",
       "<table border=\"1\" class=\"dataframe\">\n",
       "  <thead>\n",
       "    <tr style=\"text-align: right;\">\n",
       "      <th></th>\n",
       "      <th>Name</th>\n",
       "      <th>Lat</th>\n",
       "      <th>Lon</th>\n",
       "    </tr>\n",
       "  </thead>\n",
       "  <tbody>\n",
       "    <tr>\n",
       "      <th>0</th>\n",
       "      <td>FLO0</td>\n",
       "      <td>28.123832</td>\n",
       "      <td>80.615893</td>\n",
       "    </tr>\n",
       "    <tr>\n",
       "      <th>1</th>\n",
       "      <td>FLO1</td>\n",
       "      <td>28.278934</td>\n",
       "      <td>82.249521</td>\n",
       "    </tr>\n",
       "    <tr>\n",
       "      <th>2</th>\n",
       "      <td>FLO2</td>\n",
       "      <td>26.741666</td>\n",
       "      <td>86.003391</td>\n",
       "    </tr>\n",
       "    <tr>\n",
       "      <th>3</th>\n",
       "      <td>FLO3</td>\n",
       "      <td>26.935719</td>\n",
       "      <td>85.809026</td>\n",
       "    </tr>\n",
       "    <tr>\n",
       "      <th>4</th>\n",
       "      <td>FLO4</td>\n",
       "      <td>27.464311</td>\n",
       "      <td>83.037721</td>\n",
       "    </tr>\n",
       "  </tbody>\n",
       "</table>\n",
       "</div>"
      ],
      "text/plain": [
       "   Name        Lat        Lon\n",
       "0  FLO0  28.123832  80.615893\n",
       "1  FLO1  28.278934  82.249521\n",
       "2  FLO2  26.741666  86.003391\n",
       "3  FLO3  26.935719  85.809026\n",
       "4  FLO4  27.464311  83.037721"
      ]
     },
     "execution_count": 9,
     "metadata": {},
     "output_type": "execute_result"
    }
   ],
   "source": [
    "long = np.random.uniform(DPs['Longitude (DD)'].min(),\n",
    "                         DPs['Longitude (DD)'].max(), 20)\n",
    "lat = np.random.uniform(DPs['Latitude (DD)'].min(), DPs['Latitude (DD)'].max(),\n",
    "                        20)\n",
    "FLs = pd.DataFrame([lat, long], index=['Lat', 'Lon']).T\n",
    "FLs['Name'] = ['FLO{}'.format(i) for i in range(FLs.shape[0])]\n",
    "FLs = FLs[['Name', 'Lat', 'Lon']]\n",
    "FLs.head()"
   ]
  },
  {
   "cell_type": "markdown",
   "metadata": {},
   "source": [
    "## Nepal Instantiation "
   ]
  },
  {
   "cell_type": "code",
   "execution_count": 10,
   "metadata": {},
   "outputs": [],
   "source": [
    "# 0. Instantiate\n",
    "\n",
    "# General\n",
    "# Coordinates\n",
    "# all large cities to demand points\n",
    "DPY = {\"DPY{}\".format(i): y for i,y in enumerate(Nepal['Latitude (DD)'])}\n",
    "DPX = {\"DPX{}\".format(i): x for i,x in enumerate(Nepal['Longitude (DD)'])}\n",
    "\n",
    "# all international airports to supply points:\n",
    "SPY = {\"SPY{}\".format(i): y for i,y in enumerate(int_airports['Latitude (DD)'])}\n",
    "SPX = {\"SPX{}\".format(i): x for i,x in enumerate(int_airports['Longitude (DD)'])}\n",
    "\n",
    "# Facility locations\n",
    "FLX = {\"FLX{}\".format(i): x for i,x in enumerate(FLs['Lon'])}\n",
    "FLY = {\"FLY{}\".format(i): y for i,y in enumerate(FLs['Lat'])}\n",
    "\n",
    "\n",
    "# Population demand points\n",
    "DPpop = {\"DPpop{}\".format(i): pop for i,pop in enumerate(Nepal['Population'])}\n",
    "# DPpop = {\"DPpop{}\".format(i): random.uniform(10,100) for i in range(nr_of_DPs)}\n",
    "\n",
    "\n",
    "\n",
    "# DSR = Disruption\n",
    "DSRDP = {\"DSRDP{}\".format(i): random.uniform (1, 2) for i in range(len(DPX))}\n",
    "DSRFL = {\"DSRFL{}\".format(i): random.uniform (1, 2) for i in range(len(FLX))}\n",
    "\n",
    "# Decision Variables\n",
    "start_situation = {key:0 for key in FLs.Name}"
   ]
  },
  {
   "cell_type": "code",
   "execution_count": 11,
   "metadata": {
    "code_folding": []
   },
   "outputs": [],
   "source": [
    "# fixed_certain_data = merge_dicts(**DPY, **DPX, **SPY, **SPX, **FLX, **FLY,\n",
    "#                                  **DPpop)\n",
    "\n",
    "# df_fixed_certain_data = pd.DataFrame.from_dict(\n",
    "#     fixed_certain_data, orient=\"index\")\n",
    "\n",
    "# fixed_uncertain_data = \"TODO\""
   ]
  },
  {
   "cell_type": "code",
   "execution_count": 12,
   "metadata": {},
   "outputs": [],
   "source": [
    "# def merge_dicts(**kwargs):\n",
    "#     return kwargs"
   ]
  },
  {
   "cell_type": "code",
   "execution_count": 13,
   "metadata": {},
   "outputs": [],
   "source": [
    "var_unc_data = []\n",
    "\n",
    "t = 0\n",
    "# t += 1\n",
    "\n",
    "var_unc_data.append({**DSRDP, **DSRFL})\n",
    "if len(var_unc_data) != t+1:\n",
    "    raise ValueError(\n",
    "        \"TTR: The time period is not equal to the amount of elements there are in the variable uncertantie data list\"\n",
    "    )"
   ]
  },
  {
   "cell_type": "code",
   "execution_count": 14,
   "metadata": {},
   "outputs": [],
   "source": [
    "list_df_var_unc_data = []\n",
    "list_df_var_unc_data.append(pd.DataFrame.from_dict(var_unc_data[0], orient='index'))"
   ]
  },
  {
   "cell_type": "code",
   "execution_count": null,
   "metadata": {},
   "outputs": [],
   "source": []
  },
  {
   "cell_type": "code",
   "execution_count": 15,
   "metadata": {},
   "outputs": [],
   "source": [
    "t=0"
   ]
  },
  {
   "cell_type": "code",
   "execution_count": 16,
   "metadata": {},
   "outputs": [
    {
     "data": {
      "text/html": [
       "<div>\n",
       "<style scoped>\n",
       "    .dataframe tbody tr th:only-of-type {\n",
       "        vertical-align: middle;\n",
       "    }\n",
       "\n",
       "    .dataframe tbody tr th {\n",
       "        vertical-align: top;\n",
       "    }\n",
       "\n",
       "    .dataframe thead th {\n",
       "        text-align: right;\n",
       "    }\n",
       "</style>\n",
       "<table border=\"1\" class=\"dataframe\">\n",
       "  <thead>\n",
       "    <tr style=\"text-align: right;\">\n",
       "      <th></th>\n",
       "      <th>actual</th>\n",
       "      <th>lower</th>\n",
       "      <th>upper</th>\n",
       "      <th>best_estimate</th>\n",
       "      <th>difference</th>\n",
       "    </tr>\n",
       "  </thead>\n",
       "  <tbody>\n",
       "    <tr>\n",
       "      <th>DSRDP0</th>\n",
       "      <td>1.456275</td>\n",
       "      <td>1.183216</td>\n",
       "      <td>1.863972</td>\n",
       "      <td>1.523594</td>\n",
       "      <td>0.067319</td>\n",
       "    </tr>\n",
       "  </tbody>\n",
       "</table>\n",
       "</div>"
      ],
      "text/plain": [
       "          actual     lower     upper  best_estimate  difference\n",
       "DSRDP0  1.456275  1.183216  1.863972       1.523594    0.067319"
      ]
     },
     "execution_count": 16,
     "metadata": {},
     "output_type": "execute_result"
    }
   ],
   "source": [
    "# create upper and lower bound\n",
    "list_df_var_unc_data[t] = list_df_var_unc_data[t].rename(columns={0:\"actual\"})\n",
    "list_df_var_unc_data[t]['lower']= (list_df_var_unc_data[t]['actual'] - 1) * np.random.uniform(size=list_df_var_unc_data[t].shape[0]) + 1\n",
    "list_df_var_unc_data[t]['upper']= (2 - list_df_var_unc_data[t]['actual']) * np.random.uniform(size=list_df_var_unc_data[t].shape[0]) + list_df_var_unc_data[t]['actual'] \n",
    "list_df_var_unc_data[t]['best_estimate'] = (list_df_var_unc_data[t]['upper'] + list_df_var_unc_data[t]['lower']) / 2\n",
    "list_df_var_unc_data[t]['difference'] = list_df_var_unc_data[t]['best_estimate'] - list_df_var_unc_data[t]['actual']\n",
    "list_df_var_unc_data[t].head(1)"
   ]
  },
  {
   "cell_type": "code",
   "execution_count": 17,
   "metadata": {},
   "outputs": [],
   "source": [
    "best_estimate_disruptions = {i:be for be,i in zip(list_df_var_unc_data[t]['best_estimate'] ,list_df_var_unc_data[t].index) }"
   ]
  },
  {
   "cell_type": "markdown",
   "metadata": {},
   "source": [
    "## Nepal Model Evaluator"
   ]
  },
  {
   "cell_type": "markdown",
   "metadata": {},
   "source": [
    "Testing"
   ]
  },
  {
   "cell_type": "code",
   "execution_count": 18,
   "metadata": {
    "scrolled": true
   },
   "outputs": [
    {
     "data": {
      "image/png": "[encoded data removed]",
      "text/plain": [
       "<Figure size 432x288 with 1 Axes>"
      ]
     },
     "metadata": {},
     "output_type": "display_data"
    },
    {
     "data": {
      "text/plain": [
       "(11.0, 15, 3123992.1022409676, 41.445420747822006, 1)"
      ]
     },
     "execution_count": 18,
     "metadata": {},
     "output_type": "execute_result"
    }
   ],
   "source": [
    "start_situation['FLO0'] = 1\n",
    "FL_model(\n",
    "    unit_opening_costs = 1,\n",
    "    unit_transport_cost= 0,\n",
    "    FL_operations_cost = 10,\n",
    "    graphical_representation = True,\n",
    "    FL_range=100, # km? --> meters\n",
    "    dist_method=\"great_circle\",\n",
    "    lorry_speed=20, #km/h? -->m/s\n",
    "    **SPX,\n",
    "    **SPY,\n",
    "    **DPX,\n",
    "    **DPY,\n",
    "    **FLX,\n",
    "    **FLY,\n",
    "    **start_situation,\n",
    "    **best_estimate_disruptions,\n",
    "    **DPpop)\n"
   ]
  },
  {
   "cell_type": "markdown",
   "metadata": {},
   "source": [
    "# Multi-Objective Optimisation Framework"
   ]
  },
  {
   "cell_type": "markdown",
   "metadata": {},
   "source": [
    "Pseudocode:\n",
    "\n",
    "    Current situation\n",
    "    Create possible options (full factorial)\n",
    "    Evaluate all possible options\n",
    "    Check pareto front of outcomes"
   ]
  },
  {
   "cell_type": "code",
   "execution_count": 19,
   "metadata": {
    "scrolled": true
   },
   "outputs": [],
   "source": [
    "start_situation = {key:0 for key in FLs.Name}\n",
    "current_situation = start_situation"
   ]
  },
  {
   "cell_type": "code",
   "execution_count": 20,
   "metadata": {
    "code_folding": [
     0
    ]
   },
   "outputs": [],
   "source": [
    "def create_policies(FL_dict, print_pols=False):\n",
    "    \"\"\"\n",
    "    Takes the current network of Facility Locations and returns all possible policies for one added FL.\n",
    "    \n",
    "    Input: current option (Dict of FLs)\n",
    "    Output: List of options (Dicts of FLs)\n",
    "    \n",
    "    Printing module not completely reliable. doesnt print whats actually in thereTODO\n",
    "    \"\"\"\n",
    "    def natural_key(string_):\n",
    "        return [int(s) if s.isdigit() else s for s in re.split(r'(\\d+)', string_)]\n",
    "    \n",
    "    # All FL names\n",
    "    FL_keys = sorted(FL_dict.keys(),key=natural_key)\n",
    "    # All FL values indicating whether operational\n",
    "    FL_values = [FL_dict[key] for key in FL_keys]\n",
    "    \n",
    "    i_operational_fls = i_FL_op = [i for i,x in enumerate(FL_values) if x == 1]\n",
    "    \n",
    "    # Create list of policies  \n",
    "    pols = np.identity(len(FL_keys))\n",
    "    # Set already operational facilities to operational\n",
    "    pols[:,i_operational_fls] = 1\n",
    "    \n",
    "    #Delete policies where no new FLs are placed \n",
    "    new_n_operational_fls = sum(FL_values) + 1\n",
    "    pols = pols[pols.sum(axis = 1) == new_n_operational_fls]\n",
    "\n",
    "    \n",
    "    # Return a list of dictionaries\n",
    "    policy_list = []\n",
    "    for pol in pols:\n",
    "        policy_list.append({key:value for key,value in zip(FL_keys,pol)})\n",
    "    \n",
    "    if print_pols == True:\n",
    "        print(\"total policies:\",len(policy_list))\n",
    "        for n,i in enumerate(policy_list):\n",
    "            for v in i.values():\n",
    "                print (int(v), end='')\n",
    "            print(\" <- policy {}\".format(n))\n",
    "                \n",
    "    return policy_list"
   ]
  },
  {
   "cell_type": "code",
   "execution_count": 21,
   "metadata": {},
   "outputs": [],
   "source": [
    "optional_policies = create_policies(current_situation, print_pols=False)"
   ]
  },
  {
   "cell_type": "code",
   "execution_count": 22,
   "metadata": {},
   "outputs": [],
   "source": [
    "# %%timeit\n",
    "# Evaluate all optional policies with best estimate values\n",
    "best_est_results_opt_pols = []\n",
    "for policy in optional_policies:\n",
    "    best_est_results_opt_pols.append(\n",
    "        FL_model(\n",
    "            unit_opening_costs=100,\n",
    "            unit_transport_cost=1,\n",
    "            FL_operations_cost = 10,\n",
    "            graphical_representation=False,\n",
    "            FL_range=50, # km? --> m\n",
    "            dist_method=\"great_circle\",\n",
    "            lorry_speed=60, #km/u? --> m/s\n",
    "            **SPX,\n",
    "            **SPY,\n",
    "            **DPX,\n",
    "            **DPY,\n",
    "            **FLX,\n",
    "            **FLY,\n",
    "            **policy,\n",
    "            **best_estimate_disruptions,\n",
    "            **DPpop))"
   ]
  },
  {
   "cell_type": "code",
   "execution_count": 23,
   "metadata": {
    "scrolled": true
   },
   "outputs": [
    {
     "data": {
      "text/plain": [
       "20"
      ]
     },
     "execution_count": 23,
     "metadata": {},
     "output_type": "execute_result"
    }
   ],
   "source": [
    "len(optional_policies)"
   ]
  },
  {
   "cell_type": "code",
   "execution_count": 24,
   "metadata": {
    "scrolled": true
   },
   "outputs": [
    {
     "data": {
      "text/html": [
       "<div>\n",
       "<style scoped>\n",
       "    .dataframe tbody tr th:only-of-type {\n",
       "        vertical-align: middle;\n",
       "    }\n",
       "\n",
       "    .dataframe tbody tr th {\n",
       "        vertical-align: top;\n",
       "    }\n",
       "\n",
       "    .dataframe thead th {\n",
       "        text-align: right;\n",
       "    }\n",
       "</style>\n",
       "<table border=\"1\" class=\"dataframe\">\n",
       "  <thead>\n",
       "    <tr style=\"text-align: right;\">\n",
       "      <th></th>\n",
       "      <th>total_costs</th>\n",
       "      <th>nr_uncovered_DPs</th>\n",
       "      <th>total_uncovered_demand</th>\n",
       "      <th>max_distr_time</th>\n",
       "    </tr>\n",
       "  </thead>\n",
       "  <tbody>\n",
       "    <tr>\n",
       "      <th>0</th>\n",
       "      <td>1.100000e+02</td>\n",
       "      <td>18.0</td>\n",
       "      <td>3.470738e+06</td>\n",
       "      <td>0.000000</td>\n",
       "    </tr>\n",
       "    <tr>\n",
       "      <th>1</th>\n",
       "      <td>1.100000e+02</td>\n",
       "      <td>18.0</td>\n",
       "      <td>3.470738e+06</td>\n",
       "      <td>0.000000</td>\n",
       "    </tr>\n",
       "    <tr>\n",
       "      <th>2</th>\n",
       "      <td>2.617656e+07</td>\n",
       "      <td>17.0</td>\n",
       "      <td>3.325233e+06</td>\n",
       "      <td>2.998341</td>\n",
       "    </tr>\n",
       "    <tr>\n",
       "      <th>3</th>\n",
       "      <td>2.356314e+07</td>\n",
       "      <td>17.0</td>\n",
       "      <td>3.325233e+06</td>\n",
       "      <td>2.698991</td>\n",
       "    </tr>\n",
       "    <tr>\n",
       "      <th>4</th>\n",
       "      <td>1.004703e+08</td>\n",
       "      <td>16.0</td>\n",
       "      <td>3.256079e+06</td>\n",
       "      <td>7.918669</td>\n",
       "    </tr>\n",
       "  </tbody>\n",
       "</table>\n",
       "</div>"
      ],
      "text/plain": [
       "    total_costs  nr_uncovered_DPs  total_uncovered_demand  max_distr_time\n",
       "0  1.100000e+02              18.0            3.470738e+06        0.000000\n",
       "1  1.100000e+02              18.0            3.470738e+06        0.000000\n",
       "2  2.617656e+07              17.0            3.325233e+06        2.998341\n",
       "3  2.356314e+07              17.0            3.325233e+06        2.698991\n",
       "4  1.004703e+08              16.0            3.256079e+06        7.918669"
      ]
     },
     "execution_count": 24,
     "metadata": {},
     "output_type": "execute_result"
    }
   ],
   "source": [
    "# outcome indicators, as internally used by the model\n",
    "oois = ['total_costs', 'nr_uncovered_DPs', 'total_uncovered_demand','max_distr_time']\n",
    "# Put outcomes in DF\n",
    "\n",
    "df_best_est_results_opt_pols = pd.DataFrame(np.asarray(best_est_results_opt_pols)[:,:4],columns=oois)\n",
    "df_best_est_results_opt_pols.head()"
   ]
  },
  {
   "cell_type": "code",
   "execution_count": 25,
   "metadata": {
    "scrolled": false
   },
   "outputs": [
    {
     "data": {
      "image/png": "[encoded data removed]",
      "text/plain": [
       "<Figure size 576x432 with 3 Axes>"
      ]
     },
     "metadata": {},
     "output_type": "display_data"
    }
   ],
   "source": [
    "title = \"Trade-offs for All options for best estimate parameters at t=x\"\n",
    "plot_optimal(df_best_est_results_opt_pols, oois, title)"
   ]
  },
  {
   "cell_type": "code",
   "execution_count": 26,
   "metadata": {
    "code_folding": []
   },
   "outputs": [
    {
     "data": {
      "text/html": [
       "<div>\n",
       "<style scoped>\n",
       "    .dataframe tbody tr th:only-of-type {\n",
       "        vertical-align: middle;\n",
       "    }\n",
       "\n",
       "    .dataframe tbody tr th {\n",
       "        vertical-align: top;\n",
       "    }\n",
       "\n",
       "    .dataframe thead th {\n",
       "        text-align: right;\n",
       "    }\n",
       "</style>\n",
       "<table border=\"1\" class=\"dataframe\">\n",
       "  <thead>\n",
       "    <tr style=\"text-align: right;\">\n",
       "      <th></th>\n",
       "      <th>total_costs</th>\n",
       "      <th>nr_uncovered_DPs</th>\n",
       "      <th>total_uncovered_demand</th>\n",
       "      <th>max_distr_time</th>\n",
       "    </tr>\n",
       "    <tr>\n",
       "      <th>pol_i</th>\n",
       "      <th></th>\n",
       "      <th></th>\n",
       "      <th></th>\n",
       "      <th></th>\n",
       "    </tr>\n",
       "  </thead>\n",
       "  <tbody>\n",
       "    <tr>\n",
       "      <th>3.0</th>\n",
       "      <td>2.356314e+07</td>\n",
       "      <td>17.0</td>\n",
       "      <td>3.325233e+06</td>\n",
       "      <td>2.698991</td>\n",
       "    </tr>\n",
       "    <tr>\n",
       "      <th>5.0</th>\n",
       "      <td>1.046272e+08</td>\n",
       "      <td>16.0</td>\n",
       "      <td>3.169567e+06</td>\n",
       "      <td>5.961909</td>\n",
       "    </tr>\n",
       "    <tr>\n",
       "      <th>9.0</th>\n",
       "      <td>7.184340e+07</td>\n",
       "      <td>17.0</td>\n",
       "      <td>3.287421e+06</td>\n",
       "      <td>6.531805</td>\n",
       "    </tr>\n",
       "    <tr>\n",
       "      <th>10.0</th>\n",
       "      <td>9.134619e+07</td>\n",
       "      <td>16.0</td>\n",
       "      <td>3.214472e+06</td>\n",
       "      <td>5.991997</td>\n",
       "    </tr>\n",
       "  </tbody>\n",
       "</table>\n",
       "</div>"
      ],
      "text/plain": [
       "        total_costs  nr_uncovered_DPs  total_uncovered_demand  max_distr_time\n",
       "pol_i                                                                        \n",
       "3.0    2.356314e+07              17.0            3.325233e+06        2.698991\n",
       "5.0    1.046272e+08              16.0            3.169567e+06        5.961909\n",
       "9.0    7.184340e+07              17.0            3.287421e+06        6.531805\n",
       "10.0   9.134619e+07              16.0            3.214472e+06        5.991997"
      ]
     },
     "execution_count": 26,
     "metadata": {},
     "output_type": "execute_result"
    }
   ],
   "source": [
    "# options for pareto sorting# minimising is default\n",
    "kwargs = {\"maximize_all\": True}\n",
    "kwargs2 = {\"maximize\": [0, 1]}\n",
    "\n",
    "nondominated_BE_policy_results = np.array(pareto.eps_sort(\n",
    "    [list(df_best_est_results_opt_pols.itertuples(index=True))], [1, 2, 3, 4],\n",
    "    [1e-9, 1e-9, 1e-9, 1e-9]))\n",
    "\n",
    "#Filter out those where new demand is covered\n",
    "nondominated_BE_policy_results = nondominated_BE_policy_results[nondominated_BE_policy_results[:,4] != 0]\n",
    "\n",
    "# Put outcomes in DF\n",
    "df_nondominated_BE_policy_results = pd.DataFrame(\n",
    "    np.asarray(nondominated_BE_policy_results),\n",
    "    columns=[\"pol_i\"] + oois).set_index(\"pol_i\")\n",
    "df_nondominated_BE_policy_results"
   ]
  },
  {
   "cell_type": "code",
   "execution_count": 27,
   "metadata": {
    "scrolled": true
   },
   "outputs": [
    {
     "data": {
      "image/png": "[encoded data removed]",
      "text/plain": [
       "<Figure size 576x432 with 3 Axes>"
      ]
     },
     "metadata": {},
     "output_type": "display_data"
    }
   ],
   "source": [
    "title = \"Trade-offs for non-dominated options for best estimate parameters at t=xx\"\n",
    "plot_optimal(df_nondominated_BE_policy_results, oois, title)"
   ]
  },
  {
   "cell_type": "code",
   "execution_count": 28,
   "metadata": {
    "scrolled": false
   },
   "outputs": [
    {
     "data": {
      "text/plain": [
       "array([{'FLO0': 0.0, 'FLO1': 0.0, 'FLO2': 0.0, 'FLO3': 1.0, 'FLO4': 0.0, 'FLO5': 0.0, 'FLO6': 0.0, 'FLO7': 0.0, 'FLO8': 0.0, 'FLO9': 0.0, 'FLO10': 0.0, 'FLO11': 0.0, 'FLO12': 0.0, 'FLO13': 0.0, 'FLO14': 0.0, 'FLO15': 0.0, 'FLO16': 0.0, 'FLO17': 0.0, 'FLO18': 0.0, 'FLO19': 0.0},\n",
       "       {'FLO0': 0.0, 'FLO1': 0.0, 'FLO2': 0.0, 'FLO3': 0.0, 'FLO4': 0.0, 'FLO5': 1.0, 'FLO6': 0.0, 'FLO7': 0.0, 'FLO8': 0.0, 'FLO9': 0.0, 'FLO10': 0.0, 'FLO11': 0.0, 'FLO12': 0.0, 'FLO13': 0.0, 'FLO14': 0.0, 'FLO15': 0.0, 'FLO16': 0.0, 'FLO17': 0.0, 'FLO18': 0.0, 'FLO19': 0.0},\n",
       "       {'FLO0': 0.0, 'FLO1': 0.0, 'FLO2': 0.0, 'FLO3': 0.0, 'FLO4': 0.0, 'FLO5': 0.0, 'FLO6': 0.0, 'FLO7': 0.0, 'FLO8': 0.0, 'FLO9': 1.0, 'FLO10': 0.0, 'FLO11': 0.0, 'FLO12': 0.0, 'FLO13': 0.0, 'FLO14': 0.0, 'FLO15': 0.0, 'FLO16': 0.0, 'FLO17': 0.0, 'FLO18': 0.0, 'FLO19': 0.0},\n",
       "       {'FLO0': 0.0, 'FLO1': 0.0, 'FLO2': 0.0, 'FLO3': 0.0, 'FLO4': 0.0, 'FLO5': 0.0, 'FLO6': 0.0, 'FLO7': 0.0, 'FLO8': 0.0, 'FLO9': 0.0, 'FLO10': 1.0, 'FLO11': 0.0, 'FLO12': 0.0, 'FLO13': 0.0, 'FLO14': 0.0, 'FLO15': 0.0, 'FLO16': 0.0, 'FLO17': 0.0, 'FLO18': 0.0, 'FLO19': 0.0}],\n",
       "      dtype=object)"
      ]
     },
     "execution_count": 28,
     "metadata": {},
     "output_type": "execute_result"
    }
   ],
   "source": [
    "# policies for all nondominated policies\n",
    "nondom_i = [int(a[0]) for a in nondominated_BE_policy_results]\n",
    "\n",
    "nondominated_BE_policies = np.array(optional_policies)[nondom_i]\n",
    "nondominated_BE_policies"
   ]
  },
  {
   "cell_type": "markdown",
   "metadata": {},
   "source": [
    "#### visualise all nondom pols"
   ]
  },
  {
   "cell_type": "code",
   "execution_count": 29,
   "metadata": {
    "code_folding": []
   },
   "outputs": [
    {
     "data": {
      "image/png": "[encoded data removed]",
      "text/plain": [
       "<Figure size 432x288 with 1 Axes>"
      ]
     },
     "metadata": {},
     "output_type": "display_data"
    },
    {
     "name": "stdout",
     "output_type": "stream",
     "text": [
      "These are all the FLs that are in the set of non-dominated policies\n"
     ]
    }
   ],
   "source": [
    "# inspect nondominated results\n",
    "\n",
    "all_nondom_BE_pols = {name:1 if pos_i in nondom_i else 0 for pos_i, name in enumerate(FLs['Name'])}\n",
    "\n",
    "FL_model(\n",
    "    unit_opening_costs=0,\n",
    "    unit_transport_cost=0,\n",
    "    FL_operations_cost = 0,\n",
    "    graphical_representation=True,\n",
    "    FL_range=0, # km? --> m\n",
    "    dist_method=\"great_circle\",\n",
    "    lorry_speed=1, #km/u? --> m/s\n",
    "    **SPX,\n",
    "    **SPY,\n",
    "    **DPX,\n",
    "    **DPY,\n",
    "    **FLX,\n",
    "    **FLY,\n",
    "    **all_nondom_BE_pols,\n",
    "    **best_estimate_disruptions,\n",
    "    **DPpop)\n",
    "print(\"These are all the FLs that are in the set of non-dominated policies\")"
   ]
  },
  {
   "cell_type": "code",
   "execution_count": null,
   "metadata": {},
   "outputs": [],
   "source": []
  },
  {
   "cell_type": "markdown",
   "metadata": {},
   "source": [
    "# EMA Framework"
   ]
  },
  {
   "cell_type": "markdown",
   "metadata": {},
   "source": [
    "## EMA instantiations"
   ]
  },
  {
   "cell_type": "code",
   "execution_count": 30,
   "metadata": {},
   "outputs": [
    {
     "data": {
      "text/plain": [
       "0"
      ]
     },
     "execution_count": 30,
     "metadata": {},
     "output_type": "execute_result"
    }
   ],
   "source": [
    "t"
   ]
  },
  {
   "cell_type": "code",
   "execution_count": null,
   "metadata": {},
   "outputs": [],
   "source": []
  },
  {
   "cell_type": "code",
   "execution_count": 32,
   "metadata": {},
   "outputs": [],
   "source": [
    "models = [] # goes to start\n",
    "branches_at_t = []\n",
    "\n",
    "model = Model(\"flmodelt{}\".format(t), FL_model)\n",
    "model.t = t\n",
    "# model.branch_id = branch_id\n",
    "\n",
    "model.locations = [\n",
    "    Constant(\"DPX{}\".format(i), x)\n",
    "    for i, x in zip(DPs.index, DPs['Longitude (DD)'])\n",
    "] + [\n",
    "    Constant(\"DPY{}\".format(i), y)\n",
    "    for i, y in zip(DPs.index, DPs['Latitude (DD)'])\n",
    "] + [\n",
    "    Constant(\"SPX{}\".format(i), x)\n",
    "    for i, x in zip(SPs.index, SPs['Longitude (DD)'])\n",
    "] + [\n",
    "    Constant(\"SPY{}\".format(i), y)\n",
    "    for i, y in zip(SPs.index, SPs['Latitude (DD)'])\n",
    "] + [Constant(\"FLX{}\".format(i), x) for i, x in zip(FLs.index, FLs['Lon'])] + [\n",
    "    Constant(\"FLY{}\".format(i), y) for i, y in zip(FLs.index, FLs['Lat'])\n",
    "]\n",
    "\n",
    "# model.locations_uncertain =   [\n",
    "#     RealParameter(\"FLX{}\".format(i), DPs['Longitude (DD)'].min(), DPs['Longitude (DD)'].max()) for i in range(nr_of_FLs)\n",
    "# ] + [RealParameter(\"FLY{}\".format(i), DPs['Latitude (DD)'].min(), DPs['Latitude (DD)'].max()) for i in range(nr_of_FLs)]\n",
    "\n",
    "model.constants = [\n",
    "    Constant('graphical_representation', False),\n",
    "    Constant('dist_method', 'great_circle'),\n",
    "    Constant('Error_Test', 1),  # this doesn't do anything. \n",
    "    #list of other constants\n",
    "    #     Constant\n",
    "] + model.locations + [  # population DPs\n",
    "    Constant(\"DPpop{}\".format(i), pop)\n",
    "    for i, pop in zip(Nepal.index, Nepal['Population'])\n",
    "]\n",
    "\n",
    "# Reachability of Demand Points and Facility Locations can be disrupted\n",
    "# Disruption also determines demand (disr-1)*pop\n",
    "model.disruptions = [\n",
    "    RealParameter(i, l, u)\n",
    "    for i, l, u in zip(list_df_var_unc_data[t].index, list_df_var_unc_data[t][\n",
    "        'lower'], list_df_var_unc_data[t]['upper'])\n",
    "]\n",
    "\n",
    "model.uncertainties = [\n",
    "    RealParameter('unit_opening_costs', 100, 200),\n",
    "    RealParameter('unit_transport_cost', 0.5,\n",
    "                  2),  # cost of transporting one unit of relief goods\n",
    "    RealParameter('FL_operations_cost', 20, 50),\n",
    "    RealParameter('FL_range', 100, 300),  # km TODO: great circle distance\n",
    "    RealParameter(\n",
    "        'lorry_speed', 30, 60\n",
    "    ),  # km/h. Speed is Average speed. Constant, because roads are individually disrupted \n",
    "    #list of other uncertainties\n",
    "] + model.disruptions  #+ model.locations_uncertain\n",
    "\n",
    "model.outcomes = [\n",
    "    ScalarOutcome(\"total_costs\", kind=ScalarOutcome.MINIMIZE),\n",
    "    ScalarOutcome(\"nr_uncovered_DPs\", kind=ScalarOutcome.MINIMIZE),\n",
    "    ScalarOutcome(\"total_uncovered_demand\", kind=ScalarOutcome.MINIMIZE),\n",
    "    ScalarOutcome(\n",
    "        \"max_distr_time\",\n",
    "        kind=ScalarOutcome.MINIMIZE,\n",
    "    )\n",
    "]\n",
    "\n",
    "models.append(model)"
   ]
  },
  {
   "cell_type": "code",
   "execution_count": 33,
   "metadata": {
    "code_folding": [
     0
    ]
   },
   "outputs": [],
   "source": [
    "# models = []\n",
    "# t = 0\n",
    "# model = Model(\"flmodelt{}\".format(t), FL_model)\n",
    "\n",
    "# model.locations = [\n",
    "#     Constant(\"DPX{}\".format(i), x)\n",
    "#     for i, x in zip(DPs.index, DPs['Longitude (DD)'])\n",
    "# ] + [\n",
    "#     Constant(\"DPY{}\".format(i), y)\n",
    "#     for i, y in zip(DPs.index, DPs['Latitude (DD)'])\n",
    "# ] + [\n",
    "#     Constant(\"SPX{}\".format(i), x)\n",
    "#     for i, x in zip(SPs.index, SPs['Longitude (DD)'])\n",
    "# ] + [\n",
    "#     Constant(\"SPY{}\".format(i), y)\n",
    "#     for i, y in zip(SPs.index, SPs['Latitude (DD)'])\n",
    "# ] + [Constant(\"FLX{}\".format(i), x) for i, x in zip(FLs.index, FLs['Lon'])] + [\n",
    "#     Constant(\"FLY{}\".format(i), y) for i, y in zip(FLs.index, FLs['Lat'])\n",
    "# ]\n",
    "\n",
    "# # model.locations_uncertain =   [\n",
    "# #     RealParameter(\"FLX{}\".format(i), DPs['Longitude (DD)'].min(), DPs['Longitude (DD)'].max()) for i in range(nr_of_FLs)\n",
    "# # ] + [RealParameter(\"FLY{}\".format(i), DPs['Latitude (DD)'].min(), DPs['Latitude (DD)'].max()) for i in range(nr_of_FLs)]\n",
    "\n",
    "# model.constants = [\n",
    "#     Constant('graphical_representation', False),\n",
    "#     Constant('dist_method', 'great_circle'),\n",
    "#     Constant('Error_Test', 1),  # this doesn't do anything. \n",
    "#     #list of other constants\n",
    "#     #     Constant\n",
    "# ] + model.locations + [  # population DPs\n",
    "#     Constant(\"DPpop{}\".format(i), pop)\n",
    "#     for i, pop in zip(Nepal.index, Nepal['Population'])\n",
    "# ]\n",
    "\n",
    "# # Reachability of Demand Points and Facility Locations can be disrupted\n",
    "# # Disruption also determines demand (disr-1)*pop\n",
    "# model.disruptions = [\n",
    "#     RealParameter(\"DSRFL{}\".format(i), 1, 2) for i in range(FLs.shape[0])\n",
    "# ] + [RealParameter(\"DSRDP{}\".format(i), 1, 2) for i in range(DPs.shape[0])]\n",
    "\n",
    "# model.uncertainties = [\n",
    "#     RealParameter('unit_opening_costs', 100, 200),\n",
    "#     RealParameter('unit_transport_cost', 0.5,\n",
    "#                   2),  # cost of transporting one unit of relief goods\n",
    "#     RealParameter('FL_operations_cost', 20, 50),\n",
    "#     RealParameter('FL_range', 100, 300),  # km TODO: great circle distance\n",
    "#     RealParameter(\n",
    "#         'lorry_speed', 30, 60\n",
    "#     ),  # km/h. Speed is Average speed. Constant, because roads are individually disrupted \n",
    "#     #list of other uncertainties\n",
    "# ] + model.disruptions  #+ model.locations_uncertain\n",
    "\n",
    "# model.outcomes = [\n",
    "#     ScalarOutcome(\"total_costs\", kind=ScalarOutcome.MINIMIZE),\n",
    "#     ScalarOutcome(\"nr_uncovered_DPs\", kind=ScalarOutcome.MINIMIZE),\n",
    "#     ScalarOutcome(\"total_uncovered_demand\", kind=ScalarOutcome.MINIMIZE),\n",
    "#     ScalarOutcome(\n",
    "#         \"max_distr_time\",\n",
    "#         kind=ScalarOutcome.MINIMIZE,\n",
    "#     )\n",
    "# ]\n",
    "\n",
    "# models.append(model)"
   ]
  },
  {
   "cell_type": "code",
   "execution_count": 34,
   "metadata": {},
   "outputs": [],
   "source": [
    "if [o.name for o in models[0].outcomes] != oois:\n",
    "    print(\"Watch out! Oois and model outcome names are not similar!\")"
   ]
  },
  {
   "cell_type": "code",
   "execution_count": null,
   "metadata": {},
   "outputs": [],
   "source": []
  },
  {
   "cell_type": "code",
   "execution_count": 35,
   "metadata": {
    "scrolled": true
   },
   "outputs": [
    {
     "name": "stdout",
     "output_type": "stream",
     "text": [
      "flmodelt0\n"
     ]
    }
   ],
   "source": [
    "for model in models:\n",
    "    print(model.name)"
   ]
  },
  {
   "cell_type": "code",
   "execution_count": null,
   "metadata": {},
   "outputs": [],
   "source": []
  },
  {
   "cell_type": "code",
   "execution_count": 41,
   "metadata": {},
   "outputs": [],
   "source": [
    "nondominated_BE_policies_EMA = []\n",
    "for name, pol in zip(nondom_i,nondominated_BE_policies):\n",
    "    nondominated_BE_policies_EMA.append(Policy(\"{}\".format(name), **pol))"
   ]
  },
  {
   "cell_type": "code",
   "execution_count": 42,
   "metadata": {
    "scrolled": true
   },
   "outputs": [
    {
     "name": "stderr",
     "output_type": "stream",
     "text": [
      "[MainProcess/INFO] performing 100 scenarios * 4 policies * 1 model(s) = 400 experiments\n",
      "[MainProcess/INFO] performing experiments sequentially\n",
      "[MainProcess/INFO] 40 cases completed\n",
      "[MainProcess/INFO] 80 cases completed\n",
      "[MainProcess/INFO] 120 cases completed\n",
      "[MainProcess/INFO] 160 cases completed\n",
      "[MainProcess/INFO] 200 cases completed\n",
      "[MainProcess/INFO] 240 cases completed\n",
      "[MainProcess/INFO] 280 cases completed\n",
      "[MainProcess/INFO] 320 cases completed\n",
      "[MainProcess/INFO] 360 cases completed\n",
      "[MainProcess/INFO] 400 cases completed\n",
      "[MainProcess/INFO] experiments finished\n"
     ]
    },
    {
     "name": "stdout",
     "output_type": "stream",
     "text": [
      "Total time:12.034569025039673 \n",
      " time per run = 0.03008642256259918\n"
     ]
    }
   ],
   "source": [
    "time1 = time.time()\n",
    "n_scen = 100\n",
    "all_scen_results_nondom_pols = perform_experiments(\n",
    "    model, n_scen, nondominated_BE_policies_EMA)\n",
    "time2 = time.time()\n",
    "print(\"Total time:{}\".format(time2 - time1), \"\\n\", \"time per run = {}\".format(\n",
    "    (time2 - time1) / (n_scen * len(nondominated_BE_policies_EMA))))"
   ]
  },
  {
   "cell_type": "markdown",
   "metadata": {},
   "source": [
    "timelog: (3000 experiments)\n",
    "1. possibly with cpu problems due to failed multiprocessing <br>\n",
    "Total time:186.64591431617737 <br>\n",
    "time per run = 0.18664591431617736\n",
    "2. model v2 <br>\n",
    "Total time:156.22968077659607  <br>\n",
    " time per run = 0.15622968077659607\n",
    "3. model v2 4 policies <br>\n",
    "Total time:200.71212720870972 \n",
    " time per run = 0.2007121272087097\n",
    "4. \n",
    "Total time:144.36057209968567 <br>\n",
    " time per run = 0.14436057209968567\n",
    " \n",
    "5. \n",
    "Total time:69.68182039260864 <br>\n",
    " time per run = 0.06968182039260865\n",
    " \n",
    "6. Probably had wrong parameters for timer <br>\n",
    "now: 0.05089 per run 400 experiments"
   ]
  },
  {
   "cell_type": "code",
   "execution_count": 43,
   "metadata": {
    "scrolled": true
   },
   "outputs": [
    {
     "name": "stderr",
     "output_type": "stream",
     "text": [
      "[MainProcess/INFO] results saved successfully to C:\\Users\\timro\\Dropbox\\MSc EPA\\0 Master Thesis\\Python Files\\Thesis\\Facility Location Model\\results\\candidate_policy_robustness_v3_t0.tar.gz\n"
     ]
    }
   ],
   "source": [
    "# Add parameter in filename for period t=1,2...x\n",
    "ema.save_results(all_scen_results_nondom_pols, \"results/candidate_policy_robustness_v3_t{}.tar.gz\".format(t))"
   ]
  },
  {
   "cell_type": "code",
   "execution_count": null,
   "metadata": {},
   "outputs": [],
   "source": []
  },
  {
   "cell_type": "code",
   "execution_count": null,
   "metadata": {},
   "outputs": [],
   "source": []
  },
  {
   "cell_type": "code",
   "execution_count": null,
   "metadata": {},
   "outputs": [],
   "source": []
  },
  {
   "cell_type": "markdown",
   "metadata": {},
   "source": [
    "# Robustness Framework"
   ]
  },
  {
   "cell_type": "code",
   "execution_count": 44,
   "metadata": {
    "scrolled": false
   },
   "outputs": [
    {
     "name": "stderr",
     "output_type": "stream",
     "text": [
      "[MainProcess/INFO] results loaded succesfully from C:\\Users\\timro\\Dropbox\\MSc EPA\\0 Master Thesis\\Python Files\\Thesis\\Facility Location Model\\results\\candidate_policy_robustness_v3_t0.tar.gz\n"
     ]
    }
   ],
   "source": [
    "all_scen_results_nondom_pols = ema.load_results(\"results/candidate_policy_robustness_v3_t{}.tar.gz\".format(t))\n",
    "experiments, outcomes = all_scen_results_nondom_pols"
   ]
  },
  {
   "cell_type": "code",
   "execution_count": 45,
   "metadata": {
    "code_folding": []
   },
   "outputs": [],
   "source": [
    "def calculate_signalNoise(data, obj):\n",
    "    '''\n",
    "    data : 1d array, the values of an outcome indicator for a policy\n",
    "    obj  : the objective corresponding to an outcome indicator, 1 or -1\n",
    "    '''\n",
    "    if obj == -1: #MINIMIZE\n",
    "        score = (np.mean(data)+1)*(np.std(data)+1) #to avoid division by zero if the std. deviation is zero, we can add 1.\n",
    "    elif obj == 1: #MAXIMIZE\n",
    "        score = (np.mean(data)+1)/(np.std(data)+1)\n",
    "    return score\n",
    "\n",
    "sigN_results = []\n",
    "\n",
    "for policy in nondominated_BE_policies_EMA:\n",
    "    #filter the outcome values corresponding to each policy using a logical index\n",
    "    logical_index = experiments['policy']==int(policy.name)\n",
    "    pol_outcomes = {key:outcomes[key][logical_index] for key in outcomes.keys()}\n",
    "    temp_result = {}\n",
    "    for ooi in models[0].outcomes:\n",
    "        temp_result[ooi.name] = calculate_signalNoise(pol_outcomes[ooi.name], ooi.kind)\n",
    "    sigN_results.append(temp_result)    \n"
   ]
  },
  {
   "cell_type": "code",
   "execution_count": 46,
   "metadata": {
    "scrolled": true
   },
   "outputs": [
    {
     "data": {
      "text/html": [
       "<div>\n",
       "<style scoped>\n",
       "    .dataframe tbody tr th:only-of-type {\n",
       "        vertical-align: middle;\n",
       "    }\n",
       "\n",
       "    .dataframe tbody tr th {\n",
       "        vertical-align: top;\n",
       "    }\n",
       "\n",
       "    .dataframe thead th {\n",
       "        text-align: right;\n",
       "    }\n",
       "</style>\n",
       "<table border=\"1\" class=\"dataframe\">\n",
       "  <thead>\n",
       "    <tr style=\"text-align: right;\">\n",
       "      <th></th>\n",
       "      <th>max_distr_time</th>\n",
       "      <th>nr_uncovered_DPs</th>\n",
       "      <th>total_costs</th>\n",
       "      <th>total_uncovered_demand</th>\n",
       "    </tr>\n",
       "  </thead>\n",
       "  <tbody>\n",
       "    <tr>\n",
       "      <th>3</th>\n",
       "      <td>39.368272</td>\n",
       "      <td>26.368759</td>\n",
       "      <td>3.788041e+17</td>\n",
       "      <td>2.848737e+11</td>\n",
       "    </tr>\n",
       "    <tr>\n",
       "      <th>5</th>\n",
       "      <td>62.875756</td>\n",
       "      <td>45.779886</td>\n",
       "      <td>9.797348e+17</td>\n",
       "      <td>1.579066e+12</td>\n",
       "    </tr>\n",
       "    <tr>\n",
       "      <th>9</th>\n",
       "      <td>72.586641</td>\n",
       "      <td>46.851511</td>\n",
       "      <td>8.353598e+17</td>\n",
       "      <td>1.923912e+12</td>\n",
       "    </tr>\n",
       "    <tr>\n",
       "      <th>10</th>\n",
       "      <td>69.510822</td>\n",
       "      <td>42.429565</td>\n",
       "      <td>1.066502e+18</td>\n",
       "      <td>1.607013e+12</td>\n",
       "    </tr>\n",
       "  </tbody>\n",
       "</table>\n",
       "</div>"
      ],
      "text/plain": [
       "    max_distr_time  nr_uncovered_DPs   total_costs  total_uncovered_demand\n",
       "3        39.368272         26.368759  3.788041e+17            2.848737e+11\n",
       "5        62.875756         45.779886  9.797348e+17            1.579066e+12\n",
       "9        72.586641         46.851511  8.353598e+17            1.923912e+12\n",
       "10       69.510822         42.429565  1.066502e+18            1.607013e+12"
      ]
     },
     "execution_count": 46,
     "metadata": {},
     "output_type": "execute_result"
    }
   ],
   "source": [
    "df_sigN = pd.DataFrame(sigN_results, index=[pol.name for pol in nondominated_BE_policies_EMA])\n",
    "df_sigN"
   ]
  },
  {
   "cell_type": "code",
   "execution_count": null,
   "metadata": {},
   "outputs": [],
   "source": []
  },
  {
   "cell_type": "code",
   "execution_count": 281,
   "metadata": {},
   "outputs": [
    {
     "data": {
      "image/png": "[encoded data removed]",
      "text/plain": [
       "<Figure size 576x432 with 3 Axes>"
      ]
     },
     "metadata": {},
     "output_type": "display_data"
    }
   ],
   "source": [
    "\n",
    "title = \"Robustness tradeoffs with signal-to-noise ratio\"\n",
    "plot_optimal(df_sigN, oois, title)"
   ]
  },
  {
   "cell_type": "code",
   "execution_count": 282,
   "metadata": {},
   "outputs": [],
   "source": [
    "def calculate_maxregret(data, obj):\n",
    "    '''\n",
    "    data : a list of 1d arrays whose shape is no_policies x no_scenarios\n",
    "    obj : -1 or 1, the objective \n",
    "    '''\n",
    "    data = np.array(data)\n",
    "    if obj == 1: #MAXIMIZE \n",
    "        #find the best case in each scenario, therefore use the max function of numpy on the axis of policies\n",
    "        zero_regrets = np.max(data, axis=0)\n",
    "    elif obj == -1: #MINIMIZE\n",
    "        zero_regrets = np.min(data, axis=0)\n",
    "    \n",
    "    #determine the regret values for eaxh policy in each scenario\n",
    "    regrets = [abs(np.subtract(data[p], zero_regrets)) for p in range(data.shape[0])]\n",
    "    \n",
    "    max_regrets = np.max(regrets, axis=1)\n",
    "    \n",
    "    return max_regrets"
   ]
  },
  {
   "cell_type": "code",
   "execution_count": 283,
   "metadata": {},
   "outputs": [],
   "source": [
    "reg_results = {}\n",
    "# we need to iterate over the outcomes differently now, \n",
    "#because the maximum egret calculation requires the outcome values for all policies\n",
    "for ooi in models[0].outcomes:\n",
    "    data = []\n",
    "    for policy in nondominated_BE_policies_EMA:\n",
    "        logical_index = experiments['policy'] == int(policy.name) \n",
    "        data.append(outcomes[ooi.name][logical_index])\n",
    "    reg_results[ooi.name] = calculate_maxregret(data, ooi.kind)\n",
    "    \n"
   ]
  },
  {
   "cell_type": "code",
   "execution_count": 284,
   "metadata": {},
   "outputs": [
    {
     "data": {
      "text/plain": [
       "{'total_costs': array([9.55846078e+08, 1.42633011e+09, 1.45678709e+09, 1.56588158e+09]),\n",
       " 'nr_uncovered_DPs': array([0., 6., 5., 6.]),\n",
       " 'total_uncovered_demand': array([  42566.77574419, 2330018.87836865, 2035168.9682527 ,\n",
       "        1968531.17485577]),\n",
       " 'max_distr_time': array([4.68669547, 8.26133371, 7.12771301, 6.45512867])}"
      ]
     },
     "execution_count": 284,
     "metadata": {},
     "output_type": "execute_result"
    }
   ],
   "source": [
    "reg_results"
   ]
  },
  {
   "cell_type": "code",
   "execution_count": 285,
   "metadata": {},
   "outputs": [
    {
     "data": {
      "image/png": "[encoded data removed]",
      "text/plain": [
       "<Figure size 576x432 with 3 Axes>"
      ]
     },
     "metadata": {},
     "output_type": "display_data"
    }
   ],
   "source": [
    "# we can again convert the robustness values into a dataframe. \n",
    "#However, since the results are in a dictionary, we need to do it differently.\n",
    "df_regret = pd.DataFrame.from_dict(reg_results, orient='columns',)\n",
    "df_regret.index = [pol.name for pol in nondominated_BE_policies_EMA]\n",
    "title = \"Robustness tradeoffs with maximum regret\"\n",
    "plot_optimal(df_regret, oois, title)"
   ]
  },
  {
   "cell_type": "markdown",
   "metadata": {},
   "source": [
    "## Choose nondominated robust policies"
   ]
  },
  {
   "cell_type": "code",
   "execution_count": 286,
   "metadata": {},
   "outputs": [
    {
     "data": {
      "text/html": [
       "<div>\n",
       "<style scoped>\n",
       "    .dataframe tbody tr th:only-of-type {\n",
       "        vertical-align: middle;\n",
       "    }\n",
       "\n",
       "    .dataframe tbody tr th {\n",
       "        vertical-align: top;\n",
       "    }\n",
       "\n",
       "    .dataframe thead th {\n",
       "        text-align: right;\n",
       "    }\n",
       "</style>\n",
       "<table border=\"1\" class=\"dataframe\">\n",
       "  <thead>\n",
       "    <tr style=\"text-align: right;\">\n",
       "      <th></th>\n",
       "      <th>max_distr_time</th>\n",
       "      <th>nr_uncovered_DPs</th>\n",
       "      <th>total_costs</th>\n",
       "      <th>total_uncovered_demand</th>\n",
       "    </tr>\n",
       "  </thead>\n",
       "  <tbody>\n",
       "    <tr>\n",
       "      <th>1</th>\n",
       "      <td>4.686695</td>\n",
       "      <td>0.0</td>\n",
       "      <td>9.558461e+08</td>\n",
       "      <td>4.256678e+04</td>\n",
       "    </tr>\n",
       "    <tr>\n",
       "      <th>3</th>\n",
       "      <td>8.261334</td>\n",
       "      <td>6.0</td>\n",
       "      <td>1.426330e+09</td>\n",
       "      <td>2.330019e+06</td>\n",
       "    </tr>\n",
       "    <tr>\n",
       "      <th>11</th>\n",
       "      <td>7.127713</td>\n",
       "      <td>5.0</td>\n",
       "      <td>1.456787e+09</td>\n",
       "      <td>2.035169e+06</td>\n",
       "    </tr>\n",
       "    <tr>\n",
       "      <th>18</th>\n",
       "      <td>6.455129</td>\n",
       "      <td>6.0</td>\n",
       "      <td>1.565882e+09</td>\n",
       "      <td>1.968531e+06</td>\n",
       "    </tr>\n",
       "  </tbody>\n",
       "</table>\n",
       "</div>"
      ],
      "text/plain": [
       "    max_distr_time  nr_uncovered_DPs   total_costs  total_uncovered_demand\n",
       "1         4.686695               0.0  9.558461e+08            4.256678e+04\n",
       "3         8.261334               6.0  1.426330e+09            2.330019e+06\n",
       "11        7.127713               5.0  1.456787e+09            2.035169e+06\n",
       "18        6.455129               6.0  1.565882e+09            1.968531e+06"
      ]
     },
     "execution_count": 286,
     "metadata": {},
     "output_type": "execute_result"
    }
   ],
   "source": [
    "df_regret"
   ]
  },
  {
   "cell_type": "code",
   "execution_count": 287,
   "metadata": {},
   "outputs": [
    {
     "data": {
      "text/html": [
       "<div>\n",
       "<style scoped>\n",
       "    .dataframe tbody tr th:only-of-type {\n",
       "        vertical-align: middle;\n",
       "    }\n",
       "\n",
       "    .dataframe tbody tr th {\n",
       "        vertical-align: top;\n",
       "    }\n",
       "\n",
       "    .dataframe thead th {\n",
       "        text-align: right;\n",
       "    }\n",
       "</style>\n",
       "<table border=\"1\" class=\"dataframe\">\n",
       "  <thead>\n",
       "    <tr style=\"text-align: right;\">\n",
       "      <th></th>\n",
       "      <th>max_distr_time</th>\n",
       "      <th>nr_uncovered_DPs</th>\n",
       "      <th>total_costs</th>\n",
       "      <th>total_uncovered_demand</th>\n",
       "    </tr>\n",
       "  </thead>\n",
       "  <tbody>\n",
       "    <tr>\n",
       "      <th>1</th>\n",
       "      <td>45.961573</td>\n",
       "      <td>21.146212</td>\n",
       "      <td>3.410506e+17</td>\n",
       "      <td>2.308107e+11</td>\n",
       "    </tr>\n",
       "    <tr>\n",
       "      <th>3</th>\n",
       "      <td>57.854643</td>\n",
       "      <td>40.655251</td>\n",
       "      <td>8.852514e+17</td>\n",
       "      <td>1.560039e+12</td>\n",
       "    </tr>\n",
       "    <tr>\n",
       "      <th>11</th>\n",
       "      <td>53.131671</td>\n",
       "      <td>38.923341</td>\n",
       "      <td>8.798284e+17</td>\n",
       "      <td>1.322342e+12</td>\n",
       "    </tr>\n",
       "    <tr>\n",
       "      <th>18</th>\n",
       "      <td>50.741556</td>\n",
       "      <td>36.887494</td>\n",
       "      <td>7.429980e+17</td>\n",
       "      <td>1.161805e+12</td>\n",
       "    </tr>\n",
       "  </tbody>\n",
       "</table>\n",
       "</div>"
      ],
      "text/plain": [
       "    max_distr_time  nr_uncovered_DPs   total_costs  total_uncovered_demand\n",
       "1        45.961573         21.146212  3.410506e+17            2.308107e+11\n",
       "3        57.854643         40.655251  8.852514e+17            1.560039e+12\n",
       "11       53.131671         38.923341  8.798284e+17            1.322342e+12\n",
       "18       50.741556         36.887494  7.429980e+17            1.161805e+12"
      ]
     },
     "execution_count": 287,
     "metadata": {},
     "output_type": "execute_result"
    }
   ],
   "source": [
    "df_sigN"
   ]
  },
  {
   "cell_type": "code",
   "execution_count": 288,
   "metadata": {},
   "outputs": [],
   "source": [
    "all_robustness_scores = pd.merge(df_regret,df_sigN, left_index=True, right_index=True)"
   ]
  },
  {
   "cell_type": "code",
   "execution_count": 289,
   "metadata": {},
   "outputs": [
    {
     "data": {
      "text/html": [
       "<div>\n",
       "<style scoped>\n",
       "    .dataframe tbody tr th:only-of-type {\n",
       "        vertical-align: middle;\n",
       "    }\n",
       "\n",
       "    .dataframe tbody tr th {\n",
       "        vertical-align: top;\n",
       "    }\n",
       "\n",
       "    .dataframe thead th {\n",
       "        text-align: right;\n",
       "    }\n",
       "</style>\n",
       "<table border=\"1\" class=\"dataframe\">\n",
       "  <thead>\n",
       "    <tr style=\"text-align: right;\">\n",
       "      <th></th>\n",
       "      <th>max_distr_time_x</th>\n",
       "      <th>nr_uncovered_DPs_x</th>\n",
       "      <th>total_costs_x</th>\n",
       "      <th>total_uncovered_demand_x</th>\n",
       "      <th>max_distr_time_y</th>\n",
       "      <th>nr_uncovered_DPs_y</th>\n",
       "      <th>total_costs_y</th>\n",
       "      <th>total_uncovered_demand_y</th>\n",
       "    </tr>\n",
       "  </thead>\n",
       "  <tbody>\n",
       "    <tr>\n",
       "      <th>1</th>\n",
       "      <td>4.686695</td>\n",
       "      <td>0.0</td>\n",
       "      <td>9.558461e+08</td>\n",
       "      <td>4.256678e+04</td>\n",
       "      <td>45.961573</td>\n",
       "      <td>21.146212</td>\n",
       "      <td>3.410506e+17</td>\n",
       "      <td>2.308107e+11</td>\n",
       "    </tr>\n",
       "    <tr>\n",
       "      <th>3</th>\n",
       "      <td>8.261334</td>\n",
       "      <td>6.0</td>\n",
       "      <td>1.426330e+09</td>\n",
       "      <td>2.330019e+06</td>\n",
       "      <td>57.854643</td>\n",
       "      <td>40.655251</td>\n",
       "      <td>8.852514e+17</td>\n",
       "      <td>1.560039e+12</td>\n",
       "    </tr>\n",
       "    <tr>\n",
       "      <th>11</th>\n",
       "      <td>7.127713</td>\n",
       "      <td>5.0</td>\n",
       "      <td>1.456787e+09</td>\n",
       "      <td>2.035169e+06</td>\n",
       "      <td>53.131671</td>\n",
       "      <td>38.923341</td>\n",
       "      <td>8.798284e+17</td>\n",
       "      <td>1.322342e+12</td>\n",
       "    </tr>\n",
       "    <tr>\n",
       "      <th>18</th>\n",
       "      <td>6.455129</td>\n",
       "      <td>6.0</td>\n",
       "      <td>1.565882e+09</td>\n",
       "      <td>1.968531e+06</td>\n",
       "      <td>50.741556</td>\n",
       "      <td>36.887494</td>\n",
       "      <td>7.429980e+17</td>\n",
       "      <td>1.161805e+12</td>\n",
       "    </tr>\n",
       "  </tbody>\n",
       "</table>\n",
       "</div>"
      ],
      "text/plain": [
       "    max_distr_time_x  nr_uncovered_DPs_x  total_costs_x  \\\n",
       "1           4.686695                 0.0   9.558461e+08   \n",
       "3           8.261334                 6.0   1.426330e+09   \n",
       "11          7.127713                 5.0   1.456787e+09   \n",
       "18          6.455129                 6.0   1.565882e+09   \n",
       "\n",
       "    total_uncovered_demand_x  max_distr_time_y  nr_uncovered_DPs_y  \\\n",
       "1               4.256678e+04         45.961573           21.146212   \n",
       "3               2.330019e+06         57.854643           40.655251   \n",
       "11              2.035169e+06         53.131671           38.923341   \n",
       "18              1.968531e+06         50.741556           36.887494   \n",
       "\n",
       "    total_costs_y  total_uncovered_demand_y  \n",
       "1    3.410506e+17              2.308107e+11  \n",
       "3    8.852514e+17              1.560039e+12  \n",
       "11   8.798284e+17              1.322342e+12  \n",
       "18   7.429980e+17              1.161805e+12  "
      ]
     },
     "execution_count": 289,
     "metadata": {},
     "output_type": "execute_result"
    }
   ],
   "source": [
    "all_robustness_scores"
   ]
  },
  {
   "cell_type": "code",
   "execution_count": null,
   "metadata": {},
   "outputs": [],
   "source": []
  },
  {
   "cell_type": "markdown",
   "metadata": {},
   "source": [
    "Use small epsilon value, because efficiency is not relevant (because of low numbers of alternatives, smaller epsilon is possible. larger epsilon leads to faster processing time)"
   ]
  },
  {
   "cell_type": "code",
   "execution_count": 290,
   "metadata": {},
   "outputs": [
    {
     "data": {
      "text/plain": [
       "[['1',\n",
       "  4.686695470840764,\n",
       "  0.0,\n",
       "  955846078.4040086,\n",
       "  42566.77574418858,\n",
       "  45.96157253535745,\n",
       "  21.146212082710647,\n",
       "  3.410505666441953e+17,\n",
       "  230810696580.52405]]"
      ]
     },
     "execution_count": 290,
     "metadata": {},
     "output_type": "execute_result"
    }
   ],
   "source": [
    "# Non-dominated sorting for outcomes\n",
    "\n",
    "\n",
    "# options for pareto sorting# minimising is default\n",
    "kwargs = {\"maximize_all\":True}\n",
    "kwargs2 = {\"maximize\":[0,1]}\n",
    "\n",
    "robust_nondominated_policies = pareto.eps_sort([list(all_robustness_scores.itertuples(index=True))],[i+1 for i in range(all_robustness_scores.shape[1])], [1e-9] * all_robustness_scores.shape[1])\n",
    "robust_nondominated_policies"
   ]
  },
  {
   "cell_type": "code",
   "execution_count": 296,
   "metadata": {},
   "outputs": [],
   "source": [
    "if len(robust_nondominated_policies) ==0:\n",
    "    print(\"something went wrong\")\n",
    "elif len(robust_nondominated_policies) == 1:\n",
    "    temp_cols = [\"pol_i\"]+list(all_robustness_scores.columns)\n",
    "\n",
    "    df_temp = pd.DataFrame(robust_nondominated_policies, columns=temp_cols).set_index(\"pol_i\")\n",
    "#     print(robust_nondominated_policies)\n",
    "    df_temp\n",
    "else:\n",
    "    temp_cols = [\"pol_i\"]+list(all_robustness_scores.columns)\n",
    "\n",
    "    df_temp = pd.DataFrame(robust_nondominated_policies, columns=temp_cols).set_index(\"pol_i\")\n",
    "\n",
    "    plot_optimal(df_temp, all_robustness_scores.columns, \"robust nondominated policies\")"
   ]
  },
  {
   "cell_type": "code",
   "execution_count": 298,
   "metadata": {},
   "outputs": [
    {
     "data": {
      "text/html": [
       "<div>\n",
       "<style scoped>\n",
       "    .dataframe tbody tr th:only-of-type {\n",
       "        vertical-align: middle;\n",
       "    }\n",
       "\n",
       "    .dataframe tbody tr th {\n",
       "        vertical-align: top;\n",
       "    }\n",
       "\n",
       "    .dataframe thead th {\n",
       "        text-align: right;\n",
       "    }\n",
       "</style>\n",
       "<table border=\"1\" class=\"dataframe\">\n",
       "  <thead>\n",
       "    <tr style=\"text-align: right;\">\n",
       "      <th></th>\n",
       "      <th>max_distr_time_x</th>\n",
       "      <th>nr_uncovered_DPs_x</th>\n",
       "      <th>total_costs_x</th>\n",
       "      <th>total_uncovered_demand_x</th>\n",
       "      <th>max_distr_time_y</th>\n",
       "      <th>nr_uncovered_DPs_y</th>\n",
       "      <th>total_costs_y</th>\n",
       "      <th>total_uncovered_demand_y</th>\n",
       "    </tr>\n",
       "    <tr>\n",
       "      <th>pol_i</th>\n",
       "      <th></th>\n",
       "      <th></th>\n",
       "      <th></th>\n",
       "      <th></th>\n",
       "      <th></th>\n",
       "      <th></th>\n",
       "      <th></th>\n",
       "      <th></th>\n",
       "    </tr>\n",
       "  </thead>\n",
       "  <tbody>\n",
       "    <tr>\n",
       "      <th>1</th>\n",
       "      <td>4.686695</td>\n",
       "      <td>0.0</td>\n",
       "      <td>9.558461e+08</td>\n",
       "      <td>42566.775744</td>\n",
       "      <td>45.961573</td>\n",
       "      <td>21.146212</td>\n",
       "      <td>3.410506e+17</td>\n",
       "      <td>2.308107e+11</td>\n",
       "    </tr>\n",
       "  </tbody>\n",
       "</table>\n",
       "</div>"
      ],
      "text/plain": [
       "       max_distr_time_x  nr_uncovered_DPs_x  total_costs_x  \\\n",
       "pol_i                                                        \n",
       "1              4.686695                 0.0   9.558461e+08   \n",
       "\n",
       "       total_uncovered_demand_x  max_distr_time_y  nr_uncovered_DPs_y  \\\n",
       "pol_i                                                                   \n",
       "1                  42566.775744         45.961573           21.146212   \n",
       "\n",
       "       total_costs_y  total_uncovered_demand_y  \n",
       "pol_i                                           \n",
       "1       3.410506e+17              2.308107e+11  "
      ]
     },
     "execution_count": 298,
     "metadata": {},
     "output_type": "execute_result"
    }
   ],
   "source": [
    "df_temp"
   ]
  },
  {
   "cell_type": "markdown",
   "metadata": {},
   "source": [
    "# Next iteration Framework"
   ]
  },
  {
   "cell_type": "markdown",
   "metadata": {},
   "source": [
    "Pseudocode:\n",
    "\n",
    "minimodel:\n",
    "    \n",
    "    for each info item:\n",
    "        how close to closest operational fl?\n",
    "        allocated to closest operational fl?\n",
    "        \n",
    "        reduce uncertainty range: delta: (upper-lower)"
   ]
  }
 ],
 "metadata": {
  "kernelspec": {
   "display_name": "Python 3",
   "language": "python",
   "name": "python3"
  },
  "language_info": {
   "codemirror_mode": {
    "name": "ipython",
    "version": 3
   },
   "file_extension": ".py",
   "mimetype": "text/x-python",
   "name": "python",
   "nbconvert_exporter": "python",
   "pygments_lexer": "ipython3",
   "version": "3.6.4"
  },
  "toc": {
   "nav_menu": {},
   "number_sections": true,
   "sideBar": true,
   "skip_h1_title": false,
   "title_cell": "Table of Contents",
   "title_sidebar": "Contents",
   "toc_cell": false,
   "toc_position": {
    "height": "calc(100% - 180px)",
    "left": "10px",
    "top": "150px",
    "width": "165px"
   },
   "toc_section_display": true,
   "toc_window_display": false
  }
 },
 "nbformat": 4,
 "nbformat_minor": 2
}
