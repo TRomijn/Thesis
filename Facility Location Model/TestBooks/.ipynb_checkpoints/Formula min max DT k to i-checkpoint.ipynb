{
 "cells": [
  {
   "cell_type": "markdown",
   "metadata": {},
   "source": [
    "TODO: implement in Python\n",
    "\n",
    "Minimise max time from k to i\n",
    "\n",
    "for each i:\n",
    "choose j with a_ji == 1\n",
    "choose k with a_kj == 1\n",
    "dt_ki = dt kj + dt ji"
   ]
  },
  {
   "cell_type": "markdown",
   "metadata": {},
   "source": [
    "$$\n",
    "a_{k,i} = \n",
    "\\begin{cases}\n",
    "1  & \\text{if } \\{j \\mid j \\in J, a_{i,j} = 1 \\} = \\{j \\mid j \\in J, a_{j,k} = 1 \\} \\\\\n",
    "0  & \\text{otherwise}\n",
    "\\end{cases}\n",
    "$$\n",
    "\n",
    "<br><br><br><br>\n",
    "\n",
    "\n",
    "<br><br><br><br><br><br><br>\n",
    "\n",
    "testing:\n",
    "$$\n",
    "\\{j \\mid j \\in J, a_{j,i} = 1 \\}\n",
    "$$\n",
    "\n",
    "$$\n",
    "\\{j \\mid j \\in J, a_{k,j} = 1 \\}\n",
    "$$\n",
    "\n",
    "\n",
    "$$ \n",
    "DT_{ki} = \\infty\n",
    "$$\n",
    "\n"
   ]
  },
  {
   "cell_type": "markdown",
   "metadata": {},
   "source": [
    "###### Finished\n",
    "\n",
    "\n",
    "$$\n",
    "a_{i,j,k} = \n",
    "\\begin{cases}\n",
    "1,  & \\text{if } a_{j,k} = 1, a_{i,j} = 1 \\\\\n",
    "0,  & \\text{otherwise}\n",
    "\\end{cases}\n",
    "$$\n",
    "\n",
    "\n",
    "\n",
    "\n",
    "\n",
    "\n",
    "$$\n",
    "DT_{j,i} = \n",
    "\\begin{cases}\n",
    "\\frac{ ATD_{j,i}}{TS},  & \\text{if } a_{i,j} =1 \\\\\n",
    "\\infty,                 & \\text{otherwise}\n",
    "\\end{cases}\n",
    "$$\n",
    "\n",
    "$$\n",
    "DT_{k,j} = \n",
    "\\begin{cases}\n",
    "\\frac{ ATD_{k,j}}{TS}, & \\text{if } a_{j,k} =1 \\\\\n",
    "\\infty,                & \\text{otherwise}\n",
    "\\end{cases}\n",
    "$$\n",
    "\n",
    "\n",
    "$$\n",
    "DT_{k,j,i} = \n",
    "\\begin{cases}\n",
    "\\frac{ ATD_{k,j}+ATD_{j,i}}{TS},  & \\text{if } a_{i,j,k} =1 \\\\\n",
    "\\infty,                 & \\text{otherwise}\n",
    "\\end{cases}\n",
    "$$\n",
    "\n",
    "\n",
    "\n",
    "constraint:\n",
    "$$\n",
    "\\vert\\{ j \\mid j \\in J, a_{i,j} = 1 \\}\\vert \\leq 1 \\\\\n",
    "\\vert\\{ k \\mid k \\in K, a_{j,k} = 1 \\}\\vert \\leq 1\n",
    "$$"
   ]
  },
  {
   "cell_type": "markdown",
   "metadata": {
    "heading_collapsed": true
   },
   "source": [
    "###### if mathematical model needs to be expanded with constraints:"
   ]
  },
  {
   "cell_type": "markdown",
   "metadata": {
    "hidden": true
   },
   "source": [
    "https://math.stackexchange.com/questions/543142/notation-for-integer-between-two-values?utm_medium=organic&utm_source=google_rich_qa&utm_campaign=google_rich_qa\n",
    "\n",
    "use these symbols and stuff:\n",
    "$$\n",
    "i\\in\\Bbb Z:i\\in[1,N]\\tag 1\n",
    "$$\n",
    "$$\n",
    "i\\in\\Bbb Z\\cap[1,N]\\tag 3\n",
    "$$\n",
    "\n",
    "Look at other papers "
   ]
  }
 ],
 "metadata": {
  "kernelspec": {
   "display_name": "Python 3",
   "language": "python",
   "name": "python3"
  },
  "language_info": {
   "codemirror_mode": {
    "name": "ipython",
    "version": 3
   },
   "file_extension": ".py",
   "mimetype": "text/x-python",
   "name": "python",
   "nbconvert_exporter": "python",
   "pygments_lexer": "ipython3",
   "version": "3.6.4"
  },
  "toc": {
   "nav_menu": {},
   "number_sections": true,
   "sideBar": true,
   "skip_h1_title": false,
   "title_cell": "Table of Contents",
   "title_sidebar": "Contents",
   "toc_cell": false,
   "toc_position": {},
   "toc_section_display": true,
   "toc_window_display": true
  }
 },
 "nbformat": 4,
 "nbformat_minor": 2
}
