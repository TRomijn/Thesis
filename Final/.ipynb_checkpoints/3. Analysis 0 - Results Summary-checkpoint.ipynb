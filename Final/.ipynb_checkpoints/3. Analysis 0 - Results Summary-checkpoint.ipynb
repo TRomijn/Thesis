{
 "cells": [
  {
   "cell_type": "code",
   "execution_count": 1,
   "metadata": {},
   "outputs": [],
   "source": [
    "import pickle\n",
    "import numpy as np\n",
    "import pandas as pd\n",
    "import matplotlib.pyplot as plt\n",
    "from lib.fl_model_v10 import *\n",
    "import pygmo as pg"
   ]
  },
  {
   "cell_type": "code",
   "execution_count": 2,
   "metadata": {},
   "outputs": [],
   "source": [
    "case = \"Nepal\"\n",
    "output_folder = \"Simulation-results\""
   ]
  },
  {
   "cell_type": "code",
   "execution_count": 3,
   "metadata": {},
   "outputs": [],
   "source": [
    "# Load data (deserialize)\n",
    "with open('{}/{}/python_objects.pickle'.format(case, output_folder),\n",
    "          'rb') as handle:\n",
    "    global_label_tree, EMA_model_dict, global_dfs_var_unc_data, global_fixed_unc, global_policy_tree = pickle.load(\n",
    "        handle)"
   ]
  },
  {
   "cell_type": "code",
   "execution_count": 4,
   "metadata": {},
   "outputs": [
    {
     "name": "stdout",
     "output_type": "stream",
     "text": [
      "p0 has solutions: 1\n",
      "p1 has solutions: 6\n",
      "p2 has solutions: 38\n",
      "p3 has solutions: 231\n",
      "p4 has solutions: 1152\n"
     ]
    }
   ],
   "source": [
    "for key in global_label_tree.keys():\n",
    "    print(key, 'has solutions:',len(global_label_tree[key]))"
   ]
  },
  {
   "cell_type": "code",
   "execution_count": 5,
   "metadata": {},
   "outputs": [
    {
     "name": "stdout",
     "output_type": "stream",
     "text": [
      "In total 276 MORDM cycles have been run\n"
     ]
    }
   ],
   "source": [
    "n_mordm_cycles = 0\n",
    "for i,key in enumerate((global_label_tree.keys())):\n",
    "    if i == len(global_label_tree.keys())-1:\n",
    "        continue\n",
    "    n_mordm_cycles += len(global_label_tree[key])\n",
    "print(\"In total {} MORDM cycles have been run\".format(n_mordm_cycles))"
   ]
  },
  {
   "cell_type": "code",
   "execution_count": null,
   "metadata": {},
   "outputs": [],
   "source": []
  },
  {
   "cell_type": "code",
   "execution_count": null,
   "metadata": {},
   "outputs": [],
   "source": []
  },
  {
   "cell_type": "code",
   "execution_count": 34,
   "metadata": {},
   "outputs": [
    {
     "data": {
      "text/plain": [
       "{'FLO0': 0.0,\n",
       " 'FLO1': 0.0,\n",
       " 'FLO2': 0.0,\n",
       " 'FLO3': 0.0,\n",
       " 'FLO4': 0.0,\n",
       " 'FLO5': 0.0,\n",
       " 'FLO6': 0.0,\n",
       " 'FLO7': 0.0,\n",
       " 'FLO8': 0.0,\n",
       " 'FLO9': 0.0,\n",
       " 'FLO10': 0.0,\n",
       " 'FLO11': 1.0,\n",
       " 'FLO12': 0.0,\n",
       " 'FLO13': 0.0,\n",
       " 'FLO14': 0.0,\n",
       " 'FLO15': 0.0,\n",
       " 'FLO16': 0.0,\n",
       " 'FLO17': 0.0,\n",
       " 'FLO18': 0.0,\n",
       " 'FLO19': 0.0}"
      ]
     },
     "execution_count": 34,
     "metadata": {},
     "output_type": "execute_result"
    }
   ],
   "source": [
    "global_policy_tree['p0n0p1n3']"
   ]
  },
  {
   "cell_type": "code",
   "execution_count": 31,
   "metadata": {},
   "outputs": [
    {
     "data": {
      "text/plain": [
       "{'FLO0': 0.0,\n",
       " 'FLO1': 0.0,\n",
       " 'FLO2': 0.0,\n",
       " 'FLO3': 0.0,\n",
       " 'FLO4': 0.0,\n",
       " 'FLO5': 0.0,\n",
       " 'FLO6': 0.0,\n",
       " 'FLO7': 1.0,\n",
       " 'FLO8': 0.0,\n",
       " 'FLO9': 0.0,\n",
       " 'FLO10': 0.0,\n",
       " 'FLO11': 1.0,\n",
       " 'FLO12': 0.0,\n",
       " 'FLO13': 0.0,\n",
       " 'FLO14': 0.0,\n",
       " 'FLO15': 0.0,\n",
       " 'FLO16': 0.0,\n",
       " 'FLO17': 0.0,\n",
       " 'FLO18': 0.0,\n",
       " 'FLO19': 0.0}"
      ]
     },
     "execution_count": 31,
     "metadata": {},
     "output_type": "execute_result"
    }
   ],
   "source": [
    "global_policy_tree['p0n0p1n3p2n20']"
   ]
  },
  {
   "cell_type": "code",
   "execution_count": 35,
   "metadata": {},
   "outputs": [
    {
     "data": {
      "text/plain": [
       "{'FLO0': 0.0,\n",
       " 'FLO1': 0.0,\n",
       " 'FLO2': 0.0,\n",
       " 'FLO3': 0.0,\n",
       " 'FLO4': 0.0,\n",
       " 'FLO5': 0.0,\n",
       " 'FLO6': 0.0,\n",
       " 'FLO7': 1.0,\n",
       " 'FLO8': 0.0,\n",
       " 'FLO9': 1.0,\n",
       " 'FLO10': 0.0,\n",
       " 'FLO11': 1.0,\n",
       " 'FLO12': 0.0,\n",
       " 'FLO13': 0.0,\n",
       " 'FLO14': 0.0,\n",
       " 'FLO15': 0.0,\n",
       " 'FLO16': 0.0,\n",
       " 'FLO17': 0.0,\n",
       " 'FLO18': 0.0,\n",
       " 'FLO19': 0.0}"
      ]
     },
     "execution_count": 35,
     "metadata": {},
     "output_type": "execute_result"
    }
   ],
   "source": [
    "global_policy_tree['p0n0p1n3p2n20p3n131']"
   ]
  }
 ],
 "metadata": {
  "kernelspec": {
   "display_name": "Python 3",
   "language": "python",
   "name": "python3"
  },
  "language_info": {
   "codemirror_mode": {
    "name": "ipython",
    "version": 3
   },
   "file_extension": ".py",
   "mimetype": "text/x-python",
   "name": "python",
   "nbconvert_exporter": "python",
   "pygments_lexer": "ipython3",
   "version": "3.6.4"
  },
  "toc": {
   "nav_menu": {},
   "number_sections": true,
   "sideBar": true,
   "skip_h1_title": false,
   "title_cell": "Table of Contents",
   "title_sidebar": "Contents",
   "toc_cell": false,
   "toc_position": {},
   "toc_section_display": true,
   "toc_window_display": true
  }
 },
 "nbformat": 4,
 "nbformat_minor": 2
}
