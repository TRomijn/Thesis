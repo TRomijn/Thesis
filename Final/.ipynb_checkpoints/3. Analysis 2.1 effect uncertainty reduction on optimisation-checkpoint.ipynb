{
 "cells": [
  {
   "cell_type": "code",
   "execution_count": 1,
   "metadata": {},
   "outputs": [
    {
     "name": "stderr",
     "output_type": "stream",
     "text": [
      "C:\\Users\\timro\\Anaconda3\\lib\\site-packages\\statsmodels\\compat\\pandas.py:56: FutureWarning: The pandas.core.datetools module is deprecated and will be removed in a future version. Please use the pandas.tseries module instead.\n",
      "  from pandas.core import datetools\n"
     ]
    }
   ],
   "source": [
    "import pickle\n",
    "import numpy as np\n",
    "import pandas as pd\n",
    "import matplotlib.pyplot as plt\n",
    "from lib.fl_model_v10 import *\n",
    "import pygmo as pg\n",
    "import statsmodels.api as sm"
   ]
  },
  {
   "cell_type": "markdown",
   "metadata": {},
   "source": [
    "#  Code"
   ]
  },
  {
   "cell_type": "code",
   "execution_count": 2,
   "metadata": {},
   "outputs": [],
   "source": [
    "case = \"Nepal\"\n",
    "output_folder = \"Simulation-results\""
   ]
  },
  {
   "cell_type": "code",
   "execution_count": 3,
   "metadata": {},
   "outputs": [],
   "source": [
    "# Load data (deserialize)\n",
    "with open('{}/{}/python_objects.pickle'.format(case, output_folder),\n",
    "          'rb') as handle:\n",
    "    global_label_tree, EMA_model_dict, global_dfs_var_unc_data, global_fixed_unc, global_policy_tree = pickle.load(\n",
    "        handle)"
   ]
  },
  {
   "cell_type": "code",
   "execution_count": null,
   "metadata": {},
   "outputs": [],
   "source": []
  },
  {
   "cell_type": "code",
   "execution_count": 4,
   "metadata": {},
   "outputs": [],
   "source": [
    "# For period x, get all resulting policies"
   ]
  },
  {
   "cell_type": "code",
   "execution_count": null,
   "metadata": {},
   "outputs": [],
   "source": []
  },
  {
   "cell_type": "code",
   "execution_count": 5,
   "metadata": {
    "code_folding": [
     0
    ]
   },
   "outputs": [
    {
     "data": {
      "text/plain": [
       "['p0n0p1n2p2n15', 'p0n0p1n2p2n16', 'p0n0p1n2p2n17', 'p0n0p1n2p2n18']"
      ]
     },
     "execution_count": 5,
     "metadata": {},
     "output_type": "execute_result"
    }
   ],
   "source": [
    "def find_nodes_next_step(node,label_tree):\n",
    "    # Find which period\n",
    "    for i,l in enumerate(reversed(node)):\n",
    "        if l == 'p':\n",
    "            period = int((list(reversed(node))[i-1]))\n",
    "            break\n",
    "    # Find next period\n",
    "    labels_next_p = label_tree[\"p{}\".format(period+1)]\n",
    "#     print(labels_next_p)\n",
    "    return [l for l in labels_next_p if node in l]\n",
    "\n",
    "find_nodes_next_step('p0n0p1n2', global_label_tree)"
   ]
  },
  {
   "cell_type": "code",
   "execution_count": 6,
   "metadata": {},
   "outputs": [],
   "source": [
    "def get_mordm_resulting_policies(node, label_tree, policy_tree):\n",
    "    # Get all labels of resulting mordm cycle\n",
    "    labels = find_nodes_next_step(node,label_tree)\n",
    "    # Get all policies for these labels\n",
    "    policies = [policy_tree[label] for label in labels] \n",
    "    return policies\n",
    "\n",
    "# get_mordm_resulting_policies(\"p0n0\", global_label_tree, global_policy_tree)"
   ]
  },
  {
   "cell_type": "code",
   "execution_count": 7,
   "metadata": {
    "scrolled": true
   },
   "outputs": [],
   "source": [
    "def get_all_mordms_in_period(period, label_tree, policy_tree):\n",
    "    nodes = label_tree[period]\n",
    "    mordm_results = [get_mordm_resulting_policies(node,label_tree,policy_tree) for node in nodes]\n",
    "    return mordm_results\n",
    "\n",
    "# get_all_mordms_in_period(\"p1\",global_label_tree,global_policy_tree)"
   ]
  },
  {
   "cell_type": "code",
   "execution_count": 8,
   "metadata": {},
   "outputs": [],
   "source": [
    "p1_mordm_pol_sets = get_all_mordms_in_period(\"p1\", global_label_tree,\n",
    "                                             global_policy_tree)"
   ]
  },
  {
   "cell_type": "code",
   "execution_count": 9,
   "metadata": {},
   "outputs": [],
   "source": [
    "# For all policies, evaluate on real values"
   ]
  },
  {
   "cell_type": "code",
   "execution_count": 10,
   "metadata": {},
   "outputs": [],
   "source": [
    "DPs = pd.read_csv(\"Nepal/Prepared Input Data/DPs.csv\")\n",
    "# DPs.columns\n",
    "\n",
    "FLs = pd.read_csv(\"Nepal/Prepared Input Data/FLs.csv\")\n",
    "# FLs.columns\n",
    "\n",
    "SPs = pd.read_csv(\"Nepal/Prepared Input Data/SPs.csv\")\n",
    "# SPs.columns\n",
    "Fix_Unc = pd.read_csv(\"{}/Prepared Input Data/fixed_uncertainties.csv\".format(case), index_col=0)\n",
    "# Fix_Unc"
   ]
  },
  {
   "cell_type": "code",
   "execution_count": 11,
   "metadata": {},
   "outputs": [],
   "source": [
    "# 0. Instantiate\n",
    "\n",
    "# General\n",
    "# Coordinates\n",
    "# all large cities to demand points\n",
    "DPY = {\"DPY{}\".format(i): y for i,y in enumerate(DPs['latitude'])}\n",
    "DPX = {\"DPX{}\".format(i): x for i,x in enumerate(DPs['longitude'])}\n",
    "\n",
    "# all international airports to supply points:\n",
    "SPY = {\"SPY{}\".format(i): y for i,y in enumerate(SPs['latitude_deg'])}\n",
    "SPX = {\"SPX{}\".format(i): x for i,x in enumerate(SPs['longitude_deg'])}\n",
    "\n",
    "# Facility locations\n",
    "FLX = {\"FLX{}\".format(i): x for i,x in enumerate(FLs['Lon'])}\n",
    "FLY = {\"FLY{}\".format(i): y for i,y in enumerate(FLs['Lat'])}\n",
    "\n",
    "\n",
    "# Population demand points\n",
    "DPpop = {\"DPpop{}\".format(i): pop for i,pop in enumerate(DPs['population'])}\n",
    "# DPpop = {\"DPpop{}\".format(i): random.uniform(10,100) for i in range(nr_of_DPs)}"
   ]
  },
  {
   "cell_type": "code",
   "execution_count": 12,
   "metadata": {},
   "outputs": [],
   "source": [
    "epicentre_name = \"RealLocation\"\n",
    "disruptionsFLs = np.loadtxt(\n",
    "    '{}/Prepared Input Data/DisruptionFL{}.txt'.format(case,epicentre_name))\n",
    "disruptionsDPs = np.loadtxt(\n",
    "    '{}/Prepared Input Data/DisruptionDP{}.txt'.format(case,epicentre_name))\n",
    "\n",
    "# DSRDP = {\"DSRDP{}\".format(i): 1.5 for i in range(len(DPX))}\n",
    "# DSRFL = {\"DSRFL{}\".format(i): 1.5 for i in range(len(FLX))}"
   ]
  },
  {
   "cell_type": "code",
   "execution_count": 13,
   "metadata": {},
   "outputs": [],
   "source": [
    "DSRDP = {\"DSRDP{}\".format(i): disruptionsDPs[i] for i in range(len(DPX))}\n",
    "DSRFL = {\"DSRFL{}\".format(i): disruptionsFLs[i] for i in range(len(FLX))}"
   ]
  },
  {
   "cell_type": "code",
   "execution_count": 14,
   "metadata": {
    "code_folding": []
   },
   "outputs": [],
   "source": [
    "def evaluate_pol_set(pol_set):\n",
    "    results = []\n",
    "    for policy in pol_set:\n",
    "        results.append(FL_model(\n",
    "            unit_transport_cost=Fix_Unc.best_estimate['unit_transport_cost'],\n",
    "            demand_per_affected=Fix_Unc.best_estimate['demand_per_affected'],\n",
    "            graphical_representation=False,\n",
    "            FL_range=Fix_Unc.best_estimate['FL_range'],\n",
    "            dist_method='from_table',\n",
    "            table_dir=\"{}/Prepared Input Data/routing_table.csv\".format(case),\n",
    "            **SPX,\n",
    "            **SPY,\n",
    "            **DPX,\n",
    "            **DPY,\n",
    "            **FLX,\n",
    "            **FLY,\n",
    "            **policy,\n",
    "            **DSRDP,\n",
    "            **DSRFL,\n",
    "            **DPpop))\n",
    "    return results"
   ]
  },
  {
   "cell_type": "code",
   "execution_count": 15,
   "metadata": {},
   "outputs": [],
   "source": [
    "def get_branch_performance(period, label_tree, policy_tree):\n",
    "    p_mordm_pol_sets = get_all_mordms_in_period(period, label_tree,\n",
    "                                                policy_tree)\n",
    "    result_sets = []\n",
    "    for pol_set in p_mordm_pol_sets:\n",
    "        result_sets.append(evaluate_pol_set(pol_set))\n",
    "    return result_sets"
   ]
  },
  {
   "cell_type": "code",
   "execution_count": 16,
   "metadata": {},
   "outputs": [],
   "source": [
    "sets = get_branch_performance('p1',global_label_tree,global_policy_tree)"
   ]
  },
  {
   "cell_type": "code",
   "execution_count": null,
   "metadata": {},
   "outputs": [],
   "source": []
  },
  {
   "cell_type": "code",
   "execution_count": 17,
   "metadata": {},
   "outputs": [],
   "source": [
    "# For each mordm cycle, calculate hypervolume"
   ]
  },
  {
   "cell_type": "code",
   "execution_count": 18,
   "metadata": {
    "scrolled": true
   },
   "outputs": [],
   "source": [
    "# normalise_df(df)"
   ]
  },
  {
   "cell_type": "code",
   "execution_count": 19,
   "metadata": {},
   "outputs": [],
   "source": [
    "def normalise_df (df):\n",
    "    normalised_df=(df-df.min())/(df.max()-df.min())\n",
    "    return normalised_df"
   ]
  },
  {
   "cell_type": "code",
   "execution_count": 20,
   "metadata": {},
   "outputs": [],
   "source": [
    "def normalise_sets(all_sets):\n",
    "    \"\"\"\n",
    "    unity-based normalisation for normalisation between 0 and 1\n",
    "    All sets are first merged, then normalised, then split again.\n",
    "    This way the normalisation is over the full span of values in all sets\n",
    "    \"\"\"\n",
    "    df = pd.DataFrame()\n",
    "    for i, s in enumerate(all_sets):\n",
    "        dftemp = pd.DataFrame(s)\n",
    "        dftemp['set'] = i\n",
    "        df = df.append(dftemp)\n",
    "    df = df.reset_index(drop=True)\n",
    "    df_normalised = normalise_df(df.iloc[:, :4])\n",
    "    df_normalised['set'] = df['set']\n",
    "\n",
    "    sets_normalised = []\n",
    "    for i in sorted(list(set(df_normalised.set))):\n",
    "        sets_normalised.append(df_normalised[df_normalised.set == i].values)\n",
    "    return sets_normalised"
   ]
  },
  {
   "cell_type": "code",
   "execution_count": 22,
   "metadata": {},
   "outputs": [],
   "source": [
    "# sets_normalised"
   ]
  },
  {
   "cell_type": "code",
   "execution_count": 23,
   "metadata": {},
   "outputs": [],
   "source": [
    "def compute_hypervolumes(normalised_sets):\n",
    "    ref_point = [1,1,1,1]\n",
    "    hvs = []\n",
    "    for tmpset in normalised_sets:\n",
    "        hv = pg.hypervolume(tmpset.astype(float)[:,:4])\n",
    "        hvs.append(hv.compute(ref_point))\n",
    "    return hvs"
   ]
  },
  {
   "cell_type": "code",
   "execution_count": 24,
   "metadata": {},
   "outputs": [],
   "source": [
    "# For each mordm cycle, calculate uncertainty space."
   ]
  },
  {
   "cell_type": "code",
   "execution_count": 25,
   "metadata": {},
   "outputs": [],
   "source": [
    "def get_uncertainty_bandwiths(period,\n",
    "                              label_tree,\n",
    "                              var_unc_data,\n",
    "                              function=\"mean\"):\n",
    "    \"\"\"\n",
    "    period: string: E.g. \"p0\"\n",
    "    function: string. function to perform on pandas Series.\n",
    "        E.g.: mean, max, min\n",
    "    \"\"\"\n",
    "    p_labels = label_tree[period]\n",
    "    bandwidth_metrics = []\n",
    "    for l in p_labels:\n",
    "        bandwith = (var_unc_data[l].upper - var_unc_data[l].lower)\n",
    "        metric = eval(\"bandwith.{}()\".format(function))\n",
    "#         print(l)\n",
    "#         print(bandwith)\n",
    "        bandwidth_metrics.append(metric)\n",
    "    return bandwidth_metrics"
   ]
  },
  {
   "cell_type": "code",
   "execution_count": null,
   "metadata": {},
   "outputs": [],
   "source": []
  },
  {
   "cell_type": "code",
   "execution_count": null,
   "metadata": {},
   "outputs": [],
   "source": []
  },
  {
   "cell_type": "code",
   "execution_count": 26,
   "metadata": {},
   "outputs": [],
   "source": [
    "sets = get_branch_performance('p3', global_label_tree,\n",
    "                              global_policy_tree)\n",
    "\n",
    "sets_normalised = normalise_sets(sets)\n",
    "\n",
    "hvs = compute_hypervolumes(sets_normalised)"
   ]
  },
  {
   "cell_type": "code",
   "execution_count": 27,
   "metadata": {},
   "outputs": [
    {
     "data": {
      "text/plain": [
       "231"
      ]
     },
     "execution_count": 27,
     "metadata": {},
     "output_type": "execute_result"
    }
   ],
   "source": [
    "len(hvs)"
   ]
  },
  {
   "cell_type": "code",
   "execution_count": 28,
   "metadata": {},
   "outputs": [],
   "source": [
    "bws = get_uncertainty_bandwiths('p3', global_label_tree,\n",
    "                                global_dfs_var_unc_data)"
   ]
  },
  {
   "cell_type": "code",
   "execution_count": 31,
   "metadata": {},
   "outputs": [],
   "source": [
    "lengths = []\n",
    "for i,p3label in enumerate(global_label_tree['p3']):\n",
    "    count = 0\n",
    "    for label in global_label_tree['p4']:\n",
    "        if p3label in label:\n",
    "            count += 1\n",
    "            \n",
    "    lengths.append(count)\n",
    "#             print(label)"
   ]
  },
  {
   "cell_type": "code",
   "execution_count": 32,
   "metadata": {},
   "outputs": [
    {
     "data": {
      "text/plain": [
       "231"
      ]
     },
     "execution_count": 32,
     "metadata": {},
     "output_type": "execute_result"
    }
   ],
   "source": [
    "len(lengths)"
   ]
  },
  {
   "cell_type": "code",
   "execution_count": 84,
   "metadata": {},
   "outputs": [],
   "source": []
  },
  {
   "cell_type": "code",
   "execution_count": 62,
   "metadata": {},
   "outputs": [
    {
     "data": {
      "image/png": "[encoded data removed]",
      "text/plain": [
       "<Figure size 432x288 with 1 Axes>"
      ]
     },
     "metadata": {},
     "output_type": "display_data"
    }
   ],
   "source": [
    "data = pd.DataFrame([hvs, bws]).T\n",
    "data.columns = ['hvs', 'unc_bws']\n",
    "import seaborn as sns\n",
    "\n",
    "ax = sns.regplot(y='hvs', x='unc_bws', data=data)\n",
    "ax.set(\n",
    "    xlabel='Mean Uncertainty Bandwidth',\n",
    "    ylabel=\"Hypervolume\",\n",
    "#     title=\"Pareto Front Estimation Performance for Uncertainty Bandwidths\\nScatter with Regression Line\"\n",
    ")\n",
    "plt.savefig(\"{}/Analysis/HVxUNC_no_correction\".format(case), dpi=500)\n",
    "# plt.show()"
   ]
  },
  {
   "cell_type": "code",
   "execution_count": 50,
   "metadata": {},
   "outputs": [],
   "source": [
    "hv_perelement = np.array(hvs) / np.array(lengths)"
   ]
  },
  {
   "cell_type": "code",
   "execution_count": 63,
   "metadata": {},
   "outputs": [
    {
     "data": {
      "image/png": "[encoded data removed]",
      "text/plain": [
       "<Figure size 432x288 with 1 Axes>"
      ]
     },
     "metadata": {},
     "output_type": "display_data"
    }
   ],
   "source": [
    "data = pd.DataFrame([hv_perelement, bws]).T\n",
    "data.columns = ['hvs', 'unc_bws']\n",
    "import seaborn as sns\n",
    "\n",
    "ax = sns.regplot(y='hvs', x='unc_bws', data=data)\n",
    "ax.set(\n",
    "    xlabel='Mean Uncertainty Bandwidth',\n",
    "    ylabel=\"Relative Hypervolume\",\n",
    "#     title=\"Pareto Front Estimation Performance for Uncertainty Bandwidths\\nScatter with Regression Line\"\n",
    ")\n",
    "plt.savefig(\"{}/Analysis/HVxUNC_length_correction\".format(case), dpi=500)\n",
    "# plt.show()"
   ]
  },
  {
   "cell_type": "code",
   "execution_count": null,
   "metadata": {},
   "outputs": [],
   "source": []
  },
  {
   "cell_type": "code",
   "execution_count": 40,
   "metadata": {},
   "outputs": [],
   "source": [
    "def normalise_df2(df):\n",
    "    normalised_df = (df - 0) / (df.max() - 0)\n",
    "    return normalised_df"
   ]
  },
  {
   "cell_type": "code",
   "execution_count": 53,
   "metadata": {},
   "outputs": [],
   "source": [
    "def normalise_df (df):\n",
    "    normalised_df=(df-df.min())/(df.max()-df.min())\n",
    "    return normalised_df"
   ]
  },
  {
   "cell_type": "code",
   "execution_count": 57,
   "metadata": {},
   "outputs": [
    {
     "data": {
      "text/html": [
       "<table class=\"simpletable\">\n",
       "<caption>OLS Regression Results</caption>\n",
       "<tr>\n",
       "  <th>Dep. Variable:</th>           <td>hvs</td>       <th>  R-squared:         </th> <td>   0.201</td>\n",
       "</tr>\n",
       "<tr>\n",
       "  <th>Model:</th>                   <td>OLS</td>       <th>  Adj. R-squared:    </th> <td>   0.198</td>\n",
       "</tr>\n",
       "<tr>\n",
       "  <th>Method:</th>             <td>Least Squares</td>  <th>  F-statistic:       </th> <td>   57.78</td>\n",
       "</tr>\n",
       "<tr>\n",
       "  <th>Date:</th>             <td>Sun, 12 Aug 2018</td> <th>  Prob (F-statistic):</th> <td>7.49e-13</td>\n",
       "</tr>\n",
       "<tr>\n",
       "  <th>Time:</th>                 <td>17:31:46</td>     <th>  Log-Likelihood:    </th> <td>  77.982</td>\n",
       "</tr>\n",
       "<tr>\n",
       "  <th>No. Observations:</th>      <td>   231</td>      <th>  AIC:               </th> <td>  -152.0</td>\n",
       "</tr>\n",
       "<tr>\n",
       "  <th>Df Residuals:</th>          <td>   229</td>      <th>  BIC:               </th> <td>  -145.1</td>\n",
       "</tr>\n",
       "<tr>\n",
       "  <th>Df Model:</th>              <td>     1</td>      <th>                     </th>     <td> </td>   \n",
       "</tr>\n",
       "<tr>\n",
       "  <th>Covariance Type:</th>      <td>nonrobust</td>    <th>                     </th>     <td> </td>   \n",
       "</tr>\n",
       "</table>\n",
       "<table class=\"simpletable\">\n",
       "<tr>\n",
       "     <td></td>        <th>coef</th>     <th>std err</th>      <th>t</th>      <th>P>|t|</th>  <th>[0.025</th>    <th>0.975]</th>  \n",
       "</tr>\n",
       "<tr>\n",
       "  <th>const</th>   <td>    1.0362</td> <td>    0.082</td> <td>   12.667</td> <td> 0.000</td> <td>    0.875</td> <td>    1.197</td>\n",
       "</tr>\n",
       "<tr>\n",
       "  <th>unc_bws</th> <td>   -2.5466</td> <td>    0.335</td> <td>   -7.601</td> <td> 0.000</td> <td>   -3.207</td> <td>   -1.886</td>\n",
       "</tr>\n",
       "</table>\n",
       "<table class=\"simpletable\">\n",
       "<tr>\n",
       "  <th>Omnibus:</th>       <td>30.677</td> <th>  Durbin-Watson:     </th> <td>   1.448</td>\n",
       "</tr>\n",
       "<tr>\n",
       "  <th>Prob(Omnibus):</th> <td> 0.000</td> <th>  Jarque-Bera (JB):  </th> <td>  38.565</td>\n",
       "</tr>\n",
       "<tr>\n",
       "  <th>Skew:</th>          <td> 0.935</td> <th>  Prob(JB):          </th> <td>4.22e-09</td>\n",
       "</tr>\n",
       "<tr>\n",
       "  <th>Kurtosis:</th>      <td> 3.714</td> <th>  Cond. No.          </th> <td>    31.1</td>\n",
       "</tr>\n",
       "</table>"
      ],
      "text/plain": [
       "<class 'statsmodels.iolib.summary.Summary'>\n",
       "\"\"\"\n",
       "                            OLS Regression Results                            \n",
       "==============================================================================\n",
       "Dep. Variable:                    hvs   R-squared:                       0.201\n",
       "Model:                            OLS   Adj. R-squared:                  0.198\n",
       "Method:                 Least Squares   F-statistic:                     57.78\n",
       "Date:                Sun, 12 Aug 2018   Prob (F-statistic):           7.49e-13\n",
       "Time:                        17:31:46   Log-Likelihood:                 77.982\n",
       "No. Observations:                 231   AIC:                            -152.0\n",
       "Df Residuals:                     229   BIC:                            -145.1\n",
       "Df Model:                           1                                         \n",
       "Covariance Type:            nonrobust                                         \n",
       "==============================================================================\n",
       "                 coef    std err          t      P>|t|      [0.025      0.975]\n",
       "------------------------------------------------------------------------------\n",
       "const          1.0362      0.082     12.667      0.000       0.875       1.197\n",
       "unc_bws       -2.5466      0.335     -7.601      0.000      -3.207      -1.886\n",
       "==============================================================================\n",
       "Omnibus:                       30.677   Durbin-Watson:                   1.448\n",
       "Prob(Omnibus):                  0.000   Jarque-Bera (JB):               38.565\n",
       "Skew:                           0.935   Prob(JB):                     4.22e-09\n",
       "Kurtosis:                       3.714   Cond. No.                         31.1\n",
       "==============================================================================\n",
       "\n",
       "Warnings:\n",
       "[1] Standard Errors assume that the covariance matrix of the errors is correctly specified.\n",
       "\"\"\""
      ]
     },
     "execution_count": 57,
     "metadata": {},
     "output_type": "execute_result"
    }
   ],
   "source": [
    "X = data['unc_bws']\n",
    "Y = normalise_df2(data['hvs'])\n",
    "X = sm.add_constant(X)\n",
    "mod = sm.OLS(Y,X)\n",
    "res = mod.fit()\n",
    "res.summary()"
   ]
  },
  {
   "cell_type": "code",
   "execution_count": 93,
   "metadata": {},
   "outputs": [
    {
     "data": {
      "text/html": [
       "<table class=\"simpletable\">\n",
       "<caption>OLS Regression Results</caption>\n",
       "<tr>\n",
       "  <th>Dep. Variable:</th>           <td>hvs</td>       <th>  R-squared:         </th> <td>   0.201</td>\n",
       "</tr>\n",
       "<tr>\n",
       "  <th>Model:</th>                   <td>OLS</td>       <th>  Adj. R-squared:    </th> <td>   0.198</td>\n",
       "</tr>\n",
       "<tr>\n",
       "  <th>Method:</th>             <td>Least Squares</td>  <th>  F-statistic:       </th> <td>   57.78</td>\n",
       "</tr>\n",
       "<tr>\n",
       "  <th>Date:</th>             <td>Sun, 12 Aug 2018</td> <th>  Prob (F-statistic):</th> <td>7.49e-13</td>\n",
       "</tr>\n",
       "<tr>\n",
       "  <th>Time:</th>                 <td>15:03:31</td>     <th>  Log-Likelihood:    </th> <td>  77.982</td>\n",
       "</tr>\n",
       "<tr>\n",
       "  <th>No. Observations:</th>      <td>   231</td>      <th>  AIC:               </th> <td>  -152.0</td>\n",
       "</tr>\n",
       "<tr>\n",
       "  <th>Df Residuals:</th>          <td>   229</td>      <th>  BIC:               </th> <td>  -145.1</td>\n",
       "</tr>\n",
       "<tr>\n",
       "  <th>Df Model:</th>              <td>     1</td>      <th>                     </th>     <td> </td>   \n",
       "</tr>\n",
       "<tr>\n",
       "  <th>Covariance Type:</th>      <td>nonrobust</td>    <th>                     </th>     <td> </td>   \n",
       "</tr>\n",
       "</table>\n",
       "<table class=\"simpletable\">\n",
       "<tr>\n",
       "     <td></td>        <th>coef</th>     <th>std err</th>      <th>t</th>      <th>P>|t|</th>  <th>[0.025</th>    <th>0.975]</th>  \n",
       "</tr>\n",
       "<tr>\n",
       "  <th>const</th>   <td>    1.0362</td> <td>    0.082</td> <td>   12.667</td> <td> 0.000</td> <td>    0.875</td> <td>    1.197</td>\n",
       "</tr>\n",
       "<tr>\n",
       "  <th>unc_bws</th> <td>   -2.5466</td> <td>    0.335</td> <td>   -7.601</td> <td> 0.000</td> <td>   -3.207</td> <td>   -1.886</td>\n",
       "</tr>\n",
       "</table>\n",
       "<table class=\"simpletable\">\n",
       "<tr>\n",
       "  <th>Omnibus:</th>       <td>30.677</td> <th>  Durbin-Watson:     </th> <td>   1.448</td>\n",
       "</tr>\n",
       "<tr>\n",
       "  <th>Prob(Omnibus):</th> <td> 0.000</td> <th>  Jarque-Bera (JB):  </th> <td>  38.565</td>\n",
       "</tr>\n",
       "<tr>\n",
       "  <th>Skew:</th>          <td> 0.935</td> <th>  Prob(JB):          </th> <td>4.22e-09</td>\n",
       "</tr>\n",
       "<tr>\n",
       "  <th>Kurtosis:</th>      <td> 3.714</td> <th>  Cond. No.          </th> <td>    31.1</td>\n",
       "</tr>\n",
       "</table>"
      ],
      "text/plain": [
       "<class 'statsmodels.iolib.summary.Summary'>\n",
       "\"\"\"\n",
       "                            OLS Regression Results                            \n",
       "==============================================================================\n",
       "Dep. Variable:                    hvs   R-squared:                       0.201\n",
       "Model:                            OLS   Adj. R-squared:                  0.198\n",
       "Method:                 Least Squares   F-statistic:                     57.78\n",
       "Date:                Sun, 12 Aug 2018   Prob (F-statistic):           7.49e-13\n",
       "Time:                        15:03:31   Log-Likelihood:                 77.982\n",
       "No. Observations:                 231   AIC:                            -152.0\n",
       "Df Residuals:                     229   BIC:                            -145.1\n",
       "Df Model:                           1                                         \n",
       "Covariance Type:            nonrobust                                         \n",
       "==============================================================================\n",
       "                 coef    std err          t      P>|t|      [0.025      0.975]\n",
       "------------------------------------------------------------------------------\n",
       "const          1.0362      0.082     12.667      0.000       0.875       1.197\n",
       "unc_bws       -2.5466      0.335     -7.601      0.000      -3.207      -1.886\n",
       "==============================================================================\n",
       "Omnibus:                       30.677   Durbin-Watson:                   1.448\n",
       "Prob(Omnibus):                  0.000   Jarque-Bera (JB):               38.565\n",
       "Skew:                           0.935   Prob(JB):                     4.22e-09\n",
       "Kurtosis:                       3.714   Cond. No.                         31.1\n",
       "==============================================================================\n",
       "\n",
       "Warnings:\n",
       "[1] Standard Errors assume that the covariance matrix of the errors is correctly specified.\n",
       "\"\"\""
      ]
     },
     "execution_count": 93,
     "metadata": {},
     "output_type": "execute_result"
    }
   ],
   "source": [
    "X = data['unc_bws']\n",
    "Y = normalise_df2(data['hvs'])\n",
    "X = sm.add_constant(X)\n",
    "mod = sm.OLS(Y,X)\n",
    "res = mod.fit()\n",
    "res.summary()"
   ]
  },
  {
   "cell_type": "code",
   "execution_count": 59,
   "metadata": {
    "scrolled": true
   },
   "outputs": [
    {
     "data": {
      "text/plain": [
       "0.4488559471136231"
      ]
     },
     "execution_count": 59,
     "metadata": {},
     "output_type": "execute_result"
    }
   ],
   "source": [
    "(res.rsquared)**0.5"
   ]
  },
  {
   "cell_type": "code",
   "execution_count": null,
   "metadata": {},
   "outputs": [],
   "source": []
  }
 ],
 "metadata": {
  "kernelspec": {
   "display_name": "Python 3",
   "language": "python",
   "name": "python3"
  },
  "language_info": {
   "codemirror_mode": {
    "name": "ipython",
    "version": 3
   },
   "file_extension": ".py",
   "mimetype": "text/x-python",
   "name": "python",
   "nbconvert_exporter": "python",
   "pygments_lexer": "ipython3",
   "version": "3.6.4"
  },
  "toc": {
   "nav_menu": {},
   "number_sections": true,
   "sideBar": true,
   "skip_h1_title": false,
   "title_cell": "Table of Contents",
   "title_sidebar": "Contents",
   "toc_cell": false,
   "toc_position": {},
   "toc_section_display": true,
   "toc_window_display": false
  }
 },
 "nbformat": 4,
 "nbformat_minor": 2
}
