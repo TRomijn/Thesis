{
 "cells": [
  {
   "cell_type": "code",
   "execution_count": 1,
   "metadata": {},
   "outputs": [],
   "source": [
    "#imports\n",
    "\n",
    "# import random\n",
    "import pandas as pd\n",
    "import numpy as np\n",
    "import pickle\n",
    "import pygmo as pg\n",
    "import matplotlib.pyplot as plt\n",
    "import seaborn as sns\n",
    "\n",
    "\n",
    "# # Own Model import\n",
    "from lib.fl_model_v10 import *\n",
    "import lib\n",
    "# # import lib.fl_model_v5 as flm\n",
    "\n",
    "# # for natural sorting\n",
    "import re\n",
    "\n",
    "# #for nondominated sorting\n",
    "import lib.pareto as pareto\n",
    "# # from lib.list_imports import find_loaded_modules\n",
    "\n",
    "# # for parallel plotting\n",
    "# from lib.parallel_plotting import plot_optimal\n",
    "\n",
    "# # For checking ema running time\n",
    "# import time\n",
    "\n",
    "# import importlib\n",
    "\n",
    "# import geopy\n",
    "# from geopy.distance import great_circle "
   ]
  },
  {
   "cell_type": "code",
   "execution_count": 2,
   "metadata": {},
   "outputs": [],
   "source": [
    "case = \"Nepal\"\n",
    "output_folder = \"Simulation-results\""
   ]
  },
  {
   "cell_type": "markdown",
   "metadata": {},
   "source": [
    "## Load Data for reevaluation of policies under perfect information"
   ]
  },
  {
   "cell_type": "code",
   "execution_count": 3,
   "metadata": {},
   "outputs": [],
   "source": [
    "Fix_Unc = pd.read_csv(\"{}/Prepared Input Data/fixed_uncertainties.csv\".format(case), index_col=0)\n",
    "\n",
    "DPs = pd.read_csv(\"{}/Prepared Input Data/DPs.csv\".format(case))\n",
    "# DPs.columns\n",
    "\n",
    "FLs = pd.read_csv(\"{}/Prepared Input Data/FLs.csv\".format(case))\n",
    "# FLs.columns\n",
    "\n",
    "SPs = pd.read_csv(\"{}/Prepared Input Data/SPs.csv\".format(case))\n",
    "# SPs.columns\n",
    "\n",
    "# 0. Instantiate\n",
    "\n",
    "# General\n",
    "# Coordinates\n",
    "# all large cities to demand points\n",
    "DPY = {\"DPY{}\".format(i): y for i,y in enumerate(DPs['latitude'])}\n",
    "DPX = {\"DPX{}\".format(i): x for i,x in enumerate(DPs['longitude'])}\n",
    "\n",
    "# all international airports to supply points:\n",
    "SPY = {\"SPY{}\".format(i): y for i,y in enumerate(SPs['latitude_deg'])}\n",
    "SPX = {\"SPX{}\".format(i): x for i,x in enumerate(SPs['longitude_deg'])}\n",
    "\n",
    "# Facility locations\n",
    "FLX = {\"FLX{}\".format(i): x for i,x in enumerate(FLs['Lon'])}\n",
    "FLY = {\"FLY{}\".format(i): y for i,y in enumerate(FLs['Lat'])}\n",
    "\n",
    "\n",
    "# Population demand points\n",
    "DPpop = {\"DPpop{}\".format(i): pop for i,pop in enumerate(DPs['population'])}\n"
   ]
  },
  {
   "cell_type": "code",
   "execution_count": 4,
   "metadata": {},
   "outputs": [
    {
     "data": {
      "text/html": [
       "<div>\n",
       "<style scoped>\n",
       "    .dataframe tbody tr th:only-of-type {\n",
       "        vertical-align: middle;\n",
       "    }\n",
       "\n",
       "    .dataframe tbody tr th {\n",
       "        vertical-align: top;\n",
       "    }\n",
       "\n",
       "    .dataframe thead th {\n",
       "        text-align: right;\n",
       "    }\n",
       "</style>\n",
       "<table border=\"1\" class=\"dataframe\">\n",
       "  <thead>\n",
       "    <tr style=\"text-align: right;\">\n",
       "      <th></th>\n",
       "      <th>lower</th>\n",
       "      <th>best_estimate</th>\n",
       "      <th>upper</th>\n",
       "    </tr>\n",
       "    <tr>\n",
       "      <th>var</th>\n",
       "      <th></th>\n",
       "      <th></th>\n",
       "      <th></th>\n",
       "    </tr>\n",
       "  </thead>\n",
       "  <tbody>\n",
       "    <tr>\n",
       "      <th>unit_transport_cost</th>\n",
       "      <td>7</td>\n",
       "      <td>10</td>\n",
       "      <td>15</td>\n",
       "    </tr>\n",
       "    <tr>\n",
       "      <th>FL_range</th>\n",
       "      <td>1</td>\n",
       "      <td>3</td>\n",
       "      <td>5</td>\n",
       "    </tr>\n",
       "    <tr>\n",
       "      <th>demand_per_affected</th>\n",
       "      <td>5</td>\n",
       "      <td>10</td>\n",
       "      <td>15</td>\n",
       "    </tr>\n",
       "  </tbody>\n",
       "</table>\n",
       "</div>"
      ],
      "text/plain": [
       "                     lower  best_estimate  upper\n",
       "var                                             \n",
       "unit_transport_cost      7             10     15\n",
       "FL_range                 1              3      5\n",
       "demand_per_affected      5             10     15"
      ]
     },
     "execution_count": 4,
     "metadata": {},
     "output_type": "execute_result"
    }
   ],
   "source": [
    "Fix_Unc"
   ]
  },
  {
   "cell_type": "code",
   "execution_count": 5,
   "metadata": {
    "scrolled": true
   },
   "outputs": [
    {
     "name": "stdout",
     "output_type": "stream",
     "text": [
      "Pick right Epicentre, and/or load disruption data.\n",
      " Epicentre chosen: RealLocation\n"
     ]
    }
   ],
   "source": [
    "epicentre_name = \"RealLocation\"\n",
    "print(\"Pick right Epicentre, and/or load disruption data.\\n\",\n",
    "      \"Epicentre chosen: {}\".format(epicentre_name))"
   ]
  },
  {
   "cell_type": "code",
   "execution_count": 6,
   "metadata": {},
   "outputs": [],
   "source": [
    "disruptionsFLs = np.loadtxt(\n",
    "    'Nepal/Prepared Input Data/DisruptionFL{}.txt'.format(epicentre_name))\n",
    "disruptionsDPs = np.loadtxt(\n",
    "    'Nepal/Prepared Input Data/DisruptionDP{}.txt'.format(epicentre_name))"
   ]
  },
  {
   "cell_type": "code",
   "execution_count": 7,
   "metadata": {},
   "outputs": [],
   "source": [
    "# Base real values on Nepal earthquake\n",
    "# DSR is abbreviation for Disruption\n",
    "\n",
    "DSRDP = {\"DSRDP{}\".format(i): disruptionsDPs[i] for i in range(len(DPX))}\n",
    "DSRFL = {\"DSRFL{}\".format(i): disruptionsFLs[i] for i in range(len(FLX))}"
   ]
  },
  {
   "cell_type": "markdown",
   "metadata": {},
   "source": [
    "## Create MOO results for perfect information"
   ]
  },
  {
   "cell_type": "code",
   "execution_count": 8,
   "metadata": {},
   "outputs": [
    {
     "name": "stdout",
     "output_type": "stream",
     "text": [
      "There are 4845 possible solutions where there are four different facility locations operational\n"
     ]
    }
   ],
   "source": [
    "from itertools import product\n",
    "# Create All possible policies\n",
    "start_situation = {key: 0 for key in FLs.Name}\n",
    "\n",
    "# Create all possible permutations for\n",
    "permutations = [i for i in product([0, 1], repeat=len(FLs)) if sum(i) == 4]\n",
    "print(\n",
    "    \"There are {} possible solutions where there are four different facility locations operational\".\n",
    "    format(len(permutations)))\n",
    "\n",
    "# Convert possible permutations to policies\n",
    "All_optional_pols = []\n",
    "for p in permutations:\n",
    "    tmp = {\"FLO{}\".format(i):val for i,val in enumerate(p)}\n",
    "    All_optional_pols.append(tmp)"
   ]
  },
  {
   "cell_type": "code",
   "execution_count": 9,
   "metadata": {},
   "outputs": [],
   "source": [
    "# Evaluate all optional policies with best estimate values\n",
    "Perfect_Info_Results = []\n",
    "for policy in All_optional_pols:\n",
    "    Perfect_Info_Results.append(\n",
    "        FL_model(\n",
    "#             unit_opening_costs=Fix_Unc.best_estimate['unit_opening_costs'],\n",
    "            unit_transport_cost=Fix_Unc.best_estimate['unit_transport_cost'],\n",
    "#             FL_operations_cost=Fix_Unc.best_estimate['FL_operations_cost'],\n",
    "            demand_per_affected=Fix_Unc.best_estimate['demand_per_affected'],\n",
    "            graphical_representation=False,\n",
    "            FL_range=Fix_Unc.best_estimate['FL_range'],\n",
    "            dist_method='from_table',\n",
    "            table_dir=\"{}/Prepared Input Data/routing_table.csv\".format(case),\n",
    "            **SPX,\n",
    "            **SPY,\n",
    "            **DPX,\n",
    "            **DPY,\n",
    "            **FLX,\n",
    "            **FLY,\n",
    "            **policy,\n",
    "            **DSRDP,\n",
    "            **DSRFL,\n",
    "            **DPpop))"
   ]
  },
  {
   "cell_type": "markdown",
   "metadata": {},
   "source": [
    "### Find Pareto Front for Perfect Infomration"
   ]
  },
  {
   "cell_type": "code",
   "execution_count": 10,
   "metadata": {},
   "outputs": [
    {
     "name": "stdout",
     "output_type": "stream",
     "text": [
      "There are 1297 solutions remaining after filtering for the constraint\n"
     ]
    },
    {
     "data": {
      "text/html": [
       "<div>\n",
       "<style scoped>\n",
       "    .dataframe tbody tr th:only-of-type {\n",
       "        vertical-align: middle;\n",
       "    }\n",
       "\n",
       "    .dataframe tbody tr th {\n",
       "        vertical-align: top;\n",
       "    }\n",
       "\n",
       "    .dataframe thead th {\n",
       "        text-align: right;\n",
       "    }\n",
       "</style>\n",
       "<table border=\"1\" class=\"dataframe\">\n",
       "  <thead>\n",
       "    <tr style=\"text-align: right;\">\n",
       "      <th></th>\n",
       "      <th>total_costs</th>\n",
       "      <th>nr_uncovered_DPs</th>\n",
       "      <th>total_uncovered_demand</th>\n",
       "      <th>max_travel_time</th>\n",
       "      <th>constraint</th>\n",
       "    </tr>\n",
       "  </thead>\n",
       "  <tbody>\n",
       "    <tr>\n",
       "      <th>3</th>\n",
       "      <td>177410</td>\n",
       "      <td>24</td>\n",
       "      <td>7995.39</td>\n",
       "      <td>60234</td>\n",
       "      <td>True</td>\n",
       "    </tr>\n",
       "    <tr>\n",
       "      <th>7</th>\n",
       "      <td>92385.7</td>\n",
       "      <td>26</td>\n",
       "      <td>8982.6</td>\n",
       "      <td>59777.4</td>\n",
       "      <td>True</td>\n",
       "    </tr>\n",
       "    <tr>\n",
       "      <th>10</th>\n",
       "      <td>175031</td>\n",
       "      <td>24</td>\n",
       "      <td>7995.39</td>\n",
       "      <td>59777.4</td>\n",
       "      <td>True</td>\n",
       "    </tr>\n",
       "    <tr>\n",
       "      <th>12</th>\n",
       "      <td>178597</td>\n",
       "      <td>24</td>\n",
       "      <td>7995.39</td>\n",
       "      <td>59777.4</td>\n",
       "      <td>True</td>\n",
       "    </tr>\n",
       "    <tr>\n",
       "      <th>14</th>\n",
       "      <td>158112</td>\n",
       "      <td>25</td>\n",
       "      <td>8068.33</td>\n",
       "      <td>79058</td>\n",
       "      <td>True</td>\n",
       "    </tr>\n",
       "  </tbody>\n",
       "</table>\n",
       "</div>"
      ],
      "text/plain": [
       "   total_costs nr_uncovered_DPs total_uncovered_demand max_travel_time  \\\n",
       "3       177410               24                7995.39           60234   \n",
       "7      92385.7               26                 8982.6         59777.4   \n",
       "10      175031               24                7995.39         59777.4   \n",
       "12      178597               24                7995.39         59777.4   \n",
       "14      158112               25                8068.33           79058   \n",
       "\n",
       "   constraint  \n",
       "3        True  \n",
       "7        True  \n",
       "10       True  \n",
       "12       True  \n",
       "14       True  "
      ]
     },
     "execution_count": 10,
     "metadata": {},
     "output_type": "execute_result"
    }
   ],
   "source": [
    "#Filter out those where the constraint is not satisfied\n",
    "\n",
    "# outcome indicators, as internally used by the model\n",
    "oois = [\n",
    "    'total_costs', 'nr_uncovered_DPs', 'total_uncovered_demand',\n",
    "    'max_travel_time'\n",
    "]\n",
    "# Put outcomes in DF\n",
    "\n",
    "DF_Perfect_Info_Results = pd.DataFrame(\n",
    "    np.asarray(Perfect_Info_Results)[:, :5], columns=oois + [\"constraint\"])\n",
    "# DF_Perfect_Info_Results.tail()\n",
    "\n",
    "DF_Perfect_Info_Results_filtered = DF_Perfect_Info_Results[\n",
    "    DF_Perfect_Info_Results.constraint]\n",
    "print(\"There are {} solutions remaining after filtering for the constraint\".\n",
    "      format(DF_Perfect_Info_Results_filtered.shape[0]))\n",
    "DF_Perfect_Info_Results_filtered.head()"
   ]
  },
  {
   "cell_type": "code",
   "execution_count": 11,
   "metadata": {
    "scrolled": true
   },
   "outputs": [
    {
     "name": "stdout",
     "output_type": "stream",
     "text": [
      "There are 55 solutions in the pareto front for Perfect Information\n"
     ]
    }
   ],
   "source": [
    "# Get Pareto Front by NonDominated Sorting\n",
    "PF_MOO = np.array(pareto.eps_sort(\n",
    "    [list(DF_Perfect_Info_Results_filtered.itertuples(index=True))], [1, 2, 3, 4],\n",
    "    [1e-9, 1e-9, 1e-9, 1e-9]))\n",
    "\n",
    "DF_PF_MOO = pd.DataFrame(PF_MOO).set_index(0)\n",
    "print(\"There are {} solutions in the pareto front for Perfect Information\".\n",
    "      format(DF_PF_MOO.shape[0]))"
   ]
  },
  {
   "cell_type": "markdown",
   "metadata": {},
   "source": [
    "## Load mpmordm results"
   ]
  },
  {
   "cell_type": "code",
   "execution_count": 13,
   "metadata": {},
   "outputs": [],
   "source": [
    "with open('{}/{}/python_objects.pickle'.format(case, output_folder),\n",
    "          'rb') as handle:\n",
    "    global_label_tree, EMA_model_dict, global_dfs_var_unc_data, global_fixed_unc, global_policy_tree = pickle.load(\n",
    "        handle)"
   ]
  },
  {
   "cell_type": "markdown",
   "metadata": {},
   "source": [
    "## Reevaluate MPMORDM results for perfect information"
   ]
  },
  {
   "cell_type": "code",
   "execution_count": 14,
   "metadata": {},
   "outputs": [],
   "source": [
    "p4_labels = global_label_tree['p4']"
   ]
  },
  {
   "cell_type": "code",
   "execution_count": 15,
   "metadata": {},
   "outputs": [],
   "source": [
    "p4_pols = [global_policy_tree[label] for label in p4_labels]"
   ]
  },
  {
   "cell_type": "code",
   "execution_count": 16,
   "metadata": {},
   "outputs": [
    {
     "name": "stdout",
     "output_type": "stream",
     "text": [
      "P4 after Multi-Period Robust Optimisation contains 1152 number of policies\n"
     ]
    }
   ],
   "source": [
    "print(\"P4 after Multi-Period Robust Optimisation contains {} number of policies\".format(len(p4_pols)))"
   ]
  },
  {
   "cell_type": "code",
   "execution_count": 17,
   "metadata": {},
   "outputs": [],
   "source": [
    "# Filter to find only unique policies"
   ]
  },
  {
   "cell_type": "code",
   "execution_count": 18,
   "metadata": {},
   "outputs": [
    {
     "name": "stdout",
     "output_type": "stream",
     "text": [
      "Of all 1152 policies, 165 are unique, the rest are duplicates\n"
     ]
    }
   ],
   "source": [
    "p4_FLs = np.array([[int(key[3:]) for key, value in pol.items() if value == 1]\n",
    "                   for pol in p4_pols])\n",
    "p4_FLs = np.unique(p4_FLs, axis=0)\n",
    "print(\"Of all {} policies, {} are unique, the rest are duplicates\".format(\n",
    "    len(p4_pols), p4_FLs.shape[0]))"
   ]
  },
  {
   "cell_type": "code",
   "execution_count": 19,
   "metadata": {},
   "outputs": [],
   "source": [
    "p4_pols_unique = [{\n",
    "    \"FLO{}\".format(i): 1 if i in p4_FLs[j] else 0\n",
    "    for i in range(len(p4_pols[0].keys()))\n",
    "} for j in range(len(p4_FLs))]"
   ]
  },
  {
   "cell_type": "code",
   "execution_count": 21,
   "metadata": {},
   "outputs": [],
   "source": [
    "# Evaluate all unique policies with best estimate values\n",
    "MPMORDMpols_for_real_values_results = []\n",
    "# for policy in p4_pols_unique:\n",
    "for policy in p4_pols:    \n",
    "    MPMORDMpols_for_real_values_results.append(\n",
    "        FL_model(\n",
    "#             unit_opening_costs=Fix_Unc.best_estimate['unit_opening_costs'],\n",
    "            unit_transport_cost=Fix_Unc.best_estimate['unit_transport_cost'],\n",
    "#             FL_operations_cost=Fix_Unc.best_estimate['FL_operations_cost'],\n",
    "            demand_per_affected=Fix_Unc.best_estimate['demand_per_affected'],\n",
    "            graphical_representation=False,\n",
    "            FL_range=Fix_Unc.best_estimate['FL_range'],\n",
    "            dist_method='from_table',\n",
    "            table_dir=\"{}/Prepared Input Data/routing_table.csv\".format(case),\n",
    "            **SPX,\n",
    "            **SPY,\n",
    "            **DPX,\n",
    "            **DPY,\n",
    "            **FLX,\n",
    "            **FLY,\n",
    "            **policy,\n",
    "            **DSRDP,\n",
    "            **DSRFL,\n",
    "            **DPpop))"
   ]
  },
  {
   "cell_type": "markdown",
   "metadata": {},
   "source": [
    "### Pareto Front MPMORDM: Dynamic Uncertainty "
   ]
  },
  {
   "cell_type": "code",
   "execution_count": 22,
   "metadata": {},
   "outputs": [
    {
     "name": "stdout",
     "output_type": "stream",
     "text": [
      "There are 1152 solutions remaining after filtering for the constraint\n"
     ]
    },
    {
     "data": {
      "text/html": [
       "<div>\n",
       "<style scoped>\n",
       "    .dataframe tbody tr th:only-of-type {\n",
       "        vertical-align: middle;\n",
       "    }\n",
       "\n",
       "    .dataframe tbody tr th {\n",
       "        vertical-align: top;\n",
       "    }\n",
       "\n",
       "    .dataframe thead th {\n",
       "        text-align: right;\n",
       "    }\n",
       "</style>\n",
       "<table border=\"1\" class=\"dataframe\">\n",
       "  <thead>\n",
       "    <tr style=\"text-align: right;\">\n",
       "      <th></th>\n",
       "      <th>total_costs</th>\n",
       "      <th>nr_uncovered_DPs</th>\n",
       "      <th>total_uncovered_demand</th>\n",
       "      <th>max_travel_time</th>\n",
       "      <th>constraint</th>\n",
       "    </tr>\n",
       "  </thead>\n",
       "  <tbody>\n",
       "    <tr>\n",
       "      <th>0</th>\n",
       "      <td>1.07736e+06</td>\n",
       "      <td>13</td>\n",
       "      <td>2992.29</td>\n",
       "      <td>53409.1</td>\n",
       "      <td>True</td>\n",
       "    </tr>\n",
       "    <tr>\n",
       "      <th>1</th>\n",
       "      <td>1.23649e+06</td>\n",
       "      <td>10</td>\n",
       "      <td>1619.21</td>\n",
       "      <td>53409.1</td>\n",
       "      <td>True</td>\n",
       "    </tr>\n",
       "    <tr>\n",
       "      <th>2</th>\n",
       "      <td>406905</td>\n",
       "      <td>17</td>\n",
       "      <td>6064.99</td>\n",
       "      <td>53409.1</td>\n",
       "      <td>True</td>\n",
       "    </tr>\n",
       "    <tr>\n",
       "      <th>3</th>\n",
       "      <td>334802</td>\n",
       "      <td>19</td>\n",
       "      <td>7129.9</td>\n",
       "      <td>59777.4</td>\n",
       "      <td>True</td>\n",
       "    </tr>\n",
       "    <tr>\n",
       "      <th>4</th>\n",
       "      <td>371255</td>\n",
       "      <td>18</td>\n",
       "      <td>6724.11</td>\n",
       "      <td>60500</td>\n",
       "      <td>True</td>\n",
       "    </tr>\n",
       "  </tbody>\n",
       "</table>\n",
       "</div>"
      ],
      "text/plain": [
       "   total_costs nr_uncovered_DPs total_uncovered_demand max_travel_time  \\\n",
       "0  1.07736e+06               13                2992.29         53409.1   \n",
       "1  1.23649e+06               10                1619.21         53409.1   \n",
       "2       406905               17                6064.99         53409.1   \n",
       "3       334802               19                 7129.9         59777.4   \n",
       "4       371255               18                6724.11           60500   \n",
       "\n",
       "  constraint  \n",
       "0       True  \n",
       "1       True  \n",
       "2       True  \n",
       "3       True  \n",
       "4       True  "
      ]
     },
     "execution_count": 22,
     "metadata": {},
     "output_type": "execute_result"
    }
   ],
   "source": [
    "#Filter out those where the constraint is not satisfied\n",
    "\n",
    "# outcome indicators, as internally used by the model\n",
    "oois = [\n",
    "    'total_costs', 'nr_uncovered_DPs', 'total_uncovered_demand',\n",
    "    'max_travel_time'\n",
    "]\n",
    "# Put outcomes in DF\n",
    "\n",
    "DF_MPMORDMpols_for_real_values_results = pd.DataFrame(\n",
    "    np.asarray(MPMORDMpols_for_real_values_results)[:, :5], columns=oois + [\"constraint\"])\n",
    "\n",
    "\n",
    "DF_MPMORDMpols_for_real_values_results_filtered = DF_MPMORDMpols_for_real_values_results[\n",
    "    DF_MPMORDMpols_for_real_values_results.constraint]\n",
    "print(\"There are {} solutions remaining after filtering for the constraint\".\n",
    "      format(DF_MPMORDMpols_for_real_values_results_filtered.shape[0]))\n",
    "DF_MPMORDMpols_for_real_values_results_filtered.head()"
   ]
  },
  {
   "cell_type": "markdown",
   "metadata": {},
   "source": [
    "This is expected, because they already had to satisfy for the constraint during the mpmordm cycle"
   ]
  },
  {
   "cell_type": "code",
   "execution_count": 23,
   "metadata": {},
   "outputs": [
    {
     "name": "stdout",
     "output_type": "stream",
     "text": [
      "There are 54 solutions in the pareto front for the MPMORDM\n"
     ]
    }
   ],
   "source": [
    "# Get Pareto Front by NonDominated Sorting\n",
    "PF_MPMORDM = np.array(pareto.eps_sort(\n",
    "    [list(DF_MPMORDMpols_for_real_values_results_filtered.itertuples(index=True))], [1, 2, 3, 4],\n",
    "    [1e-9, 1e-9, 1e-9, 1e-9]))\n",
    "\n",
    "DF_PF_MPMORDM = pd.DataFrame(PF_MPMORDM).set_index(0)\n",
    "print(\"There are {} solutions in the pareto front for the MPMORDM\".\n",
    "      format(DF_PF_MPMORDM.shape[0]))"
   ]
  },
  {
   "cell_type": "code",
   "execution_count": 24,
   "metadata": {},
   "outputs": [
    {
     "name": "stdout",
     "output_type": "stream",
     "text": [
      "There are 44 solutions in the inverse pareto front for the MPMORDM\n"
     ]
    }
   ],
   "source": [
    "kwargs = {\"maximize_all\":True}\n",
    "# Get Inverse Pareto Front by NonDominated Sorting\n",
    "Inverse_PF_MPMORDM = np.array(pareto.eps_sort(\n",
    "    [list(DF_MPMORDMpols_for_real_values_results_filtered.itertuples(index=True))], [1, 2, 3, 4],\n",
    "    [1e-9, 1e-9, 1e-9, 1e-9],**kwargs))\n",
    "\n",
    "DF_Inverse_PF_MPMORDM = pd.DataFrame(Inverse_PF_MPMORDM).set_index(0)\n",
    "print(\"There are {} solutions in the inverse pareto front for the MPMORDM\".\n",
    "      format(DF_Inverse_PF_MPMORDM.shape[0]))"
   ]
  },
  {
   "cell_type": "markdown",
   "metadata": {},
   "source": [
    "## Compare Pareto Fronts "
   ]
  },
  {
   "cell_type": "code",
   "execution_count": 25,
   "metadata": {},
   "outputs": [
    {
     "data": {
      "text/plain": [
       "(54, 5)"
      ]
     },
     "execution_count": 25,
     "metadata": {},
     "output_type": "execute_result"
    }
   ],
   "source": [
    "DF_PF_MPMORDM.shape"
   ]
  },
  {
   "cell_type": "code",
   "execution_count": 26,
   "metadata": {},
   "outputs": [
    {
     "data": {
      "text/plain": [
       "(55, 5)"
      ]
     },
     "execution_count": 26,
     "metadata": {},
     "output_type": "execute_result"
    }
   ],
   "source": [
    "DF_PF_MOO.shape"
   ]
  },
  {
   "cell_type": "code",
   "execution_count": 27,
   "metadata": {},
   "outputs": [
    {
     "data": {
      "text/plain": [
       "(44, 5)"
      ]
     },
     "execution_count": 27,
     "metadata": {},
     "output_type": "execute_result"
    }
   ],
   "source": [
    "DF_Inverse_PF_MPMORDM.shape"
   ]
  },
  {
   "cell_type": "code",
   "execution_count": 28,
   "metadata": {},
   "outputs": [
    {
     "data": {
      "text/plain": [
       "<module 'pygmo' from 'C:\\\\Users\\\\timro\\\\Anaconda3\\\\lib\\\\site-packages\\\\pygmo\\\\__init__.py'>"
      ]
     },
     "execution_count": 28,
     "metadata": {},
     "output_type": "execute_result"
    }
   ],
   "source": [
    "pg"
   ]
  },
  {
   "cell_type": "markdown",
   "metadata": {},
   "source": [
    "### Normalise all three dfs"
   ]
  },
  {
   "cell_type": "code",
   "execution_count": 29,
   "metadata": {},
   "outputs": [],
   "source": [
    "def normalise_df (df):\n",
    "    df = df.iloc[:,:4]\n",
    "    normalised_df=(df-df.min())/(df.max()-df.min())\n",
    "    print(\"normalised with: min:\\n{} and max:\\n{}\\n\\n\".format(df.min(),df.max()))\n",
    "    return normalised_df"
   ]
  },
  {
   "cell_type": "code",
   "execution_count": 30,
   "metadata": {},
   "outputs": [],
   "source": [
    "def normalise_df_relative (df, minimum, maximum):\n",
    "    df = df.iloc[:,:4]\n",
    "    normalised_df=(df-minimum)/(maximum-minimum)\n",
    "    print(\"normalised with: min:\\n{} and max:\\n{}\\n\\n\".format(minimum,maximum))\n",
    "    return normalised_df"
   ]
  },
  {
   "cell_type": "code",
   "execution_count": 31,
   "metadata": {},
   "outputs": [],
   "source": [
    "def normalise_multiple_dfs(df_list):\n",
    "    tmp = pd.DataFrame()\n",
    "    for df in df_list:\n",
    "        tmp = tmp.append(df)\n",
    "    MIN,MAX = tmp.min()[:4], tmp.max()[:4]\n",
    "    \n",
    "    normalised_dfs = []\n",
    "    for df in df_list:\n",
    "        normalised_dfs.append(normalise_df_relative(df,MIN,MAX))\n",
    "    return normalised_dfs\n"
   ]
  },
  {
   "cell_type": "code",
   "execution_count": 32,
   "metadata": {},
   "outputs": [
    {
     "name": "stdout",
     "output_type": "stream",
     "text": [
      "normalised with: min:\n",
      "1    76783.263124\n",
      "2        8.000000\n",
      "3      554.300229\n",
      "4    27851.337183\n",
      "dtype: float64 and max:\n",
      "1    2.030775e+06\n",
      "2    2.700000e+01\n",
      "3    1.661122e+04\n",
      "4    8.448795e+04\n",
      "dtype: float64\n",
      "\n",
      "\n",
      "normalised with: min:\n",
      "1    76783.263124\n",
      "2        8.000000\n",
      "3      554.300229\n",
      "4    27851.337183\n",
      "dtype: float64 and max:\n",
      "1    2.030775e+06\n",
      "2    2.700000e+01\n",
      "3    1.661122e+04\n",
      "4    8.448795e+04\n",
      "dtype: float64\n",
      "\n",
      "\n",
      "normalised with: min:\n",
      "1    76783.263124\n",
      "2        8.000000\n",
      "3      554.300229\n",
      "4    27851.337183\n",
      "dtype: float64 and max:\n",
      "1    2.030775e+06\n",
      "2    2.700000e+01\n",
      "3    1.661122e+04\n",
      "4    8.448795e+04\n",
      "dtype: float64\n",
      "\n",
      "\n"
     ]
    }
   ],
   "source": [
    "normalised_df_list = normalise_multiple_dfs([DF_PF_MOO,DF_PF_MPMORDM,DF_Inverse_PF_MPMORDM])"
   ]
  },
  {
   "cell_type": "code",
   "execution_count": 33,
   "metadata": {
    "scrolled": true
   },
   "outputs": [],
   "source": [
    "DF_PF_MOO_norm, DF_PF_MPMORDM_norm, DF_Inverse_PF_MPMORDM_norm = normalised_df_list"
   ]
  },
  {
   "cell_type": "code",
   "execution_count": 34,
   "metadata": {},
   "outputs": [
    {
     "data": {
      "text/plain": [
       "(55, 4)"
      ]
     },
     "execution_count": 34,
     "metadata": {},
     "output_type": "execute_result"
    }
   ],
   "source": [
    "DF_PF_MOO_norm.shape"
   ]
  },
  {
   "cell_type": "code",
   "execution_count": 35,
   "metadata": {},
   "outputs": [
    {
     "data": {
      "text/plain": [
       "(54, 4)"
      ]
     },
     "execution_count": 35,
     "metadata": {},
     "output_type": "execute_result"
    }
   ],
   "source": [
    "DF_PF_MPMORDM_norm.shape"
   ]
  },
  {
   "cell_type": "code",
   "execution_count": 36,
   "metadata": {},
   "outputs": [
    {
     "data": {
      "text/plain": [
       "(44, 4)"
      ]
     },
     "execution_count": 36,
     "metadata": {},
     "output_type": "execute_result"
    }
   ],
   "source": [
    "DF_Inverse_PF_MPMORDM_norm.shape"
   ]
  },
  {
   "cell_type": "markdown",
   "metadata": {},
   "source": [
    "### Calculate Hypervolume Difference between Ground Truth and MPMORDM"
   ]
  },
  {
   "cell_type": "code",
   "execution_count": 37,
   "metadata": {},
   "outputs": [],
   "source": [
    "ref_point = [1,1,1,1]"
   ]
  },
  {
   "cell_type": "code",
   "execution_count": 38,
   "metadata": {
    "scrolled": false
   },
   "outputs": [],
   "source": [
    "hv_MOO = pg.hypervolume(DF_PF_MOO_norm.values)\n",
    "# hv_MOO = pg.hypervolume(DF_PF_MOO_norm.iloc[:,:4].astype(float).values)"
   ]
  },
  {
   "cell_type": "code",
   "execution_count": 39,
   "metadata": {},
   "outputs": [
    {
     "data": {
      "text/plain": [
       "0.5205502602682269"
      ]
     },
     "execution_count": 39,
     "metadata": {},
     "output_type": "execute_result"
    }
   ],
   "source": [
    "hv_MOO.compute(ref_point)"
   ]
  },
  {
   "cell_type": "code",
   "execution_count": 40,
   "metadata": {},
   "outputs": [],
   "source": [
    "hv_MPMORDM = pg.hypervolume(DF_PF_MPMORDM_norm.values)\n",
    "# hv_MPMORDM = pg.hypervolume(DF_PF_MPMORDM_norm.iloc[:,:4].astype(float).values)"
   ]
  },
  {
   "cell_type": "code",
   "execution_count": 41,
   "metadata": {},
   "outputs": [
    {
     "data": {
      "text/plain": [
       "0.5205404133203992"
      ]
     },
     "execution_count": 41,
     "metadata": {},
     "output_type": "execute_result"
    }
   ],
   "source": [
    "hv_MPMORDM.compute(ref_point)"
   ]
  },
  {
   "cell_type": "code",
   "execution_count": 42,
   "metadata": {},
   "outputs": [],
   "source": [
    "diff = hv_MOO.compute(ref_point) - hv_MPMORDM.compute(ref_point)"
   ]
  },
  {
   "cell_type": "code",
   "execution_count": 43,
   "metadata": {},
   "outputs": [
    {
     "data": {
      "text/plain": [
       "9.846947827685248e-06"
      ]
     },
     "execution_count": 43,
     "metadata": {},
     "output_type": "execute_result"
    }
   ],
   "source": [
    "diff"
   ]
  },
  {
   "cell_type": "markdown",
   "metadata": {},
   "source": [
    "### Compare worst pareto front"
   ]
  },
  {
   "cell_type": "code",
   "execution_count": 44,
   "metadata": {},
   "outputs": [],
   "source": [
    "hv_MPMORDM_inverse = pg.hypervolume(DF_Inverse_PF_MPMORDM_norm.values)"
   ]
  },
  {
   "cell_type": "code",
   "execution_count": 45,
   "metadata": {},
   "outputs": [
    {
     "data": {
      "text/plain": [
       "0.2560122910977658"
      ]
     },
     "execution_count": 45,
     "metadata": {},
     "output_type": "execute_result"
    }
   ],
   "source": [
    "hv_MPMORDM_inverse.compute(ref_point)"
   ]
  },
  {
   "cell_type": "code",
   "execution_count": 46,
   "metadata": {},
   "outputs": [
    {
     "data": {
      "text/plain": [
       "0.26453796917046113"
      ]
     },
     "execution_count": 46,
     "metadata": {},
     "output_type": "execute_result"
    }
   ],
   "source": [
    "hv_MOO.compute(ref_point) - hv_MPMORDM_inverse.compute(ref_point)"
   ]
  },
  {
   "cell_type": "markdown",
   "metadata": {},
   "source": [
    "## Coverage and Density of MPMORDM solutions in Perfect Info Pareto Front"
   ]
  },
  {
   "cell_type": "code",
   "execution_count": 49,
   "metadata": {},
   "outputs": [
    {
     "data": {
      "text/plain": [
       "(55, 4)"
      ]
     },
     "execution_count": 49,
     "metadata": {},
     "output_type": "execute_result"
    }
   ],
   "source": [
    "# PF pols\n",
    "PFMOOPols = np.array(All_optional_pols)[list(DF_PF_MOO.index.astype(int))]\n",
    "PFMOOPols.shape\n",
    "# PF fls\n",
    "PFMOO_FLS = np.array([[int(key[3:]) for key, value in pol.items() if value == 1]\n",
    "                   for pol in PFMOOPols])\n",
    "PFMOO_FLS.shape"
   ]
  },
  {
   "cell_type": "code",
   "execution_count": 50,
   "metadata": {},
   "outputs": [
    {
     "data": {
      "text/plain": [
       "(55, 4)"
      ]
     },
     "execution_count": 50,
     "metadata": {},
     "output_type": "execute_result"
    }
   ],
   "source": [
    "np.unique(PFMOO_FLS, axis=0).shape"
   ]
  },
  {
   "cell_type": "code",
   "execution_count": 51,
   "metadata": {
    "scrolled": true
   },
   "outputs": [
    {
     "name": "stdout",
     "output_type": "stream",
     "text": [
      "all p4 pols: 1152\n"
     ]
    },
    {
     "data": {
      "text/plain": [
       "(165, 4)"
      ]
     },
     "execution_count": 51,
     "metadata": {},
     "output_type": "execute_result"
    }
   ],
   "source": [
    "#MPMORDM pols\n",
    "#total\n",
    "print(\"all p4 pols:\",len(p4_pols))\n",
    "#FLS\n",
    "p4_FLs = np.array([[int(key[3:]) for key, value in pol.items() if value == 1]\n",
    "                   for pol in p4_pols])\n",
    "p4_FLs.shape\n",
    "#unique\n",
    "np.unique(p4_FLs, axis=0).shape"
   ]
  },
  {
   "cell_type": "code",
   "execution_count": 52,
   "metadata": {},
   "outputs": [
    {
     "data": {
      "text/plain": [
       "(54, 4)"
      ]
     },
     "execution_count": 52,
     "metadata": {},
     "output_type": "execute_result"
    }
   ],
   "source": [
    "#MPMORDM PF pols\n",
    "PFMPMORDMPols = np.array(p4_pols)[list(DF_PF_MPMORDM.index.astype(int))]\n",
    "\n",
    "#FLS\n",
    "PFMPMORDM_FLS = np.array([[int(key[3:]) for key, value in pol.items() if value == 1]\n",
    "                   for pol in PFMPMORDMPols])\n",
    "\n",
    "PFMPMORDM_FLS.shape"
   ]
  },
  {
   "cell_type": "code",
   "execution_count": 53,
   "metadata": {},
   "outputs": [
    {
     "data": {
      "text/plain": [
       "(54, 4)"
      ]
     },
     "execution_count": 53,
     "metadata": {},
     "output_type": "execute_result"
    }
   ],
   "source": [
    "np.unique(PFMPMORDM_FLS, axis=0).shape"
   ]
  },
  {
   "cell_type": "code",
   "execution_count": 54,
   "metadata": {},
   "outputs": [
    {
     "data": {
      "text/plain": [
       "(44, 4)"
      ]
     },
     "execution_count": 54,
     "metadata": {},
     "output_type": "execute_result"
    }
   ],
   "source": [
    "#MPMORDM invPF pols\n",
    "InvPFMPMORDMPols = np.array(p4_pols)[list(DF_Inverse_PF_MPMORDM.index.astype(int))]\n",
    "\n",
    "#FLS\n",
    "InvPFMPMORDM_FLS = np.array([[int(key[3:]) for key, value in pol.items() if value == 1]\n",
    "                   for pol in InvPFMPMORDMPols])\n",
    "InvPFMPMORDM_FLS.shape"
   ]
  },
  {
   "cell_type": "code",
   "execution_count": 55,
   "metadata": {},
   "outputs": [
    {
     "data": {
      "text/plain": [
       "(44, 4)"
      ]
     },
     "execution_count": 55,
     "metadata": {},
     "output_type": "execute_result"
    }
   ],
   "source": [
    "np.unique(InvPFMPMORDM_FLS, axis=0).shape"
   ]
  },
  {
   "cell_type": "markdown",
   "metadata": {},
   "source": [
    "### Coverage of PF\n",
    "How many are in the actual PF?"
   ]
  },
  {
   "cell_type": "code",
   "execution_count": 56,
   "metadata": {},
   "outputs": [
    {
     "name": "stdout",
     "output_type": "stream",
     "text": [
      "54 in 55 :\n",
      "98.18181818181819 %\n"
     ]
    }
   ],
   "source": [
    "# MPMORDM PF in MOO\n",
    "covered = sum([fls.tolist() in PFMOO_FLS.tolist() for fls in PFMPMORDM_FLS])\n",
    "print(covered,\"in\",PFMOO_FLS.shape[0],\":\")\n",
    "print(covered / PFMOO_FLS.shape[0] * 100,\"%\")"
   ]
  },
  {
   "cell_type": "code",
   "execution_count": 57,
   "metadata": {},
   "outputs": [
    {
     "data": {
      "text/plain": [
       "54"
      ]
     },
     "execution_count": 57,
     "metadata": {},
     "output_type": "execute_result"
    }
   ],
   "source": [
    "sum([fls.tolist() in PFMPMORDM_FLS.tolist() for fls in PFMOO_FLS])"
   ]
  },
  {
   "cell_type": "code",
   "execution_count": 58,
   "metadata": {},
   "outputs": [
    {
     "name": "stdout",
     "output_type": "stream",
     "text": [
      "15 in 55 :\n",
      "27.27272727272727 %\n"
     ]
    }
   ],
   "source": [
    "# MPMORDM InversePF in MOO\n",
    "covered = sum([fls.tolist() in PFMOO_FLS.tolist() for fls in InvPFMPMORDM_FLS])\n",
    "print(covered,\"in\",PFMOO_FLS.shape[0],\":\")\n",
    "print(covered / PFMOO_FLS.shape[0] * 100,\"%\")"
   ]
  },
  {
   "cell_type": "markdown",
   "metadata": {},
   "source": [
    "### Density\n",
    "How many of the PF are in all solutions?"
   ]
  },
  {
   "cell_type": "code",
   "execution_count": 59,
   "metadata": {},
   "outputs": [
    {
     "data": {
      "text/plain": [
       "(1152, 4)"
      ]
     },
     "execution_count": 59,
     "metadata": {},
     "output_type": "execute_result"
    }
   ],
   "source": [
    "p4_FLs.shape"
   ]
  },
  {
   "cell_type": "code",
   "execution_count": 60,
   "metadata": {},
   "outputs": [
    {
     "name": "stdout",
     "output_type": "stream",
     "text": [
      "233 of the 1152 :\n",
      "20.225694444444446 %\n"
     ]
    }
   ],
   "source": [
    "# Density Inverse PF\n",
    "occurences = sum([fls.tolist() in InvPFMPMORDM_FLS.tolist() for fls in p4_FLs])\n",
    "print(occurences,\"of the\",p4_FLs.shape[0],\":\")\n",
    "print(occurences/p4_FLs.shape[0]*100,\"%\")"
   ]
  },
  {
   "cell_type": "code",
   "execution_count": 61,
   "metadata": {},
   "outputs": [
    {
     "name": "stdout",
     "output_type": "stream",
     "text": [
      "614 of the 1152 :\n",
      "53.298611111111114 %\n"
     ]
    }
   ],
   "source": [
    "# Density PF\n",
    "occurences = sum([fls.tolist() in PFMPMORDM_FLS.tolist() for fls in p4_FLs])\n",
    "occurences\n",
    "print(occurences,\"of the\",p4_FLs.shape[0],\":\")\n",
    "print(occurences/p4_FLs.shape[0]*100,\"%\")\n"
   ]
  },
  {
   "cell_type": "code",
   "execution_count": 62,
   "metadata": {},
   "outputs": [
    {
     "name": "stdout",
     "output_type": "stream",
     "text": [
      "442 of the 1152 :\n",
      "38.36805555555556 %\n"
     ]
    }
   ],
   "source": [
    "#Intermediate Solutions\n",
    "occurences = sum([fls.tolist() not in PFMPMORDM_FLS.tolist() + InvPFMPMORDM_FLS.tolist() for fls in p4_FLs])\n",
    "occurences\n",
    "print(occurences,\"of the\",p4_FLs.shape[0],\":\")\n",
    "print(occurences/p4_FLs.shape[0]*100,\"%\")\n"
   ]
  },
  {
   "cell_type": "code",
   "execution_count": 63,
   "metadata": {},
   "outputs": [
    {
     "name": "stdout",
     "output_type": "stream",
     "text": [
      "137 of the 1152 :\n",
      "11.89236111111111 %\n"
     ]
    }
   ],
   "source": [
    "#Overlap PF and IPF Solutions\n",
    "occurences = sum([fls.tolist() in PFMPMORDM_FLS.tolist() and fls.tolist() in InvPFMPMORDM_FLS.tolist() for fls in p4_FLs])\n",
    "occurences\n",
    "print(occurences,\"of the\",p4_FLs.shape[0],\":\")\n",
    "print(occurences/p4_FLs.shape[0]*100,\"%\")\n"
   ]
  },
  {
   "cell_type": "code",
   "execution_count": 64,
   "metadata": {},
   "outputs": [
    {
     "data": {
      "text/plain": [
       "(15, 4)"
      ]
     },
     "execution_count": 64,
     "metadata": {},
     "output_type": "execute_result"
    }
   ],
   "source": [
    "# Number of overlapping fls\n",
    "a = [fls.tolist() in PFMPMORDM_FLS.tolist() and fls.tolist() in InvPFMPMORDM_FLS.tolist() for fls in p4_FLs]\n",
    "\n",
    "np.unique(p4_FLs[a],axis=0).shape"
   ]
  },
  {
   "cell_type": "code",
   "execution_count": null,
   "metadata": {},
   "outputs": [],
   "source": []
  },
  {
   "cell_type": "markdown",
   "metadata": {},
   "source": [
    "## Compare Distributions"
   ]
  },
  {
   "cell_type": "code",
   "execution_count": 65,
   "metadata": {},
   "outputs": [
    {
     "data": {
      "text/plain": [
       "(55, 4)"
      ]
     },
     "execution_count": 65,
     "metadata": {},
     "output_type": "execute_result"
    }
   ],
   "source": [
    "# Results for Perfect Information\n",
    "DF_PF_MOO = DF_PF_MOO.iloc[:,:4]\n",
    "DF_PF_MOO.columns = oois\n",
    "DF_PF_MOO.shape\n"
   ]
  },
  {
   "cell_type": "code",
   "execution_count": 66,
   "metadata": {},
   "outputs": [
    {
     "data": {
      "text/plain": [
       "(1152, 4)"
      ]
     },
     "execution_count": 66,
     "metadata": {},
     "output_type": "execute_result"
    }
   ],
   "source": [
    "# Results for MPMORDM\n",
    "DF_P4_MPMORDM_results = DF_MPMORDMpols_for_real_values_results_filtered.iloc[:,:4]\n",
    "DF_P4_MPMORDM_results.columns = oois\n",
    "DF_P4_MPMORDM_results.shape"
   ]
  },
  {
   "cell_type": "code",
   "execution_count": 67,
   "metadata": {},
   "outputs": [
    {
     "data": {
      "text/plain": [
       "Index(['total_costs', 'nr_uncovered_DPs', 'total_uncovered_demand',\n",
       "       'max_travel_time'],\n",
       "      dtype='object')"
      ]
     },
     "execution_count": 67,
     "metadata": {},
     "output_type": "execute_result"
    }
   ],
   "source": [
    "DF_PF_MOO.columns"
   ]
  },
  {
   "cell_type": "code",
   "execution_count": 68,
   "metadata": {},
   "outputs": [],
   "source": [
    "OOIs = ['Total Costs', 'Nr. Uncovered Demand Points', 'Total Uncovered Demand', 'Max. Travel Time']"
   ]
  },
  {
   "cell_type": "code",
   "execution_count": 69,
   "metadata": {},
   "outputs": [
    {
     "data": {
      "text/plain": [
       "(55, 4)"
      ]
     },
     "execution_count": 69,
     "metadata": {},
     "output_type": "execute_result"
    }
   ],
   "source": [
    "DF_PF_MOO.shape"
   ]
  },
  {
   "cell_type": "code",
   "execution_count": 70,
   "metadata": {
    "scrolled": true
   },
   "outputs": [
    {
     "data": {
      "text/plain": [
       "(1152, 4)"
      ]
     },
     "execution_count": 70,
     "metadata": {},
     "output_type": "execute_result"
    }
   ],
   "source": [
    "DF_P4_MPMORDM_results.shape"
   ]
  },
  {
   "cell_type": "code",
   "execution_count": 82,
   "metadata": {},
   "outputs": [
    {
     "data": {
      "image/png": "[encoded data removed]",
      "text/plain": [
       "<Figure size 432x288 with 1 Axes>"
      ]
     },
     "metadata": {},
     "output_type": "display_data"
    },
    {
     "data": {
      "image/png": "[encoded data removed]",
      "text/plain": [
       "<Figure size 432x288 with 1 Axes>"
      ]
     },
     "metadata": {},
     "output_type": "display_data"
    },
    {
     "data": {
      "image/png": "[encoded data removed]",
      "text/plain": [
       "<Figure size 432x288 with 1 Axes>"
      ]
     },
     "metadata": {},
     "output_type": "display_data"
    },
    {
     "data": {
      "image/png": "[encoded data removed]",
      "text/plain": [
       "<Figure size 432x288 with 1 Axes>"
      ]
     },
     "metadata": {},
     "output_type": "display_data"
    }
   ],
   "source": [
    "bws = [40000,0.5,1000,2000]\n",
    "for obj, ooi, bw in zip(DF_PF_MOO.columns, OOIs, bws):\n",
    "    #     f =\n",
    "    sns.kdeplot(\n",
    "        DF_PF_MOO[obj],\n",
    "        bw=bw,\n",
    "        label=\"Perfect Information\",\n",
    "    )\n",
    "    sns.rugplot(DF_PF_MOO[obj], height=0.1)\n",
    "\n",
    "    sns.kdeplot(\n",
    "        DF_P4_MPMORDM_results[obj],\n",
    "        bw=bw,\n",
    "        label='Dynamic Uncertainty')\n",
    "    sns.rugplot(DF_P4_MPMORDM_results[obj], height=0.05, color='orange')\n",
    "\n",
    "    #     plt.title(ooi)\n",
    "    plt.xlabel(ooi)\n",
    "\n",
    "    plt.tick_params(\n",
    "        axis='y',  # changes apply to the x-axis\n",
    "        which='both',  # both major and minor ticks are affected\n",
    "        left=False,  # ticks along the bottom edge are off\n",
    "        right=False,  # ticks along the top edge are off\n",
    "        labelleft=False)  # labels along the bottom edge are off\n",
    "\n",
    "    plt.title(\"Gaussian Kernel Density Plot\")\n",
    "    plt.savefig(\"{}/Analysis/KDE{}\".format(case,obj),dpi=600)\n",
    "    plt.show()\n",
    "#     break"
   ]
  },
  {
   "cell_type": "code",
   "execution_count": null,
   "metadata": {},
   "outputs": [],
   "source": []
  }
 ],
 "metadata": {
  "kernelspec": {
   "display_name": "Python 3",
   "language": "python",
   "name": "python3"
  },
  "language_info": {
   "codemirror_mode": {
    "name": "ipython",
    "version": 3
   },
   "file_extension": ".py",
   "mimetype": "text/x-python",
   "name": "python",
   "nbconvert_exporter": "python",
   "pygments_lexer": "ipython3",
   "version": "3.6.4"
  },
  "notify_time": "5",
  "toc": {
   "nav_menu": {},
   "number_sections": true,
   "sideBar": true,
   "skip_h1_title": false,
   "title_cell": "Table of Contents",
   "title_sidebar": "Contents",
   "toc_cell": false,
   "toc_position": {},
   "toc_section_display": true,
   "toc_window_display": false
  }
 },
 "nbformat": 4,
 "nbformat_minor": 2
}
