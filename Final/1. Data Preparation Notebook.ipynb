{
 "cells": [
  {
   "cell_type": "markdown",
   "metadata": {},
   "source": [
    "## Imports"
   ]
  },
  {
   "cell_type": "code",
   "execution_count": 1,
   "metadata": {},
   "outputs": [],
   "source": [
    "import numpy as np\n",
    "import pandas as pd\n",
    "\n",
    "import requests, zipfile, io\n",
    "\n",
    "import osmnx as ox\n",
    "import geopandas as gpd\n",
    "import pandas as pd\n",
    "\n",
    "import folium\n",
    "import os\n",
    "\n",
    "# for routing table:\n",
    "import osrm\n",
    "\n",
    "import geopy\n",
    "from geopy.distance import great_circle"
   ]
  },
  {
   "cell_type": "code",
   "execution_count": 2,
   "metadata": {
    "code_folding": [
     0
    ]
   },
   "outputs": [],
   "source": [
    "# %load https://gist.github.com/TRomijn/d9d28ba7b7d5eeac1deea5a26dd326b2/raw/loaded_modules.py\n",
    "\n",
    "'''\n",
    "original author: kinverarity1\n",
    "\n",
    "List loaded modules and packages, and show their version numbers\n",
    "and/or Git repository's HEAD commit SHA.\n",
    "\n",
    "\n",
    "Changes:\n",
    "Minor changes to make compatible with Python 3\n",
    "'''\n",
    "# Standard library modules\n",
    "import types\n",
    "import os\n",
    "\n",
    "# Third-party packages\n",
    "import git      # GitPython\n",
    "\n",
    "\n",
    "def module_path(mod):\n",
    "    '''Returns path to the file that module *mod* comes from.\n",
    "    If it doesn't come from a file, return None.'''\n",
    "    if hasattr(mod, '__file__'):\n",
    "        return os.path.abspath(os.path.dirname(mod.__file__))\n",
    "    else:\n",
    "        return None\n",
    "\n",
    "    \n",
    "def from_git_repo(mod):\n",
    "    '''Does the module *mod* reside in a Git repository?'''\n",
    "    path = module_path(mod)\n",
    "    if path:\n",
    "        try:\n",
    "            repo = git.Repo(path)\n",
    "        except:\n",
    "            return False\n",
    "        else:\n",
    "            return True\n",
    "    else:\n",
    "        return False\n",
    "\n",
    "    \n",
    "def git_path_sha(mod, slice=slice(0, 8, 1)):\n",
    "    '''Return SHA hash for the HEAD commit for the repository\n",
    "    that the module *mod* resides in.'''\n",
    "    repo = git.Repo(module_path(mod))\n",
    "    return repo.git_dir, repo.head.commit.hexsha[:8]\n",
    "\n",
    "\n",
    "def module_version(mod):\n",
    "    '''Return version string for module *mod*, or nothing if\n",
    "    it doesn't have a \"version\" or \"__version__\" attribute.'''\n",
    "    version = []\n",
    "    if hasattr(mod, '__dict__'):\n",
    "        keys = []\n",
    "        for key in mod.__dict__.keys():\n",
    "            if key.lower() == 'version' or key.lower() == '__version__':\n",
    "                v = mod.__dict__[key]\n",
    "                if isinstance(v, str):\n",
    "                    version.append(v)\n",
    "        if keys:\n",
    "            print (mod, keys)\n",
    "    if version:\n",
    "        return ', '.join(version)\n",
    "    else:\n",
    "        return ''\n",
    "\n",
    "    \n",
    "def find_loaded_modules(only_versioned_modules=True):\n",
    "    '''Return list of loaded modules for which there is a version\n",
    "    number or a Git repository commit SHA.\n",
    "    \n",
    "    Return a list of *(name, version, path_to_git_repo, git_head_sha)*,\n",
    "    which has an HTML property for pretty display in IPython Notebooks.\n",
    "        \n",
    "    '''\n",
    "    def list_of_lists_to_HTML(lists, header_row=None):\n",
    "        '''Convert a list of a list of strings to a HTML table.'''\n",
    "        s = '<table>'\n",
    "        if header_row:\n",
    "            s += '\\n\\t<tr>\\n\\t\\t'\n",
    "            s += ''.join(['<th>%s</th>' % item for item in header_row])\n",
    "            s += '\\n\\t</tr>'\n",
    "        for inner_list in lists:\n",
    "            s += '\\n\\t<tr>\\n\\t\\t'\n",
    "            s += ''.join(['<td>%s</td>' % item for item in inner_list])\n",
    "            s += '\\n\\t</tr>'\n",
    "        s += '\\n</table>'\n",
    "        return s\n",
    "    \n",
    "    class LoadedModules(list):\n",
    "        '''Very simple wrapper for a list of lists of strings, with an attribute\n",
    "        for display in IPython Notebooks.'''\n",
    "        def __init__(self, *args, **kwargs):\n",
    "            list.__init__(self, *args, **kwargs)\n",
    "            \n",
    "        @property\n",
    "        def HTML(self):\n",
    "            from IPython.display import HTML\n",
    "            return HTML(\n",
    "                    list_of_lists_to_HTML(\n",
    "                            self, header_row=['Name', 'Version', 'Path', 'SHA']))\n",
    "                    \n",
    "    objs = LoadedModules()\n",
    "    for i, mod in enumerate(globals().values()):\n",
    "        if isinstance(mod, types.ModuleType):\n",
    "            if hasattr(mod, '__name__'):\n",
    "                name = mod.__name__\n",
    "            else:\n",
    "                name = ''\n",
    "            \n",
    "            if from_git_repo(mod):\n",
    "                path, sha = git_path_sha(mod)\n",
    "            else:\n",
    "                path = ''\n",
    "                sha = ''\n",
    "            \n",
    "            version = module_version(mod)\n",
    "            \n",
    "            if only_versioned_modules:\n",
    "                flag = version or (path and sha)\n",
    "            else:\n",
    "                flag = True\n",
    "            \n",
    "            if flag:\n",
    "                objs.append([mod.__name__, version, path, sha])\n",
    "    objs.sort(key=lambda r: r[0])\n",
    "    return objs\n",
    "\n",
    "\n",
    "    \n",
    "    "
   ]
  },
  {
   "cell_type": "code",
   "execution_count": 3,
   "metadata": {},
   "outputs": [
    {
     "data": {
      "text/html": [
       "<table>\n",
       "\t<tr>\n",
       "\t\t<th>Name</th><th>Version</th><th>Path</th><th>SHA</th>\n",
       "\t</tr>\n",
       "\t<tr>\n",
       "\t\t<td>folium</td><td>0.5.0</td><td></td><td></td>\n",
       "\t</tr>\n",
       "\t<tr>\n",
       "\t\t<td>geopandas</td><td>0.3.0</td><td></td><td></td>\n",
       "\t</tr>\n",
       "\t<tr>\n",
       "\t\t<td>geopy</td><td>1.13.0</td><td></td><td></td>\n",
       "\t</tr>\n",
       "\t<tr>\n",
       "\t\t<td>git</td><td>2.1.9</td><td></td><td></td>\n",
       "\t</tr>\n",
       "\t<tr>\n",
       "\t\t<td>json</td><td>2.0.9</td><td></td><td></td>\n",
       "\t</tr>\n",
       "\t<tr>\n",
       "\t\t<td>numpy</td><td>1.14.2</td><td></td><td></td>\n",
       "\t</tr>\n",
       "\t<tr>\n",
       "\t\t<td>osmnx</td><td>0.8.1</td><td></td><td></td>\n",
       "\t</tr>\n",
       "\t<tr>\n",
       "\t\t<td>osrm</td><td>0.11.1</td><td></td><td></td>\n",
       "\t</tr>\n",
       "\t<tr>\n",
       "\t\t<td>pandas</td><td>0.23.0</td><td></td><td></td>\n",
       "\t</tr>\n",
       "\t<tr>\n",
       "\t\t<td>requests</td><td>2.18.4</td><td></td><td></td>\n",
       "\t</tr>\n",
       "</table>"
      ],
      "text/plain": [
       "<IPython.core.display.HTML object>"
      ]
     },
     "execution_count": 3,
     "metadata": {},
     "output_type": "execute_result"
    }
   ],
   "source": [
    "find_loaded_modules().HTML"
   ]
  },
  {
   "cell_type": "markdown",
   "metadata": {},
   "source": [
    "# Data preparation"
   ]
  },
  {
   "cell_type": "markdown",
   "metadata": {},
   "source": [
    "## Demand Points"
   ]
  },
  {
   "cell_type": "code",
   "execution_count": 4,
   "metadata": {
    "code_folding": [
     0
    ]
   },
   "outputs": [],
   "source": [
    "def get_cities(countrycode, number_of_cities=None, dataset=\"cities5000\"):\n",
    "    \"\"\"\n",
    "    countrycode: string: ISO \"ALPHA-2 Code\"\n",
    "    number_of_cities: integer: number of cities to return, if None: return all\n",
    "    dataset: string: choose from: [\"cities1000\",\"cities5000\",\"cities15000\"]\n",
    "        chooses dataset with all world cities that have minimum that amount of inhabitants.\n",
    "        Obivously, the cities1000 dataset is larger and can take longer to download than the cities15000\n",
    "    \n",
    "    Data is downloaded from: http://download.geonames.org/export/dump/\n",
    "    This Data is licensed under a Creative Commons Attribution 3.0 License\n",
    "    \"\"\"\n",
    "\n",
    "    #     http://download.geonames.org/export/dump/\n",
    "\n",
    "    #     \"cities15000\"\n",
    "\n",
    "    r = requests.get(\n",
    "        \"http://download.geonames.org/export/dump/{}.zip\".format(dataset))\n",
    "    z = zipfile.ZipFile(io.BytesIO(r.content))\n",
    "\n",
    "    #     data_directory = \"../Facility Location Model/Raw_Data\"\n",
    "    #     z.extractall(path=data_directory)\n",
    "\n",
    "    columnnames = [\n",
    "        \"geonameid\", \"name\", \"asciiname\", \"alternatenames\", \"latitude\",\n",
    "        \"longitude\", \"feature class\", \"feature code\", \"country code\", \"cc2\",\n",
    "        \"admin1 code\", \"admin2 code\", \"admin3 code\", \"admin4 code\",\n",
    "        \"population\", \"elevation\", \"dem\", \"timezone\", \"modification date\"\n",
    "    ]\n",
    "\n",
    "    #     NP = pd.read_csv(data_directory+\"/NP.txt\", sep=\"\\t\", header=None)\n",
    "    cities = pd.read_csv(\n",
    "        z.open('{}.txt'.format(dataset)), sep=\"\\t\", names=columnnames)\n",
    "\n",
    "    inCountry = cities[cities['country code'] == countrycode]\n",
    "\n",
    "    inCountry = inCountry.dropna(subset=['population'])\n",
    "\n",
    "    inCountrySorted = inCountry.sort_values(\n",
    "        by='population', ascending=False).reset_index(drop=True)\n",
    "\n",
    "    return inCountrySorted.iloc[0:number_of_cities]"
   ]
  },
  {
   "cell_type": "code",
   "execution_count": 5,
   "metadata": {
    "scrolled": true
   },
   "outputs": [
    {
     "name": "stderr",
     "output_type": "stream",
     "text": [
      "C:\\Users\\timro\\Anaconda3\\lib\\site-packages\\IPython\\core\\interactiveshell.py:2903: DtypeWarning: Columns (13) have mixed types. Specify dtype option on import or set low_memory=False.\n",
      "  if self.run_code(code, result):\n"
     ]
    }
   ],
   "source": [
    "cities = get_cities(\"NP\", 30)"
   ]
  },
  {
   "cell_type": "code",
   "execution_count": 6,
   "metadata": {},
   "outputs": [],
   "source": [
    "DPs = cities[['name','population','latitude','longitude']]"
   ]
  },
  {
   "cell_type": "code",
   "execution_count": 7,
   "metadata": {},
   "outputs": [
    {
     "data": {
      "text/html": [
       "<div>\n",
       "<style scoped>\n",
       "    .dataframe tbody tr th:only-of-type {\n",
       "        vertical-align: middle;\n",
       "    }\n",
       "\n",
       "    .dataframe tbody tr th {\n",
       "        vertical-align: top;\n",
       "    }\n",
       "\n",
       "    .dataframe thead th {\n",
       "        text-align: right;\n",
       "    }\n",
       "</style>\n",
       "<table border=\"1\" class=\"dataframe\">\n",
       "  <thead>\n",
       "    <tr style=\"text-align: right;\">\n",
       "      <th></th>\n",
       "      <th>name</th>\n",
       "      <th>population</th>\n",
       "      <th>latitude</th>\n",
       "      <th>longitude</th>\n",
       "    </tr>\n",
       "  </thead>\n",
       "  <tbody>\n",
       "    <tr>\n",
       "      <th>25</th>\n",
       "      <td>Birendranagar</td>\n",
       "      <td>31381</td>\n",
       "      <td>28.60194</td>\n",
       "      <td>81.63389</td>\n",
       "    </tr>\n",
       "    <tr>\n",
       "      <th>26</th>\n",
       "      <td>Panauti̇̄</td>\n",
       "      <td>27602</td>\n",
       "      <td>27.58453</td>\n",
       "      <td>85.51484</td>\n",
       "    </tr>\n",
       "    <tr>\n",
       "      <th>27</th>\n",
       "      <td>Gaur</td>\n",
       "      <td>27325</td>\n",
       "      <td>26.76448</td>\n",
       "      <td>85.27841</td>\n",
       "    </tr>\n",
       "    <tr>\n",
       "      <th>28</th>\n",
       "      <td>Siraha</td>\n",
       "      <td>24657</td>\n",
       "      <td>26.65422</td>\n",
       "      <td>86.20795</td>\n",
       "    </tr>\n",
       "    <tr>\n",
       "      <th>29</th>\n",
       "      <td>Tānsen</td>\n",
       "      <td>23693</td>\n",
       "      <td>27.86731</td>\n",
       "      <td>83.54670</td>\n",
       "    </tr>\n",
       "  </tbody>\n",
       "</table>\n",
       "</div>"
      ],
      "text/plain": [
       "             name  population  latitude  longitude\n",
       "25  Birendranagar       31381  28.60194   81.63389\n",
       "26      Panauti̇̄       27602  27.58453   85.51484\n",
       "27           Gaur       27325  26.76448   85.27841\n",
       "28         Siraha       24657  26.65422   86.20795\n",
       "29         Tānsen       23693  27.86731   83.54670"
      ]
     },
     "execution_count": 7,
     "metadata": {},
     "output_type": "execute_result"
    }
   ],
   "source": [
    "DPs.tail()"
   ]
  },
  {
   "cell_type": "markdown",
   "metadata": {},
   "source": [
    "### Add remote valleys\n",
    "\n",
    "These remote valleys are not necessarily actually remote valleys. The 5 smallest cities are selected from the database, then  those are called \"remote valleys\"\n",
    "\n",
    "For those smallest cities, there is no population information available. Therefore, they their population value is set on 1.000. Compared to the smallest normal city: it has a population of 23.693"
   ]
  },
  {
   "cell_type": "code",
   "execution_count": 8,
   "metadata": {
    "scrolled": true
   },
   "outputs": [
    {
     "name": "stderr",
     "output_type": "stream",
     "text": [
      "C:\\Users\\timro\\Anaconda3\\lib\\site-packages\\IPython\\core\\interactiveshell.py:2903: DtypeWarning: Columns (13) have mixed types. Specify dtype option on import or set low_memory=False.\n",
      "  if self.run_code(code, result):\n"
     ]
    }
   ],
   "source": [
    "all_cities = get_cities(\"NP\", dataset=\"cities1000\")"
   ]
  },
  {
   "cell_type": "code",
   "execution_count": 9,
   "metadata": {},
   "outputs": [],
   "source": [
    "# Cities are sorted on population\n",
    "valleys = all_cities.tail(5)"
   ]
  },
  {
   "cell_type": "code",
   "execution_count": 10,
   "metadata": {},
   "outputs": [
    {
     "name": "stderr",
     "output_type": "stream",
     "text": [
      "C:\\Users\\timro\\Anaconda3\\lib\\site-packages\\ipykernel_launcher.py:1: SettingWithCopyWarning: \n",
      "A value is trying to be set on a copy of a slice from a DataFrame.\n",
      "Try using .loc[row_indexer,col_indexer] = value instead\n",
      "\n",
      "See the caveats in the documentation: http://pandas.pydata.org/pandas-docs/stable/indexing.html#indexing-view-versus-copy\n",
      "  \"\"\"Entry point for launching an IPython kernel.\n"
     ]
    }
   ],
   "source": [
    "valleys['population'] = 1000"
   ]
  },
  {
   "cell_type": "code",
   "execution_count": 11,
   "metadata": {},
   "outputs": [],
   "source": [
    "DPs = DPs.append(valleys[['name','population','latitude','longitude']])"
   ]
  },
  {
   "cell_type": "code",
   "execution_count": 13,
   "metadata": {},
   "outputs": [
    {
     "data": {
      "text/html": [
       "<div>\n",
       "<style scoped>\n",
       "    .dataframe tbody tr th:only-of-type {\n",
       "        vertical-align: middle;\n",
       "    }\n",
       "\n",
       "    .dataframe tbody tr th {\n",
       "        vertical-align: top;\n",
       "    }\n",
       "\n",
       "    .dataframe thead th {\n",
       "        text-align: right;\n",
       "    }\n",
       "</style>\n",
       "<table border=\"1\" class=\"dataframe\">\n",
       "  <thead>\n",
       "    <tr style=\"text-align: right;\">\n",
       "      <th></th>\n",
       "      <th>name</th>\n",
       "      <th>population</th>\n",
       "      <th>latitude</th>\n",
       "      <th>longitude</th>\n",
       "    </tr>\n",
       "  </thead>\n",
       "  <tbody>\n",
       "    <tr>\n",
       "      <th>29</th>\n",
       "      <td>Tānsen</td>\n",
       "      <td>23693</td>\n",
       "      <td>27.86731</td>\n",
       "      <td>83.54670</td>\n",
       "    </tr>\n",
       "    <tr>\n",
       "      <th>60</th>\n",
       "      <td>Bardiyā</td>\n",
       "      <td>1000</td>\n",
       "      <td>28.30058</td>\n",
       "      <td>81.35360</td>\n",
       "    </tr>\n",
       "    <tr>\n",
       "      <th>61</th>\n",
       "      <td>Rāmechhāp</td>\n",
       "      <td>1000</td>\n",
       "      <td>27.32560</td>\n",
       "      <td>86.08768</td>\n",
       "    </tr>\n",
       "    <tr>\n",
       "      <th>62</th>\n",
       "      <td>Salyān</td>\n",
       "      <td>1000</td>\n",
       "      <td>28.37858</td>\n",
       "      <td>82.17030</td>\n",
       "    </tr>\n",
       "    <tr>\n",
       "      <th>63</th>\n",
       "      <td>Bhaktapur</td>\n",
       "      <td>1000</td>\n",
       "      <td>27.67298</td>\n",
       "      <td>85.43005</td>\n",
       "    </tr>\n",
       "    <tr>\n",
       "      <th>64</th>\n",
       "      <td>Achhām</td>\n",
       "      <td>1000</td>\n",
       "      <td>29.05000</td>\n",
       "      <td>81.30000</td>\n",
       "    </tr>\n",
       "  </tbody>\n",
       "</table>\n",
       "</div>"
      ],
      "text/plain": [
       "         name  population  latitude  longitude\n",
       "29     Tānsen       23693  27.86731   83.54670\n",
       "60    Bardiyā        1000  28.30058   81.35360\n",
       "61  Rāmechhāp        1000  27.32560   86.08768\n",
       "62     Salyān        1000  28.37858   82.17030\n",
       "63  Bhaktapur        1000  27.67298   85.43005\n",
       "64     Achhām        1000  29.05000   81.30000"
      ]
     },
     "execution_count": 13,
     "metadata": {},
     "output_type": "execute_result"
    }
   ],
   "source": [
    "DPs.tail(6)"
   ]
  },
  {
   "cell_type": "code",
   "execution_count": null,
   "metadata": {},
   "outputs": [],
   "source": [
    "# DPs.reset_index"
   ]
  },
  {
   "cell_type": "markdown",
   "metadata": {},
   "source": [
    "## Facility Locations"
   ]
  },
  {
   "cell_type": "markdown",
   "metadata": {},
   "source": [
    "\n",
    "Select specific places of interest as optional FLs"
   ]
  },
  {
   "cell_type": "code",
   "execution_count": 13,
   "metadata": {
    "code_folding": [
     0
    ],
    "scrolled": true
   },
   "outputs": [],
   "source": [
    "# # if place has multiple parts, select mainland\n",
    "# gdf = ox.gdf_from_place('The Netherlands')\n",
    "# geom = gdf['geometry'].iloc[0]\n",
    "# geom_proj, crs = ox.project_geometry(geom)\n",
    "# area = geom_proj.envelope.area / 1e6\n",
    "\n",
    "# print('{:,.0f} sq km'.format(area))\n",
    "# # gdf.plot()\n",
    "\n",
    "# mainland = max(geom, key=lambda x: x.area)\n",
    "# # or manually check shapes and select\n",
    "# mainland = geom[2]\n",
    "# pois = ox.pois_from_polygon(mainland, amenities=['hospital'])"
   ]
  },
  {
   "cell_type": "code",
   "execution_count": null,
   "metadata": {},
   "outputs": [],
   "source": []
  },
  {
   "cell_type": "code",
   "execution_count": null,
   "metadata": {},
   "outputs": [],
   "source": []
  },
  {
   "cell_type": "code",
   "execution_count": 14,
   "metadata": {},
   "outputs": [],
   "source": [
    "POIs = ox.pois_from_place(place='Nepal', amenities=['hospital'])"
   ]
  },
  {
   "cell_type": "code",
   "execution_count": 15,
   "metadata": {},
   "outputs": [
    {
     "data": {
      "text/plain": [
       "hospital         804\n",
       "pharmacy           2\n",
       "health_post        1\n",
       "atm                1\n",
       "parking_space      1\n",
       "Name: amenity, dtype: int64"
      ]
     },
     "execution_count": 15,
     "metadata": {},
     "output_type": "execute_result"
    }
   ],
   "source": [
    "POIs.amenity.value_counts()"
   ]
  },
  {
   "cell_type": "code",
   "execution_count": 16,
   "metadata": {},
   "outputs": [
    {
     "data": {
      "text/plain": [
       "<matplotlib.axes._subplots.AxesSubplot at 0x1c0d9338198>"
      ]
     },
     "execution_count": 16,
     "metadata": {},
     "output_type": "execute_result"
    },
    {
     "data": {
      "image/png": "[encoded data removed]",
      "text/plain": [
       "<Figure size 432x288 with 1 Axes>"
      ]
     },
     "metadata": {},
     "output_type": "display_data"
    }
   ],
   "source": [
    "POIs.plot()"
   ]
  },
  {
   "cell_type": "code",
   "execution_count": 17,
   "metadata": {
    "scrolled": false
   },
   "outputs": [],
   "source": [
    "hospitals = POIs [POIs.amenity =='hospital']"
   ]
  },
  {
   "cell_type": "code",
   "execution_count": 18,
   "metadata": {},
   "outputs": [],
   "source": [
    "hospitals = hospitals[hospitals.element_type == 'node']"
   ]
  },
  {
   "cell_type": "code",
   "execution_count": 31,
   "metadata": {},
   "outputs": [],
   "source": [
    "hospital_coordinates = pd.DataFrame([point.coords[0] for point in pd.Series(hospitals.geometry)],columns=[\"longitude\",\"latitude\"])"
   ]
  },
  {
   "cell_type": "code",
   "execution_count": 32,
   "metadata": {},
   "outputs": [
    {
     "data": {
      "text/html": [
       "<div>\n",
       "<style scoped>\n",
       "    .dataframe tbody tr th:only-of-type {\n",
       "        vertical-align: middle;\n",
       "    }\n",
       "\n",
       "    .dataframe tbody tr th {\n",
       "        vertical-align: top;\n",
       "    }\n",
       "\n",
       "    .dataframe thead th {\n",
       "        text-align: right;\n",
       "    }\n",
       "</style>\n",
       "<table border=\"1\" class=\"dataframe\">\n",
       "  <thead>\n",
       "    <tr style=\"text-align: right;\">\n",
       "      <th></th>\n",
       "      <th>longitude</th>\n",
       "      <th>latitude</th>\n",
       "    </tr>\n",
       "  </thead>\n",
       "  <tbody>\n",
       "    <tr>\n",
       "      <th>439</th>\n",
       "      <td>85.337725</td>\n",
       "      <td>27.693764</td>\n",
       "    </tr>\n",
       "    <tr>\n",
       "      <th>440</th>\n",
       "      <td>86.543250</td>\n",
       "      <td>27.300689</td>\n",
       "    </tr>\n",
       "    <tr>\n",
       "      <th>441</th>\n",
       "      <td>81.573140</td>\n",
       "      <td>28.129546</td>\n",
       "    </tr>\n",
       "    <tr>\n",
       "      <th>442</th>\n",
       "      <td>87.269115</td>\n",
       "      <td>26.809723</td>\n",
       "    </tr>\n",
       "    <tr>\n",
       "      <th>443</th>\n",
       "      <td>87.284345</td>\n",
       "      <td>26.810492</td>\n",
       "    </tr>\n",
       "  </tbody>\n",
       "</table>\n",
       "</div>"
      ],
      "text/plain": [
       "     longitude   latitude\n",
       "439  85.337725  27.693764\n",
       "440  86.543250  27.300689\n",
       "441  81.573140  28.129546\n",
       "442  87.269115  26.809723\n",
       "443  87.284345  26.810492"
      ]
     },
     "execution_count": 32,
     "metadata": {},
     "output_type": "execute_result"
    }
   ],
   "source": [
    "hospital_coordinates.tail()"
   ]
  },
  {
   "cell_type": "code",
   "execution_count": 24,
   "metadata": {},
   "outputs": [],
   "source": [
    "# Random sample\n",
    "# hospital_coordinates = hospital_coordinates.sample(30).reset_index(drop=True)"
   ]
  },
  {
   "cell_type": "code",
   "execution_count": 25,
   "metadata": {},
   "outputs": [],
   "source": [
    "# \n",
    "# hospital_coordinates.to_csv(\"Data/Nepal_Prepared_Data/sample_hospitals.csv\", index=False)"
   ]
  },
  {
   "cell_type": "code",
   "execution_count": 28,
   "metadata": {},
   "outputs": [],
   "source": [
    "hospital_coordinates = pd.read_csv(\"Nepal/Prepared Input Data/sample_hospitals.csv\")"
   ]
  },
  {
   "cell_type": "code",
   "execution_count": 29,
   "metadata": {},
   "outputs": [
    {
     "data": {
      "text/html": [
       "<div>\n",
       "<style scoped>\n",
       "    .dataframe tbody tr th:only-of-type {\n",
       "        vertical-align: middle;\n",
       "    }\n",
       "\n",
       "    .dataframe tbody tr th {\n",
       "        vertical-align: top;\n",
       "    }\n",
       "\n",
       "    .dataframe thead th {\n",
       "        text-align: right;\n",
       "    }\n",
       "</style>\n",
       "<table border=\"1\" class=\"dataframe\">\n",
       "  <thead>\n",
       "    <tr style=\"text-align: right;\">\n",
       "      <th></th>\n",
       "      <th>Name</th>\n",
       "      <th>Lat</th>\n",
       "      <th>Lon</th>\n",
       "    </tr>\n",
       "  </thead>\n",
       "  <tbody>\n",
       "    <tr>\n",
       "      <th>15</th>\n",
       "      <td>FLO15</td>\n",
       "      <td>27.994658</td>\n",
       "      <td>84.628128</td>\n",
       "    </tr>\n",
       "    <tr>\n",
       "      <th>16</th>\n",
       "      <td>FLO16</td>\n",
       "      <td>27.674426</td>\n",
       "      <td>85.403768</td>\n",
       "    </tr>\n",
       "    <tr>\n",
       "      <th>17</th>\n",
       "      <td>FLO17</td>\n",
       "      <td>27.711016</td>\n",
       "      <td>85.314744</td>\n",
       "    </tr>\n",
       "    <tr>\n",
       "      <th>18</th>\n",
       "      <td>FLO18</td>\n",
       "      <td>28.185470</td>\n",
       "      <td>83.178350</td>\n",
       "    </tr>\n",
       "    <tr>\n",
       "      <th>19</th>\n",
       "      <td>FLO19</td>\n",
       "      <td>28.753672</td>\n",
       "      <td>81.688045</td>\n",
       "    </tr>\n",
       "  </tbody>\n",
       "</table>\n",
       "</div>"
      ],
      "text/plain": [
       "     Name        Lat        Lon\n",
       "15  FLO15  27.994658  84.628128\n",
       "16  FLO16  27.674426  85.403768\n",
       "17  FLO17  27.711016  85.314744\n",
       "18  FLO18  28.185470  83.178350\n",
       "19  FLO19  28.753672  81.688045"
      ]
     },
     "execution_count": 29,
     "metadata": {},
     "output_type": "execute_result"
    }
   ],
   "source": [
    "FLs = hospital_coordinates\n",
    "FLs['Name'] = ['FLO{}'.format(i) for i in range(FLs.shape[0])]\n",
    "\n",
    "FLs.columns = [\"Lon\",\"Lat\", 'Name']\n",
    "FLs = FLs[['Name', 'Lat', 'Lon']]\n",
    "\n",
    "FLs.tail()"
   ]
  },
  {
   "cell_type": "markdown",
   "metadata": {},
   "source": [
    "## Supply points"
   ]
  },
  {
   "cell_type": "code",
   "execution_count": 33,
   "metadata": {
    "scrolled": true
   },
   "outputs": [],
   "source": [
    "url=\"http://ourairports.com/data/airports.csv\"\n",
    "s=requests.get(url).content\n",
    "airports=pd.read_csv(io.StringIO(s.decode('utf-8')))"
   ]
  },
  {
   "cell_type": "code",
   "execution_count": 34,
   "metadata": {},
   "outputs": [
    {
     "data": {
      "text/plain": [
       "Index(['id', 'ident', 'type', 'name', 'latitude_deg', 'longitude_deg',\n",
       "       'elevation_ft', 'continent', 'iso_country', 'iso_region',\n",
       "       'municipality', 'scheduled_service', 'gps_code', 'iata_code',\n",
       "       'local_code', 'home_link', 'wikipedia_link', 'keywords'],\n",
       "      dtype='object')"
      ]
     },
     "execution_count": 34,
     "metadata": {},
     "output_type": "execute_result"
    }
   ],
   "source": [
    "airports.columns"
   ]
  },
  {
   "cell_type": "code",
   "execution_count": 35,
   "metadata": {},
   "outputs": [],
   "source": [
    "# Select all airports in country\n",
    "airports = airports[airports.iso_country == \"NP\"]"
   ]
  },
  {
   "cell_type": "code",
   "execution_count": 36,
   "metadata": {},
   "outputs": [],
   "source": [
    "# Select airports that are available in country\n",
    "int_airports = airports[airports.name == \"Tribhuvan International Airport\"]"
   ]
  },
  {
   "cell_type": "code",
   "execution_count": 37,
   "metadata": {},
   "outputs": [],
   "source": [
    "SPs = int_airports[[\"name\", \"latitude_deg\", \"longitude_deg\"]]"
   ]
  },
  {
   "cell_type": "code",
   "execution_count": 38,
   "metadata": {},
   "outputs": [
    {
     "data": {
      "text/html": [
       "<div>\n",
       "<style scoped>\n",
       "    .dataframe tbody tr th:only-of-type {\n",
       "        vertical-align: middle;\n",
       "    }\n",
       "\n",
       "    .dataframe tbody tr th {\n",
       "        vertical-align: top;\n",
       "    }\n",
       "\n",
       "    .dataframe thead th {\n",
       "        text-align: right;\n",
       "    }\n",
       "</style>\n",
       "<table border=\"1\" class=\"dataframe\">\n",
       "  <thead>\n",
       "    <tr style=\"text-align: right;\">\n",
       "      <th></th>\n",
       "      <th>name</th>\n",
       "      <th>latitude_deg</th>\n",
       "      <th>longitude_deg</th>\n",
       "    </tr>\n",
       "  </thead>\n",
       "  <tbody>\n",
       "    <tr>\n",
       "      <th>50588</th>\n",
       "      <td>Tribhuvan International Airport</td>\n",
       "      <td>27.6966</td>\n",
       "      <td>85.3591</td>\n",
       "    </tr>\n",
       "  </tbody>\n",
       "</table>\n",
       "</div>"
      ],
      "text/plain": [
       "                                  name  latitude_deg  longitude_deg\n",
       "50588  Tribhuvan International Airport       27.6966        85.3591"
      ]
     },
     "execution_count": 38,
     "metadata": {},
     "output_type": "execute_result"
    }
   ],
   "source": [
    "SPs"
   ]
  },
  {
   "cell_type": "markdown",
   "metadata": {},
   "source": [
    "## Visualisation of nodes"
   ]
  },
  {
   "cell_type": "code",
   "execution_count": 42,
   "metadata": {},
   "outputs": [
    {
     "data": {
      "text/html": [
       "<div style=\"width:100%;\"><div style=\"position:relative;width:100%;height:0;padding-bottom:60%;\"><iframe src=\"data:text/html;charset=utf-8;base64,PCFET0NUWVBFIGh0bWw+CjxoZWFkPiAgICAKICAgIDxtZXRhIGh0dHAtZXF1aXY9ImNvbnRlbnQtdHlwZSIgY29udGVudD0idGV4dC9odG1sOyBjaGFyc2V0PVVURi04IiAvPgogICAgPHNjcmlwdD5MX1BSRUZFUl9DQU5WQVMgPSBmYWxzZTsgTF9OT19UT1VDSCA9IGZhbHNlOyBMX0RJU0FCTEVfM0QgPSBmYWxzZTs8L3NjcmlwdD4KICAgIDxzY3JpcHQgc3JjPSJodHRwczovL2Nkbi5qc2RlbGl2ci5uZXQvbnBtL2xlYWZsZXRAMS4yLjAvZGlzdC9sZWFmbGV0LmpzIj48L3NjcmlwdD4KICAgIDxzY3JpcHQgc3JjPSJodHRwczovL2FqYXguZ29vZ2xlYXBpcy5jb20vYWpheC9saWJzL2pxdWVyeS8xLjExLjEvanF1ZXJ5Lm1pbi5qcyI+PC9zY3JpcHQ+CiAgICA8c2NyaXB0IHNyYz0iaHR0cHM6Ly9tYXhjZG4uYm9vdHN0cmFwY2RuLmNvbS9ib290c3RyYXAvMy4yLjAvanMvYm9vdHN0cmFwLm1pbi5qcyI+PC9zY3JpcHQ+CiAgICA8c2NyaXB0IHNyYz0iaHR0cHM6Ly9jZG5qcy5jbG91ZGZsYXJlLmNvbS9hamF4L2xpYnMvTGVhZmxldC5hd2Vzb21lLW1hcmtlcnMvMi4wLjIvbGVhZmxldC5hd2Vzb21lLW1hcmtlcnMuanMiPjwvc2NyaXB0PgogICAgPGxpbmsgcmVsPSJzdHlsZXNoZWV0IiBocmVmPSJodHRwczovL2Nkbi5qc2RlbGl2ci5uZXQvbnBtL2xlYWZsZXRAMS4yLjAvZGlzdC9sZWFmbGV0LmNzcyIgLz4KICAgIDxsaW5rIHJlbD0ic3R5bGVzaGVldCIgaHJlZj0iaHR0cHM6Ly9tYXhjZG4uYm9vdHN0cmFwY2RuLmNvbS9ib290c3RyYXAvMy4yLjAvY3NzL2Jvb3RzdHJhcC5taW4uY3NzIiAvPgogICAgPGxpbmsgcmVsPSJzdHlsZXNoZWV0IiBocmVmPSJodHRwczovL21heGNkbi5ib290c3RyYXBjZG4uY29tL2Jvb3RzdHJhcC8zLjIuMC9jc3MvYm9vdHN0cmFwLXRoZW1lLm1pbi5jc3MiIC8+CiAgICA8bGluayByZWw9InN0eWxlc2hlZXQiIGhyZWY9Imh0dHBzOi8vbWF4Y2RuLmJvb3RzdHJhcGNkbi5jb20vZm9udC1hd2Vzb21lLzQuNi4zL2Nzcy9mb250LWF3ZXNvbWUubWluLmNzcyIgLz4KICAgIDxsaW5rIHJlbD0ic3R5bGVzaGVldCIgaHJlZj0iaHR0cHM6Ly9jZG5qcy5jbG91ZGZsYXJlLmNvbS9hamF4L2xpYnMvTGVhZmxldC5hd2Vzb21lLW1hcmtlcnMvMi4wLjIvbGVhZmxldC5hd2Vzb21lLW1hcmtlcnMuY3NzIiAvPgogICAgPGxpbmsgcmVsPSJzdHlsZXNoZWV0IiBocmVmPSJodHRwczovL3Jhd2dpdC5jb20vcHl0aG9uLXZpc3VhbGl6YXRpb24vZm9saXVtL21hc3Rlci9mb2xpdW0vdGVtcGxhdGVzL2xlYWZsZXQuYXdlc29tZS5yb3RhdGUuY3NzIiAvPgogICAgPHN0eWxlPmh0bWwsIGJvZHkge3dpZHRoOiAxMDAlO2hlaWdodDogMTAwJTttYXJnaW46IDA7cGFkZGluZzogMDt9PC9zdHlsZT4KICAgIDxzdHlsZT4jbWFwIHtwb3NpdGlvbjphYnNvbHV0ZTt0b3A6MDtib3R0b206MDtyaWdodDowO2xlZnQ6MDt9PC9zdHlsZT4KICAgIAogICAgICAgICAgICA8c3R5bGU+ICNtYXBfMWVkYzBhOTEyYzIxNDBiYWEzZjgyZjYzNTM2NWJiNjUgewogICAgICAgICAgICAgICAgcG9zaXRpb24gOiByZWxhdGl2ZTsKICAgICAgICAgICAgICAgIHdpZHRoIDogMTAwLjAlOwogICAgICAgICAgICAgICAgaGVpZ2h0OiAxMDAuMCU7CiAgICAgICAgICAgICAgICBsZWZ0OiAwLjAlOwogICAgICAgICAgICAgICAgdG9wOiAwLjAlOwogICAgICAgICAgICAgICAgfQogICAgICAgICAgICA8L3N0eWxlPgogICAgICAgIAo8L2hlYWQ+Cjxib2R5PiAgICAKICAgIAogICAgICAgICAgICA8ZGl2IGNsYXNzPSJmb2xpdW0tbWFwIiBpZD0ibWFwXzFlZGMwYTkxMmMyMTQwYmFhM2Y4MmY2MzUzNjViYjY1IiA+PC9kaXY+CiAgICAgICAgCjwvYm9keT4KPHNjcmlwdD4gICAgCiAgICAKCiAgICAgICAgICAgIAogICAgICAgICAgICAgICAgdmFyIGJvdW5kcyA9IG51bGw7CiAgICAgICAgICAgIAoKICAgICAgICAgICAgdmFyIG1hcF8xZWRjMGE5MTJjMjE0MGJhYTNmODJmNjM1MzY1YmI2NSA9IEwubWFwKAogICAgICAgICAgICAgICAgICAgICAgICAgICAgICAgICAgJ21hcF8xZWRjMGE5MTJjMjE0MGJhYTNmODJmNjM1MzY1YmI2NScsCiAgICAgICAgICAgICAgICAgICAgICAgICAgICAgICAgICB7Y2VudGVyOiBbMjguMyw4NC4xMl0sCiAgICAgICAgICAgICAgICAgICAgICAgICAgICAgICAgICB6b29tOiA2LAogICAgICAgICAgICAgICAgICAgICAgICAgICAgICAgICAgbWF4Qm91bmRzOiBib3VuZHMsCiAgICAgICAgICAgICAgICAgICAgICAgICAgICAgICAgICBsYXllcnM6IFtdLAogICAgICAgICAgICAgICAgICAgICAgICAgICAgICAgICAgd29ybGRDb3B5SnVtcDogZmFsc2UsCiAgICAgICAgICAgICAgICAgICAgICAgICAgICAgICAgICBjcnM6IEwuQ1JTLkVQU0czODU3CiAgICAgICAgICAgICAgICAgICAgICAgICAgICAgICAgIH0pOwogICAgICAgICAgICAKICAgICAgICAKICAgIAogICAgICAgICAgICB2YXIgdGlsZV9sYXllcl83NGU2YmZiYzExNGE0M2YxODJmMzYxMjI5OTZiMDIzMCA9IEwudGlsZUxheWVyKAogICAgICAgICAgICAgICAgJ2h0dHBzOi8vY2FydG9kYi1iYXNlbWFwcy17c30uZ2xvYmFsLnNzbC5mYXN0bHkubmV0L2xpZ2h0X2FsbC97en0ve3h9L3t5fS5wbmcnLAogICAgICAgICAgICAgICAgewogICJhdHRyaWJ1dGlvbiI6IG51bGwsCiAgImRldGVjdFJldGluYSI6IGZhbHNlLAogICJtYXhab29tIjogMTgsCiAgIm1pblpvb20iOiAxLAogICJub1dyYXAiOiBmYWxzZSwKICAic3ViZG9tYWlucyI6ICJhYmMiCn0KICAgICAgICAgICAgICAgICkuYWRkVG8obWFwXzFlZGMwYTkxMmMyMTQwYmFhM2Y4MmY2MzUzNjViYjY1KTsKICAgICAgICAKICAgIAogICAgICAgICAgICB2YXIgY2lyY2xlX21hcmtlcl81NjI3NzUwMDlmODk0MGNkYjhkZGY2N2MyNTNjNTE5MyA9IEwuY2lyY2xlTWFya2VyKAogICAgICAgICAgICAgICAgWzI3LjcwMTY5MDAwMDAwMDAwMyw4NS4zMjA2XSwKICAgICAgICAgICAgICAgIHsKICAiYnViYmxpbmdNb3VzZUV2ZW50cyI6IHRydWUsCiAgImNvbG9yIjogInJlZCIsCiAgImRhc2hBcnJheSI6IG51bGwsCiAgImRhc2hPZmZzZXQiOiBudWxsLAogICJmaWxsIjogZmFsc2UsCiAgImZpbGxDb2xvciI6ICJyZWQiLAogICJmaWxsT3BhY2l0eSI6IDAuMiwKICAiZmlsbFJ1bGUiOiAiZXZlbm9kZCIsCiAgImxpbmVDYXAiOiAicm91bmQiLAogICJsaW5lSm9pbiI6ICJyb3VuZCIsCiAgIm9wYWNpdHkiOiAxLjAsCiAgInJhZGl1cyI6IDEsCiAgInN0cm9rZSI6IHRydWUsCiAgIndlaWdodCI6IDMKfQogICAgICAgICAgICAgICAgKS5hZGRUbyhtYXBfMWVkYzBhOTEyYzIxNDBiYWEzZjgyZjYzNTM2NWJiNjUpOwogICAgICAgICAgICAKICAgIAogICAgICAgICAgICB2YXIgcG9wdXBfN2RlZWM0ODU3Yjg0NDI0NzgxN2VjNGYzZmNkNDcyYTUgPSBMLnBvcHVwKHttYXhXaWR0aDogJzMwMCd9KTsKCiAgICAgICAgICAgIAogICAgICAgICAgICAgICAgdmFyIGh0bWxfMjE2N2VlMjdmMWE2NDBiYWI1Y2M2MzE0MTBmNjlkOGEgPSAkKCc8ZGl2IGlkPSJodG1sXzIxNjdlZTI3ZjFhNjQwYmFiNWNjNjMxNDEwZjY5ZDhhIiBzdHlsZT0id2lkdGg6IDEwMC4wJTsgaGVpZ2h0OiAxMDAuMCU7Ij5EUDA6S2F0aG1hbmR1PC9kaXY+JylbMF07CiAgICAgICAgICAgICAgICBwb3B1cF83ZGVlYzQ4NTdiODQ0MjQ3ODE3ZWM0ZjNmY2Q0NzJhNS5zZXRDb250ZW50KGh0bWxfMjE2N2VlMjdmMWE2NDBiYWI1Y2M2MzE0MTBmNjlkOGEpOwogICAgICAgICAgICAKCiAgICAgICAgICAgIGNpcmNsZV9tYXJrZXJfNTYyNzc1MDA5Zjg5NDBjZGI4ZGRmNjdjMjUzYzUxOTMuYmluZFBvcHVwKHBvcHVwXzdkZWVjNDg1N2I4NDQyNDc4MTdlYzRmM2ZjZDQ3MmE1KTsKCiAgICAgICAgICAgIAogICAgICAgIAogICAgCiAgICAgICAgICAgIHZhciBjaXJjbGVfbWFya2VyXzQ4ZDNjMzQ1N2MxZTQzODZhZjI3NTA2MTRiZTRkNzVjID0gTC5jaXJjbGVNYXJrZXIoCiAgICAgICAgICAgICAgICBbMjguMjY2ODkwMDAwMDAwMDA0LDgzLjk2ODUxXSwKICAgICAgICAgICAgICAgIHsKICAiYnViYmxpbmdNb3VzZUV2ZW50cyI6IHRydWUsCiAgImNvbG9yIjogInJlZCIsCiAgImRhc2hBcnJheSI6IG51bGwsCiAgImRhc2hPZmZzZXQiOiBudWxsLAogICJmaWxsIjogZmFsc2UsCiAgImZpbGxDb2xvciI6ICJyZWQiLAogICJmaWxsT3BhY2l0eSI6IDAuMiwKICAiZmlsbFJ1bGUiOiAiZXZlbm9kZCIsCiAgImxpbmVDYXAiOiAicm91bmQiLAogICJsaW5lSm9pbiI6ICJyb3VuZCIsCiAgIm9wYWNpdHkiOiAxLjAsCiAgInJhZGl1cyI6IDEsCiAgInN0cm9rZSI6IHRydWUsCiAgIndlaWdodCI6IDMKfQogICAgICAgICAgICAgICAgKS5hZGRUbyhtYXBfMWVkYzBhOTEyYzIxNDBiYWEzZjgyZjYzNTM2NWJiNjUpOwogICAgICAgICAgICAKICAgIAogICAgICAgICAgICB2YXIgcG9wdXBfNGRiNDVmODhmMWZjNGYzMzhjNTJjYzU3MWNkNTVmYzIgPSBMLnBvcHVwKHttYXhXaWR0aDogJzMwMCd9KTsKCiAgICAgICAgICAgIAogICAgICAgICAgICAgICAgdmFyIGh0bWxfMTljNmVlNzc2MTVhNDlmNzhmNzNkODE5YTkyMTBiNzkgPSAkKCc8ZGl2IGlkPSJodG1sXzE5YzZlZTc3NjE1YTQ5Zjc4ZjczZDgxOWE5MjEwYjc5IiBzdHlsZT0id2lkdGg6IDEwMC4wJTsgaGVpZ2h0OiAxMDAuMCU7Ij5EUDE6UG9raGFyYTwvZGl2PicpWzBdOwogICAgICAgICAgICAgICAgcG9wdXBfNGRiNDVmODhmMWZjNGYzMzhjNTJjYzU3MWNkNTVmYzIuc2V0Q29udGVudChodG1sXzE5YzZlZTc3NjE1YTQ5Zjc4ZjczZDgxOWE5MjEwYjc5KTsKICAgICAgICAgICAgCgogICAgICAgICAgICBjaXJjbGVfbWFya2VyXzQ4ZDNjMzQ1N2MxZTQzODZhZjI3NTA2MTRiZTRkNzVjLmJpbmRQb3B1cChwb3B1cF80ZGI0NWY4OGYxZmM0ZjMzOGM1MmNjNTcxY2Q1NWZjMik7CgogICAgICAgICAgICAKICAgICAgICAKICAgIAogICAgICAgICAgICB2YXIgY2lyY2xlX21hcmtlcl80Y2FhMTA0ZDMyNDQ0Mjc5YmY4MzdkMjUzMzA5OTUxYyA9IEwuY2lyY2xlTWFya2VyKAogICAgICAgICAgICAgICAgWzI3LjY3NjU3OTk5OTk5OTk5OCw4NS4zMTQxNjk5OTk5OTk5OV0sCiAgICAgICAgICAgICAgICB7CiAgImJ1YmJsaW5nTW91c2VFdmVudHMiOiB0cnVlLAogICJjb2xvciI6ICJyZWQiLAogICJkYXNoQXJyYXkiOiBudWxsLAogICJkYXNoT2Zmc2V0IjogbnVsbCwKICAiZmlsbCI6IGZhbHNlLAogICJmaWxsQ29sb3IiOiAicmVkIiwKICAiZmlsbE9wYWNpdHkiOiAwLjIsCiAgImZpbGxSdWxlIjogImV2ZW5vZGQiLAogICJsaW5lQ2FwIjogInJvdW5kIiwKICAibGluZUpvaW4iOiAicm91bmQiLAogICJvcGFjaXR5IjogMS4wLAogICJyYWRpdXMiOiAxLAogICJzdHJva2UiOiB0cnVlLAogICJ3ZWlnaHQiOiAzCn0KICAgICAgICAgICAgICAgICkuYWRkVG8obWFwXzFlZGMwYTkxMmMyMTQwYmFhM2Y4MmY2MzUzNjViYjY1KTsKICAgICAgICAgICAgCiAgICAKICAgICAgICAgICAgdmFyIHBvcHVwXzNhZGE4NGY4YjU4ZDQ3Njg5MjNlMjc4MGY1ZTJkZWRkID0gTC5wb3B1cCh7bWF4V2lkdGg6ICczMDAnfSk7CgogICAgICAgICAgICAKICAgICAgICAgICAgICAgIHZhciBodG1sX2ZkY2Q0ODc4MzM5ZDQ5ZjQ5MDMxZGM0ODY3ZTY2ZmJhID0gJCgnPGRpdiBpZD0iaHRtbF9mZGNkNDg3ODMzOWQ0OWY0OTAzMWRjNDg2N2U2NmZiYSIgc3R5bGU9IndpZHRoOiAxMDAuMCU7IGhlaWdodDogMTAwLjAlOyI+RFAyOlDEgXRhbjwvZGl2PicpWzBdOwogICAgICAgICAgICAgICAgcG9wdXBfM2FkYTg0ZjhiNThkNDc2ODkyM2UyNzgwZjVlMmRlZGQuc2V0Q29udGVudChodG1sX2ZkY2Q0ODc4MzM5ZDQ5ZjQ5MDMxZGM0ODY3ZTY2ZmJhKTsKICAgICAgICAgICAgCgogICAgICAgICAgICBjaXJjbGVfbWFya2VyXzRjYWExMDRkMzI0NDQyNzliZjgzN2QyNTMzMDk5NTFjLmJpbmRQb3B1cChwb3B1cF8zYWRhODRmOGI1OGQ0NzY4OTIzZTI3ODBmNWUyZGVkZCk7CgogICAgICAgICAgICAKICAgICAgICAKICAgIAogICAgICAgICAgICB2YXIgY2lyY2xlX21hcmtlcl8yMGFkMmJiMGVjNjQ0ZWI5YTU2Y2E4NzEwYWE0NjI5NyA9IEwuY2lyY2xlTWFya2VyKAogICAgICAgICAgICAgICAgWzI2LjQ1NTA1LDg3LjI3MDA2OTk5OTk5OTk5XSwKICAgICAgICAgICAgICAgIHsKICAiYnViYmxpbmdNb3VzZUV2ZW50cyI6IHRydWUsCiAgImNvbG9yIjogInJlZCIsCiAgImRhc2hBcnJheSI6IG51bGwsCiAgImRhc2hPZmZzZXQiOiBudWxsLAogICJmaWxsIjogZmFsc2UsCiAgImZpbGxDb2xvciI6ICJyZWQiLAogICJmaWxsT3BhY2l0eSI6IDAuMiwKICAiZmlsbFJ1bGUiOiAiZXZlbm9kZCIsCiAgImxpbmVDYXAiOiAicm91bmQiLAogICJsaW5lSm9pbiI6ICJyb3VuZCIsCiAgIm9wYWNpdHkiOiAxLjAsCiAgInJhZGl1cyI6IDEsCiAgInN0cm9rZSI6IHRydWUsCiAgIndlaWdodCI6IDMKfQogICAgICAgICAgICAgICAgKS5hZGRUbyhtYXBfMWVkYzBhOTEyYzIxNDBiYWEzZjgyZjYzNTM2NWJiNjUpOwogICAgICAgICAgICAKICAgIAogICAgICAgICAgICB2YXIgcG9wdXBfNTdhZTAyNjMxYWZlNGY2YmJkZTA3ODkxMTk4NTljNjkgPSBMLnBvcHVwKHttYXhXaWR0aDogJzMwMCd9KTsKCiAgICAgICAgICAgIAogICAgICAgICAgICAgICAgdmFyIGh0bWxfMGI0MDc3YzUwNDJkNGNhNzk4ZjQ3MjEyYzE1OGJlZTkgPSAkKCc8ZGl2IGlkPSJodG1sXzBiNDA3N2M1MDQyZDRjYTc5OGY0NzIxMmMxNThiZWU5IiBzdHlsZT0id2lkdGg6IDEwMC4wJTsgaGVpZ2h0OiAxMDAuMCU7Ij5EUDM6QmlyYXRuYWdhcjwvZGl2PicpWzBdOwogICAgICAgICAgICAgICAgcG9wdXBfNTdhZTAyNjMxYWZlNGY2YmJkZTA3ODkxMTk4NTljNjkuc2V0Q29udGVudChodG1sXzBiNDA3N2M1MDQyZDRjYTc5OGY0NzIxMmMxNThiZWU5KTsKICAgICAgICAgICAgCgogICAgICAgICAgICBjaXJjbGVfbWFya2VyXzIwYWQyYmIwZWM2NDRlYjlhNTZjYTg3MTBhYTQ2Mjk3LmJpbmRQb3B1cChwb3B1cF81N2FlMDI2MzFhZmU0ZjZiYmRlMDc4OTExOTg1OWM2OSk7CgogICAgICAgICAgICAKICAgICAgICAKICAgIAogICAgICAgICAgICB2YXIgY2lyY2xlX21hcmtlcl84YzFmOGRmMGMxNmE0ZjM5OTcwYmQxYzE3ZTVkOTI1MCA9IEwuY2lyY2xlTWFya2VyKAogICAgICAgICAgICAgICAgWzI3LjAxNzA5MDAwMDAwMDAwMyw4NC44ODA4XSwKICAgICAgICAgICAgICAgIHsKICAiYnViYmxpbmdNb3VzZUV2ZW50cyI6IHRydWUsCiAgImNvbG9yIjogInJlZCIsCiAgImRhc2hBcnJheSI6IG51bGwsCiAgImRhc2hPZmZzZXQiOiBudWxsLAogICJmaWxsIjogZmFsc2UsCiAgImZpbGxDb2xvciI6ICJyZWQiLAogICJmaWxsT3BhY2l0eSI6IDAuMiwKICAiZmlsbFJ1bGUiOiAiZXZlbm9kZCIsCiAgImxpbmVDYXAiOiAicm91bmQiLAogICJsaW5lSm9pbiI6ICJyb3VuZCIsCiAgIm9wYWNpdHkiOiAxLjAsCiAgInJhZGl1cyI6IDEsCiAgInN0cm9rZSI6IHRydWUsCiAgIndlaWdodCI6IDMKfQogICAgICAgICAgICAgICAgKS5hZGRUbyhtYXBfMWVkYzBhOTEyYzIxNDBiYWEzZjgyZjYzNTM2NWJiNjUpOwogICAgICAgICAgICAKICAgIAogICAgICAgICAgICB2YXIgcG9wdXBfYzkzMjA2MGMyNTg2NGU0ODhiMmQzY2YwMDNhYjZkMDAgPSBMLnBvcHVwKHttYXhXaWR0aDogJzMwMCd9KTsKCiAgICAgICAgICAgIAogICAgICAgICAgICAgICAgdmFyIGh0bWxfYTVjMWU0MGUwNDFhNDdkZjg1MjIyYWZkYTY5NGFhNTYgPSAkKCc8ZGl2IGlkPSJodG1sX2E1YzFlNDBlMDQxYTQ3ZGY4NTIyMmFmZGE2OTRhYTU2IiBzdHlsZT0id2lkdGg6IDEwMC4wJTsgaGVpZ2h0OiAxMDAuMCU7Ij5EUDQ6QmlyZ2HDsWo8L2Rpdj4nKVswXTsKICAgICAgICAgICAgICAgIHBvcHVwX2M5MzIwNjBjMjU4NjRlNDg4YjJkM2NmMDAzYWI2ZDAwLnNldENvbnRlbnQoaHRtbF9hNWMxZTQwZTA0MWE0N2RmODUyMjJhZmRhNjk0YWE1Nik7CiAgICAgICAgICAgIAoKICAgICAgICAgICAgY2lyY2xlX21hcmtlcl84YzFmOGRmMGMxNmE0ZjM5OTcwYmQxYzE3ZTVkOTI1MC5iaW5kUG9wdXAocG9wdXBfYzkzMjA2MGMyNTg2NGU0ODhiMmQzY2YwMDNhYjZkMDApOwoKICAgICAgICAgICAgCiAgICAgICAgCiAgICAKICAgICAgICAgICAgdmFyIGNpcmNsZV9tYXJrZXJfMDY0NTQyMGU1N2FiNDJhZGE5ZjZkOGUyNGU4MGNlMzggPSBMLmNpcmNsZU1hcmtlcigKICAgICAgICAgICAgICAgIFsyNi44MTQzNTk5OTk5OTk5OTcsODcuMjc5NzJdLAogICAgICAgICAgICAgICAgewogICJidWJibGluZ01vdXNlRXZlbnRzIjogdHJ1ZSwKICAiY29sb3IiOiAicmVkIiwKICAiZGFzaEFycmF5IjogbnVsbCwKICAiZGFzaE9mZnNldCI6IG51bGwsCiAgImZpbGwiOiBmYWxzZSwKICAiZmlsbENvbG9yIjogInJlZCIsCiAgImZpbGxPcGFjaXR5IjogMC4yLAogICJmaWxsUnVsZSI6ICJldmVub2RkIiwKICAibGluZUNhcCI6ICJyb3VuZCIsCiAgImxpbmVKb2luIjogInJvdW5kIiwKICAib3BhY2l0eSI6IDEuMCwKICAicmFkaXVzIjogMSwKICAic3Ryb2tlIjogdHJ1ZSwKICAid2VpZ2h0IjogMwp9CiAgICAgICAgICAgICAgICApLmFkZFRvKG1hcF8xZWRjMGE5MTJjMjE0MGJhYTNmODJmNjM1MzY1YmI2NSk7CiAgICAgICAgICAgIAogICAgCiAgICAgICAgICAgIHZhciBwb3B1cF8zNmRiMzUzMzY2OTI0NTFkYjk0ZWY5MmJmOGYwZTNkYiA9IEwucG9wdXAoe21heFdpZHRoOiAnMzAwJ30pOwoKICAgICAgICAgICAgCiAgICAgICAgICAgICAgICB2YXIgaHRtbF9jNmU3Y2Y4NTEyOWY0NmJhYmE5NGU1ZjUzYWQyNWNiMiA9ICQoJzxkaXYgaWQ9Imh0bWxfYzZlN2NmODUxMjlmNDZiYWJhOTRlNWY1M2FkMjVjYjIiIHN0eWxlPSJ3aWR0aDogMTAwLjAlOyBoZWlnaHQ6IDEwMC4wJTsiPkRQNTpEaGFyxIFuPC9kaXY+JylbMF07CiAgICAgICAgICAgICAgICBwb3B1cF8zNmRiMzUzMzY2OTI0NTFkYjk0ZWY5MmJmOGYwZTNkYi5zZXRDb250ZW50KGh0bWxfYzZlN2NmODUxMjlmNDZiYWJhOTRlNWY1M2FkMjVjYjIpOwogICAgICAgICAgICAKCiAgICAgICAgICAgIGNpcmNsZV9tYXJrZXJfMDY0NTQyMGU1N2FiNDJhZGE5ZjZkOGUyNGU4MGNlMzguYmluZFBvcHVwKHBvcHVwXzM2ZGIzNTMzNjY5MjQ1MWRiOTRlZjkyYmY4ZjBlM2RiKTsKCiAgICAgICAgICAgIAogICAgICAgIAogICAgCiAgICAgICAgICAgIHZhciBjaXJjbGVfbWFya2VyXzIzYWJmODRkMDFmNjQ5YTQ5OGI1MTNhNzM3OGVkMDVhID0gTC5jaXJjbGVNYXJrZXIoCiAgICAgICAgICAgICAgICBbMjcuNjc2OCw4NC40MzU4OV0sCiAgICAgICAgICAgICAgICB7CiAgImJ1YmJsaW5nTW91c2VFdmVudHMiOiB0cnVlLAogICJjb2xvciI6ICJyZWQiLAogICJkYXNoQXJyYXkiOiBudWxsLAogICJkYXNoT2Zmc2V0IjogbnVsbCwKICAiZmlsbCI6IGZhbHNlLAogICJmaWxsQ29sb3IiOiAicmVkIiwKICAiZmlsbE9wYWNpdHkiOiAwLjIsCiAgImZpbGxSdWxlIjogImV2ZW5vZGQiLAogICJsaW5lQ2FwIjogInJvdW5kIiwKICAibGluZUpvaW4iOiAicm91bmQiLAogICJvcGFjaXR5IjogMS4wLAogICJyYWRpdXMiOiAxLAogICJzdHJva2UiOiB0cnVlLAogICJ3ZWlnaHQiOiAzCn0KICAgICAgICAgICAgICAgICkuYWRkVG8obWFwXzFlZGMwYTkxMmMyMTQwYmFhM2Y4MmY2MzUzNjViYjY1KTsKICAgICAgICAgICAgCiAgICAKICAgICAgICAgICAgdmFyIHBvcHVwXzcyYWQ4ZjQyNjU3NTQ4NjI5NjI5Njc2OGViODE1MzllID0gTC5wb3B1cCh7bWF4V2lkdGg6ICczMDAnfSk7CgogICAgICAgICAgICAKICAgICAgICAgICAgICAgIHZhciBodG1sX2RlN2EzODQ5ODgwZDQ3YmE5MjM3Y2E4Y2MyYThiODY0ID0gJCgnPGRpdiBpZD0iaHRtbF9kZTdhMzg0OTg4MGQ0N2JhOTIzN2NhOGNjMmE4Yjg2NCIgc3R5bGU9IndpZHRoOiAxMDAuMCU7IGhlaWdodDogMTAwLjAlOyI+RFA2OkJoYXJhdHB1cjwvZGl2PicpWzBdOwogICAgICAgICAgICAgICAgcG9wdXBfNzJhZDhmNDI2NTc1NDg2Mjk2Mjk2NzY4ZWI4MTUzOWUuc2V0Q29udGVudChodG1sX2RlN2EzODQ5ODgwZDQ3YmE5MjM3Y2E4Y2MyYThiODY0KTsKICAgICAgICAgICAgCgogICAgICAgICAgICBjaXJjbGVfbWFya2VyXzIzYWJmODRkMDFmNjQ5YTQ5OGI1MTNhNzM3OGVkMDVhLmJpbmRQb3B1cChwb3B1cF83MmFkOGY0MjY1NzU0ODYyOTYyOTY3NjhlYjgxNTM5ZSk7CgogICAgICAgICAgICAKICAgICAgICAKICAgIAogICAgICAgICAgICB2YXIgY2lyY2xlX21hcmtlcl9iMTU0OGUxNTg2ZmY0YTIwYWE4NTYxOTg3ZTU1ZTk5MyA9IEwuY2lyY2xlTWFya2VyKAogICAgICAgICAgICAgICAgWzI2LjcyODgyMDAwMDAwMDAwMiw4NS45MjYyOF0sCiAgICAgICAgICAgICAgICB7CiAgImJ1YmJsaW5nTW91c2VFdmVudHMiOiB0cnVlLAogICJjb2xvciI6ICJyZWQiLAogICJkYXNoQXJyYXkiOiBudWxsLAogICJkYXNoT2Zmc2V0IjogbnVsbCwKICAiZmlsbCI6IGZhbHNlLAogICJmaWxsQ29sb3IiOiAicmVkIiwKICAiZmlsbE9wYWNpdHkiOiAwLjIsCiAgImZpbGxSdWxlIjogImV2ZW5vZGQiLAogICJsaW5lQ2FwIjogInJvdW5kIiwKICAibGluZUpvaW4iOiAicm91bmQiLAogICJvcGFjaXR5IjogMS4wLAogICJyYWRpdXMiOiAxLAogICJzdHJva2UiOiB0cnVlLAogICJ3ZWlnaHQiOiAzCn0KICAgICAgICAgICAgICAgICkuYWRkVG8obWFwXzFlZGMwYTkxMmMyMTQwYmFhM2Y4MmY2MzUzNjViYjY1KTsKICAgICAgICAgICAgCiAgICAKICAgICAgICAgICAgdmFyIHBvcHVwXzRhNGU3MTQ5YjQ5MDRkODZiY2Q0MDNiMmQzZTAxOGU4ID0gTC5wb3B1cCh7bWF4V2lkdGg6ICczMDAnfSk7CgogICAgICAgICAgICAKICAgICAgICAgICAgICAgIHZhciBodG1sXzU1ZjFjZmI3MTY1ZjQ0ODc5Y2MzMjE4NWM0NzFmN2YzID0gJCgnPGRpdiBpZD0iaHRtbF81NWYxY2ZiNzE2NWY0NDg3OWNjMzIxODVjNDcxZjdmMyIgc3R5bGU9IndpZHRoOiAxMDAuMCU7IGhlaWdodDogMTAwLjAlOyI+RFA3OkphbmFrcHVyPC9kaXY+JylbMF07CiAgICAgICAgICAgICAgICBwb3B1cF80YTRlNzE0OWI0OTA0ZDg2YmNkNDAzYjJkM2UwMThlOC5zZXRDb250ZW50KGh0bWxfNTVmMWNmYjcxNjVmNDQ4NzljYzMyMTg1YzQ3MWY3ZjMpOwogICAgICAgICAgICAKCiAgICAgICAgICAgIGNpcmNsZV9tYXJrZXJfYjE1NDhlMTU4NmZmNGEyMGFhODU2MTk4N2U1NWU5OTMuYmluZFBvcHVwKHBvcHVwXzRhNGU3MTQ5YjQ5MDRkODZiY2Q0MDNiMmQzZTAxOGU4KTsKCiAgICAgICAgICAgIAogICAgICAgIAogICAgCiAgICAgICAgICAgIHZhciBjaXJjbGVfbWFya2VyXzIzN2ExODhmMTQ1ODQwMzI4NmE0MWI0ZjI4MWE2NGQxID0gTC5jaXJjbGVNYXJrZXIoCiAgICAgICAgICAgICAgICBbMjguNzAxMzcsODAuNTg5NzVdLAogICAgICAgICAgICAgICAgewogICJidWJibGluZ01vdXNlRXZlbnRzIjogdHJ1ZSwKICAiY29sb3IiOiAicmVkIiwKICAiZGFzaEFycmF5IjogbnVsbCwKICAiZGFzaE9mZnNldCI6IG51bGwsCiAgImZpbGwiOiBmYWxzZSwKICAiZmlsbENvbG9yIjogInJlZCIsCiAgImZpbGxPcGFjaXR5IjogMC4yLAogICJmaWxsUnVsZSI6ICJldmVub2RkIiwKICAibGluZUNhcCI6ICJyb3VuZCIsCiAgImxpbmVKb2luIjogInJvdW5kIiwKICAib3BhY2l0eSI6IDEuMCwKICAicmFkaXVzIjogMSwKICAic3Ryb2tlIjogdHJ1ZSwKICAid2VpZ2h0IjogMwp9CiAgICAgICAgICAgICAgICApLmFkZFRvKG1hcF8xZWRjMGE5MTJjMjE0MGJhYTNmODJmNjM1MzY1YmI2NSk7CiAgICAgICAgICAgIAogICAgCiAgICAgICAgICAgIHZhciBwb3B1cF81NDM5Mjc4OTlhOWY0Mzk0OGY1N2ZlNzAxNmM0ZDE1ZCA9IEwucG9wdXAoe21heFdpZHRoOiAnMzAwJ30pOwoKICAgICAgICAgICAgCiAgICAgICAgICAgICAgICB2YXIgaHRtbF9mODE0NTIyNDgyZGY0NzdjYThmMjdhMjdmZTRiNDE0YyA9ICQoJzxkaXYgaWQ9Imh0bWxfZjgxNDUyMjQ4MmRmNDc3Y2E4ZjI3YTI3ZmU0YjQxNGMiIHN0eWxlPSJ3aWR0aDogMTAwLjAlOyBoZWlnaHQ6IDEwMC4wJTsiPkRQODpEaGFuZ2HhuI1oacyHzIQ8L2Rpdj4nKVswXTsKICAgICAgICAgICAgICAgIHBvcHVwXzU0MzkyNzg5OWE5ZjQzOTQ4ZjU3ZmU3MDE2YzRkMTVkLnNldENvbnRlbnQoaHRtbF9mODE0NTIyNDgyZGY0NzdjYThmMjdhMjdmZTRiNDE0Yyk7CiAgICAgICAgICAgIAoKICAgICAgICAgICAgY2lyY2xlX21hcmtlcl8yMzdhMTg4ZjE0NTg0MDMyODZhNDFiNGYyODFhNjRkMS5iaW5kUG9wdXAocG9wdXBfNTQzOTI3ODk5YTlmNDM5NDhmNTdmZTcwMTZjNGQxNWQpOwoKICAgICAgICAgICAgCiAgICAgICAgCiAgICAKICAgICAgICAgICAgdmFyIGNpcmNsZV9tYXJrZXJfNTkxOWVmNDhhMDJlNDUwMWE2MGNlMThkMzI3ZjNlYmMgPSBMLmNpcmNsZU1hcmtlcigKICAgICAgICAgICAgICAgIFsyNy43MDA1NSw4My40NDgzNl0sCiAgICAgICAgICAgICAgICB7CiAgImJ1YmJsaW5nTW91c2VFdmVudHMiOiB0cnVlLAogICJjb2xvciI6ICJyZWQiLAogICJkYXNoQXJyYXkiOiBudWxsLAogICJkYXNoT2Zmc2V0IjogbnVsbCwKICAiZmlsbCI6IGZhbHNlLAogICJmaWxsQ29sb3IiOiAicmVkIiwKICAiZmlsbE9wYWNpdHkiOiAwLjIsCiAgImZpbGxSdWxlIjogImV2ZW5vZGQiLAogICJsaW5lQ2FwIjogInJvdW5kIiwKICAibGluZUpvaW4iOiAicm91bmQiLAogICJvcGFjaXR5IjogMS4wLAogICJyYWRpdXMiOiAxLAogICJzdHJva2UiOiB0cnVlLAogICJ3ZWlnaHQiOiAzCn0KICAgICAgICAgICAgICAgICkuYWRkVG8obWFwXzFlZGMwYTkxMmMyMTQwYmFhM2Y4MmY2MzUzNjViYjY1KTsKICAgICAgICAgICAgCiAgICAKICAgICAgICAgICAgdmFyIHBvcHVwXzE5OTVhZDk2NGYzNTRkODZiMTQwZTQwNjllMmVlMjRhID0gTC5wb3B1cCh7bWF4V2lkdGg6ICczMDAnfSk7CgogICAgICAgICAgICAKICAgICAgICAgICAgICAgIHZhciBodG1sXzBhNjYzYjZmNWI1MzRlN2RiN2QyNTBkN2RkODk3YTIwID0gJCgnPGRpdiBpZD0iaHRtbF8wYTY2M2I2ZjViNTM0ZTdkYjdkMjUwZDdkZDg5N2EyMCIgc3R5bGU9IndpZHRoOiAxMDAuMCU7IGhlaWdodDogMTAwLjAlOyI+RFA5OkJ1dHfEgWw8L2Rpdj4nKVswXTsKICAgICAgICAgICAgICAgIHBvcHVwXzE5OTVhZDk2NGYzNTRkODZiMTQwZTQwNjllMmVlMjRhLnNldENvbnRlbnQoaHRtbF8wYTY2M2I2ZjViNTM0ZTdkYjdkMjUwZDdkZDg5N2EyMCk7CiAgICAgICAgICAgIAoKICAgICAgICAgICAgY2lyY2xlX21hcmtlcl81OTE5ZWY0OGEwMmU0NTAxYTYwY2UxOGQzMjdmM2ViYy5iaW5kUG9wdXAocG9wdXBfMTk5NWFkOTY0ZjM1NGQ4NmIxNDBlNDA2OWUyZWUyNGEpOwoKICAgICAgICAgICAgCiAgICAgICAgCiAgICAKICAgICAgICAgICAgdmFyIGNpcmNsZV9tYXJrZXJfYjVlOTdkMGY5YzgwNGMwMDhiZTBhOWJjZDY1OTQ0NWUgPSBMLmNpcmNsZU1hcmtlcigKICAgICAgICAgICAgICAgIFsyOC45NjM5OTAwMDAwMDAwMDMsODAuMTc3MTVdLAogICAgICAgICAgICAgICAgewogICJidWJibGluZ01vdXNlRXZlbnRzIjogdHJ1ZSwKICAiY29sb3IiOiAicmVkIiwKICAiZGFzaEFycmF5IjogbnVsbCwKICAiZGFzaE9mZnNldCI6IG51bGwsCiAgImZpbGwiOiBmYWxzZSwKICAiZmlsbENvbG9yIjogInJlZCIsCiAgImZpbGxPcGFjaXR5IjogMC4yLAogICJmaWxsUnVsZSI6ICJldmVub2RkIiwKICAibGluZUNhcCI6ICJyb3VuZCIsCiAgImxpbmVKb2luIjogInJvdW5kIiwKICAib3BhY2l0eSI6IDEuMCwKICAicmFkaXVzIjogMSwKICAic3Ryb2tlIjogdHJ1ZSwKICAid2VpZ2h0IjogMwp9CiAgICAgICAgICAgICAgICApLmFkZFRvKG1hcF8xZWRjMGE5MTJjMjE0MGJhYTNmODJmNjM1MzY1YmI2NSk7CiAgICAgICAgICAgIAogICAgCiAgICAgICAgICAgIHZhciBwb3B1cF81OWQ5ZDY2NjA2OGU0OGMxODJiN2VjMzA2NTE5Y2YwYiA9IEwucG9wdXAoe21heFdpZHRoOiAnMzAwJ30pOwoKICAgICAgICAgICAgCiAgICAgICAgICAgICAgICB2YXIgaHRtbF9kODc2MTM4ZThhNmM0YmNmYTcwZmRkYTQ2NDE0MDFlZCA9ICQoJzxkaXYgaWQ9Imh0bWxfZDg3NjEzOGU4YTZjNGJjZmE3MGZkZGE0NjQxNDAxZWQiIHN0eWxlPSJ3aWR0aDogMTAwLjAlOyBoZWlnaHQ6IDEwMC4wJTsiPkRQMTA6TWFoZW5kcmFuYWdhcjwvZGl2PicpWzBdOwogICAgICAgICAgICAgICAgcG9wdXBfNTlkOWQ2NjYwNjhlNDhjMTgyYjdlYzMwNjUxOWNmMGIuc2V0Q29udGVudChodG1sX2Q4NzYxMzhlOGE2YzRiY2ZhNzBmZGRhNDY0MTQwMWVkKTsKICAgICAgICAgICAgCgogICAgICAgICAgICBjaXJjbGVfbWFya2VyX2I1ZTk3ZDBmOWM4MDRjMDA4YmUwYTliY2Q2NTk0NDVlLmJpbmRQb3B1cChwb3B1cF81OWQ5ZDY2NjA2OGU0OGMxODJiN2VjMzA2NTE5Y2YwYik7CgogICAgICAgICAgICAKICAgICAgICAKICAgIAogICAgICAgICAgICB2YXIgY2lyY2xlX21hcmtlcl9jNTZiMjAzYTJiMGE0N2MyOGYyZjE4YzRiMjg4ZDZhOSA9IEwuY2lyY2xlTWFya2VyKAogICAgICAgICAgICAgICAgWzI3LjQyODM5MDAwMDAwMDAwNCw4NS4wMzIxOV0sCiAgICAgICAgICAgICAgICB7CiAgImJ1YmJsaW5nTW91c2VFdmVudHMiOiB0cnVlLAogICJjb2xvciI6ICJyZWQiLAogICJkYXNoQXJyYXkiOiBudWxsLAogICJkYXNoT2Zmc2V0IjogbnVsbCwKICAiZmlsbCI6IGZhbHNlLAogICJmaWxsQ29sb3IiOiAicmVkIiwKICAiZmlsbE9wYWNpdHkiOiAwLjIsCiAgImZpbGxSdWxlIjogImV2ZW5vZGQiLAogICJsaW5lQ2FwIjogInJvdW5kIiwKICAibGluZUpvaW4iOiAicm91bmQiLAogICJvcGFjaXR5IjogMS4wLAogICJyYWRpdXMiOiAxLAogICJzdHJva2UiOiB0cnVlLAogICJ3ZWlnaHQiOiAzCn0KICAgICAgICAgICAgICAgICkuYWRkVG8obWFwXzFlZGMwYTkxMmMyMTQwYmFhM2Y4MmY2MzUzNjViYjY1KTsKICAgICAgICAgICAgCiAgICAKICAgICAgICAgICAgdmFyIHBvcHVwX2ExYTdhMGY3NDYzNjQwMWRhNDE2Y2JhZGE1NmQ4NzQwID0gTC5wb3B1cCh7bWF4V2lkdGg6ICczMDAnfSk7CgogICAgICAgICAgICAKICAgICAgICAgICAgICAgIHZhciBodG1sXzFmYTA3OWZmNDk4OTQ1MGM5ZmJjYTMwY2FjZTU4OTI5ID0gJCgnPGRpdiBpZD0iaHRtbF8xZmEwNzlmZjQ5ODk0NTBjOWZiY2EzMGNhY2U1ODkyOSIgc3R5bGU9IndpZHRoOiAxMDAuMCU7IGhlaWdodDogMTAwLjAlOyI+RFAxMTpIZXRhdWRhPC9kaXY+JylbMF07CiAgICAgICAgICAgICAgICBwb3B1cF9hMWE3YTBmNzQ2MzY0MDFkYTQxNmNiYWRhNTZkODc0MC5zZXRDb250ZW50KGh0bWxfMWZhMDc5ZmY0OTg5NDUwYzlmYmNhMzBjYWNlNTg5MjkpOwogICAgICAgICAgICAKCiAgICAgICAgICAgIGNpcmNsZV9tYXJrZXJfYzU2YjIwM2EyYjBhNDdjMjhmMmYxOGM0YjI4OGQ2YTkuYmluZFBvcHVwKHBvcHVwX2ExYTdhMGY3NDYzNjQwMWRhNDE2Y2JhZGE1NmQ4NzQwKTsKCiAgICAgICAgICAgIAogICAgICAgIAogICAgCiAgICAgICAgICAgIHZhciBjaXJjbGVfbWFya2VyX2E5YjFhMTdjMTZiYjQ4ODA4MTM2NjJkMDNmMjJhNTAzID0gTC5jaXJjbGVNYXJrZXIoCiAgICAgICAgICAgICAgICBbMjcuNjgwNTU5OTk5OTk5OTk2LDg1LjM4NzVdLAogICAgICAgICAgICAgICAgewogICJidWJibGluZ01vdXNlRXZlbnRzIjogdHJ1ZSwKICAiY29sb3IiOiAicmVkIiwKICAiZGFzaEFycmF5IjogbnVsbCwKICAiZGFzaE9mZnNldCI6IG51bGwsCiAgImZpbGwiOiBmYWxzZSwKICAiZmlsbENvbG9yIjogInJlZCIsCiAgImZpbGxPcGFjaXR5IjogMC4yLAogICJmaWxsUnVsZSI6ICJldmVub2RkIiwKICAibGluZUNhcCI6ICJyb3VuZCIsCiAgImxpbmVKb2luIjogInJvdW5kIiwKICAib3BhY2l0eSI6IDEuMCwKICAicmFkaXVzIjogMSwKICAic3Ryb2tlIjogdHJ1ZSwKICAid2VpZ2h0IjogMwp9CiAgICAgICAgICAgICAgICApLmFkZFRvKG1hcF8xZWRjMGE5MTJjMjE0MGJhYTNmODJmNjM1MzY1YmI2NSk7CiAgICAgICAgICAgIAogICAgCiAgICAgICAgICAgIHZhciBwb3B1cF9kMmUwZDAxMTIzMTM0MzdkYTY0YjNjYmY2NTNlMjk1YiA9IEwucG9wdXAoe21heFdpZHRoOiAnMzAwJ30pOwoKICAgICAgICAgICAgCiAgICAgICAgICAgICAgICB2YXIgaHRtbF80YmE0ZmM5MzFmOTE0MzY5ODFkMDExOGE4NDQ3ZjUwZCA9ICQoJzxkaXYgaWQ9Imh0bWxfNGJhNGZjOTMxZjkxNDM2OTgxZDAxMThhODQ0N2Y1MGQiIHN0eWxlPSJ3aWR0aDogMTAwLjAlOyBoZWlnaHQ6IDEwMC4wJTsiPkRQMTI6TWFkaHlhcHVyIFRoaW1pPC9kaXY+JylbMF07CiAgICAgICAgICAgICAgICBwb3B1cF9kMmUwZDAxMTIzMTM0MzdkYTY0YjNjYmY2NTNlMjk1Yi5zZXRDb250ZW50KGh0bWxfNGJhNGZjOTMxZjkxNDM2OTgxZDAxMThhODQ0N2Y1MGQpOwogICAgICAgICAgICAKCiAgICAgICAgICAgIGNpcmNsZV9tYXJrZXJfYTliMWExN2MxNmJiNDg4MDgxMzY2MmQwM2YyMmE1MDMuYmluZFBvcHVwKHBvcHVwX2QyZTBkMDExMjMxMzQzN2RhNjRiM2NiZjY1M2UyOTViKTsKCiAgICAgICAgICAgIAogICAgICAgIAogICAgCiAgICAgICAgICAgIHZhciBjaXJjbGVfbWFya2VyX2M5MGYyMWI1OGE0ODRhOGI5MjVkNzk3MGEyZWJkN2VmID0gTC5jaXJjbGVNYXJrZXIoCiAgICAgICAgICAgICAgICBbMjYuNzkxOSw4Ni42OTldLAogICAgICAgICAgICAgICAgewogICJidWJibGluZ01vdXNlRXZlbnRzIjogdHJ1ZSwKICAiY29sb3IiOiAicmVkIiwKICAiZGFzaEFycmF5IjogbnVsbCwKICAiZGFzaE9mZnNldCI6IG51bGwsCiAgImZpbGwiOiBmYWxzZSwKICAiZmlsbENvbG9yIjogInJlZCIsCiAgImZpbGxPcGFjaXR5IjogMC4yLAogICJmaWxsUnVsZSI6ICJldmVub2RkIiwKICAibGluZUNhcCI6ICJyb3VuZCIsCiAgImxpbmVKb2luIjogInJvdW5kIiwKICAib3BhY2l0eSI6IDEuMCwKICAicmFkaXVzIjogMSwKICAic3Ryb2tlIjogdHJ1ZSwKICAid2VpZ2h0IjogMwp9CiAgICAgICAgICAgICAgICApLmFkZFRvKG1hcF8xZWRjMGE5MTJjMjE0MGJhYTNmODJmNjM1MzY1YmI2NSk7CiAgICAgICAgICAgIAogICAgCiAgICAgICAgICAgIHZhciBwb3B1cF82ZDQ3YjNlMTY5ZGU0Yzc3YTAwZTI2YmQxYTNmMTUwMSA9IEwucG9wdXAoe21heFdpZHRoOiAnMzAwJ30pOwoKICAgICAgICAgICAgCiAgICAgICAgICAgICAgICB2YXIgaHRtbF9jZWZlNGEwN2U4ODI0MDhhODJhYmIzYTkwN2M0MDhiMCA9ICQoJzxkaXYgaWQ9Imh0bWxfY2VmZTRhMDdlODgyNDA4YTgyYWJiM2E5MDdjNDA4YjAiIHN0eWxlPSJ3aWR0aDogMTAwLjAlOyBoZWlnaHQ6IDEwMC4wJTsiPkRQMTM6VHJpeXVnYTwvZGl2PicpWzBdOwogICAgICAgICAgICAgICAgcG9wdXBfNmQ0N2IzZTE2OWRlNGM3N2EwMGUyNmJkMWEzZjE1MDEuc2V0Q29udGVudChodG1sX2NlZmU0YTA3ZTg4MjQwOGE4MmFiYjNhOTA3YzQwOGIwKTsKICAgICAgICAgICAgCgogICAgICAgICAgICBjaXJjbGVfbWFya2VyX2M5MGYyMWI1OGE0ODRhOGI5MjVkNzk3MGEyZWJkN2VmLmJpbmRQb3B1cChwb3B1cF82ZDQ3YjNlMTY5ZGU0Yzc3YTAwZTI2YmQxYTNmMTUwMSk7CgogICAgICAgICAgICAKICAgICAgICAKICAgIAogICAgICAgICAgICB2YXIgY2lyY2xlX21hcmtlcl9kZTg1NjI0OTM4Y2I0ZmY1YjA1OTYwNjhmY2Q1NjYyNiA9IEwuY2lyY2xlTWFya2VyKAogICAgICAgICAgICAgICAgWzI2LjYwNjc1LDg3LjE0NzhdLAogICAgICAgICAgICAgICAgewogICJidWJibGluZ01vdXNlRXZlbnRzIjogdHJ1ZSwKICAiY29sb3IiOiAicmVkIiwKICAiZGFzaEFycmF5IjogbnVsbCwKICAiZGFzaE9mZnNldCI6IG51bGwsCiAgImZpbGwiOiBmYWxzZSwKICAiZmlsbENvbG9yIjogInJlZCIsCiAgImZpbGxPcGFjaXR5IjogMC4yLAogICJmaWxsUnVsZSI6ICJldmVub2RkIiwKICAibGluZUNhcCI6ICJyb3VuZCIsCiAgImxpbmVKb2luIjogInJvdW5kIiwKICAib3BhY2l0eSI6IDEuMCwKICAicmFkaXVzIjogMSwKICAic3Ryb2tlIjogdHJ1ZSwKICAid2VpZ2h0IjogMwp9CiAgICAgICAgICAgICAgICApLmFkZFRvKG1hcF8xZWRjMGE5MTJjMjE0MGJhYTNmODJmNjM1MzY1YmI2NSk7CiAgICAgICAgICAgIAogICAgCiAgICAgICAgICAgIHZhciBwb3B1cF80NmU5ZWI2Mzc0ZmM0YmZmODllMjUwZGY4ZTg2Y2UwMyA9IEwucG9wdXAoe21heFdpZHRoOiAnMzAwJ30pOwoKICAgICAgICAgICAgCiAgICAgICAgICAgICAgICB2YXIgaHRtbF8yN2Y4MzZlZTZhYTU0MDBlYWI2NDg1MzY1NmNhN2UyMiA9ICQoJzxkaXYgaWQ9Imh0bWxfMjdmODM2ZWU2YWE1NDAwZWFiNjQ4NTM2NTZjYTdlMjIiIHN0eWxlPSJ3aWR0aDogMTAwLjAlOyBoZWlnaHQ6IDEwMC4wJTsiPkRQMTQ6SW5hcnV3YTwvZGl2PicpWzBdOwogICAgICAgICAgICAgICAgcG9wdXBfNDZlOWViNjM3NGZjNGJmZjg5ZTI1MGRmOGU4NmNlMDMuc2V0Q29udGVudChodG1sXzI3ZjgzNmVlNmFhNTQwMGVhYjY0ODUzNjU2Y2E3ZTIyKTsKICAgICAgICAgICAgCgogICAgICAgICAgICBjaXJjbGVfbWFya2VyX2RlODU2MjQ5MzhjYjRmZjViMDU5NjA2OGZjZDU2NjI2LmJpbmRQb3B1cChwb3B1cF80NmU5ZWI2Mzc0ZmM0YmZmODllMjUwZGY4ZTg2Y2UwMyk7CgogICAgICAgICAgICAKICAgICAgICAKICAgIAogICAgICAgICAgICB2YXIgY2lyY2xlX21hcmtlcl8yZTQwOTE3N2JmYmU0MmQzOTljYWFmY2E4ZTU2YjU5MSA9IEwuY2lyY2xlTWFya2VyKAogICAgICAgICAgICAgICAgWzI4LjA1LDgxLjYxNjY3XSwKICAgICAgICAgICAgICAgIHsKICAiYnViYmxpbmdNb3VzZUV2ZW50cyI6IHRydWUsCiAgImNvbG9yIjogInJlZCIsCiAgImRhc2hBcnJheSI6IG51bGwsCiAgImRhc2hPZmZzZXQiOiBudWxsLAogICJmaWxsIjogZmFsc2UsCiAgImZpbGxDb2xvciI6ICJyZWQiLAogICJmaWxsT3BhY2l0eSI6IDAuMiwKICAiZmlsbFJ1bGUiOiAiZXZlbm9kZCIsCiAgImxpbmVDYXAiOiAicm91bmQiLAogICJsaW5lSm9pbiI6ICJyb3VuZCIsCiAgIm9wYWNpdHkiOiAxLjAsCiAgInJhZGl1cyI6IDEsCiAgInN0cm9rZSI6IHRydWUsCiAgIndlaWdodCI6IDMKfQogICAgICAgICAgICAgICAgKS5hZGRUbyhtYXBfMWVkYzBhOTEyYzIxNDBiYWEzZjgyZjYzNTM2NWJiNjUpOwogICAgICAgICAgICAKICAgIAogICAgICAgICAgICB2YXIgcG9wdXBfMTA5MTk5YTFmMjU2NGU3MWEwMzBiZmViYjk2NTM4ZDQgPSBMLnBvcHVwKHttYXhXaWR0aDogJzMwMCd9KTsKCiAgICAgICAgICAgIAogICAgICAgICAgICAgICAgdmFyIGh0bWxfMjI3M2ZkZDI5M2RkNDdhNzhkMWFjNzNkMWUxY2E5YWEgPSAkKCc8ZGl2IGlkPSJodG1sXzIyNzNmZGQyOTNkZDQ3YTc4ZDFhYzczZDFlMWNhOWFhIiBzdHlsZT0id2lkdGg6IDEwMC4wJTsgaGVpZ2h0OiAxMDAuMCU7Ij5EUDE1Ok5lcGFsZ3VuajwvZGl2PicpWzBdOwogICAgICAgICAgICAgICAgcG9wdXBfMTA5MTk5YTFmMjU2NGU3MWEwMzBiZmViYjk2NTM4ZDQuc2V0Q29udGVudChodG1sXzIyNzNmZGQyOTNkZDQ3YTc4ZDFhYzczZDFlMWNhOWFhKTsKICAgICAgICAgICAgCgogICAgICAgICAgICBjaXJjbGVfbWFya2VyXzJlNDA5MTc3YmZiZTQyZDM5OWNhYWZjYThlNTZiNTkxLmJpbmRQb3B1cChwb3B1cF8xMDkxOTlhMWYyNTY0ZTcxYTAzMGJmZWJiOTY1MzhkNCk7CgogICAgICAgICAgICAKICAgICAgICAKICAgIAogICAgICAgICAgICB2YXIgY2lyY2xlX21hcmtlcl8wODlhMzUxOWMwNWM0YWRlYTBkYjBjMDU3YTJjNmJhMyA9IEwuY2lyY2xlTWFya2VyKAogICAgICAgICAgICAgICAgWzI3LjUsODMuNDVdLAogICAgICAgICAgICAgICAgewogICJidWJibGluZ01vdXNlRXZlbnRzIjogdHJ1ZSwKICAiY29sb3IiOiAicmVkIiwKICAiZGFzaEFycmF5IjogbnVsbCwKICAiZGFzaE9mZnNldCI6IG51bGwsCiAgImZpbGwiOiBmYWxzZSwKICAiZmlsbENvbG9yIjogInJlZCIsCiAgImZpbGxPcGFjaXR5IjogMC4yLAogICJmaWxsUnVsZSI6ICJldmVub2RkIiwKICAibGluZUNhcCI6ICJyb3VuZCIsCiAgImxpbmVKb2luIjogInJvdW5kIiwKICAib3BhY2l0eSI6IDEuMCwKICAicmFkaXVzIjogMSwKICAic3Ryb2tlIjogdHJ1ZSwKICAid2VpZ2h0IjogMwp9CiAgICAgICAgICAgICAgICApLmFkZFRvKG1hcF8xZWRjMGE5MTJjMjE0MGJhYTNmODJmNjM1MzY1YmI2NSk7CiAgICAgICAgICAgIAogICAgCiAgICAgICAgICAgIHZhciBwb3B1cF84MWViYTc4OGVjMzU0YjIzYmQ4YjA2YmE5YTlkNzk5MSA9IEwucG9wdXAoe21heFdpZHRoOiAnMzAwJ30pOwoKICAgICAgICAgICAgCiAgICAgICAgICAgICAgICB2YXIgaHRtbF9lMDU4MGNiZjg2NTM0NWUzYWM1YWNiNWMxNGU5YWY4NSA9ICQoJzxkaXYgaWQ9Imh0bWxfZTA1ODBjYmY4NjUzNDVlM2FjNWFjYjVjMTRlOWFmODUiIHN0eWxlPSJ3aWR0aDogMTAwLjAlOyBoZWlnaHQ6IDEwMC4wJTsiPkRQMTY6U2lkZGhhcnRoYW5hZ2FyPC9kaXY+JylbMF07CiAgICAgICAgICAgICAgICBwb3B1cF84MWViYTc4OGVjMzU0YjIzYmQ4YjA2YmE5YTlkNzk5MS5zZXRDb250ZW50KGh0bWxfZTA1ODBjYmY4NjUzNDVlM2FjNWFjYjVjMTRlOWFmODUpOwogICAgICAgICAgICAKCiAgICAgICAgICAgIGNpcmNsZV9tYXJrZXJfMDg5YTM1MTljMDVjNGFkZWEwZGIwYzA1N2EyYzZiYTMuYmluZFBvcHVwKHBvcHVwXzgxZWJhNzg4ZWMzNTRiMjNiZDhiMDZiYTlhOWQ3OTkxKTsKCiAgICAgICAgICAgIAogICAgICAgIAogICAgCiAgICAgICAgICAgIHZhciBjaXJjbGVfbWFya2VyX2RkNDIyY2Y2MzJiZTRlNWY5MDc5ZjA0NTczNjM3ZTkzID0gTC5jaXJjbGVNYXJrZXIoCiAgICAgICAgICAgICAgICBbMjguMjA1OCw4MS4zNDUzMl0sCiAgICAgICAgICAgICAgICB7CiAgImJ1YmJsaW5nTW91c2VFdmVudHMiOiB0cnVlLAogICJjb2xvciI6ICJyZWQiLAogICJkYXNoQXJyYXkiOiBudWxsLAogICJkYXNoT2Zmc2V0IjogbnVsbCwKICAiZmlsbCI6IGZhbHNlLAogICJmaWxsQ29sb3IiOiAicmVkIiwKICAiZmlsbE9wYWNpdHkiOiAwLjIsCiAgImZpbGxSdWxlIjogImV2ZW5vZGQiLAogICJsaW5lQ2FwIjogInJvdW5kIiwKICAibGluZUpvaW4iOiAicm91bmQiLAogICJvcGFjaXR5IjogMS4wLAogICJyYWRpdXMiOiAxLAogICJzdHJva2UiOiB0cnVlLAogICJ3ZWlnaHQiOiAzCn0KICAgICAgICAgICAgICAgICkuYWRkVG8obWFwXzFlZGMwYTkxMmMyMTQwYmFhM2Y4MmY2MzUzNjViYjY1KTsKICAgICAgICAgICAgCiAgICAKICAgICAgICAgICAgdmFyIHBvcHVwXzg3ODBhMjc4MTQ1ODQ4MDc4NTdkYWRkMTcwMjJkNTZmID0gTC5wb3B1cCh7bWF4V2lkdGg6ICczMDAnfSk7CgogICAgICAgICAgICAKICAgICAgICAgICAgICAgIHZhciBodG1sX2IyZjNlZjVhYmU5MTQ4NzRhMDMxNjkyMjQ3ZjQ1Y2YyID0gJCgnPGRpdiBpZD0iaHRtbF9iMmYzZWY1YWJlOTE0ODc0YTAzMTY5MjI0N2Y0NWNmMiIgc3R5bGU9IndpZHRoOiAxMDAuMCU7IGhlaWdodDogMTAwLjAlOyI+RFAxNzpHdWxhcml5xIE8L2Rpdj4nKVswXTsKICAgICAgICAgICAgICAgIHBvcHVwXzg3ODBhMjc4MTQ1ODQ4MDc4NTdkYWRkMTcwMjJkNTZmLnNldENvbnRlbnQoaHRtbF9iMmYzZWY1YWJlOTE0ODc0YTAzMTY5MjI0N2Y0NWNmMik7CiAgICAgICAgICAgIAoKICAgICAgICAgICAgY2lyY2xlX21hcmtlcl9kZDQyMmNmNjMyYmU0ZTVmOTA3OWYwNDU3MzYzN2U5My5iaW5kUG9wdXAocG9wdXBfODc4MGEyNzgxNDU4NDgwNzg1N2RhZGQxNzAyMmQ1NmYpOwoKICAgICAgICAgICAgCiAgICAgICAgCiAgICAKICAgICAgICAgICAgdmFyIGNpcmNsZV9tYXJrZXJfZjEzOTFkZGRjODUxNDkyOGI0N2NkZTM1ZTU1NWQwMTQgPSBMLmNpcmNsZU1hcmtlcigKICAgICAgICAgICAgICAgIFsyNi42NjM3MSw4Ny4yNzQwMzAwMDAwMDAwMV0sCiAgICAgICAgICAgICAgICB7CiAgImJ1YmJsaW5nTW91c2VFdmVudHMiOiB0cnVlLAogICJjb2xvciI6ICJyZWQiLAogICJkYXNoQXJyYXkiOiBudWxsLAogICJkYXNoT2Zmc2V0IjogbnVsbCwKICAiZmlsbCI6IGZhbHNlLAogICJmaWxsQ29sb3IiOiAicmVkIiwKICAiZmlsbE9wYWNpdHkiOiAwLjIsCiAgImZpbGxSdWxlIjogImV2ZW5vZGQiLAogICJsaW5lQ2FwIjogInJvdW5kIiwKICAibGluZUpvaW4iOiAicm91bmQiLAogICJvcGFjaXR5IjogMS4wLAogICJyYWRpdXMiOiAxLAogICJzdHJva2UiOiB0cnVlLAogICJ3ZWlnaHQiOiAzCn0KICAgICAgICAgICAgICAgICkuYWRkVG8obWFwXzFlZGMwYTkxMmMyMTQwYmFhM2Y4MmY2MzUzNjViYjY1KTsKICAgICAgICAgICAgCiAgICAKICAgICAgICAgICAgdmFyIHBvcHVwXzdmOTFkNDM5Y2U0YzRiZWZhODBlZDFhNjlhOTAyMWE0ID0gTC5wb3B1cCh7bWF4V2lkdGg6ICczMDAnfSk7CgogICAgICAgICAgICAKICAgICAgICAgICAgICAgIHZhciBodG1sXzlkN2MxZTZlMjM5MjQ0NzI4ZTc4YTUxOTdjYzYxZWNkID0gJCgnPGRpdiBpZD0iaHRtbF85ZDdjMWU2ZTIzOTI0NDcyOGU3OGE1MTk3Y2M2MWVjZCIgc3R5bGU9IndpZHRoOiAxMDAuMCU7IGhlaWdodDogMTAwLjAlOyI+RFAxODpUaXRhaGFyaTwvZGl2PicpWzBdOwogICAgICAgICAgICAgICAgcG9wdXBfN2Y5MWQ0MzljZTRjNGJlZmE4MGVkMWE2OWE5MDIxYTQuc2V0Q29udGVudChodG1sXzlkN2MxZTZlMjM5MjQ0NzI4ZTc4YTUxOTdjYzYxZWNkKTsKICAgICAgICAgICAgCgogICAgICAgICAgICBjaXJjbGVfbWFya2VyX2YxMzkxZGRkYzg1MTQ5MjhiNDdjZGUzNWU1NTVkMDE0LmJpbmRQb3B1cChwb3B1cF83ZjkxZDQzOWNlNGM0YmVmYTgwZWQxYTY5YTkwMjFhNCk7CgogICAgICAgICAgICAKICAgICAgICAKICAgIAogICAgICAgICAgICB2YXIgY2lyY2xlX21hcmtlcl8yZGJkMjgxNzQ2NzU0MjAyYTlhZjY4MTljOTRiYTczMSA9IEwuY2lyY2xlTWFya2VyKAogICAgICAgICAgICAgICAgWzI3LjU4NDY1OTk5OTk5OTk5Niw4NS41MjEyMl0sCiAgICAgICAgICAgICAgICB7CiAgImJ1YmJsaW5nTW91c2VFdmVudHMiOiB0cnVlLAogICJjb2xvciI6ICJyZWQiLAogICJkYXNoQXJyYXkiOiBudWxsLAogICJkYXNoT2Zmc2V0IjogbnVsbCwKICAiZmlsbCI6IGZhbHNlLAogICJmaWxsQ29sb3IiOiAicmVkIiwKICAiZmlsbE9wYWNpdHkiOiAwLjIsCiAgImZpbGxSdWxlIjogImV2ZW5vZGQiLAogICJsaW5lQ2FwIjogInJvdW5kIiwKICAibGluZUpvaW4iOiAicm91bmQiLAogICJvcGFjaXR5IjogMS4wLAogICJyYWRpdXMiOiAxLAogICJzdHJva2UiOiB0cnVlLAogICJ3ZWlnaHQiOiAzCn0KICAgICAgICAgICAgICAgICkuYWRkVG8obWFwXzFlZGMwYTkxMmMyMTQwYmFhM2Y4MmY2MzUzNjViYjY1KTsKICAgICAgICAgICAgCiAgICAKICAgICAgICAgICAgdmFyIHBvcHVwXzU0ODc2MGM0NGYxZjRhYzBhN2Y5NTE3MjNmMzIxYjFjID0gTC5wb3B1cCh7bWF4V2lkdGg6ICczMDAnfSk7CgogICAgICAgICAgICAKICAgICAgICAgICAgICAgIHZhciBodG1sXzY5MmFkYTUxZTNkYTQ5MzE5MTViMzFjODY5Y2QxMmY5ID0gJCgnPGRpdiBpZD0iaHRtbF82OTJhZGE1MWUzZGE0OTMxOTE1YjMxYzg2OWNkMTJmOSIgc3R5bGU9IndpZHRoOiAxMDAuMCU7IGhlaWdodDogMTAwLjAlOyI+RFAxOTpQYW5hdXRpPC9kaXY+JylbMF07CiAgICAgICAgICAgICAgICBwb3B1cF81NDg3NjBjNDRmMWY0YWMwYTdmOTUxNzIzZjMyMWIxYy5zZXRDb250ZW50KGh0bWxfNjkyYWRhNTFlM2RhNDkzMTkxNWIzMWM4NjljZDEyZjkpOwogICAgICAgICAgICAKCiAgICAgICAgICAgIGNpcmNsZV9tYXJrZXJfMmRiZDI4MTc0Njc1NDIwMmE5YWY2ODE5Yzk0YmE3MzEuYmluZFBvcHVwKHBvcHVwXzU0ODc2MGM0NGYxZjRhYzBhN2Y5NTE3MjNmMzIxYjFjKTsKCiAgICAgICAgICAgIAogICAgICAgIAogICAgCiAgICAgICAgICAgIHZhciBjaXJjbGVfbWFya2VyXzg0MGFkYTNkMGUyMDQyOGRhYzRmMDQ2NjEyNzRmMmNiID0gTC5jaXJjbGVNYXJrZXIoCiAgICAgICAgICAgICAgICBbMjguNTI4MjI5OTk5OTk5OTk3LDgxLjExNzk4XSwKICAgICAgICAgICAgICAgIHsKICAiYnViYmxpbmdNb3VzZUV2ZW50cyI6IHRydWUsCiAgImNvbG9yIjogInJlZCIsCiAgImRhc2hBcnJheSI6IG51bGwsCiAgImRhc2hPZmZzZXQiOiBudWxsLAogICJmaWxsIjogZmFsc2UsCiAgImZpbGxDb2xvciI6ICJyZWQiLAogICJmaWxsT3BhY2l0eSI6IDAuMiwKICAiZmlsbFJ1bGUiOiAiZXZlbm9kZCIsCiAgImxpbmVDYXAiOiAicm91bmQiLAogICJsaW5lSm9pbiI6ICJyb3VuZCIsCiAgIm9wYWNpdHkiOiAxLjAsCiAgInJhZGl1cyI6IDEsCiAgInN0cm9rZSI6IHRydWUsCiAgIndlaWdodCI6IDMKfQogICAgICAgICAgICAgICAgKS5hZGRUbyhtYXBfMWVkYzBhOTEyYzIxNDBiYWEzZjgyZjYzNTM2NWJiNjUpOwogICAgICAgICAgICAKICAgIAogICAgICAgICAgICB2YXIgcG9wdXBfMDZiYTAxNjM5Y2IwNGE5ZGI3MDE3YTJhMDFlMzA3NDcgPSBMLnBvcHVwKHttYXhXaWR0aDogJzMwMCd9KTsKCiAgICAgICAgICAgIAogICAgICAgICAgICAgICAgdmFyIGh0bWxfMDkzNjhiZjRmNDc3NDg0YTg4ZGI1OTZjOWM2ZTEwNmMgPSAkKCc8ZGl2IGlkPSJodG1sXzA5MzY4YmY0ZjQ3NzQ4NGE4OGRiNTk2YzljNmUxMDZjIiBzdHlsZT0id2lkdGg6IDEwMC4wJTsgaGVpZ2h0OiAxMDAuMCU7Ij5EUDIwOuG5rGlrxIFwdXI8L2Rpdj4nKVswXTsKICAgICAgICAgICAgICAgIHBvcHVwXzA2YmEwMTYzOWNiMDRhOWRiNzAxN2EyYTAxZTMwNzQ3LnNldENvbnRlbnQoaHRtbF8wOTM2OGJmNGY0Nzc0ODRhODhkYjU5NmM5YzZlMTA2Yyk7CiAgICAgICAgICAgIAoKICAgICAgICAgICAgY2lyY2xlX21hcmtlcl84NDBhZGEzZDBlMjA0MjhkYWM0ZjA0NjYxMjc0ZjJjYi5iaW5kUG9wdXAocG9wdXBfMDZiYTAxNjM5Y2IwNGE5ZGI3MDE3YTJhMDFlMzA3NDcpOwoKICAgICAgICAgICAgCiAgICAgICAgCiAgICAKICAgICAgICAgICAgdmFyIGNpcmNsZV9tYXJrZXJfZjkzNmM4YTBjZGMxNDg0NzgyMTk5YTc3NzNiZWVjZDkgPSBMLmNpcmNsZU1hcmtlcigKICAgICAgICAgICAgICAgIFsyNy42Nzg3MjAwMDAwMDAwMDIsODUuMjc3NV0sCiAgICAgICAgICAgICAgICB7CiAgImJ1YmJsaW5nTW91c2VFdmVudHMiOiB0cnVlLAogICJjb2xvciI6ICJyZWQiLAogICJkYXNoQXJyYXkiOiBudWxsLAogICJkYXNoT2Zmc2V0IjogbnVsbCwKICAiZmlsbCI6IGZhbHNlLAogICJmaWxsQ29sb3IiOiAicmVkIiwKICAiZmlsbE9wYWNpdHkiOiAwLjIsCiAgImZpbGxSdWxlIjogImV2ZW5vZGQiLAogICJsaW5lQ2FwIjogInJvdW5kIiwKICAibGluZUpvaW4iOiAicm91bmQiLAogICJvcGFjaXR5IjogMS4wLAogICJyYWRpdXMiOiAxLAogICJzdHJva2UiOiB0cnVlLAogICJ3ZWlnaHQiOiAzCn0KICAgICAgICAgICAgICAgICkuYWRkVG8obWFwXzFlZGMwYTkxMmMyMTQwYmFhM2Y4MmY2MzUzNjViYjY1KTsKICAgICAgICAgICAgCiAgICAKICAgICAgICAgICAgdmFyIHBvcHVwX2RmNmY5MWEzYjE1YzRjOGZiZDVmYTQ2YjJiMDczMzViID0gTC5wb3B1cCh7bWF4V2lkdGg6ICczMDAnfSk7CgogICAgICAgICAgICAKICAgICAgICAgICAgICAgIHZhciBodG1sXzkxM2JjN2UzZjA1MzRlYWQ5MWNiYzk5NmEzMjFkMmFiID0gJCgnPGRpdiBpZD0iaHRtbF85MTNiYzdlM2YwNTM0ZWFkOTFjYmM5OTZhMzIxZDJhYiIgc3R5bGU9IndpZHRoOiAxMDAuMCU7IGhlaWdodDogMTAwLjAlOyI+RFAyMTpLaXJ0aXB1cjwvZGl2PicpWzBdOwogICAgICAgICAgICAgICAgcG9wdXBfZGY2ZjkxYTNiMTVjNGM4ZmJkNWZhNDZiMmIwNzMzNWIuc2V0Q29udGVudChodG1sXzkxM2JjN2UzZjA1MzRlYWQ5MWNiYzk5NmEzMjFkMmFiKTsKICAgICAgICAgICAgCgogICAgICAgICAgICBjaXJjbGVfbWFya2VyX2Y5MzZjOGEwY2RjMTQ4NDc4MjE5OWE3NzczYmVlY2Q5LmJpbmRQb3B1cChwb3B1cF9kZjZmOTFhM2IxNWM0YzhmYmQ1ZmE0NmIyYjA3MzM1Yik7CgogICAgICAgICAgICAKICAgICAgICAKICAgIAogICAgICAgICAgICB2YXIgY2lyY2xlX21hcmtlcl8wOWRjOTljOTNmODg0YmUxODNjYWNjMGY1OGQ2YjhmOCA9IEwuY2lyY2xlTWFya2VyKAogICAgICAgICAgICAgICAgWzI4LjEzMDk5LDgyLjI5NzI2XSwKICAgICAgICAgICAgICAgIHsKICAiYnViYmxpbmdNb3VzZUV2ZW50cyI6IHRydWUsCiAgImNvbG9yIjogInJlZCIsCiAgImRhc2hBcnJheSI6IG51bGwsCiAgImRhc2hPZmZzZXQiOiBudWxsLAogICJmaWxsIjogZmFsc2UsCiAgImZpbGxDb2xvciI6ICJyZWQiLAogICJmaWxsT3BhY2l0eSI6IDAuMiwKICAiZmlsbFJ1bGUiOiAiZXZlbm9kZCIsCiAgImxpbmVDYXAiOiAicm91bmQiLAogICJsaW5lSm9pbiI6ICJyb3VuZCIsCiAgIm9wYWNpdHkiOiAxLjAsCiAgInJhZGl1cyI6IDEsCiAgInN0cm9rZSI6IHRydWUsCiAgIndlaWdodCI6IDMKfQogICAgICAgICAgICAgICAgKS5hZGRUbyhtYXBfMWVkYzBhOTEyYzIxNDBiYWEzZjgyZjYzNTM2NWJiNjUpOwogICAgICAgICAgICAKICAgIAogICAgICAgICAgICB2YXIgcG9wdXBfMThhZjczMjY3ZTlmNDFmOWJmZTBhMmY2MmEwNGQ1ZTAgPSBMLnBvcHVwKHttYXhXaWR0aDogJzMwMCd9KTsKCiAgICAgICAgICAgIAogICAgICAgICAgICAgICAgdmFyIGh0bWxfZjE0NTEzZjZjMDdlNDkyMzlhZTdlNGEzMmQ2OThlZDcgPSAkKCc8ZGl2IGlkPSJodG1sX2YxNDUxM2Y2YzA3ZTQ5MjM5YWU3ZTRhMzJkNjk4ZWQ3IiBzdHlsZT0id2lkdGg6IDEwMC4wJTsgaGVpZ2h0OiAxMDAuMCU7Ij5EUDIyOlR1bHPEq3B1cjwvZGl2PicpWzBdOwogICAgICAgICAgICAgICAgcG9wdXBfMThhZjczMjY3ZTlmNDFmOWJmZTBhMmY2MmEwNGQ1ZTAuc2V0Q29udGVudChodG1sX2YxNDUxM2Y2YzA3ZTQ5MjM5YWU3ZTRhMzJkNjk4ZWQ3KTsKICAgICAgICAgICAgCgogICAgICAgICAgICBjaXJjbGVfbWFya2VyXzA5ZGM5OWM5M2Y4ODRiZTE4M2NhY2MwZjU4ZDZiOGY4LmJpbmRQb3B1cChwb3B1cF8xOGFmNzMyNjdlOWY0MWY5YmZlMGEyZjYyYTA0ZDVlMCk7CgogICAgICAgICAgICAKICAgICAgICAKICAgIAogICAgICAgICAgICB2YXIgY2lyY2xlX21hcmtlcl9lMjkyODllOTk0ZWQ0YzQ4OWJjNjViZWNjYWY4MjBkMiA9IEwuY2lyY2xlTWFya2VyKAogICAgICAgICAgICAgICAgWzI2LjUzOTY4LDg2Ljc0Nzk1OTk5OTk5OTk5XSwKICAgICAgICAgICAgICAgIHsKICAiYnViYmxpbmdNb3VzZUV2ZW50cyI6IHRydWUsCiAgImNvbG9yIjogInJlZCIsCiAgImRhc2hBcnJheSI6IG51bGwsCiAgImRhc2hPZmZzZXQiOiBudWxsLAogICJmaWxsIjogZmFsc2UsCiAgImZpbGxDb2xvciI6ICJyZWQiLAogICJmaWxsT3BhY2l0eSI6IDAuMiwKICAiZmlsbFJ1bGUiOiAiZXZlbm9kZCIsCiAgImxpbmVDYXAiOiAicm91bmQiLAogICJsaW5lSm9pbiI6ICJyb3VuZCIsCiAgIm9wYWNpdHkiOiAxLjAsCiAgInJhZGl1cyI6IDEsCiAgInN0cm9rZSI6IHRydWUsCiAgIndlaWdodCI6IDMKfQogICAgICAgICAgICAgICAgKS5hZGRUbyhtYXBfMWVkYzBhOTEyYzIxNDBiYWEzZjgyZjYzNTM2NWJiNjUpOwogICAgICAgICAgICAKICAgIAogICAgICAgICAgICB2YXIgcG9wdXBfMzZiYTkxNmMyNWM0NDI2OWI2Y2EwZDBkNTAwMWJlYmIgPSBMLnBvcHVwKHttYXhXaWR0aDogJzMwMCd9KTsKCiAgICAgICAgICAgIAogICAgICAgICAgICAgICAgdmFyIGh0bWxfNTMwNTNhNDA2MDUxNGVkYjhjNGFlYmY0MmVjYmMyMTIgPSAkKCc8ZGl2IGlkPSJodG1sXzUzMDUzYTQwNjA1MTRlZGI4YzRhZWJmNDJlY2JjMjEyIiBzdHlsZT0id2lkdGg6IDEwMC4wJTsgaGVpZ2h0OiAxMDAuMCU7Ij5EUDIzOlLEgWpiaXLEgWo8L2Rpdj4nKVswXTsKICAgICAgICAgICAgICAgIHBvcHVwXzM2YmE5MTZjMjVjNDQyNjliNmNhMGQwZDUwMDFiZWJiLnNldENvbnRlbnQoaHRtbF81MzA1M2E0MDYwNTE0ZWRiOGM0YWViZjQyZWNiYzIxMik7CiAgICAgICAgICAgIAoKICAgICAgICAgICAgY2lyY2xlX21hcmtlcl9lMjkyODllOTk0ZWQ0YzQ4OWJjNjViZWNjYWY4MjBkMi5iaW5kUG9wdXAocG9wdXBfMzZiYTkxNmMyNWM0NDI2OWI2Y2EwZDBkNTAwMWJlYmIpOwoKICAgICAgICAgICAgCiAgICAgICAgCiAgICAKICAgICAgICAgICAgdmFyIGNpcmNsZV9tYXJrZXJfMTgxYTMxODhjMDA3NGQzMmI4OTM0MDY2ODcwMmM5NjkgPSBMLmNpcmNsZU1hcmtlcigKICAgICAgICAgICAgICAgIFsyNi43MjAyMiw4Ni40ODI1OF0sCiAgICAgICAgICAgICAgICB7CiAgImJ1YmJsaW5nTW91c2VFdmVudHMiOiB0cnVlLAogICJjb2xvciI6ICJyZWQiLAogICJkYXNoQXJyYXkiOiBudWxsLAogICJkYXNoT2Zmc2V0IjogbnVsbCwKICAiZmlsbCI6IGZhbHNlLAogICJmaWxsQ29sb3IiOiAicmVkIiwKICAiZmlsbE9wYWNpdHkiOiAwLjIsCiAgImZpbGxSdWxlIjogImV2ZW5vZGQiLAogICJsaW5lQ2FwIjogInJvdW5kIiwKICAibGluZUpvaW4iOiAicm91bmQiLAogICJvcGFjaXR5IjogMS4wLAogICJyYWRpdXMiOiAxLAogICJzdHJva2UiOiB0cnVlLAogICJ3ZWlnaHQiOiAzCn0KICAgICAgICAgICAgICAgICkuYWRkVG8obWFwXzFlZGMwYTkxMmMyMTQwYmFhM2Y4MmY2MzUzNjViYjY1KTsKICAgICAgICAgICAgCiAgICAKICAgICAgICAgICAgdmFyIHBvcHVwXzA2NzU5NmExMTkwYzQyYTJiNDZmODIyMzc2MzdjODE3ID0gTC5wb3B1cCh7bWF4V2lkdGg6ICczMDAnfSk7CgogICAgICAgICAgICAKICAgICAgICAgICAgICAgIHZhciBodG1sX2FmYTJjZjU2NzYwMTQ0NzhhMDJmZTRkYWE2ZDE5NzNjID0gJCgnPGRpdiBpZD0iaHRtbF9hZmEyY2Y1Njc2MDE0NDc4YTAyZmU0ZGFhNmQxOTczYyIgc3R5bGU9IndpZHRoOiAxMDAuMCU7IGhlaWdodDogMTAwLjAlOyI+RFAyNDpMYWjEgW48L2Rpdj4nKVswXTsKICAgICAgICAgICAgICAgIHBvcHVwXzA2NzU5NmExMTkwYzQyYTJiNDZmODIyMzc2MzdjODE3LnNldENvbnRlbnQoaHRtbF9hZmEyY2Y1Njc2MDE0NDc4YTAyZmU0ZGFhNmQxOTczYyk7CiAgICAgICAgICAgIAoKICAgICAgICAgICAgY2lyY2xlX21hcmtlcl8xODFhMzE4OGMwMDc0ZDMyYjg5MzQwNjY4NzAyYzk2OS5iaW5kUG9wdXAocG9wdXBfMDY3NTk2YTExOTBjNDJhMmI0NmY4MjIzNzYzN2M4MTcpOwoKICAgICAgICAgICAgCiAgICAgICAgCiAgICAKICAgICAgICAgICAgdmFyIGNpcmNsZV9tYXJrZXJfMDMzM2U2MWZmMjdjNGMzMWFhYWRlM2M0YjUyYzdhYzggPSBMLmNpcmNsZU1hcmtlcigKICAgICAgICAgICAgICAgIFsyOC42MDE5NDAwMDAwMDAwMDMsODEuNjMzODkwMDAwMDAwMDFdLAogICAgICAgICAgICAgICAgewogICJidWJibGluZ01vdXNlRXZlbnRzIjogdHJ1ZSwKICAiY29sb3IiOiAicmVkIiwKICAiZGFzaEFycmF5IjogbnVsbCwKICAiZGFzaE9mZnNldCI6IG51bGwsCiAgImZpbGwiOiBmYWxzZSwKICAiZmlsbENvbG9yIjogInJlZCIsCiAgImZpbGxPcGFjaXR5IjogMC4yLAogICJmaWxsUnVsZSI6ICJldmVub2RkIiwKICAibGluZUNhcCI6ICJyb3VuZCIsCiAgImxpbmVKb2luIjogInJvdW5kIiwKICAib3BhY2l0eSI6IDEuMCwKICAicmFkaXVzIjogMSwKICAic3Ryb2tlIjogdHJ1ZSwKICAid2VpZ2h0IjogMwp9CiAgICAgICAgICAgICAgICApLmFkZFRvKG1hcF8xZWRjMGE5MTJjMjE0MGJhYTNmODJmNjM1MzY1YmI2NSk7CiAgICAgICAgICAgIAogICAgCiAgICAgICAgICAgIHZhciBwb3B1cF9hZDcwZGViNzg2MjU0NjkyOWQ4ZGNiODY3ZmVhM2ZiOSA9IEwucG9wdXAoe21heFdpZHRoOiAnMzAwJ30pOwoKICAgICAgICAgICAgCiAgICAgICAgICAgICAgICB2YXIgaHRtbF8xMzRlMjc3MzY0YmQ0MTlhODk1NGUyZTUwZGIyNzE1OCA9ICQoJzxkaXYgaWQ9Imh0bWxfMTM0ZTI3NzM2NGJkNDE5YTg5NTRlMmU1MGRiMjcxNTgiIHN0eWxlPSJ3aWR0aDogMTAwLjAlOyBoZWlnaHQ6IDEwMC4wJTsiPkRQMjU6QmlyZW5kcmFuYWdhcjwvZGl2PicpWzBdOwogICAgICAgICAgICAgICAgcG9wdXBfYWQ3MGRlYjc4NjI1NDY5MjlkOGRjYjg2N2ZlYTNmYjkuc2V0Q29udGVudChodG1sXzEzNGUyNzczNjRiZDQxOWE4OTU0ZTJlNTBkYjI3MTU4KTsKICAgICAgICAgICAgCgogICAgICAgICAgICBjaXJjbGVfbWFya2VyXzAzMzNlNjFmZjI3YzRjMzFhYWFkZTNjNGI1MmM3YWM4LmJpbmRQb3B1cChwb3B1cF9hZDcwZGViNzg2MjU0NjkyOWQ4ZGNiODY3ZmVhM2ZiOSk7CgogICAgICAgICAgICAKICAgICAgICAKICAgIAogICAgICAgICAgICB2YXIgY2lyY2xlX21hcmtlcl9kZjc1YmYwNTE3YmU0YzIyOTU5MTIzOTJiYmY3YTVjNiA9IEwuY2lyY2xlTWFya2VyKAogICAgICAgICAgICAgICAgWzI3LjU4NDUyOTk5OTk5OTk5Nyw4NS41MTQ4NF0sCiAgICAgICAgICAgICAgICB7CiAgImJ1YmJsaW5nTW91c2VFdmVudHMiOiB0cnVlLAogICJjb2xvciI6ICJyZWQiLAogICJkYXNoQXJyYXkiOiBudWxsLAogICJkYXNoT2Zmc2V0IjogbnVsbCwKICAiZmlsbCI6IGZhbHNlLAogICJmaWxsQ29sb3IiOiAicmVkIiwKICAiZmlsbE9wYWNpdHkiOiAwLjIsCiAgImZpbGxSdWxlIjogImV2ZW5vZGQiLAogICJsaW5lQ2FwIjogInJvdW5kIiwKICAibGluZUpvaW4iOiAicm91bmQiLAogICJvcGFjaXR5IjogMS4wLAogICJyYWRpdXMiOiAxLAogICJzdHJva2UiOiB0cnVlLAogICJ3ZWlnaHQiOiAzCn0KICAgICAgICAgICAgICAgICkuYWRkVG8obWFwXzFlZGMwYTkxMmMyMTQwYmFhM2Y4MmY2MzUzNjViYjY1KTsKICAgICAgICAgICAgCiAgICAKICAgICAgICAgICAgdmFyIHBvcHVwXzRmNTBhMmQxMmZkYTQwNzY5OTJhMDIwNmQxMjQzOTVlID0gTC5wb3B1cCh7bWF4V2lkdGg6ICczMDAnfSk7CgogICAgICAgICAgICAKICAgICAgICAgICAgICAgIHZhciBodG1sXzA0YzU5NjI0ZDEwNDQzZDliMzgxMmM4ZjMzNDYwNzc3ID0gJCgnPGRpdiBpZD0iaHRtbF8wNGM1OTYyNGQxMDQ0M2Q5YjM4MTJjOGYzMzQ2MDc3NyIgc3R5bGU9IndpZHRoOiAxMDAuMCU7IGhlaWdodDogMTAwLjAlOyI+RFAyNjpQYW5hdXRpzIfMhDwvZGl2PicpWzBdOwogICAgICAgICAgICAgICAgcG9wdXBfNGY1MGEyZDEyZmRhNDA3Njk5MmEwMjA2ZDEyNDM5NWUuc2V0Q29udGVudChodG1sXzA0YzU5NjI0ZDEwNDQzZDliMzgxMmM4ZjMzNDYwNzc3KTsKICAgICAgICAgICAgCgogICAgICAgICAgICBjaXJjbGVfbWFya2VyX2RmNzViZjA1MTdiZTRjMjI5NTkxMjM5MmJiZjdhNWM2LmJpbmRQb3B1cChwb3B1cF80ZjUwYTJkMTJmZGE0MDc2OTkyYTAyMDZkMTI0Mzk1ZSk7CgogICAgICAgICAgICAKICAgICAgICAKICAgIAogICAgICAgICAgICB2YXIgY2lyY2xlX21hcmtlcl81ZTZlNGFlYzI0NTU0ZjcyOTI0ZjU3MTljZGFiNGNhMyA9IEwuY2lyY2xlTWFya2VyKAogICAgICAgICAgICAgICAgWzI2Ljc2NDQ4LDg1LjI3ODQxXSwKICAgICAgICAgICAgICAgIHsKICAiYnViYmxpbmdNb3VzZUV2ZW50cyI6IHRydWUsCiAgImNvbG9yIjogInJlZCIsCiAgImRhc2hBcnJheSI6IG51bGwsCiAgImRhc2hPZmZzZXQiOiBudWxsLAogICJmaWxsIjogZmFsc2UsCiAgImZpbGxDb2xvciI6ICJyZWQiLAogICJmaWxsT3BhY2l0eSI6IDAuMiwKICAiZmlsbFJ1bGUiOiAiZXZlbm9kZCIsCiAgImxpbmVDYXAiOiAicm91bmQiLAogICJsaW5lSm9pbiI6ICJyb3VuZCIsCiAgIm9wYWNpdHkiOiAxLjAsCiAgInJhZGl1cyI6IDEsCiAgInN0cm9rZSI6IHRydWUsCiAgIndlaWdodCI6IDMKfQogICAgICAgICAgICAgICAgKS5hZGRUbyhtYXBfMWVkYzBhOTEyYzIxNDBiYWEzZjgyZjYzNTM2NWJiNjUpOwogICAgICAgICAgICAKICAgIAogICAgICAgICAgICB2YXIgcG9wdXBfNTYwZTQ5ZDcxZjA0NGZlY2FjOWM4ZGI4NjU5YjIwNWEgPSBMLnBvcHVwKHttYXhXaWR0aDogJzMwMCd9KTsKCiAgICAgICAgICAgIAogICAgICAgICAgICAgICAgdmFyIGh0bWxfZWM4YzdkN2ZjODBkNDQxOTlmN2Q3MWIzZTU1ZDEyNGQgPSAkKCc8ZGl2IGlkPSJodG1sX2VjOGM3ZDdmYzgwZDQ0MTk5ZjdkNzFiM2U1NWQxMjRkIiBzdHlsZT0id2lkdGg6IDEwMC4wJTsgaGVpZ2h0OiAxMDAuMCU7Ij5EUDI3OkdhdXI8L2Rpdj4nKVswXTsKICAgICAgICAgICAgICAgIHBvcHVwXzU2MGU0OWQ3MWYwNDRmZWNhYzljOGRiODY1OWIyMDVhLnNldENvbnRlbnQoaHRtbF9lYzhjN2Q3ZmM4MGQ0NDE5OWY3ZDcxYjNlNTVkMTI0ZCk7CiAgICAgICAgICAgIAoKICAgICAgICAgICAgY2lyY2xlX21hcmtlcl81ZTZlNGFlYzI0NTU0ZjcyOTI0ZjU3MTljZGFiNGNhMy5iaW5kUG9wdXAocG9wdXBfNTYwZTQ5ZDcxZjA0NGZlY2FjOWM4ZGI4NjU5YjIwNWEpOwoKICAgICAgICAgICAgCiAgICAgICAgCiAgICAKICAgICAgICAgICAgdmFyIGNpcmNsZV9tYXJrZXJfNWNjMTc0ZTMxZmQyNGRhOGE3YmJjNjc4ZTc4NDZmZWUgPSBMLmNpcmNsZU1hcmtlcigKICAgICAgICAgICAgICAgIFsyNi42NTQyMjAwMDAwMDAwMDIsODYuMjA3OTVdLAogICAgICAgICAgICAgICAgewogICJidWJibGluZ01vdXNlRXZlbnRzIjogdHJ1ZSwKICAiY29sb3IiOiAicmVkIiwKICAiZGFzaEFycmF5IjogbnVsbCwKICAiZGFzaE9mZnNldCI6IG51bGwsCiAgImZpbGwiOiBmYWxzZSwKICAiZmlsbENvbG9yIjogInJlZCIsCiAgImZpbGxPcGFjaXR5IjogMC4yLAogICJmaWxsUnVsZSI6ICJldmVub2RkIiwKICAibGluZUNhcCI6ICJyb3VuZCIsCiAgImxpbmVKb2luIjogInJvdW5kIiwKICAib3BhY2l0eSI6IDEuMCwKICAicmFkaXVzIjogMSwKICAic3Ryb2tlIjogdHJ1ZSwKICAid2VpZ2h0IjogMwp9CiAgICAgICAgICAgICAgICApLmFkZFRvKG1hcF8xZWRjMGE5MTJjMjE0MGJhYTNmODJmNjM1MzY1YmI2NSk7CiAgICAgICAgICAgIAogICAgCiAgICAgICAgICAgIHZhciBwb3B1cF81Y2U4OTY1ZjlhNDg0N2NmOTc1YTI5MTI5Y2RiYzFhZSA9IEwucG9wdXAoe21heFdpZHRoOiAnMzAwJ30pOwoKICAgICAgICAgICAgCiAgICAgICAgICAgICAgICB2YXIgaHRtbF84MjNhZmQyODBkMzg0YWJiOGY4ZjdmYjNkN2ViZGE2NCA9ICQoJzxkaXYgaWQ9Imh0bWxfODIzYWZkMjgwZDM4NGFiYjhmOGY3ZmIzZDdlYmRhNjQiIHN0eWxlPSJ3aWR0aDogMTAwLjAlOyBoZWlnaHQ6IDEwMC4wJTsiPkRQMjg6U2lyYWhhPC9kaXY+JylbMF07CiAgICAgICAgICAgICAgICBwb3B1cF81Y2U4OTY1ZjlhNDg0N2NmOTc1YTI5MTI5Y2RiYzFhZS5zZXRDb250ZW50KGh0bWxfODIzYWZkMjgwZDM4NGFiYjhmOGY3ZmIzZDdlYmRhNjQpOwogICAgICAgICAgICAKCiAgICAgICAgICAgIGNpcmNsZV9tYXJrZXJfNWNjMTc0ZTMxZmQyNGRhOGE3YmJjNjc4ZTc4NDZmZWUuYmluZFBvcHVwKHBvcHVwXzVjZTg5NjVmOWE0ODQ3Y2Y5NzVhMjkxMjljZGJjMWFlKTsKCiAgICAgICAgICAgIAogICAgICAgIAogICAgCiAgICAgICAgICAgIHZhciBjaXJjbGVfbWFya2VyX2RkZTM1NmE5ZmEyNjQ0Y2I5NzE4NTVlMTE0Yjc5MDE4ID0gTC5jaXJjbGVNYXJrZXIoCiAgICAgICAgICAgICAgICBbMjcuODY3MzA5OTk5OTk5OTk2LDgzLjU0NjddLAogICAgICAgICAgICAgICAgewogICJidWJibGluZ01vdXNlRXZlbnRzIjogdHJ1ZSwKICAiY29sb3IiOiAicmVkIiwKICAiZGFzaEFycmF5IjogbnVsbCwKICAiZGFzaE9mZnNldCI6IG51bGwsCiAgImZpbGwiOiBmYWxzZSwKICAiZmlsbENvbG9yIjogInJlZCIsCiAgImZpbGxPcGFjaXR5IjogMC4yLAogICJmaWxsUnVsZSI6ICJldmVub2RkIiwKICAibGluZUNhcCI6ICJyb3VuZCIsCiAgImxpbmVKb2luIjogInJvdW5kIiwKICAib3BhY2l0eSI6IDEuMCwKICAicmFkaXVzIjogMSwKICAic3Ryb2tlIjogdHJ1ZSwKICAid2VpZ2h0IjogMwp9CiAgICAgICAgICAgICAgICApLmFkZFRvKG1hcF8xZWRjMGE5MTJjMjE0MGJhYTNmODJmNjM1MzY1YmI2NSk7CiAgICAgICAgICAgIAogICAgCiAgICAgICAgICAgIHZhciBwb3B1cF8wMzU4ZTA2YTVhOGM0MmVkYTE4NWRhYzllY2M2YmRhZiA9IEwucG9wdXAoe21heFdpZHRoOiAnMzAwJ30pOwoKICAgICAgICAgICAgCiAgICAgICAgICAgICAgICB2YXIgaHRtbF9hY2M1YzI4NjFjMjY0OWU4YjNiNDYwNmY1MmNiNDRjZCA9ICQoJzxkaXYgaWQ9Imh0bWxfYWNjNWMyODYxYzI2NDllOGIzYjQ2MDZmNTJjYjQ0Y2QiIHN0eWxlPSJ3aWR0aDogMTAwLjAlOyBoZWlnaHQ6IDEwMC4wJTsiPkRQMjk6VMSBbnNlbjwvZGl2PicpWzBdOwogICAgICAgICAgICAgICAgcG9wdXBfMDM1OGUwNmE1YThjNDJlZGExODVkYWM5ZWNjNmJkYWYuc2V0Q29udGVudChodG1sX2FjYzVjMjg2MWMyNjQ5ZThiM2I0NjA2ZjUyY2I0NGNkKTsKICAgICAgICAgICAgCgogICAgICAgICAgICBjaXJjbGVfbWFya2VyX2RkZTM1NmE5ZmEyNjQ0Y2I5NzE4NTVlMTE0Yjc5MDE4LmJpbmRQb3B1cChwb3B1cF8wMzU4ZTA2YTVhOGM0MmVkYTE4NWRhYzllY2M2YmRhZik7CgogICAgICAgICAgICAKICAgICAgICAKICAgIAogICAgICAgICAgICB2YXIgY2lyY2xlX21hcmtlcl82N2Q3NmZhMzRmY2Y0NTNkYWFhMDEzM2UzZTlhZTcxMyA9IEwuY2lyY2xlTWFya2VyKAogICAgICAgICAgICAgICAgWzI4LjMwMDU4LDgxLjM1MzZdLAogICAgICAgICAgICAgICAgewogICJidWJibGluZ01vdXNlRXZlbnRzIjogdHJ1ZSwKICAiY29sb3IiOiAicmVkIiwKICAiZGFzaEFycmF5IjogbnVsbCwKICAiZGFzaE9mZnNldCI6IG51bGwsCiAgImZpbGwiOiBmYWxzZSwKICAiZmlsbENvbG9yIjogInJlZCIsCiAgImZpbGxPcGFjaXR5IjogMC4yLAogICJmaWxsUnVsZSI6ICJldmVub2RkIiwKICAibGluZUNhcCI6ICJyb3VuZCIsCiAgImxpbmVKb2luIjogInJvdW5kIiwKICAib3BhY2l0eSI6IDEuMCwKICAicmFkaXVzIjogMSwKICAic3Ryb2tlIjogdHJ1ZSwKICAid2VpZ2h0IjogMwp9CiAgICAgICAgICAgICAgICApLmFkZFRvKG1hcF8xZWRjMGE5MTJjMjE0MGJhYTNmODJmNjM1MzY1YmI2NSk7CiAgICAgICAgICAgIAogICAgCiAgICAgICAgICAgIHZhciBwb3B1cF9kZGM4YTIxNmRkYjI0ZGIzYTg4OTJlNGU2MDBjYTFhOCA9IEwucG9wdXAoe21heFdpZHRoOiAnMzAwJ30pOwoKICAgICAgICAgICAgCiAgICAgICAgICAgICAgICB2YXIgaHRtbF9mMWFiMmQ2NDM5ZTQ0OGEwOTgyNTg5YTJmMzIxNjY3MyA9ICQoJzxkaXYgaWQ9Imh0bWxfZjFhYjJkNjQzOWU0NDhhMDk4MjU4OWEyZjMyMTY2NzMiIHN0eWxlPSJ3aWR0aDogMTAwLjAlOyBoZWlnaHQ6IDEwMC4wJTsiPkRQNjA6QmFyZGl5xIE8L2Rpdj4nKVswXTsKICAgICAgICAgICAgICAgIHBvcHVwX2RkYzhhMjE2ZGRiMjRkYjNhODg5MmU0ZTYwMGNhMWE4LnNldENvbnRlbnQoaHRtbF9mMWFiMmQ2NDM5ZTQ0OGEwOTgyNTg5YTJmMzIxNjY3Myk7CiAgICAgICAgICAgIAoKICAgICAgICAgICAgY2lyY2xlX21hcmtlcl82N2Q3NmZhMzRmY2Y0NTNkYWFhMDEzM2UzZTlhZTcxMy5iaW5kUG9wdXAocG9wdXBfZGRjOGEyMTZkZGIyNGRiM2E4ODkyZTRlNjAwY2ExYTgpOwoKICAgICAgICAgICAgCiAgICAgICAgCiAgICAKICAgICAgICAgICAgdmFyIGNpcmNsZV9tYXJrZXJfNzU1MTFlNTg0ZmVjNGU5MmEwN2U1NmUzMzI0N2M2OGEgPSBMLmNpcmNsZU1hcmtlcigKICAgICAgICAgICAgICAgIFsyNy4zMjU2LDg2LjA4NzY4XSwKICAgICAgICAgICAgICAgIHsKICAiYnViYmxpbmdNb3VzZUV2ZW50cyI6IHRydWUsCiAgImNvbG9yIjogInJlZCIsCiAgImRhc2hBcnJheSI6IG51bGwsCiAgImRhc2hPZmZzZXQiOiBudWxsLAogICJmaWxsIjogZmFsc2UsCiAgImZpbGxDb2xvciI6ICJyZWQiLAogICJmaWxsT3BhY2l0eSI6IDAuMiwKICAiZmlsbFJ1bGUiOiAiZXZlbm9kZCIsCiAgImxpbmVDYXAiOiAicm91bmQiLAogICJsaW5lSm9pbiI6ICJyb3VuZCIsCiAgIm9wYWNpdHkiOiAxLjAsCiAgInJhZGl1cyI6IDEsCiAgInN0cm9rZSI6IHRydWUsCiAgIndlaWdodCI6IDMKfQogICAgICAgICAgICAgICAgKS5hZGRUbyhtYXBfMWVkYzBhOTEyYzIxNDBiYWEzZjgyZjYzNTM2NWJiNjUpOwogICAgICAgICAgICAKICAgIAogICAgICAgICAgICB2YXIgcG9wdXBfOWU1OWY5ZTRkN2NmNGRjNDliMTE3ZDA2OThjZGI2OGUgPSBMLnBvcHVwKHttYXhXaWR0aDogJzMwMCd9KTsKCiAgICAgICAgICAgIAogICAgICAgICAgICAgICAgdmFyIGh0bWxfZWI2NGIxN2JkMWNmNDA5Mjg1MTRkYjVjN2RjNzE3NTggPSAkKCc8ZGl2IGlkPSJodG1sX2ViNjRiMTdiZDFjZjQwOTI4NTE0ZGI1YzdkYzcxNzU4IiBzdHlsZT0id2lkdGg6IDEwMC4wJTsgaGVpZ2h0OiAxMDAuMCU7Ij5EUDYxOlLEgW1lY2hoxIFwPC9kaXY+JylbMF07CiAgICAgICAgICAgICAgICBwb3B1cF85ZTU5ZjllNGQ3Y2Y0ZGM0OWIxMTdkMDY5OGNkYjY4ZS5zZXRDb250ZW50KGh0bWxfZWI2NGIxN2JkMWNmNDA5Mjg1MTRkYjVjN2RjNzE3NTgpOwogICAgICAgICAgICAKCiAgICAgICAgICAgIGNpcmNsZV9tYXJrZXJfNzU1MTFlNTg0ZmVjNGU5MmEwN2U1NmUzMzI0N2M2OGEuYmluZFBvcHVwKHBvcHVwXzllNTlmOWU0ZDdjZjRkYzQ5YjExN2QwNjk4Y2RiNjhlKTsKCiAgICAgICAgICAgIAogICAgICAgIAogICAgCiAgICAgICAgICAgIHZhciBjaXJjbGVfbWFya2VyXzhiM2I0MzYyNTIxZTQxMjY5YWYxNmU0Y2I2NTk3Y2IyID0gTC5jaXJjbGVNYXJrZXIoCiAgICAgICAgICAgICAgICBbMjguMzc4NTgsODIuMTcwM10sCiAgICAgICAgICAgICAgICB7CiAgImJ1YmJsaW5nTW91c2VFdmVudHMiOiB0cnVlLAogICJjb2xvciI6ICJyZWQiLAogICJkYXNoQXJyYXkiOiBudWxsLAogICJkYXNoT2Zmc2V0IjogbnVsbCwKICAiZmlsbCI6IGZhbHNlLAogICJmaWxsQ29sb3IiOiAicmVkIiwKICAiZmlsbE9wYWNpdHkiOiAwLjIsCiAgImZpbGxSdWxlIjogImV2ZW5vZGQiLAogICJsaW5lQ2FwIjogInJvdW5kIiwKICAibGluZUpvaW4iOiAicm91bmQiLAogICJvcGFjaXR5IjogMS4wLAogICJyYWRpdXMiOiAxLAogICJzdHJva2UiOiB0cnVlLAogICJ3ZWlnaHQiOiAzCn0KICAgICAgICAgICAgICAgICkuYWRkVG8obWFwXzFlZGMwYTkxMmMyMTQwYmFhM2Y4MmY2MzUzNjViYjY1KTsKICAgICAgICAgICAgCiAgICAKICAgICAgICAgICAgdmFyIHBvcHVwXzdhZDQ1OTkyMmMyMDQzZDVhY2QxNzViZDc0OTJlMGI2ID0gTC5wb3B1cCh7bWF4V2lkdGg6ICczMDAnfSk7CgogICAgICAgICAgICAKICAgICAgICAgICAgICAgIHZhciBodG1sXzBhNTdhYTJhZGNmNDRjM2FiM2FkMGJhOTg4MzlhYzc0ID0gJCgnPGRpdiBpZD0iaHRtbF8wYTU3YWEyYWRjZjQ0YzNhYjNhZDBiYTk4ODM5YWM3NCIgc3R5bGU9IndpZHRoOiAxMDAuMCU7IGhlaWdodDogMTAwLjAlOyI+RFA2MjpTYWx5xIFuPC9kaXY+JylbMF07CiAgICAgICAgICAgICAgICBwb3B1cF83YWQ0NTk5MjJjMjA0M2Q1YWNkMTc1YmQ3NDkyZTBiNi5zZXRDb250ZW50KGh0bWxfMGE1N2FhMmFkY2Y0NGMzYWIzYWQwYmE5ODgzOWFjNzQpOwogICAgICAgICAgICAKCiAgICAgICAgICAgIGNpcmNsZV9tYXJrZXJfOGIzYjQzNjI1MjFlNDEyNjlhZjE2ZTRjYjY1OTdjYjIuYmluZFBvcHVwKHBvcHVwXzdhZDQ1OTkyMmMyMDQzZDVhY2QxNzViZDc0OTJlMGI2KTsKCiAgICAgICAgICAgIAogICAgICAgIAogICAgCiAgICAgICAgICAgIHZhciBjaXJjbGVfbWFya2VyXzMyYjUwODAyMjA1MzRiYWM5ZjRmMmNkODUxZGJjOTg4ID0gTC5jaXJjbGVNYXJrZXIoCiAgICAgICAgICAgICAgICBbMjcuNjcyOTgsODUuNDMwMDVdLAogICAgICAgICAgICAgICAgewogICJidWJibGluZ01vdXNlRXZlbnRzIjogdHJ1ZSwKICAiY29sb3IiOiAicmVkIiwKICAiZGFzaEFycmF5IjogbnVsbCwKICAiZGFzaE9mZnNldCI6IG51bGwsCiAgImZpbGwiOiBmYWxzZSwKICAiZmlsbENvbG9yIjogInJlZCIsCiAgImZpbGxPcGFjaXR5IjogMC4yLAogICJmaWxsUnVsZSI6ICJldmVub2RkIiwKICAibGluZUNhcCI6ICJyb3VuZCIsCiAgImxpbmVKb2luIjogInJvdW5kIiwKICAib3BhY2l0eSI6IDEuMCwKICAicmFkaXVzIjogMSwKICAic3Ryb2tlIjogdHJ1ZSwKICAid2VpZ2h0IjogMwp9CiAgICAgICAgICAgICAgICApLmFkZFRvKG1hcF8xZWRjMGE5MTJjMjE0MGJhYTNmODJmNjM1MzY1YmI2NSk7CiAgICAgICAgICAgIAogICAgCiAgICAgICAgICAgIHZhciBwb3B1cF9jMjAzOTMwMzIxOGE0NDZmOTkxODQ1MzdmMjA2NjBkYSA9IEwucG9wdXAoe21heFdpZHRoOiAnMzAwJ30pOwoKICAgICAgICAgICAgCiAgICAgICAgICAgICAgICB2YXIgaHRtbF9iZGZmZmMxODc2ZmM0MjhmOGM2M2E3YWQ4MWQ4NTkwYSA9ICQoJzxkaXYgaWQ9Imh0bWxfYmRmZmZjMTg3NmZjNDI4ZjhjNjNhN2FkODFkODU5MGEiIHN0eWxlPSJ3aWR0aDogMTAwLjAlOyBoZWlnaHQ6IDEwMC4wJTsiPkRQNjM6Qmhha3RhcHVyPC9kaXY+JylbMF07CiAgICAgICAgICAgICAgICBwb3B1cF9jMjAzOTMwMzIxOGE0NDZmOTkxODQ1MzdmMjA2NjBkYS5zZXRDb250ZW50KGh0bWxfYmRmZmZjMTg3NmZjNDI4ZjhjNjNhN2FkODFkODU5MGEpOwogICAgICAgICAgICAKCiAgICAgICAgICAgIGNpcmNsZV9tYXJrZXJfMzJiNTA4MDIyMDUzNGJhYzlmNGYyY2Q4NTFkYmM5ODguYmluZFBvcHVwKHBvcHVwX2MyMDM5MzAzMjE4YTQ0NmY5OTE4NDUzN2YyMDY2MGRhKTsKCiAgICAgICAgICAgIAogICAgICAgIAogICAgCiAgICAgICAgICAgIHZhciBjaXJjbGVfbWFya2VyX2ExMjc4ZmNjYzQwMzQ4OTg4NDVkMWZlYjdiYmExMTdiID0gTC5jaXJjbGVNYXJrZXIoCiAgICAgICAgICAgICAgICBbMjkuMDUsODEuM10sCiAgICAgICAgICAgICAgICB7CiAgImJ1YmJsaW5nTW91c2VFdmVudHMiOiB0cnVlLAogICJjb2xvciI6ICJyZWQiLAogICJkYXNoQXJyYXkiOiBudWxsLAogICJkYXNoT2Zmc2V0IjogbnVsbCwKICAiZmlsbCI6IGZhbHNlLAogICJmaWxsQ29sb3IiOiAicmVkIiwKICAiZmlsbE9wYWNpdHkiOiAwLjIsCiAgImZpbGxSdWxlIjogImV2ZW5vZGQiLAogICJsaW5lQ2FwIjogInJvdW5kIiwKICAibGluZUpvaW4iOiAicm91bmQiLAogICJvcGFjaXR5IjogMS4wLAogICJyYWRpdXMiOiAxLAogICJzdHJva2UiOiB0cnVlLAogICJ3ZWlnaHQiOiAzCn0KICAgICAgICAgICAgICAgICkuYWRkVG8obWFwXzFlZGMwYTkxMmMyMTQwYmFhM2Y4MmY2MzUzNjViYjY1KTsKICAgICAgICAgICAgCiAgICAKICAgICAgICAgICAgdmFyIHBvcHVwXzk2MWNkZDRmMDlkZDRkZjM4ZDMwYzBlZTQyMTJlZTFlID0gTC5wb3B1cCh7bWF4V2lkdGg6ICczMDAnfSk7CgogICAgICAgICAgICAKICAgICAgICAgICAgICAgIHZhciBodG1sXzJhNGEyMzdiYzM4NjQwMzZiOWM2MjU1OGE0YzEwNzhlID0gJCgnPGRpdiBpZD0iaHRtbF8yYTRhMjM3YmMzODY0MDM2YjljNjI1NThhNGMxMDc4ZSIgc3R5bGU9IndpZHRoOiAxMDAuMCU7IGhlaWdodDogMTAwLjAlOyI+RFA2NDpBY2hoxIFtPC9kaXY+JylbMF07CiAgICAgICAgICAgICAgICBwb3B1cF85NjFjZGQ0ZjA5ZGQ0ZGYzOGQzMGMwZWU0MjEyZWUxZS5zZXRDb250ZW50KGh0bWxfMmE0YTIzN2JjMzg2NDAzNmI5YzYyNTU4YTRjMTA3OGUpOwogICAgICAgICAgICAKCiAgICAgICAgICAgIGNpcmNsZV9tYXJrZXJfYTEyNzhmY2NjNDAzNDg5ODg0NWQxZmViN2JiYTExN2IuYmluZFBvcHVwKHBvcHVwXzk2MWNkZDRmMDlkZDRkZjM4ZDMwYzBlZTQyMTJlZTFlKTsKCiAgICAgICAgICAgIAogICAgICAgIAogICAgCiAgICAgICAgICAgIHZhciBjaXJjbGVfbWFya2VyXzBjYjBhOWYzNmFmYTQ4MTliYjVjMGVkOGY1ZWM3MjQ0ID0gTC5jaXJjbGVNYXJrZXIoCiAgICAgICAgICAgICAgICBbMjcuNjk2NTk5OTYwMzAwMDAyLDg1LjM1OTEwMDM0MTc5OTk5XSwKICAgICAgICAgICAgICAgIHsKICAiYnViYmxpbmdNb3VzZUV2ZW50cyI6IHRydWUsCiAgImNvbG9yIjogImJsdWUiLAogICJkYXNoQXJyYXkiOiBudWxsLAogICJkYXNoT2Zmc2V0IjogbnVsbCwKICAiZmlsbCI6IGZhbHNlLAogICJmaWxsQ29sb3IiOiAiYmx1ZSIsCiAgImZpbGxPcGFjaXR5IjogMC4yLAogICJmaWxsUnVsZSI6ICJldmVub2RkIiwKICAibGluZUNhcCI6ICJyb3VuZCIsCiAgImxpbmVKb2luIjogInJvdW5kIiwKICAib3BhY2l0eSI6IDEuMCwKICAicmFkaXVzIjogMywKICAic3Ryb2tlIjogdHJ1ZSwKICAid2VpZ2h0IjogMwp9CiAgICAgICAgICAgICAgICApLmFkZFRvKG1hcF8xZWRjMGE5MTJjMjE0MGJhYTNmODJmNjM1MzY1YmI2NSk7CiAgICAgICAgICAgIAogICAgCiAgICAgICAgICAgIHZhciBjaXJjbGVfbWFya2VyX2Y2YzU0OGE4Y2FhYzQyMmE4OWE1NGJjNTQ3NDlhMmFiID0gTC5jaXJjbGVNYXJrZXIoCiAgICAgICAgICAgICAgICBbMjYuNjg0OTkzMTAwMDAwMDAzLDg3Ljk5MDg4NDRdLAogICAgICAgICAgICAgICAgewogICJidWJibGluZ01vdXNlRXZlbnRzIjogdHJ1ZSwKICAiY29sb3IiOiAiZ3JlZW4iLAogICJkYXNoQXJyYXkiOiBudWxsLAogICJkYXNoT2Zmc2V0IjogbnVsbCwKICAiZmlsbCI6IGZhbHNlLAogICJmaWxsQ29sb3IiOiAiZ3JlZW4iLAogICJmaWxsT3BhY2l0eSI6IDAuMiwKICAiZmlsbFJ1bGUiOiAiZXZlbm9kZCIsCiAgImxpbmVDYXAiOiAicm91bmQiLAogICJsaW5lSm9pbiI6ICJyb3VuZCIsCiAgIm9wYWNpdHkiOiAxLjAsCiAgInJhZGl1cyI6IDMsCiAgInN0cm9rZSI6IHRydWUsCiAgIndlaWdodCI6IDMKfQogICAgICAgICAgICAgICAgKS5hZGRUbyhtYXBfMWVkYzBhOTEyYzIxNDBiYWEzZjgyZjYzNTM2NWJiNjUpOwogICAgICAgICAgICAKICAgIAogICAgICAgICAgICB2YXIgcG9wdXBfM2M0MDRiOTE0ZWE2NDg4MDkxYmUwNDRiMTVkNjMzYjAgPSBMLnBvcHVwKHttYXhXaWR0aDogJzMwMCd9KTsKCiAgICAgICAgICAgIAogICAgICAgICAgICAgICAgdmFyIGh0bWxfMjUzYjA3OGFmMDNiNGU3MzhlOGQ4ODlmOWFlMTgxMjEgPSAkKCc8ZGl2IGlkPSJodG1sXzI1M2IwNzhhZjAzYjRlNzM4ZThkODg5ZjlhZTE4MTIxIiBzdHlsZT0id2lkdGg6IDEwMC4wJTsgaGVpZ2h0OiAxMDAuMCU7Ij5GTE8wPC9kaXY+JylbMF07CiAgICAgICAgICAgICAgICBwb3B1cF8zYzQwNGI5MTRlYTY0ODgwOTFiZTA0NGIxNWQ2MzNiMC5zZXRDb250ZW50KGh0bWxfMjUzYjA3OGFmMDNiNGU3MzhlOGQ4ODlmOWFlMTgxMjEpOwogICAgICAgICAgICAKCiAgICAgICAgICAgIGNpcmNsZV9tYXJrZXJfZjZjNTQ4YThjYWFjNDIyYTg5YTU0YmM1NDc0OWEyYWIuYmluZFBvcHVwKHBvcHVwXzNjNDA0YjkxNGVhNjQ4ODA5MWJlMDQ0YjE1ZDYzM2IwKTsKCiAgICAgICAgICAgIAogICAgICAgIAogICAgCiAgICAgICAgICAgIHZhciBjaXJjbGVfbWFya2VyXzRhMGQwODZiZjYwMDQ2OTM4MzhkY2JiMTZjNmFjOGMyID0gTC5jaXJjbGVNYXJrZXIoCiAgICAgICAgICAgICAgICBbMjcuNjI5NjI2Nyw4NS41MjM3NDc3XSwKICAgICAgICAgICAgICAgIHsKICAiYnViYmxpbmdNb3VzZUV2ZW50cyI6IHRydWUsCiAgImNvbG9yIjogImdyZWVuIiwKICAiZGFzaEFycmF5IjogbnVsbCwKICAiZGFzaE9mZnNldCI6IG51bGwsCiAgImZpbGwiOiBmYWxzZSwKICAiZmlsbENvbG9yIjogImdyZWVuIiwKICAiZmlsbE9wYWNpdHkiOiAwLjIsCiAgImZpbGxSdWxlIjogImV2ZW5vZGQiLAogICJsaW5lQ2FwIjogInJvdW5kIiwKICAibGluZUpvaW4iOiAicm91bmQiLAogICJvcGFjaXR5IjogMS4wLAogICJyYWRpdXMiOiAzLAogICJzdHJva2UiOiB0cnVlLAogICJ3ZWlnaHQiOiAzCn0KICAgICAgICAgICAgICAgICkuYWRkVG8obWFwXzFlZGMwYTkxMmMyMTQwYmFhM2Y4MmY2MzUzNjViYjY1KTsKICAgICAgICAgICAgCiAgICAKICAgICAgICAgICAgdmFyIHBvcHVwXzAwODcxM2I2YzUzNDQ1OTRhNGY4OTU5YzZlOWVkYjE2ID0gTC5wb3B1cCh7bWF4V2lkdGg6ICczMDAnfSk7CgogICAgICAgICAgICAKICAgICAgICAgICAgICAgIHZhciBodG1sXzJjMWU4MDBhOGFhNTQzZjZiYzM3YWIyYmNjYzA1ZmNkID0gJCgnPGRpdiBpZD0iaHRtbF8yYzFlODAwYThhYTU0M2Y2YmMzN2FiMmJjY2MwNWZjZCIgc3R5bGU9IndpZHRoOiAxMDAuMCU7IGhlaWdodDogMTAwLjAlOyI+RkxPMTwvZGl2PicpWzBdOwogICAgICAgICAgICAgICAgcG9wdXBfMDA4NzEzYjZjNTM0NDU5NGE0Zjg5NTljNmU5ZWRiMTYuc2V0Q29udGVudChodG1sXzJjMWU4MDBhOGFhNTQzZjZiYzM3YWIyYmNjYzA1ZmNkKTsKICAgICAgICAgICAgCgogICAgICAgICAgICBjaXJjbGVfbWFya2VyXzRhMGQwODZiZjYwMDQ2OTM4MzhkY2JiMTZjNmFjOGMyLmJpbmRQb3B1cChwb3B1cF8wMDg3MTNiNmM1MzQ0NTk0YTRmODk1OWM2ZTllZGIxNik7CgogICAgICAgICAgICAKICAgICAgICAKICAgIAogICAgICAgICAgICB2YXIgY2lyY2xlX21hcmtlcl8xMjdjNDRjMTk3MWM0MDE0YTljYjY1NDQ5YTY2Y2U4OCA9IEwuY2lyY2xlTWFya2VyKAogICAgICAgICAgICAgICAgWzI4LjgwNjI5OSw4MS44MzgzMTczXSwKICAgICAgICAgICAgICAgIHsKICAiYnViYmxpbmdNb3VzZUV2ZW50cyI6IHRydWUsCiAgImNvbG9yIjogImdyZWVuIiwKICAiZGFzaEFycmF5IjogbnVsbCwKICAiZGFzaE9mZnNldCI6IG51bGwsCiAgImZpbGwiOiBmYWxzZSwKICAiZmlsbENvbG9yIjogImdyZWVuIiwKICAiZmlsbE9wYWNpdHkiOiAwLjIsCiAgImZpbGxSdWxlIjogImV2ZW5vZGQiLAogICJsaW5lQ2FwIjogInJvdW5kIiwKICAibGluZUpvaW4iOiAicm91bmQiLAogICJvcGFjaXR5IjogMS4wLAogICJyYWRpdXMiOiAzLAogICJzdHJva2UiOiB0cnVlLAogICJ3ZWlnaHQiOiAzCn0KICAgICAgICAgICAgICAgICkuYWRkVG8obWFwXzFlZGMwYTkxMmMyMTQwYmFhM2Y4MmY2MzUzNjViYjY1KTsKICAgICAgICAgICAgCiAgICAKICAgICAgICAgICAgdmFyIHBvcHVwXzdiMzMzZTIyNjFlOTQ4ZjU4NjAyZmJiMDA2MjUxNjZhID0gTC5wb3B1cCh7bWF4V2lkdGg6ICczMDAnfSk7CgogICAgICAgICAgICAKICAgICAgICAgICAgICAgIHZhciBodG1sX2IwYTMxMzcxY2RiNDQyYzFhZTU2NWUxNzc5MmI5NTJmID0gJCgnPGRpdiBpZD0iaHRtbF9iMGEzMTM3MWNkYjQ0MmMxYWU1NjVlMTc3OTJiOTUyZiIgc3R5bGU9IndpZHRoOiAxMDAuMCU7IGhlaWdodDogMTAwLjAlOyI+RkxPMjwvZGl2PicpWzBdOwogICAgICAgICAgICAgICAgcG9wdXBfN2IzMzNlMjI2MWU5NDhmNTg2MDJmYmIwMDYyNTE2NmEuc2V0Q29udGVudChodG1sX2IwYTMxMzcxY2RiNDQyYzFhZTU2NWUxNzc5MmI5NTJmKTsKICAgICAgICAgICAgCgogICAgICAgICAgICBjaXJjbGVfbWFya2VyXzEyN2M0NGMxOTcxYzQwMTRhOWNiNjU0NDlhNjZjZTg4LmJpbmRQb3B1cChwb3B1cF83YjMzM2UyMjYxZTk0OGY1ODYwMmZiYjAwNjI1MTY2YSk7CgogICAgICAgICAgICAKICAgICAgICAKICAgIAogICAgICAgICAgICB2YXIgY2lyY2xlX21hcmtlcl9iNTY0ZGE4Mjc4ZTA0MzU5ODAzN2Q2ZmRlODgxNzI5MCA9IEwuY2lyY2xlTWFya2VyKAogICAgICAgICAgICAgICAgWzI3LjcxNzc3ODQsODUuMzMwNTAzNzk5OTk5OTldLAogICAgICAgICAgICAgICAgewogICJidWJibGluZ01vdXNlRXZlbnRzIjogdHJ1ZSwKICAiY29sb3IiOiAiZ3JlZW4iLAogICJkYXNoQXJyYXkiOiBudWxsLAogICJkYXNoT2Zmc2V0IjogbnVsbCwKICAiZmlsbCI6IGZhbHNlLAogICJmaWxsQ29sb3IiOiAiZ3JlZW4iLAogICJmaWxsT3BhY2l0eSI6IDAuMiwKICAiZmlsbFJ1bGUiOiAiZXZlbm9kZCIsCiAgImxpbmVDYXAiOiAicm91bmQiLAogICJsaW5lSm9pbiI6ICJyb3VuZCIsCiAgIm9wYWNpdHkiOiAxLjAsCiAgInJhZGl1cyI6IDMsCiAgInN0cm9rZSI6IHRydWUsCiAgIndlaWdodCI6IDMKfQogICAgICAgICAgICAgICAgKS5hZGRUbyhtYXBfMWVkYzBhOTEyYzIxNDBiYWEzZjgyZjYzNTM2NWJiNjUpOwogICAgICAgICAgICAKICAgIAogICAgICAgICAgICB2YXIgcG9wdXBfYWM1OTY1ZjRlNDEzNDFjM2IxNTdmZGFlMzNlYjgxMzggPSBMLnBvcHVwKHttYXhXaWR0aDogJzMwMCd9KTsKCiAgICAgICAgICAgIAogICAgICAgICAgICAgICAgdmFyIGh0bWxfNWM4NTU3NTczZTcxNGNlYjg3NzQ5ODFiNmQ0MzVlYzkgPSAkKCc8ZGl2IGlkPSJodG1sXzVjODU1NzU3M2U3MTRjZWI4Nzc0OTgxYjZkNDM1ZWM5IiBzdHlsZT0id2lkdGg6IDEwMC4wJTsgaGVpZ2h0OiAxMDAuMCU7Ij5GTE8zPC9kaXY+JylbMF07CiAgICAgICAgICAgICAgICBwb3B1cF9hYzU5NjVmNGU0MTM0MWMzYjE1N2ZkYWUzM2ViODEzOC5zZXRDb250ZW50KGh0bWxfNWM4NTU3NTczZTcxNGNlYjg3NzQ5ODFiNmQ0MzVlYzkpOwogICAgICAgICAgICAKCiAgICAgICAgICAgIGNpcmNsZV9tYXJrZXJfYjU2NGRhODI3OGUwNDM1OTgwMzdkNmZkZTg4MTcyOTAuYmluZFBvcHVwKHBvcHVwX2FjNTk2NWY0ZTQxMzQxYzNiMTU3ZmRhZTMzZWI4MTM4KTsKCiAgICAgICAgICAgIAogICAgICAgIAogICAgCiAgICAgICAgICAgIHZhciBjaXJjbGVfbWFya2VyX2NkNzVkODU1ZmZhMjRiZjc4MTZjZmRmMjM1M2U1YmM3ID0gTC5jaXJjbGVNYXJrZXIoCiAgICAgICAgICAgICAgICBbMjYuOTA5MTg4Njk5OTk5OTk4LDg3LjkyNjY5NzJdLAogICAgICAgICAgICAgICAgewogICJidWJibGluZ01vdXNlRXZlbnRzIjogdHJ1ZSwKICAiY29sb3IiOiAiZ3JlZW4iLAogICJkYXNoQXJyYXkiOiBudWxsLAogICJkYXNoT2Zmc2V0IjogbnVsbCwKICAiZmlsbCI6IGZhbHNlLAogICJmaWxsQ29sb3IiOiAiZ3JlZW4iLAogICJmaWxsT3BhY2l0eSI6IDAuMiwKICAiZmlsbFJ1bGUiOiAiZXZlbm9kZCIsCiAgImxpbmVDYXAiOiAicm91bmQiLAogICJsaW5lSm9pbiI6ICJyb3VuZCIsCiAgIm9wYWNpdHkiOiAxLjAsCiAgInJhZGl1cyI6IDMsCiAgInN0cm9rZSI6IHRydWUsCiAgIndlaWdodCI6IDMKfQogICAgICAgICAgICAgICAgKS5hZGRUbyhtYXBfMWVkYzBhOTEyYzIxNDBiYWEzZjgyZjYzNTM2NWJiNjUpOwogICAgICAgICAgICAKICAgIAogICAgICAgICAgICB2YXIgcG9wdXBfOTgzODU2NTNiMjkzNGYxZmEzYjczNmUzY2VmMjk2NDUgPSBMLnBvcHVwKHttYXhXaWR0aDogJzMwMCd9KTsKCiAgICAgICAgICAgIAogICAgICAgICAgICAgICAgdmFyIGh0bWxfOGFlMjc5NDVmOTg1NGYyNWJhMzEzNjBjYTkzOTc2N2YgPSAkKCc8ZGl2IGlkPSJodG1sXzhhZTI3OTQ1Zjk4NTRmMjViYTMxMzYwY2E5Mzk3NjdmIiBzdHlsZT0id2lkdGg6IDEwMC4wJTsgaGVpZ2h0OiAxMDAuMCU7Ij5GTE80PC9kaXY+JylbMF07CiAgICAgICAgICAgICAgICBwb3B1cF85ODM4NTY1M2IyOTM0ZjFmYTNiNzM2ZTNjZWYyOTY0NS5zZXRDb250ZW50KGh0bWxfOGFlMjc5NDVmOTg1NGYyNWJhMzEzNjBjYTkzOTc2N2YpOwogICAgICAgICAgICAKCiAgICAgICAgICAgIGNpcmNsZV9tYXJrZXJfY2Q3NWQ4NTVmZmEyNGJmNzgxNmNmZGYyMzUzZTViYzcuYmluZFBvcHVwKHBvcHVwXzk4Mzg1NjUzYjI5MzRmMWZhM2I3MzZlM2NlZjI5NjQ1KTsKCiAgICAgICAgICAgIAogICAgICAgIAogICAgCiAgICAgICAgICAgIHZhciBjaXJjbGVfbWFya2VyXzY1MDA5OWFlZTg0YjQxYzg4Y2UwY2E3YWY4OTdjZTIyID0gTC5jaXJjbGVNYXJrZXIoCiAgICAgICAgICAgICAgICBbMjkuNTY4ODM2MTk5OTk5OTk2LDgwLjgwMTc0NzU5OTk5OTk4XSwKICAgICAgICAgICAgICAgIHsKICAiYnViYmxpbmdNb3VzZUV2ZW50cyI6IHRydWUsCiAgImNvbG9yIjogImdyZWVuIiwKICAiZGFzaEFycmF5IjogbnVsbCwKICAiZGFzaE9mZnNldCI6IG51bGwsCiAgImZpbGwiOiBmYWxzZSwKICAiZmlsbENvbG9yIjogImdyZWVuIiwKICAiZmlsbE9wYWNpdHkiOiAwLjIsCiAgImZpbGxSdWxlIjogImV2ZW5vZGQiLAogICJsaW5lQ2FwIjogInJvdW5kIiwKICAibGluZUpvaW4iOiAicm91bmQiLAogICJvcGFjaXR5IjogMS4wLAogICJyYWRpdXMiOiAzLAogICJzdHJva2UiOiB0cnVlLAogICJ3ZWlnaHQiOiAzCn0KICAgICAgICAgICAgICAgICkuYWRkVG8obWFwXzFlZGMwYTkxMmMyMTQwYmFhM2Y4MmY2MzUzNjViYjY1KTsKICAgICAgICAgICAgCiAgICAKICAgICAgICAgICAgdmFyIHBvcHVwXzMwZmMwYmE1ODlhMDQ3M2RhYzU0OGFhNjNmZTYyNDk2ID0gTC5wb3B1cCh7bWF4V2lkdGg6ICczMDAnfSk7CgogICAgICAgICAgICAKICAgICAgICAgICAgICAgIHZhciBodG1sXzk1ZDQxNGMzNWU1ODQzZGNiZWEyYmVhZjQ1NmRiODQwID0gJCgnPGRpdiBpZD0iaHRtbF85NWQ0MTRjMzVlNTg0M2RjYmVhMmJlYWY0NTZkYjg0MCIgc3R5bGU9IndpZHRoOiAxMDAuMCU7IGhlaWdodDogMTAwLjAlOyI+RkxPNTwvZGl2PicpWzBdOwogICAgICAgICAgICAgICAgcG9wdXBfMzBmYzBiYTU4OWEwNDczZGFjNTQ4YWE2M2ZlNjI0OTYuc2V0Q29udGVudChodG1sXzk1ZDQxNGMzNWU1ODQzZGNiZWEyYmVhZjQ1NmRiODQwKTsKICAgICAgICAgICAgCgogICAgICAgICAgICBjaXJjbGVfbWFya2VyXzY1MDA5OWFlZTg0YjQxYzg4Y2UwY2E3YWY4OTdjZTIyLmJpbmRQb3B1cChwb3B1cF8zMGZjMGJhNTg5YTA0NzNkYWM1NDhhYTYzZmU2MjQ5Nik7CgogICAgICAgICAgICAKICAgICAgICAKICAgIAogICAgICAgICAgICB2YXIgY2lyY2xlX21hcmtlcl83MGFhZTU2OGZiNTg0N2Q4YWQwZDk0OTU3YjJhMTUyMiA9IEwuY2lyY2xlTWFya2VyKAogICAgICAgICAgICAgICAgWzI4LjE2OTE4NSw4My4wMzc3ODZdLAogICAgICAgICAgICAgICAgewogICJidWJibGluZ01vdXNlRXZlbnRzIjogdHJ1ZSwKICAiY29sb3IiOiAiZ3JlZW4iLAogICJkYXNoQXJyYXkiOiBudWxsLAogICJkYXNoT2Zmc2V0IjogbnVsbCwKICAiZmlsbCI6IGZhbHNlLAogICJmaWxsQ29sb3IiOiAiZ3JlZW4iLAogICJmaWxsT3BhY2l0eSI6IDAuMiwKICAiZmlsbFJ1bGUiOiAiZXZlbm9kZCIsCiAgImxpbmVDYXAiOiAicm91bmQiLAogICJsaW5lSm9pbiI6ICJyb3VuZCIsCiAgIm9wYWNpdHkiOiAxLjAsCiAgInJhZGl1cyI6IDMsCiAgInN0cm9rZSI6IHRydWUsCiAgIndlaWdodCI6IDMKfQogICAgICAgICAgICAgICAgKS5hZGRUbyhtYXBfMWVkYzBhOTEyYzIxNDBiYWEzZjgyZjYzNTM2NWJiNjUpOwogICAgICAgICAgICAKICAgIAogICAgICAgICAgICB2YXIgcG9wdXBfZWUxZDNkYTc0NTc0NDNiMmI4OTQ0OTNkNmUwY2MxNTggPSBMLnBvcHVwKHttYXhXaWR0aDogJzMwMCd9KTsKCiAgICAgICAgICAgIAogICAgICAgICAgICAgICAgdmFyIGh0bWxfMjIyZTIxZDExMzc3NGFhZjhjMGQ4Y2QyNzk1NGY5NjQgPSAkKCc8ZGl2IGlkPSJodG1sXzIyMmUyMWQxMTM3NzRhYWY4YzBkOGNkMjc5NTRmOTY0IiBzdHlsZT0id2lkdGg6IDEwMC4wJTsgaGVpZ2h0OiAxMDAuMCU7Ij5GTE82PC9kaXY+JylbMF07CiAgICAgICAgICAgICAgICBwb3B1cF9lZTFkM2RhNzQ1NzQ0M2IyYjg5NDQ5M2Q2ZTBjYzE1OC5zZXRDb250ZW50KGh0bWxfMjIyZTIxZDExMzc3NGFhZjhjMGQ4Y2QyNzk1NGY5NjQpOwogICAgICAgICAgICAKCiAgICAgICAgICAgIGNpcmNsZV9tYXJrZXJfNzBhYWU1NjhmYjU4NDdkOGFkMGQ5NDk1N2IyYTE1MjIuYmluZFBvcHVwKHBvcHVwX2VlMWQzZGE3NDU3NDQzYjJiODk0NDkzZDZlMGNjMTU4KTsKCiAgICAgICAgICAgIAogICAgICAgIAogICAgCiAgICAgICAgICAgIHZhciBjaXJjbGVfbWFya2VyX2YzMTMwMzc4MTBhZDQ1NzdhYzUxYzM1NjhiOGVlMzQxID0gTC5jaXJjbGVNYXJrZXIoCiAgICAgICAgICAgICAgICBbMjguODExNjMxMSw4MC41NTMyMTY4XSwKICAgICAgICAgICAgICAgIHsKICAiYnViYmxpbmdNb3VzZUV2ZW50cyI6IHRydWUsCiAgImNvbG9yIjogImdyZWVuIiwKICAiZGFzaEFycmF5IjogbnVsbCwKICAiZGFzaE9mZnNldCI6IG51bGwsCiAgImZpbGwiOiBmYWxzZSwKICAiZmlsbENvbG9yIjogImdyZWVuIiwKICAiZmlsbE9wYWNpdHkiOiAwLjIsCiAgImZpbGxSdWxlIjogImV2ZW5vZGQiLAogICJsaW5lQ2FwIjogInJvdW5kIiwKICAibGluZUpvaW4iOiAicm91bmQiLAogICJvcGFjaXR5IjogMS4wLAogICJyYWRpdXMiOiAzLAogICJzdHJva2UiOiB0cnVlLAogICJ3ZWlnaHQiOiAzCn0KICAgICAgICAgICAgICAgICkuYWRkVG8obWFwXzFlZGMwYTkxMmMyMTQwYmFhM2Y4MmY2MzUzNjViYjY1KTsKICAgICAgICAgICAgCiAgICAKICAgICAgICAgICAgdmFyIHBvcHVwX2I5ZGI1M2NkMTZmZDQ3NjBhNmQ5ZTkyNWU5YzQyNGJiID0gTC5wb3B1cCh7bWF4V2lkdGg6ICczMDAnfSk7CgogICAgICAgICAgICAKICAgICAgICAgICAgICAgIHZhciBodG1sXzg4MjExMTNmZWNhZTRiNzA5ZmVkZmZjYzE4OTJiMGQ3ID0gJCgnPGRpdiBpZD0iaHRtbF84ODIxMTEzZmVjYWU0YjcwOWZlZGZmY2MxODkyYjBkNyIgc3R5bGU9IndpZHRoOiAxMDAuMCU7IGhlaWdodDogMTAwLjAlOyI+RkxPNzwvZGl2PicpWzBdOwogICAgICAgICAgICAgICAgcG9wdXBfYjlkYjUzY2QxNmZkNDc2MGE2ZDllOTI1ZTljNDI0YmIuc2V0Q29udGVudChodG1sXzg4MjExMTNmZWNhZTRiNzA5ZmVkZmZjYzE4OTJiMGQ3KTsKICAgICAgICAgICAgCgogICAgICAgICAgICBjaXJjbGVfbWFya2VyX2YzMTMwMzc4MTBhZDQ1NzdhYzUxYzM1NjhiOGVlMzQxLmJpbmRQb3B1cChwb3B1cF9iOWRiNTNjZDE2ZmQ0NzYwYTZkOWU5MjVlOWM0MjRiYik7CgogICAgICAgICAgICAKICAgICAgICAKICAgIAogICAgICAgICAgICB2YXIgY2lyY2xlX21hcmtlcl9lZWU2ZGJiZGZkYWE0ZGE1OWEwYTE3ZjhmMTkyNDgxNiA9IEwuY2lyY2xlTWFya2VyKAogICAgICAgICAgICAgICAgWzI4LjA0NzU0MTgsODMuNzQ5NjM4MTk5OTk5OTldLAogICAgICAgICAgICAgICAgewogICJidWJibGluZ01vdXNlRXZlbnRzIjogdHJ1ZSwKICAiY29sb3IiOiAiZ3JlZW4iLAogICJkYXNoQXJyYXkiOiBudWxsLAogICJkYXNoT2Zmc2V0IjogbnVsbCwKICAiZmlsbCI6IGZhbHNlLAogICJmaWxsQ29sb3IiOiAiZ3JlZW4iLAogICJmaWxsT3BhY2l0eSI6IDAuMiwKICAiZmlsbFJ1bGUiOiAiZXZlbm9kZCIsCiAgImxpbmVDYXAiOiAicm91bmQiLAogICJsaW5lSm9pbiI6ICJyb3VuZCIsCiAgIm9wYWNpdHkiOiAxLjAsCiAgInJhZGl1cyI6IDMsCiAgInN0cm9rZSI6IHRydWUsCiAgIndlaWdodCI6IDMKfQogICAgICAgICAgICAgICAgKS5hZGRUbyhtYXBfMWVkYzBhOTEyYzIxNDBiYWEzZjgyZjYzNTM2NWJiNjUpOwogICAgICAgICAgICAKICAgIAogICAgICAgICAgICB2YXIgcG9wdXBfYzFiYTExMGZiYjIwNGI2YjliMTdhMTg1YzZlM2EwNDAgPSBMLnBvcHVwKHttYXhXaWR0aDogJzMwMCd9KTsKCiAgICAgICAgICAgIAogICAgICAgICAgICAgICAgdmFyIGh0bWxfNzJhYjU0N2JkMTIwNGY2YzljYjExYjFhMGNkNTIwMTAgPSAkKCc8ZGl2IGlkPSJodG1sXzcyYWI1NDdiZDEyMDRmNmM5Y2IxMWIxYTBjZDUyMDEwIiBzdHlsZT0id2lkdGg6IDEwMC4wJTsgaGVpZ2h0OiAxMDAuMCU7Ij5GTE84PC9kaXY+JylbMF07CiAgICAgICAgICAgICAgICBwb3B1cF9jMWJhMTEwZmJiMjA0YjZiOWIxN2ExODVjNmUzYTA0MC5zZXRDb250ZW50KGh0bWxfNzJhYjU0N2JkMTIwNGY2YzljYjExYjFhMGNkNTIwMTApOwogICAgICAgICAgICAKCiAgICAgICAgICAgIGNpcmNsZV9tYXJrZXJfZWVlNmRiYmRmZGFhNGRhNTlhMGExN2Y4ZjE5MjQ4MTYuYmluZFBvcHVwKHBvcHVwX2MxYmExMTBmYmIyMDRiNmI5YjE3YTE4NWM2ZTNhMDQwKTsKCiAgICAgICAgICAgIAogICAgICAgIAogICAgCiAgICAgICAgICAgIHZhciBjaXJjbGVfbWFya2VyXzVjZDFiMDNkMTNkZjQxMDViMDYzYjRjMDE4MzZmY2IzID0gTC5jaXJjbGVNYXJrZXIoCiAgICAgICAgICAgICAgICBbMjYuNjUyNTI0NSw4Ny40NDkzOTc2XSwKICAgICAgICAgICAgICAgIHsKICAiYnViYmxpbmdNb3VzZUV2ZW50cyI6IHRydWUsCiAgImNvbG9yIjogImdyZWVuIiwKICAiZGFzaEFycmF5IjogbnVsbCwKICAiZGFzaE9mZnNldCI6IG51bGwsCiAgImZpbGwiOiBmYWxzZSwKICAiZmlsbENvbG9yIjogImdyZWVuIiwKICAiZmlsbE9wYWNpdHkiOiAwLjIsCiAgImZpbGxSdWxlIjogImV2ZW5vZGQiLAogICJsaW5lQ2FwIjogInJvdW5kIiwKICAibGluZUpvaW4iOiAicm91bmQiLAogICJvcGFjaXR5IjogMS4wLAogICJyYWRpdXMiOiAzLAogICJzdHJva2UiOiB0cnVlLAogICJ3ZWlnaHQiOiAzCn0KICAgICAgICAgICAgICAgICkuYWRkVG8obWFwXzFlZGMwYTkxMmMyMTQwYmFhM2Y4MmY2MzUzNjViYjY1KTsKICAgICAgICAgICAgCiAgICAKICAgICAgICAgICAgdmFyIHBvcHVwX2VkZTZiN2NhNTIzZjRiYmRiNGNlNzljNjI2NmFhYTBmID0gTC5wb3B1cCh7bWF4V2lkdGg6ICczMDAnfSk7CgogICAgICAgICAgICAKICAgICAgICAgICAgICAgIHZhciBodG1sXzA1ZjQyMjBkMmQ5MTQ0YjZhMDBkOTY0NzBhYTRhNWFjID0gJCgnPGRpdiBpZD0iaHRtbF8wNWY0MjIwZDJkOTE0NGI2YTAwZDk2NDcwYWE0YTVhYyIgc3R5bGU9IndpZHRoOiAxMDAuMCU7IGhlaWdodDogMTAwLjAlOyI+RkxPOTwvZGl2PicpWzBdOwogICAgICAgICAgICAgICAgcG9wdXBfZWRlNmI3Y2E1MjNmNGJiZGI0Y2U3OWM2MjY2YWFhMGYuc2V0Q29udGVudChodG1sXzA1ZjQyMjBkMmQ5MTQ0YjZhMDBkOTY0NzBhYTRhNWFjKTsKICAgICAgICAgICAgCgogICAgICAgICAgICBjaXJjbGVfbWFya2VyXzVjZDFiMDNkMTNkZjQxMDViMDYzYjRjMDE4MzZmY2IzLmJpbmRQb3B1cChwb3B1cF9lZGU2YjdjYTUyM2Y0YmJkYjRjZTc5YzYyNjZhYWEwZik7CgogICAgICAgICAgICAKICAgICAgICAKICAgIAogICAgICAgICAgICB2YXIgY2lyY2xlX21hcmtlcl9jNzBiNWE5ZmU0YmQ0YmVhYTc1Y2UyOWIwYmJkNzQ0NiA9IEwuY2lyY2xlTWFya2VyKAogICAgICAgICAgICAgICAgWzI2LjY3MTIyNjIsODcuNzAzMTAyM10sCiAgICAgICAgICAgICAgICB7CiAgImJ1YmJsaW5nTW91c2VFdmVudHMiOiB0cnVlLAogICJjb2xvciI6ICJncmVlbiIsCiAgImRhc2hBcnJheSI6IG51bGwsCiAgImRhc2hPZmZzZXQiOiBudWxsLAogICJmaWxsIjogZmFsc2UsCiAgImZpbGxDb2xvciI6ICJncmVlbiIsCiAgImZpbGxPcGFjaXR5IjogMC4yLAogICJmaWxsUnVsZSI6ICJldmVub2RkIiwKICAibGluZUNhcCI6ICJyb3VuZCIsCiAgImxpbmVKb2luIjogInJvdW5kIiwKICAib3BhY2l0eSI6IDEuMCwKICAicmFkaXVzIjogMywKICAic3Ryb2tlIjogdHJ1ZSwKICAid2VpZ2h0IjogMwp9CiAgICAgICAgICAgICAgICApLmFkZFRvKG1hcF8xZWRjMGE5MTJjMjE0MGJhYTNmODJmNjM1MzY1YmI2NSk7CiAgICAgICAgICAgIAogICAgCiAgICAgICAgICAgIHZhciBwb3B1cF9jNDIzNDBkZmI2YzQ0NjgwYjMwNzlkNGRkZDYxZTBkYyA9IEwucG9wdXAoe21heFdpZHRoOiAnMzAwJ30pOwoKICAgICAgICAgICAgCiAgICAgICAgICAgICAgICB2YXIgaHRtbF82OTlmYjE1OWUyNmY0MTc3YTI0M2JlNmI0NGM4ZDkxNSA9ICQoJzxkaXYgaWQ9Imh0bWxfNjk5ZmIxNTllMjZmNDE3N2EyNDNiZTZiNDRjOGQ5MTUiIHN0eWxlPSJ3aWR0aDogMTAwLjAlOyBoZWlnaHQ6IDEwMC4wJTsiPkZMTzEwPC9kaXY+JylbMF07CiAgICAgICAgICAgICAgICBwb3B1cF9jNDIzNDBkZmI2YzQ0NjgwYjMwNzlkNGRkZDYxZTBkYy5zZXRDb250ZW50KGh0bWxfNjk5ZmIxNTllMjZmNDE3N2EyNDNiZTZiNDRjOGQ5MTUpOwogICAgICAgICAgICAKCiAgICAgICAgICAgIGNpcmNsZV9tYXJrZXJfYzcwYjVhOWZlNGJkNGJlYWE3NWNlMjliMGJiZDc0NDYuYmluZFBvcHVwKHBvcHVwX2M0MjM0MGRmYjZjNDQ2ODBiMzA3OWQ0ZGRkNjFlMGRjKTsKCiAgICAgICAgICAgIAogICAgICAgIAogICAgCiAgICAgICAgICAgIHZhciBjaXJjbGVfbWFya2VyX2M5NzVhMTM0NTVlMDQ4MGJiNWJiMjQzOTgxYTc0YThhID0gTC5jaXJjbGVNYXJrZXIoCiAgICAgICAgICAgICAgICBbMjcuNjgxNDAyOCw4NC40MzE1MDEyXSwKICAgICAgICAgICAgICAgIHsKICAiYnViYmxpbmdNb3VzZUV2ZW50cyI6IHRydWUsCiAgImNvbG9yIjogImdyZWVuIiwKICAiZGFzaEFycmF5IjogbnVsbCwKICAiZGFzaE9mZnNldCI6IG51bGwsCiAgImZpbGwiOiBmYWxzZSwKICAiZmlsbENvbG9yIjogImdyZWVuIiwKICAiZmlsbE9wYWNpdHkiOiAwLjIsCiAgImZpbGxSdWxlIjogImV2ZW5vZGQiLAogICJsaW5lQ2FwIjogInJvdW5kIiwKICAibGluZUpvaW4iOiAicm91bmQiLAogICJvcGFjaXR5IjogMS4wLAogICJyYWRpdXMiOiAzLAogICJzdHJva2UiOiB0cnVlLAogICJ3ZWlnaHQiOiAzCn0KICAgICAgICAgICAgICAgICkuYWRkVG8obWFwXzFlZGMwYTkxMmMyMTQwYmFhM2Y4MmY2MzUzNjViYjY1KTsKICAgICAgICAgICAgCiAgICAKICAgICAgICAgICAgdmFyIHBvcHVwX2Q4NWQwNmI4NDlhZTQ3MDM4MDY0ZjA2YTI0ZDYwNDJhID0gTC5wb3B1cCh7bWF4V2lkdGg6ICczMDAnfSk7CgogICAgICAgICAgICAKICAgICAgICAgICAgICAgIHZhciBodG1sXzE1OGJiNjZkMzNhOTQ0YzBhODNlNzRiMzQ3M2I0ZGE1ID0gJCgnPGRpdiBpZD0iaHRtbF8xNThiYjY2ZDMzYTk0NGMwYTgzZTc0YjM0NzNiNGRhNSIgc3R5bGU9IndpZHRoOiAxMDAuMCU7IGhlaWdodDogMTAwLjAlOyI+RkxPMTE8L2Rpdj4nKVswXTsKICAgICAgICAgICAgICAgIHBvcHVwX2Q4NWQwNmI4NDlhZTQ3MDM4MDY0ZjA2YTI0ZDYwNDJhLnNldENvbnRlbnQoaHRtbF8xNThiYjY2ZDMzYTk0NGMwYTgzZTc0YjM0NzNiNGRhNSk7CiAgICAgICAgICAgIAoKICAgICAgICAgICAgY2lyY2xlX21hcmtlcl9jOTc1YTEzNDU1ZTA0ODBiYjViYjI0Mzk4MWE3NGE4YS5iaW5kUG9wdXAocG9wdXBfZDg1ZDA2Yjg0OWFlNDcwMzgwNjRmMDZhMjRkNjA0MmEpOwoKICAgICAgICAgICAgCiAgICAgICAgCiAgICAKICAgICAgICAgICAgdmFyIGNpcmNsZV9tYXJrZXJfMjU0MzdhOTEzMzBmNDhjOGI4NjFlN2VkMWYzNmQwZDcgPSBMLmNpcmNsZU1hcmtlcigKICAgICAgICAgICAgICAgIFsyNi41MzgwNDAyLDg2Ljc0MjgwMzAwMDAwMDAxXSwKICAgICAgICAgICAgICAgIHsKICAiYnViYmxpbmdNb3VzZUV2ZW50cyI6IHRydWUsCiAgImNvbG9yIjogImdyZWVuIiwKICAiZGFzaEFycmF5IjogbnVsbCwKICAiZGFzaE9mZnNldCI6IG51bGwsCiAgImZpbGwiOiBmYWxzZSwKICAiZmlsbENvbG9yIjogImdyZWVuIiwKICAiZmlsbE9wYWNpdHkiOiAwLjIsCiAgImZpbGxSdWxlIjogImV2ZW5vZGQiLAogICJsaW5lQ2FwIjogInJvdW5kIiwKICAibGluZUpvaW4iOiAicm91bmQiLAogICJvcGFjaXR5IjogMS4wLAogICJyYWRpdXMiOiAzLAogICJzdHJva2UiOiB0cnVlLAogICJ3ZWlnaHQiOiAzCn0KICAgICAgICAgICAgICAgICkuYWRkVG8obWFwXzFlZGMwYTkxMmMyMTQwYmFhM2Y4MmY2MzUzNjViYjY1KTsKICAgICAgICAgICAgCiAgICAKICAgICAgICAgICAgdmFyIHBvcHVwX2I5YjRjYTYzZjVkYzQ3MWRiYWMxZWE5YTc2ZDJjYzc3ID0gTC5wb3B1cCh7bWF4V2lkdGg6ICczMDAnfSk7CgogICAgICAgICAgICAKICAgICAgICAgICAgICAgIHZhciBodG1sXzIyYjQ0MzhhMjUwYzQ1ODZhN2Y0MzUxODRlMTczZTBlID0gJCgnPGRpdiBpZD0iaHRtbF8yMmI0NDM4YTI1MGM0NTg2YTdmNDM1MTg0ZTE3M2UwZSIgc3R5bGU9IndpZHRoOiAxMDAuMCU7IGhlaWdodDogMTAwLjAlOyI+RkxPMTI8L2Rpdj4nKVswXTsKICAgICAgICAgICAgICAgIHBvcHVwX2I5YjRjYTYzZjVkYzQ3MWRiYWMxZWE5YTc2ZDJjYzc3LnNldENvbnRlbnQoaHRtbF8yMmI0NDM4YTI1MGM0NTg2YTdmNDM1MTg0ZTE3M2UwZSk7CiAgICAgICAgICAgIAoKICAgICAgICAgICAgY2lyY2xlX21hcmtlcl8yNTQzN2E5MTMzMGY0OGM4Yjg2MWU3ZWQxZjM2ZDBkNy5iaW5kUG9wdXAocG9wdXBfYjliNGNhNjNmNWRjNDcxZGJhYzFlYTlhNzZkMmNjNzcpOwoKICAgICAgICAgICAgCiAgICAgICAgCiAgICAKICAgICAgICAgICAgdmFyIGNpcmNsZV9tYXJrZXJfYTk0YTI1ZjYyNDMzNDI0MDhlNDA0YTE3YjkzN2M2YjcgPSBMLmNpcmNsZU1hcmtlcigKICAgICAgICAgICAgICAgIFsyNy40NDE5OTMxMDAwMDAwMDUsODUuMDc5MjQ2OV0sCiAgICAgICAgICAgICAgICB7CiAgImJ1YmJsaW5nTW91c2VFdmVudHMiOiB0cnVlLAogICJjb2xvciI6ICJncmVlbiIsCiAgImRhc2hBcnJheSI6IG51bGwsCiAgImRhc2hPZmZzZXQiOiBudWxsLAogICJmaWxsIjogZmFsc2UsCiAgImZpbGxDb2xvciI6ICJncmVlbiIsCiAgImZpbGxPcGFjaXR5IjogMC4yLAogICJmaWxsUnVsZSI6ICJldmVub2RkIiwKICAibGluZUNhcCI6ICJyb3VuZCIsCiAgImxpbmVKb2luIjogInJvdW5kIiwKICAib3BhY2l0eSI6IDEuMCwKICAicmFkaXVzIjogMywKICAic3Ryb2tlIjogdHJ1ZSwKICAid2VpZ2h0IjogMwp9CiAgICAgICAgICAgICAgICApLmFkZFRvKG1hcF8xZWRjMGE5MTJjMjE0MGJhYTNmODJmNjM1MzY1YmI2NSk7CiAgICAgICAgICAgIAogICAgCiAgICAgICAgICAgIHZhciBwb3B1cF82OTVlYTgxYzgxZmM0MmEzOTRlMGQ5MGUyYzAyY2M4MCA9IEwucG9wdXAoe21heFdpZHRoOiAnMzAwJ30pOwoKICAgICAgICAgICAgCiAgICAgICAgICAgICAgICB2YXIgaHRtbF84NjJiODEzYTcxNmM0MjFiODk2NDBmZmE3Nzk1ZmJlZCA9ICQoJzxkaXYgaWQ9Imh0bWxfODYyYjgxM2E3MTZjNDIxYjg5NjQwZmZhNzc5NWZiZWQiIHN0eWxlPSJ3aWR0aDogMTAwLjAlOyBoZWlnaHQ6IDEwMC4wJTsiPkZMTzEzPC9kaXY+JylbMF07CiAgICAgICAgICAgICAgICBwb3B1cF82OTVlYTgxYzgxZmM0MmEzOTRlMGQ5MGUyYzAyY2M4MC5zZXRDb250ZW50KGh0bWxfODYyYjgxM2E3MTZjNDIxYjg5NjQwZmZhNzc5NWZiZWQpOwogICAgICAgICAgICAKCiAgICAgICAgICAgIGNpcmNsZV9tYXJrZXJfYTk0YTI1ZjYyNDMzNDI0MDhlNDA0YTE3YjkzN2M2YjcuYmluZFBvcHVwKHBvcHVwXzY5NWVhODFjODFmYzQyYTM5NGUwZDkwZTJjMDJjYzgwKTsKCiAgICAgICAgICAgIAogICAgICAgIAogICAgCiAgICAgICAgICAgIHZhciBjaXJjbGVfbWFya2VyXzE4ZTAyY2FkOGJmMTRkYmViNTNmZWVkMTE4MzExMjY3ID0gTC5jaXJjbGVNYXJrZXIoCiAgICAgICAgICAgICAgICBbMjcuNjY5OTQyOCw4NS4zMDk4MTJdLAogICAgICAgICAgICAgICAgewogICJidWJibGluZ01vdXNlRXZlbnRzIjogdHJ1ZSwKICAiY29sb3IiOiAiZ3JlZW4iLAogICJkYXNoQXJyYXkiOiBudWxsLAogICJkYXNoT2Zmc2V0IjogbnVsbCwKICAiZmlsbCI6IGZhbHNlLAogICJmaWxsQ29sb3IiOiAiZ3JlZW4iLAogICJmaWxsT3BhY2l0eSI6IDAuMiwKICAiZmlsbFJ1bGUiOiAiZXZlbm9kZCIsCiAgImxpbmVDYXAiOiAicm91bmQiLAogICJsaW5lSm9pbiI6ICJyb3VuZCIsCiAgIm9wYWNpdHkiOiAxLjAsCiAgInJhZGl1cyI6IDMsCiAgInN0cm9rZSI6IHRydWUsCiAgIndlaWdodCI6IDMKfQogICAgICAgICAgICAgICAgKS5hZGRUbyhtYXBfMWVkYzBhOTEyYzIxNDBiYWEzZjgyZjYzNTM2NWJiNjUpOwogICAgICAgICAgICAKICAgIAogICAgICAgICAgICB2YXIgcG9wdXBfMTE2MDBmMTUxMmRmNDdmMzhkZDhhY2Y1NDIxODQ5ZjYgPSBMLnBvcHVwKHttYXhXaWR0aDogJzMwMCd9KTsKCiAgICAgICAgICAgIAogICAgICAgICAgICAgICAgdmFyIGh0bWxfNmNjZmNiN2Q1MDJiNDUwMGJhYWNhNWFhOWNiZDBmN2MgPSAkKCc8ZGl2IGlkPSJodG1sXzZjY2ZjYjdkNTAyYjQ1MDBiYWFjYTVhYTljYmQwZjdjIiBzdHlsZT0id2lkdGg6IDEwMC4wJTsgaGVpZ2h0OiAxMDAuMCU7Ij5GTE8xNDwvZGl2PicpWzBdOwogICAgICAgICAgICAgICAgcG9wdXBfMTE2MDBmMTUxMmRmNDdmMzhkZDhhY2Y1NDIxODQ5ZjYuc2V0Q29udGVudChodG1sXzZjY2ZjYjdkNTAyYjQ1MDBiYWFjYTVhYTljYmQwZjdjKTsKICAgICAgICAgICAgCgogICAgICAgICAgICBjaXJjbGVfbWFya2VyXzE4ZTAyY2FkOGJmMTRkYmViNTNmZWVkMTE4MzExMjY3LmJpbmRQb3B1cChwb3B1cF8xMTYwMGYxNTEyZGY0N2YzOGRkOGFjZjU0MjE4NDlmNik7CgogICAgICAgICAgICAKICAgICAgICAKICAgIAogICAgICAgICAgICB2YXIgY2lyY2xlX21hcmtlcl8yNzExZmYwNGFkM2M0NTRkOGVjZDlhYjYyYzNlMjk0YiA9IEwuY2lyY2xlTWFya2VyKAogICAgICAgICAgICAgICAgWzI3Ljk5NDY1ODI5OTk5OTk5OCw4NC42MjgxMjc1XSwKICAgICAgICAgICAgICAgIHsKICAiYnViYmxpbmdNb3VzZUV2ZW50cyI6IHRydWUsCiAgImNvbG9yIjogImdyZWVuIiwKICAiZGFzaEFycmF5IjogbnVsbCwKICAiZGFzaE9mZnNldCI6IG51bGwsCiAgImZpbGwiOiBmYWxzZSwKICAiZmlsbENvbG9yIjogImdyZWVuIiwKICAiZmlsbE9wYWNpdHkiOiAwLjIsCiAgImZpbGxSdWxlIjogImV2ZW5vZGQiLAogICJsaW5lQ2FwIjogInJvdW5kIiwKICAibGluZUpvaW4iOiAicm91bmQiLAogICJvcGFjaXR5IjogMS4wLAogICJyYWRpdXMiOiAzLAogICJzdHJva2UiOiB0cnVlLAogICJ3ZWlnaHQiOiAzCn0KICAgICAgICAgICAgICAgICkuYWRkVG8obWFwXzFlZGMwYTkxMmMyMTQwYmFhM2Y4MmY2MzUzNjViYjY1KTsKICAgICAgICAgICAgCiAgICAKICAgICAgICAgICAgdmFyIHBvcHVwXzZjMTEzYzY4YWZkMzRkODA5MzdjMDlmN2FkOGMzMzgxID0gTC5wb3B1cCh7bWF4V2lkdGg6ICczMDAnfSk7CgogICAgICAgICAgICAKICAgICAgICAgICAgICAgIHZhciBodG1sXzg0OTU1YmI3MzA5NTQxNjM4YjZkOTZmNWI4MDA4ZDIwID0gJCgnPGRpdiBpZD0iaHRtbF84NDk1NWJiNzMwOTU0MTYzOGI2ZDk2ZjViODAwOGQyMCIgc3R5bGU9IndpZHRoOiAxMDAuMCU7IGhlaWdodDogMTAwLjAlOyI+RkxPMTU8L2Rpdj4nKVswXTsKICAgICAgICAgICAgICAgIHBvcHVwXzZjMTEzYzY4YWZkMzRkODA5MzdjMDlmN2FkOGMzMzgxLnNldENvbnRlbnQoaHRtbF84NDk1NWJiNzMwOTU0MTYzOGI2ZDk2ZjViODAwOGQyMCk7CiAgICAgICAgICAgIAoKICAgICAgICAgICAgY2lyY2xlX21hcmtlcl8yNzExZmYwNGFkM2M0NTRkOGVjZDlhYjYyYzNlMjk0Yi5iaW5kUG9wdXAocG9wdXBfNmMxMTNjNjhhZmQzNGQ4MDkzN2MwOWY3YWQ4YzMzODEpOwoKICAgICAgICAgICAgCiAgICAgICAgCiAgICAKICAgICAgICAgICAgdmFyIGNpcmNsZV9tYXJrZXJfYjM4MjFmMjM5MGYxNGJhZDljNGRkMmFhNDVhMTJjZTIgPSBMLmNpcmNsZU1hcmtlcigKICAgICAgICAgICAgICAgIFsyNy42NzQ0MjYzMDAwMDAwMDQsODUuNDAzNzY4MV0sCiAgICAgICAgICAgICAgICB7CiAgImJ1YmJsaW5nTW91c2VFdmVudHMiOiB0cnVlLAogICJjb2xvciI6ICJncmVlbiIsCiAgImRhc2hBcnJheSI6IG51bGwsCiAgImRhc2hPZmZzZXQiOiBudWxsLAogICJmaWxsIjogZmFsc2UsCiAgImZpbGxDb2xvciI6ICJncmVlbiIsCiAgImZpbGxPcGFjaXR5IjogMC4yLAogICJmaWxsUnVsZSI6ICJldmVub2RkIiwKICAibGluZUNhcCI6ICJyb3VuZCIsCiAgImxpbmVKb2luIjogInJvdW5kIiwKICAib3BhY2l0eSI6IDEuMCwKICAicmFkaXVzIjogMywKICAic3Ryb2tlIjogdHJ1ZSwKICAid2VpZ2h0IjogMwp9CiAgICAgICAgICAgICAgICApLmFkZFRvKG1hcF8xZWRjMGE5MTJjMjE0MGJhYTNmODJmNjM1MzY1YmI2NSk7CiAgICAgICAgICAgIAogICAgCiAgICAgICAgICAgIHZhciBwb3B1cF9iMmZkNzg0YjY3N2Y0MjljYmE5NGU1MDAzZTJlZTM4YiA9IEwucG9wdXAoe21heFdpZHRoOiAnMzAwJ30pOwoKICAgICAgICAgICAgCiAgICAgICAgICAgICAgICB2YXIgaHRtbF9lYjNhZjUxMGJmMzQ0ZDA0YTY3NDUwOTMwZjdhOGYwNyA9ICQoJzxkaXYgaWQ9Imh0bWxfZWIzYWY1MTBiZjM0NGQwNGE2NzQ1MDkzMGY3YThmMDciIHN0eWxlPSJ3aWR0aDogMTAwLjAlOyBoZWlnaHQ6IDEwMC4wJTsiPkZMTzE2PC9kaXY+JylbMF07CiAgICAgICAgICAgICAgICBwb3B1cF9iMmZkNzg0YjY3N2Y0MjljYmE5NGU1MDAzZTJlZTM4Yi5zZXRDb250ZW50KGh0bWxfZWIzYWY1MTBiZjM0NGQwNGE2NzQ1MDkzMGY3YThmMDcpOwogICAgICAgICAgICAKCiAgICAgICAgICAgIGNpcmNsZV9tYXJrZXJfYjM4MjFmMjM5MGYxNGJhZDljNGRkMmFhNDVhMTJjZTIuYmluZFBvcHVwKHBvcHVwX2IyZmQ3ODRiNjc3ZjQyOWNiYTk0ZTUwMDNlMmVlMzhiKTsKCiAgICAgICAgICAgIAogICAgICAgIAogICAgCiAgICAgICAgICAgIHZhciBjaXJjbGVfbWFya2VyX2M4ZmM0ODA1M2Q1OTQyMTFiOWVhNDdhYjBjOTMzZmVhID0gTC5jaXJjbGVNYXJrZXIoCiAgICAgICAgICAgICAgICBbMjcuNzExMDE1OTk5OTk5OTk3LDg1LjMxNDc0MzhdLAogICAgICAgICAgICAgICAgewogICJidWJibGluZ01vdXNlRXZlbnRzIjogdHJ1ZSwKICAiY29sb3IiOiAiZ3JlZW4iLAogICJkYXNoQXJyYXkiOiBudWxsLAogICJkYXNoT2Zmc2V0IjogbnVsbCwKICAiZmlsbCI6IGZhbHNlLAogICJmaWxsQ29sb3IiOiAiZ3JlZW4iLAogICJmaWxsT3BhY2l0eSI6IDAuMiwKICAiZmlsbFJ1bGUiOiAiZXZlbm9kZCIsCiAgImxpbmVDYXAiOiAicm91bmQiLAogICJsaW5lSm9pbiI6ICJyb3VuZCIsCiAgIm9wYWNpdHkiOiAxLjAsCiAgInJhZGl1cyI6IDMsCiAgInN0cm9rZSI6IHRydWUsCiAgIndlaWdodCI6IDMKfQogICAgICAgICAgICAgICAgKS5hZGRUbyhtYXBfMWVkYzBhOTEyYzIxNDBiYWEzZjgyZjYzNTM2NWJiNjUpOwogICAgICAgICAgICAKICAgIAogICAgICAgICAgICB2YXIgcG9wdXBfYzJlNDljYTc5MzcwNDM0M2I1ODY2ZDMwYTNjNzkzNjQgPSBMLnBvcHVwKHttYXhXaWR0aDogJzMwMCd9KTsKCiAgICAgICAgICAgIAogICAgICAgICAgICAgICAgdmFyIGh0bWxfOTU5MzMyZWMzYjcxNDgxMjg2ZGI0ZDE3OTk2ODNlZmEgPSAkKCc8ZGl2IGlkPSJodG1sXzk1OTMzMmVjM2I3MTQ4MTI4NmRiNGQxNzk5NjgzZWZhIiBzdHlsZT0id2lkdGg6IDEwMC4wJTsgaGVpZ2h0OiAxMDAuMCU7Ij5GTE8xNzwvZGl2PicpWzBdOwogICAgICAgICAgICAgICAgcG9wdXBfYzJlNDljYTc5MzcwNDM0M2I1ODY2ZDMwYTNjNzkzNjQuc2V0Q29udGVudChodG1sXzk1OTMzMmVjM2I3MTQ4MTI4NmRiNGQxNzk5NjgzZWZhKTsKICAgICAgICAgICAgCgogICAgICAgICAgICBjaXJjbGVfbWFya2VyX2M4ZmM0ODA1M2Q1OTQyMTFiOWVhNDdhYjBjOTMzZmVhLmJpbmRQb3B1cChwb3B1cF9jMmU0OWNhNzkzNzA0MzQzYjU4NjZkMzBhM2M3OTM2NCk7CgogICAgICAgICAgICAKICAgICAgICAKICAgIAogICAgICAgICAgICB2YXIgY2lyY2xlX21hcmtlcl9lYTU0MGYwMTEwOTQ0NjMwODBhYWQ1N2FhYWI2MmQ0YyA9IEwuY2lyY2xlTWFya2VyKAogICAgICAgICAgICAgICAgWzI4LjE4NTQ3MDAwMDAwMDAwMiw4My4xNzgzNV0sCiAgICAgICAgICAgICAgICB7CiAgImJ1YmJsaW5nTW91c2VFdmVudHMiOiB0cnVlLAogICJjb2xvciI6ICJncmVlbiIsCiAgImRhc2hBcnJheSI6IG51bGwsCiAgImRhc2hPZmZzZXQiOiBudWxsLAogICJmaWxsIjogZmFsc2UsCiAgImZpbGxDb2xvciI6ICJncmVlbiIsCiAgImZpbGxPcGFjaXR5IjogMC4yLAogICJmaWxsUnVsZSI6ICJldmVub2RkIiwKICAibGluZUNhcCI6ICJyb3VuZCIsCiAgImxpbmVKb2luIjogInJvdW5kIiwKICAib3BhY2l0eSI6IDEuMCwKICAicmFkaXVzIjogMywKICAic3Ryb2tlIjogdHJ1ZSwKICAid2VpZ2h0IjogMwp9CiAgICAgICAgICAgICAgICApLmFkZFRvKG1hcF8xZWRjMGE5MTJjMjE0MGJhYTNmODJmNjM1MzY1YmI2NSk7CiAgICAgICAgICAgIAogICAgCiAgICAgICAgICAgIHZhciBwb3B1cF9mYmQ0YTQ0NTI4ZmI0ODE2ODZjMjI4ZjZhZGUzYzcwZiA9IEwucG9wdXAoe21heFdpZHRoOiAnMzAwJ30pOwoKICAgICAgICAgICAgCiAgICAgICAgICAgICAgICB2YXIgaHRtbF8zYzJmNDczZWY3NWU0NjkyODNhMTdiNzJmMjcwMzM0NCA9ICQoJzxkaXYgaWQ9Imh0bWxfM2MyZjQ3M2VmNzVlNDY5MjgzYTE3YjcyZjI3MDMzNDQiIHN0eWxlPSJ3aWR0aDogMTAwLjAlOyBoZWlnaHQ6IDEwMC4wJTsiPkZMTzE4PC9kaXY+JylbMF07CiAgICAgICAgICAgICAgICBwb3B1cF9mYmQ0YTQ0NTI4ZmI0ODE2ODZjMjI4ZjZhZGUzYzcwZi5zZXRDb250ZW50KGh0bWxfM2MyZjQ3M2VmNzVlNDY5MjgzYTE3YjcyZjI3MDMzNDQpOwogICAgICAgICAgICAKCiAgICAgICAgICAgIGNpcmNsZV9tYXJrZXJfZWE1NDBmMDExMDk0NDYzMDgwYWFkNTdhYWFiNjJkNGMuYmluZFBvcHVwKHBvcHVwX2ZiZDRhNDQ1MjhmYjQ4MTY4NmMyMjhmNmFkZTNjNzBmKTsKCiAgICAgICAgICAgIAogICAgICAgIAogICAgCiAgICAgICAgICAgIHZhciBjaXJjbGVfbWFya2VyXzk0NDBkYzdiNDQyMTRjMjNiZTZlYTM0MTJlZDM5NTg3ID0gTC5jaXJjbGVNYXJrZXIoCiAgICAgICAgICAgICAgICBbMjguNzUzNjcyNCw4MS42ODgwNDUzXSwKICAgICAgICAgICAgICAgIHsKICAiYnViYmxpbmdNb3VzZUV2ZW50cyI6IHRydWUsCiAgImNvbG9yIjogImdyZWVuIiwKICAiZGFzaEFycmF5IjogbnVsbCwKICAiZGFzaE9mZnNldCI6IG51bGwsCiAgImZpbGwiOiBmYWxzZSwKICAiZmlsbENvbG9yIjogImdyZWVuIiwKICAiZmlsbE9wYWNpdHkiOiAwLjIsCiAgImZpbGxSdWxlIjogImV2ZW5vZGQiLAogICJsaW5lQ2FwIjogInJvdW5kIiwKICAibGluZUpvaW4iOiAicm91bmQiLAogICJvcGFjaXR5IjogMS4wLAogICJyYWRpdXMiOiAzLAogICJzdHJva2UiOiB0cnVlLAogICJ3ZWlnaHQiOiAzCn0KICAgICAgICAgICAgICAgICkuYWRkVG8obWFwXzFlZGMwYTkxMmMyMTQwYmFhM2Y4MmY2MzUzNjViYjY1KTsKICAgICAgICAgICAgCiAgICAKICAgICAgICAgICAgdmFyIHBvcHVwXzU5ZGMwNmM3MTQwNjRlNTM5ZjNlYTFhZTk2MTgzNjA3ID0gTC5wb3B1cCh7bWF4V2lkdGg6ICczMDAnfSk7CgogICAgICAgICAgICAKICAgICAgICAgICAgICAgIHZhciBodG1sXzhlODY0ZGQ4NTQ2NDQ1Y2NiODc2Mjg4M2E4N2QwYTY3ID0gJCgnPGRpdiBpZD0iaHRtbF84ZTg2NGRkODU0NjQ0NWNjYjg3NjI4ODNhODdkMGE2NyIgc3R5bGU9IndpZHRoOiAxMDAuMCU7IGhlaWdodDogMTAwLjAlOyI+RkxPMTk8L2Rpdj4nKVswXTsKICAgICAgICAgICAgICAgIHBvcHVwXzU5ZGMwNmM3MTQwNjRlNTM5ZjNlYTFhZTk2MTgzNjA3LnNldENvbnRlbnQoaHRtbF84ZTg2NGRkODU0NjQ0NWNjYjg3NjI4ODNhODdkMGE2Nyk7CiAgICAgICAgICAgIAoKICAgICAgICAgICAgY2lyY2xlX21hcmtlcl85NDQwZGM3YjQ0MjE0YzIzYmU2ZWEzNDEyZWQzOTU4Ny5iaW5kUG9wdXAocG9wdXBfNTlkYzA2YzcxNDA2NGU1MzlmM2VhMWFlOTYxODM2MDcpOwoKICAgICAgICAgICAgCiAgICAgICAgCjwvc2NyaXB0Pg==\" style=\"position:absolute;width:100%;height:100%;left:0;top:0;border:none !important;\" allowfullscreen webkitallowfullscreen mozallowfullscreen></iframe></div></div>"
      ],
      "text/plain": [
       "<folium.folium.Map at 0x1c0d7d59860>"
      ]
     },
     "execution_count": 42,
     "metadata": {},
     "output_type": "execute_result"
    }
   ],
   "source": [
    "map1 = folium.Map(\n",
    "    location=[28.3, 84.12], zoom_start=6, tiles='cartodbpositron')\n",
    "\n",
    "DPs.apply(lambda row: folium.CircleMarker(\n",
    "    location=[row['latitude'], row['longitude']],\n",
    "    radius=1, color=\"red\", popup=\"DP{}:{}\".format( row.name, row['name']) ).add_to(map1), axis=1)\n",
    "\n",
    "SPs.apply(lambda row: folium.CircleMarker(\n",
    "    location=[row['latitude_deg'], row['longitude_deg']],\n",
    "    radius=3, color=\"blue\").add_to(map1), axis=1)\n",
    "\n",
    "FLs.apply(lambda row: folium.CircleMarker(\n",
    "    location=[row['Lat'], row['Lon']],\n",
    "    radius=3, color=\"green\", popup=row['Name']).add_to(map1), axis=1)\n",
    "\n",
    "\n",
    "map1"
   ]
  },
  {
   "cell_type": "markdown",
   "metadata": {},
   "source": [
    "## Routes"
   ]
  },
  {
   "cell_type": "code",
   "execution_count": 43,
   "metadata": {},
   "outputs": [],
   "source": [
    "node_names = [\"SP{}\".format(i) for i, ind in enumerate(SPs.index)] + [\n",
    "    \"FL{}\".format(i) for i, ind in enumerate(FLs.index)\n",
    "] + [\"DP{}\".format(i) for i, ind in enumerate(DPs.index)]\n",
    "\n",
    "node_lats = SPs['latitude_deg'].append(FLs['Lat']).append(\n",
    "    DPs['latitude']).reset_index(drop=True)\n",
    "\n",
    "node_lons = SPs['longitude_deg'].append(FLs['Lon']).append(\n",
    "    DPs['longitude']).reset_index(drop=True)"
   ]
  },
  {
   "cell_type": "code",
   "execution_count": 45,
   "metadata": {},
   "outputs": [
    {
     "name": "stdout",
     "output_type": "stream",
     "text": [
      "\n",
      "Hopefully at future updates of the osrm package, the\n",
      "lat/lon coordinates are loaded correctly. \n",
      "If osrm package is updated: check if time_matrix contains \n",
      "realistic values. if not: try swapping lat/lon coordinate order\n"
     ]
    }
   ],
   "source": [
    "# for some reason the coordinates are incorrectly passed\n",
    "# by this OSRM package\n",
    "print(\"\"\"\n",
    "Hopefully at future updates of the osrm package, the\n",
    "lat/lon coordinates are loaded correctly. \n",
    "If osrm package is updated: check if time_matrix contains \n",
    "realistic values. if not: try swapping lat/lon coordinate order\"\"\"\n",
    "      )\n",
    "list_coords = [\n",
    "    osrm.Point(longitude=lat, latitude=lon)\n",
    "    for lat, lon in zip(node_lats, node_lons)\n",
    "]"
   ]
  },
  {
   "cell_type": "code",
   "execution_count": 46,
   "metadata": {},
   "outputs": [
    {
     "data": {
      "text/plain": [
       "56"
      ]
     },
     "execution_count": 46,
     "metadata": {},
     "output_type": "execute_result"
    }
   ],
   "source": [
    "len(list_coords)"
   ]
  },
  {
   "cell_type": "code",
   "execution_count": 47,
   "metadata": {},
   "outputs": [
    {
     "name": "stdout",
     "output_type": "stream",
     "text": [
      "Choose to create new file with OSRM API, or to load existing\n"
     ]
    }
   ],
   "source": [
    "print(\"Choose to create new file with OSRM API, or to load existing\")"
   ]
  },
  {
   "cell_type": "code",
   "execution_count": 63,
   "metadata": {},
   "outputs": [
    {
     "name": "stdout",
     "output_type": "stream",
     "text": [
      "This package fails sometimes. If an error is raised, trying it again some seconds later often helps...\n"
     ]
    }
   ],
   "source": [
    "osrm.RequestConfig.host = osrm.RequestConfig.host = \"router.project-osrm.org\"\n",
    "\n",
    "print(\"This package fails sometimes. If an error is raised, trying it again some seconds later often helps...\")\n",
    "\n",
    "# time_matrix, snapped_coords, a = osrm.table(\n",
    "#     list_coords, ids_origin=node_names, output='dataframe')\n",
    "\n",
    "# Load if available:\n",
    "time_matrix = pd.read_csv(\"Nepal/Prepared Input Data/routing_table.csv\")\n",
    "time_matrix.index = node_names"
   ]
  },
  {
   "cell_type": "markdown",
   "metadata": {},
   "source": [
    "## Disruptions"
   ]
  },
  {
   "cell_type": "code",
   "execution_count": 64,
   "metadata": {},
   "outputs": [],
   "source": [
    "def calc_impacts(distance, min_disruption=1, max_disruption=2):\n",
    "    \"\"\"\n",
    "    radial function, calculating the impact of an earthquake, based on great_circle distance.\n",
    "    magnitude of earthquake can be indicated by giving min and max values\n",
    "    \n",
    "    Distance from epicentre: float\n",
    "    min_disruption: float range: (1,2), indicates the minimum disruption caused by the disaster\n",
    "    max_disruption: float range: (1,2), indiccates the maximum disruption caused by the disaster    \n",
    "    \"\"\"\n",
    "    if min_disruption <= 1 or max_disruption >= 2:\n",
    "        raise ValueError(\"wrong inputvalues for arguments\")\n",
    "\n",
    "    min_dist, max_dist = min(distance), max(distance)\n",
    "    dist_range = max_dist - min_dist\n",
    "    disr_range = max_disruption - min_disruption\n",
    "\n",
    "    #     return (distance - min_dist) / dist_range\n",
    "    return (((distance - min_dist) / dist_range) * disr_range) + min_disruption"
   ]
  },
  {
   "cell_type": "code",
   "execution_count": 65,
   "metadata": {},
   "outputs": [],
   "source": [
    "#Pick an epicentre for the earthquake\n",
    "epicentre_name = \"RealLocation\"\n",
    "epicentre = [28.132973, 82.557899]"
   ]
  },
  {
   "cell_type": "code",
   "execution_count": null,
   "metadata": {},
   "outputs": [],
   "source": []
  },
  {
   "cell_type": "code",
   "execution_count": 66,
   "metadata": {},
   "outputs": [],
   "source": [
    "#DPs\n",
    "distancesDPs = []\n",
    "for coords in DPs[['latitude','longitude']].values:\n",
    "    distancesDPs.append(great_circle(epicentre,coords).km)\n",
    "distancesDPs = np.array(distancesDPs)\n",
    "\n",
    "#FLs\n",
    "distancesFLs = []\n",
    "for coords in FLs[['Lat','Lon']].values:\n",
    "    distancesFLs.append(great_circle(epicentre,coords).km)\n",
    "distancesFLs = np.array(distancesFLs)"
   ]
  },
  {
   "cell_type": "code",
   "execution_count": 67,
   "metadata": {},
   "outputs": [],
   "source": [
    "disruptionsFLs = calc_impacts(distancesFLs,1.1,1.9)\n",
    "disruptionsDPs = calc_impacts(distancesDPs,1.1,1.9)"
   ]
  },
  {
   "cell_type": "code",
   "execution_count": 68,
   "metadata": {},
   "outputs": [],
   "source": [
    "np.savetxt(\n",
    "    'Nepal/Prepared Input Data/DisruptionFL{}.txt'.format(epicentre_name),\n",
    "    disruptionsFLs)\n",
    "np.savetxt(\n",
    "    'Nepal/Prepared Input Data/DisruptionDP{}.txt'.format(epicentre_name),\n",
    "    disruptionsDPs)\n",
    "# In [3]: b = np.loadtxt('test1.txt', dtype=int)"
   ]
  },
  {
   "cell_type": "code",
   "execution_count": 61,
   "metadata": {},
   "outputs": [],
   "source": [
    "# disruptionsFLs2 = np.loadtxt(\n",
    "#     'Nepal/Prepared Input Data/DisruptionFL{}.txt'.format(epicentre_name))\n",
    "# disruptionsDPs2 = np.loadtxt(\n",
    "#     'Nepal/Prepared Input Data/DisruptionDP{}.txt'.format(epicentre_name))"
   ]
  },
  {
   "cell_type": "markdown",
   "metadata": {},
   "source": [
    "# Save all prepared data"
   ]
  },
  {
   "cell_type": "code",
   "execution_count": 69,
   "metadata": {},
   "outputs": [],
   "source": [
    "case = \"Nepal\"\n",
    "folder = \"Prepared Input Data\""
   ]
  },
  {
   "cell_type": "code",
   "execution_count": 70,
   "metadata": {},
   "outputs": [],
   "source": [
    "time_matrix.to_csv(\n",
    "    \"{}/{}/routing_table.csv\".format(case, folder), index=False)"
   ]
  },
  {
   "cell_type": "code",
   "execution_count": 71,
   "metadata": {},
   "outputs": [],
   "source": [
    "DPs.to_csv(\n",
    "    \"{}/{}/DPs.csv\".format(case, folder), index=False, encoding='utf8')"
   ]
  },
  {
   "cell_type": "code",
   "execution_count": 72,
   "metadata": {},
   "outputs": [],
   "source": [
    "FLs.to_csv(\n",
    "    \"{}/{}/FLs.csv\".format(case, folder), index=False)"
   ]
  },
  {
   "cell_type": "code",
   "execution_count": 73,
   "metadata": {},
   "outputs": [],
   "source": [
    "SPs.to_csv(\n",
    "    \"{}/{}/SPs.csv\".format(case, folder), index=False)"
   ]
  },
  {
   "cell_type": "code",
   "execution_count": null,
   "metadata": {},
   "outputs": [],
   "source": []
  }
 ],
 "metadata": {
  "kernelspec": {
   "display_name": "Python 3",
   "language": "python",
   "name": "python3"
  },
  "language_info": {
   "codemirror_mode": {
    "name": "ipython",
    "version": 3
   },
   "file_extension": ".py",
   "mimetype": "text/x-python",
   "name": "python",
   "nbconvert_exporter": "python",
   "pygments_lexer": "ipython3",
   "version": "3.6.4"
  },
  "toc": {
   "nav_menu": {},
   "number_sections": true,
   "sideBar": true,
   "skip_h1_title": false,
   "title_cell": "Table of Contents",
   "title_sidebar": "Contents",
   "toc_cell": false,
   "toc_position": {},
   "toc_section_display": true,
   "toc_window_display": false
  }
 },
 "nbformat": 4,
 "nbformat_minor": 2
}
