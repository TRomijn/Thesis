{
 "cells": [
  {
   "cell_type": "code",
   "execution_count": 120,
   "metadata": {},
   "outputs": [],
   "source": [
    "#imports\n",
    "\n",
    "# import random\n",
    "import pandas as pd\n",
    "import numpy as np\n",
    "import pickle\n",
    "import pygmo as pg\n",
    "import matplotlib.pyplot as plt\n",
    "import seaborn as sns\n",
    "\n",
    "\n",
    "# # Own Model import\n",
    "from lib.fl_model_v10 import *\n",
    "import lib\n",
    "# # import lib.fl_model_v5 as flm\n",
    "\n",
    "# # for natural sorting\n",
    "import re\n",
    "\n",
    "# #for nondominated sorting\n",
    "import lib.pareto as pareto\n",
    "# # from lib.list_imports import find_loaded_modules\n",
    "\n",
    "# # for parallel plotting\n",
    "# from lib.parallel_plotting import plot_optimal\n",
    "\n",
    "# # For checking ema running time\n",
    "# import time\n",
    "\n",
    "# import importlib\n",
    "\n",
    "# import geopy\n",
    "# from geopy.distance import great_circle "
   ]
  },
  {
   "cell_type": "code",
   "execution_count": 121,
   "metadata": {},
   "outputs": [],
   "source": [
    "case = \"../Nepal\"\n",
    "output_folder = \"Simulation-results-no-unc-red\""
   ]
  },
  {
   "cell_type": "code",
   "execution_count": 76,
   "metadata": {},
   "outputs": [],
   "source": [
    "case = \"Nepal\"\n",
    "output_folder = \"Simulation-results-unc-red\""
   ]
  },
  {
   "cell_type": "markdown",
   "metadata": {},
   "source": [
    "## Load Data for reevaluation of policies under perfect information"
   ]
  },
  {
   "cell_type": "code",
   "execution_count": 122,
   "metadata": {},
   "outputs": [],
   "source": [
    "Fix_Unc = pd.read_csv(\"{}/Prepared Input Data/fixed_uncertainties.csv\".format(case), index_col=0)\n",
    "\n",
    "DPs = pd.read_csv(\"{}/Prepared Input Data/DPs.csv\".format(case))\n",
    "# DPs.columns\n",
    "\n",
    "FLs = pd.read_csv(\"{}/Prepared Input Data/FLs.csv\".format(case))\n",
    "# FLs.columns\n",
    "\n",
    "SPs = pd.read_csv(\"{}/Prepared Input Data/SPs.csv\".format(case))\n",
    "# SPs.columns\n",
    "\n",
    "# 0. Instantiate\n",
    "\n",
    "# General\n",
    "# Coordinates\n",
    "# all large cities to demand points\n",
    "DPY = {\"DPY{}\".format(i): y for i,y in enumerate(DPs['latitude'])}\n",
    "DPX = {\"DPX{}\".format(i): x for i,x in enumerate(DPs['longitude'])}\n",
    "\n",
    "# all international airports to supply points:\n",
    "SPY = {\"SPY{}\".format(i): y for i,y in enumerate(SPs['latitude_deg'])}\n",
    "SPX = {\"SPX{}\".format(i): x for i,x in enumerate(SPs['longitude_deg'])}\n",
    "\n",
    "# Facility locations\n",
    "FLX = {\"FLX{}\".format(i): x for i,x in enumerate(FLs['Lon'])}\n",
    "FLY = {\"FLY{}\".format(i): y for i,y in enumerate(FLs['Lat'])}\n",
    "\n",
    "\n",
    "# Population demand points\n",
    "DPpop = {\"DPpop{}\".format(i): pop for i,pop in enumerate(DPs['population'])}\n"
   ]
  },
  {
   "cell_type": "code",
   "execution_count": 123,
   "metadata": {},
   "outputs": [
    {
     "data": {
      "text/html": [
       "<div>\n",
       "<style scoped>\n",
       "    .dataframe tbody tr th:only-of-type {\n",
       "        vertical-align: middle;\n",
       "    }\n",
       "\n",
       "    .dataframe tbody tr th {\n",
       "        vertical-align: top;\n",
       "    }\n",
       "\n",
       "    .dataframe thead th {\n",
       "        text-align: right;\n",
       "    }\n",
       "</style>\n",
       "<table border=\"1\" class=\"dataframe\">\n",
       "  <thead>\n",
       "    <tr style=\"text-align: right;\">\n",
       "      <th></th>\n",
       "      <th>lower</th>\n",
       "      <th>best_estimate</th>\n",
       "      <th>upper</th>\n",
       "    </tr>\n",
       "    <tr>\n",
       "      <th>var</th>\n",
       "      <th></th>\n",
       "      <th></th>\n",
       "      <th></th>\n",
       "    </tr>\n",
       "  </thead>\n",
       "  <tbody>\n",
       "    <tr>\n",
       "      <th>unit_transport_cost</th>\n",
       "      <td>7</td>\n",
       "      <td>10</td>\n",
       "      <td>15</td>\n",
       "    </tr>\n",
       "    <tr>\n",
       "      <th>FL_range</th>\n",
       "      <td>1</td>\n",
       "      <td>3</td>\n",
       "      <td>5</td>\n",
       "    </tr>\n",
       "    <tr>\n",
       "      <th>demand_per_affected</th>\n",
       "      <td>5</td>\n",
       "      <td>10</td>\n",
       "      <td>15</td>\n",
       "    </tr>\n",
       "  </tbody>\n",
       "</table>\n",
       "</div>"
      ],
      "text/plain": [
       "                     lower  best_estimate  upper\n",
       "var                                             \n",
       "unit_transport_cost      7             10     15\n",
       "FL_range                 1              3      5\n",
       "demand_per_affected      5             10     15"
      ]
     },
     "execution_count": 123,
     "metadata": {},
     "output_type": "execute_result"
    }
   ],
   "source": [
    "Fix_Unc"
   ]
  },
  {
   "cell_type": "code",
   "execution_count": 124,
   "metadata": {
    "scrolled": true
   },
   "outputs": [
    {
     "name": "stdout",
     "output_type": "stream",
     "text": [
      "Pick right Epicentre, and/or load disruption data.\n",
      " Epicentre chosen: RealLocation\n"
     ]
    }
   ],
   "source": [
    "epicentre_name = \"RealLocation\"\n",
    "print(\"Pick right Epicentre, and/or load disruption data.\\n\",\n",
    "      \"Epicentre chosen: {}\".format(epicentre_name))"
   ]
  },
  {
   "cell_type": "code",
   "execution_count": 125,
   "metadata": {},
   "outputs": [],
   "source": [
    "disruptionsFLs = np.loadtxt(\n",
    "    '{}/Prepared Input Data/DisruptionFL{}.txt'.format(case,epicentre_name))\n",
    "disruptionsDPs = np.loadtxt(\n",
    "    '{}/Prepared Input Data/DisruptionDP{}.txt'.format(case,epicentre_name))"
   ]
  },
  {
   "cell_type": "code",
   "execution_count": 126,
   "metadata": {},
   "outputs": [],
   "source": [
    "# Base real values on Nepal earthquake\n",
    "# DSR is abbreviation for Disruption\n",
    "\n",
    "DSRDP = {\"DSRDP{}\".format(i): disruptionsDPs[i] for i in range(len(DPX))}\n",
    "DSRFL = {\"DSRFL{}\".format(i): disruptionsFLs[i] for i in range(len(FLX))}"
   ]
  },
  {
   "cell_type": "markdown",
   "metadata": {},
   "source": [
    "## Create MOO results for perfect information"
   ]
  },
  {
   "cell_type": "code",
   "execution_count": 127,
   "metadata": {},
   "outputs": [
    {
     "name": "stdout",
     "output_type": "stream",
     "text": [
      "There are 4845 possible solutions where there are four different facility locations operational\n"
     ]
    }
   ],
   "source": [
    "from itertools import product\n",
    "# Create All possible policies\n",
    "start_situation = {key: 0 for key in FLs.Name}\n",
    "\n",
    "# Create all possible permutations for\n",
    "permutations = [i for i in product([0, 1], repeat=len(FLs)) if sum(i) == 4]\n",
    "print(\n",
    "    \"There are {} possible solutions where there are four different facility locations operational\".\n",
    "    format(len(permutations)))\n",
    "\n",
    "# Convert possible permutations to policies\n",
    "All_optional_pols = []\n",
    "for p in permutations:\n",
    "    tmp = {\"FLO{}\".format(i):val for i,val in enumerate(p)}\n",
    "    All_optional_pols.append(tmp)"
   ]
  },
  {
   "cell_type": "code",
   "execution_count": 128,
   "metadata": {},
   "outputs": [],
   "source": [
    "# Evaluate all optional policies with best estimate values\n",
    "Perfect_Info_Results = []\n",
    "for policy in All_optional_pols:\n",
    "    Perfect_Info_Results.append(\n",
    "        FL_model(\n",
    "#             unit_opening_costs=Fix_Unc.best_estimate['unit_opening_costs'],\n",
    "            unit_transport_cost=Fix_Unc.best_estimate['unit_transport_cost'],\n",
    "#             FL_operations_cost=Fix_Unc.best_estimate['FL_operations_cost'],\n",
    "            demand_per_affected=Fix_Unc.best_estimate['demand_per_affected'],\n",
    "            graphical_representation=False,\n",
    "            FL_range=Fix_Unc.best_estimate['FL_range'],\n",
    "            dist_method='from_table',\n",
    "            table_dir=\"{}/Prepared Input Data/routing_table.csv\".format(case),\n",
    "            **SPX,\n",
    "            **SPY,\n",
    "            **DPX,\n",
    "            **DPY,\n",
    "            **FLX,\n",
    "            **FLY,\n",
    "            **policy,\n",
    "            **DSRDP,\n",
    "            **DSRFL,\n",
    "            **DPpop))"
   ]
  },
  {
   "cell_type": "markdown",
   "metadata": {},
   "source": [
    "### Find Pareto Front for Perfect Infomration"
   ]
  },
  {
   "cell_type": "code",
   "execution_count": 129,
   "metadata": {},
   "outputs": [
    {
     "name": "stdout",
     "output_type": "stream",
     "text": [
      "There are 1297 solutions remaining after filtering for the constraint\n"
     ]
    },
    {
     "data": {
      "text/html": [
       "<div>\n",
       "<style scoped>\n",
       "    .dataframe tbody tr th:only-of-type {\n",
       "        vertical-align: middle;\n",
       "    }\n",
       "\n",
       "    .dataframe tbody tr th {\n",
       "        vertical-align: top;\n",
       "    }\n",
       "\n",
       "    .dataframe thead th {\n",
       "        text-align: right;\n",
       "    }\n",
       "</style>\n",
       "<table border=\"1\" class=\"dataframe\">\n",
       "  <thead>\n",
       "    <tr style=\"text-align: right;\">\n",
       "      <th></th>\n",
       "      <th>total_costs</th>\n",
       "      <th>nr_uncovered_DPs</th>\n",
       "      <th>total_uncovered_demand</th>\n",
       "      <th>max_travel_time</th>\n",
       "      <th>constraint</th>\n",
       "    </tr>\n",
       "  </thead>\n",
       "  <tbody>\n",
       "    <tr>\n",
       "      <th>3</th>\n",
       "      <td>177410</td>\n",
       "      <td>24</td>\n",
       "      <td>7995.39</td>\n",
       "      <td>60234</td>\n",
       "      <td>True</td>\n",
       "    </tr>\n",
       "    <tr>\n",
       "      <th>7</th>\n",
       "      <td>92385.7</td>\n",
       "      <td>26</td>\n",
       "      <td>8982.6</td>\n",
       "      <td>59777.4</td>\n",
       "      <td>True</td>\n",
       "    </tr>\n",
       "    <tr>\n",
       "      <th>10</th>\n",
       "      <td>175031</td>\n",
       "      <td>24</td>\n",
       "      <td>7995.39</td>\n",
       "      <td>59777.4</td>\n",
       "      <td>True</td>\n",
       "    </tr>\n",
       "    <tr>\n",
       "      <th>12</th>\n",
       "      <td>178597</td>\n",
       "      <td>24</td>\n",
       "      <td>7995.39</td>\n",
       "      <td>59777.4</td>\n",
       "      <td>True</td>\n",
       "    </tr>\n",
       "    <tr>\n",
       "      <th>14</th>\n",
       "      <td>158112</td>\n",
       "      <td>25</td>\n",
       "      <td>8068.33</td>\n",
       "      <td>79058</td>\n",
       "      <td>True</td>\n",
       "    </tr>\n",
       "  </tbody>\n",
       "</table>\n",
       "</div>"
      ],
      "text/plain": [
       "   total_costs nr_uncovered_DPs total_uncovered_demand max_travel_time  \\\n",
       "3       177410               24                7995.39           60234   \n",
       "7      92385.7               26                 8982.6         59777.4   \n",
       "10      175031               24                7995.39         59777.4   \n",
       "12      178597               24                7995.39         59777.4   \n",
       "14      158112               25                8068.33           79058   \n",
       "\n",
       "   constraint  \n",
       "3        True  \n",
       "7        True  \n",
       "10       True  \n",
       "12       True  \n",
       "14       True  "
      ]
     },
     "execution_count": 129,
     "metadata": {},
     "output_type": "execute_result"
    }
   ],
   "source": [
    "#Filter out those where the constraint is not satisfied\n",
    "\n",
    "# outcome indicators, as internally used by the model\n",
    "oois = [\n",
    "    'total_costs', 'nr_uncovered_DPs', 'total_uncovered_demand',\n",
    "    'max_travel_time'\n",
    "]\n",
    "# Put outcomes in DF\n",
    "\n",
    "DF_Perfect_Info_Results = pd.DataFrame(\n",
    "    np.asarray(Perfect_Info_Results)[:, :5], columns=oois + [\"constraint\"])\n",
    "# DF_Perfect_Info_Results.tail()\n",
    "\n",
    "DF_Perfect_Info_Results_filtered = DF_Perfect_Info_Results[\n",
    "    DF_Perfect_Info_Results.constraint]\n",
    "print(\"There are {} solutions remaining after filtering for the constraint\".\n",
    "      format(DF_Perfect_Info_Results_filtered.shape[0]))\n",
    "DF_Perfect_Info_Results_filtered.head()"
   ]
  },
  {
   "cell_type": "code",
   "execution_count": 130,
   "metadata": {
    "scrolled": true
   },
   "outputs": [
    {
     "name": "stdout",
     "output_type": "stream",
     "text": [
      "There are 55 solutions in the pareto front for Perfect Information\n"
     ]
    }
   ],
   "source": [
    "# Get Pareto Front by NonDominated Sorting\n",
    "PF_MOO = np.array(pareto.eps_sort(\n",
    "    [list(DF_Perfect_Info_Results_filtered.itertuples(index=True))], [1, 2, 3, 4],\n",
    "    [1e-9, 1e-9, 1e-9, 1e-9]))\n",
    "\n",
    "DF_PF_MOO = pd.DataFrame(PF_MOO).set_index(0)\n",
    "print(\"There are {} solutions in the pareto front for Perfect Information\".\n",
    "      format(DF_PF_MOO.shape[0]))"
   ]
  },
  {
   "cell_type": "code",
   "execution_count": 131,
   "metadata": {},
   "outputs": [
    {
     "data": {
      "text/html": [
       "<div>\n",
       "<style scoped>\n",
       "    .dataframe tbody tr th:only-of-type {\n",
       "        vertical-align: middle;\n",
       "    }\n",
       "\n",
       "    .dataframe tbody tr th {\n",
       "        vertical-align: top;\n",
       "    }\n",
       "\n",
       "    .dataframe thead th {\n",
       "        text-align: right;\n",
       "    }\n",
       "</style>\n",
       "<table border=\"1\" class=\"dataframe\">\n",
       "  <thead>\n",
       "    <tr style=\"text-align: right;\">\n",
       "      <th></th>\n",
       "      <th>1</th>\n",
       "      <th>2</th>\n",
       "      <th>3</th>\n",
       "      <th>4</th>\n",
       "      <th>5</th>\n",
       "    </tr>\n",
       "    <tr>\n",
       "      <th>0</th>\n",
       "      <th></th>\n",
       "      <th></th>\n",
       "      <th></th>\n",
       "      <th></th>\n",
       "      <th></th>\n",
       "    </tr>\n",
       "  </thead>\n",
       "  <tbody>\n",
       "    <tr>\n",
       "      <th>346.0</th>\n",
       "      <td>2.192526e+05</td>\n",
       "      <td>21.0</td>\n",
       "      <td>7579.292462</td>\n",
       "      <td>59777.420000</td>\n",
       "      <td>1.0</td>\n",
       "    </tr>\n",
       "    <tr>\n",
       "      <th>545.0</th>\n",
       "      <td>1.902723e+06</td>\n",
       "      <td>13.0</td>\n",
       "      <td>1892.040387</td>\n",
       "      <td>33886.375193</td>\n",
       "      <td>1.0</td>\n",
       "    </tr>\n",
       "    <tr>\n",
       "      <th>572.0</th>\n",
       "      <td>2.030775e+06</td>\n",
       "      <td>9.0</td>\n",
       "      <td>894.524051</td>\n",
       "      <td>33886.375193</td>\n",
       "      <td>1.0</td>\n",
       "    </tr>\n",
       "    <tr>\n",
       "      <th>621.0</th>\n",
       "      <td>9.989859e+05</td>\n",
       "      <td>22.0</td>\n",
       "      <td>12889.704213</td>\n",
       "      <td>41485.887666</td>\n",
       "      <td>1.0</td>\n",
       "    </tr>\n",
       "    <tr>\n",
       "      <th>625.0</th>\n",
       "      <td>1.004789e+06</td>\n",
       "      <td>16.0</td>\n",
       "      <td>3916.864191</td>\n",
       "      <td>29772.347252</td>\n",
       "      <td>1.0</td>\n",
       "    </tr>\n",
       "    <tr>\n",
       "      <th>643.0</th>\n",
       "      <td>1.871646e+06</td>\n",
       "      <td>12.0</td>\n",
       "      <td>2267.603686</td>\n",
       "      <td>40806.749095</td>\n",
       "      <td>1.0</td>\n",
       "    </tr>\n",
       "    <tr>\n",
       "      <th>670.0</th>\n",
       "      <td>3.559996e+05</td>\n",
       "      <td>18.0</td>\n",
       "      <td>7056.959799</td>\n",
       "      <td>59777.420000</td>\n",
       "      <td>1.0</td>\n",
       "    </tr>\n",
       "    <tr>\n",
       "      <th>674.0</th>\n",
       "      <td>3.720733e+05</td>\n",
       "      <td>18.0</td>\n",
       "      <td>6724.110249</td>\n",
       "      <td>59777.420000</td>\n",
       "      <td>1.0</td>\n",
       "    </tr>\n",
       "    <tr>\n",
       "      <th>1833.0</th>\n",
       "      <td>9.167356e+04</td>\n",
       "      <td>26.0</td>\n",
       "      <td>8982.603206</td>\n",
       "      <td>59777.420000</td>\n",
       "      <td>1.0</td>\n",
       "    </tr>\n",
       "    <tr>\n",
       "      <th>1846.0</th>\n",
       "      <td>2.157830e+05</td>\n",
       "      <td>23.0</td>\n",
       "      <td>7336.270128</td>\n",
       "      <td>45920.157395</td>\n",
       "      <td>1.0</td>\n",
       "    </tr>\n",
       "    <tr>\n",
       "      <th>1850.0</th>\n",
       "      <td>1.612595e+05</td>\n",
       "      <td>24.0</td>\n",
       "      <td>7917.690356</td>\n",
       "      <td>45920.157395</td>\n",
       "      <td>1.0</td>\n",
       "    </tr>\n",
       "    <tr>\n",
       "      <th>1853.0</th>\n",
       "      <td>1.443395e+05</td>\n",
       "      <td>25.0</td>\n",
       "      <td>7990.635214</td>\n",
       "      <td>78425.288270</td>\n",
       "      <td>1.0</td>\n",
       "    </tr>\n",
       "    <tr>\n",
       "      <th>1854.0</th>\n",
       "      <td>1.963458e+05</td>\n",
       "      <td>24.0</td>\n",
       "      <td>7409.214985</td>\n",
       "      <td>78425.288270</td>\n",
       "      <td>1.0</td>\n",
       "    </tr>\n",
       "    <tr>\n",
       "      <th>1865.0</th>\n",
       "      <td>9.898987e+05</td>\n",
       "      <td>17.0</td>\n",
       "      <td>3471.911627</td>\n",
       "      <td>45920.157395</td>\n",
       "      <td>1.0</td>\n",
       "    </tr>\n",
       "    <tr>\n",
       "      <th>1870.0</th>\n",
       "      <td>1.062002e+06</td>\n",
       "      <td>15.0</td>\n",
       "      <td>2406.998778</td>\n",
       "      <td>45920.157395</td>\n",
       "      <td>1.0</td>\n",
       "    </tr>\n",
       "    <tr>\n",
       "      <th>1874.0</th>\n",
       "      <td>1.097088e+06</td>\n",
       "      <td>15.0</td>\n",
       "      <td>1898.523407</td>\n",
       "      <td>78425.288270</td>\n",
       "      <td>1.0</td>\n",
       "    </tr>\n",
       "    <tr>\n",
       "      <th>1875.0</th>\n",
       "      <td>1.042565e+06</td>\n",
       "      <td>16.0</td>\n",
       "      <td>2479.943636</td>\n",
       "      <td>78425.288270</td>\n",
       "      <td>1.0</td>\n",
       "    </tr>\n",
       "    <tr>\n",
       "      <th>1891.0</th>\n",
       "      <td>2.327502e+05</td>\n",
       "      <td>20.0</td>\n",
       "      <td>6920.174021</td>\n",
       "      <td>45920.157395</td>\n",
       "      <td>1.0</td>\n",
       "    </tr>\n",
       "    <tr>\n",
       "      <th>1896.0</th>\n",
       "      <td>2.133130e+05</td>\n",
       "      <td>21.0</td>\n",
       "      <td>6993.118878</td>\n",
       "      <td>70583.514874</td>\n",
       "      <td>1.0</td>\n",
       "    </tr>\n",
       "    <tr>\n",
       "      <th>1897.0</th>\n",
       "      <td>1.149452e+06</td>\n",
       "      <td>11.0</td>\n",
       "      <td>1409.482442</td>\n",
       "      <td>45920.157395</td>\n",
       "      <td>1.0</td>\n",
       "    </tr>\n",
       "    <tr>\n",
       "      <th>1903.0</th>\n",
       "      <td>1.114055e+06</td>\n",
       "      <td>12.0</td>\n",
       "      <td>1482.427300</td>\n",
       "      <td>70583.514874</td>\n",
       "      <td>1.0</td>\n",
       "    </tr>\n",
       "    <tr>\n",
       "      <th>1950.0</th>\n",
       "      <td>8.307701e+05</td>\n",
       "      <td>20.0</td>\n",
       "      <td>4844.991262</td>\n",
       "      <td>45920.157395</td>\n",
       "      <td>1.0</td>\n",
       "    </tr>\n",
       "    <tr>\n",
       "      <th>1953.0</th>\n",
       "      <td>8.138501e+05</td>\n",
       "      <td>21.0</td>\n",
       "      <td>4917.936119</td>\n",
       "      <td>84487.954937</td>\n",
       "      <td>1.0</td>\n",
       "    </tr>\n",
       "    <tr>\n",
       "      <th>1955.0</th>\n",
       "      <td>9.028733e+05</td>\n",
       "      <td>18.0</td>\n",
       "      <td>3780.078412</td>\n",
       "      <td>45920.157395</td>\n",
       "      <td>1.0</td>\n",
       "    </tr>\n",
       "    <tr>\n",
       "      <th>1959.0</th>\n",
       "      <td>9.379596e+05</td>\n",
       "      <td>18.0</td>\n",
       "      <td>3271.603041</td>\n",
       "      <td>78425.288270</td>\n",
       "      <td>1.0</td>\n",
       "    </tr>\n",
       "    <tr>\n",
       "      <th>1960.0</th>\n",
       "      <td>8.834360e+05</td>\n",
       "      <td>19.0</td>\n",
       "      <td>3853.023270</td>\n",
       "      <td>78425.288270</td>\n",
       "      <td>1.0</td>\n",
       "    </tr>\n",
       "    <tr>\n",
       "      <th>1968.0</th>\n",
       "      <td>9.903229e+05</td>\n",
       "      <td>14.0</td>\n",
       "      <td>2782.562077</td>\n",
       "      <td>45920.157395</td>\n",
       "      <td>1.0</td>\n",
       "    </tr>\n",
       "    <tr>\n",
       "      <th>1974.0</th>\n",
       "      <td>9.549267e+05</td>\n",
       "      <td>15.0</td>\n",
       "      <td>2855.506934</td>\n",
       "      <td>70583.514874</td>\n",
       "      <td>1.0</td>\n",
       "    </tr>\n",
       "    <tr>\n",
       "      <th>1991.0</th>\n",
       "      <td>2.184338e+05</td>\n",
       "      <td>21.0</td>\n",
       "      <td>7579.292462</td>\n",
       "      <td>60499.990000</td>\n",
       "      <td>1.0</td>\n",
       "    </tr>\n",
       "    <tr>\n",
       "      <th>1995.0</th>\n",
       "      <td>1.819808e+05</td>\n",
       "      <td>22.0</td>\n",
       "      <td>7985.086870</td>\n",
       "      <td>59777.420000</td>\n",
       "      <td>1.0</td>\n",
       "    </tr>\n",
       "    <tr>\n",
       "      <th>1998.0</th>\n",
       "      <td>1.650609e+05</td>\n",
       "      <td>23.0</td>\n",
       "      <td>8058.031727</td>\n",
       "      <td>70488.224518</td>\n",
       "      <td>1.0</td>\n",
       "    </tr>\n",
       "    <tr>\n",
       "      <th>1999.0</th>\n",
       "      <td>1.980546e+05</td>\n",
       "      <td>22.0</td>\n",
       "      <td>7652.237319</td>\n",
       "      <td>70488.224518</td>\n",
       "      <td>1.0</td>\n",
       "    </tr>\n",
       "    <tr>\n",
       "      <th>2006.0</th>\n",
       "      <td>1.083665e+06</td>\n",
       "      <td>13.0</td>\n",
       "      <td>2474.395291</td>\n",
       "      <td>45920.157395</td>\n",
       "      <td>1.0</td>\n",
       "    </tr>\n",
       "    <tr>\n",
       "      <th>2010.0</th>\n",
       "      <td>1.099739e+06</td>\n",
       "      <td>13.0</td>\n",
       "      <td>2141.545741</td>\n",
       "      <td>70488.224518</td>\n",
       "      <td>1.0</td>\n",
       "    </tr>\n",
       "    <tr>\n",
       "      <th>2011.0</th>\n",
       "      <td>1.063286e+06</td>\n",
       "      <td>14.0</td>\n",
       "      <td>2547.340149</td>\n",
       "      <td>70488.224518</td>\n",
       "      <td>1.0</td>\n",
       "    </tr>\n",
       "    <tr>\n",
       "      <th>2012.0</th>\n",
       "      <td>1.135389e+06</td>\n",
       "      <td>12.0</td>\n",
       "      <td>1482.427300</td>\n",
       "      <td>70488.224518</td>\n",
       "      <td>1.0</td>\n",
       "    </tr>\n",
       "    <tr>\n",
       "      <th>2019.0</th>\n",
       "      <td>2.277323e+05</td>\n",
       "      <td>21.0</td>\n",
       "      <td>6993.118878</td>\n",
       "      <td>70488.224518</td>\n",
       "      <td>1.0</td>\n",
       "    </tr>\n",
       "    <tr>\n",
       "      <th>2030.0</th>\n",
       "      <td>9.245367e+05</td>\n",
       "      <td>16.0</td>\n",
       "      <td>3847.474926</td>\n",
       "      <td>45920.157395</td>\n",
       "      <td>1.0</td>\n",
       "    </tr>\n",
       "    <tr>\n",
       "      <th>2034.0</th>\n",
       "      <td>9.406104e+05</td>\n",
       "      <td>16.0</td>\n",
       "      <td>3514.625375</td>\n",
       "      <td>70488.224518</td>\n",
       "      <td>1.0</td>\n",
       "    </tr>\n",
       "    <tr>\n",
       "      <th>2035.0</th>\n",
       "      <td>9.041574e+05</td>\n",
       "      <td>17.0</td>\n",
       "      <td>3920.419783</td>\n",
       "      <td>70488.224518</td>\n",
       "      <td>1.0</td>\n",
       "    </tr>\n",
       "    <tr>\n",
       "      <th>2036.0</th>\n",
       "      <td>9.762606e+05</td>\n",
       "      <td>15.0</td>\n",
       "      <td>2855.506934</td>\n",
       "      <td>70488.224518</td>\n",
       "      <td>1.0</td>\n",
       "    </tr>\n",
       "    <tr>\n",
       "      <th>2055.0</th>\n",
       "      <td>3.335174e+05</td>\n",
       "      <td>20.0</td>\n",
       "      <td>6989.563286</td>\n",
       "      <td>45070.660000</td>\n",
       "      <td>1.0</td>\n",
       "    </tr>\n",
       "    <tr>\n",
       "      <th>2059.0</th>\n",
       "      <td>3.686037e+05</td>\n",
       "      <td>20.0</td>\n",
       "      <td>6481.087915</td>\n",
       "      <td>53409.117993</td>\n",
       "      <td>1.0</td>\n",
       "    </tr>\n",
       "    <tr>\n",
       "      <th>2061.0</th>\n",
       "      <td>1.163099e+06</td>\n",
       "      <td>13.0</td>\n",
       "      <td>2543.784557</td>\n",
       "      <td>27851.337183</td>\n",
       "      <td>1.0</td>\n",
       "    </tr>\n",
       "    <tr>\n",
       "      <th>2068.0</th>\n",
       "      <td>4.209670e+05</td>\n",
       "      <td>16.0</td>\n",
       "      <td>5992.046950</td>\n",
       "      <td>52977.890000</td>\n",
       "      <td>1.0</td>\n",
       "    </tr>\n",
       "    <tr>\n",
       "      <th>2074.0</th>\n",
       "      <td>3.855709e+05</td>\n",
       "      <td>17.0</td>\n",
       "      <td>6064.991807</td>\n",
       "      <td>53409.117993</td>\n",
       "      <td>1.0</td>\n",
       "    </tr>\n",
       "    <tr>\n",
       "      <th>2075.0</th>\n",
       "      <td>1.302272e+06</td>\n",
       "      <td>8.0</td>\n",
       "      <td>554.300229</td>\n",
       "      <td>53409.117993</td>\n",
       "      <td>1.0</td>\n",
       "    </tr>\n",
       "    <tr>\n",
       "      <th>2085.0</th>\n",
       "      <td>1.003970e+06</td>\n",
       "      <td>16.0</td>\n",
       "      <td>3916.864191</td>\n",
       "      <td>30371.559957</td>\n",
       "      <td>1.0</td>\n",
       "    </tr>\n",
       "    <tr>\n",
       "      <th>2093.0</th>\n",
       "      <td>1.143144e+06</td>\n",
       "      <td>11.0</td>\n",
       "      <td>1927.379864</td>\n",
       "      <td>53409.117993</td>\n",
       "      <td>1.0</td>\n",
       "    </tr>\n",
       "    <tr>\n",
       "      <th>2095.0</th>\n",
       "      <td>3.551808e+05</td>\n",
       "      <td>18.0</td>\n",
       "      <td>7056.959799</td>\n",
       "      <td>60499.990000</td>\n",
       "      <td>1.0</td>\n",
       "    </tr>\n",
       "    <tr>\n",
       "      <th>2099.0</th>\n",
       "      <td>3.712545e+05</td>\n",
       "      <td>18.0</td>\n",
       "      <td>6724.110249</td>\n",
       "      <td>60499.990000</td>\n",
       "      <td>1.0</td>\n",
       "    </tr>\n",
       "    <tr>\n",
       "      <th>2100.0</th>\n",
       "      <td>3.348015e+05</td>\n",
       "      <td>19.0</td>\n",
       "      <td>7129.904657</td>\n",
       "      <td>59777.420000</td>\n",
       "      <td>1.0</td>\n",
       "    </tr>\n",
       "    <tr>\n",
       "      <th>2102.0</th>\n",
       "      <td>1.236486e+06</td>\n",
       "      <td>10.0</td>\n",
       "      <td>1619.213078</td>\n",
       "      <td>53409.117993</td>\n",
       "      <td>1.0</td>\n",
       "    </tr>\n",
       "    <tr>\n",
       "      <th>2105.0</th>\n",
       "      <td>1.077357e+06</td>\n",
       "      <td>13.0</td>\n",
       "      <td>2992.292713</td>\n",
       "      <td>53409.117993</td>\n",
       "      <td>1.0</td>\n",
       "    </tr>\n",
       "    <tr>\n",
       "      <th>3633.0</th>\n",
       "      <td>7.678326e+04</td>\n",
       "      <td>27.0</td>\n",
       "      <td>9055.548063</td>\n",
       "      <td>84487.954937</td>\n",
       "      <td>1.0</td>\n",
       "    </tr>\n",
       "  </tbody>\n",
       "</table>\n",
       "</div>"
      ],
      "text/plain": [
       "                   1     2             3             4    5\n",
       "0                                                          \n",
       "346.0   2.192526e+05  21.0   7579.292462  59777.420000  1.0\n",
       "545.0   1.902723e+06  13.0   1892.040387  33886.375193  1.0\n",
       "572.0   2.030775e+06   9.0    894.524051  33886.375193  1.0\n",
       "621.0   9.989859e+05  22.0  12889.704213  41485.887666  1.0\n",
       "625.0   1.004789e+06  16.0   3916.864191  29772.347252  1.0\n",
       "643.0   1.871646e+06  12.0   2267.603686  40806.749095  1.0\n",
       "670.0   3.559996e+05  18.0   7056.959799  59777.420000  1.0\n",
       "674.0   3.720733e+05  18.0   6724.110249  59777.420000  1.0\n",
       "1833.0  9.167356e+04  26.0   8982.603206  59777.420000  1.0\n",
       "1846.0  2.157830e+05  23.0   7336.270128  45920.157395  1.0\n",
       "1850.0  1.612595e+05  24.0   7917.690356  45920.157395  1.0\n",
       "1853.0  1.443395e+05  25.0   7990.635214  78425.288270  1.0\n",
       "1854.0  1.963458e+05  24.0   7409.214985  78425.288270  1.0\n",
       "1865.0  9.898987e+05  17.0   3471.911627  45920.157395  1.0\n",
       "1870.0  1.062002e+06  15.0   2406.998778  45920.157395  1.0\n",
       "1874.0  1.097088e+06  15.0   1898.523407  78425.288270  1.0\n",
       "1875.0  1.042565e+06  16.0   2479.943636  78425.288270  1.0\n",
       "1891.0  2.327502e+05  20.0   6920.174021  45920.157395  1.0\n",
       "1896.0  2.133130e+05  21.0   6993.118878  70583.514874  1.0\n",
       "1897.0  1.149452e+06  11.0   1409.482442  45920.157395  1.0\n",
       "1903.0  1.114055e+06  12.0   1482.427300  70583.514874  1.0\n",
       "1950.0  8.307701e+05  20.0   4844.991262  45920.157395  1.0\n",
       "1953.0  8.138501e+05  21.0   4917.936119  84487.954937  1.0\n",
       "1955.0  9.028733e+05  18.0   3780.078412  45920.157395  1.0\n",
       "1959.0  9.379596e+05  18.0   3271.603041  78425.288270  1.0\n",
       "1960.0  8.834360e+05  19.0   3853.023270  78425.288270  1.0\n",
       "1968.0  9.903229e+05  14.0   2782.562077  45920.157395  1.0\n",
       "1974.0  9.549267e+05  15.0   2855.506934  70583.514874  1.0\n",
       "1991.0  2.184338e+05  21.0   7579.292462  60499.990000  1.0\n",
       "1995.0  1.819808e+05  22.0   7985.086870  59777.420000  1.0\n",
       "1998.0  1.650609e+05  23.0   8058.031727  70488.224518  1.0\n",
       "1999.0  1.980546e+05  22.0   7652.237319  70488.224518  1.0\n",
       "2006.0  1.083665e+06  13.0   2474.395291  45920.157395  1.0\n",
       "2010.0  1.099739e+06  13.0   2141.545741  70488.224518  1.0\n",
       "2011.0  1.063286e+06  14.0   2547.340149  70488.224518  1.0\n",
       "2012.0  1.135389e+06  12.0   1482.427300  70488.224518  1.0\n",
       "2019.0  2.277323e+05  21.0   6993.118878  70488.224518  1.0\n",
       "2030.0  9.245367e+05  16.0   3847.474926  45920.157395  1.0\n",
       "2034.0  9.406104e+05  16.0   3514.625375  70488.224518  1.0\n",
       "2035.0  9.041574e+05  17.0   3920.419783  70488.224518  1.0\n",
       "2036.0  9.762606e+05  15.0   2855.506934  70488.224518  1.0\n",
       "2055.0  3.335174e+05  20.0   6989.563286  45070.660000  1.0\n",
       "2059.0  3.686037e+05  20.0   6481.087915  53409.117993  1.0\n",
       "2061.0  1.163099e+06  13.0   2543.784557  27851.337183  1.0\n",
       "2068.0  4.209670e+05  16.0   5992.046950  52977.890000  1.0\n",
       "2074.0  3.855709e+05  17.0   6064.991807  53409.117993  1.0\n",
       "2075.0  1.302272e+06   8.0    554.300229  53409.117993  1.0\n",
       "2085.0  1.003970e+06  16.0   3916.864191  30371.559957  1.0\n",
       "2093.0  1.143144e+06  11.0   1927.379864  53409.117993  1.0\n",
       "2095.0  3.551808e+05  18.0   7056.959799  60499.990000  1.0\n",
       "2099.0  3.712545e+05  18.0   6724.110249  60499.990000  1.0\n",
       "2100.0  3.348015e+05  19.0   7129.904657  59777.420000  1.0\n",
       "2102.0  1.236486e+06  10.0   1619.213078  53409.117993  1.0\n",
       "2105.0  1.077357e+06  13.0   2992.292713  53409.117993  1.0\n",
       "3633.0  7.678326e+04  27.0   9055.548063  84487.954937  1.0"
      ]
     },
     "execution_count": 131,
     "metadata": {},
     "output_type": "execute_result"
    }
   ],
   "source": [
    "DF_PF_MOO"
   ]
  },
  {
   "cell_type": "markdown",
   "metadata": {},
   "source": [
    "## Load mpmordm results"
   ]
  },
  {
   "cell_type": "code",
   "execution_count": 133,
   "metadata": {
    "scrolled": true
   },
   "outputs": [],
   "source": [
    "with open('{}/{}/python_objects.pickle'.format(case, output_folder),\n",
    "          'rb') as handle:\n",
    "    global_label_tree, EMA_model_dict, global_dfs_var_unc_data, global_fixed_unc, global_policy_tree = pickle.load(\n",
    "        handle)"
   ]
  },
  {
   "cell_type": "markdown",
   "metadata": {},
   "source": [
    "## Reevaluate MPMORDM results for perfect information"
   ]
  },
  {
   "cell_type": "code",
   "execution_count": 134,
   "metadata": {},
   "outputs": [],
   "source": [
    "p4_labels = global_label_tree['p4']"
   ]
  },
  {
   "cell_type": "code",
   "execution_count": 135,
   "metadata": {},
   "outputs": [],
   "source": [
    "p4_pols = [global_policy_tree[label] for label in p4_labels]"
   ]
  },
  {
   "cell_type": "code",
   "execution_count": 136,
   "metadata": {},
   "outputs": [
    {
     "name": "stdout",
     "output_type": "stream",
     "text": [
      "P4 after Multi-Period Robust Optimisation contains 1140 number of policies\n"
     ]
    }
   ],
   "source": [
    "print(\"P4 after Multi-Period Robust Optimisation contains {} number of policies\".format(len(p4_pols)))"
   ]
  },
  {
   "cell_type": "code",
   "execution_count": 137,
   "metadata": {},
   "outputs": [],
   "source": [
    "# Filter to find only unique policies"
   ]
  },
  {
   "cell_type": "code",
   "execution_count": 138,
   "metadata": {},
   "outputs": [
    {
     "name": "stdout",
     "output_type": "stream",
     "text": [
      "Of all 1140 policies, 165 are unique, the rest are duplicates\n"
     ]
    }
   ],
   "source": [
    "p4_FLs = np.array([[int(key[3:]) for key, value in pol.items() if value == 1]\n",
    "                   for pol in p4_pols])\n",
    "p4_FLs = np.unique(p4_FLs, axis=0)\n",
    "print(\"Of all {} policies, {} are unique, the rest are duplicates\".format(\n",
    "    len(p4_pols), p4_FLs.shape[0]))"
   ]
  },
  {
   "cell_type": "code",
   "execution_count": 139,
   "metadata": {},
   "outputs": [],
   "source": [
    "p4_pols_unique = [{\n",
    "    \"FLO{}\".format(i): 1 if i in p4_FLs[j] else 0\n",
    "    for i in range(len(p4_pols[0].keys()))\n",
    "} for j in range(len(p4_FLs))]"
   ]
  },
  {
   "cell_type": "code",
   "execution_count": 140,
   "metadata": {},
   "outputs": [],
   "source": [
    "# Evaluate all unique policies with best estimate values\n",
    "MPMORDMpols_for_real_values_results = []\n",
    "# for policy in p4_pols_unique:\n",
    "for policy in p4_pols:    \n",
    "    MPMORDMpols_for_real_values_results.append(\n",
    "        FL_model(\n",
    "#             unit_opening_costs=Fix_Unc.best_estimate['unit_opening_costs'],\n",
    "            unit_transport_cost=Fix_Unc.best_estimate['unit_transport_cost'],\n",
    "#             FL_operations_cost=Fix_Unc.best_estimate['FL_operations_cost'],\n",
    "            demand_per_affected=Fix_Unc.best_estimate['demand_per_affected'],\n",
    "            graphical_representation=False,\n",
    "            FL_range=Fix_Unc.best_estimate['FL_range'],\n",
    "            dist_method='from_table',\n",
    "            table_dir=\"{}/Prepared Input Data/routing_table.csv\".format(case),\n",
    "            **SPX,\n",
    "            **SPY,\n",
    "            **DPX,\n",
    "            **DPY,\n",
    "            **FLX,\n",
    "            **FLY,\n",
    "            **policy,\n",
    "            **DSRDP,\n",
    "            **DSRFL,\n",
    "            **DPpop))"
   ]
  },
  {
   "cell_type": "markdown",
   "metadata": {},
   "source": [
    "### Pareto Front MPMORDM: Dynamic Uncertainty "
   ]
  },
  {
   "cell_type": "code",
   "execution_count": 141,
   "metadata": {},
   "outputs": [
    {
     "name": "stdout",
     "output_type": "stream",
     "text": [
      "There are 1140 solutions remaining after filtering for the constraint\n"
     ]
    },
    {
     "data": {
      "text/html": [
       "<div>\n",
       "<style scoped>\n",
       "    .dataframe tbody tr th:only-of-type {\n",
       "        vertical-align: middle;\n",
       "    }\n",
       "\n",
       "    .dataframe tbody tr th {\n",
       "        vertical-align: top;\n",
       "    }\n",
       "\n",
       "    .dataframe thead th {\n",
       "        text-align: right;\n",
       "    }\n",
       "</style>\n",
       "<table border=\"1\" class=\"dataframe\">\n",
       "  <thead>\n",
       "    <tr style=\"text-align: right;\">\n",
       "      <th></th>\n",
       "      <th>total_costs</th>\n",
       "      <th>nr_uncovered_DPs</th>\n",
       "      <th>total_uncovered_demand</th>\n",
       "      <th>max_travel_time</th>\n",
       "      <th>constraint</th>\n",
       "    </tr>\n",
       "  </thead>\n",
       "  <tbody>\n",
       "    <tr>\n",
       "      <th>0</th>\n",
       "      <td>1.07736e+06</td>\n",
       "      <td>13</td>\n",
       "      <td>2992.29</td>\n",
       "      <td>53409.1</td>\n",
       "      <td>True</td>\n",
       "    </tr>\n",
       "    <tr>\n",
       "      <th>1</th>\n",
       "      <td>1.23649e+06</td>\n",
       "      <td>10</td>\n",
       "      <td>1619.21</td>\n",
       "      <td>53409.1</td>\n",
       "      <td>True</td>\n",
       "    </tr>\n",
       "    <tr>\n",
       "      <th>2</th>\n",
       "      <td>406905</td>\n",
       "      <td>17</td>\n",
       "      <td>6064.99</td>\n",
       "      <td>53409.1</td>\n",
       "      <td>True</td>\n",
       "    </tr>\n",
       "    <tr>\n",
       "      <th>3</th>\n",
       "      <td>334802</td>\n",
       "      <td>19</td>\n",
       "      <td>7129.9</td>\n",
       "      <td>59777.4</td>\n",
       "      <td>True</td>\n",
       "    </tr>\n",
       "    <tr>\n",
       "      <th>4</th>\n",
       "      <td>371255</td>\n",
       "      <td>18</td>\n",
       "      <td>6724.11</td>\n",
       "      <td>60500</td>\n",
       "      <td>True</td>\n",
       "    </tr>\n",
       "  </tbody>\n",
       "</table>\n",
       "</div>"
      ],
      "text/plain": [
       "   total_costs nr_uncovered_DPs total_uncovered_demand max_travel_time  \\\n",
       "0  1.07736e+06               13                2992.29         53409.1   \n",
       "1  1.23649e+06               10                1619.21         53409.1   \n",
       "2       406905               17                6064.99         53409.1   \n",
       "3       334802               19                 7129.9         59777.4   \n",
       "4       371255               18                6724.11           60500   \n",
       "\n",
       "  constraint  \n",
       "0       True  \n",
       "1       True  \n",
       "2       True  \n",
       "3       True  \n",
       "4       True  "
      ]
     },
     "execution_count": 141,
     "metadata": {},
     "output_type": "execute_result"
    }
   ],
   "source": [
    "#Filter out those where the constraint is not satisfied\n",
    "\n",
    "# outcome indicators, as internally used by the model\n",
    "oois = [\n",
    "    'total_costs', 'nr_uncovered_DPs', 'total_uncovered_demand',\n",
    "    'max_travel_time'\n",
    "]\n",
    "# Put outcomes in DF\n",
    "\n",
    "DF_MPMORDMpols_for_real_values_results = pd.DataFrame(\n",
    "    np.asarray(MPMORDMpols_for_real_values_results)[:, :5], columns=oois + [\"constraint\"])\n",
    "\n",
    "\n",
    "DF_MPMORDMpols_for_real_values_results_filtered = DF_MPMORDMpols_for_real_values_results[\n",
    "    DF_MPMORDMpols_for_real_values_results.constraint]\n",
    "print(\"There are {} solutions remaining after filtering for the constraint\".\n",
    "      format(DF_MPMORDMpols_for_real_values_results_filtered.shape[0]))\n",
    "DF_MPMORDMpols_for_real_values_results_filtered.head()"
   ]
  },
  {
   "cell_type": "markdown",
   "metadata": {},
   "source": [
    "This is expected, because they already had to satisfy for the constraint during the mpmordm cycle"
   ]
  },
  {
   "cell_type": "code",
   "execution_count": 142,
   "metadata": {},
   "outputs": [
    {
     "name": "stdout",
     "output_type": "stream",
     "text": [
      "There are 52 solutions in the pareto front for the MPMORDM\n"
     ]
    }
   ],
   "source": [
    "# Get Pareto Front by NonDominated Sorting\n",
    "PF_MPMORDM = np.array(pareto.eps_sort(\n",
    "    [list(DF_MPMORDMpols_for_real_values_results_filtered.itertuples(index=True))], [1, 2, 3, 4],\n",
    "    [1e-9, 1e-9, 1e-9, 1e-9]))\n",
    "\n",
    "DF_PF_MPMORDM = pd.DataFrame(PF_MPMORDM).set_index(0)\n",
    "print(\"There are {} solutions in the pareto front for the MPMORDM\".\n",
    "      format(DF_PF_MPMORDM.shape[0]))"
   ]
  },
  {
   "cell_type": "code",
   "execution_count": 143,
   "metadata": {},
   "outputs": [
    {
     "name": "stdout",
     "output_type": "stream",
     "text": [
      "There are 48 solutions in the inverse pareto front for the MPMORDM\n"
     ]
    }
   ],
   "source": [
    "kwargs = {\"maximize_all\":True}\n",
    "# Get Inverse Pareto Front by NonDominated Sorting\n",
    "Inverse_PF_MPMORDM = np.array(pareto.eps_sort(\n",
    "    [list(DF_MPMORDMpols_for_real_values_results_filtered.itertuples(index=True))], [1, 2, 3, 4],\n",
    "    [1e-9, 1e-9, 1e-9, 1e-9],**kwargs))\n",
    "\n",
    "DF_Inverse_PF_MPMORDM = pd.DataFrame(Inverse_PF_MPMORDM).set_index(0)\n",
    "print(\"There are {} solutions in the inverse pareto front for the MPMORDM\".\n",
    "      format(DF_Inverse_PF_MPMORDM.shape[0]))"
   ]
  },
  {
   "cell_type": "markdown",
   "metadata": {},
   "source": [
    "## Compare Pareto Fronts "
   ]
  },
  {
   "cell_type": "code",
   "execution_count": 144,
   "metadata": {},
   "outputs": [
    {
     "data": {
      "text/plain": [
       "(52, 5)"
      ]
     },
     "execution_count": 144,
     "metadata": {},
     "output_type": "execute_result"
    }
   ],
   "source": [
    "DF_PF_MPMORDM.shape"
   ]
  },
  {
   "cell_type": "code",
   "execution_count": 145,
   "metadata": {},
   "outputs": [
    {
     "data": {
      "text/plain": [
       "(55, 5)"
      ]
     },
     "execution_count": 145,
     "metadata": {},
     "output_type": "execute_result"
    }
   ],
   "source": [
    "DF_PF_MOO.shape"
   ]
  },
  {
   "cell_type": "code",
   "execution_count": 146,
   "metadata": {},
   "outputs": [
    {
     "data": {
      "text/plain": [
       "(48, 5)"
      ]
     },
     "execution_count": 146,
     "metadata": {},
     "output_type": "execute_result"
    }
   ],
   "source": [
    "DF_Inverse_PF_MPMORDM.shape"
   ]
  },
  {
   "cell_type": "code",
   "execution_count": 147,
   "metadata": {},
   "outputs": [
    {
     "data": {
      "text/plain": [
       "<module 'pygmo' from 'C:\\\\Users\\\\timro\\\\Anaconda3\\\\lib\\\\site-packages\\\\pygmo\\\\__init__.py'>"
      ]
     },
     "execution_count": 147,
     "metadata": {},
     "output_type": "execute_result"
    }
   ],
   "source": [
    "pg"
   ]
  },
  {
   "cell_type": "markdown",
   "metadata": {},
   "source": [
    "### Normalise all three dfs"
   ]
  },
  {
   "cell_type": "code",
   "execution_count": 148,
   "metadata": {},
   "outputs": [],
   "source": [
    "def normalise_df (df):\n",
    "    df = df.iloc[:,:4]\n",
    "    normalised_df=(df-df.min())/(df.max()-df.min())\n",
    "    print(\"normalised with: min:\\n{} and max:\\n{}\\n\\n\".format(df.min(),df.max()))\n",
    "    return normalised_df"
   ]
  },
  {
   "cell_type": "code",
   "execution_count": 149,
   "metadata": {},
   "outputs": [],
   "source": [
    "def normalise_df_relative (df, minimum, maximum):\n",
    "    df = df.iloc[:,:4]\n",
    "    normalised_df=(df-minimum)/(maximum-minimum)\n",
    "    print(\"normalised with: min:\\n{} and max:\\n{}\\n\\n\".format(minimum,maximum))\n",
    "    return normalised_df"
   ]
  },
  {
   "cell_type": "code",
   "execution_count": 150,
   "metadata": {},
   "outputs": [],
   "source": [
    "def normalise_multiple_dfs(df_list):\n",
    "    tmp = pd.DataFrame()\n",
    "    for df in df_list:\n",
    "        tmp = tmp.append(df)\n",
    "    MIN,MAX = tmp.min()[:4], tmp.max()[:4]\n",
    "    \n",
    "    normalised_dfs = []\n",
    "    for df in df_list:\n",
    "        normalised_dfs.append(normalise_df_relative(df,MIN,MAX))\n",
    "    return normalised_dfs\n"
   ]
  },
  {
   "cell_type": "code",
   "execution_count": 151,
   "metadata": {},
   "outputs": [
    {
     "name": "stdout",
     "output_type": "stream",
     "text": [
      "normalised with: min:\n",
      "1    76783.263124\n",
      "2        8.000000\n",
      "3      554.300229\n",
      "4    27851.337183\n",
      "dtype: float64 and max:\n",
      "1    2.030775e+06\n",
      "2    2.700000e+01\n",
      "3    1.661122e+04\n",
      "4    8.448795e+04\n",
      "dtype: float64\n",
      "\n",
      "\n",
      "normalised with: min:\n",
      "1    76783.263124\n",
      "2        8.000000\n",
      "3      554.300229\n",
      "4    27851.337183\n",
      "dtype: float64 and max:\n",
      "1    2.030775e+06\n",
      "2    2.700000e+01\n",
      "3    1.661122e+04\n",
      "4    8.448795e+04\n",
      "dtype: float64\n",
      "\n",
      "\n",
      "normalised with: min:\n",
      "1    76783.263124\n",
      "2        8.000000\n",
      "3      554.300229\n",
      "4    27851.337183\n",
      "dtype: float64 and max:\n",
      "1    2.030775e+06\n",
      "2    2.700000e+01\n",
      "3    1.661122e+04\n",
      "4    8.448795e+04\n",
      "dtype: float64\n",
      "\n",
      "\n"
     ]
    }
   ],
   "source": [
    "normalised_df_list = normalise_multiple_dfs([DF_PF_MOO,DF_PF_MPMORDM,DF_Inverse_PF_MPMORDM])"
   ]
  },
  {
   "cell_type": "code",
   "execution_count": 152,
   "metadata": {
    "scrolled": true
   },
   "outputs": [],
   "source": [
    "DF_PF_MOO_norm, DF_PF_MPMORDM_norm, DF_Inverse_PF_MPMORDM_norm = normalised_df_list"
   ]
  },
  {
   "cell_type": "code",
   "execution_count": 153,
   "metadata": {},
   "outputs": [
    {
     "data": {
      "text/plain": [
       "(55, 4)"
      ]
     },
     "execution_count": 153,
     "metadata": {},
     "output_type": "execute_result"
    }
   ],
   "source": [
    "DF_PF_MOO_norm.shape"
   ]
  },
  {
   "cell_type": "code",
   "execution_count": 154,
   "metadata": {},
   "outputs": [
    {
     "data": {
      "text/plain": [
       "(52, 4)"
      ]
     },
     "execution_count": 154,
     "metadata": {},
     "output_type": "execute_result"
    }
   ],
   "source": [
    "DF_PF_MPMORDM_norm.shape"
   ]
  },
  {
   "cell_type": "code",
   "execution_count": 155,
   "metadata": {},
   "outputs": [
    {
     "data": {
      "text/plain": [
       "(48, 4)"
      ]
     },
     "execution_count": 155,
     "metadata": {},
     "output_type": "execute_result"
    }
   ],
   "source": [
    "DF_Inverse_PF_MPMORDM_norm.shape"
   ]
  },
  {
   "cell_type": "markdown",
   "metadata": {},
   "source": [
    "### Calculate Hypervolume Difference between Ground Truth and MPMORDM"
   ]
  },
  {
   "cell_type": "code",
   "execution_count": 156,
   "metadata": {},
   "outputs": [],
   "source": [
    "ref_point = [1,1,1,1]"
   ]
  },
  {
   "cell_type": "code",
   "execution_count": 157,
   "metadata": {
    "scrolled": false
   },
   "outputs": [],
   "source": [
    "hv_MOO = pg.hypervolume(DF_PF_MOO_norm.values)\n",
    "# hv_MOO = pg.hypervolume(DF_PF_MOO_norm.iloc[:,:4].astype(float).values)"
   ]
  },
  {
   "cell_type": "code",
   "execution_count": 158,
   "metadata": {},
   "outputs": [
    {
     "data": {
      "text/plain": [
       "0.5205502602682269"
      ]
     },
     "execution_count": 158,
     "metadata": {},
     "output_type": "execute_result"
    }
   ],
   "source": [
    "hv_MOO.compute(ref_point)"
   ]
  },
  {
   "cell_type": "code",
   "execution_count": 159,
   "metadata": {},
   "outputs": [],
   "source": [
    "hv_MPMORDM = pg.hypervolume(DF_PF_MPMORDM_norm.values)\n",
    "# hv_MPMORDM = pg.hypervolume(DF_PF_MPMORDM_norm.iloc[:,:4].astype(float).values)"
   ]
  },
  {
   "cell_type": "code",
   "execution_count": 160,
   "metadata": {},
   "outputs": [
    {
     "data": {
      "text/plain": [
       "0.5198091723002026"
      ]
     },
     "execution_count": 160,
     "metadata": {},
     "output_type": "execute_result"
    }
   ],
   "source": [
    "hv_MPMORDM.compute(ref_point)"
   ]
  },
  {
   "cell_type": "code",
   "execution_count": 161,
   "metadata": {},
   "outputs": [],
   "source": [
    "diff = hv_MOO.compute(ref_point) - hv_MPMORDM.compute(ref_point)"
   ]
  },
  {
   "cell_type": "code",
   "execution_count": 162,
   "metadata": {},
   "outputs": [
    {
     "data": {
      "text/plain": [
       "0.000741087968024301"
      ]
     },
     "execution_count": 162,
     "metadata": {},
     "output_type": "execute_result"
    }
   ],
   "source": [
    "diff"
   ]
  },
  {
   "cell_type": "markdown",
   "metadata": {},
   "source": [
    "### Compare worst pareto front"
   ]
  },
  {
   "cell_type": "code",
   "execution_count": 163,
   "metadata": {},
   "outputs": [],
   "source": [
    "hv_MPMORDM_inverse = pg.hypervolume(DF_Inverse_PF_MPMORDM_norm.values)"
   ]
  },
  {
   "cell_type": "code",
   "execution_count": 164,
   "metadata": {},
   "outputs": [
    {
     "data": {
      "text/plain": [
       "0.26927268723367515"
      ]
     },
     "execution_count": 164,
     "metadata": {},
     "output_type": "execute_result"
    }
   ],
   "source": [
    "hv_MPMORDM_inverse.compute(ref_point)"
   ]
  },
  {
   "cell_type": "code",
   "execution_count": 165,
   "metadata": {},
   "outputs": [
    {
     "data": {
      "text/plain": [
       "0.2512775730345518"
      ]
     },
     "execution_count": 165,
     "metadata": {},
     "output_type": "execute_result"
    }
   ],
   "source": [
    "hv_MOO.compute(ref_point) - hv_MPMORDM_inverse.compute(ref_point)"
   ]
  },
  {
   "cell_type": "markdown",
   "metadata": {},
   "source": [
    "## Coverage and Density of MPMORDM solutions in Perfect Info Pareto Front"
   ]
  },
  {
   "cell_type": "markdown",
   "metadata": {},
   "source": [
    "What do we need:\n",
    "- number of unique policies in PF\n",
    "- number of unique policies in mpmordm results\n",
    "- density of pareto efficient solutions in mpmordm results\n",
    "- density of worst case solution in mpmordm results"
   ]
  },
  {
   "cell_type": "code",
   "execution_count": 166,
   "metadata": {
    "scrolled": false
   },
   "outputs": [
    {
     "name": "stdout",
     "output_type": "stream",
     "text": [
      "52\n",
      "50.2906976744186\n"
     ]
    }
   ],
   "source": [
    "# Use This as check. 692 of all 1372 are in pf\n",
    "\n",
    "# Do tolist, because then it checks if full list is in the list of lists.\n",
    "# Otherwise it checks whether all numbers are in the list or sth. \n",
    "print(sum([fls.tolist() in PFMOO_FLS.tolist() for fls in p4_FLs]))\n",
    "print(692/1376*100)"
   ]
  },
  {
   "cell_type": "markdown",
   "metadata": {},
   "source": [
    "Need:\n",
    "- PF pols\n",
    "- MPMORDM pols\n",
    "- MPMORDM PF pols\n",
    "- MPMORDM IPF pols"
   ]
  },
  {
   "cell_type": "code",
   "execution_count": 167,
   "metadata": {},
   "outputs": [
    {
     "data": {
      "text/plain": [
       "(55, 4)"
      ]
     },
     "execution_count": 167,
     "metadata": {},
     "output_type": "execute_result"
    }
   ],
   "source": [
    "# PF pols\n",
    "PFMOOPols = np.array(All_optional_pols)[list(DF_PF_MOO.index.astype(int))]\n",
    "PFMOOPols.shape\n",
    "# PF fls\n",
    "PFMOO_FLS = np.array([[int(key[3:]) for key, value in pol.items() if value == 1]\n",
    "                   for pol in PFMOOPols])\n",
    "PFMOO_FLS.shape"
   ]
  },
  {
   "cell_type": "code",
   "execution_count": 168,
   "metadata": {},
   "outputs": [
    {
     "data": {
      "text/plain": [
       "(55, 4)"
      ]
     },
     "execution_count": 168,
     "metadata": {},
     "output_type": "execute_result"
    }
   ],
   "source": [
    "np.unique(PFMOO_FLS, axis=0).shape"
   ]
  },
  {
   "cell_type": "code",
   "execution_count": 169,
   "metadata": {
    "scrolled": true
   },
   "outputs": [
    {
     "name": "stdout",
     "output_type": "stream",
     "text": [
      "all p4 pols: 1140\n"
     ]
    },
    {
     "data": {
      "text/plain": [
       "(165, 4)"
      ]
     },
     "execution_count": 169,
     "metadata": {},
     "output_type": "execute_result"
    }
   ],
   "source": [
    "#MPMORDM pols\n",
    "#total\n",
    "print(\"all p4 pols:\",len(p4_pols))\n",
    "#FLS\n",
    "p4_FLs = np.array([[int(key[3:]) for key, value in pol.items() if value == 1]\n",
    "                   for pol in p4_pols])\n",
    "p4_FLs.shape\n",
    "#unique\n",
    "np.unique(p4_FLs, axis=0).shape"
   ]
  },
  {
   "cell_type": "code",
   "execution_count": 170,
   "metadata": {},
   "outputs": [
    {
     "data": {
      "text/plain": [
       "(52, 4)"
      ]
     },
     "execution_count": 170,
     "metadata": {},
     "output_type": "execute_result"
    }
   ],
   "source": [
    "#MPMORDM PF pols\n",
    "PFMPMORDMPols = np.array(p4_pols)[list(DF_PF_MPMORDM.index.astype(int))]\n",
    "\n",
    "#FLS\n",
    "PFMPMORDM_FLS = np.array([[int(key[3:]) for key, value in pol.items() if value == 1]\n",
    "                   for pol in PFMPMORDMPols])\n",
    "\n",
    "PFMPMORDM_FLS.shape"
   ]
  },
  {
   "cell_type": "code",
   "execution_count": 171,
   "metadata": {},
   "outputs": [
    {
     "data": {
      "text/plain": [
       "(52, 4)"
      ]
     },
     "execution_count": 171,
     "metadata": {},
     "output_type": "execute_result"
    }
   ],
   "source": [
    "np.unique(PFMPMORDM_FLS, axis=0).shape"
   ]
  },
  {
   "cell_type": "code",
   "execution_count": 172,
   "metadata": {},
   "outputs": [
    {
     "data": {
      "text/plain": [
       "(48, 4)"
      ]
     },
     "execution_count": 172,
     "metadata": {},
     "output_type": "execute_result"
    }
   ],
   "source": [
    "#MPMORDM invPF pols\n",
    "InvPFMPMORDMPols = np.array(p4_pols)[list(DF_Inverse_PF_MPMORDM.index.astype(int))]\n",
    "\n",
    "#FLS\n",
    "InvPFMPMORDM_FLS = np.array([[int(key[3:]) for key, value in pol.items() if value == 1]\n",
    "                   for pol in InvPFMPMORDMPols])\n",
    "InvPFMPMORDM_FLS.shape"
   ]
  },
  {
   "cell_type": "code",
   "execution_count": 173,
   "metadata": {},
   "outputs": [
    {
     "data": {
      "text/plain": [
       "(48, 4)"
      ]
     },
     "execution_count": 173,
     "metadata": {},
     "output_type": "execute_result"
    }
   ],
   "source": [
    "np.unique(InvPFMPMORDM_FLS, axis=0).shape"
   ]
  },
  {
   "cell_type": "markdown",
   "metadata": {},
   "source": [
    "### Coverage of PF\n",
    "How many are in the actual PF?"
   ]
  },
  {
   "cell_type": "code",
   "execution_count": 174,
   "metadata": {},
   "outputs": [
    {
     "name": "stdout",
     "output_type": "stream",
     "text": [
      "52 in 55 :\n",
      "94.54545454545455 %\n"
     ]
    }
   ],
   "source": [
    "# MPMORDM PF in MOO\n",
    "covered = sum([fls.tolist() in PFMOO_FLS.tolist() for fls in PFMPMORDM_FLS])\n",
    "print(covered,\"in\",PFMOO_FLS.shape[0],\":\")\n",
    "print(covered / PFMOO_FLS.shape[0] * 100,\"%\")"
   ]
  },
  {
   "cell_type": "code",
   "execution_count": 175,
   "metadata": {},
   "outputs": [
    {
     "data": {
      "text/plain": [
       "52"
      ]
     },
     "execution_count": 175,
     "metadata": {},
     "output_type": "execute_result"
    }
   ],
   "source": [
    "sum([fls.tolist() in PFMPMORDM_FLS.tolist() for fls in PFMOO_FLS])"
   ]
  },
  {
   "cell_type": "code",
   "execution_count": 176,
   "metadata": {},
   "outputs": [
    {
     "name": "stdout",
     "output_type": "stream",
     "text": [
      "14 in 55 :\n",
      "25.454545454545453 %\n"
     ]
    }
   ],
   "source": [
    "# MPMORDM InversePF in MOO\n",
    "covered = sum([fls.tolist() in PFMOO_FLS.tolist() for fls in InvPFMPMORDM_FLS])\n",
    "print(covered,\"in\",PFMOO_FLS.shape[0],\":\")\n",
    "print(covered / PFMOO_FLS.shape[0] * 100,\"%\")"
   ]
  },
  {
   "cell_type": "markdown",
   "metadata": {},
   "source": [
    "### Density\n",
    "How many of the PF are in all solutions?"
   ]
  },
  {
   "cell_type": "code",
   "execution_count": 177,
   "metadata": {},
   "outputs": [
    {
     "data": {
      "text/plain": [
       "(1140, 4)"
      ]
     },
     "execution_count": 177,
     "metadata": {},
     "output_type": "execute_result"
    }
   ],
   "source": [
    "p4_FLs.shape"
   ]
  },
  {
   "cell_type": "code",
   "execution_count": 178,
   "metadata": {},
   "outputs": [
    {
     "name": "stdout",
     "output_type": "stream",
     "text": [
      "253 of the 1140 :\n",
      "22.19298245614035 %\n"
     ]
    }
   ],
   "source": [
    "# Density Inverse PF\n",
    "occurences = sum([fls.tolist() in InvPFMPMORDM_FLS.tolist() for fls in p4_FLs])\n",
    "print(occurences,\"of the\",p4_FLs.shape[0],\":\")\n",
    "print(occurences/p4_FLs.shape[0]*100,\"%\")"
   ]
  },
  {
   "cell_type": "code",
   "execution_count": 179,
   "metadata": {},
   "outputs": [
    {
     "name": "stdout",
     "output_type": "stream",
     "text": [
      "584 of the 1140 :\n",
      "51.2280701754386 %\n"
     ]
    }
   ],
   "source": [
    "# Density PF\n",
    "occurences = sum([fls.tolist() in PFMPMORDM_FLS.tolist() for fls in p4_FLs])\n",
    "occurences\n",
    "print(occurences,\"of the\",p4_FLs.shape[0],\":\")\n",
    "print(occurences/p4_FLs.shape[0]*100,\"%\")\n"
   ]
  },
  {
   "cell_type": "code",
   "execution_count": 180,
   "metadata": {},
   "outputs": [
    {
     "name": "stdout",
     "output_type": "stream",
     "text": [
      "435 of the 1140 :\n",
      "38.15789473684211 %\n"
     ]
    }
   ],
   "source": [
    "#Intermediate Solutions\n",
    "occurences = sum([fls.tolist() not in PFMPMORDM_FLS.tolist() + InvPFMPMORDM_FLS.tolist() for fls in p4_FLs])\n",
    "occurences\n",
    "print(occurences,\"of the\",p4_FLs.shape[0],\":\")\n",
    "print(occurences/p4_FLs.shape[0]*100,\"%\")\n"
   ]
  },
  {
   "cell_type": "code",
   "execution_count": 181,
   "metadata": {},
   "outputs": [
    {
     "name": "stdout",
     "output_type": "stream",
     "text": [
      "132 of the 1140 :\n",
      "11.578947368421053 %\n"
     ]
    }
   ],
   "source": [
    "#Overlap PF and IPF Solutions\n",
    "occurences = sum([fls.tolist() in PFMPMORDM_FLS.tolist() and fls.tolist() in InvPFMPMORDM_FLS.tolist() for fls in p4_FLs])\n",
    "occurences\n",
    "print(occurences,\"of the\",p4_FLs.shape[0],\":\")\n",
    "print(occurences/p4_FLs.shape[0]*100,\"%\")\n"
   ]
  },
  {
   "cell_type": "code",
   "execution_count": 182,
   "metadata": {},
   "outputs": [
    {
     "data": {
      "text/plain": [
       "(14, 4)"
      ]
     },
     "execution_count": 182,
     "metadata": {},
     "output_type": "execute_result"
    }
   ],
   "source": [
    "# Number of overlapping fls\n",
    "a = [fls.tolist() in PFMPMORDM_FLS.tolist() and fls.tolist() in InvPFMPMORDM_FLS.tolist() for fls in p4_FLs]\n",
    "\n",
    "np.unique(p4_FLs[a],axis=0).shape"
   ]
  },
  {
   "cell_type": "code",
   "execution_count": null,
   "metadata": {},
   "outputs": [],
   "source": []
  },
  {
   "cell_type": "markdown",
   "metadata": {},
   "source": [
    "## Compare Distributions"
   ]
  },
  {
   "cell_type": "code",
   "execution_count": 69,
   "metadata": {},
   "outputs": [
    {
     "data": {
      "text/plain": [
       "(55, 4)"
      ]
     },
     "execution_count": 69,
     "metadata": {},
     "output_type": "execute_result"
    }
   ],
   "source": [
    "# Results for Perfect Information\n",
    "DF_PF_MOO = DF_PF_MOO.iloc[:,:4]\n",
    "DF_PF_MOO.columns = oois\n",
    "DF_PF_MOO.shape\n"
   ]
  },
  {
   "cell_type": "code",
   "execution_count": 117,
   "metadata": {},
   "outputs": [
    {
     "data": {
      "text/plain": [
       "(1152, 4)"
      ]
     },
     "execution_count": 117,
     "metadata": {},
     "output_type": "execute_result"
    }
   ],
   "source": [
    "# Results for MPMORDM\n",
    "DF_P4_MPMORDM_results = DF_MPMORDMpols_for_real_values_results_filtered.iloc[:,:4]\n",
    "DF_P4_MPMORDM_results.columns = oois\n",
    "DF_P4_MPMORDM_results.shape"
   ]
  },
  {
   "cell_type": "code",
   "execution_count": 71,
   "metadata": {},
   "outputs": [
    {
     "data": {
      "text/plain": [
       "Index(['total_costs', 'nr_uncovered_DPs', 'total_uncovered_demand',\n",
       "       'max_travel_time'],\n",
       "      dtype='object')"
      ]
     },
     "execution_count": 71,
     "metadata": {},
     "output_type": "execute_result"
    }
   ],
   "source": [
    "DF_PF_MOO.columns"
   ]
  },
  {
   "cell_type": "code",
   "execution_count": 72,
   "metadata": {},
   "outputs": [],
   "source": [
    "OOIs = ['Total Costs', 'Nr. Uncovered Demand Points', 'Total Uncovered Demand', 'Max. Travel Time']"
   ]
  },
  {
   "cell_type": "code",
   "execution_count": 73,
   "metadata": {},
   "outputs": [
    {
     "data": {
      "text/plain": [
       "(55, 4)"
      ]
     },
     "execution_count": 73,
     "metadata": {},
     "output_type": "execute_result"
    }
   ],
   "source": [
    "DF_PF_MOO.shape"
   ]
  },
  {
   "cell_type": "code",
   "execution_count": 74,
   "metadata": {
    "scrolled": true
   },
   "outputs": [
    {
     "data": {
      "text/plain": [
       "(1127, 4)"
      ]
     },
     "execution_count": 74,
     "metadata": {},
     "output_type": "execute_result"
    }
   ],
   "source": [
    "DF_P4_MPMORDM_results.shape"
   ]
  },
  {
   "cell_type": "code",
   "execution_count": 119,
   "metadata": {},
   "outputs": [
    {
     "data": {
      "image/png": "[encoded data removed]",
      "text/plain": [
       "<Figure size 432x288 with 1 Axes>"
      ]
     },
     "metadata": {},
     "output_type": "display_data"
    },
    {
     "data": {
      "image/png": "[encoded data removed]",
      "text/plain": [
       "<Figure size 432x288 with 1 Axes>"
      ]
     },
     "metadata": {},
     "output_type": "display_data"
    },
    {
     "data": {
      "image/png": "[encoded data removed]",
      "text/plain": [
       "<Figure size 432x288 with 1 Axes>"
      ]
     },
     "metadata": {},
     "output_type": "display_data"
    },
    {
     "data": {
      "image/png": "[encoded data removed]",
      "text/plain": [
       "<Figure size 432x288 with 1 Axes>"
      ]
     },
     "metadata": {},
     "output_type": "display_data"
    }
   ],
   "source": [
    "bws = [40000,0.5,1000,2000]\n",
    "for obj, ooi, bw in zip(DF_PF_MOO.columns, OOIs, bws):\n",
    "    #     f =\n",
    "    sns.kdeplot(\n",
    "        DF_PF_MOO[obj],\n",
    "        bw=bw,\n",
    "        label=\"Perfect Information\",\n",
    "    )\n",
    "    sns.rugplot(DF_PF_MOO[obj], height=0.1)\n",
    "\n",
    "    sns.kdeplot(\n",
    "        DF_P4_MPMORDM_results[obj],\n",
    "        bw=bw,\n",
    "        label='Dynamic Uncertainty')\n",
    "    sns.rugplot(DF_P4_MPMORDM_results[obj], height=0.05, color='orange')\n",
    "\n",
    "    #     plt.title(ooi)\n",
    "    plt.xlabel(ooi)\n",
    "\n",
    "    plt.tick_params(\n",
    "        axis='y',  # changes apply to the x-axis\n",
    "        which='both',  # both major and minor ticks are affected\n",
    "        left=False,  # ticks along the bottom edge are off\n",
    "        right=False,  # ticks along the top edge are off\n",
    "        labelleft=False)  # labels along the bottom edge are off\n",
    "\n",
    "    plt.title(\"Gaussian Kernel Density Plot\")\n",
    "    plt.savefig(\"{}/Analysis/KDE{}\".format(case,obj),dpi=600)\n",
    "    plt.show()\n",
    "#     break"
   ]
  },
  {
   "cell_type": "code",
   "execution_count": 72,
   "metadata": {},
   "outputs": [
    {
     "data": {
      "image/png": "[encoded data removed]",
      "text/plain": [
       "<Figure size 432x288 with 1 Axes>"
      ]
     },
     "metadata": {},
     "output_type": "display_data"
    },
    {
     "data": {
      "image/png": "[encoded data removed]",
      "text/plain": [
       "<Figure size 432x288 with 1 Axes>"
      ]
     },
     "metadata": {},
     "output_type": "display_data"
    },
    {
     "data": {
      "image/png": "[encoded data removed]",
      "text/plain": [
       "<Figure size 432x288 with 1 Axes>"
      ]
     },
     "metadata": {},
     "output_type": "display_data"
    },
    {
     "data": {
      "image/png": "[encoded data removed]",
      "text/plain": [
       "<Figure size 432x288 with 1 Axes>"
      ]
     },
     "metadata": {},
     "output_type": "display_data"
    }
   ],
   "source": [
    "for obj in DF_PF_MOO.columns:\n",
    "    plt.hist(\n",
    "        DF_P4_MPMORDM_results[obj].astype(float),\n",
    "        bins=20,\n",
    "        alpha=0.5,\n",
    "        label='Dynamic Uncertainty')\n",
    "    plt.hist(DF_PF_MOO[obj], bins=20, alpha=0.5, label='Perfect Information')\n",
    "    plt.legend(loc='upper right')\n",
    "    plt.title('Distribution {}'.format(obj))\n",
    "    plt.show()"
   ]
  },
  {
   "cell_type": "code",
   "execution_count": 73,
   "metadata": {},
   "outputs": [],
   "source": [
    "a = DF_P4_MPMORDM_results[obj].astype(float)"
   ]
  },
  {
   "cell_type": "code",
   "execution_count": 74,
   "metadata": {
    "scrolled": true
   },
   "outputs": [
    {
     "data": {
      "image/png": "[encoded data removed]",
      "text/plain": [
       "<Figure size 432x288 with 1 Axes>"
      ]
     },
     "metadata": {},
     "output_type": "display_data"
    }
   ],
   "source": [
    "sns.boxplot(a, orient='h',width=0.1)\n",
    "# plt.boxplot(a,vert=False)\n",
    "plt.show()"
   ]
  },
  {
   "cell_type": "code",
   "execution_count": null,
   "metadata": {},
   "outputs": [],
   "source": []
  }
 ],
 "metadata": {
  "kernelspec": {
   "display_name": "Python 3",
   "language": "python",
   "name": "python3"
  },
  "language_info": {
   "codemirror_mode": {
    "name": "ipython",
    "version": 3
   },
   "file_extension": ".py",
   "mimetype": "text/x-python",
   "name": "python",
   "nbconvert_exporter": "python",
   "pygments_lexer": "ipython3",
   "version": "3.6.4"
  },
  "notify_time": "5",
  "toc": {
   "nav_menu": {},
   "number_sections": true,
   "sideBar": true,
   "skip_h1_title": false,
   "title_cell": "Table of Contents",
   "title_sidebar": "Contents",
   "toc_cell": false,
   "toc_position": {},
   "toc_section_display": true,
   "toc_window_display": false
  }
 },
 "nbformat": 4,
 "nbformat_minor": 2
}
